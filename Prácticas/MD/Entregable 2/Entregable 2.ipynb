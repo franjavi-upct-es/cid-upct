{
 "cells": [
  {
   "cell_type": "code",
   "execution_count": 1,
   "metadata": {},
   "outputs": [
    {
     "name": "stdout",
     "output_type": "stream",
     "text": [
      "0\n",
      "1\n",
      "0\n",
      "1\n",
      "1\n",
      "0\n"
     ]
    }
   ],
   "source": [
    "A, B, C, D, E, F = 6,4,9,1,1,0\n",
    "\n",
    "print(A % 3)\n",
    "print(B % 3)\n",
    "print(C % 3)\n",
    "print(D % 4)\n",
    "print(E % 4)\n",
    "print(F % 4)"
   ]
  },
  {
   "cell_type": "code",
   "execution_count": 2,
   "metadata": {},
   "outputs": [
    {
     "data": {
      "text/plain": [
       "(1666, 2280)"
      ]
     },
     "execution_count": 2,
     "metadata": {},
     "output_type": "execute_result"
    }
   ],
   "source": [
    "from sympy.ntheory.modular import solve_congruence\n",
    "\n",
    "solve_congruence((1,15), (2,8), (13,19))"
   ]
  },
  {
   "cell_type": "code",
   "execution_count": 3,
   "metadata": {},
   "outputs": [],
   "source": [
    "from sympy import prevprime\n",
    "\n",
    "p = prevprime(1666)"
   ]
  },
  {
   "cell_type": "code",
   "execution_count": 4,
   "metadata": {},
   "outputs": [],
   "source": [
    "from sympy import Matrix, ones, zeros, diag, Not\n",
    "import networkx as nx\n",
    "import numpy as np\n",
    "\n",
    "# G = nx.Graph(np.ones(5))\n",
    "a = ones(5)"
   ]
  },
  {
   "cell_type": "markdown",
   "metadata": {},
   "source": [
    "- $K$ es un grafo cuyos vértices $V=\\{1,2,3,4,5\\}$\n",
    "- $G = K\\backslash\\{(1,2), (3,4)\\}$, hallar la matriz de adyacencia de $A$"
   ]
  },
  {
   "cell_type": "code",
   "execution_count": 10,
   "metadata": {},
   "outputs": [],
   "source": [
    "from sympy import Matrix, ones\n",
    "\n",
    "A = ones(5,5)\n",
    "A[0,0] = 0\n",
    "A[1,1] = 0\n",
    "A[2,2] = 0\n",
    "A[3,3] = 0\n",
    "A[4,4] = 0\n",
    "A[1,0] = 0\n",
    "A[0,1] = 0\n",
    "A[4,3] = 0\n",
    "A[3,4] = 0\n",
    "\n",
    "x = A + A**2 + A**3 + A**4 + A**5"
   ]
  },
  {
   "cell_type": "code",
   "execution_count": 11,
   "metadata": {},
   "outputs": [
    {
     "data": {
      "text/latex": [
       "$\\displaystyle \\left[\\begin{matrix}87 & 87 & 115 & 98 & 98\\\\87 & 87 & 115 & 98 & 98\\\\115 & 115 & 140 & 115 & 115\\\\98 & 98 & 115 & 87 & 87\\\\98 & 98 & 115 & 87 & 87\\end{matrix}\\right]$"
      ],
      "text/plain": [
       "Matrix([\n",
       "[ 87,  87, 115,  98,  98],\n",
       "[ 87,  87, 115,  98,  98],\n",
       "[115, 115, 140, 115, 115],\n",
       "[ 98,  98, 115,  87,  87],\n",
       "[ 98,  98, 115,  87,  87]])"
      ]
     },
     "execution_count": 11,
     "metadata": {},
     "output_type": "execute_result"
    }
   ],
   "source": [
    "x"
   ]
  },
  {
   "cell_type": "code",
   "execution_count": 12,
   "metadata": {},
   "outputs": [
    {
     "name": "stdout",
     "output_type": "stream",
     "text": [
      "115\n"
     ]
    }
   ],
   "source": [
    "print(x[2,3])"
   ]
  },
  {
   "cell_type": "code",
   "execution_count": 13,
   "metadata": {},
   "outputs": [],
   "source": [
    "from sympy import prime\n",
    "q = prime(5*x[2,3]+1)"
   ]
  },
  {
   "cell_type": "code",
   "execution_count": 14,
   "metadata": {},
   "outputs": [
    {
     "name": "stdout",
     "output_type": "stream",
     "text": [
      "1411 - 159\n",
      "1226 - 352\n"
     ]
    }
   ],
   "source": [
    "n = p * q\n",
    "d = 541\n",
    "\n",
    "print(f\"{4332203**d%n} - {2764513**n%d}\")\n",
    "print(f\"{4932722**d%n} - {3890545**n%d}\")"
   ]
  }
 ],
 "metadata": {
  "kernelspec": {
   "display_name": "base",
   "language": "python",
   "name": "python3"
  },
  "language_info": {
   "codemirror_mode": {
    "name": "ipython",
    "version": 3
   },
   "file_extension": ".py",
   "mimetype": "text/x-python",
   "name": "python",
   "nbconvert_exporter": "python",
   "pygments_lexer": "ipython3",
   "version": "3.9.18"
  }
 },
 "nbformat": 4,
 "nbformat_minor": 2
}
