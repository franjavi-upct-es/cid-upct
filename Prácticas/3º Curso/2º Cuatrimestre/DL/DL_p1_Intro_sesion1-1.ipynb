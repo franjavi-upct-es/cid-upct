{
  "cells": [
    {
      "cell_type": "markdown",
      "id": "fb7193a0",
      "metadata": {
        "papermill": {
          "duration": 0.034817,
          "end_time": "2024-09-10T18:50:25.913835",
          "exception": false,
          "start_time": "2024-09-10T18:50:25.879018",
          "status": "completed"
        },
        "tags": [],
        "id": "fb7193a0"
      },
      "source": [
        "<style>\n",
        "    pre {\n",
        "        white-space: pre-wrap;\n",
        "        word-wrap: break-word;\n",
        "    }\n",
        "</style>\n",
        "\n",
        "<div style=\"display:flex; justify-content:space-around; align-items:center; background-color:#cccccc; padding:5px; border:2px solid #333333;\">\n",
        "    <a href=\"https://estudios.upct.es/grado/5251/inicio\" target=\"_blank\">\n",
        "    <img src=\"https://www.upct.es/contenido/universidad/galeria/identidad-2021/logos/logos-upct/marca-upct/marca-principal/horizontal/azul.png\" alt=\"UPCT\" style=\"height:145px; width:auto;\">\n",
        "    <a href=\"https://www.um.es/web/estudios/grados/ciencia-ingenieria-datos/\" target=\"_blank\">\n",
        "    <img src=\"https://www.um.es/documents/1073494/42130150/LogosimboloUMU-positivo.png\" alt=\"UMU\" style=\"height:200px; width:auto;\">\n",
        "</div>"
      ]
    },
    {
      "cell_type": "markdown",
      "id": "eb30c905",
      "metadata": {
        "papermill": {
          "duration": 0.006835,
          "end_time": "2024-09-10T18:50:25.928004",
          "exception": false,
          "start_time": "2024-09-10T18:50:25.921169",
          "status": "completed"
        },
        "tags": [],
        "id": "eb30c905"
      },
      "source": [
        "# Asignatura: **Deep Learning**\n",
        "\n",
        "## Titulación: **Grado en Ciencia e Ingeniería de Datos**\n",
        "\n",
        "## Práctica 1: Introducción al Deep Learning\n",
        "### **Sesión 1/3: Implementación de modelos de aprendizaje automático**\n",
        "\n",
        "**Autores**: Juan Morales Sánchez, Antonio Martínez Sánchez, José Luís Sancho Gómez y Juan Antonio Botía Blaya\n",
        "\n",
        "___\n",
        "\n",
        "### Objetivos\n",
        "\n",
        "- Familiarización con TensorFlow y Python para *Deep Learning*\n",
        "- Manipulación de datos con tensores\n",
        "- Diseño y configuración de modelos supervisados\n",
        "- Entrenamiento y evaluación de modelos\n",
        "\n",
        "### Contenidos\n",
        "- [Entorno de trabajo](#entorno)\n",
        "- [Marcos para aprendizaje profundo](#librerias)\n",
        "- [Aprendizaje supervisado](#aprendizaje)\n",
        "- [Tensores y manipulación de datos](#tensores)\n",
        "- [La arquitectura de red](#arquitectura)\n",
        "- [Entrenamiento del modelo](#entrenamiento)\n",
        "- [Inferencia o predicciones del modelo](#inferencia)\n",
        "- [Ejercicios](#ejercicios)\n",
        "\n",
        "### Bibliografía\n",
        "- [Deep Learning with Python (segunda edición)](https://www.manning.com/books/deep-learning-with-python-second-edition)\n",
        "- [Dive into Deep Learning](https://d2l.ai/)\n",
        "\n",
        "### Requisitos\n",
        "<a class='anchor' id='requisitos'></a>\n",
        "\n",
        "- [Numpy](https://pypi.org/project/numpy/) (computación numérica)\n",
        "- [Scipy](https://pypi.org/project/scipy/) (computación científica)\n",
        "- [Scikit-learn](https://pypi.org/project/scikit-learn/) (*Machine Learning*)\n",
        "- [Scikit-image](https://pypi.org/project/scikit-image/) (*Image Processing*)\n",
        "- [Matplotlib](https://pypi.org/project/matplotlib/) y [Seaborn](https://pypi.org/project/seaborn/) (visualización de datos)\n",
        "- [Tensorflow](https://www.tensorflow.org/) 2.x que incluye a [Keras](https://www.tensorflow.org/guide/keras) 2.x (*Deep Learning*)\n",
        "\n"
      ]
    },
    {
      "cell_type": "markdown",
      "id": "c849ee22",
      "metadata": {
        "id": "c849ee22"
      },
      "source": [
        "<div style=\"page-break-before: always;\"></div>\n",
        "\n",
        "<a class='anchor' id='entorno'></a>\n",
        "\n",
        "## Entorno de trabajo\n",
        "\n",
        "Se trabajará con notebooks de [Jupyter](https://jupyter.org/install) con código Python empleando como intérprete la última versión de [Miniconda](https://docs.anaconda.com/miniconda/). A continuación se enumeran los pasos a seguir para configurar un entorno virtual de Python adecuado.\n",
        "\n",
        "### Microconda + Visual Studio Code\n",
        "\n",
        "Para instalar miniconda:\n",
        "1. Accede al [repositorio de miniconda](https://repo.anaconda.com/miniconda/).\n",
        "2. Descarga e instala la última version (*latest*) disponible para tu sistema operativo.\n",
        "\n",
        "Para instalar Visual Studio Code:\n",
        "1. Descarga e instala VS Code desde [su sitio web oficial](https://code.visualstudio.com/download).\n",
        "2. Instala las extensiones de Python y Jupyter desde VS Code.\n",
        "\n",
        "### Configuración del entorno virtual\n",
        "1. Abre un nuevo terminal en tu sistema operativo (Linux, Windows o macOS).\n",
        "\n",
        "2. OPCIÓN 1: Crea un nuevo entorno virtual e instala paquetes desde repositorio de ``conda``:\n",
        "   ```bash\n",
        "   conda create --name dl --channel defaults python=3.9\n",
        "   conda activate dl\n",
        "   conda install numpy scipy scikit-learn scikit-image matplotlib seaborn mrcfile ipykernel tensorflow\n",
        "   ```\n",
        "\n",
        "2. OPCIÓN 2: Crea un nuevo entorno virtual e instala paquetes desde repositorio de ``pip`` (preferible si su equipo dispone de una GPU Nvidia):\n",
        "   ```bash\n",
        "   conda create --name dl --channel defaults python=3.9 pip\n",
        "   conda activate dl\n",
        "   pip install numpy scipy scikit-learn scikit-image matplotlib seaborn mrcfile ipykernel tensorflow[and-cuda]\n",
        "   ```\n",
        "\n",
        "3. Para gestionar el entorno, puedes desactivarlo y opcionalmente eliminarlo:\n",
        "   ```bash\n",
        "   conda deactivate\n",
        "   conda env remove --name dl --all\n",
        "   ```\n",
        "\n",
        "\n",
        "\n",
        "*Nota: Tenga en cuenta que [TensorFlow 2.10](https://www.tensorflow.org/install/pip#windows-native) es la última versión de TensorFlow que admite GPU en Windows nativo. A partir de [TensorFlow 2.11](https://www.tensorflow.org/install/pip#windows-wsl2) para utilizar GPU en Windows es necesario instalar TensorFlow sobre WSL2.*\n"
      ]
    },
    {
      "cell_type": "markdown",
      "id": "8dd5f098",
      "metadata": {
        "id": "8dd5f098"
      },
      "source": [
        "<a class='anchor' id='librerias'></a>\n",
        "\n",
        "## Marcos para aprendizaje profundo\n",
        "\n",
        "En la práctica las librerías de código abierto para la construcción y entrenamiento de modelos de aprendizaje profundo resultan ideales para implementar redes neuronales y procesar datos complejos como imágenes y texto.\n",
        "\n",
        "A continuación se resumen en una tabla comparativa las características de las 3 principales iniciativas o marcos de cómputo para *Deep Learning* que cumplen estos requisitos, y que actualmente concentran más de 90% del desarrollo en este campo: [PyTorch](https://pytorch.org/), [TensorFlow](https://www.tensorflow.org/) y [JAX](https://github.com/google/jax).\n",
        "\n",
        "| Aspecto            | [JAX](https://github.com/google/jax)                                                                                                                                         | [TensorFlow](https://www.tensorflow.org/)                                                                                                                                              | [PyTorch](https://pytorch.org/)                                                                                                                                          |\n",
        "|--------------------|---------------------------------------------------------------------------------------------------------------------------------------------------------------------------------------------------------------------|-------------------------------------------------------------------------------------------------------------------------------------------------------------------------------------------------------------------------------|-----------------------------------------------------------------------------------------------------------------------------------------------------------------------------------------------------------------|\n",
        "| **Origen**         | Desarrollado por [Google Research](https://research.google/) (inspirado en [Autograd](https://github.com/HIPS/autograd))                                                                                           | Creado y mantenido por [Google Brain](https://ai.google/research/teams/brain/) (incluye componentes como [Keras](https://keras.io), [TFLite](https://www.tensorflow.org/lite), [TensorFlow.js](https://www.tensorflow.org/js), etc.) | Desarrollado por [Meta AI](https://ai.facebook.com/) (anteriormente Facebook), con apoyo de la comunidad de [GitHub](https://github.com/pytorch/pytorch)                                                       |\n",
        "| **Paradigma**      | Estilo funcional: usa transformaciones como [`jit`](https://jax.readthedocs.io/en/latest/jax.html#jax.jit), [`grad`](https://jax.readthedocs.io/en/latest/jax.html#jax.grad), [`vmap`](https://jax.readthedocs.io/en/latest/jax.html#jax.vmap), etc., sobre sintaxis parecida a [NumPy](https://numpy.org/). | Ejecución imperativa por defecto ([Eager Execution](https://www.tensorflow.org/guide/eager)) y optimizaciones basadas en grafos internos (p. ej., [XLA](https://openxla.org/)).                                 | Ejecución imperativa (dinámica), muy similar a la programación en Python nativo.                                                                                                                               |\n",
        "| **Curva de aprendizaje**   | Moderada: sintaxis de [NumPy](https://numpy.org/) es familiar, pero el paradigma funcional (p. ej., `jit`, `vmap`) puede requerir un cambio de mentalidad.                                                            | Bastante accesible gracias a la integración con [Keras](https://keras.io). En casos avanzados, se puede profundizar en niveles de API más bajos (por ej., `tf.*` a bajo nivel).                                               | Normalmente considerada sencilla, útil para prototipado rápido y depuración, gracias a la ejecución imperativa paso a paso.                                                                                   |\n",
        "| **Rendimiento**    | Muy alto en [GPU](https://developer.nvidia.com/cuda-toolkit) y [TPU](https://cloud.google.com/tpu) gracias a la integración con [XLA](https://openxla.org/).                                                                                            | Excelente rendimiento en GPU y TPU; TensorFlow se integra con [XLA](https://openxla.org/) y ofrece muchas optimizaciones para despliegue en producción ([TensorFlow Serving](https://www.tensorflow.org/tfx/guide/serving), etc.). | Muy buen rendimiento en GPU ([CUDA](https://developer.nvidia.com/cuda-toolkit)). Soporte limitado para TPU (existen iniciativas de la comunidad, pero no un soporte oficial completo).                          |\n",
        "| **Ventajas**       | - Control granular sobre transformaciones y compilación<br>- Sintaxis similar a [NumPy](https://numpy.org/)<br>- Integración potente en [TPU](https://cloud.google.com/tpu).                                       | - Amplio ecosistema ([Keras](https://keras.io), [TFLite](https://www.tensorflow.org/lite), [TensorFlow Serving](https://www.tensorflow.org/tfx/guide/serving), [TensorFlow.js](https://www.tensorflow.org/js), etc.)<br>- Respaldo empresarial<br>- Facilidad de despliegue | - Flujo imperativo muy intuitivo<br>- Amplia adopción en investigación (especialmente en visión, NLP, etc.)<br>- Gran cantidad de ejemplos y repositorios de la comunidad                                      |\n",
        "| **Desventajas**    | - Ecosistema más pequeño que PyTorch/TensorFlow<br>- El enfoque funcional no es tan común y puede ser menos intuitivo para principiantes                                                                            | - Puede ser abrumador por la gran cantidad de documentación y APIs<br>- A veces requiere atención a la versión y a la configuración de entornos (GPU/TPU)                                                                       | - No siempre tan optimizado como TensorFlow en escenarios de producción a gran escala<br>- Soporte oficial para TPU inexistente o muy limitado                                                                 |\n",
        "| **Comunidad y recursos**      | En crecimiento, con proyectos recientes en [GitHub](https://github.com/google/jax) y foros especializados, aunque menor que las de TensorFlow/PyTorch.                                                               | Muy grande, con abundantes recursos de aprendizaje (foros, cursos, documentación oficial, etc.).                                                                                       | Muy activa y enfocada en investigación; gran cantidad de *repos* y tutoriales en [GitHub](https://github.com/pytorch).                                                                                       |\n",
        "\n",
        "\n",
        "En conclusión, se puede afirmar que [PyTorch](https://pytorch.org/) y [TensorFlow](https://www.tensorflow.org/) son hoy por hoy los marcos más utilizadas para *Deep Learning* por diferentes motivos, mientras que [JAX](https://github.com/google/jax) se está abriendo paso especialmente en investigación y proyectos que busquen optimizaciones avanzadas mediante XLA.\n",
        "\n",
        "En las prácticas de esta asignatura nos utilizaremos [TensorFlow](https://www.tensorflow.org/), al considerar que el interfaz de integrado de [Keras](https://keras.io) ofrece la alternativa más accesible para un primer contacto con la implmentación de modelos de aprendizaje automático. Y a largo plazo también parece ofrecer una visión más amplia y completa de posibilidades y usos dentro del ámbito académico y profesional. La experiencia adquirida debería permitir una fácil adaptación a otros entornos como [PyTorch](https://pytorch.org/), e incluso una migración e código bastante directa.\n",
        "\n",
        "\n"
      ]
    },
    {
      "cell_type": "markdown",
      "id": "2505de2b",
      "metadata": {
        "id": "2505de2b"
      },
      "source": [
        "<a class='anchor' id='aprendizaje'></a>\n",
        "\n",
        "## Aprendizaje supervisado\n",
        "\n",
        "El **aprendizaje supervisado** constituye una categoría del aprendizaje automático en la cual se enseña a un modelo a realizar predicciones o clasificaciones basándose en un conjunto de datos etiquetados. Este tipo de aprendizaje se denomina \"supervisado\" porque el proceso de entrenamiento está guiado por una supervisión explícita a través de etiquetas que indican las respuestas correctas.\n",
        "\n",
        "### Tipos de Aprendizaje Supervisado\n",
        "1. **Regresión**: <a class='anchor' id='regresion'></a>\n",
        "   - El objetivo es predecir valores continuos.\n",
        "   - Ejemplo: Predecir el precio de una vivienda en función de sus características.\n",
        "\n",
        "2. **Clasificación**: <a class='anchor' id='clasificacion'></a>\n",
        "   - El objetivo es asignar categorías a las entradas.\n",
        "   - Ejemplo: Clasificar correos electrónicos como \"spam\" o \"no spam\".\n",
        "\n",
        "### Componentes del aprendizaje supervisado\n",
        "1. **Datos de entrenamiento**: <a class='anchor' id='datos'></a>\n",
        "   - Conjunto de ejemplos que incluyen:\n",
        "     - **Entradas** \\(X\\): Características o variables independientes.\n",
        "     - **Etiquetas** \\(Y\\): Salidas esperadas o variables dependientes (valores conocidos).\n",
        "\n",
        "2. **Modelo**: <a class='anchor' id='modelo'></a>\n",
        "   - Una función  f\\(X\\) que el sistema entrena para aproximar la relación entre X y Y.\n",
        "\n",
        "3. **Coste o pérdida (error)**: <a class='anchor' id='coste'></a>\n",
        "   - Una métrica que evalúa lo bien que las predicciones del modelo coinciden con las etiquetas reales.\n",
        "\n",
        "4. **Optimización**: <a class='anchor' id='optimizacion'></a>\n",
        "   - Proceso de ajuste de los parámetros del modelo para minimizar la pérdida mediante algoritmos como el descenso estocástico de gradiente.\n",
        "\n",
        "\n"
      ]
    },
    {
      "cell_type": "code",
      "execution_count": 1,
      "id": "112d2155",
      "metadata": {
        "id": "112d2155",
        "outputId": "1e891710-3bc0-4266-96ff-bf780db4dcb4",
        "colab": {
          "base_uri": "https://localhost:8080/"
        }
      },
      "outputs": [
        {
          "output_type": "stream",
          "name": "stdout",
          "text": [
            "Downloading data from https://storage.googleapis.com/tensorflow/tf-keras-datasets/mnist.npz\n",
            "\u001b[1m11490434/11490434\u001b[0m \u001b[32m━━━━━━━━━━━━━━━━━━━━\u001b[0m\u001b[37m\u001b[0m \u001b[1m0s\u001b[0m 0us/step\n"
          ]
        }
      ],
      "source": [
        "#### Cargando el conjunto de datos MNIST\n",
        "import numpy as np\n",
        "from tensorflow.keras.datasets import mnist\n",
        "(train_images, train_labels), (test_images, test_labels) = mnist.load_data()"
      ]
    },
    {
      "cell_type": "markdown",
      "id": "5434b581",
      "metadata": {
        "id": "5434b581"
      },
      "source": [
        "### Atributos clave de un conjunto de datos: rango, dimensiones y tipo"
      ]
    },
    {
      "cell_type": "code",
      "execution_count": 2,
      "id": "1272a4c9",
      "metadata": {
        "id": "1272a4c9",
        "outputId": "598556db-461e-4785-d414-5384fca01b39",
        "colab": {
          "base_uri": "https://localhost:8080/"
        }
      },
      "outputs": [
        {
          "output_type": "stream",
          "name": "stdout",
          "text": [
            "Rango del tensor del conjunto de entrenamiento:\n",
            " 3\n",
            "Dimensiones del conjunto de entrenamiento [samples x height x width]:\n",
            " (60000, 28, 28)\n",
            "Número de etiquetas del conjunto de entrenamiento:\n",
            " 60000\n",
            "Tipo del conjunto de entrenamiento:\n",
            " <class 'numpy.ndarray'> uint8\n",
            "Tipo de las etiquetas de entrenamiento:\n",
            " <class 'numpy.ndarray'> uint8\n",
            "Rango dinánico de valores del conjunto de entrenamiento:\n",
            " [0, 255]\n",
            "Valores de las etiquetas de entrenamiento:\n",
            " [0 1 2 3 4 5 6 7 8 9]\n",
            "Rango del tensor del conjunto de test:\n",
            " 3\n",
            "Dimensiones del conjunto de test [samples x height x width]:\n",
            " (10000, 28, 28)\n",
            "Número de etiquetas del conjunto de test:\n",
            " 10000\n",
            "Tipo del conjunto de test:\n",
            " <class 'numpy.ndarray'> uint8\n",
            "Tipo de las etiquetas de test:\n",
            " <class 'numpy.ndarray'> uint8\n",
            "Rango dinánico de valores del conjunto de entrenamiento:\n",
            " [0, 255]\n",
            "Valores de las etiquetas de entrenamiento:\n",
            " [0 1 2 3 4 5 6 7 8 9]\n"
          ]
        }
      ],
      "source": [
        "print(\"Rango del tensor del conjunto de entrenamiento:\\n\", train_images.ndim)\n",
        "print(\"Dimensiones del conjunto de entrenamiento [samples x height x width]:\\n\", train_images.shape)\n",
        "print(\"Número de etiquetas del conjunto de entrenamiento:\\n\", len(train_labels))\n",
        "print(\"Tipo del conjunto de entrenamiento:\\n\", type(train_images), train_images.dtype)\n",
        "print(\"Tipo de las etiquetas de entrenamiento:\\n\", type(train_labels), train_labels.dtype)\n",
        "print(\"Rango dinánico de valores del conjunto de entrenamiento:\\n\", [np.min(train_images), np.max(train_images)])\n",
        "print(\"Valores de las etiquetas de entrenamiento:\\n\", np.unique(train_labels))\n",
        "\n",
        "print(\"Rango del tensor del conjunto de test:\\n\", test_images.ndim)\n",
        "print(\"Dimensiones del conjunto de test [samples x height x width]:\\n\", test_images.shape)\n",
        "print(\"Número de etiquetas del conjunto de test:\\n\", len(test_labels))\n",
        "print(\"Tipo del conjunto de test:\\n\", type(test_images), test_images.dtype)\n",
        "print(\"Tipo de las etiquetas de test:\\n\", type(test_labels), test_labels.dtype)\n",
        "print(\"Rango dinánico de valores del conjunto de entrenamiento:\\n\", [np.min(test_images), np.max(test_images)])\n",
        "print(\"Valores de las etiquetas de entrenamiento:\\n\", np.unique(test_labels))"
      ]
    },
    {
      "cell_type": "markdown",
      "id": "55a933ea",
      "metadata": {
        "id": "55a933ea"
      },
      "source": [
        "### Visualización de datos y etiquetas"
      ]
    },
    {
      "cell_type": "code",
      "execution_count": 3,
      "id": "4302eaa2",
      "metadata": {
        "id": "4302eaa2",
        "outputId": "240c3717-1a2f-4608-b754-2cf8ccf6733d",
        "colab": {
          "base_uri": "https://localhost:8080/",
          "height": 391
        }
      },
      "outputs": [
        {
          "output_type": "display_data",
          "data": {
            "text/plain": [
              "<Figure size 500x400 with 1 Axes>"
            ],
            "image/png": "[encoded data removed]"
          },
          "metadata": {}
        }
      ],
      "source": [
        "#### Visualizando el quinta muestra del conjunto de imágenes y su etiqueta asociada\n",
        "import matplotlib.pyplot as plt\n",
        "digit = train_images[4]\n",
        "plt.figure(figsize=(5, 4))\n",
        "plt.imshow(digit, cmap=plt.cm.binary)\n",
        "plt.title(f\"Etiqueta asociada -> {train_labels[4]}\")\n",
        "plt.show()"
      ]
    },
    {
      "cell_type": "markdown",
      "id": "1ad1c64c",
      "metadata": {
        "id": "1ad1c64c"
      },
      "source": [
        "### Acondicionaniento de datos\n",
        "\n",
        "El **acondicionamiento de datos** es una etapa fundamental en el flujo de trabajo del aprendizaje automático y redes neuronales en general. Consiste en preparar los datos para que sean compatibles con los modelos y para mejorar el rendimiento y estabilidad del entrenamiento. Esta preparación incluye varias operaciones que ajustan los datos a los formatos, rangos o estructuras requeridas. Entre las operaciones típicas que podemos englobar dentro de esta categoría se encuentran habitualmente:\n",
        "\n",
        "1. **Normalización de datos**:\n",
        "   - Escalar los valores de las características a un rango común, como [0, 1] ó [-1, 1].\n",
        "   - Ejemplo: Dividir los valores de píxel de imágenes (en el rango 0-255) por 255 para normalizarlos entre [0, 1].\n",
        "   - Beneficio:\n",
        "     - Mejora la estabilidad del modelo.\n",
        "     - Acelera la convergencia durante el entrenamiento.\n",
        "\n",
        "2. **Aplanamiento de dimensiones**:\n",
        "   - Transformar datos multidimensionales en vectores unidimensionales.\n",
        "   - Ejemplo: Imágenes 2D (28x28 píxeles) a un vector de 784 elementos para alimentarlas en capas densas.\n",
        "   - Beneficio:\n",
        "     - Permite la entrada de datos a modelos que requieren estructuras lineales.\n",
        "\n",
        "3. **Conversión de tipo de datos**:\n",
        "   - Cambiar el tipo de los datos o las etiquetas, como de enteros (`int`, `uint`) a coma flotante (`float`).\n",
        "   - Ejemplo: Convertir etiquetas categóricas a `float32` para cálculos numéricos.\n",
        "   - Beneficio:\n",
        "     - Asegura compatibilidad con el diseño del modelo.\n",
        "\n",
        "\n"
      ]
    },
    {
      "cell_type": "code",
      "execution_count": 4,
      "id": "06125d32",
      "metadata": {
        "id": "06125d32",
        "outputId": "ea5cf309-f42b-47fb-ee4d-a02b82565966",
        "colab": {
          "base_uri": "https://localhost:8080/"
        }
      },
      "outputs": [
        {
          "output_type": "stream",
          "name": "stdout",
          "text": [
            "Rango del tensor del conjunto de entrenamiento:\n",
            " 2\n",
            "Dimensiones del conjunto de entrenamiento [samples x height x width]:\n",
            " (60000, 784)\n",
            "Número de etiquetas del conjunto de entrenamiento:\n",
            " 60000\n",
            "Tipo del conjunto de entrenamiento:\n",
            " <class 'numpy.ndarray'> float32\n",
            "Tipo de las etiquetas de entrenamiento:\n",
            " <class 'numpy.ndarray'> uint8\n",
            "Rango dinánico de valores del conjunto de entrenamiento:\n",
            " [0.0, 1.0]\n",
            "Valores de las etiquetas de entrenamiento:\n",
            " [0 1 2 3 4 5 6 7 8 9]\n",
            "Rango del tensor del conjunto de test:\n",
            " 2\n",
            "Dimensiones del conjunto de test [samples x height x width]:\n",
            " (10000, 784)\n",
            "Número de etiquetas del conjunto de test:\n",
            " 10000\n",
            "Tipo del conjunto de test:\n",
            " <class 'numpy.ndarray'> float32\n",
            "Tipo de las etiquetas de test:\n",
            " <class 'numpy.ndarray'> uint8\n",
            "Rango dinánico de valores del conjunto de entrenamiento:\n",
            " [0.0, 1.0]\n",
            "Valores de las etiquetas de entrenamiento:\n",
            " [0 1 2 3 4 5 6 7 8 9]\n"
          ]
        }
      ],
      "source": [
        "train_images = train_images.reshape((60000, 28 * 28))  # Aplanamiento\n",
        "train_images = train_images.astype(\"float32\") / 255  # Normalización + tipo flotante\n",
        "test_images = test_images.reshape((10000, 28 * 28))  # Aplanamiento\n",
        "test_images = test_images.astype(\"float32\") / 255  # Normalización + tipo flotante\n",
        "\n",
        "print(\"Rango del tensor del conjunto de entrenamiento:\\n\", train_images.ndim)\n",
        "print(\"Dimensiones del conjunto de entrenamiento [samples x height x width]:\\n\", train_images.shape)\n",
        "print(\"Número de etiquetas del conjunto de entrenamiento:\\n\", len(train_labels))\n",
        "print(\"Tipo del conjunto de entrenamiento:\\n\", type(train_images), train_images.dtype)\n",
        "print(\"Tipo de las etiquetas de entrenamiento:\\n\", type(train_labels), train_labels.dtype)\n",
        "print(\"Rango dinánico de valores del conjunto de entrenamiento:\\n\", [np.min(train_images), np.max(train_images)])\n",
        "print(\"Valores de las etiquetas de entrenamiento:\\n\", np.unique(train_labels))\n",
        "\n",
        "print(\"Rango del tensor del conjunto de test:\\n\", test_images.ndim)\n",
        "print(\"Dimensiones del conjunto de test [samples x height x width]:\\n\", test_images.shape)\n",
        "print(\"Número de etiquetas del conjunto de test:\\n\", len(test_labels))\n",
        "print(\"Tipo del conjunto de test:\\n\", type(test_images), test_images.dtype)\n",
        "print(\"Tipo de las etiquetas de test:\\n\", type(test_labels), test_labels.dtype)\n",
        "print(\"Rango dinánico de valores del conjunto de entrenamiento:\\n\", [np.min(test_images), np.max(test_images)])\n",
        "print(\"Valores de las etiquetas de entrenamiento:\\n\", np.unique(test_labels))"
      ]
    },
    {
      "cell_type": "markdown",
      "id": "33f24ca0",
      "metadata": {
        "id": "33f24ca0"
      },
      "source": [
        "### Noción de lote de datos\n",
        "\n",
        "Recordemos en primer lugar que una **época** es un ciclo completo en el que el modelo procesa todo el conjunto de datos de entrenamiento una vez. Durante una época, el modelo utiliza todos los ejemplos del conjunto de datos para calcular los gradientes y ajustar los pesos. Por otra parte, y a lo largo de cada época, un **lote de datos** (*batch*) es un subconjunto del conjunto de datos de entrenamiento que el modelo procesa en cada iteración del entrenamiento.\n",
        "\n",
        "Por tanto, en lugar de procesar todos los datos de entrenamiento de una vez en cada época, se dividen en pequeños grupos (lotes), y el modelo ajusta sus parámetros utilizando únicamente los datos del lote actual (*Mini-Batch Training*). Algunas de las ventajas del uso de lotes de datos son:\n",
        "\n",
        "1. **Eficiencia computacional**:\n",
        "   - Procesar datos en lotes aprovecha la computación paralela de GPUs/TPUs.\n",
        "2. **Mejor estimación del gradiente**:\n",
        "   - Mini-batches ofrecen un compromiso entre ruido y precisión en el cálculo del gradiente.\n",
        "3. **Eficiencia del uso de memoria**:\n",
        "   - Los lotes permiten entrenar con conjuntos de datos grandes sin necesidad de cargar todo el conjunto en memoria."
      ]
    },
    {
      "cell_type": "code",
      "execution_count": 5,
      "id": "aa5d2548",
      "metadata": {
        "id": "aa5d2548",
        "outputId": "bb6c753d-ebdc-4825-e727-c99f7d1aef81",
        "colab": {
          "base_uri": "https://localhost:8080/"
        }
      },
      "outputs": [
        {
          "output_type": "stream",
          "name": "stdout",
          "text": [
            "Dimensiones del lote de datos [samples x length]:\n",
            " (128, 784)\n",
            "Dimensiones del lote de etiquetas [samples]:\n",
            " 128\n"
          ]
        }
      ],
      "source": [
        "n = 3 # lote número 3\n",
        "batch_size = 128 # tamaño del lote\n",
        "batch = train_images[batch_size * n:batch_size * (n + 1)]\n",
        "label_batch = train_labels[batch_size * n:batch_size * (n + 1)]\n",
        "print(\"Dimensiones del lote de datos [samples x length]:\\n\", batch.shape)\n",
        "print(\"Dimensiones del lote de etiquetas [samples]:\\n\", len(label_batch))"
      ]
    },
    {
      "cell_type": "markdown",
      "id": "0b3686ef",
      "metadata": {
        "id": "0b3686ef"
      },
      "source": [
        "<a class='anchor' id='arquitectura'></a>\n",
        "\n",
        "## La arquitectura de red\n",
        "\n",
        "La **arquitectura de red** refleja la estructura y diseño de una red neuronal, incluyendo las capas, cómo están conectadas, los tipos de operaciones que realizan y los hiperparámetros asociados. Es una especificación que define cómo se organiza la red para procesar datos y alcanzar predicciones.\n",
        "\n",
        "La arquitectura influye directamente en la capacidad del modelo para aprender patrones de los datos. Elegir la arquitectura correcta es el primer requisito para un buen rendimiento del modelo y su capacidad de generalización. Algunos componentes claves de la arquitectura de red son:\n",
        "\n",
        "1. **Capas**:\n",
        "   - Agrupación de operaciones de un determinado tipo, que transforman los datos desde la entrada hasta la salida.\n",
        "   - Ejemplo:\n",
        "     - Capas densas (*fully connected*).\n",
        "     - Capas convolucionales (*convolutional layers*).\n",
        "     - Capas recurrentes (*recurrent layers*).\n",
        "\n",
        "2. **Neuronas por capa**:\n",
        "   - El número de neuronas determina la capacidad de cada capa para reconocer patrones. El número de capas y la cantidad de neuronas de cada capa determina el número total de parámetros o pesos entrenables del modelo.\n",
        "\n",
        "3. **Funciones de activación**:\n",
        "   - Introducen no linealidades para que la red pueda aprender relaciones complejas.\n",
        "   - Ejemplo: `ReLU`, `sigmoid`, `tanh`.\n",
        "\n",
        "4. **Conexiones entre capas**:\n",
        "   - Puede fluir solo hacía delante (*feedforward*) o incluir retroalimentación (como en redes recurrentes).\n",
        "\n",
        "5. **Hiperparámetros**:\n",
        "   - Aspectos configurables de la red, como el número de capas, tamaño del lote, tasa de aprendizaje, etc.\n",
        "\n",
        "\n",
        "Existen varias formas de definir la arquitectura de un modelo de aprendizaje automático en TensorFlow:"
      ]
    },
    {
      "cell_type": "code",
      "execution_count": 6,
      "id": "5c5442f9",
      "metadata": {
        "id": "5c5442f9",
        "outputId": "2543c4e3-9700-4f36-b3c4-5b551b31c5a9",
        "colab": {
          "base_uri": "https://localhost:8080/",
          "height": 668
        }
      },
      "outputs": [
        {
          "output_type": "stream",
          "name": "stderr",
          "text": [
            "/usr/local/lib/python3.11/dist-packages/keras/src/layers/core/dense.py:87: UserWarning: Do not pass an `input_shape`/`input_dim` argument to a layer. When using Sequential models, prefer using an `Input(shape)` object as the first layer in the model instead.\n",
            "  super().__init__(activity_regularizer=activity_regularizer, **kwargs)\n"
          ]
        },
        {
          "output_type": "display_data",
          "data": {
            "text/plain": [
              "\u001b[1mModel: \"sequential\"\u001b[0m\n"
            ],
            "text/html": [
              "<pre style=\"white-space:pre;overflow-x:auto;line-height:normal;font-family:Menlo,'DejaVu Sans Mono',consolas,'Courier New',monospace\"><span style=\"font-weight: bold\">Model: \"sequential\"</span>\n",
              "</pre>\n"
            ]
          },
          "metadata": {}
        },
        {
          "output_type": "display_data",
          "data": {
            "text/plain": [
              "┏━━━━━━━━━━━━━━━━━━━━━━━━━━━━━━━━━━━━━━┳━━━━━━━━━━━━━━━━━━━━━━━━━━━━━┳━━━━━━━━━━━━━━━━━┓\n",
              "┃\u001b[1m \u001b[0m\u001b[1mLayer (type)                        \u001b[0m\u001b[1m \u001b[0m┃\u001b[1m \u001b[0m\u001b[1mOutput Shape               \u001b[0m\u001b[1m \u001b[0m┃\u001b[1m \u001b[0m\u001b[1m        Param #\u001b[0m\u001b[1m \u001b[0m┃\n",
              "┡━━━━━━━━━━━━━━━━━━━━━━━━━━━━━━━━━━━━━━╇━━━━━━━━━━━━━━━━━━━━━━━━━━━━━╇━━━━━━━━━━━━━━━━━┩\n",
              "│ dense (\u001b[38;5;33mDense\u001b[0m)                        │ (\u001b[38;5;45mNone\u001b[0m, \u001b[38;5;34m512\u001b[0m)                 │         \u001b[38;5;34m401,920\u001b[0m │\n",
              "├──────────────────────────────────────┼─────────────────────────────┼─────────────────┤\n",
              "│ dense_1 (\u001b[38;5;33mDense\u001b[0m)                      │ (\u001b[38;5;45mNone\u001b[0m, \u001b[38;5;34m10\u001b[0m)                  │           \u001b[38;5;34m5,130\u001b[0m │\n",
              "└──────────────────────────────────────┴─────────────────────────────┴─────────────────┘\n"
            ],
            "text/html": [
              "<pre style=\"white-space:pre;overflow-x:auto;line-height:normal;font-family:Menlo,'DejaVu Sans Mono',consolas,'Courier New',monospace\">┏━━━━━━━━━━━━━━━━━━━━━━━━━━━━━━━━━━━━━━┳━━━━━━━━━━━━━━━━━━━━━━━━━━━━━┳━━━━━━━━━━━━━━━━━┓\n",
              "┃<span style=\"font-weight: bold\"> Layer (type)                         </span>┃<span style=\"font-weight: bold\"> Output Shape                </span>┃<span style=\"font-weight: bold\">         Param # </span>┃\n",
              "┡━━━━━━━━━━━━━━━━━━━━━━━━━━━━━━━━━━━━━━╇━━━━━━━━━━━━━━━━━━━━━━━━━━━━━╇━━━━━━━━━━━━━━━━━┩\n",
              "│ dense (<span style=\"color: #0087ff; text-decoration-color: #0087ff\">Dense</span>)                        │ (<span style=\"color: #00d7ff; text-decoration-color: #00d7ff\">None</span>, <span style=\"color: #00af00; text-decoration-color: #00af00\">512</span>)                 │         <span style=\"color: #00af00; text-decoration-color: #00af00\">401,920</span> │\n",
              "├──────────────────────────────────────┼─────────────────────────────┼─────────────────┤\n",
              "│ dense_1 (<span style=\"color: #0087ff; text-decoration-color: #0087ff\">Dense</span>)                      │ (<span style=\"color: #00d7ff; text-decoration-color: #00d7ff\">None</span>, <span style=\"color: #00af00; text-decoration-color: #00af00\">10</span>)                  │           <span style=\"color: #00af00; text-decoration-color: #00af00\">5,130</span> │\n",
              "└──────────────────────────────────────┴─────────────────────────────┴─────────────────┘\n",
              "</pre>\n"
            ]
          },
          "metadata": {}
        },
        {
          "output_type": "display_data",
          "data": {
            "text/plain": [
              "\u001b[1m Total params: \u001b[0m\u001b[38;5;34m407,050\u001b[0m (1.55 MB)\n"
            ],
            "text/html": [
              "<pre style=\"white-space:pre;overflow-x:auto;line-height:normal;font-family:Menlo,'DejaVu Sans Mono',consolas,'Courier New',monospace\"><span style=\"font-weight: bold\"> Total params: </span><span style=\"color: #00af00; text-decoration-color: #00af00\">407,050</span> (1.55 MB)\n",
              "</pre>\n"
            ]
          },
          "metadata": {}
        },
        {
          "output_type": "display_data",
          "data": {
            "text/plain": [
              "\u001b[1m Trainable params: \u001b[0m\u001b[38;5;34m407,050\u001b[0m (1.55 MB)\n"
            ],
            "text/html": [
              "<pre style=\"white-space:pre;overflow-x:auto;line-height:normal;font-family:Menlo,'DejaVu Sans Mono',consolas,'Courier New',monospace\"><span style=\"font-weight: bold\"> Trainable params: </span><span style=\"color: #00af00; text-decoration-color: #00af00\">407,050</span> (1.55 MB)\n",
              "</pre>\n"
            ]
          },
          "metadata": {}
        },
        {
          "output_type": "display_data",
          "data": {
            "text/plain": [
              "\u001b[1m Non-trainable params: \u001b[0m\u001b[38;5;34m0\u001b[0m (0.00 B)\n"
            ],
            "text/html": [
              "<pre style=\"white-space:pre;overflow-x:auto;line-height:normal;font-family:Menlo,'DejaVu Sans Mono',consolas,'Courier New',monospace\"><span style=\"font-weight: bold\"> Non-trainable params: </span><span style=\"color: #00af00; text-decoration-color: #00af00\">0</span> (0.00 B)\n",
              "</pre>\n"
            ]
          },
          "metadata": {}
        },
        {
          "output_type": "display_data",
          "data": {
            "text/plain": [
              "\u001b[1mModel: \"sequential_1\"\u001b[0m\n"
            ],
            "text/html": [
              "<pre style=\"white-space:pre;overflow-x:auto;line-height:normal;font-family:Menlo,'DejaVu Sans Mono',consolas,'Courier New',monospace\"><span style=\"font-weight: bold\">Model: \"sequential_1\"</span>\n",
              "</pre>\n"
            ]
          },
          "metadata": {}
        },
        {
          "output_type": "display_data",
          "data": {
            "text/plain": [
              "┏━━━━━━━━━━━━━━━━━━━━━━━━━━━━━━━━━━━━━━┳━━━━━━━━━━━━━━━━━━━━━━━━━━━━━┳━━━━━━━━━━━━━━━━━┓\n",
              "┃\u001b[1m \u001b[0m\u001b[1mLayer (type)                        \u001b[0m\u001b[1m \u001b[0m┃\u001b[1m \u001b[0m\u001b[1mOutput Shape               \u001b[0m\u001b[1m \u001b[0m┃\u001b[1m \u001b[0m\u001b[1m        Param #\u001b[0m\u001b[1m \u001b[0m┃\n",
              "┡━━━━━━━━━━━━━━━━━━━━━━━━━━━━━━━━━━━━━━╇━━━━━━━━━━━━━━━━━━━━━━━━━━━━━╇━━━━━━━━━━━━━━━━━┩\n",
              "│ dense_2 (\u001b[38;5;33mDense\u001b[0m)                      │ (\u001b[38;5;45mNone\u001b[0m, \u001b[38;5;34m512\u001b[0m)                 │         \u001b[38;5;34m401,920\u001b[0m │\n",
              "├──────────────────────────────────────┼─────────────────────────────┼─────────────────┤\n",
              "│ dense_3 (\u001b[38;5;33mDense\u001b[0m)                      │ (\u001b[38;5;45mNone\u001b[0m, \u001b[38;5;34m10\u001b[0m)                  │           \u001b[38;5;34m5,130\u001b[0m │\n",
              "└──────────────────────────────────────┴─────────────────────────────┴─────────────────┘\n"
            ],
            "text/html": [
              "<pre style=\"white-space:pre;overflow-x:auto;line-height:normal;font-family:Menlo,'DejaVu Sans Mono',consolas,'Courier New',monospace\">┏━━━━━━━━━━━━━━━━━━━━━━━━━━━━━━━━━━━━━━┳━━━━━━━━━━━━━━━━━━━━━━━━━━━━━┳━━━━━━━━━━━━━━━━━┓\n",
              "┃<span style=\"font-weight: bold\"> Layer (type)                         </span>┃<span style=\"font-weight: bold\"> Output Shape                </span>┃<span style=\"font-weight: bold\">         Param # </span>┃\n",
              "┡━━━━━━━━━━━━━━━━━━━━━━━━━━━━━━━━━━━━━━╇━━━━━━━━━━━━━━━━━━━━━━━━━━━━━╇━━━━━━━━━━━━━━━━━┩\n",
              "│ dense_2 (<span style=\"color: #0087ff; text-decoration-color: #0087ff\">Dense</span>)                      │ (<span style=\"color: #00d7ff; text-decoration-color: #00d7ff\">None</span>, <span style=\"color: #00af00; text-decoration-color: #00af00\">512</span>)                 │         <span style=\"color: #00af00; text-decoration-color: #00af00\">401,920</span> │\n",
              "├──────────────────────────────────────┼─────────────────────────────┼─────────────────┤\n",
              "│ dense_3 (<span style=\"color: #0087ff; text-decoration-color: #0087ff\">Dense</span>)                      │ (<span style=\"color: #00d7ff; text-decoration-color: #00d7ff\">None</span>, <span style=\"color: #00af00; text-decoration-color: #00af00\">10</span>)                  │           <span style=\"color: #00af00; text-decoration-color: #00af00\">5,130</span> │\n",
              "└──────────────────────────────────────┴─────────────────────────────┴─────────────────┘\n",
              "</pre>\n"
            ]
          },
          "metadata": {}
        },
        {
          "output_type": "display_data",
          "data": {
            "text/plain": [
              "\u001b[1m Total params: \u001b[0m\u001b[38;5;34m407,050\u001b[0m (1.55 MB)\n"
            ],
            "text/html": [
              "<pre style=\"white-space:pre;overflow-x:auto;line-height:normal;font-family:Menlo,'DejaVu Sans Mono',consolas,'Courier New',monospace\"><span style=\"font-weight: bold\"> Total params: </span><span style=\"color: #00af00; text-decoration-color: #00af00\">407,050</span> (1.55 MB)\n",
              "</pre>\n"
            ]
          },
          "metadata": {}
        },
        {
          "output_type": "display_data",
          "data": {
            "text/plain": [
              "\u001b[1m Trainable params: \u001b[0m\u001b[38;5;34m407,050\u001b[0m (1.55 MB)\n"
            ],
            "text/html": [
              "<pre style=\"white-space:pre;overflow-x:auto;line-height:normal;font-family:Menlo,'DejaVu Sans Mono',consolas,'Courier New',monospace\"><span style=\"font-weight: bold\"> Trainable params: </span><span style=\"color: #00af00; text-decoration-color: #00af00\">407,050</span> (1.55 MB)\n",
              "</pre>\n"
            ]
          },
          "metadata": {}
        },
        {
          "output_type": "display_data",
          "data": {
            "text/plain": [
              "\u001b[1m Non-trainable params: \u001b[0m\u001b[38;5;34m0\u001b[0m (0.00 B)\n"
            ],
            "text/html": [
              "<pre style=\"white-space:pre;overflow-x:auto;line-height:normal;font-family:Menlo,'DejaVu Sans Mono',consolas,'Courier New',monospace\"><span style=\"font-weight: bold\"> Non-trainable params: </span><span style=\"color: #00af00; text-decoration-color: #00af00\">0</span> (0.00 B)\n",
              "</pre>\n"
            ]
          },
          "metadata": {}
        },
        {
          "output_type": "display_data",
          "data": {
            "text/plain": [
              "\u001b[1mModel: \"functional_3\"\u001b[0m\n"
            ],
            "text/html": [
              "<pre style=\"white-space:pre;overflow-x:auto;line-height:normal;font-family:Menlo,'DejaVu Sans Mono',consolas,'Courier New',monospace\"><span style=\"font-weight: bold\">Model: \"functional_3\"</span>\n",
              "</pre>\n"
            ]
          },
          "metadata": {}
        },
        {
          "output_type": "display_data",
          "data": {
            "text/plain": [
              "┏━━━━━━━━━━━━━━━━━━━━━━━━━━━━━━━━━━━━━━┳━━━━━━━━━━━━━━━━━━━━━━━━━━━━━┳━━━━━━━━━━━━━━━━━┓\n",
              "┃\u001b[1m \u001b[0m\u001b[1mLayer (type)                        \u001b[0m\u001b[1m \u001b[0m┃\u001b[1m \u001b[0m\u001b[1mOutput Shape               \u001b[0m\u001b[1m \u001b[0m┃\u001b[1m \u001b[0m\u001b[1m        Param #\u001b[0m\u001b[1m \u001b[0m┃\n",
              "┡━━━━━━━━━━━━━━━━━━━━━━━━━━━━━━━━━━━━━━╇━━━━━━━━━━━━━━━━━━━━━━━━━━━━━╇━━━━━━━━━━━━━━━━━┩\n",
              "│ input_layer_2 (\u001b[38;5;33mInputLayer\u001b[0m)           │ (\u001b[38;5;45mNone\u001b[0m, \u001b[38;5;34m784\u001b[0m)                 │               \u001b[38;5;34m0\u001b[0m │\n",
              "├──────────────────────────────────────┼─────────────────────────────┼─────────────────┤\n",
              "│ dense_4 (\u001b[38;5;33mDense\u001b[0m)                      │ (\u001b[38;5;45mNone\u001b[0m, \u001b[38;5;34m512\u001b[0m)                 │         \u001b[38;5;34m401,920\u001b[0m │\n",
              "├──────────────────────────────────────┼─────────────────────────────┼─────────────────┤\n",
              "│ dense_5 (\u001b[38;5;33mDense\u001b[0m)                      │ (\u001b[38;5;45mNone\u001b[0m, \u001b[38;5;34m10\u001b[0m)                  │           \u001b[38;5;34m5,130\u001b[0m │\n",
              "└──────────────────────────────────────┴─────────────────────────────┴─────────────────┘\n"
            ],
            "text/html": [
              "<pre style=\"white-space:pre;overflow-x:auto;line-height:normal;font-family:Menlo,'DejaVu Sans Mono',consolas,'Courier New',monospace\">┏━━━━━━━━━━━━━━━━━━━━━━━━━━━━━━━━━━━━━━┳━━━━━━━━━━━━━━━━━━━━━━━━━━━━━┳━━━━━━━━━━━━━━━━━┓\n",
              "┃<span style=\"font-weight: bold\"> Layer (type)                         </span>┃<span style=\"font-weight: bold\"> Output Shape                </span>┃<span style=\"font-weight: bold\">         Param # </span>┃\n",
              "┡━━━━━━━━━━━━━━━━━━━━━━━━━━━━━━━━━━━━━━╇━━━━━━━━━━━━━━━━━━━━━━━━━━━━━╇━━━━━━━━━━━━━━━━━┩\n",
              "│ input_layer_2 (<span style=\"color: #0087ff; text-decoration-color: #0087ff\">InputLayer</span>)           │ (<span style=\"color: #00d7ff; text-decoration-color: #00d7ff\">None</span>, <span style=\"color: #00af00; text-decoration-color: #00af00\">784</span>)                 │               <span style=\"color: #00af00; text-decoration-color: #00af00\">0</span> │\n",
              "├──────────────────────────────────────┼─────────────────────────────┼─────────────────┤\n",
              "│ dense_4 (<span style=\"color: #0087ff; text-decoration-color: #0087ff\">Dense</span>)                      │ (<span style=\"color: #00d7ff; text-decoration-color: #00d7ff\">None</span>, <span style=\"color: #00af00; text-decoration-color: #00af00\">512</span>)                 │         <span style=\"color: #00af00; text-decoration-color: #00af00\">401,920</span> │\n",
              "├──────────────────────────────────────┼─────────────────────────────┼─────────────────┤\n",
              "│ dense_5 (<span style=\"color: #0087ff; text-decoration-color: #0087ff\">Dense</span>)                      │ (<span style=\"color: #00d7ff; text-decoration-color: #00d7ff\">None</span>, <span style=\"color: #00af00; text-decoration-color: #00af00\">10</span>)                  │           <span style=\"color: #00af00; text-decoration-color: #00af00\">5,130</span> │\n",
              "└──────────────────────────────────────┴─────────────────────────────┴─────────────────┘\n",
              "</pre>\n"
            ]
          },
          "metadata": {}
        },
        {
          "output_type": "display_data",
          "data": {
            "text/plain": [
              "\u001b[1m Total params: \u001b[0m\u001b[38;5;34m407,050\u001b[0m (1.55 MB)\n"
            ],
            "text/html": [
              "<pre style=\"white-space:pre;overflow-x:auto;line-height:normal;font-family:Menlo,'DejaVu Sans Mono',consolas,'Courier New',monospace\"><span style=\"font-weight: bold\"> Total params: </span><span style=\"color: #00af00; text-decoration-color: #00af00\">407,050</span> (1.55 MB)\n",
              "</pre>\n"
            ]
          },
          "metadata": {}
        },
        {
          "output_type": "display_data",
          "data": {
            "text/plain": [
              "\u001b[1m Trainable params: \u001b[0m\u001b[38;5;34m407,050\u001b[0m (1.55 MB)\n"
            ],
            "text/html": [
              "<pre style=\"white-space:pre;overflow-x:auto;line-height:normal;font-family:Menlo,'DejaVu Sans Mono',consolas,'Courier New',monospace\"><span style=\"font-weight: bold\"> Trainable params: </span><span style=\"color: #00af00; text-decoration-color: #00af00\">407,050</span> (1.55 MB)\n",
              "</pre>\n"
            ]
          },
          "metadata": {}
        },
        {
          "output_type": "display_data",
          "data": {
            "text/plain": [
              "\u001b[1m Non-trainable params: \u001b[0m\u001b[38;5;34m0\u001b[0m (0.00 B)\n"
            ],
            "text/html": [
              "<pre style=\"white-space:pre;overflow-x:auto;line-height:normal;font-family:Menlo,'DejaVu Sans Mono',consolas,'Courier New',monospace\"><span style=\"font-weight: bold\"> Non-trainable params: </span><span style=\"color: #00af00; text-decoration-color: #00af00\">0</span> (0.00 B)\n",
              "</pre>\n"
            ]
          },
          "metadata": {}
        }
      ],
      "source": [
        "# Definición secuencial (opción 1)\n",
        "from tensorflow import keras\n",
        "from tensorflow.keras import layers, Sequential, Model\n",
        "model = Sequential([\n",
        "    layers.Dense(512, activation=\"relu\", input_shape=(28 * 28, )), # capa oculta\n",
        "    layers.Dense(10, activation=\"softmax\") # capa de salida\n",
        "])\n",
        "model.summary()\n",
        "\n",
        "# Definición secuencial (opción 2)\n",
        "model = Sequential()\n",
        "model.add(layers.Dense(512, activation=\"relu\", input_shape=(28 * 28, ))) # capa oculta\n",
        "model.add(layers.Dense(10, activation=\"softmax\")) # capa de salida\n",
        "model.summary()\n",
        "\n",
        "# Definición funcional\n",
        "input_layer = layers.Input(shape=(28 * 28, ))  # Capa de entrada\n",
        "hidden_layer = layers.Dense(512, activation=\"relu\")(input_layer)  # Capa oculta\n",
        "output_layer = layers.Dense(10, activation=\"softmax\")(hidden_layer)  # Capa de salida\n",
        "model = Model(inputs=input_layer, outputs=output_layer)\n",
        "model.summary()"
      ]
    },
    {
      "cell_type": "markdown",
      "id": "d25a96a7",
      "metadata": {
        "id": "d25a96a7"
      },
      "source": [
        "Observa que con una definición ``Sequential`` del modelo la ``InputLayer`` no aparece en el resumen, incluso si se incluye explícitamente. En ``Functional``, siempre aparece porque la entrada es explícita como parte del diseño del modelo. Esto sucede porque en el flujo típico de ``Sequential`` la capa de entrada se infiere automáticamente a partir de los datos proporcionados en la primera capa, y no se considera como una capa separada en el grafo de computación, si no como parte del flujo de datos implícito, lo cual es más simple y resulta óptimo para arquitecturas convencionales, en particular aquellas que tienen una sola entrada."
      ]
    },
    {
      "cell_type": "markdown",
      "id": "7291fc93",
      "metadata": {
        "id": "7291fc93"
      },
      "source": [
        "### Configurar el modelo para el aprendizaje\n",
        "\n",
        "La configuración y compilación del modelo conlleva definir las siguientes componentes claves:\n",
        "\n",
        "   - **Función de coste o pérdida**:\n",
        "     - Establece una métrica para valorar lo bien/mal que está prediciendo el modelo.\n",
        "     - Ejemplo: `mean squared error` para regresión, `categorical crossentropy` para clasificación.\n",
        "   - **Optimizador**:\n",
        "     - Algoritmo que ajusta los parámetros del modelo para minimizar la pérdida.\n",
        "     - Ejemplo: `Adam`, `SGD`.\n",
        "   - **Métricas adicionales**:\n",
        "     - Evalúan las prestaciones del modelo durante el entrenamiento y la validación.\n",
        "     - Ejemplo: precisión (`accuracy`), error absoluto medio (`MAE`).\n"
      ]
    },
    {
      "cell_type": "code",
      "execution_count": 7,
      "id": "986412bc",
      "metadata": {
        "id": "986412bc"
      },
      "outputs": [],
      "source": [
        "model.compile(\n",
        "    optimizer='rmsprop',                       # Optimizador\n",
        "    loss='sparse_categorical_crossentropy',    # Función de pérdida\n",
        "    metrics=['accuracy']                       # Métrica\n",
        ")"
      ]
    },
    {
      "cell_type": "markdown",
      "id": "c0d55d48",
      "metadata": {
        "id": "c0d55d48"
      },
      "source": [
        "<a class='anchor' id='entrenamiento'></a>\n",
        "\n",
        "## Entrenamiento del modelo\n",
        "\n",
        "El método `fit` de TensorFlow es una función fundamental en la API de Keras que entrena un modelo de aprendizaje profundo utilizando un conjunto de datos. Este método ejecuta el proceso de entrenamiento, integrando todas las fases necesarias: cálculo de pérdidas, optimización, y evaluación de métricas.\n",
        "\n",
        "Al llamar al método `fit`, TensorFlow sigue estos pasos:\n",
        "\n",
        "1. **Preparación del entrenamiento**:\n",
        "   - Verifica que el modelo esté correctamente compilado con:\n",
        "     - Una función de pérdida (`loss`).\n",
        "     - Un optimizador (`optimizer`).\n",
        "     - Opcionalmente, métricas (`metrics`) para evaluar las prestaciones.\n",
        "\n",
        "2. **Procesamiento de los datos**:\n",
        "   - Divide los datos en lotes según el tamaño definido en `batch_size`.\n",
        "   - Si se emplea validación, separa una parte de los datos para evaluación.\n",
        "\n",
        "3. **Bucle de entrenamiento**:\n",
        "   Para cada época:\n",
        "   - **Paso hacia adelante (*forward pass*)**:\n",
        "     - Calcula las predicciones del modelo para un lote de datos.\n",
        "   - **Cálculo de la pérdida**:\n",
        "     - Compara las predicciones con las etiquetas reales usando la función de pérdida.\n",
        "   - **Paso hacia atrás (*backward pass*)**:\n",
        "     - Calcula los gradientes de los parámetros del modelo con respecto a la pérdida.\n",
        "   - **Actualización de los pesos**:\n",
        "     - Ajusta los pesos del modelo utilizando el optimizador configurado.\n",
        "\n",
        "4. **Validación (opcional)**:\n",
        "   - Al final de cada época, evalúa el modelo en el conjunto de validación.\n",
        "\n",
        "5. **Almacenamiento de resultados**:\n",
        "   - Guarda métricas como la pérdida y otras definidas en `metrics` para cada época.\n",
        "\n",
        "El método `fit` devuelve un histórico (objeto `history`) que contiene un registro de las prestaciones del modelo durante el entrenamiento, mediante un diccionario con las métricas por época (`loss`, `mae`, `val_loss`, etc.). Además `fit` es compatible con `callbacks` para personalizar y extender el entrenamiento."
      ]
    },
    {
      "cell_type": "code",
      "execution_count": 8,
      "id": "f2ad398d",
      "metadata": {
        "id": "f2ad398d",
        "outputId": "d6378778-9b60-4022-c502-898e2f114f4b",
        "colab": {
          "base_uri": "https://localhost:8080/"
        }
      },
      "outputs": [
        {
          "output_type": "stream",
          "name": "stdout",
          "text": [
            "Epoch 1/5\n",
            "\u001b[1m938/938\u001b[0m \u001b[32m━━━━━━━━━━━━━━━━━━━━\u001b[0m\u001b[37m\u001b[0m \u001b[1m9s\u001b[0m 7ms/step - accuracy: 0.8932 - loss: 0.3659\n",
            "Epoch 2/5\n",
            "\u001b[1m938/938\u001b[0m \u001b[32m━━━━━━━━━━━━━━━━━━━━\u001b[0m\u001b[37m\u001b[0m \u001b[1m9s\u001b[0m 9ms/step - accuracy: 0.9712 - loss: 0.0959\n",
            "Epoch 3/5\n",
            "\u001b[1m938/938\u001b[0m \u001b[32m━━━━━━━━━━━━━━━━━━━━\u001b[0m\u001b[37m\u001b[0m \u001b[1m11s\u001b[0m 11ms/step - accuracy: 0.9822 - loss: 0.0587\n",
            "Epoch 4/5\n",
            "\u001b[1m938/938\u001b[0m \u001b[32m━━━━━━━━━━━━━━━━━━━━\u001b[0m\u001b[37m\u001b[0m \u001b[1m19s\u001b[0m 10ms/step - accuracy: 0.9866 - loss: 0.0434\n",
            "Epoch 5/5\n",
            "\u001b[1m938/938\u001b[0m \u001b[32m━━━━━━━━━━━━━━━━━━━━\u001b[0m\u001b[37m\u001b[0m \u001b[1m8s\u001b[0m 7ms/step - accuracy: 0.9910 - loss: 0.0294\n"
          ]
        }
      ],
      "source": [
        "history = model.fit(\n",
        "    train_images, train_labels, # datos y etiquetas de entrenamiento\n",
        "    epochs=5,               # Número de épocas\n",
        "    batch_size=64           # Tamaño del lote\n",
        ")"
      ]
    },
    {
      "cell_type": "markdown",
      "id": "c1a35868",
      "metadata": {
        "id": "c1a35868"
      },
      "source": [
        "<a class='anchor' id='inferencia'></a>\n",
        "\n",
        "## Inferencia o predicciones del modelo\n",
        "\n",
        "El método `predict` de TensorFlow en la API de Keras se utiliza para realizar **inferencia** con un modelo ya entrenado. Es decir, genera predicciones a partir de nuevos datos de entrada, aplicando únicamente la fase de **propagación hacia adelante** (*forward pass*), sin actualizar los pesos del modelo, es decir realiza los siguientes pasos:\n",
        "\n",
        "1. **Propagación hacia adelante**:\n",
        "   - Toma los datos de entrada y los pasa a través de las capas del modelo.\n",
        "   - Realiza todas las operaciones definidas en el modelo, como multiplicaciones de tensores, funciones de activación y normalización.\n",
        "\n",
        "2. **Cálculo de las salidas**:\n",
        "   - Produce una salida en función de las configuraciones del modelo:\n",
        "     - Para problemas de regresión, devuelve valores continuos: el valor estimado por el modelo basado en los datos de entrada.\n",
        "     - Para problemas de clasificación, devuelve probabilidades de cada clase (si la última capa es una función `softmax`). Normalmente se elige la clase con mayor probabilidad para obtener las clases predichas (`np.argmax(y_pred, axis=-1)`).\n",
        "\n",
        "3. **Agrupación en lotes (opcional)**:\n",
        "   - Divide los datos en lotes si el conjunto de datos es grande, para optimizar el uso de memoria.\n"
      ]
    },
    {
      "cell_type": "code",
      "execution_count": 9,
      "id": "d20bac2c",
      "metadata": {
        "id": "d20bac2c",
        "outputId": "786bbe7a-5299-468d-cbe7-067b3868dca2",
        "colab": {
          "base_uri": "https://localhost:8080/"
        }
      },
      "outputs": [
        {
          "output_type": "stream",
          "name": "stdout",
          "text": [
            "\u001b[1m1/1\u001b[0m \u001b[32m━━━━━━━━━━━━━━━━━━━━\u001b[0m\u001b[37m\u001b[0m \u001b[1m0s\u001b[0m 55ms/step\n",
            "Etiqueta: 7, Predicción: 7\n",
            "Etiqueta: 2, Predicción: 2\n",
            "Etiqueta: 1, Predicción: 1\n",
            "Etiqueta: 0, Predicción: 0\n",
            "Etiqueta: 4, Predicción: 4\n",
            "Etiqueta: 1, Predicción: 1\n",
            "Etiqueta: 4, Predicción: 4\n",
            "Etiqueta: 9, Predicción: 9\n",
            "Etiqueta: 5, Predicción: 5\n",
            "Etiqueta: 9, Predicción: 9\n",
            "Etiqueta: 0, Predicción: 0\n",
            "Etiqueta: 6, Predicción: 6\n",
            "Etiqueta: 9, Predicción: 9\n",
            "Etiqueta: 0, Predicción: 0\n",
            "Etiqueta: 1, Predicción: 1\n",
            "Etiqueta: 5, Predicción: 5\n",
            "Etiqueta: 9, Predicción: 9\n",
            "Etiqueta: 7, Predicción: 7\n",
            "Etiqueta: 3, Predicción: 3\n",
            "Etiqueta: 4, Predicción: 4\n"
          ]
        }
      ],
      "source": [
        "test_digits = test_images[0:20]\n",
        "predictions = model.predict(test_digits) # probabilidades de clase (one hot encoding)\n",
        "predictions = predictions.argmax(axis=-1) # clase de mayor probabilidad\n",
        "\n",
        "for i, pred in enumerate(predictions):\n",
        "    print(f\"Etiqueta: {test_labels[i]}, Predicción: {pred}\")\n"
      ]
    },
    {
      "cell_type": "markdown",
      "id": "a961daa4",
      "metadata": {
        "id": "a961daa4"
      },
      "source": [
        "<a class='anchor' id='evaluacion'></a>\n",
        "\n",
        "### Evaluación del modelo\n",
        "\n",
        "La función `evaluate` de TensorFlow en la API de Keras evalúa el modelo entrenado en un conjunto de datos específico, calculando la pérdida y las métricas definidas durante la compilación del modelo. Es una forma de medir el rendimiento del modelo, ya sea en datos de validación o de test, sin modificar los parámetros del modelo. Conlleva la siguiente secuencia:\n",
        "\n",
        "1. **Propagación hacia adelante (*forward pass*)**:\n",
        "   - Pasa los datos de entrada a través del modelo para generar predicciones.\n",
        "\n",
        "2. **Cálculo de la pérdida**:\n",
        "   - Compara las predicciones con las etiquetas reales utilizando la función de pérdida definida.\n",
        "\n",
        "3. **Cálculo de métricas**:\n",
        "   - Evalúa las métricas configuradas al compilar el modelo, como precisión, MAE, etc.\n",
        "\n",
        "4. **Agrupación en lotes (opcional)**:\n",
        "   - Si el conjunto de datos es grande, divide los datos en lotes para optimizar el uso de memoria.\n",
        "\n",
        "5. **Promedio de resultados**:\n",
        "   - Calcula la pérdida y las métricas promedio en todos los lotes."
      ]
    },
    {
      "cell_type": "code",
      "execution_count": 10,
      "id": "9c898419",
      "metadata": {
        "id": "9c898419",
        "outputId": "42516202-02c3-4a4f-c458-57a88135a2b2",
        "colab": {
          "base_uri": "https://localhost:8080/"
        }
      },
      "outputs": [
        {
          "output_type": "stream",
          "name": "stdout",
          "text": [
            "\u001b[1m313/313\u001b[0m \u001b[32m━━━━━━━━━━━━━━━━━━━━\u001b[0m\u001b[37m\u001b[0m \u001b[1m1s\u001b[0m 2ms/step - accuracy: 0.9764 - loss: 0.0916\n",
            "test_acc: 0.9792\n"
          ]
        }
      ],
      "source": [
        "test_loss, test_acc = model.evaluate(test_images, test_labels)\n",
        "print(f\"test_acc: {test_acc:.4f}\")"
      ]
    },
    {
      "cell_type": "markdown",
      "id": "bc48e003",
      "metadata": {
        "id": "bc48e003"
      },
      "source": [
        "<a class='anchor' id='ejercicios'></a>\n",
        "\n",
        "## Ejercicios\n",
        "\n",
        "**E1:** Crear un modelo de clasificación binaria para predecir si la suma de dos números es mayor a 1 usando un conjunto de datos sintético.\n",
        "\n",
        "   - Se generan 1000 muestras con dos características cada una (`x_data`).\n",
        "   - La etiqueta (`y_data`) es `1` si la suma de las dos características es mayor que 1, y `0` en caso contrario.\n",
        "      - Ejemplo:\n",
        "         - Entrada: `[0.6, 0.7]` → Suma: `1.3` → Etiqueta: `1`.\n",
        "         - Entrada: `[0.3, 0.2]` → Suma: `0.5` → Etiqueta: `0`.\n",
        "\n",
        "   - Se divide el conjunto en entrenamiento (80%) y prueba (20%).\n",
        "\n",
        "   - Construir una red neuronal con dos capas:\n",
        "     - Capa oculta: 64 neuronas y función de activación `relu`.\n",
        "     - Capa de salida: 1 neurona con activación `sigmoid` para obtener una probabilidad entre 0 y 1 (para clasificación binaria).\n",
        "\n",
        "   - Optimizador: `adam`, que ajusta los pesos durante el entrenamiento.\n",
        "   - Pérdida: `binary_crossentropy`, que es adecuada para problemas de clasificación binaria.\n",
        "   - Métrica: `accuracy`, que mide el porcentaje de predicciones correctas.\n",
        "\n",
        "   - Se entrena en el conjunto de entrenamiento durante 30 épocas con un tamaño de lote de 32.\n",
        "   - Utiliza el 20% de los datos de entrenamiento como conjunto de validación para monitorear el rendimiento.\n",
        "\n",
        "   - El modelo se evalúa en el conjunto de prueba, calculando la pérdida y la precisión.\n",
        "\n",
        "   - Se realizan predicciones en nuevas muestras (`x_sample`).\n",
        "   - La salida del modelo son probabilidades (valores entre 0 y 1), y se convierten en clases (`0` o `1`) comparando con un umbral de 0.5.\n",
        "      - Ejemplo:\n",
        "         - Entrada: `[0.6, 0.6]` → Probabilidad: `0.95` → Clase: `1`.\n",
        "\n",
        "**E2:** Cambiar el tamaño de la red (número de neuronas o capas) y analizar el impacto.\n",
        "\n",
        "**E3:** Probar diferentes funciones de activación y analizar el impacto.\n",
        "\n",
        "\n",
        "\n",
        "**E4:** Crear un modelo de regresión para predecir la suma de dos números usando un conjunto de datos sintético..\n",
        "\n",
        "   - Se generan números aleatorios para las entradas ``x_1`` y ``x_2``, separándolo un 30% de ellos para test.\n",
        "   - Las etiquetas ``y`` son la suma de ``x_1 + x_2``.\n",
        "\n",
        "   - Una red neuronal simple con:\n",
        "     - Una capa oculta de 64 neuronas con activación ReLU.\n",
        "     - Una capa de salida con 1 neurona (regresión).\n",
        "\n",
        "   - Optimización con Adam.\n",
        "   - Pérdida: `mse` (error cuadrático medio), adecuada para problemas de regresión.\n",
        "   - Métrica: `mae` (error absoluto medio), que mide la desviación promedio.\n",
        "\n",
        "   - Se entrena el modelo durante 20 épocas con un tamaño de lote de 32.\n",
        "   - El 20% de los datos se reserva para validación en el entrenamiento.\n",
        "\n",
        "   - El modelo se evalúa en el conjunto de test no visto durante el entrenamiento.\n",
        "\n",
        "   - Se realiza inferencia con nuevas muestras para verificar el rendimiento del modelo, por ejemplo para una entrada como `[0.3, 0.7]`, la salida debería estar cerca de `1.0`.\n",
        "\n",
        "**E5:** Cambiar el tamaño del conjunto de datos y analizar el impacto.\n",
        "\n",
        "**E6:** Aumentar la complejidad del problema (por ejemplo, usando ruido en las etiquetas).\n"
      ]
    },
    {
      "cell_type": "code",
      "execution_count": 11,
      "id": "ac13faeb",
      "metadata": {
        "id": "ac13faeb",
        "outputId": "96f38bc4-d0a8-48e7-e5ce-8d8a5ec60656",
        "colab": {
          "base_uri": "https://localhost:8080/"
        }
      },
      "outputs": [
        {
          "output_type": "stream",
          "name": "stdout",
          "text": [
            "Epoch 1/30\n"
          ]
        },
        {
          "output_type": "stream",
          "name": "stderr",
          "text": [
            "/usr/local/lib/python3.11/dist-packages/keras/src/layers/core/dense.py:87: UserWarning: Do not pass an `input_shape`/`input_dim` argument to a layer. When using Sequential models, prefer using an `Input(shape)` object as the first layer in the model instead.\n",
            "  super().__init__(activity_regularizer=activity_regularizer, **kwargs)\n"
          ]
        },
        {
          "output_type": "stream",
          "name": "stdout",
          "text": [
            "\u001b[1m20/20\u001b[0m \u001b[32m━━━━━━━━━━━━━━━━━━━━\u001b[0m\u001b[37m\u001b[0m \u001b[1m1s\u001b[0m 11ms/step - accuracy: 0.4974 - loss: 0.6668 - val_accuracy: 0.5938 - val_loss: 0.6376\n",
            "Epoch 2/30\n",
            "\u001b[1m20/20\u001b[0m \u001b[32m━━━━━━━━━━━━━━━━━━━━\u001b[0m\u001b[37m\u001b[0m \u001b[1m0s\u001b[0m 4ms/step - accuracy: 0.5253 - loss: 0.6520 - val_accuracy: 0.6187 - val_loss: 0.6224\n",
            "Epoch 3/30\n",
            "\u001b[1m20/20\u001b[0m \u001b[32m━━━━━━━━━━━━━━━━━━━━\u001b[0m\u001b[37m\u001b[0m \u001b[1m0s\u001b[0m 3ms/step - accuracy: 0.5847 - loss: 0.6315 - val_accuracy: 0.6438 - val_loss: 0.6071\n",
            "Epoch 4/30\n",
            "\u001b[1m20/20\u001b[0m \u001b[32m━━━━━━━━━━━━━━━━━━━━\u001b[0m\u001b[37m\u001b[0m \u001b[1m0s\u001b[0m 3ms/step - accuracy: 0.5954 - loss: 0.6231 - val_accuracy: 0.6625 - val_loss: 0.5916\n",
            "Epoch 5/30\n",
            "\u001b[1m20/20\u001b[0m \u001b[32m━━━━━━━━━━━━━━━━━━━━\u001b[0m\u001b[37m\u001b[0m \u001b[1m0s\u001b[0m 3ms/step - accuracy: 0.6433 - loss: 0.6004 - val_accuracy: 0.6750 - val_loss: 0.5754\n",
            "Epoch 6/30\n",
            "\u001b[1m20/20\u001b[0m \u001b[32m━━━━━━━━━━━━━━━━━━━━\u001b[0m\u001b[37m\u001b[0m \u001b[1m0s\u001b[0m 3ms/step - accuracy: 0.6782 - loss: 0.5948 - val_accuracy: 0.7063 - val_loss: 0.5594\n",
            "Epoch 7/30\n",
            "\u001b[1m20/20\u001b[0m \u001b[32m━━━━━━━━━━━━━━━━━━━━\u001b[0m\u001b[37m\u001b[0m \u001b[1m0s\u001b[0m 4ms/step - accuracy: 0.7143 - loss: 0.5758 - val_accuracy: 0.7625 - val_loss: 0.5399\n",
            "Epoch 8/30\n",
            "\u001b[1m20/20\u001b[0m \u001b[32m━━━━━━━━━━━━━━━━━━━━\u001b[0m\u001b[37m\u001b[0m \u001b[1m0s\u001b[0m 3ms/step - accuracy: 0.7714 - loss: 0.5477 - val_accuracy: 0.8000 - val_loss: 0.5198\n",
            "Epoch 9/30\n",
            "\u001b[1m20/20\u001b[0m \u001b[32m━━━━━━━━━━━━━━━━━━━━\u001b[0m\u001b[37m\u001b[0m \u001b[1m0s\u001b[0m 3ms/step - accuracy: 0.7654 - loss: 0.5456 - val_accuracy: 0.8188 - val_loss: 0.5013\n",
            "Epoch 10/30\n",
            "\u001b[1m20/20\u001b[0m \u001b[32m━━━━━━━━━━━━━━━━━━━━\u001b[0m\u001b[37m\u001b[0m \u001b[1m0s\u001b[0m 4ms/step - accuracy: 0.8167 - loss: 0.5010 - val_accuracy: 0.8188 - val_loss: 0.4779\n",
            "Epoch 11/30\n",
            "\u001b[1m20/20\u001b[0m \u001b[32m━━━━━━━━━━━━━━━━━━━━\u001b[0m\u001b[37m\u001b[0m \u001b[1m0s\u001b[0m 3ms/step - accuracy: 0.8404 - loss: 0.4847 - val_accuracy: 0.9062 - val_loss: 0.4601\n",
            "Epoch 12/30\n",
            "\u001b[1m20/20\u001b[0m \u001b[32m━━━━━━━━━━━━━━━━━━━━\u001b[0m\u001b[37m\u001b[0m \u001b[1m0s\u001b[0m 3ms/step - accuracy: 0.8780 - loss: 0.4604 - val_accuracy: 0.9062 - val_loss: 0.4384\n",
            "Epoch 13/30\n",
            "\u001b[1m20/20\u001b[0m \u001b[32m━━━━━━━━━━━━━━━━━━━━\u001b[0m\u001b[37m\u001b[0m \u001b[1m0s\u001b[0m 4ms/step - accuracy: 0.8971 - loss: 0.4406 - val_accuracy: 0.9250 - val_loss: 0.4180\n",
            "Epoch 14/30\n",
            "\u001b[1m20/20\u001b[0m \u001b[32m━━━━━━━━━━━━━━━━━━━━\u001b[0m\u001b[37m\u001b[0m \u001b[1m0s\u001b[0m 3ms/step - accuracy: 0.9270 - loss: 0.4167 - val_accuracy: 0.9375 - val_loss: 0.3968\n",
            "Epoch 15/30\n",
            "\u001b[1m20/20\u001b[0m \u001b[32m━━━━━━━━━━━━━━━━━━━━\u001b[0m\u001b[37m\u001b[0m \u001b[1m0s\u001b[0m 3ms/step - accuracy: 0.9258 - loss: 0.3933 - val_accuracy: 0.9500 - val_loss: 0.3787\n",
            "Epoch 16/30\n",
            "\u001b[1m20/20\u001b[0m \u001b[32m━━━━━━━━━━━━━━━━━━━━\u001b[0m\u001b[37m\u001b[0m \u001b[1m0s\u001b[0m 3ms/step - accuracy: 0.9227 - loss: 0.3759 - val_accuracy: 0.9563 - val_loss: 0.3590\n",
            "Epoch 17/30\n",
            "\u001b[1m20/20\u001b[0m \u001b[32m━━━━━━━━━━━━━━━━━━━━\u001b[0m\u001b[37m\u001b[0m \u001b[1m0s\u001b[0m 4ms/step - accuracy: 0.9399 - loss: 0.3523 - val_accuracy: 0.9625 - val_loss: 0.3411\n",
            "Epoch 18/30\n",
            "\u001b[1m20/20\u001b[0m \u001b[32m━━━━━━━━━━━━━━━━━━━━\u001b[0m\u001b[37m\u001b[0m \u001b[1m0s\u001b[0m 4ms/step - accuracy: 0.9526 - loss: 0.3403 - val_accuracy: 0.9688 - val_loss: 0.3255\n",
            "Epoch 19/30\n",
            "\u001b[1m20/20\u001b[0m \u001b[32m━━━━━━━━━━━━━━━━━━━━\u001b[0m\u001b[37m\u001b[0m \u001b[1m0s\u001b[0m 3ms/step - accuracy: 0.9489 - loss: 0.3242 - val_accuracy: 0.9625 - val_loss: 0.3072\n",
            "Epoch 20/30\n",
            "\u001b[1m20/20\u001b[0m \u001b[32m━━━━━━━━━━━━━━━━━━━━\u001b[0m\u001b[37m\u001b[0m \u001b[1m0s\u001b[0m 3ms/step - accuracy: 0.9499 - loss: 0.3169 - val_accuracy: 0.9688 - val_loss: 0.2954\n",
            "Epoch 21/30\n",
            "\u001b[1m20/20\u001b[0m \u001b[32m━━━━━━━━━━━━━━━━━━━━\u001b[0m\u001b[37m\u001b[0m \u001b[1m0s\u001b[0m 3ms/step - accuracy: 0.9668 - loss: 0.2994 - val_accuracy: 0.9750 - val_loss: 0.2816\n",
            "Epoch 22/30\n",
            "\u001b[1m20/20\u001b[0m \u001b[32m━━━━━━━━━━━━━━━━━━━━\u001b[0m\u001b[37m\u001b[0m \u001b[1m0s\u001b[0m 5ms/step - accuracy: 0.9460 - loss: 0.2882 - val_accuracy: 0.9750 - val_loss: 0.2677\n",
            "Epoch 23/30\n",
            "\u001b[1m20/20\u001b[0m \u001b[32m━━━━━━━━━━━━━━━━━━━━\u001b[0m\u001b[37m\u001b[0m \u001b[1m0s\u001b[0m 5ms/step - accuracy: 0.9634 - loss: 0.2753 - val_accuracy: 0.9812 - val_loss: 0.2575\n",
            "Epoch 24/30\n",
            "\u001b[1m20/20\u001b[0m \u001b[32m━━━━━━━━━━━━━━━━━━━━\u001b[0m\u001b[37m\u001b[0m \u001b[1m0s\u001b[0m 4ms/step - accuracy: 0.9679 - loss: 0.2629 - val_accuracy: 0.9875 - val_loss: 0.2483\n",
            "Epoch 25/30\n",
            "\u001b[1m20/20\u001b[0m \u001b[32m━━━━━━━━━━━━━━━━━━━━\u001b[0m\u001b[37m\u001b[0m \u001b[1m0s\u001b[0m 5ms/step - accuracy: 0.9718 - loss: 0.2579 - val_accuracy: 0.9875 - val_loss: 0.2375\n",
            "Epoch 26/30\n",
            "\u001b[1m20/20\u001b[0m \u001b[32m━━━━━━━━━━━━━━━━━━━━\u001b[0m\u001b[37m\u001b[0m \u001b[1m0s\u001b[0m 5ms/step - accuracy: 0.9726 - loss: 0.2314 - val_accuracy: 0.9875 - val_loss: 0.2294\n",
            "Epoch 27/30\n",
            "\u001b[1m20/20\u001b[0m \u001b[32m━━━━━━━━━━━━━━━━━━━━\u001b[0m\u001b[37m\u001b[0m \u001b[1m0s\u001b[0m 4ms/step - accuracy: 0.9781 - loss: 0.2328 - val_accuracy: 0.9875 - val_loss: 0.2207\n",
            "Epoch 28/30\n",
            "\u001b[1m20/20\u001b[0m \u001b[32m━━━━━━━━━━━━━━━━━━━━\u001b[0m\u001b[37m\u001b[0m \u001b[1m0s\u001b[0m 5ms/step - accuracy: 0.9861 - loss: 0.2182 - val_accuracy: 0.9875 - val_loss: 0.2144\n",
            "Epoch 29/30\n",
            "\u001b[1m20/20\u001b[0m \u001b[32m━━━━━━━━━━━━━━━━━━━━\u001b[0m\u001b[37m\u001b[0m \u001b[1m0s\u001b[0m 4ms/step - accuracy: 0.9793 - loss: 0.2263 - val_accuracy: 0.9875 - val_loss: 0.2072\n",
            "Epoch 30/30\n",
            "\u001b[1m20/20\u001b[0m \u001b[32m━━━━━━━━━━━━━━━━━━━━\u001b[0m\u001b[37m\u001b[0m \u001b[1m0s\u001b[0m 5ms/step - accuracy: 0.9843 - loss: 0.2227 - val_accuracy: 0.9875 - val_loss: 0.2010\n",
            "\u001b[1m7/7\u001b[0m \u001b[32m━━━━━━━━━━━━━━━━━━━━\u001b[0m\u001b[37m\u001b[0m \u001b[1m0s\u001b[0m 3ms/step - accuracy: 0.9761 - loss: 0.1980  \n",
            "Pérdida en el conjunto de prueba: 0.19665588438510895\n",
            "Precisión en el conjunto de prueba: 0.9800000190734863\n",
            "\u001b[1m1/1\u001b[0m \u001b[32m━━━━━━━━━━━━━━━━━━━━\u001b[0m\u001b[37m\u001b[0m \u001b[1m0s\u001b[0m 61ms/step\n",
            "Entrada: [0.6 0.6] → Probabilidad: 0.82 → Clase: 1\n",
            "Entrada: [0.3 0.2] → Probabilidad: 0.04 → Clase: 0\n"
          ]
        }
      ],
      "source": [
        "# E1\n",
        "import numpy as np\n",
        "from sklearn.model_selection import train_test_split\n",
        "from tensorflow.keras.models import Sequential\n",
        "from tensorflow.keras.layers import Dense\n",
        "from tensorflow.keras.optimizers import Adam\n",
        "\n",
        "# Generar datos sintéticos\n",
        "np.random.seed(42)\n",
        "x_data = np.random.rand(1000, 2)\n",
        "y_data = (np.sum(x_data, axis=1) > 1).astype(int)\n",
        "\n",
        "# Dividir el conjunto de datos en entrenamiento (80%) y prueba (20%)\n",
        "x_train, x_test, y_train, y_test = train_test_split(x_data, y_data, test_size=0.2, random_state=42)\n",
        "\n",
        "# Construir el modelo\n",
        "model = Sequential([\n",
        "    Dense(64, activation=\"relu\", input_shape=(2,)),\n",
        "    Dense(1, activation=\"sigmoid\")\n",
        "])\n",
        "\n",
        "# Compilar el modelo\n",
        "model.compile(optimizer=Adam(), loss=\"binary_crossentropy\", metrics=[\"accuracy\"])\n",
        "\n",
        "# Entrenar el modelo\n",
        "history = model.fit(x_train, y_train, epochs=30, batch_size=32, validation_split=0.2)\n",
        "\n",
        "loss, accuracy = model.evaluate(x_test, y_test)\n",
        "print(f\"Pérdida en el conjunto de prueba: {loss}\")\n",
        "print(f\"Precisión en el conjunto de prueba: {accuracy}\")\n",
        "\n",
        "# Nuevas pruebas para predicción\n",
        "x_sample = np.array([[0.6, 0.6], [0.3, 0.2]])\n",
        "\n",
        "# Realizar predicciones\n",
        "probabilidades = model.predict(x_sample)\n",
        "clases = (probabilidades > 0.5).astype(int)\n",
        "\n",
        "# Mostrar resultados\n",
        "for i, sample in enumerate(x_sample):\n",
        "    print(f\"Entrada: {sample} → Probabilidad: {probabilidades[i][0]:.2f} → Clase: {clases[i][0]}\")\n"
      ]
    },
    {
      "cell_type": "code",
      "execution_count": 12,
      "id": "3e3c133a",
      "metadata": {
        "id": "3e3c133a",
        "outputId": "bb80cb45-1d2a-45ab-d561-e3e4406580c9",
        "colab": {
          "base_uri": "https://localhost:8080/"
        }
      },
      "outputs": [
        {
          "output_type": "stream",
          "name": "stdout",
          "text": [
            "Epoch 1/30\n",
            "\u001b[1m20/20\u001b[0m \u001b[32m━━━━━━━━━━━━━━━━━━━━\u001b[0m\u001b[37m\u001b[0m \u001b[1m2s\u001b[0m 12ms/step - accuracy: 0.4702 - loss: 0.7191 - val_accuracy: 0.2375 - val_loss: 0.7043\n",
            "Epoch 2/30\n",
            "\u001b[1m20/20\u001b[0m \u001b[32m━━━━━━━━━━━━━━━━━━━━\u001b[0m\u001b[37m\u001b[0m \u001b[1m0s\u001b[0m 3ms/step - accuracy: 0.3898 - loss: 0.6965 - val_accuracy: 0.5625 - val_loss: 0.6816\n",
            "Epoch 3/30\n",
            "\u001b[1m20/20\u001b[0m \u001b[32m━━━━━━━━━━━━━━━━━━━━\u001b[0m\u001b[37m\u001b[0m \u001b[1m0s\u001b[0m 3ms/step - accuracy: 0.4916 - loss: 0.6841 - val_accuracy: 0.5813 - val_loss: 0.6651\n",
            "Epoch 4/30\n",
            "\u001b[1m20/20\u001b[0m \u001b[32m━━━━━━━━━━━━━━━━━━━━\u001b[0m\u001b[37m\u001b[0m \u001b[1m0s\u001b[0m 3ms/step - accuracy: 0.5004 - loss: 0.6707 - val_accuracy: 0.5813 - val_loss: 0.6522\n",
            "Epoch 5/30\n",
            "\u001b[1m20/20\u001b[0m \u001b[32m━━━━━━━━━━━━━━━━━━━━\u001b[0m\u001b[37m\u001b[0m \u001b[1m0s\u001b[0m 4ms/step - accuracy: 0.5125 - loss: 0.6623 - val_accuracy: 0.6062 - val_loss: 0.6403\n",
            "Epoch 6/30\n",
            "\u001b[1m20/20\u001b[0m \u001b[32m━━━━━━━━━━━━━━━━━━━━\u001b[0m\u001b[37m\u001b[0m \u001b[1m0s\u001b[0m 3ms/step - accuracy: 0.5301 - loss: 0.6593 - val_accuracy: 0.6438 - val_loss: 0.6298\n",
            "Epoch 7/30\n",
            "\u001b[1m20/20\u001b[0m \u001b[32m━━━━━━━━━━━━━━━━━━━━\u001b[0m\u001b[37m\u001b[0m \u001b[1m0s\u001b[0m 3ms/step - accuracy: 0.5876 - loss: 0.6436 - val_accuracy: 0.6687 - val_loss: 0.6190\n",
            "Epoch 8/30\n",
            "\u001b[1m20/20\u001b[0m \u001b[32m━━━━━━━━━━━━━━━━━━━━\u001b[0m\u001b[37m\u001b[0m \u001b[1m0s\u001b[0m 4ms/step - accuracy: 0.6552 - loss: 0.6341 - val_accuracy: 0.6812 - val_loss: 0.6079\n",
            "Epoch 9/30\n",
            "\u001b[1m20/20\u001b[0m \u001b[32m━━━━━━━━━━━━━━━━━━━━\u001b[0m\u001b[37m\u001b[0m \u001b[1m0s\u001b[0m 3ms/step - accuracy: 0.6779 - loss: 0.6197 - val_accuracy: 0.7000 - val_loss: 0.5965\n",
            "Epoch 10/30\n",
            "\u001b[1m20/20\u001b[0m \u001b[32m━━━━━━━━━━━━━━━━━━━━\u001b[0m\u001b[37m\u001b[0m \u001b[1m0s\u001b[0m 3ms/step - accuracy: 0.7491 - loss: 0.6039 - val_accuracy: 0.7563 - val_loss: 0.5837\n",
            "Epoch 11/30\n",
            "\u001b[1m20/20\u001b[0m \u001b[32m━━━━━━━━━━━━━━━━━━━━\u001b[0m\u001b[37m\u001b[0m \u001b[1m0s\u001b[0m 4ms/step - accuracy: 0.7523 - loss: 0.5947 - val_accuracy: 0.8125 - val_loss: 0.5715\n",
            "Epoch 12/30\n",
            "\u001b[1m20/20\u001b[0m \u001b[32m━━━━━━━━━━━━━━━━━━━━\u001b[0m\u001b[37m\u001b[0m \u001b[1m0s\u001b[0m 3ms/step - accuracy: 0.7946 - loss: 0.5854 - val_accuracy: 0.8375 - val_loss: 0.5579\n",
            "Epoch 13/30\n",
            "\u001b[1m20/20\u001b[0m \u001b[32m━━━━━━━━━━━━━━━━━━━━\u001b[0m\u001b[37m\u001b[0m \u001b[1m0s\u001b[0m 3ms/step - accuracy: 0.8027 - loss: 0.5655 - val_accuracy: 0.8438 - val_loss: 0.5442\n",
            "Epoch 14/30\n",
            "\u001b[1m20/20\u001b[0m \u001b[32m━━━━━━━━━━━━━━━━━━━━\u001b[0m\u001b[37m\u001b[0m \u001b[1m0s\u001b[0m 3ms/step - accuracy: 0.8119 - loss: 0.5535 - val_accuracy: 0.8625 - val_loss: 0.5295\n",
            "Epoch 15/30\n",
            "\u001b[1m20/20\u001b[0m \u001b[32m━━━━━━━━━━━━━━━━━━━━\u001b[0m\u001b[37m\u001b[0m \u001b[1m0s\u001b[0m 4ms/step - accuracy: 0.8456 - loss: 0.5371 - val_accuracy: 0.8625 - val_loss: 0.5133\n",
            "Epoch 16/30\n",
            "\u001b[1m20/20\u001b[0m \u001b[32m━━━━━━━━━━━━━━━━━━━━\u001b[0m\u001b[37m\u001b[0m \u001b[1m0s\u001b[0m 4ms/step - accuracy: 0.8430 - loss: 0.5200 - val_accuracy: 0.8562 - val_loss: 0.4983\n",
            "Epoch 17/30\n",
            "\u001b[1m20/20\u001b[0m \u001b[32m━━━━━━━━━━━━━━━━━━━━\u001b[0m\u001b[37m\u001b[0m \u001b[1m0s\u001b[0m 4ms/step - accuracy: 0.8720 - loss: 0.5012 - val_accuracy: 0.8687 - val_loss: 0.4826\n",
            "Epoch 18/30\n",
            "\u001b[1m20/20\u001b[0m \u001b[32m━━━━━━━━━━━━━━━━━━━━\u001b[0m\u001b[37m\u001b[0m \u001b[1m0s\u001b[0m 3ms/step - accuracy: 0.8605 - loss: 0.4908 - val_accuracy: 0.8813 - val_loss: 0.4669\n",
            "Epoch 19/30\n",
            "\u001b[1m20/20\u001b[0m \u001b[32m━━━━━━━━━━━━━━━━━━━━\u001b[0m\u001b[37m\u001b[0m \u001b[1m0s\u001b[0m 4ms/step - accuracy: 0.8805 - loss: 0.4678 - val_accuracy: 0.8813 - val_loss: 0.4504\n",
            "Epoch 20/30\n",
            "\u001b[1m20/20\u001b[0m \u001b[32m━━━━━━━━━━━━━━━━━━━━\u001b[0m\u001b[37m\u001b[0m \u001b[1m0s\u001b[0m 3ms/step - accuracy: 0.8847 - loss: 0.4515 - val_accuracy: 0.8875 - val_loss: 0.4363\n",
            "Epoch 21/30\n",
            "\u001b[1m20/20\u001b[0m \u001b[32m━━━━━━━━━━━━━━━━━━━━\u001b[0m\u001b[37m\u001b[0m \u001b[1m0s\u001b[0m 3ms/step - accuracy: 0.8826 - loss: 0.4427 - val_accuracy: 0.8938 - val_loss: 0.4213\n",
            "Epoch 22/30\n",
            "\u001b[1m20/20\u001b[0m \u001b[32m━━━━━━━━━━━━━━━━━━━━\u001b[0m\u001b[37m\u001b[0m \u001b[1m0s\u001b[0m 3ms/step - accuracy: 0.8898 - loss: 0.4281 - val_accuracy: 0.9062 - val_loss: 0.4073\n",
            "Epoch 23/30\n",
            "\u001b[1m20/20\u001b[0m \u001b[32m━━━━━━━━━━━━━━━━━━━━\u001b[0m\u001b[37m\u001b[0m \u001b[1m0s\u001b[0m 4ms/step - accuracy: 0.9019 - loss: 0.4051 - val_accuracy: 0.9187 - val_loss: 0.3936\n",
            "Epoch 24/30\n",
            "\u001b[1m20/20\u001b[0m \u001b[32m━━━━━━━━━━━━━━━━━━━━\u001b[0m\u001b[37m\u001b[0m \u001b[1m0s\u001b[0m 3ms/step - accuracy: 0.9210 - loss: 0.3935 - val_accuracy: 0.9250 - val_loss: 0.3818\n",
            "Epoch 25/30\n",
            "\u001b[1m20/20\u001b[0m \u001b[32m━━━━━━━━━━━━━━━━━━━━\u001b[0m\u001b[37m\u001b[0m \u001b[1m0s\u001b[0m 3ms/step - accuracy: 0.9150 - loss: 0.3749 - val_accuracy: 0.9312 - val_loss: 0.3688\n",
            "Epoch 26/30\n",
            "\u001b[1m20/20\u001b[0m \u001b[32m━━━━━━━━━━━━━━━━━━━━\u001b[0m\u001b[37m\u001b[0m \u001b[1m0s\u001b[0m 3ms/step - accuracy: 0.9251 - loss: 0.3516 - val_accuracy: 0.9438 - val_loss: 0.3554\n",
            "Epoch 27/30\n",
            "\u001b[1m20/20\u001b[0m \u001b[32m━━━━━━━━━━━━━━━━━━━━\u001b[0m\u001b[37m\u001b[0m \u001b[1m0s\u001b[0m 3ms/step - accuracy: 0.9300 - loss: 0.3414 - val_accuracy: 0.9375 - val_loss: 0.3458\n",
            "Epoch 28/30\n",
            "\u001b[1m20/20\u001b[0m \u001b[32m━━━━━━━━━━━━━━━━━━━━\u001b[0m\u001b[37m\u001b[0m \u001b[1m0s\u001b[0m 3ms/step - accuracy: 0.9407 - loss: 0.3421 - val_accuracy: 0.9375 - val_loss: 0.3349\n",
            "Epoch 29/30\n",
            "\u001b[1m20/20\u001b[0m \u001b[32m━━━━━━━━━━━━━━━━━━━━\u001b[0m\u001b[37m\u001b[0m \u001b[1m0s\u001b[0m 3ms/step - accuracy: 0.9531 - loss: 0.3283 - val_accuracy: 0.9563 - val_loss: 0.3224\n",
            "Epoch 30/30\n",
            "\u001b[1m20/20\u001b[0m \u001b[32m━━━━━━━━━━━━━━━━━━━━\u001b[0m\u001b[37m\u001b[0m \u001b[1m0s\u001b[0m 3ms/step - accuracy: 0.9513 - loss: 0.3204 - val_accuracy: 0.9563 - val_loss: 0.3127\n",
            "\u001b[1m7/7\u001b[0m \u001b[32m━━━━━━━━━━━━━━━━━━━━\u001b[0m\u001b[37m\u001b[0m \u001b[1m0s\u001b[0m 2ms/step - accuracy: 0.9336 - loss: 0.3051  \n",
            "\u001b[1m7/7\u001b[0m \u001b[32m━━━━━━━━━━━━━━━━━━━━\u001b[0m\u001b[37m\u001b[0m \u001b[1m0s\u001b[0m 2ms/step - accuracy: 0.9761 - loss: 0.1980 \n",
            "Pérdida en el conjunto de prueba (32 neuronas): 0.30308616161346436\n",
            "Precisión en el conjunto de prueba (32 neuronas): 0.9399999976158142\n"
          ]
        }
      ],
      "source": [
        "# E2\n",
        "# Construir el modelo con una capa oculta de 32 neuronas\n",
        "model_32 = Sequential([\n",
        "    Dense(32, activation=\"relu\", input_shape=(2,)),\n",
        "    Dense(1, activation=\"sigmoid\")\n",
        "])\n",
        "\n",
        "# Compilar el modelo\n",
        "model_32.compile(optimizer=Adam(), loss=\"binary_crossentropy\", metrics=[\"accuracy\"])\n",
        "\n",
        "# Entrenar el modelo\n",
        "history_32 = model_32.fit(x_train, y_train, epochs=30, batch_size=32, validation_split=0.2)\n",
        "\n",
        "# Evaluar el modelo\n",
        "\n",
        "loss_32, accuracy_32 = model_32.evaluate(x_test, y_test)\n",
        "loss, accuracy = model.evaluate(x_test, y_test)\n",
        "print(f\"Pérdida en el conjunto de prueba (32 neuronas): {loss_32}\")\n",
        "print(f\"Precisión en el conjunto de prueba (32 neuronas): {accuracy_32}\")"
      ]
    },
    {
      "cell_type": "code",
      "execution_count": 13,
      "id": "f1eb790d",
      "metadata": {
        "id": "f1eb790d",
        "outputId": "7afe6761-47dd-4056-c412-07e6f351be3f",
        "colab": {
          "base_uri": "https://localhost:8080/"
        }
      },
      "outputs": [
        {
          "output_type": "stream",
          "name": "stdout",
          "text": [
            "Epoch 1/30\n",
            "\u001b[1m20/20\u001b[0m \u001b[32m━━━━━━━━━━━━━━━━━━━━\u001b[0m\u001b[37m\u001b[0m \u001b[1m1s\u001b[0m 10ms/step - accuracy: 0.5167 - loss: 0.6541 - val_accuracy: 0.6125 - val_loss: 0.6154\n",
            "Epoch 2/30\n",
            "\u001b[1m20/20\u001b[0m \u001b[32m━━━━━━━━━━━━━━━━━━━━\u001b[0m\u001b[37m\u001b[0m \u001b[1m0s\u001b[0m 4ms/step - accuracy: 0.5797 - loss: 0.6274 - val_accuracy: 0.6562 - val_loss: 0.5909\n",
            "Epoch 3/30\n",
            "\u001b[1m20/20\u001b[0m \u001b[32m━━━━━━━━━━━━━━━━━━━━\u001b[0m\u001b[37m\u001b[0m \u001b[1m0s\u001b[0m 3ms/step - accuracy: 0.6148 - loss: 0.6108 - val_accuracy: 0.7063 - val_loss: 0.5699\n",
            "Epoch 4/30\n",
            "\u001b[1m20/20\u001b[0m \u001b[32m━━━━━━━━━━━━━━━━━━━━\u001b[0m\u001b[37m\u001b[0m \u001b[1m0s\u001b[0m 4ms/step - accuracy: 0.6997 - loss: 0.5790 - val_accuracy: 0.7500 - val_loss: 0.5434\n",
            "Epoch 5/30\n",
            "\u001b[1m20/20\u001b[0m \u001b[32m━━━━━━━━━━━━━━━━━━━━\u001b[0m\u001b[37m\u001b[0m \u001b[1m0s\u001b[0m 3ms/step - accuracy: 0.7721 - loss: 0.5525 - val_accuracy: 0.8000 - val_loss: 0.5171\n",
            "Epoch 6/30\n",
            "\u001b[1m20/20\u001b[0m \u001b[32m━━━━━━━━━━━━━━━━━━━━\u001b[0m\u001b[37m\u001b[0m \u001b[1m0s\u001b[0m 3ms/step - accuracy: 0.8141 - loss: 0.5141 - val_accuracy: 0.8562 - val_loss: 0.4895\n",
            "Epoch 7/30\n",
            "\u001b[1m20/20\u001b[0m \u001b[32m━━━━━━━━━━━━━━━━━━━━\u001b[0m\u001b[37m\u001b[0m \u001b[1m0s\u001b[0m 4ms/step - accuracy: 0.8383 - loss: 0.4942 - val_accuracy: 0.9000 - val_loss: 0.4637\n",
            "Epoch 8/30\n",
            "\u001b[1m20/20\u001b[0m \u001b[32m━━━━━━━━━━━━━━━━━━━━\u001b[0m\u001b[37m\u001b[0m \u001b[1m0s\u001b[0m 3ms/step - accuracy: 0.8632 - loss: 0.4624 - val_accuracy: 0.9250 - val_loss: 0.4341\n",
            "Epoch 9/30\n",
            "\u001b[1m20/20\u001b[0m \u001b[32m━━━━━━━━━━━━━━━━━━━━\u001b[0m\u001b[37m\u001b[0m \u001b[1m0s\u001b[0m 3ms/step - accuracy: 0.8927 - loss: 0.4297 - val_accuracy: 0.9312 - val_loss: 0.4066\n",
            "Epoch 10/30\n",
            "\u001b[1m20/20\u001b[0m \u001b[32m━━━━━━━━━━━━━━━━━━━━\u001b[0m\u001b[37m\u001b[0m \u001b[1m0s\u001b[0m 3ms/step - accuracy: 0.9011 - loss: 0.4084 - val_accuracy: 0.9438 - val_loss: 0.3829\n",
            "Epoch 11/30\n",
            "\u001b[1m20/20\u001b[0m \u001b[32m━━━━━━━━━━━━━━━━━━━━\u001b[0m\u001b[37m\u001b[0m \u001b[1m0s\u001b[0m 3ms/step - accuracy: 0.9251 - loss: 0.3827 - val_accuracy: 0.9438 - val_loss: 0.3559\n",
            "Epoch 12/30\n",
            "\u001b[1m20/20\u001b[0m \u001b[32m━━━━━━━━━━━━━━━━━━━━\u001b[0m\u001b[37m\u001b[0m \u001b[1m0s\u001b[0m 4ms/step - accuracy: 0.9414 - loss: 0.3450 - val_accuracy: 0.9438 - val_loss: 0.3339\n",
            "Epoch 13/30\n",
            "\u001b[1m20/20\u001b[0m \u001b[32m━━━━━━━━━━━━━━━━━━━━\u001b[0m\u001b[37m\u001b[0m \u001b[1m0s\u001b[0m 3ms/step - accuracy: 0.9458 - loss: 0.3258 - val_accuracy: 0.9563 - val_loss: 0.3153\n",
            "Epoch 14/30\n",
            "\u001b[1m20/20\u001b[0m \u001b[32m━━━━━━━━━━━━━━━━━━━━\u001b[0m\u001b[37m\u001b[0m \u001b[1m0s\u001b[0m 4ms/step - accuracy: 0.9488 - loss: 0.3106 - val_accuracy: 0.9688 - val_loss: 0.2982\n",
            "Epoch 15/30\n",
            "\u001b[1m20/20\u001b[0m \u001b[32m━━━━━━━━━━━━━━━━━━━━\u001b[0m\u001b[37m\u001b[0m \u001b[1m0s\u001b[0m 3ms/step - accuracy: 0.9577 - loss: 0.2931 - val_accuracy: 0.9688 - val_loss: 0.2816\n",
            "Epoch 16/30\n",
            "\u001b[1m20/20\u001b[0m \u001b[32m━━━━━━━━━━━━━━━━━━━━\u001b[0m\u001b[37m\u001b[0m \u001b[1m0s\u001b[0m 3ms/step - accuracy: 0.9481 - loss: 0.2803 - val_accuracy: 0.9688 - val_loss: 0.2663\n",
            "Epoch 17/30\n",
            "\u001b[1m20/20\u001b[0m \u001b[32m━━━━━━━━━━━━━━━━━━━━\u001b[0m\u001b[37m\u001b[0m \u001b[1m0s\u001b[0m 3ms/step - accuracy: 0.9531 - loss: 0.2711 - val_accuracy: 0.9812 - val_loss: 0.2552\n",
            "Epoch 18/30\n",
            "\u001b[1m20/20\u001b[0m \u001b[32m━━━━━━━━━━━━━━━━━━━━\u001b[0m\u001b[37m\u001b[0m \u001b[1m0s\u001b[0m 3ms/step - accuracy: 0.9755 - loss: 0.2624 - val_accuracy: 0.9812 - val_loss: 0.2421\n",
            "Epoch 19/30\n",
            "\u001b[1m20/20\u001b[0m \u001b[32m━━━━━━━━━━━━━━━━━━━━\u001b[0m\u001b[37m\u001b[0m \u001b[1m0s\u001b[0m 4ms/step - accuracy: 0.9734 - loss: 0.2385 - val_accuracy: 0.9812 - val_loss: 0.2320\n",
            "Epoch 20/30\n",
            "\u001b[1m20/20\u001b[0m \u001b[32m━━━━━━━━━━━━━━━━━━━━\u001b[0m\u001b[37m\u001b[0m \u001b[1m0s\u001b[0m 3ms/step - accuracy: 0.9804 - loss: 0.2241 - val_accuracy: 0.9875 - val_loss: 0.2216\n",
            "Epoch 21/30\n",
            "\u001b[1m20/20\u001b[0m \u001b[32m━━━━━━━━━━━━━━━━━━━━\u001b[0m\u001b[37m\u001b[0m \u001b[1m0s\u001b[0m 3ms/step - accuracy: 0.9822 - loss: 0.2221 - val_accuracy: 0.9875 - val_loss: 0.2127\n",
            "Epoch 22/30\n",
            "\u001b[1m20/20\u001b[0m \u001b[32m━━━━━━━━━━━━━━━━━━━━\u001b[0m\u001b[37m\u001b[0m \u001b[1m0s\u001b[0m 5ms/step - accuracy: 0.9741 - loss: 0.2132 - val_accuracy: 0.9812 - val_loss: 0.2031\n",
            "Epoch 23/30\n",
            "\u001b[1m20/20\u001b[0m \u001b[32m━━━━━━━━━━━━━━━━━━━━\u001b[0m\u001b[37m\u001b[0m \u001b[1m0s\u001b[0m 4ms/step - accuracy: 0.9866 - loss: 0.2111 - val_accuracy: 0.9875 - val_loss: 0.1965\n",
            "Epoch 24/30\n",
            "\u001b[1m20/20\u001b[0m \u001b[32m━━━━━━━━━━━━━━━━━━━━\u001b[0m\u001b[37m\u001b[0m \u001b[1m0s\u001b[0m 4ms/step - accuracy: 0.9838 - loss: 0.1961 - val_accuracy: 0.9812 - val_loss: 0.1886\n",
            "Epoch 25/30\n",
            "\u001b[1m20/20\u001b[0m \u001b[32m━━━━━━━━━━━━━━━━━━━━\u001b[0m\u001b[37m\u001b[0m \u001b[1m0s\u001b[0m 3ms/step - accuracy: 0.9696 - loss: 0.2002 - val_accuracy: 0.9875 - val_loss: 0.1826\n",
            "Epoch 26/30\n",
            "\u001b[1m20/20\u001b[0m \u001b[32m━━━━━━━━━━━━━━━━━━━━\u001b[0m\u001b[37m\u001b[0m \u001b[1m0s\u001b[0m 3ms/step - accuracy: 0.9844 - loss: 0.1927 - val_accuracy: 0.9875 - val_loss: 0.1765\n",
            "Epoch 27/30\n",
            "\u001b[1m20/20\u001b[0m \u001b[32m━━━━━━━━━━━━━━━━━━━━\u001b[0m\u001b[37m\u001b[0m \u001b[1m0s\u001b[0m 4ms/step - accuracy: 0.9791 - loss: 0.1700 - val_accuracy: 0.9812 - val_loss: 0.1700\n",
            "Epoch 28/30\n",
            "\u001b[1m20/20\u001b[0m \u001b[32m━━━━━━━━━━━━━━━━━━━━\u001b[0m\u001b[37m\u001b[0m \u001b[1m0s\u001b[0m 3ms/step - accuracy: 0.9920 - loss: 0.1724 - val_accuracy: 0.9937 - val_loss: 0.1667\n",
            "Epoch 29/30\n",
            "\u001b[1m20/20\u001b[0m \u001b[32m━━━━━━━━━━━━━━━━━━━━\u001b[0m\u001b[37m\u001b[0m \u001b[1m0s\u001b[0m 4ms/step - accuracy: 0.9894 - loss: 0.1681 - val_accuracy: 0.9812 - val_loss: 0.1597\n",
            "Epoch 30/30\n",
            "\u001b[1m20/20\u001b[0m \u001b[32m━━━━━━━━━━━━━━━━━━━━\u001b[0m\u001b[37m\u001b[0m \u001b[1m0s\u001b[0m 3ms/step - accuracy: 0.9745 - loss: 0.1809 - val_accuracy: 0.9875 - val_loss: 0.1588\n",
            "\u001b[1m7/7\u001b[0m \u001b[32m━━━━━━━━━━━━━━━━━━━━\u001b[0m\u001b[37m\u001b[0m \u001b[1m0s\u001b[0m 2ms/step - accuracy: 0.9892 - loss: 0.1547  \n",
            "Pérdida en el conjunto de prueba (tanh): 0.15227925777435303\n",
            "Precisión en el conjunto de prueba (tanh): 0.9950000047683716\n",
            "Epoch 1/30\n",
            "\u001b[1m20/20\u001b[0m \u001b[32m━━━━━━━━━━━━━━━━━━━━\u001b[0m\u001b[37m\u001b[0m \u001b[1m4s\u001b[0m 54ms/step - accuracy: 0.5302 - loss: 0.6871 - val_accuracy: 0.7312 - val_loss: 0.6800\n",
            "Epoch 2/30\n",
            "\u001b[1m20/20\u001b[0m \u001b[32m━━━━━━━━━━━━━━━━━━━━\u001b[0m\u001b[37m\u001b[0m \u001b[1m0s\u001b[0m 10ms/step - accuracy: 0.6839 - loss: 0.6804 - val_accuracy: 0.9187 - val_loss: 0.6739\n",
            "Epoch 3/30\n",
            "\u001b[1m20/20\u001b[0m \u001b[32m━━━━━━━━━━━━━━━━━━━━\u001b[0m\u001b[37m\u001b[0m \u001b[1m1s\u001b[0m 6ms/step - accuracy: 0.8733 - loss: 0.6725 - val_accuracy: 0.9563 - val_loss: 0.6678\n",
            "Epoch 4/30\n",
            "\u001b[1m20/20\u001b[0m \u001b[32m━━━━━━━━━━━━━━━━━━━━\u001b[0m\u001b[37m\u001b[0m \u001b[1m0s\u001b[0m 5ms/step - accuracy: 0.9354 - loss: 0.6650 - val_accuracy: 0.9563 - val_loss: 0.6603\n",
            "Epoch 5/30\n",
            "\u001b[1m20/20\u001b[0m \u001b[32m━━━━━━━━━━━━━━━━━━━━\u001b[0m\u001b[37m\u001b[0m \u001b[1m0s\u001b[0m 5ms/step - accuracy: 0.9340 - loss: 0.6569 - val_accuracy: 0.8750 - val_loss: 0.6502\n",
            "Epoch 6/30\n",
            "\u001b[1m20/20\u001b[0m \u001b[32m━━━━━━━━━━━━━━━━━━━━\u001b[0m\u001b[37m\u001b[0m \u001b[1m0s\u001b[0m 7ms/step - accuracy: 0.8859 - loss: 0.6508 - val_accuracy: 0.9812 - val_loss: 0.6461\n",
            "Epoch 7/30\n",
            "\u001b[1m20/20\u001b[0m \u001b[32m━━━━━━━━━━━━━━━━━━━━\u001b[0m\u001b[37m\u001b[0m \u001b[1m0s\u001b[0m 5ms/step - accuracy: 0.9376 - loss: 0.6432 - val_accuracy: 0.9438 - val_loss: 0.6409\n",
            "Epoch 8/30\n",
            "\u001b[1m20/20\u001b[0m \u001b[32m━━━━━━━━━━━━━━━━━━━━\u001b[0m\u001b[37m\u001b[0m \u001b[1m0s\u001b[0m 6ms/step - accuracy: 0.9437 - loss: 0.6354 - val_accuracy: 0.9438 - val_loss: 0.6288\n",
            "Epoch 9/30\n",
            "\u001b[1m20/20\u001b[0m \u001b[32m━━━━━━━━━━━━━━━━━━━━\u001b[0m\u001b[37m\u001b[0m \u001b[1m0s\u001b[0m 6ms/step - accuracy: 0.9067 - loss: 0.6253 - val_accuracy: 0.9812 - val_loss: 0.6229\n",
            "Epoch 10/30\n",
            "\u001b[1m20/20\u001b[0m \u001b[32m━━━━━━━━━━━━━━━━━━━━\u001b[0m\u001b[37m\u001b[0m \u001b[1m0s\u001b[0m 6ms/step - accuracy: 0.9741 - loss: 0.6184 - val_accuracy: 0.9812 - val_loss: 0.6162\n",
            "Epoch 11/30\n",
            "\u001b[1m20/20\u001b[0m \u001b[32m━━━━━━━━━━━━━━━━━━━━\u001b[0m\u001b[37m\u001b[0m \u001b[1m0s\u001b[0m 4ms/step - accuracy: 0.9874 - loss: 0.6096 - val_accuracy: 0.9438 - val_loss: 0.6043\n",
            "Epoch 12/30\n",
            "\u001b[1m20/20\u001b[0m \u001b[32m━━━━━━━━━━━━━━━━━━━━\u001b[0m\u001b[37m\u001b[0m \u001b[1m0s\u001b[0m 5ms/step - accuracy: 0.9341 - loss: 0.6037 - val_accuracy: 0.9875 - val_loss: 0.5990\n",
            "Epoch 13/30\n",
            "\u001b[1m20/20\u001b[0m \u001b[32m━━━━━━━━━━━━━━━━━━━━\u001b[0m\u001b[37m\u001b[0m \u001b[1m0s\u001b[0m 5ms/step - accuracy: 0.9567 - loss: 0.5898 - val_accuracy: 0.9438 - val_loss: 0.5862\n",
            "Epoch 14/30\n",
            "\u001b[1m20/20\u001b[0m \u001b[32m━━━━━━━━━━━━━━━━━━━━\u001b[0m\u001b[37m\u001b[0m \u001b[1m0s\u001b[0m 5ms/step - accuracy: 0.9201 - loss: 0.5820 - val_accuracy: 0.9812 - val_loss: 0.5820\n",
            "Epoch 15/30\n",
            "\u001b[1m20/20\u001b[0m \u001b[32m━━━━━━━━━━━━━━━━━━━━\u001b[0m\u001b[37m\u001b[0m \u001b[1m0s\u001b[0m 4ms/step - accuracy: 0.9869 - loss: 0.5727 - val_accuracy: 0.9625 - val_loss: 0.5694\n",
            "Epoch 16/30\n",
            "\u001b[1m20/20\u001b[0m \u001b[32m━━━━━━━━━━━━━━━━━━━━\u001b[0m\u001b[37m\u001b[0m \u001b[1m0s\u001b[0m 5ms/step - accuracy: 0.9324 - loss: 0.5665 - val_accuracy: 0.9750 - val_loss: 0.5610\n",
            "Epoch 17/30\n",
            "\u001b[1m20/20\u001b[0m \u001b[32m━━━━━━━━━━━━━━━━━━━━\u001b[0m\u001b[37m\u001b[0m \u001b[1m0s\u001b[0m 4ms/step - accuracy: 0.9771 - loss: 0.5581 - val_accuracy: 0.9750 - val_loss: 0.5515\n",
            "Epoch 18/30\n",
            "\u001b[1m20/20\u001b[0m \u001b[32m━━━━━━━━━━━━━━━━━━━━\u001b[0m\u001b[37m\u001b[0m \u001b[1m0s\u001b[0m 4ms/step - accuracy: 0.9733 - loss: 0.5390 - val_accuracy: 0.9875 - val_loss: 0.5427\n",
            "Epoch 19/30\n",
            "\u001b[1m20/20\u001b[0m \u001b[32m━━━━━━━━━━━━━━━━━━━━\u001b[0m\u001b[37m\u001b[0m \u001b[1m0s\u001b[0m 4ms/step - accuracy: 0.9810 - loss: 0.5380 - val_accuracy: 0.9812 - val_loss: 0.5326\n",
            "Epoch 20/30\n",
            "\u001b[1m20/20\u001b[0m \u001b[32m━━━━━━━━━━━━━━━━━━━━\u001b[0m\u001b[37m\u001b[0m \u001b[1m0s\u001b[0m 9ms/step - accuracy: 0.9589 - loss: 0.5269 - val_accuracy: 0.9812 - val_loss: 0.5225\n",
            "Epoch 21/30\n",
            "\u001b[1m20/20\u001b[0m \u001b[32m━━━━━━━━━━━━━━━━━━━━\u001b[0m\u001b[37m\u001b[0m \u001b[1m0s\u001b[0m 5ms/step - accuracy: 0.9802 - loss: 0.5107 - val_accuracy: 0.9875 - val_loss: 0.5133\n",
            "Epoch 22/30\n",
            "\u001b[1m20/20\u001b[0m \u001b[32m━━━━━━━━━━━━━━━━━━━━\u001b[0m\u001b[37m\u001b[0m \u001b[1m0s\u001b[0m 3ms/step - accuracy: 0.9556 - loss: 0.5025 - val_accuracy: 0.9750 - val_loss: 0.5010\n",
            "Epoch 23/30\n",
            "\u001b[1m20/20\u001b[0m \u001b[32m━━━━━━━━━━━━━━━━━━━━\u001b[0m\u001b[37m\u001b[0m \u001b[1m0s\u001b[0m 3ms/step - accuracy: 0.9734 - loss: 0.4910 - val_accuracy: 0.9875 - val_loss: 0.4950\n",
            "Epoch 24/30\n",
            "\u001b[1m20/20\u001b[0m \u001b[32m━━━━━━━━━━━━━━━━━━━━\u001b[0m\u001b[37m\u001b[0m \u001b[1m0s\u001b[0m 4ms/step - accuracy: 0.9678 - loss: 0.4812 - val_accuracy: 0.9750 - val_loss: 0.4811\n",
            "Epoch 25/30\n",
            "\u001b[1m20/20\u001b[0m \u001b[32m━━━━━━━━━━━━━━━━━━━━\u001b[0m\u001b[37m\u001b[0m \u001b[1m0s\u001b[0m 4ms/step - accuracy: 0.9661 - loss: 0.4721 - val_accuracy: 0.9875 - val_loss: 0.4739\n",
            "Epoch 26/30\n",
            "\u001b[1m20/20\u001b[0m \u001b[32m━━━━━━━━━━━━━━━━━━━━\u001b[0m\u001b[37m\u001b[0m \u001b[1m0s\u001b[0m 3ms/step - accuracy: 0.9952 - loss: 0.4614 - val_accuracy: 0.9812 - val_loss: 0.4660\n",
            "Epoch 27/30\n",
            "\u001b[1m20/20\u001b[0m \u001b[32m━━━━━━━━━━━━━━━━━━━━\u001b[0m\u001b[37m\u001b[0m \u001b[1m0s\u001b[0m 3ms/step - accuracy: 0.9831 - loss: 0.4573 - val_accuracy: 0.9750 - val_loss: 0.4525\n",
            "Epoch 28/30\n",
            "\u001b[1m20/20\u001b[0m \u001b[32m━━━━━━━━━━━━━━━━━━━━\u001b[0m\u001b[37m\u001b[0m \u001b[1m0s\u001b[0m 4ms/step - accuracy: 0.9519 - loss: 0.4465 - val_accuracy: 0.9750 - val_loss: 0.4434\n",
            "Epoch 29/30\n",
            "\u001b[1m20/20\u001b[0m \u001b[32m━━━━━━━━━━━━━━━━━━━━\u001b[0m\u001b[37m\u001b[0m \u001b[1m0s\u001b[0m 3ms/step - accuracy: 0.9510 - loss: 0.4319 - val_accuracy: 0.9875 - val_loss: 0.4355\n",
            "Epoch 30/30\n",
            "\u001b[1m20/20\u001b[0m \u001b[32m━━━━━━━━━━━━━━━━━━━━\u001b[0m\u001b[37m\u001b[0m \u001b[1m0s\u001b[0m 3ms/step - accuracy: 0.9836 - loss: 0.4272 - val_accuracy: 0.9875 - val_loss: 0.4280\n",
            "\u001b[1m7/7\u001b[0m \u001b[32m━━━━━━━━━━━━━━━━━━━━\u001b[0m\u001b[37m\u001b[0m \u001b[1m0s\u001b[0m 3ms/step - accuracy: 0.9810 - loss: 0.4137  \n",
            "Pérdida en el conjunto de prueba (sigmoid): 0.41152939200401306\n",
            "Precisión en el conjunto de prueba (sigmoid): 0.9850000143051147\n"
          ]
        }
      ],
      "source": [
        "# E3\n",
        "# Construir el modelo con función de activación tanh\n",
        "model_tanh = Sequential([\n",
        "    Dense(64, activation='tanh', input_shape=(2,)),\n",
        "    Dense(1, activation='sigmoid')\n",
        "])\n",
        "\n",
        "# Compilar el modelo\n",
        "model_tanh.compile(optimizer=Adam(), loss='binary_crossentropy', metrics=['accuracy'])\n",
        "\n",
        "# Entrenar el modelo\n",
        "history_tanh = model_tanh.fit(x_train, y_train, epochs=30, batch_size=32, validation_split=0.2)\n",
        "\n",
        "# Evaluar el modelo\n",
        "loss_tanh, accuracy_tanh = model_tanh.evaluate(x_test, y_test)\n",
        "print(f'Pérdida en el conjunto de prueba (tanh): {loss_tanh}')\n",
        "print(f'Precisión en el conjunto de prueba (tanh): {accuracy_tanh}')\n",
        "\n",
        "# Construir el modelo con función de activación sigmoid\n",
        "model_sigmoid = Sequential([\n",
        "    Dense(64, activation='sigmoid', input_shape=(2,)),\n",
        "    Dense(1, activation='sigmoid')\n",
        "])\n",
        "\n",
        "# Compilar el modelo\n",
        "model_sigmoid.compile(optimizer=Adam(), loss='binary_crossentropy', metrics=['accuracy'])\n",
        "\n",
        "# Entrenar el modelo\n",
        "history_sigmoid = model_sigmoid.fit(x_train, y_train, epochs=30, batch_size=32, validation_split=0.2)\n",
        "\n",
        "# Evaluar el modelo\n",
        "loss_sigmoid, accuracy_sigmoid = model_sigmoid.evaluate(x_test, y_test)\n",
        "print(f'Pérdida en el conjunto de prueba (sigmoid): {loss_sigmoid}')\n",
        "print(f'Precisión en el conjunto de prueba (sigmoid): {accuracy_sigmoid}')"
      ]
    },
    {
      "cell_type": "code",
      "execution_count": 14,
      "id": "da5fcbf3",
      "metadata": {
        "id": "da5fcbf3",
        "outputId": "10957793-8cd7-4768-ca19-0bcfd1ef8265",
        "colab": {
          "base_uri": "https://localhost:8080/"
        }
      },
      "outputs": [
        {
          "output_type": "stream",
          "name": "stdout",
          "text": [
            "Epoch 1/20\n",
            "\u001b[1m18/18\u001b[0m \u001b[32m━━━━━━━━━━━━━━━━━━━━\u001b[0m\u001b[37m\u001b[0m \u001b[1m1s\u001b[0m 11ms/step - loss: 0.7136 - mae: 0.7688 - val_loss: 0.4144 - val_mae: 0.5639\n",
            "Epoch 2/20\n",
            "\u001b[1m18/18\u001b[0m \u001b[32m━━━━━━━━━━━━━━━━━━━━\u001b[0m\u001b[37m\u001b[0m \u001b[1m0s\u001b[0m 4ms/step - loss: 0.3372 - mae: 0.5091 - val_loss: 0.1563 - val_mae: 0.3228\n",
            "Epoch 3/20\n",
            "\u001b[1m18/18\u001b[0m \u001b[32m━━━━━━━━━━━━━━━━━━━━\u001b[0m\u001b[37m\u001b[0m \u001b[1m0s\u001b[0m 3ms/step - loss: 0.1207 - mae: 0.2829 - val_loss: 0.0414 - val_mae: 0.1655\n",
            "Epoch 4/20\n",
            "\u001b[1m18/18\u001b[0m \u001b[32m━━━━━━━━━━━━━━━━━━━━\u001b[0m\u001b[37m\u001b[0m \u001b[1m0s\u001b[0m 4ms/step - loss: 0.0353 - mae: 0.1493 - val_loss: 0.0271 - val_mae: 0.1383\n",
            "Epoch 5/20\n",
            "\u001b[1m18/18\u001b[0m \u001b[32m━━━━━━━━━━━━━━━━━━━━\u001b[0m\u001b[37m\u001b[0m \u001b[1m0s\u001b[0m 3ms/step - loss: 0.0213 - mae: 0.1200 - val_loss: 0.0245 - val_mae: 0.1312\n",
            "Epoch 6/20\n",
            "\u001b[1m18/18\u001b[0m \u001b[32m━━━━━━━━━━━━━━━━━━━━\u001b[0m\u001b[37m\u001b[0m \u001b[1m0s\u001b[0m 4ms/step - loss: 0.0198 - mae: 0.1170 - val_loss: 0.0213 - val_mae: 0.1229\n",
            "Epoch 7/20\n",
            "\u001b[1m18/18\u001b[0m \u001b[32m━━━━━━━━━━━━━━━━━━━━\u001b[0m\u001b[37m\u001b[0m \u001b[1m0s\u001b[0m 4ms/step - loss: 0.0196 - mae: 0.1176 - val_loss: 0.0189 - val_mae: 0.1158\n",
            "Epoch 8/20\n",
            "\u001b[1m18/18\u001b[0m \u001b[32m━━━━━━━━━━━━━━━━━━━━\u001b[0m\u001b[37m\u001b[0m \u001b[1m0s\u001b[0m 3ms/step - loss: 0.0154 - mae: 0.1024 - val_loss: 0.0169 - val_mae: 0.1092\n",
            "Epoch 9/20\n",
            "\u001b[1m18/18\u001b[0m \u001b[32m━━━━━━━━━━━━━━━━━━━━\u001b[0m\u001b[37m\u001b[0m \u001b[1m0s\u001b[0m 3ms/step - loss: 0.0154 - mae: 0.1032 - val_loss: 0.0148 - val_mae: 0.1022\n",
            "Epoch 10/20\n",
            "\u001b[1m18/18\u001b[0m \u001b[32m━━━━━━━━━━━━━━━━━━━━\u001b[0m\u001b[37m\u001b[0m \u001b[1m0s\u001b[0m 3ms/step - loss: 0.0120 - mae: 0.0914 - val_loss: 0.0129 - val_mae: 0.0953\n",
            "Epoch 11/20\n",
            "\u001b[1m18/18\u001b[0m \u001b[32m━━━━━━━━━━━━━━━━━━━━\u001b[0m\u001b[37m\u001b[0m \u001b[1m0s\u001b[0m 3ms/step - loss: 0.0112 - mae: 0.0888 - val_loss: 0.0110 - val_mae: 0.0881\n",
            "Epoch 12/20\n",
            "\u001b[1m18/18\u001b[0m \u001b[32m━━━━━━━━━━━━━━━━━━━━\u001b[0m\u001b[37m\u001b[0m \u001b[1m0s\u001b[0m 4ms/step - loss: 0.0094 - mae: 0.0806 - val_loss: 0.0093 - val_mae: 0.0807\n",
            "Epoch 13/20\n",
            "\u001b[1m18/18\u001b[0m \u001b[32m━━━━━━━━━━━━━━━━━━━━\u001b[0m\u001b[37m\u001b[0m \u001b[1m0s\u001b[0m 4ms/step - loss: 0.0079 - mae: 0.0728 - val_loss: 0.0076 - val_mae: 0.0731\n",
            "Epoch 14/20\n",
            "\u001b[1m18/18\u001b[0m \u001b[32m━━━━━━━━━━━━━━━━━━━━\u001b[0m\u001b[37m\u001b[0m \u001b[1m0s\u001b[0m 5ms/step - loss: 0.0068 - mae: 0.0680 - val_loss: 0.0060 - val_mae: 0.0654\n",
            "Epoch 15/20\n",
            "\u001b[1m18/18\u001b[0m \u001b[32m━━━━━━━━━━━━━━━━━━━━\u001b[0m\u001b[37m\u001b[0m \u001b[1m0s\u001b[0m 4ms/step - loss: 0.0054 - mae: 0.0611 - val_loss: 0.0047 - val_mae: 0.0570\n",
            "Epoch 16/20\n",
            "\u001b[1m18/18\u001b[0m \u001b[32m━━━━━━━━━━━━━━━━━━━━\u001b[0m\u001b[37m\u001b[0m \u001b[1m0s\u001b[0m 3ms/step - loss: 0.0043 - mae: 0.0540 - val_loss: 0.0034 - val_mae: 0.0489\n",
            "Epoch 17/20\n",
            "\u001b[1m18/18\u001b[0m \u001b[32m━━━━━━━━━━━━━━━━━━━━\u001b[0m\u001b[37m\u001b[0m \u001b[1m0s\u001b[0m 4ms/step - loss: 0.0028 - mae: 0.0437 - val_loss: 0.0024 - val_mae: 0.0409\n",
            "Epoch 18/20\n",
            "\u001b[1m18/18\u001b[0m \u001b[32m━━━━━━━━━━━━━━━━━━━━\u001b[0m\u001b[37m\u001b[0m \u001b[1m0s\u001b[0m 3ms/step - loss: 0.0018 - mae: 0.0354 - val_loss: 0.0016 - val_mae: 0.0332\n",
            "Epoch 19/20\n",
            "\u001b[1m18/18\u001b[0m \u001b[32m━━━━━━━━━━━━━━━━━━━━\u001b[0m\u001b[37m\u001b[0m \u001b[1m0s\u001b[0m 3ms/step - loss: 0.0013 - mae: 0.0303 - val_loss: 9.9575e-04 - val_mae: 0.0264\n",
            "Epoch 20/20\n",
            "\u001b[1m18/18\u001b[0m \u001b[32m━━━━━━━━━━━━━━━━━━━━\u001b[0m\u001b[37m\u001b[0m \u001b[1m0s\u001b[0m 4ms/step - loss: 8.3805e-04 - mae: 0.0245 - val_loss: 6.2474e-04 - val_mae: 0.0210\n",
            "\u001b[1m10/10\u001b[0m \u001b[32m━━━━━━━━━━━━━━━━━━━━\u001b[0m\u001b[37m\u001b[0m \u001b[1m0s\u001b[0m 2ms/step - loss: 5.7656e-04 - mae: 0.0199 \n",
            "Pérdida en el conjunto de prueba: 0.0005810718284919858\n",
            "Error absoluto medio en el conjunto de prueba: 0.019969454035162926\n",
            "\u001b[1m1/1\u001b[0m \u001b[32m━━━━━━━━━━━━━━━━━━━━\u001b[0m\u001b[37m\u001b[0m \u001b[1m0s\u001b[0m 51ms/step\n",
            "Entrada: [0.3 0.7] → Probabilidad: 0.99 → Valor esperado: 1.00\n",
            "Entrada: [0.5 0.5] → Probabilidad: 1.02 → Valor esperado: 1.00\n"
          ]
        }
      ],
      "source": [
        "# E4\n",
        "# Generar datos sintéticos\n",
        "np.random.seed(42)\n",
        "x_1 = np.random.rand(1000)\n",
        "x_2 = np.random.rand(1000)\n",
        "x_data = np.column_stack((x_1, x_2))\n",
        "y_data = x_1 + x_2\n",
        "\n",
        "# Dividir el conjunto de datos en entrenamiento (70%) y prueba (30%)\n",
        "x_train, x_test, y_train, y_test = train_test_split(x_data, y_data, test_size=0.3, random_state=42)\n",
        "\n",
        "# Construir el modelo\n",
        "model = Sequential([\n",
        "    Dense(64, activation='relu', input_shape=(2,)),\n",
        "    Dense(1)\n",
        "])\n",
        "\n",
        "# Compilar el modelo\n",
        "model.compile(optimizer=Adam(), loss='mse', metrics=['mae'])\n",
        "\n",
        "# Entrenar el modelo\n",
        "history = model.fit(x_train, y_train, epochs=20, batch_size=32, validation_split=0.2)\n",
        "\n",
        "# Evaluar el modelo\n",
        "loss, mae = model.evaluate(x_test, y_test)\n",
        "print(f\"Pérdida en el conjunto de prueba: {loss}\")\n",
        "print(f\"Error absoluto medio en el conjunto de prueba: {mae}\")\n",
        "\n",
        "# Nuevas muestras para predicción\n",
        "x_sample = np.array([[0.3, 0.7], [0.5, 0.5]])\n",
        "\n",
        "# Realizar predicciones\n",
        "predicciones = model.predict(x_sample)\n",
        "\n",
        "# Mostrar resultados\n",
        "for i, sample in enumerate(x_sample):\n",
        "    print(f\"Entrada: {sample} → Probabilidad: {predicciones[i][0]:.2f} → Valor esperado: {np.sum(sample):.2f}\")"
      ]
    },
    {
      "cell_type": "code",
      "execution_count": 15,
      "id": "b7cd6bca",
      "metadata": {
        "id": "b7cd6bca",
        "outputId": "ae21da1b-bf56-45ac-9995-549aa39e90b1",
        "colab": {
          "base_uri": "https://localhost:8080/"
        }
      },
      "outputs": [
        {
          "output_type": "stream",
          "name": "stdout",
          "text": [
            "Epoch 1/20\n",
            "\u001b[1m9/9\u001b[0m \u001b[32m━━━━━━━━━━━━━━━━━━━━\u001b[0m\u001b[37m\u001b[0m \u001b[1m2s\u001b[0m 32ms/step - loss: 0.9051 - mae: 0.8792 - val_loss: 0.6319 - val_mae: 0.7464\n",
            "Epoch 2/20\n",
            "\u001b[1m9/9\u001b[0m \u001b[32m━━━━━━━━━━━━━━━━━━━━\u001b[0m\u001b[37m\u001b[0m \u001b[1m0s\u001b[0m 9ms/step - loss: 0.6693 - mae: 0.7382 - val_loss: 0.4403 - val_mae: 0.6166\n",
            "Epoch 3/20\n",
            "\u001b[1m9/9\u001b[0m \u001b[32m━━━━━━━━━━━━━━━━━━━━\u001b[0m\u001b[37m\u001b[0m \u001b[1m0s\u001b[0m 10ms/step - loss: 0.4711 - mae: 0.6127 - val_loss: 0.2888 - val_mae: 0.4922\n",
            "Epoch 4/20\n",
            "\u001b[1m9/9\u001b[0m \u001b[32m━━━━━━━━━━━━━━━━━━━━\u001b[0m\u001b[37m\u001b[0m \u001b[1m0s\u001b[0m 9ms/step - loss: 0.3047 - mae: 0.4826 - val_loss: 0.1722 - val_mae: 0.3718\n",
            "Epoch 5/20\n",
            "\u001b[1m9/9\u001b[0m \u001b[32m━━━━━━━━━━━━━━━━━━━━\u001b[0m\u001b[37m\u001b[0m \u001b[1m0s\u001b[0m 9ms/step - loss: 0.1744 - mae: 0.3589 - val_loss: 0.0918 - val_mae: 0.2605\n",
            "Epoch 6/20\n",
            "\u001b[1m9/9\u001b[0m \u001b[32m━━━━━━━━━━━━━━━━━━━━\u001b[0m\u001b[37m\u001b[0m \u001b[1m0s\u001b[0m 10ms/step - loss: 0.0895 - mae: 0.2470 - val_loss: 0.0444 - val_mae: 0.1762\n",
            "Epoch 7/20\n",
            "\u001b[1m9/9\u001b[0m \u001b[32m━━━━━━━━━━━━━━━━━━━━\u001b[0m\u001b[37m\u001b[0m \u001b[1m0s\u001b[0m 9ms/step - loss: 0.0535 - mae: 0.1905 - val_loss: 0.0216 - val_mae: 0.1173\n",
            "Epoch 8/20\n",
            "\u001b[1m9/9\u001b[0m \u001b[32m━━━━━━━━━━━━━━━━━━━━\u001b[0m\u001b[37m\u001b[0m \u001b[1m0s\u001b[0m 9ms/step - loss: 0.0331 - mae: 0.1527 - val_loss: 0.0148 - val_mae: 0.0956\n",
            "Epoch 9/20\n",
            "\u001b[1m9/9\u001b[0m \u001b[32m━━━━━━━━━━━━━━━━━━━━\u001b[0m\u001b[37m\u001b[0m \u001b[1m0s\u001b[0m 8ms/step - loss: 0.0244 - mae: 0.1313 - val_loss: 0.0139 - val_mae: 0.0953\n",
            "Epoch 10/20\n",
            "\u001b[1m9/9\u001b[0m \u001b[32m━━━━━━━━━━━━━━━━━━━━\u001b[0m\u001b[37m\u001b[0m \u001b[1m0s\u001b[0m 9ms/step - loss: 0.0210 - mae: 0.1187 - val_loss: 0.0138 - val_mae: 0.0947\n",
            "Epoch 11/20\n",
            "\u001b[1m9/9\u001b[0m \u001b[32m━━━━━━━━━━━━━━━━━━━━\u001b[0m\u001b[37m\u001b[0m \u001b[1m0s\u001b[0m 9ms/step - loss: 0.0175 - mae: 0.1079 - val_loss: 0.0131 - val_mae: 0.0919\n",
            "Epoch 12/20\n",
            "\u001b[1m9/9\u001b[0m \u001b[32m━━━━━━━━━━━━━━━━━━━━\u001b[0m\u001b[37m\u001b[0m \u001b[1m0s\u001b[0m 5ms/step - loss: 0.0189 - mae: 0.1137 - val_loss: 0.0122 - val_mae: 0.0882\n",
            "Epoch 13/20\n",
            "\u001b[1m9/9\u001b[0m \u001b[32m━━━━━━━━━━━━━━━━━━━━\u001b[0m\u001b[37m\u001b[0m \u001b[1m0s\u001b[0m 5ms/step - loss: 0.0183 - mae: 0.1110 - val_loss: 0.0114 - val_mae: 0.0851\n",
            "Epoch 14/20\n",
            "\u001b[1m9/9\u001b[0m \u001b[32m━━━━━━━━━━━━━━━━━━━━\u001b[0m\u001b[37m\u001b[0m \u001b[1m0s\u001b[0m 7ms/step - loss: 0.0170 - mae: 0.1057 - val_loss: 0.0108 - val_mae: 0.0824\n",
            "Epoch 15/20\n",
            "\u001b[1m9/9\u001b[0m \u001b[32m━━━━━━━━━━━━━━━━━━━━\u001b[0m\u001b[37m\u001b[0m \u001b[1m0s\u001b[0m 5ms/step - loss: 0.0156 - mae: 0.1021 - val_loss: 0.0103 - val_mae: 0.0801\n",
            "Epoch 16/20\n",
            "\u001b[1m9/9\u001b[0m \u001b[32m━━━━━━━━━━━━━━━━━━━━\u001b[0m\u001b[37m\u001b[0m \u001b[1m0s\u001b[0m 7ms/step - loss: 0.0145 - mae: 0.0985 - val_loss: 0.0099 - val_mae: 0.0783\n",
            "Epoch 17/20\n",
            "\u001b[1m9/9\u001b[0m \u001b[32m━━━━━━━━━━━━━━━━━━━━\u001b[0m\u001b[37m\u001b[0m \u001b[1m0s\u001b[0m 5ms/step - loss: 0.0153 - mae: 0.1025 - val_loss: 0.0094 - val_mae: 0.0764\n",
            "Epoch 18/20\n",
            "\u001b[1m9/9\u001b[0m \u001b[32m━━━━━━━━━━━━━━━━━━━━\u001b[0m\u001b[37m\u001b[0m \u001b[1m0s\u001b[0m 5ms/step - loss: 0.0141 - mae: 0.0983 - val_loss: 0.0090 - val_mae: 0.0748\n",
            "Epoch 19/20\n",
            "\u001b[1m9/9\u001b[0m \u001b[32m━━━━━━━━━━━━━━━━━━━━\u001b[0m\u001b[37m\u001b[0m \u001b[1m0s\u001b[0m 7ms/step - loss: 0.0125 - mae: 0.0913 - val_loss: 0.0086 - val_mae: 0.0730\n",
            "Epoch 20/20\n",
            "\u001b[1m9/9\u001b[0m \u001b[32m━━━━━━━━━━━━━━━━━━━━\u001b[0m\u001b[37m\u001b[0m \u001b[1m0s\u001b[0m 8ms/step - loss: 0.0113 - mae: 0.0853 - val_loss: 0.0082 - val_mae: 0.0710\n",
            "\u001b[1m5/5\u001b[0m \u001b[32m━━━━━━━━━━━━━━━━━━━━\u001b[0m\u001b[37m\u001b[0m \u001b[1m0s\u001b[0m 3ms/step - loss: 0.0120 - mae: 0.0872 \n",
            "Pérdida en el conjunto de prueba (500 muestras): 0.01203224342316389\n",
            "Error absoluto medio en el conjunto de prueba (500 muestras): 0.08864325284957886\n"
          ]
        }
      ],
      "source": [
        "# E5\n",
        "# Generar datos sintéticos más pequeños\n",
        "np.random.seed(42)\n",
        "x_1_small = np.random.rand(500)\n",
        "x_2_small = np.random.rand(500)\n",
        "x_data_small = np.column_stack((x_1_small, x_2_small))\n",
        "y_data_small = x_1_small + x_2_small\n",
        "\n",
        "# Dividir el conjunto de datos en entrenamiento (70%) y prueba (30%)\n",
        "x_train_small, x_test_small, y_train_small, y_test_small = train_test_split(x_data_small, y_data_small, test_size=0.3, random_state=42)\n",
        "\n",
        "# Construir y entrenar el modelo\n",
        "model_small = Sequential([\n",
        "    Dense(64, activation='relu', input_shape=(2,)),\n",
        "    Dense(1)\n",
        "])\n",
        "model_small.compile(optimizer=Adam(), loss='mse', metrics=['mae'])\n",
        "history_small = model_small.fit(x_train_small, y_train_small, epochs=20, batch_size=32, validation_split=0.2)\n",
        "\n",
        "# Evaluar el modelo\n",
        "loss_small, mae_small = model_small.evaluate(x_test_small, y_test_small)\n",
        "print(f\"Pérdida en el conjunto de prueba (500 muestras): {loss_small}\")\n",
        "print(f\"Error absoluto medio en el conjunto de prueba (500 muestras): {mae_small}\")"
      ]
    },
    {
      "cell_type": "code",
      "execution_count": 16,
      "id": "8ad4e17e",
      "metadata": {
        "id": "8ad4e17e",
        "outputId": "8647f1d0-f82f-4c85-c941-3375caabeaf6",
        "colab": {
          "base_uri": "https://localhost:8080/"
        }
      },
      "outputs": [
        {
          "output_type": "stream",
          "name": "stdout",
          "text": [
            "Epoch 1/20\n",
            "\u001b[1m35/35\u001b[0m \u001b[32m━━━━━━━━━━━━━━━━━━━━\u001b[0m\u001b[37m\u001b[0m \u001b[1m1s\u001b[0m 7ms/step - loss: 1.1116 - mae: 0.9610 - val_loss: 0.5392 - val_mae: 0.6562\n",
            "Epoch 2/20\n",
            "\u001b[1m35/35\u001b[0m \u001b[32m━━━━━━━━━━━━━━━━━━━━\u001b[0m\u001b[37m\u001b[0m \u001b[1m0s\u001b[0m 3ms/step - loss: 0.4048 - mae: 0.5451 - val_loss: 0.1039 - val_mae: 0.2654\n",
            "Epoch 3/20\n",
            "\u001b[1m35/35\u001b[0m \u001b[32m━━━━━━━━━━━━━━━━━━━━\u001b[0m\u001b[37m\u001b[0m \u001b[1m0s\u001b[0m 2ms/step - loss: 0.0698 - mae: 0.2147 - val_loss: 0.0350 - val_mae: 0.1555\n",
            "Epoch 4/20\n",
            "\u001b[1m35/35\u001b[0m \u001b[32m━━━━━━━━━━━━━━━━━━━━\u001b[0m\u001b[37m\u001b[0m \u001b[1m0s\u001b[0m 2ms/step - loss: 0.0377 - mae: 0.1603 - val_loss: 0.0296 - val_mae: 0.1422\n",
            "Epoch 5/20\n",
            "\u001b[1m35/35\u001b[0m \u001b[32m━━━━━━━━━━━━━━━━━━━━\u001b[0m\u001b[37m\u001b[0m \u001b[1m0s\u001b[0m 2ms/step - loss: 0.0298 - mae: 0.1431 - val_loss: 0.0251 - val_mae: 0.1305\n",
            "Epoch 6/20\n",
            "\u001b[1m35/35\u001b[0m \u001b[32m━━━━━━━━━━━━━━━━━━━━\u001b[0m\u001b[37m\u001b[0m \u001b[1m0s\u001b[0m 2ms/step - loss: 0.0261 - mae: 0.1331 - val_loss: 0.0211 - val_mae: 0.1193\n",
            "Epoch 7/20\n",
            "\u001b[1m35/35\u001b[0m \u001b[32m━━━━━━━━━━━━━━━━━━━━\u001b[0m\u001b[37m\u001b[0m \u001b[1m0s\u001b[0m 2ms/step - loss: 0.0223 - mae: 0.1241 - val_loss: 0.0173 - val_mae: 0.1078\n",
            "Epoch 8/20\n",
            "\u001b[1m35/35\u001b[0m \u001b[32m━━━━━━━━━━━━━━━━━━━━\u001b[0m\u001b[37m\u001b[0m \u001b[1m0s\u001b[0m 2ms/step - loss: 0.0183 - mae: 0.1122 - val_loss: 0.0140 - val_mae: 0.0972\n",
            "Epoch 9/20\n",
            "\u001b[1m35/35\u001b[0m \u001b[32m━━━━━━━━━━━━━━━━━━━━\u001b[0m\u001b[37m\u001b[0m \u001b[1m0s\u001b[0m 2ms/step - loss: 0.0152 - mae: 0.1007 - val_loss: 0.0110 - val_mae: 0.0858\n",
            "Epoch 10/20\n",
            "\u001b[1m35/35\u001b[0m \u001b[32m━━━━━━━━━━━━━━━━━━━━\u001b[0m\u001b[37m\u001b[0m \u001b[1m0s\u001b[0m 3ms/step - loss: 0.0109 - mae: 0.0852 - val_loss: 0.0085 - val_mae: 0.0755\n",
            "Epoch 11/20\n",
            "\u001b[1m35/35\u001b[0m \u001b[32m━━━━━━━━━━━━━━━━━━━━\u001b[0m\u001b[37m\u001b[0m \u001b[1m0s\u001b[0m 2ms/step - loss: 0.0089 - mae: 0.0770 - val_loss: 0.0064 - val_mae: 0.0651\n",
            "Epoch 12/20\n",
            "\u001b[1m35/35\u001b[0m \u001b[32m━━━━━━━━━━━━━━━━━━━━\u001b[0m\u001b[37m\u001b[0m \u001b[1m0s\u001b[0m 3ms/step - loss: 0.0063 - mae: 0.0651 - val_loss: 0.0046 - val_mae: 0.0550\n",
            "Epoch 13/20\n",
            "\u001b[1m35/35\u001b[0m \u001b[32m━━━━━━━━━━━━━━━━━━━━\u001b[0m\u001b[37m\u001b[0m \u001b[1m0s\u001b[0m 3ms/step - loss: 0.0046 - mae: 0.0558 - val_loss: 0.0031 - val_mae: 0.0452\n",
            "Epoch 14/20\n",
            "\u001b[1m35/35\u001b[0m \u001b[32m━━━━━━━━━━━━━━━━━━━━\u001b[0m\u001b[37m\u001b[0m \u001b[1m0s\u001b[0m 3ms/step - loss: 0.0028 - mae: 0.0435 - val_loss: 0.0020 - val_mae: 0.0363\n",
            "Epoch 15/20\n",
            "\u001b[1m35/35\u001b[0m \u001b[32m━━━━━━━━━━━━━━━━━━━━\u001b[0m\u001b[37m\u001b[0m \u001b[1m0s\u001b[0m 2ms/step - loss: 0.0018 - mae: 0.0347 - val_loss: 0.0012 - val_mae: 0.0281\n",
            "Epoch 16/20\n",
            "\u001b[1m35/35\u001b[0m \u001b[32m━━━━━━━━━━━━━━━━━━━━\u001b[0m\u001b[37m\u001b[0m \u001b[1m0s\u001b[0m 2ms/step - loss: 0.0011 - mae: 0.0268 - val_loss: 6.3389e-04 - val_mae: 0.0203\n",
            "Epoch 17/20\n",
            "\u001b[1m35/35\u001b[0m \u001b[32m━━━━━━━━━━━━━━━━━━━━\u001b[0m\u001b[37m\u001b[0m \u001b[1m0s\u001b[0m 2ms/step - loss: 6.0597e-04 - mae: 0.0196 - val_loss: 3.2979e-04 - val_mae: 0.0145\n",
            "Epoch 18/20\n",
            "\u001b[1m35/35\u001b[0m \u001b[32m━━━━━━━━━━━━━━━━━━━━\u001b[0m\u001b[37m\u001b[0m \u001b[1m0s\u001b[0m 2ms/step - loss: 2.9747e-04 - mae: 0.0135 - val_loss: 2.0591e-04 - val_mae: 0.0116\n",
            "Epoch 19/20\n",
            "\u001b[1m35/35\u001b[0m \u001b[32m━━━━━━━━━━━━━━━━━━━━\u001b[0m\u001b[37m\u001b[0m \u001b[1m0s\u001b[0m 3ms/step - loss: 1.9182e-04 - mae: 0.0107 - val_loss: 1.5578e-04 - val_mae: 0.0102\n",
            "Epoch 20/20\n",
            "\u001b[1m35/35\u001b[0m \u001b[32m━━━━━━━━━━━━━━━━━━━━\u001b[0m\u001b[37m\u001b[0m \u001b[1m0s\u001b[0m 3ms/step - loss: 1.5092e-04 - mae: 0.0097 - val_loss: 1.3496e-04 - val_mae: 0.0095\n",
            "\u001b[1m19/19\u001b[0m \u001b[32m━━━━━━━━━━━━━━━━━━━━\u001b[0m\u001b[37m\u001b[0m \u001b[1m0s\u001b[0m 1ms/step - loss: 1.5673e-04 - mae: 0.0097 \n",
            "Pérdida en el conjunto de prueba (2000 muestras): 0.0001479586208006367\n",
            "Error absoluto medio en el conjunto de prueba (2000 muestras): 0.009515698067843914\n"
          ]
        }
      ],
      "source": [
        "# Generar datos sintéticos más grandes\n",
        "np.random.seed(42)\n",
        "x_1_large = np.random.rand(2000)\n",
        "x_2_large = np.random.rand(2000)\n",
        "x_data_large = np.column_stack((x_1_large, x_2_large))\n",
        "y_data_large = x_1_large + x_2_large\n",
        "\n",
        "# Dividir el conjunto de datos en entrenamiento (70%) y prueba (30%)\n",
        "x_train_large, x_test_large, y_train_large, y_test_large = train_test_split(x_data_large, y_data_large, test_size=0.3, random_state=42)\n",
        "\n",
        "# Construir y entrenar el modelo\n",
        "model_large = Sequential([\n",
        "    Dense(64, activation='relu', input_shape=(2,)),\n",
        "    Dense(1)\n",
        "])\n",
        "model_large.compile(optimizer=Adam(), loss='mse', metrics=['mae'])\n",
        "history_large = model_large.fit(x_train_large, y_train_large, epochs=20, batch_size=32, validation_split=0.2)\n",
        "\n",
        "# Evaluar el modelo\n",
        "loss_large, mae_large = model_large.evaluate(x_test_large, y_test_large)\n",
        "print(f'Pérdida en el conjunto de prueba (2000 muestras): {loss_large}')\n",
        "print(f'Error absoluto medio en el conjunto de prueba (2000 muestras): {mae_large}')"
      ]
    },
    {
      "cell_type": "code",
      "execution_count": 17,
      "id": "ab2a45c4",
      "metadata": {
        "id": "ab2a45c4",
        "outputId": "1bab30a9-07f1-439e-f78b-9645688b78d9",
        "colab": {
          "base_uri": "https://localhost:8080/"
        }
      },
      "outputs": [
        {
          "output_type": "stream",
          "name": "stdout",
          "text": [
            "Epoch 1/20\n",
            "\u001b[1m18/18\u001b[0m \u001b[32m━━━━━━━━━━━━━━━━━━━━\u001b[0m\u001b[37m\u001b[0m \u001b[1m1s\u001b[0m 11ms/step - loss: 0.6921 - mae: 0.7493 - val_loss: 0.3590 - val_mae: 0.5166\n",
            "Epoch 2/20\n",
            "\u001b[1m18/18\u001b[0m \u001b[32m━━━━━━━━━━━━━━━━━━━━\u001b[0m\u001b[37m\u001b[0m \u001b[1m0s\u001b[0m 4ms/step - loss: 0.3239 - mae: 0.4889 - val_loss: 0.1197 - val_mae: 0.2796\n",
            "Epoch 3/20\n",
            "\u001b[1m18/18\u001b[0m \u001b[32m━━━━━━━━━━━━━━━━━━━━\u001b[0m\u001b[37m\u001b[0m \u001b[1m0s\u001b[0m 4ms/step - loss: 0.0914 - mae: 0.2434 - val_loss: 0.0432 - val_mae: 0.1714\n",
            "Epoch 4/20\n",
            "\u001b[1m18/18\u001b[0m \u001b[32m━━━━━━━━━━━━━━━━━━━━\u001b[0m\u001b[37m\u001b[0m \u001b[1m0s\u001b[0m 4ms/step - loss: 0.0380 - mae: 0.1594 - val_loss: 0.0357 - val_mae: 0.1553\n",
            "Epoch 5/20\n",
            "\u001b[1m18/18\u001b[0m \u001b[32m━━━━━━━━━━━━━━━━━━━━\u001b[0m\u001b[37m\u001b[0m \u001b[1m0s\u001b[0m 4ms/step - loss: 0.0340 - mae: 0.1527 - val_loss: 0.0319 - val_mae: 0.1464\n",
            "Epoch 6/20\n",
            "\u001b[1m18/18\u001b[0m \u001b[32m━━━━━━━━━━━━━━━━━━━━\u001b[0m\u001b[37m\u001b[0m \u001b[1m0s\u001b[0m 3ms/step - loss: 0.0298 - mae: 0.1412 - val_loss: 0.0284 - val_mae: 0.1374\n",
            "Epoch 7/20\n",
            "\u001b[1m18/18\u001b[0m \u001b[32m━━━━━━━━━━━━━━━━━━━━\u001b[0m\u001b[37m\u001b[0m \u001b[1m0s\u001b[0m 4ms/step - loss: 0.0265 - mae: 0.1320 - val_loss: 0.0259 - val_mae: 0.1309\n",
            "Epoch 8/20\n",
            "\u001b[1m18/18\u001b[0m \u001b[32m━━━━━━━━━━━━━━━━━━━━\u001b[0m\u001b[37m\u001b[0m \u001b[1m0s\u001b[0m 4ms/step - loss: 0.0240 - mae: 0.1267 - val_loss: 0.0238 - val_mae: 0.1248\n",
            "Epoch 9/20\n",
            "\u001b[1m18/18\u001b[0m \u001b[32m━━━━━━━━━━━━━━━━━━━━\u001b[0m\u001b[37m\u001b[0m \u001b[1m0s\u001b[0m 3ms/step - loss: 0.0218 - mae: 0.1182 - val_loss: 0.0219 - val_mae: 0.1197\n",
            "Epoch 10/20\n",
            "\u001b[1m18/18\u001b[0m \u001b[32m━━━━━━━━━━━━━━━━━━━━\u001b[0m\u001b[37m\u001b[0m \u001b[1m0s\u001b[0m 4ms/step - loss: 0.0204 - mae: 0.1144 - val_loss: 0.0202 - val_mae: 0.1143\n",
            "Epoch 11/20\n",
            "\u001b[1m18/18\u001b[0m \u001b[32m━━━━━━━━━━━━━━━━━━━━\u001b[0m\u001b[37m\u001b[0m \u001b[1m0s\u001b[0m 4ms/step - loss: 0.0183 - mae: 0.1093 - val_loss: 0.0186 - val_mae: 0.1099\n",
            "Epoch 12/20\n",
            "\u001b[1m18/18\u001b[0m \u001b[32m━━━━━━━━━━━━━━━━━━━━\u001b[0m\u001b[37m\u001b[0m \u001b[1m0s\u001b[0m 5ms/step - loss: 0.0190 - mae: 0.1119 - val_loss: 0.0172 - val_mae: 0.1054\n",
            "Epoch 13/20\n",
            "\u001b[1m18/18\u001b[0m \u001b[32m━━━━━━━━━━━━━━━━━━━━\u001b[0m\u001b[37m\u001b[0m \u001b[1m0s\u001b[0m 4ms/step - loss: 0.0152 - mae: 0.0989 - val_loss: 0.0159 - val_mae: 0.1014\n",
            "Epoch 14/20\n",
            "\u001b[1m18/18\u001b[0m \u001b[32m━━━━━━━━━━━━━━━━━━━━\u001b[0m\u001b[37m\u001b[0m \u001b[1m0s\u001b[0m 4ms/step - loss: 0.0156 - mae: 0.1015 - val_loss: 0.0148 - val_mae: 0.0980\n",
            "Epoch 15/20\n",
            "\u001b[1m18/18\u001b[0m \u001b[32m━━━━━━━━━━━━━━━━━━━━\u001b[0m\u001b[37m\u001b[0m \u001b[1m0s\u001b[0m 3ms/step - loss: 0.0149 - mae: 0.0986 - val_loss: 0.0138 - val_mae: 0.0944\n",
            "Epoch 16/20\n",
            "\u001b[1m18/18\u001b[0m \u001b[32m━━━━━━━━━━━━━━━━━━━━\u001b[0m\u001b[37m\u001b[0m \u001b[1m0s\u001b[0m 4ms/step - loss: 0.0144 - mae: 0.0946 - val_loss: 0.0130 - val_mae: 0.0915\n",
            "Epoch 17/20\n",
            "\u001b[1m18/18\u001b[0m \u001b[32m━━━━━━━━━━━━━━━━━━━━\u001b[0m\u001b[37m\u001b[0m \u001b[1m0s\u001b[0m 3ms/step - loss: 0.0128 - mae: 0.0907 - val_loss: 0.0122 - val_mae: 0.0887\n",
            "Epoch 18/20\n",
            "\u001b[1m18/18\u001b[0m \u001b[32m━━━━━━━━━━━━━━━━━━━━\u001b[0m\u001b[37m\u001b[0m \u001b[1m0s\u001b[0m 3ms/step - loss: 0.0119 - mae: 0.0883 - val_loss: 0.0116 - val_mae: 0.0860\n",
            "Epoch 19/20\n",
            "\u001b[1m18/18\u001b[0m \u001b[32m━━━━━━━━━━━━━━━━━━━━\u001b[0m\u001b[37m\u001b[0m \u001b[1m0s\u001b[0m 3ms/step - loss: 0.0121 - mae: 0.0879 - val_loss: 0.0110 - val_mae: 0.0839\n",
            "Epoch 20/20\n",
            "\u001b[1m18/18\u001b[0m \u001b[32m━━━━━━━━━━━━━━━━━━━━\u001b[0m\u001b[37m\u001b[0m \u001b[1m0s\u001b[0m 4ms/step - loss: 0.0115 - mae: 0.0856 - val_loss: 0.0106 - val_mae: 0.0819\n",
            "\u001b[1m10/10\u001b[0m \u001b[32m━━━━━━━━━━━━━━━━━━━━\u001b[0m\u001b[37m\u001b[0m \u001b[1m0s\u001b[0m 2ms/step - loss: 0.0104 - mae: 0.0819 \n",
            "Pérdida en el conjunto de prueba (con ruido): 0.010469089262187481\n",
            "Error absoluto medio en el conjunto de prueba (con ruido): 0.0820687934756279\n"
          ]
        }
      ],
      "source": [
        "# E6\n",
        "# Generar datos sintéticos con ruido\n",
        "np.random.seed(42)\n",
        "x_1_noise = np.random.rand(1000)\n",
        "x_2_noise = np.random.rand(1000)\n",
        "x_data_noise = np.column_stack((x_1_noise, x_2_noise))\n",
        "y_data_noise = x_1_noise + x_2_noise + np.random.normal(0, 0.1, 1000)  # Añadir ruido gaussiano\n",
        "\n",
        "# Dividir el conjunto de datos en entrenamiento (70%) y prueba (30%)\n",
        "x_train_noise, x_test_noise, y_train_noise, y_test_noise = train_test_split(x_data_noise, y_data_noise, test_size=0.3, random_state=42)\n",
        "\n",
        "# Construir y entrenar el modelo\n",
        "model_noise = Sequential([\n",
        "    Dense(64, activation='relu', input_shape=(2,)),\n",
        "    Dense(1)\n",
        "])\n",
        "model_noise.compile(optimizer=Adam(), loss='mse', metrics=['mae'])\n",
        "history_noise = model_noise.fit(x_train_noise, y_train_noise, epochs=20, batch_size=32, validation_split=0.2)\n",
        "\n",
        "# Evaluar el modelo\n",
        "loss_noise, mae_noise = model_noise.evaluate(x_test_noise, y_test_noise)\n",
        "print(f'Pérdida en el conjunto de prueba (con ruido): {loss_noise}')\n",
        "print(f'Error absoluto medio en el conjunto de prueba (con ruido): {mae_noise}')"
      ]
    }
  ],
  "metadata": {
    "kernelspec": {
      "display_name": "Python 3",
      "language": "python",
      "name": "python3"
    },
    "language_info": {
      "codemirror_mode": {
        "name": "ipython",
        "version": 3
      },
      "file_extension": ".py",
      "mimetype": "text/x-python",
      "name": "python",
      "nbconvert_exporter": "python",
      "pygments_lexer": "ipython3",
      "version": "3.12.1"
    },
    "papermill": {
      "default_parameters": {},
      "duration": 14.503705,
      "end_time": "2024-09-10T18:50:39.408748",
      "environment_variables": {},
      "exception": null,
      "input_path": "./s02.ipynb",
      "output_path": "/home/rufernan/local/DOCENCIA/_2024_2025/C1_PI/PRACTICAS/s02/s02.ipynb",
      "parameters": {},
      "start_time": "2024-09-10T18:50:24.905043",
      "version": "2.6.0"
    },
    "colab": {
      "provenance": []
    }
  },
  "nbformat": 4,
  "nbformat_minor": 5
}