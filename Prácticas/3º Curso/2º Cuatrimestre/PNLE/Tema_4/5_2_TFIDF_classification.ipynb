{
  "cells": [
    {
      "cell_type": "markdown",
      "metadata": {
        "id": "qPUnt7MLyXMN"
      },
      "source": [
        "## Clasificación de texto con scikit-learn y TFIDF\n",
        "\n",
        "En esta sesión vamos a ver cómo podemos desarrollar un clasificador de texto sencillo con la librería scikit y la representación de texto de la bolsa de palabras usando TFIDF y BM25.\n",
        "\n",
        "Vamos a usar el dataset de la sesión 2.1 que tiene etiquetado los tuits como positivos y negativos."
      ]
    },
    {
      "cell_type": "code",
      "execution_count": 35,
      "metadata": {
        "colab": {
          "base_uri": "https://localhost:8080/"
        },
        "id": "_2_-eP2xhwcu",
        "outputId": "d1e96e4e-9a9e-4260-8454-3d0ee7d23af3"
      },
      "outputs": [
        {
          "output_type": "stream",
          "name": "stdout",
          "text": [
            "Requirement already satisfied: scikit-learn in /usr/local/lib/python3.11/dist-packages (1.6.1)\n",
            "Requirement already satisfied: numpy>=1.19.5 in /usr/local/lib/python3.11/dist-packages (from scikit-learn) (2.0.2)\n",
            "Requirement already satisfied: scipy>=1.6.0 in /usr/local/lib/python3.11/dist-packages (from scikit-learn) (1.14.1)\n",
            "Requirement already satisfied: joblib>=1.2.0 in /usr/local/lib/python3.11/dist-packages (from scikit-learn) (1.4.2)\n",
            "Requirement already satisfied: threadpoolctl>=3.1.0 in /usr/local/lib/python3.11/dist-packages (from scikit-learn) (3.6.0)\n",
            "--2025-03-20 11:38:28--  https://valencia.inf.um.es/dlpln/BM25.py\n",
            "Resolving valencia.inf.um.es (valencia.inf.um.es)... 155.54.204.133\n",
            "Connecting to valencia.inf.um.es (valencia.inf.um.es)|155.54.204.133|:443... connected.\n",
            "HTTP request sent, awaiting response... 200 OK\n",
            "Length: 3049 (3.0K) [text/x-python]\n",
            "Saving to: ‘BM25.py.2’\n",
            "\n",
            "BM25.py.2           100%[===================>]   2.98K  --.-KB/s    in 0s      \n",
            "\n",
            "2025-03-20 11:38:29 (924 MB/s) - ‘BM25.py.2’ saved [3049/3049]\n",
            "\n",
            "--2025-03-20 11:38:29--  https://valencia.inf.um.es/dlpln/datasetEspa%C3%B1ol.csv\n",
            "Resolving valencia.inf.um.es (valencia.inf.um.es)... 155.54.204.133\n",
            "Connecting to valencia.inf.um.es (valencia.inf.um.es)|155.54.204.133|:443... connected.\n",
            "HTTP request sent, awaiting response... 200 OK\n",
            "Length: 1953117 (1.9M) [text/csv]\n",
            "Saving to: ‘datasetEspañol.csv.2’\n",
            "\n",
            "datasetEspañol.csv. 100%[===================>]   1.86M  2.04MB/s    in 0.9s    \n",
            "\n",
            "2025-03-20 11:38:30 (2.04 MB/s) - ‘datasetEspañol.csv.2’ saved [1953117/1953117]\n",
            "\n"
          ]
        }
      ],
      "source": [
        "# Instalamos las librerías necesarias y descargamos los recursos\n",
        "!pip3 install -U scikit-learn\n",
        "# Descargamos un fichero python con la implementación del BM25\n",
        "!wget --no-check-certificate https://valencia.inf.um.es/dlpln/BM25.py\n",
        "\n",
        "# Descargamos el fichero datasetEspañol.csv\n",
        "!wget --no-check-certificate https://valencia.inf.um.es/dlpln/datasetEspañol.csv"
      ]
    },
    {
      "cell_type": "code",
      "execution_count": 36,
      "metadata": {
        "colab": {
          "base_uri": "https://localhost:8080/",
          "height": 293
        },
        "id": "M7fTg51ByRvw",
        "outputId": "0ae100b8-ed06-4450-a098-aacc79c1f19e"
      },
      "outputs": [
        {
          "output_type": "execute_result",
          "data": {
            "text/plain": [
              "               twitter_id   twitter_created_at  \\\n",
              "5954  1274324047581581316  2020-06-20 16:51:43   \n",
              "5955  1274321386446733315  2020-06-20 16:41:08   \n",
              "5956  1274340519271858178  2020-06-20 17:57:10   \n",
              "5957  1274367246979211269  2020-06-20 19:43:22   \n",
              "5958  1274368625047220224  2020-06-20 19:48:51   \n",
              "\n",
              "                                                  tweet  \\\n",
              "5954  No me fío nada! ? en #estadodealarma demostrar...   \n",
              "5955  @roldanfj1 @MikiyDuarte @diariocadiz @realDona...   \n",
              "5956  Con el fin del #EstadodeAlarma se acaban, tamb...   \n",
              "5957  @horaciorlarreta. @AsisOberdan. @luisnovaresio...   \n",
              "5958  En la última semana se han registrado 36 falle...   \n",
              "\n",
              "                                   corpus             user  agreement  votes  \\\n",
              "5954  Estado de alarma nacional (oficial)   GuzmanitaMaria        100      1   \n",
              "5955  Estado de alarma nacional (oficial)        ByChanchi        100      1   \n",
              "5956  Estado de alarma nacional (oficial)  Javiersilvestre        100      1   \n",
              "5957  Estado de alarma nacional (oficial)     juliodebarna        100      1   \n",
              "5958  Estado de alarma nacional (oficial)   mallorcadiario        100      1   \n",
              "\n",
              "      score     label __split  \n",
              "5954     -1  negative    test  \n",
              "5955     -1  negative   train  \n",
              "5956     -1  negative     val  \n",
              "5957     -1  negative   train  \n",
              "5958     -1  negative   train  "
            ],
            "text/html": [
              "\n",
              "  <div id=\"df-26aa2e05-4d31-42a6-ad26-ebbbd6df0e25\" class=\"colab-df-container\">\n",
              "    <div>\n",
              "<style scoped>\n",
              "    .dataframe tbody tr th:only-of-type {\n",
              "        vertical-align: middle;\n",
              "    }\n",
              "\n",
              "    .dataframe tbody tr th {\n",
              "        vertical-align: top;\n",
              "    }\n",
              "\n",
              "    .dataframe thead th {\n",
              "        text-align: right;\n",
              "    }\n",
              "</style>\n",
              "<table border=\"1\" class=\"dataframe\">\n",
              "  <thead>\n",
              "    <tr style=\"text-align: right;\">\n",
              "      <th></th>\n",
              "      <th>twitter_id</th>\n",
              "      <th>twitter_created_at</th>\n",
              "      <th>tweet</th>\n",
              "      <th>corpus</th>\n",
              "      <th>user</th>\n",
              "      <th>agreement</th>\n",
              "      <th>votes</th>\n",
              "      <th>score</th>\n",
              "      <th>label</th>\n",
              "      <th>__split</th>\n",
              "    </tr>\n",
              "  </thead>\n",
              "  <tbody>\n",
              "    <tr>\n",
              "      <th>5954</th>\n",
              "      <td>1274324047581581316</td>\n",
              "      <td>2020-06-20 16:51:43</td>\n",
              "      <td>No me fío nada! ? en #estadodealarma demostrar...</td>\n",
              "      <td>Estado de alarma nacional (oficial)</td>\n",
              "      <td>GuzmanitaMaria</td>\n",
              "      <td>100</td>\n",
              "      <td>1</td>\n",
              "      <td>-1</td>\n",
              "      <td>negative</td>\n",
              "      <td>test</td>\n",
              "    </tr>\n",
              "    <tr>\n",
              "      <th>5955</th>\n",
              "      <td>1274321386446733315</td>\n",
              "      <td>2020-06-20 16:41:08</td>\n",
              "      <td>@roldanfj1 @MikiyDuarte @diariocadiz @realDona...</td>\n",
              "      <td>Estado de alarma nacional (oficial)</td>\n",
              "      <td>ByChanchi</td>\n",
              "      <td>100</td>\n",
              "      <td>1</td>\n",
              "      <td>-1</td>\n",
              "      <td>negative</td>\n",
              "      <td>train</td>\n",
              "    </tr>\n",
              "    <tr>\n",
              "      <th>5956</th>\n",
              "      <td>1274340519271858178</td>\n",
              "      <td>2020-06-20 17:57:10</td>\n",
              "      <td>Con el fin del #EstadodeAlarma se acaban, tamb...</td>\n",
              "      <td>Estado de alarma nacional (oficial)</td>\n",
              "      <td>Javiersilvestre</td>\n",
              "      <td>100</td>\n",
              "      <td>1</td>\n",
              "      <td>-1</td>\n",
              "      <td>negative</td>\n",
              "      <td>val</td>\n",
              "    </tr>\n",
              "    <tr>\n",
              "      <th>5957</th>\n",
              "      <td>1274367246979211269</td>\n",
              "      <td>2020-06-20 19:43:22</td>\n",
              "      <td>@horaciorlarreta. @AsisOberdan. @luisnovaresio...</td>\n",
              "      <td>Estado de alarma nacional (oficial)</td>\n",
              "      <td>juliodebarna</td>\n",
              "      <td>100</td>\n",
              "      <td>1</td>\n",
              "      <td>-1</td>\n",
              "      <td>negative</td>\n",
              "      <td>train</td>\n",
              "    </tr>\n",
              "    <tr>\n",
              "      <th>5958</th>\n",
              "      <td>1274368625047220224</td>\n",
              "      <td>2020-06-20 19:48:51</td>\n",
              "      <td>En la última semana se han registrado 36 falle...</td>\n",
              "      <td>Estado de alarma nacional (oficial)</td>\n",
              "      <td>mallorcadiario</td>\n",
              "      <td>100</td>\n",
              "      <td>1</td>\n",
              "      <td>-1</td>\n",
              "      <td>negative</td>\n",
              "      <td>train</td>\n",
              "    </tr>\n",
              "  </tbody>\n",
              "</table>\n",
              "</div>\n",
              "    <div class=\"colab-df-buttons\">\n",
              "\n",
              "  <div class=\"colab-df-container\">\n",
              "    <button class=\"colab-df-convert\" onclick=\"convertToInteractive('df-26aa2e05-4d31-42a6-ad26-ebbbd6df0e25')\"\n",
              "            title=\"Convert this dataframe to an interactive table.\"\n",
              "            style=\"display:none;\">\n",
              "\n",
              "  <svg xmlns=\"http://www.w3.org/2000/svg\" height=\"24px\" viewBox=\"0 -960 960 960\">\n",
              "    <path d=\"M120-120v-720h720v720H120Zm60-500h600v-160H180v160Zm220 220h160v-160H400v160Zm0 220h160v-160H400v160ZM180-400h160v-160H180v160Zm440 0h160v-160H620v160ZM180-180h160v-160H180v160Zm440 0h160v-160H620v160Z\"/>\n",
              "  </svg>\n",
              "    </button>\n",
              "\n",
              "  <style>\n",
              "    .colab-df-container {\n",
              "      display:flex;\n",
              "      gap: 12px;\n",
              "    }\n",
              "\n",
              "    .colab-df-convert {\n",
              "      background-color: #E8F0FE;\n",
              "      border: none;\n",
              "      border-radius: 50%;\n",
              "      cursor: pointer;\n",
              "      display: none;\n",
              "      fill: #1967D2;\n",
              "      height: 32px;\n",
              "      padding: 0 0 0 0;\n",
              "      width: 32px;\n",
              "    }\n",
              "\n",
              "    .colab-df-convert:hover {\n",
              "      background-color: #E2EBFA;\n",
              "      box-shadow: 0px 1px 2px rgba(60, 64, 67, 0.3), 0px 1px 3px 1px rgba(60, 64, 67, 0.15);\n",
              "      fill: #174EA6;\n",
              "    }\n",
              "\n",
              "    .colab-df-buttons div {\n",
              "      margin-bottom: 4px;\n",
              "    }\n",
              "\n",
              "    [theme=dark] .colab-df-convert {\n",
              "      background-color: #3B4455;\n",
              "      fill: #D2E3FC;\n",
              "    }\n",
              "\n",
              "    [theme=dark] .colab-df-convert:hover {\n",
              "      background-color: #434B5C;\n",
              "      box-shadow: 0px 1px 3px 1px rgba(0, 0, 0, 0.15);\n",
              "      filter: drop-shadow(0px 1px 2px rgba(0, 0, 0, 0.3));\n",
              "      fill: #FFFFFF;\n",
              "    }\n",
              "  </style>\n",
              "\n",
              "    <script>\n",
              "      const buttonEl =\n",
              "        document.querySelector('#df-26aa2e05-4d31-42a6-ad26-ebbbd6df0e25 button.colab-df-convert');\n",
              "      buttonEl.style.display =\n",
              "        google.colab.kernel.accessAllowed ? 'block' : 'none';\n",
              "\n",
              "      async function convertToInteractive(key) {\n",
              "        const element = document.querySelector('#df-26aa2e05-4d31-42a6-ad26-ebbbd6df0e25');\n",
              "        const dataTable =\n",
              "          await google.colab.kernel.invokeFunction('convertToInteractive',\n",
              "                                                    [key], {});\n",
              "        if (!dataTable) return;\n",
              "\n",
              "        const docLinkHtml = 'Like what you see? Visit the ' +\n",
              "          '<a target=\"_blank\" href=https://colab.research.google.com/notebooks/data_table.ipynb>data table notebook</a>'\n",
              "          + ' to learn more about interactive tables.';\n",
              "        element.innerHTML = '';\n",
              "        dataTable['output_type'] = 'display_data';\n",
              "        await google.colab.output.renderOutput(dataTable, element);\n",
              "        const docLink = document.createElement('div');\n",
              "        docLink.innerHTML = docLinkHtml;\n",
              "        element.appendChild(docLink);\n",
              "      }\n",
              "    </script>\n",
              "  </div>\n",
              "\n",
              "\n",
              "<div id=\"df-e648a249-603b-4874-8e18-277c44cabc38\">\n",
              "  <button class=\"colab-df-quickchart\" onclick=\"quickchart('df-e648a249-603b-4874-8e18-277c44cabc38')\"\n",
              "            title=\"Suggest charts\"\n",
              "            style=\"display:none;\">\n",
              "\n",
              "<svg xmlns=\"http://www.w3.org/2000/svg\" height=\"24px\"viewBox=\"0 0 24 24\"\n",
              "     width=\"24px\">\n",
              "    <g>\n",
              "        <path d=\"M19 3H5c-1.1 0-2 .9-2 2v14c0 1.1.9 2 2 2h14c1.1 0 2-.9 2-2V5c0-1.1-.9-2-2-2zM9 17H7v-7h2v7zm4 0h-2V7h2v10zm4 0h-2v-4h2v4z\"/>\n",
              "    </g>\n",
              "</svg>\n",
              "  </button>\n",
              "\n",
              "<style>\n",
              "  .colab-df-quickchart {\n",
              "      --bg-color: #E8F0FE;\n",
              "      --fill-color: #1967D2;\n",
              "      --hover-bg-color: #E2EBFA;\n",
              "      --hover-fill-color: #174EA6;\n",
              "      --disabled-fill-color: #AAA;\n",
              "      --disabled-bg-color: #DDD;\n",
              "  }\n",
              "\n",
              "  [theme=dark] .colab-df-quickchart {\n",
              "      --bg-color: #3B4455;\n",
              "      --fill-color: #D2E3FC;\n",
              "      --hover-bg-color: #434B5C;\n",
              "      --hover-fill-color: #FFFFFF;\n",
              "      --disabled-bg-color: #3B4455;\n",
              "      --disabled-fill-color: #666;\n",
              "  }\n",
              "\n",
              "  .colab-df-quickchart {\n",
              "    background-color: var(--bg-color);\n",
              "    border: none;\n",
              "    border-radius: 50%;\n",
              "    cursor: pointer;\n",
              "    display: none;\n",
              "    fill: var(--fill-color);\n",
              "    height: 32px;\n",
              "    padding: 0;\n",
              "    width: 32px;\n",
              "  }\n",
              "\n",
              "  .colab-df-quickchart:hover {\n",
              "    background-color: var(--hover-bg-color);\n",
              "    box-shadow: 0 1px 2px rgba(60, 64, 67, 0.3), 0 1px 3px 1px rgba(60, 64, 67, 0.15);\n",
              "    fill: var(--button-hover-fill-color);\n",
              "  }\n",
              "\n",
              "  .colab-df-quickchart-complete:disabled,\n",
              "  .colab-df-quickchart-complete:disabled:hover {\n",
              "    background-color: var(--disabled-bg-color);\n",
              "    fill: var(--disabled-fill-color);\n",
              "    box-shadow: none;\n",
              "  }\n",
              "\n",
              "  .colab-df-spinner {\n",
              "    border: 2px solid var(--fill-color);\n",
              "    border-color: transparent;\n",
              "    border-bottom-color: var(--fill-color);\n",
              "    animation:\n",
              "      spin 1s steps(1) infinite;\n",
              "  }\n",
              "\n",
              "  @keyframes spin {\n",
              "    0% {\n",
              "      border-color: transparent;\n",
              "      border-bottom-color: var(--fill-color);\n",
              "      border-left-color: var(--fill-color);\n",
              "    }\n",
              "    20% {\n",
              "      border-color: transparent;\n",
              "      border-left-color: var(--fill-color);\n",
              "      border-top-color: var(--fill-color);\n",
              "    }\n",
              "    30% {\n",
              "      border-color: transparent;\n",
              "      border-left-color: var(--fill-color);\n",
              "      border-top-color: var(--fill-color);\n",
              "      border-right-color: var(--fill-color);\n",
              "    }\n",
              "    40% {\n",
              "      border-color: transparent;\n",
              "      border-right-color: var(--fill-color);\n",
              "      border-top-color: var(--fill-color);\n",
              "    }\n",
              "    60% {\n",
              "      border-color: transparent;\n",
              "      border-right-color: var(--fill-color);\n",
              "    }\n",
              "    80% {\n",
              "      border-color: transparent;\n",
              "      border-right-color: var(--fill-color);\n",
              "      border-bottom-color: var(--fill-color);\n",
              "    }\n",
              "    90% {\n",
              "      border-color: transparent;\n",
              "      border-bottom-color: var(--fill-color);\n",
              "    }\n",
              "  }\n",
              "</style>\n",
              "\n",
              "  <script>\n",
              "    async function quickchart(key) {\n",
              "      const quickchartButtonEl =\n",
              "        document.querySelector('#' + key + ' button');\n",
              "      quickchartButtonEl.disabled = true;  // To prevent multiple clicks.\n",
              "      quickchartButtonEl.classList.add('colab-df-spinner');\n",
              "      try {\n",
              "        const charts = await google.colab.kernel.invokeFunction(\n",
              "            'suggestCharts', [key], {});\n",
              "      } catch (error) {\n",
              "        console.error('Error during call to suggestCharts:', error);\n",
              "      }\n",
              "      quickchartButtonEl.classList.remove('colab-df-spinner');\n",
              "      quickchartButtonEl.classList.add('colab-df-quickchart-complete');\n",
              "    }\n",
              "    (() => {\n",
              "      let quickchartButtonEl =\n",
              "        document.querySelector('#df-e648a249-603b-4874-8e18-277c44cabc38 button');\n",
              "      quickchartButtonEl.style.display =\n",
              "        google.colab.kernel.accessAllowed ? 'block' : 'none';\n",
              "    })();\n",
              "  </script>\n",
              "</div>\n",
              "\n",
              "    </div>\n",
              "  </div>\n"
            ],
            "application/vnd.google.colaboratory.intrinsic+json": {
              "type": "dataframe",
              "repr_error": "0"
            }
          },
          "metadata": {},
          "execution_count": 36
        }
      ],
      "source": [
        "import pandas\n",
        "df = pandas.read_csv(\"datasetEspañol.csv\",encoding=\"UTF-8\")\n",
        "df.tail()"
      ]
    },
    {
      "cell_type": "markdown",
      "metadata": {
        "id": "bjpzzCCM7_fn"
      },
      "source": [
        "## Apartado 1 División de conjunto de entrenamiento y test (Resuelto)\n",
        "\n",
        "Dividimos entre conjunto de entrenamiento, test y validación de manera aleatoria"
      ]
    },
    {
      "cell_type": "code",
      "execution_count": 37,
      "metadata": {
        "colab": {
          "base_uri": "https://localhost:8080/"
        },
        "id": "PMszAwYr8L8l",
        "outputId": "1ed670df-17ae-4c7d-e6ac-b8dec545fade"
      },
      "outputs": [
        {
          "output_type": "stream",
          "name": "stdout",
          "text": [
            "Ejemplos usados para entrenar:  4767\n",
            "Ejemplos usados para test:  1192\n"
          ]
        }
      ],
      "source": [
        "p_train = 0.80 # Porcentaje de train.\n",
        "p_test = 0.20 # Porcentaje de test.\n",
        "\n",
        "from sklearn.model_selection import train_test_split\n",
        "\n",
        "df_train, df_test = train_test_split(df, test_size = p_test)\n",
        "\n",
        "# Ponemos en lower_case los dos conjuntos de tweets\n",
        "# Aquí se podría hacer un preprocesamiento como vimos en la sesión práctica 1\n",
        "df_train.tweet = df_train.tweet.apply(lambda x: x.lower())\n",
        "df_test.tweet = df_test.tweet.apply(lambda x: x.lower())\n",
        "\n",
        "print(\"Ejemplos usados para entrenar: \", len(df_train))\n",
        "print(\"Ejemplos usados para test: \", len(df_test))"
      ]
    },
    {
      "cell_type": "markdown",
      "metadata": {
        "id": "fHCGEzfE8RY2"
      },
      "source": [
        "## Apartado 2 Generación de los modelos de BoW (A resolver)\n",
        "Generamos los modelos de bolsa de palabras usando el CountVectorizer"
      ]
    },
    {
      "cell_type": "code",
      "execution_count": 38,
      "metadata": {
        "colab": {
          "base_uri": "https://localhost:8080/"
        },
        "id": "463DI0Xy5JqG",
        "outputId": "cd588f2e-af23-49fa-83cf-27ade8599e32"
      },
      "outputs": [
        {
          "output_type": "execute_result",
          "data": {
            "text/plain": [
              "(4767, 20935)"
            ]
          },
          "metadata": {},
          "execution_count": 38
        }
      ],
      "source": [
        "from sklearn.feature_extraction.text import CountVectorizer\n",
        "count_vect = CountVectorizer()\n",
        "# Pueden haber distintas opciones para crear el CountVectorizer() como eliminar las stopwords, usar ngramas, etc.\n",
        "X_train_counts = count_vect.fit_transform(df_train.tweet)\n",
        "X_train_counts.shape"
      ]
    },
    {
      "cell_type": "code",
      "execution_count": 39,
      "metadata": {
        "colab": {
          "base_uri": "https://localhost:8080/"
        },
        "id": "kliGsSe55WvV",
        "outputId": "8ad112c0-2bfe-4faa-a1e2-e2cd392bf3fa"
      },
      "outputs": [
        {
          "output_type": "execute_result",
          "data": {
            "text/plain": [
              "5027"
            ]
          },
          "metadata": {},
          "execution_count": 39
        }
      ],
      "source": [
        "# Consultamos cuál sería el índice de un término\n",
        "count_vect.vocabulary_.get(u'coronavirus')\n"
      ]
    },
    {
      "cell_type": "markdown",
      "metadata": {
        "id": "pQvnYpMS5xkX"
      },
      "source": [
        "### Modelo de TF, TFIDF y BM25\n",
        "Vamos a probar cómo funcionan los distintos modelos tanto de TF, TFIDF y BM25. Para ello generaremos 3 modelos distintos para entrenamiento y validación."
      ]
    },
    {
      "cell_type": "code",
      "execution_count": 40,
      "metadata": {
        "colab": {
          "base_uri": "https://localhost:8080/"
        },
        "id": "emd8J4jF5zIt",
        "outputId": "d7f89552-a3b1-4817-c248-c7813ff2c7ca"
      },
      "outputs": [
        {
          "output_type": "execute_result",
          "data": {
            "text/plain": [
              "(4767, 20935)"
            ]
          },
          "metadata": {},
          "execution_count": 40
        }
      ],
      "source": [
        "from sklearn.feature_extraction.text import TfidfTransformer\n",
        "\n",
        "# Generamos primeramente el TF usando el parámetro \"use_idf=false\"\n",
        "tf_transformer = TfidfTransformer(use_idf=False).fit(X_train_counts)\n",
        "X_train_tf = tf_transformer.transform(X_train_counts)\n",
        "X_train_tf.shape"
      ]
    },
    {
      "cell_type": "code",
      "execution_count": 41,
      "metadata": {
        "id": "5iaZXruJ6RYF",
        "colab": {
          "base_uri": "https://localhost:8080/"
        },
        "outputId": "7021a143-476a-4ecf-f4ac-add18fc06a64"
      },
      "outputs": [
        {
          "output_type": "execute_result",
          "data": {
            "text/plain": [
              "(4767, 20935)"
            ]
          },
          "metadata": {},
          "execution_count": 41
        }
      ],
      "source": [
        "# Calculamos el TFIDF ahora y lo guardamos en X_train_tfidf\n",
        "tfidf_transformer = TfidfTransformer(use_idf=True).fit(X_train_counts)\n",
        "X_train_tfidf = tfidf_transformer.transform(X_train_counts)\n",
        "X_train_tfidf.shape"
      ]
    },
    {
      "cell_type": "code",
      "execution_count": 42,
      "metadata": {
        "id": "bmigCFdXhr9F",
        "colab": {
          "base_uri": "https://localhost:8080/"
        },
        "outputId": "8dbaaa35-65b5-464a-fbc1-0e63afd4ba93"
      },
      "outputs": [
        {
          "output_type": "execute_result",
          "data": {
            "text/plain": [
              "(4767, 20935)"
            ]
          },
          "metadata": {},
          "execution_count": 42
        }
      ],
      "source": [
        "from BM25 import BM25Transformer\n",
        "# Calculamos el BM25 ahora y lo guardamos en X_train_bm25\n",
        "bm25_transformer = BM25Transformer().fit(X_train_counts)\n",
        "X_train_bm25 = bm25_transformer.transform(X_train_counts)\n",
        "X_train_bm25.shape"
      ]
    },
    {
      "cell_type": "markdown",
      "metadata": {
        "id": "43lCUHLd6cpI"
      },
      "source": [
        "### Entrenamos un mismo algoritmo de clasificación con los modelos\n",
        "Entrenamos un algoritmo de clasificación el LinearSVM con TF, TFIDF y BM25"
      ]
    },
    {
      "cell_type": "code",
      "execution_count": 43,
      "metadata": {
        "id": "f8JFlarP6fdU"
      },
      "outputs": [],
      "source": [
        "from sklearn.svm import LinearSVC\n",
        "\n",
        "# Entrenamos el modelo para TF y lo guardamos en clf_tf\n",
        "clf_tf = LinearSVC(random_state=0, tol=1e-5, dual=True).fit(X_train_tf, df_train.label)\n",
        "\n",
        "# Entrenamos el modelo para TFIDF y lo guardamos en clf_tfidf\n",
        "clf_tfidf = LinearSVC(random_state=0, tol=1e-5, dual=True).fit(X_train_tfidf, df_train.label)\n",
        "\n",
        "# Entrenamos el modelo para TF y lo guardamos en clf_bm25\n",
        "clf_bm25 = LinearSVC(random_state=0, tol=1e-5, dual=True).fit(X_train_bm25, df_train.label)"
      ]
    },
    {
      "cell_type": "markdown",
      "metadata": {
        "id": "qHmxSMp36uQx"
      },
      "source": [
        "Probamos ejemplos"
      ]
    },
    {
      "cell_type": "code",
      "execution_count": 44,
      "metadata": {
        "colab": {
          "base_uri": "https://localhost:8080/"
        },
        "id": "GNFkXsOC6vmg",
        "outputId": "7d53fe18-179d-4c5d-e170-ee18297fe229"
      },
      "outputs": [
        {
          "output_type": "stream",
          "name": "stdout",
          "text": [
            "TF: 'no me fío del gobierno' => negative\n",
            "TF: 'aumentan los fallecidos' => negative\n",
            "TF: 'desciende la incidencia del virus' => positive\n",
            "TFIDF: 'no me fío del gobierno' => negative\n",
            "TFIDF: 'aumentan los fallecidos' => negative\n",
            "TFIDF: 'desciende la incidencia del virus' => positive\n",
            "BM25: 'no me fío del gobierno' => negative\n",
            "BM25: 'aumentan los fallecidos' => negative\n",
            "BM25: 'desciende la incidencia del virus' => positive\n"
          ]
        }
      ],
      "source": [
        "docs_new = ['no me fío del gobierno', 'aumentan los fallecidos','desciende la incidencia del virus']\n",
        "X_new_counts = count_vect.transform(docs_new)\n",
        "# Obtenemos los vectores para TF y los guardamos en X_new_tf\n",
        "X_new_tf = tf_transformer.transform(X_new_counts)\n",
        "\n",
        "# Obtenermos los vectores para TFIDF y los guardamos en X_new_tfidf\n",
        "X_new_tfidf = tfidf_transformer.transform(X_new_counts)\n",
        "\n",
        "# Obtenemos los vectores para BM25 y los guardamos en X_new_bm25\n",
        "X_new_bm25 = bm25_transformer.transform(X_new_counts)\n",
        "\n",
        "# Predecimos entonces las categorías para TF y las guardamos en predicted_tf\n",
        "predicted_tf = clf_tf.predict(X_new_tf)\n",
        "\n",
        "# Predecimos entonces las categorías para TFIDF y las guardamos en predicted_tfidf\n",
        "predicted_tfidf = clf_tfidf.predict(X_new_tfidf)\n",
        "\n",
        "# Predecimos entonces las categorías para BM25 y las guardamos en predicted_bm25\n",
        "predicted_bm25 = clf_bm25.predict(X_new_bm25)\n",
        "\n",
        "# Imprimimos los textos y su predicción para TF\n",
        "for doc, category_tf in zip(docs_new, predicted_tf):\n",
        "  print('TF: %r => %s' % (doc, category_tf))\n",
        "\n",
        "# Imprimimos los textos y su predicción para TFIDF\n",
        "for doc, category_tfidf in zip(docs_new, predicted_tfidf):\n",
        "  print('TFIDF: %r => %s' % (doc, category_tfidf))\n",
        "\n",
        "# Imprimimos los textos y su predicción para BM25\n",
        "for doc, category_bm25 in zip(docs_new, predicted_bm25):\n",
        "  print('BM25: %r => %s' % (doc, category_bm25))"
      ]
    },
    {
      "cell_type": "markdown",
      "metadata": {
        "id": "LdweP0w1-3Rt"
      },
      "source": [
        "## Apartado 3 Creamos los modelos mediante pipeline (a resolver)\n",
        "Para simplificar el código de creación de modelos se puede hacer creando un pipeline."
      ]
    },
    {
      "cell_type": "code",
      "execution_count": 45,
      "metadata": {
        "colab": {
          "base_uri": "https://localhost:8080/",
          "height": 195
        },
        "id": "RBu9ZzNa-5iN",
        "outputId": "1b5a9f35-98e6-4c8c-a8c5-678951df576e"
      },
      "outputs": [
        {
          "output_type": "execute_result",
          "data": {
            "text/plain": [
              "Pipeline(steps=[('vect', CountVectorizer()), ('bm25', BM25Transformer()),\n",
              "                ('clf', LinearSVC(random_state=0, tol=1e-05))])"
            ],
            "text/html": [
              "<style>#sk-container-id-3 {\n",
              "  /* Definition of color scheme common for light and dark mode */\n",
              "  --sklearn-color-text: #000;\n",
              "  --sklearn-color-text-muted: #666;\n",
              "  --sklearn-color-line: gray;\n",
              "  /* Definition of color scheme for unfitted estimators */\n",
              "  --sklearn-color-unfitted-level-0: #fff5e6;\n",
              "  --sklearn-color-unfitted-level-1: #f6e4d2;\n",
              "  --sklearn-color-unfitted-level-2: #ffe0b3;\n",
              "  --sklearn-color-unfitted-level-3: chocolate;\n",
              "  /* Definition of color scheme for fitted estimators */\n",
              "  --sklearn-color-fitted-level-0: #f0f8ff;\n",
              "  --sklearn-color-fitted-level-1: #d4ebff;\n",
              "  --sklearn-color-fitted-level-2: #b3dbfd;\n",
              "  --sklearn-color-fitted-level-3: cornflowerblue;\n",
              "\n",
              "  /* Specific color for light theme */\n",
              "  --sklearn-color-text-on-default-background: var(--sg-text-color, var(--theme-code-foreground, var(--jp-content-font-color1, black)));\n",
              "  --sklearn-color-background: var(--sg-background-color, var(--theme-background, var(--jp-layout-color0, white)));\n",
              "  --sklearn-color-border-box: var(--sg-text-color, var(--theme-code-foreground, var(--jp-content-font-color1, black)));\n",
              "  --sklearn-color-icon: #696969;\n",
              "\n",
              "  @media (prefers-color-scheme: dark) {\n",
              "    /* Redefinition of color scheme for dark theme */\n",
              "    --sklearn-color-text-on-default-background: var(--sg-text-color, var(--theme-code-foreground, var(--jp-content-font-color1, white)));\n",
              "    --sklearn-color-background: var(--sg-background-color, var(--theme-background, var(--jp-layout-color0, #111)));\n",
              "    --sklearn-color-border-box: var(--sg-text-color, var(--theme-code-foreground, var(--jp-content-font-color1, white)));\n",
              "    --sklearn-color-icon: #878787;\n",
              "  }\n",
              "}\n",
              "\n",
              "#sk-container-id-3 {\n",
              "  color: var(--sklearn-color-text);\n",
              "}\n",
              "\n",
              "#sk-container-id-3 pre {\n",
              "  padding: 0;\n",
              "}\n",
              "\n",
              "#sk-container-id-3 input.sk-hidden--visually {\n",
              "  border: 0;\n",
              "  clip: rect(1px 1px 1px 1px);\n",
              "  clip: rect(1px, 1px, 1px, 1px);\n",
              "  height: 1px;\n",
              "  margin: -1px;\n",
              "  overflow: hidden;\n",
              "  padding: 0;\n",
              "  position: absolute;\n",
              "  width: 1px;\n",
              "}\n",
              "\n",
              "#sk-container-id-3 div.sk-dashed-wrapped {\n",
              "  border: 1px dashed var(--sklearn-color-line);\n",
              "  margin: 0 0.4em 0.5em 0.4em;\n",
              "  box-sizing: border-box;\n",
              "  padding-bottom: 0.4em;\n",
              "  background-color: var(--sklearn-color-background);\n",
              "}\n",
              "\n",
              "#sk-container-id-3 div.sk-container {\n",
              "  /* jupyter's `normalize.less` sets `[hidden] { display: none; }`\n",
              "     but bootstrap.min.css set `[hidden] { display: none !important; }`\n",
              "     so we also need the `!important` here to be able to override the\n",
              "     default hidden behavior on the sphinx rendered scikit-learn.org.\n",
              "     See: https://github.com/scikit-learn/scikit-learn/issues/21755 */\n",
              "  display: inline-block !important;\n",
              "  position: relative;\n",
              "}\n",
              "\n",
              "#sk-container-id-3 div.sk-text-repr-fallback {\n",
              "  display: none;\n",
              "}\n",
              "\n",
              "div.sk-parallel-item,\n",
              "div.sk-serial,\n",
              "div.sk-item {\n",
              "  /* draw centered vertical line to link estimators */\n",
              "  background-image: linear-gradient(var(--sklearn-color-text-on-default-background), var(--sklearn-color-text-on-default-background));\n",
              "  background-size: 2px 100%;\n",
              "  background-repeat: no-repeat;\n",
              "  background-position: center center;\n",
              "}\n",
              "\n",
              "/* Parallel-specific style estimator block */\n",
              "\n",
              "#sk-container-id-3 div.sk-parallel-item::after {\n",
              "  content: \"\";\n",
              "  width: 100%;\n",
              "  border-bottom: 2px solid var(--sklearn-color-text-on-default-background);\n",
              "  flex-grow: 1;\n",
              "}\n",
              "\n",
              "#sk-container-id-3 div.sk-parallel {\n",
              "  display: flex;\n",
              "  align-items: stretch;\n",
              "  justify-content: center;\n",
              "  background-color: var(--sklearn-color-background);\n",
              "  position: relative;\n",
              "}\n",
              "\n",
              "#sk-container-id-3 div.sk-parallel-item {\n",
              "  display: flex;\n",
              "  flex-direction: column;\n",
              "}\n",
              "\n",
              "#sk-container-id-3 div.sk-parallel-item:first-child::after {\n",
              "  align-self: flex-end;\n",
              "  width: 50%;\n",
              "}\n",
              "\n",
              "#sk-container-id-3 div.sk-parallel-item:last-child::after {\n",
              "  align-self: flex-start;\n",
              "  width: 50%;\n",
              "}\n",
              "\n",
              "#sk-container-id-3 div.sk-parallel-item:only-child::after {\n",
              "  width: 0;\n",
              "}\n",
              "\n",
              "/* Serial-specific style estimator block */\n",
              "\n",
              "#sk-container-id-3 div.sk-serial {\n",
              "  display: flex;\n",
              "  flex-direction: column;\n",
              "  align-items: center;\n",
              "  background-color: var(--sklearn-color-background);\n",
              "  padding-right: 1em;\n",
              "  padding-left: 1em;\n",
              "}\n",
              "\n",
              "\n",
              "/* Toggleable style: style used for estimator/Pipeline/ColumnTransformer box that is\n",
              "clickable and can be expanded/collapsed.\n",
              "- Pipeline and ColumnTransformer use this feature and define the default style\n",
              "- Estimators will overwrite some part of the style using the `sk-estimator` class\n",
              "*/\n",
              "\n",
              "/* Pipeline and ColumnTransformer style (default) */\n",
              "\n",
              "#sk-container-id-3 div.sk-toggleable {\n",
              "  /* Default theme specific background. It is overwritten whether we have a\n",
              "  specific estimator or a Pipeline/ColumnTransformer */\n",
              "  background-color: var(--sklearn-color-background);\n",
              "}\n",
              "\n",
              "/* Toggleable label */\n",
              "#sk-container-id-3 label.sk-toggleable__label {\n",
              "  cursor: pointer;\n",
              "  display: flex;\n",
              "  width: 100%;\n",
              "  margin-bottom: 0;\n",
              "  padding: 0.5em;\n",
              "  box-sizing: border-box;\n",
              "  text-align: center;\n",
              "  align-items: start;\n",
              "  justify-content: space-between;\n",
              "  gap: 0.5em;\n",
              "}\n",
              "\n",
              "#sk-container-id-3 label.sk-toggleable__label .caption {\n",
              "  font-size: 0.6rem;\n",
              "  font-weight: lighter;\n",
              "  color: var(--sklearn-color-text-muted);\n",
              "}\n",
              "\n",
              "#sk-container-id-3 label.sk-toggleable__label-arrow:before {\n",
              "  /* Arrow on the left of the label */\n",
              "  content: \"▸\";\n",
              "  float: left;\n",
              "  margin-right: 0.25em;\n",
              "  color: var(--sklearn-color-icon);\n",
              "}\n",
              "\n",
              "#sk-container-id-3 label.sk-toggleable__label-arrow:hover:before {\n",
              "  color: var(--sklearn-color-text);\n",
              "}\n",
              "\n",
              "/* Toggleable content - dropdown */\n",
              "\n",
              "#sk-container-id-3 div.sk-toggleable__content {\n",
              "  max-height: 0;\n",
              "  max-width: 0;\n",
              "  overflow: hidden;\n",
              "  text-align: left;\n",
              "  /* unfitted */\n",
              "  background-color: var(--sklearn-color-unfitted-level-0);\n",
              "}\n",
              "\n",
              "#sk-container-id-3 div.sk-toggleable__content.fitted {\n",
              "  /* fitted */\n",
              "  background-color: var(--sklearn-color-fitted-level-0);\n",
              "}\n",
              "\n",
              "#sk-container-id-3 div.sk-toggleable__content pre {\n",
              "  margin: 0.2em;\n",
              "  border-radius: 0.25em;\n",
              "  color: var(--sklearn-color-text);\n",
              "  /* unfitted */\n",
              "  background-color: var(--sklearn-color-unfitted-level-0);\n",
              "}\n",
              "\n",
              "#sk-container-id-3 div.sk-toggleable__content.fitted pre {\n",
              "  /* unfitted */\n",
              "  background-color: var(--sklearn-color-fitted-level-0);\n",
              "}\n",
              "\n",
              "#sk-container-id-3 input.sk-toggleable__control:checked~div.sk-toggleable__content {\n",
              "  /* Expand drop-down */\n",
              "  max-height: 200px;\n",
              "  max-width: 100%;\n",
              "  overflow: auto;\n",
              "}\n",
              "\n",
              "#sk-container-id-3 input.sk-toggleable__control:checked~label.sk-toggleable__label-arrow:before {\n",
              "  content: \"▾\";\n",
              "}\n",
              "\n",
              "/* Pipeline/ColumnTransformer-specific style */\n",
              "\n",
              "#sk-container-id-3 div.sk-label input.sk-toggleable__control:checked~label.sk-toggleable__label {\n",
              "  color: var(--sklearn-color-text);\n",
              "  background-color: var(--sklearn-color-unfitted-level-2);\n",
              "}\n",
              "\n",
              "#sk-container-id-3 div.sk-label.fitted input.sk-toggleable__control:checked~label.sk-toggleable__label {\n",
              "  background-color: var(--sklearn-color-fitted-level-2);\n",
              "}\n",
              "\n",
              "/* Estimator-specific style */\n",
              "\n",
              "/* Colorize estimator box */\n",
              "#sk-container-id-3 div.sk-estimator input.sk-toggleable__control:checked~label.sk-toggleable__label {\n",
              "  /* unfitted */\n",
              "  background-color: var(--sklearn-color-unfitted-level-2);\n",
              "}\n",
              "\n",
              "#sk-container-id-3 div.sk-estimator.fitted input.sk-toggleable__control:checked~label.sk-toggleable__label {\n",
              "  /* fitted */\n",
              "  background-color: var(--sklearn-color-fitted-level-2);\n",
              "}\n",
              "\n",
              "#sk-container-id-3 div.sk-label label.sk-toggleable__label,\n",
              "#sk-container-id-3 div.sk-label label {\n",
              "  /* The background is the default theme color */\n",
              "  color: var(--sklearn-color-text-on-default-background);\n",
              "}\n",
              "\n",
              "/* On hover, darken the color of the background */\n",
              "#sk-container-id-3 div.sk-label:hover label.sk-toggleable__label {\n",
              "  color: var(--sklearn-color-text);\n",
              "  background-color: var(--sklearn-color-unfitted-level-2);\n",
              "}\n",
              "\n",
              "/* Label box, darken color on hover, fitted */\n",
              "#sk-container-id-3 div.sk-label.fitted:hover label.sk-toggleable__label.fitted {\n",
              "  color: var(--sklearn-color-text);\n",
              "  background-color: var(--sklearn-color-fitted-level-2);\n",
              "}\n",
              "\n",
              "/* Estimator label */\n",
              "\n",
              "#sk-container-id-3 div.sk-label label {\n",
              "  font-family: monospace;\n",
              "  font-weight: bold;\n",
              "  display: inline-block;\n",
              "  line-height: 1.2em;\n",
              "}\n",
              "\n",
              "#sk-container-id-3 div.sk-label-container {\n",
              "  text-align: center;\n",
              "}\n",
              "\n",
              "/* Estimator-specific */\n",
              "#sk-container-id-3 div.sk-estimator {\n",
              "  font-family: monospace;\n",
              "  border: 1px dotted var(--sklearn-color-border-box);\n",
              "  border-radius: 0.25em;\n",
              "  box-sizing: border-box;\n",
              "  margin-bottom: 0.5em;\n",
              "  /* unfitted */\n",
              "  background-color: var(--sklearn-color-unfitted-level-0);\n",
              "}\n",
              "\n",
              "#sk-container-id-3 div.sk-estimator.fitted {\n",
              "  /* fitted */\n",
              "  background-color: var(--sklearn-color-fitted-level-0);\n",
              "}\n",
              "\n",
              "/* on hover */\n",
              "#sk-container-id-3 div.sk-estimator:hover {\n",
              "  /* unfitted */\n",
              "  background-color: var(--sklearn-color-unfitted-level-2);\n",
              "}\n",
              "\n",
              "#sk-container-id-3 div.sk-estimator.fitted:hover {\n",
              "  /* fitted */\n",
              "  background-color: var(--sklearn-color-fitted-level-2);\n",
              "}\n",
              "\n",
              "/* Specification for estimator info (e.g. \"i\" and \"?\") */\n",
              "\n",
              "/* Common style for \"i\" and \"?\" */\n",
              "\n",
              ".sk-estimator-doc-link,\n",
              "a:link.sk-estimator-doc-link,\n",
              "a:visited.sk-estimator-doc-link {\n",
              "  float: right;\n",
              "  font-size: smaller;\n",
              "  line-height: 1em;\n",
              "  font-family: monospace;\n",
              "  background-color: var(--sklearn-color-background);\n",
              "  border-radius: 1em;\n",
              "  height: 1em;\n",
              "  width: 1em;\n",
              "  text-decoration: none !important;\n",
              "  margin-left: 0.5em;\n",
              "  text-align: center;\n",
              "  /* unfitted */\n",
              "  border: var(--sklearn-color-unfitted-level-1) 1pt solid;\n",
              "  color: var(--sklearn-color-unfitted-level-1);\n",
              "}\n",
              "\n",
              ".sk-estimator-doc-link.fitted,\n",
              "a:link.sk-estimator-doc-link.fitted,\n",
              "a:visited.sk-estimator-doc-link.fitted {\n",
              "  /* fitted */\n",
              "  border: var(--sklearn-color-fitted-level-1) 1pt solid;\n",
              "  color: var(--sklearn-color-fitted-level-1);\n",
              "}\n",
              "\n",
              "/* On hover */\n",
              "div.sk-estimator:hover .sk-estimator-doc-link:hover,\n",
              ".sk-estimator-doc-link:hover,\n",
              "div.sk-label-container:hover .sk-estimator-doc-link:hover,\n",
              ".sk-estimator-doc-link:hover {\n",
              "  /* unfitted */\n",
              "  background-color: var(--sklearn-color-unfitted-level-3);\n",
              "  color: var(--sklearn-color-background);\n",
              "  text-decoration: none;\n",
              "}\n",
              "\n",
              "div.sk-estimator.fitted:hover .sk-estimator-doc-link.fitted:hover,\n",
              ".sk-estimator-doc-link.fitted:hover,\n",
              "div.sk-label-container:hover .sk-estimator-doc-link.fitted:hover,\n",
              ".sk-estimator-doc-link.fitted:hover {\n",
              "  /* fitted */\n",
              "  background-color: var(--sklearn-color-fitted-level-3);\n",
              "  color: var(--sklearn-color-background);\n",
              "  text-decoration: none;\n",
              "}\n",
              "\n",
              "/* Span, style for the box shown on hovering the info icon */\n",
              ".sk-estimator-doc-link span {\n",
              "  display: none;\n",
              "  z-index: 9999;\n",
              "  position: relative;\n",
              "  font-weight: normal;\n",
              "  right: .2ex;\n",
              "  padding: .5ex;\n",
              "  margin: .5ex;\n",
              "  width: min-content;\n",
              "  min-width: 20ex;\n",
              "  max-width: 50ex;\n",
              "  color: var(--sklearn-color-text);\n",
              "  box-shadow: 2pt 2pt 4pt #999;\n",
              "  /* unfitted */\n",
              "  background: var(--sklearn-color-unfitted-level-0);\n",
              "  border: .5pt solid var(--sklearn-color-unfitted-level-3);\n",
              "}\n",
              "\n",
              ".sk-estimator-doc-link.fitted span {\n",
              "  /* fitted */\n",
              "  background: var(--sklearn-color-fitted-level-0);\n",
              "  border: var(--sklearn-color-fitted-level-3);\n",
              "}\n",
              "\n",
              ".sk-estimator-doc-link:hover span {\n",
              "  display: block;\n",
              "}\n",
              "\n",
              "/* \"?\"-specific style due to the `<a>` HTML tag */\n",
              "\n",
              "#sk-container-id-3 a.estimator_doc_link {\n",
              "  float: right;\n",
              "  font-size: 1rem;\n",
              "  line-height: 1em;\n",
              "  font-family: monospace;\n",
              "  background-color: var(--sklearn-color-background);\n",
              "  border-radius: 1rem;\n",
              "  height: 1rem;\n",
              "  width: 1rem;\n",
              "  text-decoration: none;\n",
              "  /* unfitted */\n",
              "  color: var(--sklearn-color-unfitted-level-1);\n",
              "  border: var(--sklearn-color-unfitted-level-1) 1pt solid;\n",
              "}\n",
              "\n",
              "#sk-container-id-3 a.estimator_doc_link.fitted {\n",
              "  /* fitted */\n",
              "  border: var(--sklearn-color-fitted-level-1) 1pt solid;\n",
              "  color: var(--sklearn-color-fitted-level-1);\n",
              "}\n",
              "\n",
              "/* On hover */\n",
              "#sk-container-id-3 a.estimator_doc_link:hover {\n",
              "  /* unfitted */\n",
              "  background-color: var(--sklearn-color-unfitted-level-3);\n",
              "  color: var(--sklearn-color-background);\n",
              "  text-decoration: none;\n",
              "}\n",
              "\n",
              "#sk-container-id-3 a.estimator_doc_link.fitted:hover {\n",
              "  /* fitted */\n",
              "  background-color: var(--sklearn-color-fitted-level-3);\n",
              "}\n",
              "</style><div id=\"sk-container-id-3\" class=\"sk-top-container\"><div class=\"sk-text-repr-fallback\"><pre>Pipeline(steps=[(&#x27;vect&#x27;, CountVectorizer()), (&#x27;bm25&#x27;, BM25Transformer()),\n",
              "                (&#x27;clf&#x27;, LinearSVC(random_state=0, tol=1e-05))])</pre><b>In a Jupyter environment, please rerun this cell to show the HTML representation or trust the notebook. <br />On GitHub, the HTML representation is unable to render, please try loading this page with nbviewer.org.</b></div><div class=\"sk-container\" hidden><div class=\"sk-item sk-dashed-wrapped\"><div class=\"sk-label-container\"><div class=\"sk-label fitted sk-toggleable\"><input class=\"sk-toggleable__control sk-hidden--visually\" id=\"sk-estimator-id-9\" type=\"checkbox\" ><label for=\"sk-estimator-id-9\" class=\"sk-toggleable__label fitted sk-toggleable__label-arrow\"><div><div>Pipeline</div></div><div><a class=\"sk-estimator-doc-link fitted\" rel=\"noreferrer\" target=\"_blank\" href=\"https://scikit-learn.org/1.6/modules/generated/sklearn.pipeline.Pipeline.html\">?<span>Documentation for Pipeline</span></a><span class=\"sk-estimator-doc-link fitted\">i<span>Fitted</span></span></div></label><div class=\"sk-toggleable__content fitted\"><pre>Pipeline(steps=[(&#x27;vect&#x27;, CountVectorizer()), (&#x27;bm25&#x27;, BM25Transformer()),\n",
              "                (&#x27;clf&#x27;, LinearSVC(random_state=0, tol=1e-05))])</pre></div> </div></div><div class=\"sk-serial\"><div class=\"sk-item\"><div class=\"sk-estimator fitted sk-toggleable\"><input class=\"sk-toggleable__control sk-hidden--visually\" id=\"sk-estimator-id-10\" type=\"checkbox\" ><label for=\"sk-estimator-id-10\" class=\"sk-toggleable__label fitted sk-toggleable__label-arrow\"><div><div>CountVectorizer</div></div><div><a class=\"sk-estimator-doc-link fitted\" rel=\"noreferrer\" target=\"_blank\" href=\"https://scikit-learn.org/1.6/modules/generated/sklearn.feature_extraction.text.CountVectorizer.html\">?<span>Documentation for CountVectorizer</span></a></div></label><div class=\"sk-toggleable__content fitted\"><pre>CountVectorizer()</pre></div> </div></div><div class=\"sk-item\"><div class=\"sk-estimator fitted sk-toggleable\"><input class=\"sk-toggleable__control sk-hidden--visually\" id=\"sk-estimator-id-11\" type=\"checkbox\" ><label for=\"sk-estimator-id-11\" class=\"sk-toggleable__label fitted sk-toggleable__label-arrow\"><div><div>BM25Transformer</div></div></label><div class=\"sk-toggleable__content fitted\"><pre>BM25Transformer()</pre></div> </div></div><div class=\"sk-item\"><div class=\"sk-estimator fitted sk-toggleable\"><input class=\"sk-toggleable__control sk-hidden--visually\" id=\"sk-estimator-id-12\" type=\"checkbox\" ><label for=\"sk-estimator-id-12\" class=\"sk-toggleable__label fitted sk-toggleable__label-arrow\"><div><div>LinearSVC</div></div><div><a class=\"sk-estimator-doc-link fitted\" rel=\"noreferrer\" target=\"_blank\" href=\"https://scikit-learn.org/1.6/modules/generated/sklearn.svm.LinearSVC.html\">?<span>Documentation for LinearSVC</span></a></div></label><div class=\"sk-toggleable__content fitted\"><pre>LinearSVC(random_state=0, tol=1e-05)</pre></div> </div></div></div></div></div></div>"
            ]
          },
          "metadata": {},
          "execution_count": 45
        }
      ],
      "source": [
        "from sklearn.pipeline import Pipeline\n",
        "# Se pueden crear modelos mediante Pipeline\n",
        "# Creamos el pipeline de TF con LinearSVC\n",
        "clf_tf = Pipeline([\n",
        "    ('vect', CountVectorizer()),\n",
        "    ('tf', TfidfTransformer(use_idf=False)),\n",
        "    ('clf', LinearSVC(random_state=0, tol=1e-5)),])\n",
        "\n",
        "# Creamos el pipeline de TFIDF con LinearSVC y lo guardamos en clf_tfidf\n",
        "clf_tfidf = Pipeline([\n",
        "    ('vect', CountVectorizer()),\n",
        "    ('tfidf', TfidfTransformer(use_idf=True)),\n",
        "    ('clf', LinearSVC(random_state=0, tol=1e-5)),])\n",
        "\n",
        "# Creamos el pipeline de BM25 con LinearSVC y lo guardamos en clf_bm25\n",
        "clf_bm25 = Pipeline([\n",
        "    ('vect', CountVectorizer()),\n",
        "    ('bm25', BM25Transformer()),\n",
        "    ('clf', LinearSVC(random_state=0, tol=1e-5)),])\n",
        "\n",
        "# Entrenamos el modelo de TF con el conjunto de entrenamiento con sus etiquetas\n",
        "clf_tf.fit(df_train.tweet, df_train.label)\n",
        "\n",
        "# Entrenamos el modelo de TFIDF con el conjunto de entrenamiento con sus etiquetas\n",
        "clf_tfidf.fit(df_train.tweet, df_train.label)\n",
        "\n",
        "# Entrenamos el modelo de BM25 con el conjunto de entrenamiento con sus etiquetas\n",
        "clf_bm25.fit(df_train.tweet, df_train.label)"
      ]
    },
    {
      "cell_type": "markdown",
      "metadata": {
        "id": "09J1R6Wz-Owz"
      },
      "source": [
        "Evaluamos el accuracy del test en los 3 algoritmos"
      ]
    },
    {
      "cell_type": "code",
      "execution_count": 46,
      "metadata": {
        "colab": {
          "base_uri": "https://localhost:8080/"
        },
        "id": "vOPVJ7E--XdJ",
        "outputId": "e601abc1-fa60-458c-f6c8-bfaaa032f0f1"
      },
      "outputs": [
        {
          "output_type": "stream",
          "name": "stdout",
          "text": [
            "Resultados TF ----- Accuracy: 0.8104026845637584\n",
            "              precision    recall  f1-score   support\n",
            "\n",
            "    negative       0.70      0.65      0.67       357\n",
            "    positive       0.85      0.88      0.87       835\n",
            "\n",
            "    accuracy                           0.81      1192\n",
            "   macro avg       0.78      0.76      0.77      1192\n",
            "weighted avg       0.81      0.81      0.81      1192\n",
            "\n",
            "Resultados TFIDF ----- Accuracy: 0.8137583892617449\n",
            "              precision    recall  f1-score   support\n",
            "\n",
            "    negative       0.69      0.68      0.69       357\n",
            "    positive       0.86      0.87      0.87       835\n",
            "\n",
            "    accuracy                           0.81      1192\n",
            "   macro avg       0.78      0.77      0.78      1192\n",
            "weighted avg       0.81      0.81      0.81      1192\n",
            "\n",
            "Resultados BM25 ----- Accuracy: 0.8171140939597316\n",
            "              precision    recall  f1-score   support\n",
            "\n",
            "    negative       0.71      0.66      0.68       357\n",
            "    positive       0.86      0.88      0.87       835\n",
            "\n",
            "    accuracy                           0.82      1192\n",
            "   macro avg       0.78      0.77      0.78      1192\n",
            "weighted avg       0.81      0.82      0.82      1192\n",
            "\n"
          ]
        }
      ],
      "source": [
        "import numpy as np\n",
        "\n",
        "# Evaluamos el TF\n",
        "predicted_tf = clf_tf.predict(df_test.tweet)\n",
        "accuracy_tf = np.mean(predicted_tf == df_test.label)\n",
        "\n",
        "print(\"Resultados TF ----- Accuracy:\", accuracy_tf)\n",
        "from sklearn import metrics\n",
        "print(metrics.classification_report(df_test.label, predicted_tf))\n",
        "\n",
        "# Evaluamos el TFIDF\n",
        "predicted_tfidf = clf_tfidf.predict(df_test.tweet)\n",
        "accuracy_tfidf = np.mean(predicted_tfidf == df_test.label)\n",
        "\n",
        "print(\"Resultados TFIDF ----- Accuracy:\", accuracy_tfidf)\n",
        "print(metrics.classification_report(df_test.label, predicted_tfidf))\n",
        "\n",
        "# Evaluamos el BM25\n",
        "predicted_bm25 = clf_bm25.predict(df_test.tweet)\n",
        "accuracy_bm25 = np.mean(predicted_bm25 == df_test.label)\n",
        "\n",
        "print(\"Resultados BM25 ----- Accuracy:\", accuracy_bm25)\n",
        "print(metrics.classification_report(df_test.label, predicted_bm25))"
      ]
    },
    {
      "cell_type": "markdown",
      "metadata": {
        "id": "ONFDm9Qz_kuK"
      },
      "source": [
        "## Apartado 4 Imprimimos las matrices de confusión (a resolver)\n",
        "Para que se vean más bonitas podemos instalar las librerías matplotlib y seaborn"
      ]
    },
    {
      "cell_type": "code",
      "execution_count": 47,
      "metadata": {
        "colab": {
          "base_uri": "https://localhost:8080/"
        },
        "id": "axwomi4Bhr9G",
        "outputId": "281bb7ac-e320-466d-9c40-ea905e76d8a1"
      },
      "outputs": [
        {
          "output_type": "stream",
          "name": "stdout",
          "text": [
            "Requirement already satisfied: matplotlib in /usr/local/lib/python3.11/dist-packages (3.10.1)\n",
            "Requirement already satisfied: contourpy>=1.0.1 in /usr/local/lib/python3.11/dist-packages (from matplotlib) (1.3.1)\n",
            "Requirement already satisfied: cycler>=0.10 in /usr/local/lib/python3.11/dist-packages (from matplotlib) (0.12.1)\n",
            "Requirement already satisfied: fonttools>=4.22.0 in /usr/local/lib/python3.11/dist-packages (from matplotlib) (4.56.0)\n",
            "Requirement already satisfied: kiwisolver>=1.3.1 in /usr/local/lib/python3.11/dist-packages (from matplotlib) (1.4.8)\n",
            "Requirement already satisfied: numpy>=1.23 in /usr/local/lib/python3.11/dist-packages (from matplotlib) (2.0.2)\n",
            "Requirement already satisfied: packaging>=20.0 in /usr/local/lib/python3.11/dist-packages (from matplotlib) (24.2)\n",
            "Requirement already satisfied: pillow>=8 in /usr/local/lib/python3.11/dist-packages (from matplotlib) (11.1.0)\n",
            "Requirement already satisfied: pyparsing>=2.3.1 in /usr/local/lib/python3.11/dist-packages (from matplotlib) (3.2.1)\n",
            "Requirement already satisfied: python-dateutil>=2.7 in /usr/local/lib/python3.11/dist-packages (from matplotlib) (2.8.2)\n",
            "Requirement already satisfied: six>=1.5 in /usr/local/lib/python3.11/dist-packages (from python-dateutil>=2.7->matplotlib) (1.17.0)\n",
            "Requirement already satisfied: seaborn in /usr/local/lib/python3.11/dist-packages (0.13.2)\n",
            "Requirement already satisfied: numpy!=1.24.0,>=1.20 in /usr/local/lib/python3.11/dist-packages (from seaborn) (2.0.2)\n",
            "Requirement already satisfied: pandas>=1.2 in /usr/local/lib/python3.11/dist-packages (from seaborn) (2.2.2)\n",
            "Requirement already satisfied: matplotlib!=3.6.1,>=3.4 in /usr/local/lib/python3.11/dist-packages (from seaborn) (3.10.1)\n",
            "Requirement already satisfied: contourpy>=1.0.1 in /usr/local/lib/python3.11/dist-packages (from matplotlib!=3.6.1,>=3.4->seaborn) (1.3.1)\n",
            "Requirement already satisfied: cycler>=0.10 in /usr/local/lib/python3.11/dist-packages (from matplotlib!=3.6.1,>=3.4->seaborn) (0.12.1)\n",
            "Requirement already satisfied: fonttools>=4.22.0 in /usr/local/lib/python3.11/dist-packages (from matplotlib!=3.6.1,>=3.4->seaborn) (4.56.0)\n",
            "Requirement already satisfied: kiwisolver>=1.3.1 in /usr/local/lib/python3.11/dist-packages (from matplotlib!=3.6.1,>=3.4->seaborn) (1.4.8)\n",
            "Requirement already satisfied: packaging>=20.0 in /usr/local/lib/python3.11/dist-packages (from matplotlib!=3.6.1,>=3.4->seaborn) (24.2)\n",
            "Requirement already satisfied: pillow>=8 in /usr/local/lib/python3.11/dist-packages (from matplotlib!=3.6.1,>=3.4->seaborn) (11.1.0)\n",
            "Requirement already satisfied: pyparsing>=2.3.1 in /usr/local/lib/python3.11/dist-packages (from matplotlib!=3.6.1,>=3.4->seaborn) (3.2.1)\n",
            "Requirement already satisfied: python-dateutil>=2.7 in /usr/local/lib/python3.11/dist-packages (from matplotlib!=3.6.1,>=3.4->seaborn) (2.8.2)\n",
            "Requirement already satisfied: pytz>=2020.1 in /usr/local/lib/python3.11/dist-packages (from pandas>=1.2->seaborn) (2025.1)\n",
            "Requirement already satisfied: tzdata>=2022.7 in /usr/local/lib/python3.11/dist-packages (from pandas>=1.2->seaborn) (2025.1)\n",
            "Requirement already satisfied: six>=1.5 in /usr/local/lib/python3.11/dist-packages (from python-dateutil>=2.7->matplotlib!=3.6.1,>=3.4->seaborn) (1.17.0)\n"
          ]
        }
      ],
      "source": [
        "!pip3 install -U matplotlib\n",
        "!pip3 install -U seaborn"
      ]
    },
    {
      "cell_type": "code",
      "execution_count": 48,
      "metadata": {
        "colab": {
          "base_uri": "https://localhost:8080/",
          "height": 1000
        },
        "id": "p3GG1KkHBX0H",
        "outputId": "3678085a-790c-43a8-f2e8-88f661580f2a"
      },
      "outputs": [
        {
          "output_type": "execute_result",
          "data": {
            "text/plain": [
              "<Axes: >"
            ]
          },
          "metadata": {},
          "execution_count": 48
        },
        {
          "output_type": "display_data",
          "data": {
            "text/plain": [
              "<Figure size 1000x700 with 2 Axes>"
            ],
            "image/png": "[encoded data removed]"
          },
          "metadata": {}
        },
        {
          "output_type": "display_data",
          "data": {
            "text/plain": [
              "<Figure size 1000x700 with 2 Axes>"
            ],
            "image/png": "[encoded data removed]"
          },
          "metadata": {}
        },
        {
          "output_type": "display_data",
          "data": {
            "text/plain": [
              "<Figure size 1000x700 with 2 Axes>"
            ],
            "image/png": "[encoded data removed]"
          },
          "metadata": {}
        }
      ],
      "source": [
        "import seaborn as sn\n",
        "import pandas as pd\n",
        "import matplotlib.pyplot as plt\n",
        "\n",
        "# Pintamos la matriz de confusión de TF\n",
        "array_tf = metrics.confusion_matrix(df_test.label, predicted_tf)\n",
        "df_cm_tf = pd.DataFrame(array_tf)\n",
        "plt.figure(figsize = (10,7))\n",
        "sn.heatmap(df_cm_tf, annot=True, fmt=\"d\")\n",
        "\n",
        "# Pintamos la matriz de confusión de TFIDF\n",
        "array_tfidf = metrics.confusion_matrix(df_test.label, predicted_tfidf)\n",
        "df_cm_tfidf = pd.DataFrame(array_tfidf)\n",
        "plt.figure(figsize = (10,7))\n",
        "sn.heatmap(df_cm_tfidf, annot=True, fmt=\"d\")\n",
        "\n",
        "# Pintamos la matriz de confusión de BM25\n",
        "array_bm25 = metrics.confusion_matrix(df_test.label, predicted_bm25)\n",
        "df_cm_bm25 = pd.DataFrame(array_bm25)\n",
        "plt.figure(figsize = (10,7))\n",
        "sn.heatmap(df_cm_bm25, annot=True, fmt=\"d\")"
      ]
    },
    {
      "cell_type": "markdown",
      "metadata": {
        "id": "cXzhkX65K2Qb"
      },
      "source": [
        "## Apartado 5 - Guardamos y cargamos el modelo (Resuelto)\n"
      ]
    },
    {
      "cell_type": "code",
      "execution_count": 49,
      "metadata": {
        "colab": {
          "base_uri": "https://localhost:8080/"
        },
        "id": "yKIIVKRaK5K3",
        "outputId": "d162eb69-a627-42db-941d-bbd108c0c3df"
      },
      "outputs": [
        {
          "output_type": "stream",
          "name": "stdout",
          "text": [
            "Test accuracy: 81.04026846 %\n",
            "TF: 'no me fío del gobierno' => negative\n",
            "TF: 'aumentan los fallecidos' => negative\n",
            "TF: 'desciende la incidencia del virus' => positive\n"
          ]
        }
      ],
      "source": [
        "import joblib\n",
        "\n",
        "# Podemos gardar el modelo a algún archivo\n",
        "modTF_file = \"TF_model.pkl\"\n",
        "joblib.dump(clf_tf, modTF_file)\n",
        "\n",
        "# Lo cargamos desde el fichero\n",
        "TF_model = joblib.load(modTF_file)\n",
        "\n",
        "# Volvemos a calcular el accuracy de los datos de test\n",
        "score = TF_model.score(df_test.tweet, df_test.label)\n",
        "print(\"Test accuracy: {0:.8f} %\".format(100 * score))\n",
        "\n",
        "# Otra forma de calcular el accuracy es\n",
        "predicted_tf = TF_model.predict(df_test.tweet)\n",
        "np.mean(predicted_tf == df_test.label)\n",
        "\n",
        "# Probamos de nuevo los ejemplos para la clasificación\n",
        "docs_new = ['no me fío del gobierno', 'aumentan los fallecidos','desciende la incidencia del virus']\n",
        "\n",
        "# Predecimos\n",
        "predicted_tf = TF_model.predict(docs_new)\n",
        "\n",
        "# Imprimimos los textos y su predicción para TF\n",
        "for doc, category_tf in zip(docs_new, predicted_tf):\n",
        "  print('TF: %r => %s' % (doc, category_tf))"
      ]
    },
    {
      "cell_type": "markdown",
      "metadata": {
        "id": "ZVv97m9c4TXJ"
      },
      "source": [
        "# Apartado 6 Creamos modelos con otros algoritmos de clasificación de scikit-learn (a resolver)\n",
        "\n",
        "En la documentación de scikit-learn se describen multitud de clasificadores que se pueden utilizar https://scikit-learn.org/stable/supervised_learning.html"
      ]
    },
    {
      "cell_type": "code",
      "execution_count": 51,
      "metadata": {
        "id": "DoHs2acO43zp",
        "outputId": "29bf806d-f9c3-4aa9-b10d-c02661797feb",
        "colab": {
          "base_uri": "https://localhost:8080/"
        }
      },
      "outputs": [
        {
          "output_type": "stream",
          "name": "stdout",
          "text": [
            "Entrenando y evaluando el modelo: Random Forest\n",
            "Resultados para Random Forest:\n",
            "              precision    recall  f1-score   support\n",
            "\n",
            "    negative       0.72      0.38      0.50       357\n",
            "    positive       0.78      0.94      0.85       835\n",
            "\n",
            "    accuracy                           0.77      1192\n",
            "   macro avg       0.75      0.66      0.68      1192\n",
            "weighted avg       0.76      0.77      0.75      1192\n",
            "\n",
            "--------------------------------------------------\n",
            "Entrenando y evaluando el modelo: K-Nearest Neighbors\n",
            "Resultados para K-Nearest Neighbors:\n",
            "              precision    recall  f1-score   support\n",
            "\n",
            "    negative       0.63      0.52      0.57       357\n",
            "    positive       0.81      0.87      0.84       835\n",
            "\n",
            "    accuracy                           0.76      1192\n",
            "   macro avg       0.72      0.69      0.70      1192\n",
            "weighted avg       0.75      0.76      0.76      1192\n",
            "\n",
            "--------------------------------------------------\n",
            "Entrenando y evaluando el modelo: Support Vector Machine\n",
            "Resultados para Support Vector Machine:\n",
            "              precision    recall  f1-score   support\n",
            "\n",
            "    negative       0.72      0.57      0.64       357\n",
            "    positive       0.83      0.91      0.87       835\n",
            "\n",
            "    accuracy                           0.81      1192\n",
            "   macro avg       0.78      0.74      0.75      1192\n",
            "weighted avg       0.80      0.81      0.80      1192\n",
            "\n",
            "--------------------------------------------------\n"
          ]
        }
      ],
      "source": [
        "# Creamos y entrenamos modelos mediante Pipeline\n",
        "from sklearn.ensemble import RandomForestClassifier\n",
        "from sklearn.neighbors import KNeighborsClassifier\n",
        "from sklearn.svm import SVC\n",
        "from sklearn.metrics import classification_report\n",
        "from sklearn.pipeline import Pipeline\n",
        "\n",
        "# Definimos una lista de clasificadores a probar\n",
        "classifiers = {\n",
        "    'Random Forest': RandomForestClassifier(),\n",
        "    'K-Nearest Neighbors': KNeighborsClassifier(),\n",
        "    'Support Vector Machine': SVC()\n",
        "}\n",
        "\n",
        "# Iteramos sobre los clasificadores\n",
        "for name, clf in classifiers.items():\n",
        "    print(f\"Entrenando y evaluando el modelo: {name}\")\n",
        "\n",
        "    # Creamos un pipeline con el clasificador\n",
        "    pipeline = Pipeline([\n",
        "        ('vect', CountVectorizer()),\n",
        "        ('tfidf', tfidf_transformer),\n",
        "        ('classifier', clf)\n",
        "    ])\n",
        "\n",
        "    # Entrenamos el modelo\n",
        "    pipeline.fit(df_train.tweet, df_train.label)\n",
        "\n",
        "    # Realizamos predicciones en el conjunto de test\n",
        "    y_pred = pipeline.predict(df_test.tweet)\n",
        "\n",
        "    # Evaluamos el modelo\n",
        "    print(f\"Resultados para {name}:\")\n",
        "    print(classification_report(df_test.label, y_pred))\n",
        "    print(\"-\" * 50)"
      ]
    }
  ],
  "metadata": {
    "colab": {
      "provenance": []
    },
    "kernelspec": {
      "display_name": "Python 3 (ipykernel)",
      "language": "python",
      "name": "python3"
    },
    "language_info": {
      "codemirror_mode": {
        "name": "ipython",
        "version": 3
      },
      "file_extension": ".py",
      "mimetype": "text/x-python",
      "name": "python",
      "nbconvert_exporter": "python",
      "pygments_lexer": "ipython3",
      "version": "3.8.6"
    }
  },
  "nbformat": 4,
  "nbformat_minor": 0
}