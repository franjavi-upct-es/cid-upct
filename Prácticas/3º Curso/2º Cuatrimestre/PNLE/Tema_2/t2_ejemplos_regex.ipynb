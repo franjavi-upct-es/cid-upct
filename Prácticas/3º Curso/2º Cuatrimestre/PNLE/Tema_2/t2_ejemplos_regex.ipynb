{
  "cells": [
    {
      "cell_type": "markdown",
      "metadata": {
        "id": "AD6tFhX7OCZk"
      },
      "source": [
        "# Ejemplos. Expresiones Regulares\n",
        "\n",
        "En estos ejemplos se va a trabajar con expresiones regulares en Python.\n",
        "\n",
        "**IMPORTANTE**: En Python, una cadena raw (o raw string) es una cadena de texto precedida por r o R, lo que indica que los caracteres de escape (\\) deben interpretarse literalmente y no como secuencias especiales.\n",
        "\n",
        "Por eso las expresiones regulares se deberán describir como **regex = r'...'**\n",
        "\n",
        "**IMPORTANTE 2**: En Python **\\w** coincide con una amplia variedad de caracteres Unicode incluyendo las vocales acentuadas, la **ñ** y **Ñ**."
      ]
    },
    {
      "cell_type": "markdown",
      "metadata": {
        "id": "3PWIyoVVTcRf"
      },
      "source": [
        "## Expresiones regulares sobre tokens.\n",
        "\n",
        "En este apartado trabajaremos con listas de tokens usando el Tokenizer de NLTK sobre un texto de ejemplo.\n",
        "\n",
        "En las listas de tokens, como cada palabra o token es un elemento de la lista, la palabra es también el texto completo que se le pasa a la expresión regular por lo que se puede usar ^ y $ para indicar el inicio o fin de palabra."
      ]
    },
    {
      "cell_type": "code",
      "execution_count": 2,
      "metadata": {
        "colab": {
          "base_uri": "https://localhost:8080/"
        },
        "id": "VvFAgsf3UyUB",
        "outputId": "915237d7-c067-4a6f-f3ed-1e8e5c544953"
      },
      "outputs": [
        {
          "name": "stderr",
          "output_type": "stream",
          "text": [
            "[nltk_data] Downloading package punkt to /home/codespace/nltk_data...\n",
            "[nltk_data]   Unzipping tokenizers/punkt.zip.\n",
            "[nltk_data] Downloading package punkt_tab to\n",
            "[nltk_data]     /home/codespace/nltk_data...\n",
            "[nltk_data]   Unzipping tokenizers/punkt_tab.zip.\n"
          ]
        }
      ],
      "source": [
        "import nltk\n",
        "from nltk.tokenize import word_tokenize, sent_tokenize\n",
        "import re\n",
        "\n",
        "# Descargar los recursos necesarios de NLTK\n",
        "nltk.download('punkt')\n",
        "nltk.download('punkt_tab')\n",
        "\n",
        "\n",
        "text = '''\n",
        "May           14th              2019\n",
        "\n",
        "That U.S.A.                    poster-print costs $12.30, including           V.A.T., but it's possible\n",
        "to get a 30% discount if you have a no-pre-paid card      (and not-master-card).\n",
        "Further discounts can be                   authorized for elderly people, foreigners, etc.;\n",
        "Payments in euros are                allowed if they don't exceed $24.50 until 30/05/2020.\n",
        "\n",
        "\n",
        "\n",
        "When purchasing multiple                  items, bundling them together may lead to additional savings.\n",
        "\n",
        "\n",
        "Advertising campaigns promoting ongoing sales can be quite                  appealing.\n",
        "Consulting the store's policies           before buying is always a good          .\n",
        "\n",
        "\n",
        "Shopping during the morning or evening can help in avoiding long lines.\n",
        "For those traveling, exchanging currency beforehand might be beneficial.\n",
        "\n",
        "\n",
        "Understanding the pricing and                 checking for misleading offers is essential. '''"
      ]
    },
    {
      "cell_type": "markdown",
      "metadata": {
        "id": "guNtw6VDgTUr"
      },
      "source": [
        "Usamos primero unas expresiones regulares sencillas para poder eliminar saltos de línea innecesarios, así como espacios innecesarios."
      ]
    },
    {
      "cell_type": "code",
      "execution_count": 3,
      "metadata": {
        "colab": {
          "base_uri": "https://localhost:8080/"
        },
        "id": "m6Nbmn-xdIkw",
        "outputId": "dbd958a7-097e-4780-ac41-5b0142ceac8c"
      },
      "outputs": [
        {
          "name": "stdout",
          "output_type": "stream",
          "text": [
            "May 14th 2019\n",
            "That U.S.A. poster-print costs $12.30, including V.A.T., but it's possible\n",
            "to get a 30% discount if you have a no-pre-paid card (and not-master-card).\n",
            "Further discounts can be authorized for elderly people, foreigners, etc.;\n",
            "Payments in euros are allowed if they don't exceed $24.50 until 30/05/2020.\n",
            "When purchasing multiple items, bundling them together may lead to additional savings.\n",
            "Advertising campaigns promoting ongoing sales can be quite appealing.\n",
            "Consulting the store's policies before buying is always a good .\n",
            "Shopping during the morning or evening can help in avoiding long lines.\n",
            "For those traveling, exchanging currency beforehand might be beneficial.\n",
            "Understanding the pricing and checking for misleading offers is essential.\n"
          ]
        }
      ],
      "source": [
        "# 1. Eliminar los saltos de línea (reemplazamos varios \\n por un \\n)\n",
        "text = re.sub(r'\\n+', '\\n', text)\n",
        "\n",
        "# 2. Eliminar los múltiples espacios consecutivos\n",
        "text = re.sub(r'[\\t ]+', ' ', text)\n",
        "\n",
        "# 3. Eliminar los espacios al principio y al final\n",
        "text = text.strip()\n",
        "\n",
        "print(text)"
      ]
    },
    {
      "cell_type": "code",
      "execution_count": 4,
      "metadata": {
        "colab": {
          "base_uri": "https://localhost:8080/"
        },
        "id": "NRvVtnw00KBo",
        "outputId": "cee4d003-b037-4865-9f2d-614a402b2949"
      },
      "outputs": [
        {
          "name": "stdout",
          "output_type": "stream",
          "text": [
            "Palabras: ['May', '14th', '2019', 'That', 'U.S.A.', 'poster-print', 'costs', '$', '12.30', ',', 'including', 'V.A.T.', ',', 'but', 'it', \"'s\", 'possible', 'to', 'get', 'a', '30', '%', 'discount', 'if', 'you', 'have', 'a', 'no-pre-paid', 'card', '(', 'and', 'not-master-card', ')', '.', 'Further', 'discounts', 'can', 'be', 'authorized', 'for', 'elderly', 'people', ',', 'foreigners', ',', 'etc', '.', ';', 'Payments', 'in', 'euros', 'are', 'allowed', 'if', 'they', 'do', \"n't\", 'exceed', '$', '24.50', 'until', '30/05/2020', '.', 'When', 'purchasing', 'multiple', 'items', ',', 'bundling', 'them', 'together', 'may', 'lead', 'to', 'additional', 'savings', '.', 'Advertising', 'campaigns', 'promoting', 'ongoing', 'sales', 'can', 'be', 'quite', 'appealing', '.', 'Consulting', 'the', 'store', \"'s\", 'policies', 'before', 'buying', 'is', 'always', 'a', 'good', '.', 'Shopping', 'during', 'the', 'morning', 'or', 'evening', 'can', 'help', 'in', 'avoiding', 'long', 'lines', '.', 'For', 'those', 'traveling', ',', 'exchanging', 'currency', 'beforehand', 'might', 'be', 'beneficial', '.', 'Understanding', 'the', 'pricing', 'and', 'checking', 'for', 'misleading', 'offers', 'is', 'essential', '.']\n"
          ]
        }
      ],
      "source": [
        "words = word_tokenize(text)  # Tokenización en palabras\n",
        "\n",
        "print(\"Palabras:\", words)"
      ]
    },
    {
      "cell_type": "markdown",
      "metadata": {
        "id": "O_lhym6WUatP"
      },
      "source": [
        "### Búsqueda de patrones en tokens.\n",
        "\n",
        "Encuentramos los tokens que terminen por *ing*."
      ]
    },
    {
      "cell_type": "code",
      "execution_count": 5,
      "metadata": {
        "colab": {
          "base_uri": "https://localhost:8080/"
        },
        "id": "n5jrJBuGUVnc",
        "outputId": "69d365e8-66d4-4bd7-f97c-1472318df294"
      },
      "outputs": [
        {
          "name": "stdout",
          "output_type": "stream",
          "text": [
            "Tokens terminados en ing\n",
            "['including', 'purchasing', 'bundling', 'Advertising', 'promoting', 'ongoing', 'appealing', 'Consulting', 'buying', 'Shopping', 'during', 'morning', 'evening', 'avoiding', 'traveling', 'exchanging', 'Understanding', 'pricing', 'checking', 'misleading']\n",
            "\n",
            "--------------------------------------------------\n"
          ]
        }
      ],
      "source": [
        "import nltk\n",
        "import re\n",
        "\n",
        "#Definimos la expresión regular a encontrar\n",
        "regex = r'ing$'\n",
        "\n",
        "print(\"Tokens terminados en ing\")\n",
        "lista1 = [w for w in words if re.search(regex, w)]\n",
        "print(lista1)\n",
        "print()\n",
        "print(\"-----\"*10)"
      ]
    },
    {
      "cell_type": "markdown",
      "metadata": {
        "id": "VVLfORfBvQ20"
      },
      "source": [
        "Encontramos los tokens que empiecen por *m* o *M*."
      ]
    },
    {
      "cell_type": "code",
      "execution_count": 6,
      "metadata": {
        "colab": {
          "base_uri": "https://localhost:8080/"
        },
        "id": "uLoKHSHkvRcM",
        "outputId": "0356b86a-4eda-4912-f0e2-1b5d5bf48c37"
      },
      "outputs": [
        {
          "name": "stdout",
          "output_type": "stream",
          "text": [
            "Tokens terminados en ing\n",
            "['May', 'multiple', 'may', 'morning', 'might', 'misleading']\n",
            "\n",
            "--------------------------------------------------\n"
          ]
        }
      ],
      "source": [
        "#Definimos la expresión regular a encontrar\n",
        "regex = r'^[mM]'\n",
        "\n",
        "print(\"Tokens terminados en ing\")\n",
        "lista1 = [w for w in words if re.search(regex, w)]\n",
        "print(lista1)\n",
        "print()\n",
        "print(\"-----\"*10)"
      ]
    },
    {
      "cell_type": "markdown",
      "metadata": {
        "id": "J-OrLgadE_1l"
      },
      "source": [
        "Encontramos los tokens que empiecen por *m* y terminen por *ing*"
      ]
    },
    {
      "cell_type": "code",
      "execution_count": 7,
      "metadata": {
        "colab": {
          "base_uri": "https://localhost:8080/"
        },
        "id": "p8wvRd_jE_Hq",
        "outputId": "5da7a9c9-72e2-452e-c0d8-c22c3952f5d8"
      },
      "outputs": [
        {
          "name": "stdout",
          "output_type": "stream",
          "text": [
            "Tokens terminados en ing\n",
            "['morning', 'misleading']\n",
            "\n",
            "--------------------------------------------------\n"
          ]
        }
      ],
      "source": [
        "#Definimos la expresión regular a encontrar\n",
        "regex = r'^[mM]\\w*ing$'\n",
        "\n",
        "print(\"Tokens terminados en ing\")\n",
        "lista1 = [w for w in words if re.search(regex, w)]\n",
        "print(lista1)\n",
        "print()\n",
        "print(\"-----\"*10)"
      ]
    },
    {
      "cell_type": "markdown",
      "metadata": {
        "id": "fDw_R6JeHBxH"
      },
      "source": [
        "Buscar los tokens que tengan al menos dos vocales consecutivas"
      ]
    },
    {
      "cell_type": "code",
      "execution_count": 8,
      "metadata": {
        "colab": {
          "base_uri": "https://localhost:8080/"
        },
        "id": "-xf_sNpgHFar",
        "outputId": "33f45e23-e920-4f63-d3ec-b5eb4ccbd573"
      },
      "outputs": [
        {
          "name": "stdout",
          "output_type": "stream",
          "text": [
            "Tokens terminados en ing\n",
            "['discount', 'you', 'no-pre-paid', 'discounts', 'authorized', 'people', 'foreigners', 'euros', 'exceed', 'lead', 'additional', 'campaigns', 'ongoing', 'quite', 'appealing', 'policies', 'good', 'avoiding', 'beneficial', 'misleading', 'essential']\n",
            "\n",
            "--------------------------------------------------\n"
          ]
        }
      ],
      "source": [
        "#Definimos la expresión regular a encontrar\n",
        "regex = r'[AEIOUaeiou]{2,}'\n",
        "\n",
        "print(\"Tokens terminados en ing\")\n",
        "lista1 = [w for w in words if re.search(regex, w)]\n",
        "print(lista1)\n",
        "print()\n",
        "print(\"-----\"*10)"
      ]
    },
    {
      "cell_type": "markdown",
      "metadata": {
        "id": "KlwWr-TR0TFX"
      },
      "source": [
        "Obtener todos los tokens que sean números"
      ]
    },
    {
      "cell_type": "code",
      "execution_count": 9,
      "metadata": {
        "colab": {
          "base_uri": "https://localhost:8080/"
        },
        "id": "GEyyfA1I0Tij",
        "outputId": "6baf43c2-e123-49c3-fdbb-b0213f518ced"
      },
      "outputs": [
        {
          "name": "stdout",
          "output_type": "stream",
          "text": [
            "Tokens terminados en ing\n",
            "['2019', '12.30', '30', '24.50']\n",
            "\n",
            "--------------------------------------------------\n"
          ]
        }
      ],
      "source": [
        "#Definimos la expresión regular a encontrar\n",
        "regex = r'^\\d+(\\.)?\\d+$'\n",
        "\n",
        "print(\"Tokens terminados en ing\")\n",
        "lista1 = [w for w in words if re.search(regex, w)]\n",
        "print(lista1)\n",
        "print()\n",
        "print(\"-----\"*10)"
      ]
    },
    {
      "cell_type": "markdown",
      "metadata": {
        "id": "OHgaDJUMHV_p"
      },
      "source": [
        "Obtener todos los tokens que tengan al menos un guión *-*"
      ]
    },
    {
      "cell_type": "code",
      "execution_count": 10,
      "metadata": {
        "colab": {
          "base_uri": "https://localhost:8080/"
        },
        "id": "30DCU7RFHVmz",
        "outputId": "394ae903-18e6-4a27-c5f1-122a06ac6859"
      },
      "outputs": [
        {
          "name": "stdout",
          "output_type": "stream",
          "text": [
            "Tokens terminados en ing\n",
            "['poster-print', 'no-pre-paid', 'not-master-card']\n",
            "\n",
            "--------------------------------------------------\n"
          ]
        }
      ],
      "source": [
        "#Definimos la expresión regular a encontrar\n",
        "regex = r'\\-'\n",
        "\n",
        "print(\"Tokens terminados en ing\")\n",
        "lista1 = [w for w in words if re.search(regex, w)]\n",
        "print(lista1)\n",
        "print()\n",
        "print(\"-----\"*10)"
      ]
    },
    {
      "cell_type": "markdown",
      "metadata": {
        "id": "7GSF16zNITcA"
      },
      "source": [
        "Obtener todos los tokens que sean acrónimos"
      ]
    },
    {
      "cell_type": "code",
      "execution_count": 11,
      "metadata": {
        "colab": {
          "base_uri": "https://localhost:8080/"
        },
        "id": "8sq99aztIRnS",
        "outputId": "30904da1-d207-4e7f-abbf-61f66acacdcd"
      },
      "outputs": [
        {
          "name": "stdout",
          "output_type": "stream",
          "text": [
            "Tokens terminados en ing\n",
            "['U.S.A.', 'V.A.T.']\n",
            "\n",
            "--------------------------------------------------\n"
          ]
        },
        {
          "name": "stderr",
          "output_type": "stream",
          "text": [
            "<>:2: SyntaxWarning: invalid escape sequence '\\.'\n",
            "<>:2: SyntaxWarning: invalid escape sequence '\\.'\n",
            "/tmp/ipykernel_54465/3282411117.py:2: SyntaxWarning: invalid escape sequence '\\.'\n",
            "  regex = '^([A-Z]+\\.)+$'\n"
          ]
        }
      ],
      "source": [
        "#Definimos la expresión regular a encontrar\n",
        "regex = '^([A-Z]+\\.)+$'\n",
        "\n",
        "print(\"Tokens terminados en ing\")\n",
        "lista1 = [w for w in words if re.search(regex, w)]\n",
        "print(lista1)\n",
        "print()\n",
        "print(\"-----\"*10)"
      ]
    },
    {
      "cell_type": "markdown",
      "metadata": {
        "id": "rw9rdm5KD-aV"
      },
      "source": [
        "## 2.2.- Búsqueda de patrones en un texto.\n",
        "\n",
        "A continuación buscaremos distintos patrones en el texto *text* definido anteriormente.\n",
        "\n",
        "Primero buscamos todas palabras que empiecen por *m* o *M* y que terminen por *ing*"
      ]
    },
    {
      "cell_type": "code",
      "execution_count": 12,
      "metadata": {
        "colab": {
          "base_uri": "https://localhost:8080/"
        },
        "id": "Uw3xAZ8F-whW",
        "outputId": "4a3bc670-99f0-4e48-d90e-e4f8aeb52734"
      },
      "outputs": [
        {
          "name": "stdout",
          "output_type": "stream",
          "text": [
            "Tokens que empiezan en m o M y terminan en ing\n",
            "['morning', 'misleading']\n",
            "\n",
            "--------------------------------------------------\n"
          ]
        }
      ],
      "source": [
        "#Definimos la expresión regular a encontrar\n",
        "regex = r'\\b[mM][A-Z-a-z]+ing\\b'\n",
        "\n",
        "print(\"Tokens que empiezan en m o M y terminan en ing\")\n",
        "lista1 = re.findall(regex, text)\n",
        "print(lista1)\n",
        "print()\n",
        "print(\"-----\"*10)"
      ]
    },
    {
      "cell_type": "markdown",
      "metadata": {
        "id": "oZu0xgkXLQ2C"
      },
      "source": [
        "Buscamos todos los tokens que sean números."
      ]
    },
    {
      "cell_type": "code",
      "execution_count": 13,
      "metadata": {
        "colab": {
          "base_uri": "https://localhost:8080/"
        },
        "id": "GaRPmdyKLQcZ",
        "outputId": "ff59fbdc-3b33-4deb-fba8-4aa868f0fa0f"
      },
      "outputs": [
        {
          "name": "stdout",
          "output_type": "stream",
          "text": [
            "Números\n",
            "['2019', '12.30', '24.50', '2020']\n",
            "\n",
            "--------------------------------------------------\n"
          ]
        }
      ],
      "source": [
        "#Definimos la expresión regular a encontrar\n",
        "regex = r'(\\d+(?:\\.)?\\d+)[\\s\\.,]'\n",
        "\n",
        "print(\"Números\")\n",
        "lista1 = re.findall(regex, text)\n",
        "print(lista1)\n",
        "print()\n",
        "print(\"-----\"*10)"
      ]
    },
    {
      "cell_type": "markdown",
      "metadata": {
        "id": "4ERj1j6i06_S"
      },
      "source": [
        "Encontramos ahora las palabras que tengan al menos un guión"
      ]
    },
    {
      "cell_type": "code",
      "execution_count": 14,
      "metadata": {
        "colab": {
          "base_uri": "https://localhost:8080/"
        },
        "id": "j_rG7SKF06lS",
        "outputId": "6d9ba5f9-358f-46fb-d242-2ae517974a94"
      },
      "outputs": [
        {
          "name": "stdout",
          "output_type": "stream",
          "text": [
            "Números\n",
            "['poster-print', 'no-pre-paid', 'not-master-card']\n",
            "\n",
            "--------------------------------------------------\n"
          ]
        }
      ],
      "source": [
        "#Definimos la expresión regular a encontrar\n",
        "regex = r'\\b\\w+(?:-\\w+)+\\b'\n",
        "\n",
        "print(\"Números\")\n",
        "lista1 = re.findall(regex, text)\n",
        "print(lista1)\n",
        "print()\n",
        "print(\"-----\"*10)"
      ]
    },
    {
      "cell_type": "markdown",
      "metadata": {
        "id": "R1rSySvTPrvP"
      },
      "source": [
        "Usamos los grupos capturados para poder obtener las partes de las palabras compuestas separadas por 2 o 3 guiones.\n",
        "\n"
      ]
    },
    {
      "cell_type": "code",
      "execution_count": 15,
      "metadata": {
        "colab": {
          "base_uri": "https://localhost:8080/"
        },
        "id": "6v3bZGl2PsAb",
        "outputId": "93bbd6cb-4206-43e4-e4d5-3b13bad08022"
      },
      "outputs": [
        {
          "name": "stdout",
          "output_type": "stream",
          "text": [
            "Palabras con guión\n",
            "[('poster', 'print', ''), ('no', 'pre', 'paid'), ('not', 'master', 'card')]\n",
            "\n",
            "--------------------------------------------------\n"
          ]
        }
      ],
      "source": [
        "#Definimos la expresión regular a encontrar\n",
        "regex = r'\\b(\\w+)\\-(\\w+)(?:\\-(\\w+))?\\b'\n",
        "\n",
        "print(\"Palabras con guión\")\n",
        "lista1 = re.findall(regex, text)\n",
        "print(lista1)\n",
        "print()\n",
        "print(\"-----\"*10)"
      ]
    },
    {
      "cell_type": "markdown",
      "metadata": {
        "id": "6d9o7OvWTqOw"
      },
      "source": [
        "Lo hacemos ahora con grupos capturados con nombre ?<nombre>, pero tenemos que tener en cuenta que no se puede usar findall() directamente para obtener grupos capturados con nombre, pero puedes usar finditer() para obtener un iterador de objetos de coincidencia y luego acceder a los grupos con nombre mediante groupdict()."
      ]
    },
    {
      "cell_type": "code",
      "execution_count": 16,
      "metadata": {
        "colab": {
          "base_uri": "https://localhost:8080/"
        },
        "id": "EVI_HgZTTrBI",
        "outputId": "6d61fc23-4754-400d-bad0-4a2dd14bb890"
      },
      "outputs": [
        {
          "name": "stdout",
          "output_type": "stream",
          "text": [
            "Palabras con guión\n",
            "{'primera': 'poster', 'segunda': 'print', 'tercera': None}\n",
            "{'primera': 'no', 'segunda': 'pre', 'tercera': 'paid'}\n",
            "{'primera': 'not', 'segunda': 'master', 'tercera': 'card'}\n",
            "\n",
            "--------------------------------------------------\n"
          ]
        }
      ],
      "source": [
        "#Definimos la expresión regular a encontrar\n",
        "regex = r'\\b(?P<primera>\\w+)\\-(?P<segunda>\\w+)(?:\\-(?P<tercera>\\w+))?\\b'\n",
        "\n",
        "print(\"Palabras con guión\")\n",
        "for item in re.finditer(regex, text):\n",
        "  print(item.groupdict())\n",
        "print()\n",
        "print(\"-----\"*10)"
      ]
    },
    {
      "cell_type": "markdown",
      "metadata": {
        "id": "6iBfINVjVqAe"
      },
      "source": [
        "Encontramos ahora cantidades de dinero $NUMERO y porcentajes NUMERO%"
      ]
    },
    {
      "cell_type": "code",
      "execution_count": 17,
      "metadata": {
        "colab": {
          "base_uri": "https://localhost:8080/"
        },
        "id": "HZwpNk6BWAFR",
        "outputId": "13c03b04-11f4-4bcd-ce27-4f0fb4e02825"
      },
      "outputs": [
        {
          "name": "stdout",
          "output_type": "stream",
          "text": [
            "Cantidades de dinero en dólares\n",
            "['$12.30', '$24.50']\n",
            "\n",
            "--------------------------------------------------\n",
            "Porcentajes\n",
            "['30%']\n",
            "\n",
            "--------------------------------------------------\n"
          ]
        }
      ],
      "source": [
        "#Definimos la expresión regular a encontrar\n",
        "regex = r'\\$\\d+(?:\\.\\d+)?'\n",
        "\n",
        "print(\"Cantidades de dinero en dólares\")\n",
        "lista1 = re.findall(regex, text)\n",
        "print(lista1)\n",
        "print()\n",
        "print(\"-----\"*10)\n",
        "\n",
        "#Definimos la expresión regular a encontrar\n",
        "regex = r'\\d+(?:\\.\\d+)?%'\n",
        "\n",
        "print(\"Porcentajes\")\n",
        "lista1 = re.findall(regex, text)\n",
        "print(lista1)\n",
        "print()\n",
        "print(\"-----\"*10)"
      ]
    },
    {
      "cell_type": "markdown",
      "metadata": {
        "id": "GxSeh2yzYuw1"
      },
      "source": [
        "## 2.3 Búsqueda patrones en formularios\n",
        "\n",
        "Supongamos que tenemos un texto con un formulario con distintos campos. Vamos a intentar en base a eso obtener información a partir de este texto estructurado."
      ]
    },
    {
      "cell_type": "code",
      "execution_count": 18,
      "metadata": {
        "colab": {
          "base_uri": "https://localhost:8080/"
        },
        "id": "fLMhi7UlrESc",
        "outputId": "7cefbf4a-6dea-47de-c3b0-d69bf5115d2a"
      },
      "outputs": [
        {
          "name": "stdout",
          "output_type": "stream",
          "text": [
            "Formulario de Registro\n",
            "Nombre completo: Juan Pérez\n",
            "Dirección: Calle Falsa 123\n",
            "Ciudad: El Algar\n",
            "Provincia: Murcia\n",
            "Código Postal: 30366\n",
            "Número de teléfono: 999 4 9 56 79\n",
            "Correo electrónico: juan.perez@email.com\n",
            " Fecha de nacimiento: 15/03/1985\n",
            "Género: Masculino\n",
            "Preferencias:\n",
            "- Recibir boletines por correo electrónico\n",
            "- Notificaciones de ofertas especiales\n",
            "Comentarios adicionales:\n",
            "Estoy interesado en obtener más información sobre los productos.\n",
            "Fecha: 10/02/2025\n"
          ]
        }
      ],
      "source": [
        "sp_form_text=\"\"\"\n",
        "Formulario de Registro\n",
        "\n",
        "Nombre completo: Juan Pérez\n",
        "\n",
        "Dirección: Calle Falsa 123\n",
        "Ciudad: El Algar\n",
        "Provincia: Murcia\n",
        "Código Postal: 30366\n",
        "\n",
        "Número de teléfono: 999 4    9 56 79\n",
        "\n",
        "Correo      electrónico: juan.perez@email.com\n",
        "\n",
        "      Fecha de nacimiento: 15/03/1985\n",
        "\n",
        "Género: Masculino\n",
        "\n",
        "\n",
        "\n",
        "\n",
        "Preferencias:\n",
        "- Recibir boletines por correo electrónico\n",
        "- Notificaciones de ofertas especiales\n",
        "\n",
        "Comentarios adicionales:\n",
        "Estoy interesado en obtener más información sobre los productos.\n",
        "\n",
        "\n",
        "\n",
        "Fecha: 10/02/2025\n",
        "\"\"\"\n",
        "\n",
        "# 1. Eliminar los saltos de línea (reemplazamos varios \\n por un \\n)\n",
        "sp_form_text = re.sub(r'\\n+', '\\n', sp_form_text)\n",
        "\n",
        "# 2. Eliminar los múltiples espacios consecutivos\n",
        "sp_form_text = re.sub(r'[\\t ]+', ' ', sp_form_text)\n",
        "\n",
        "# 3. Eliminar los espacios al principio y al final\n",
        "sp_form_text = sp_form_text.strip()\n",
        "\n",
        "print(sp_form_text)"
      ]
    },
    {
      "cell_type": "markdown",
      "metadata": {
        "id": "Jr4uwNFHsGap"
      },
      "source": [
        "Extraemos por ejemplo uno de los campos individuales que están en una línea del texto usando un **Lookbehind** (nombre, ciudad, etc.)"
      ]
    },
    {
      "cell_type": "code",
      "execution_count": 19,
      "metadata": {
        "colab": {
          "base_uri": "https://localhost:8080/"
        },
        "id": "xKrdi4IJsF2e",
        "outputId": "eb12c882-8ba6-4637-f297-9448e27b23e2"
      },
      "outputs": [
        {
          "name": "stdout",
          "output_type": "stream",
          "text": [
            "Nombre\n",
            "Juan Pérez\n",
            "\n",
            "--------------------------------------------------\n"
          ]
        }
      ],
      "source": [
        "#Definimos la expresión regular a encontrar\n",
        "regex = r'(?<=Nombre completo: )([\\w\\s]+)\\n'\n",
        "\n",
        "print(\"Nombre\")\n",
        "nombre = re.search(regex, sp_form_text).group(1)\n",
        "print(nombre)\n",
        "print()\n",
        "print(\"-----\"*10)\n",
        "\n",
        "#Extraemos ahora la ciudad"
      ]
    },
    {
      "cell_type": "markdown",
      "metadata": {
        "id": "iOCEEnQEuuGU"
      },
      "source": [
        "Modificamos la expresión regular para obtener un campo compuesto por varias líneas como **Preferencias**\n",
        "\n"
      ]
    },
    {
      "cell_type": "code",
      "execution_count": 20,
      "metadata": {
        "colab": {
          "base_uri": "https://localhost:8080/"
        },
        "id": "PtxZS4DzutoZ",
        "outputId": "551f92c4-9532-424d-e564-a069d4f89172"
      },
      "outputs": [
        {
          "name": "stdout",
          "output_type": "stream",
          "text": [
            "Preferencias\n",
            "- Recibir boletines por correo electrónico\n",
            "- Notificaciones de ofertas especiales\n",
            "\n",
            "--------------------------------------------------\n"
          ]
        }
      ],
      "source": [
        "#Definimos la expresión regular a encontrar\n",
        "regex = r\"(?<=Preferencias:)([\\w\\s-]+)(?=Comentarios)\"\n",
        "\n",
        "print(\"Preferencias\")\n",
        "nom = re.search(regex, sp_form_text)\n",
        "if nom:\n",
        "  nombre=nom.group(1).strip()\n",
        "print(nombre)\n",
        "print()\n",
        "print(\"-----\"*10)\n",
        "\n"
      ]
    },
    {
      "cell_type": "markdown",
      "metadata": {
        "id": "G7ENevGrznFX"
      },
      "source": [
        "Usando los **lookaround** se puede intentar mejorar el preprocesado realizado sobre un texto anteriormente."
      ]
    },
    {
      "cell_type": "code",
      "execution_count": 21,
      "metadata": {
        "colab": {
          "base_uri": "https://localhost:8080/"
        },
        "id": "LplsQ0tczmxi",
        "outputId": "2ade8d9a-bd7d-4a36-f32b-f2c3481a6a4c"
      },
      "outputs": [
        {
          "name": "stdout",
          "output_type": "stream",
          "text": [
            "May 14th 2019\n",
            "That U.S.A. poster-print costs $12.30, including V.A.T., but it's possible to get a 30% discount if you have a no-pre-paid card (and not-master-card).\n",
            "Further discounts can be authorized for elderly people, foreigners, etc.;\n",
            "Payments in euros are allowed if they don't exceed $24.50 until 30/05/2020.\n",
            "When purchasing multiple items, bundling them together may lead to additional savings.\n",
            "Advertising campaigns promoting ongoing sales can be quite appealing.\n",
            "Consulting the store's policies before buying is always a good .\n",
            "Shopping during the morning or evening can help in avoiding long lines.\n",
            "For those traveling, exchanging currency beforehand might be beneficial.\n",
            "Understanding the pricing and checking for misleading offers is essential.\n"
          ]
        }
      ],
      "source": [
        "text = '''\n",
        "May           14th              2019\n",
        "\n",
        "That U.S.A.                    poster-print costs $12.30, including           V.A.T., but it's possible\n",
        "to get a 30% discount if you have a no-pre-paid card      (and not-master-card).\n",
        "Further discounts can be                   authorized for elderly people, foreigners, etc.;\n",
        "Payments in euros are                allowed if they don't exceed $24.50 until 30/05/2020.\n",
        "\n",
        "\n",
        "\n",
        "When purchasing multiple                  items, bundling them together may lead to additional savings.\n",
        "\n",
        "\n",
        "Advertising campaigns promoting ongoing sales can be quite                  appealing.\n",
        "Consulting the store's policies           before buying is always a good          .\n",
        "\n",
        "\n",
        "Shopping during the morning or evening can help in avoiding long lines.\n",
        "For those traveling, exchanging currency beforehand might be beneficial.\n",
        "\n",
        "\n",
        "Understanding the pricing and                 checking for misleading offers is essential. '''\n",
        "\n",
        "# 1. Eliminar los saltos de línea (reemplazamos varios \\n por un \\n)\n",
        "text = re.sub(r'\\n+', '\\n', text)\n",
        "\n",
        "# 2. Eliminar los múltiples espacios consecutivos\n",
        "text = re.sub(r'[\\t ]+', ' ', text)\n",
        "\n",
        "# 3. Eliminar los espacios al principio y al final\n",
        "text = text.strip()\n",
        "\n",
        "# 4. Eliminamos los saltos de línea que no terminen con punto y que abajo haya una palabra en minúscula\n",
        "text = re.sub(r'\\n(?![A-Z])', ' ', text)\n",
        "print(text)"
      ]
    },
    {
      "cell_type": "markdown",
      "metadata": {},
      "source": [
        "## 2.4 Modificadores\n",
        "Los modificadores más importantes en Python son los siguientes:\n",
        "\n",
        "\n",
        "| Modificador      | Nombre                  | Descripción |\n",
        "|-----------------|-------------------------|-------------|\n",
        "| `re.IGNORECASE` o `re.I` | Ignorar mayúsculas/minúsculas | Hace la búsqueda sin distinguir entre mayúsculas y minúsculas. |\n",
        "| `re.MULTILINE` o `re.M` | Modo multilínea | `^` y `$` funcionan en cada línea, no solo en toda la cadena. |\n",
        "| `re.DOTALL` o `re.S` | Modo \"dot-all\" | `.` también coincide con saltos de línea (`\\n`). |\n",
        "| `re.VERBOSE` o `re.X` | Modo legible | Permite comentarios y espacios en la regex. |\n",
        "| `re.ASCII` o `re.A` | Modo ASCII | `\\w`, `\\d`, `\\s` solo coinciden con caracteres ASCII (no Unicode). |\n",
        "\n",
        "\n",
        "A continuación usamos algunos de los modificadores para extraer información del texto en el formulario anterior.\n"
      ]
    },
    {
      "cell_type": "code",
      "execution_count": 22,
      "metadata": {},
      "outputs": [
        {
          "name": "stdout",
          "output_type": "stream",
          "text": [
            "Correo electrónico\n",
            "juan.perez@email.com\n",
            "--------------------------------------------------\n",
            "Correo electrónico\n",
            "juan.perez@email.com\n",
            "--------------------------------------------------\n"
          ]
        }
      ],
      "source": [
        "# Extraemos el email diciendo que coja todos los caracteres hasta el final poniendo el modo multilínea\n",
        "# también tenemos en cuenta la opción ignore case\n",
        "\n",
        "#Definimos la expresión regular a encontrar\n",
        "regex = r'(?<=CORREO ELECTRÓNICO: )(.+)$'\n",
        "\n",
        "print(\"Correo electrónico\")\n",
        "resultado = re.search(regex, sp_form_text, re.MULTILINE| re.IGNORECASE)\n",
        "if resultado:\n",
        "    nombre = resultado.group(1)\n",
        "    print(nombre)\n",
        "else:\n",
        "    print(\"No se encontró ninguna coincidencia.\")\n",
        "print(\"-----\"*10)\n",
        "\n",
        "#También se pueden meter los modificadores al principio de la expresión regular\n",
        "regex = r'(?<=CORREO ELECTRÓNICO: )(.+)$'\n",
        "\n",
        "print(\"Correo electrónico\")\n",
        "resultado = re.search(\"(?im)\"+regex, sp_form_text)\n",
        "if resultado:\n",
        "    nombre = resultado.group(1)\n",
        "    print(nombre)\n",
        "else:\n",
        "    print(\"No se encontró ninguna coincidencia.\")\n",
        "print(\"-----\"*10)\n"
      ]
    }
  ],
  "metadata": {
    "colab": {
      "provenance": []
    },
    "kernelspec": {
      "display_name": "Python 3",
      "name": "python3"
    },
    "language_info": {
      "codemirror_mode": {
        "name": "ipython",
        "version": 3
      },
      "file_extension": ".py",
      "mimetype": "text/x-python",
      "name": "python",
      "nbconvert_exporter": "python",
      "pygments_lexer": "ipython3",
      "version": "3.12.1"
    }
  },
  "nbformat": 4,
  "nbformat_minor": 0
}
