{
 "cells": [
  {
   "cell_type": "markdown",
   "metadata": {},
   "source": [
    "# Práctica 4"
   ]
  },
  {
   "cell_type": "markdown",
   "metadata": {},
   "source": [
    "Descripción: Cálculo integral. Integración numérica."
   ]
  },
  {
   "cell_type": "markdown",
   "metadata": {},
   "source": [
    "Bibliografía: https://pythonnumericalmethods.berkeley.edu/notebooks/Index.html\n",
    "              J. M. Stewart, Python for scientists. Cambridge University Press."
   ]
  },
  {
   "cell_type": "markdown",
   "metadata": {},
   "source": [
    "## Sumas de Riemann"
   ]
  },
  {
   "cell_type": "markdown",
   "metadata": {},
   "source": [
    "Podemos utilizar las sumas de Riemann para realizar la aproximación de una integral definida. Para ello realizaremos una partición del intervalo y tomaremos un valor de la función en cada subintervalo que hemos considerado, dependiendo de dicho valor podemos obtener valores por exceso o por defecto. Vamos a cargar los módulos que vamos a utilizar en esta parte."
   ]
  },
  {
   "cell_type": "code",
   "execution_count": null,
   "metadata": {},
   "outputs": [],
   "source": [
    "import numpy as np\n",
    "import sympy as sy"
   ]
  },
  {
   "cell_type": "markdown",
   "metadata": {},
   "source": []
  },
  {
   "cell_type": "markdown",
   "metadata": {},
   "source": [
    "Vamos a calcular una suma asociada a la integral $\\int_0^{\\pi} \\sin(x)\\,dx$. "
   ]
  },
  {
   "cell_type": "code",
   "execution_count": null,
   "metadata": {},
   "outputs": [],
   "source": [
    "a = 0\n",
    "b = np.pi\n",
    "numero_puntos_particion = 20\n",
    "numero_subintervalos = numero_puntos_particion - 1\n",
    "h = (b - a)/numero_subintervalos\n",
    "x = np.linspace(a, b, numero_puntos_particion)\n",
    "f = np.sin(x)\n",
    "\n",
    "suma_riemann1 = h * sum(f[: numero_subintervalos])\n",
    "suma_riemann1"
   ]
  },
  {
   "cell_type": "markdown",
   "metadata": {},
   "source": [
    "Observa que el valor obtenido es próximo al valor de la integral (2)."
   ]
  },
  {
   "cell_type": "markdown",
   "metadata": {},
   "source": [
    "## Integración con SymPy"
   ]
  },
  {
   "cell_type": "markdown",
   "metadata": {},
   "source": [
    "SymPy dispone de métodos que nos permiten calcular las integrales tal \n",
    "y como lo haríamos sin utilizar técnicas de tipo numérico."
   ]
  },
  {
   "cell_type": "markdown",
   "metadata": {},
   "source": [
    "Para ello necesitamos definir la variable. También definiremos la función\n",
    "$f(x)$ para poder trabajar con ella de forma simbólica."
   ]
  },
  {
   "cell_type": "code",
   "execution_count": null,
   "metadata": {},
   "outputs": [],
   "source": [
    "x = sy.symbols('x')\n",
    "f = sy.symbols('f', cls = sy.Function)"
   ]
  },
  {
   "cell_type": "markdown",
   "metadata": {},
   "source": [
    "El comando para integrar es sy.integrate(f(x), (x, a, b)). Veamos unos ejemplos."
   ]
  },
  {
   "cell_type": "code",
   "execution_count": null,
   "metadata": {},
   "outputs": [],
   "source": [
    "sy.integrate(sy.sin(x), x)"
   ]
  },
  {
   "cell_type": "code",
   "execution_count": null,
   "metadata": {},
   "outputs": [],
   "source": [
    "sy.integrate(sy.sin(x),(x, 0, sy.pi))"
   ]
  },
  {
   "cell_type": "markdown",
   "metadata": {},
   "source": [
    "Realiza las siguientes integrales utilizando sy.integrate.\n",
    "\n",
    "a) $\\int_{-1}^1 (x^3+1)\\,dx$\n",
    "\n",
    "b) $\\int_0^3\\sqrt{x+1}\\,dx$\n",
    "\n",
    "c) $\\int_{-1}^1 \\cos(1+\\pi)\\,dx$"
   ]
  },
  {
   "cell_type": "code",
   "execution_count": null,
   "metadata": {},
   "outputs": [],
   "source": [
    "##Escribe aquí el código"
   ]
  },
  {
   "cell_type": "markdown",
   "metadata": {},
   "source": [
    "¿Qué sucede con la siguiente integral? \n",
    "$$erf(x)=\\frac{2}{\\sqrt{\\pi}}\\int_0^x e^{-t^2}\\,dt \\,$$"
   ]
  },
  {
   "cell_type": "markdown",
   "metadata": {},
   "source": [
    "Ejecuta los siguientes comandos. ¿Qué ocurre?"
   ]
  },
  {
   "cell_type": "code",
   "execution_count": null,
   "metadata": {},
   "outputs": [],
   "source": [
    "t = sy.symbols('t')\n",
    "2/sy.sqrt(sy.pi)*sy.integrate(sy.exp(-t**2), (t, 0, x))"
   ]
  },
  {
   "cell_type": "markdown",
   "metadata": {},
   "source": [
    "En estos casos en los que no tenemos una primitva de la función podemos calcular\n",
    "de forma aproximada la integral."
   ]
  },
  {
   "cell_type": "markdown",
   "metadata": {},
   "source": [
    "## Integración numérica"
   ]
  },
  {
   "cell_type": "markdown",
   "metadata": {},
   "source": [
    "Disponemos de diferentes métodos numéricos que nos permiten el cálculo de \n",
    "integrales utilizando el ordenador. En este caso utilizaremos la regla del \n",
    "trapecio y el método de Simpson."
   ]
  },
  {
   "cell_type": "markdown",
   "metadata": {},
   "source": [
    "### La regla del trapecio"
   ]
  },
  {
   "cell_type": "markdown",
   "metadata": {},
   "source": [
    "Como su propio nombre indica se obtiene sumando las áreas de los trapecios\n",
    "que obtenemos cuando una vez fijada una partición $\\mathcal{P}=\\{a=x_0, x_1,\n",
    "\\ldots, x_n=b\\}$, unimos los puntos $\\{f(a), f(x_1), \\ldots, f(x_n)=f(b)\\}$. \n",
    "Ahora el área del trapecio formado por los puntos $\\{f(x_i), x_i, x_{i+1}, \n",
    "f(x_{i+1})\\}$ viene dada por\n",
    "$$\\frac{(f(x_i)+f(x_{i+1}))}{2}\\cdot (x_{i+1} - x_i),$$\n",
    "para $i=0,\\ldots, n-1$. Considerando la partición en la que el paso es \n",
    "constante, es decir, $x_i= x_0+ i \\cdot h$ para $i=1,\\ldots, n$.\n",
    "De esta forma la aproximación del valor de la integral\n",
    "utilizando la regla del trapecio viene dada por:\n",
    "\n",
    "$$\\int_a^b f(x)\\,dx\\approx \\frac{h}{2}\\left(f(a)+2 \\sum_{i=1}^{n-1} f(x_i)+f(b)\n",
    "\\right),$$\n",
    "siendo $h=\\frac{b-a}{n}$."
   ]
  },
  {
   "cell_type": "markdown",
   "metadata": {},
   "source": [
    "Veamos un ejemplo de aplicación de la regla del trapecio. Calcularemos\n",
    "utilizando dicha fórmula un valor aproximado de la integral $\\int_0^1 x^2\\,dx$."
   ]
  },
  {
   "cell_type": "code",
   "execution_count": null,
   "metadata": {},
   "outputs": [],
   "source": [
    "a = 0\n",
    "b = 1\n",
    "numero_puntos = 10\n",
    "numero_subintervalos= numero_puntos - 1\n",
    "h = (b - a)/numero_subintervalos\n",
    "x = np.linspace(a, b, numero_puntos)\n",
    "f = x**2\n",
    "I_trapecio = h/2*(f[0] + 2 * sum(f[1:numero_subintervalos])+ \n",
    "f[numero_subintervalos])\n",
    "I_trapecio"
   ]
  },
  {
   "cell_type": "markdown",
   "metadata": {},
   "source": [
    "Modifica el número de puntos de la expresión anterior y observa cómo cambia el \n",
    "valor, aproximándose al valor real de la integral."
   ]
  },
  {
   "cell_type": "markdown",
   "metadata": {},
   "source": [
    "Podemos definir una función que aplique la regla del trapecio al intervalo y la\n",
    "función seleccionadas."
   ]
  },
  {
   "cell_type": "code",
   "execution_count": null,
   "metadata": {},
   "outputs": [],
   "source": [
    "def regla_trapecio(f, a, b, n):\n",
    "    '''Estimación del valor de la integral en el intervalo [a,b] utilizando\n",
    "    una partición con n puntos'''\n",
    "    numero_puntos = int(n)\n",
    "    numero_subintervalos = numero_puntos - 1\n",
    "    h = (b - a)/numero_subintervalos\n",
    "    x = np.linspace(a, b, numero_puntos)\n",
    "    y = f(x)\n",
    "    print(f'''El valor de la integral es {h/2*(y[0] + \n",
    "    2 * sum(y[1:numero_subintervalos])+ \n",
    "    y[numero_subintervalos])}''')"
   ]
  },
  {
   "cell_type": "code",
   "execution_count": null,
   "metadata": {},
   "outputs": [],
   "source": [
    "def parabola(x):\n",
    "    return(x**2)\n",
    "regla_trapecio(parabola, 0, 1, 10)"
   ]
  },
  {
   "cell_type": "markdown",
   "metadata": {},
   "source": [
    "Ejercicio propuesto. Utiliza la regla del trapecio para dar una aproximación de \n",
    "$erf(1)$."
   ]
  },
  {
   "cell_type": "code",
   "execution_count": null,
   "metadata": {},
   "outputs": [],
   "source": [
    "#### Introduce aquí el código"
   ]
  },
  {
   "cell_type": "markdown",
   "metadata": {},
   "source": [
    "Observación: El valor \"real\" viene dado por:"
   ]
  },
  {
   "cell_type": "code",
   "execution_count": null,
   "metadata": {},
   "outputs": [],
   "source": [
    "sy.N(sy.erf(1))*np.sqrt(np.pi)/2"
   ]
  },
  {
   "cell_type": "markdown",
   "metadata": {},
   "source": [
    "Ejercicio propuesto. Utilizando la regla del trapecio calcula una estimación, \n",
    "$E_T$, de la integral $\\int_0^2 x^3+x \\,dx$ utilizando una partición de\n",
    "6 puntos. Calcula el valor de la integral real $E$ y utiliza la fórmula\n",
    "$$ \\frac{|E_T|}{E}\\cdot 100,$$\n",
    "para expresar el valor obtenido utilizando la regla del trapecio como un \n",
    "porcentaje del valor verdadero de la integral."
   ]
  },
  {
   "cell_type": "markdown",
   "metadata": {},
   "source": [
    "Veamos a continuación la regla o método de Simpson."
   ]
  },
  {
   "cell_type": "code",
   "execution_count": null,
   "metadata": {},
   "outputs": [],
   "source": [
    "def funcion1(x):\n",
    "    return(x**3+x)\n",
    "\n",
    "regla_trapecio(funcion1,0,2,6)"
   ]
  },
  {
   "cell_type": "markdown",
   "metadata": {},
   "source": [
    "### La regla de Simpson"
   ]
  },
  {
   "cell_type": "markdown",
   "metadata": {},
   "source": [
    "La regla de Simpson sigue una idea similar al anterior método, salvo que en este\n",
    "caso se utilizan parábolas en lugar de trapecios. La fórmula viene dada por\n",
    "\n",
    "$$\\int_a ^b f(x)\\,dx\\approx \\frac{h}{3}\\left(f(a)+4\\cdot \\sum_{ i\\text{ impar}\n",
    "\\, \n",
    "i\\neq 0,n}\n",
    "f(x_{i})+2\\cdot \\sum_{i \\text{ par}\\,i\\neq 0,n} f(x_i) + f(b)\\right),$$\n",
    "siendo $h=\\frac{b-a}{n}$.\n",
    "Importante: El número de subintervalos debe ser par."
   ]
  },
  {
   "cell_type": "markdown",
   "metadata": {},
   "source": [
    "Ejercicio propuesto. Utilizando la regla de Simpson calcula una estimación, \n",
    "$E_S$, de la integral $\\int_0^2 x^3+x \\,dx$ utilizando una partición de\n",
    "6 puntos. Calcula el valor de la integral real $E$ y utiliza la fórmula\n",
    "$$ \\frac{|E_S|}{E}\\cdot 100,$$\n",
    "para expresar el valor obtenido utilizando la regla del trapecio como un \n",
    "porcentaje del valor verdadero de la integral."
   ]
  },
  {
   "cell_type": "code",
   "execution_count": null,
   "metadata": {},
   "outputs": [],
   "source": [
    "a = 0\n",
    "b = 2\n",
    "i = sy.symbols('i')\n",
    "numero_puntos = 7\n",
    "int(numero_puntos)\n",
    "tope2 = int((numero_puntos - 1)/2)\n",
    "numero_subintervalos = numero_puntos - 1\n",
    "h = (b - a)/numero_subintervalos\n",
    "x = np.linspace(a, b, numero_puntos)\n",
    "f = x**3 + x\n",
    "E_S = h/3 * (f[0] + 4*sum([f[2*i + 1] for i in range(0, tope2)]) \n",
    "+ 2*sum([f[2* i] for i in range(1, tope2 )]) + f[numero_puntos-1])\n",
    "E_S\n",
    "\n"
   ]
  },
  {
   "cell_type": "code",
   "execution_count": null,
   "metadata": {},
   "outputs": [],
   "source": [
    "(f[0]+4*(f[1]+f[3]+f[5])+2*(f[2]+f[4])+f[6])*2/18"
   ]
  },
  {
   "cell_type": "code",
   "execution_count": null,
   "metadata": {},
   "outputs": [],
   "source": [
    "tope2"
   ]
  },
  {
   "cell_type": "code",
   "execution_count": null,
   "metadata": {},
   "outputs": [],
   "source": [
    "x = sy.symbols('x')\n",
    "sy.integrate(x**3 + x, (x, 0, 2))"
   ]
  },
  {
   "cell_type": "code",
   "execution_count": null,
   "metadata": {},
   "outputs": [],
   "source": [
    "E_S/6*100"
   ]
  },
  {
   "cell_type": "markdown",
   "metadata": {},
   "source": [
    "Ejercicio propuesto. Calcule erf(1) utilizando la regla de Simpson con 10 \n",
    "puntos. Modifica el número de puntos para mejorar el resultado."
   ]
  },
  {
   "cell_type": "code",
   "execution_count": null,
   "metadata": {},
   "outputs": [],
   "source": [
    "a = 0\n",
    "b = 1\n",
    "i = sy.symbols('i')\n",
    "numero_puntos = 11\n",
    "int(numero_puntos)\n",
    "tope2 = int((numero_puntos - 1)/2)\n",
    "numero_subintervalos = numero_puntos - 1\n",
    "h = (b - a)/numero_subintervalos\n",
    "x = np.linspace(a, b, numero_puntos)\n",
    "f = np.exp(-x**2)\n",
    "E_S = h/3 * (f[0] + 4*sum([f[2*i + 1] for i in range(0, tope2)]) \n",
    "+ 2*sum([f[2* i] for i in range(1,tope2 )]) + f[numero_puntos-1])\n",
    "E_S\n",
    "\n"
   ]
  },
  {
   "cell_type": "code",
   "execution_count": null,
   "metadata": {},
   "outputs": [],
   "source": [
    "sy.N(sy.erf(1))*np.sqrt(np.pi)/2"
   ]
  },
  {
   "cell_type": "markdown",
   "metadata": {},
   "source": [
    "## Módulos de Scipy: trapezoid y simpson"
   ]
  },
  {
   "cell_type": "markdown",
   "metadata": {},
   "source": [
    "Otra forma es utilizar directamente de scipy los módulos trapezoid y simpson."
   ]
  },
  {
   "cell_type": "code",
   "execution_count": null,
   "metadata": {},
   "outputs": [],
   "source": [
    "from scipy.integrate import trapezoid\n",
    "from scipy.integrate import simpson"
   ]
  },
  {
   "cell_type": "code",
   "execution_count": null,
   "metadata": {},
   "outputs": [],
   "source": [
    "a = 0\n",
    "b = 2\n",
    "numero_puntos = 7\n",
    "int(numero_puntos)\n",
    "tope1 = int(numero_puntos/2 - 1)\n",
    "tope2 = int(numero_puntos/2)\n",
    "numero_subintervalos = numero_puntos - 1\n",
    "h = (b - a)/numero_subintervalos\n",
    "x = np.linspace(a, b, numero_puntos)\n",
    "f = x**3 + x\n",
    "I_trap2 = trapezoid(f, x)\n",
    "I_trap2"
   ]
  },
  {
   "cell_type": "code",
   "execution_count": null,
   "metadata": {},
   "outputs": [],
   "source": [
    "I_sim2 = simpson(f, x)\n",
    "I_sim2"
   ]
  }
 ],
 "metadata": {
  "kernelspec": {
   "display_name": "Python 3.10.2 ('calculo')",
   "language": "python",
   "name": "python3"
  },
  "language_info": {
   "codemirror_mode": {
    "name": "ipython",
    "version": 3
   },
   "file_extension": ".py",
   "mimetype": "text/x-python",
   "name": "python",
   "nbconvert_exporter": "python",
   "pygments_lexer": "ipython3",
   "version": "3.10.2"
  },
  "orig_nbformat": 4,
  "vscode": {
   "interpreter": {
    "hash": "fc96ec205bec48f88b52f8bd46772bd2aaa6abe4ceea8d37eaad617ee1b10e61"
   }
  }
 },
 "nbformat": 4,
 "nbformat_minor": 2
}
