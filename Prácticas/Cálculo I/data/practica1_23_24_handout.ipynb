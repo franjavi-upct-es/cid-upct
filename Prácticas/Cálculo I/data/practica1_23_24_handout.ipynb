{
 "cells": [
  {
   "cell_type": "code",
   "execution_count": null,
   "metadata": {},
   "outputs": [],
   "source": [
    "from IPython import display\n",
    "display.Image(filename='../figures/logo1.png')"
   ]
  },
  {
   "cell_type": "markdown",
   "metadata": {},
   "source": [
    "# Práctica 1"
   ]
  },
  {
   "cell_type": "markdown",
   "metadata": {},
   "source": [
    "### Descripción: En esta práctica realizaremos cálculos básicos con Python.\n",
    "### Bibliografía: Python Programming and numerical methods. \"A guide for engineers and scientists\". Q. Kong, T. Siauw, A. M. Bayen. Academic Press. Elsevier."
   ]
  },
  {
   "cell_type": "code",
   "execution_count": null,
   "metadata": {},
   "outputs": [],
   "source": [
    "# En primer lugar cargamos los paquetes habituales\n",
    "import numpy as np\n",
    "from os import path\n",
    "import math\n",
    "import sympy as sy"
   ]
  },
  {
   "cell_type": "markdown",
   "metadata": {},
   "source": [
    "### Python como una calculadora "
   ]
  },
  {
   "cell_type": "code",
   "execution_count": null,
   "metadata": {},
   "outputs": [],
   "source": [
    "12/5"
   ]
  },
  {
   "cell_type": "code",
   "execution_count": null,
   "metadata": {},
   "outputs": [],
   "source": [
    "12//5"
   ]
  },
  {
   "cell_type": "code",
   "execution_count": null,
   "metadata": {},
   "outputs": [],
   "source": [
    "12+5"
   ]
  },
  {
   "cell_type": "code",
   "execution_count": null,
   "metadata": {},
   "outputs": [],
   "source": [
    "12%5"
   ]
  },
  {
   "cell_type": "code",
   "execution_count": null,
   "metadata": {},
   "outputs": [],
   "source": [
    "12%4"
   ]
  },
  {
   "cell_type": "code",
   "execution_count": null,
   "metadata": {},
   "outputs": [],
   "source": [
    "2**3"
   ]
  },
  {
   "cell_type": "code",
   "execution_count": null,
   "metadata": {},
   "outputs": [],
   "source": [
    "_**2"
   ]
  },
  {
   "cell_type": "markdown",
   "metadata": {},
   "source": [
    "### Con el módulo math podemos utilizar las funciones habituales: sin, cos, tan, asin, atan, exp, log, log10 y sqrt almacenadas. La sintaxis es math.function()"
   ]
  },
  {
   "cell_type": "code",
   "execution_count": null,
   "metadata": {},
   "outputs": [],
   "source": [
    "math.sqrt(4)"
   ]
  },
  {
   "cell_type": "code",
   "execution_count": null,
   "metadata": {},
   "outputs": [],
   "source": [
    "math.cos(math.pi)"
   ]
  },
  {
   "cell_type": "code",
   "execution_count": null,
   "metadata": {},
   "outputs": [],
   "source": [
    "math.pi"
   ]
  },
  {
   "cell_type": "markdown",
   "metadata": {},
   "source": [
    "### Escribe math en una celda de python.  Observa que aparecen un listado de funciones que directamente podemos pinchar para poder utlizar en nuestro cuaderno."
   ]
  },
  {
   "cell_type": "code",
   "execution_count": null,
   "metadata": {},
   "outputs": [],
   "source": [
    "1/math.inf"
   ]
  },
  {
   "cell_type": "code",
   "execution_count": null,
   "metadata": {},
   "outputs": [],
   "source": [
    "# Observa como también podemos trabajar con el infinito.\n",
    "math.inf*2"
   ]
  },
  {
   "cell_type": "code",
   "execution_count": null,
   "metadata": {},
   "outputs": [],
   "source": [
    "math.inf/math.inf"
   ]
  },
  {
   "cell_type": "markdown",
   "metadata": {},
   "source": [
    "###  La unidad imaginaria i viene representada en Python por j "
   ]
  },
  {
   "cell_type": "code",
   "execution_count": null,
   "metadata": {},
   "outputs": [],
   "source": [
    "complex(2, 3)"
   ]
  },
  {
   "cell_type": "code",
   "execution_count": null,
   "metadata": {},
   "outputs": [],
   "source": [
    "(2 + 3j)**2"
   ]
  },
  {
   "cell_type": "markdown",
   "metadata": {},
   "source": [
    "En general, podemos trabajar no sólo con aritmética sino también con operadores lógicos. Ejecuta la siguiente celda."
   ]
  },
  {
   "cell_type": "code",
   "execution_count": null,
   "metadata": {},
   "outputs": [],
   "source": [
    "(1+3)>(2+5)"
   ]
  },
  {
   "cell_type": "markdown",
   "metadata": {},
   "source": [
    "### Realiza los siguientes ejercicios"
   ]
  },
  {
   "cell_type": "markdown",
   "metadata": {},
   "source": [
    "Calcula el área del triángulo de base 10 y altura 12."
   ]
  },
  {
   "cell_type": "code",
   "execution_count": null,
   "metadata": {},
   "outputs": [],
   "source": [
    "## Introduce el comando aquí"
   ]
  },
  {
   "cell_type": "markdown",
   "metadata": {},
   "source": [
    "Calcula la distancia entre los puntos (3,4) y (5,9)"
   ]
  },
  {
   "cell_type": "code",
   "execution_count": null,
   "metadata": {},
   "outputs": [],
   "source": [
    "## Introduce el comando aquí"
   ]
  },
  {
   "attachments": {},
   "cell_type": "markdown",
   "metadata": {},
   "source": [
    "Calcula el coseno de 87 grados. Observa que la función coseno está definida para un ángulo en radianes. Utiliza math.degrees() para pasar de radianes a grados y math.radians() para pasar de grados a radianes"
   ]
  },
  {
   "cell_type": "code",
   "execution_count": null,
   "metadata": {},
   "outputs": [],
   "source": [
    "math.cos(math.radians(87))"
   ]
  },
  {
   "cell_type": "code",
   "execution_count": null,
   "metadata": {},
   "outputs": [],
   "source": [
    "## Introduce el comando aquí"
   ]
  },
  {
   "cell_type": "markdown",
   "metadata": {},
   "source": [
    "Realiza el siguiente cálculo con Python: $e^2 \\sin\\left(\\frac{\\pi}{6}\\right)+ \\log(3) \\cos\\left(\\frac{\\pi}{9}\\right)- 5^3$."
   ]
  },
  {
   "cell_type": "code",
   "execution_count": null,
   "metadata": {},
   "outputs": [],
   "source": [
    "## Introduce el comando aquí"
   ]
  },
  {
   "attachments": {},
   "cell_type": "markdown",
   "metadata": {},
   "source": [
    "Otras funciones interesantes con las que hemos trabajado son: np.max() que calcula el máximo de una lista np.min() que calcula el mínimo."
   ]
  },
  {
   "cell_type": "code",
   "execution_count": null,
   "metadata": {},
   "outputs": [],
   "source": [
    "lista1 = [1, 5, 43, 98]"
   ]
  },
  {
   "cell_type": "code",
   "execution_count": null,
   "metadata": {},
   "outputs": [],
   "source": [
    "np.max(lista1)"
   ]
  },
  {
   "cell_type": "code",
   "execution_count": null,
   "metadata": {},
   "outputs": [],
   "source": [
    "np.min(lista1)"
   ]
  },
  {
   "attachments": {},
   "cell_type": "markdown",
   "metadata": {},
   "source": [
    "La parte entera de un número real viene dada con los métodos np.trunc o math.trunc"
   ]
  },
  {
   "cell_type": "code",
   "execution_count": null,
   "metadata": {},
   "outputs": [],
   "source": [
    "math.trunc(1.45378)"
   ]
  },
  {
   "cell_type": "code",
   "execution_count": null,
   "metadata": {},
   "outputs": [],
   "source": [
    "math.trunc(-0.58)"
   ]
  },
  {
   "cell_type": "code",
   "execution_count": null,
   "metadata": {},
   "outputs": [],
   "source": [
    "math.trunc(-math.pi)"
   ]
  },
  {
   "cell_type": "code",
   "execution_count": null,
   "metadata": {},
   "outputs": [],
   "source": [
    "np.trunc(np.e)"
   ]
  },
  {
   "cell_type": "markdown",
   "metadata": {},
   "source": [
    "## Funciones"
   ]
  },
  {
   "cell_type": "markdown",
   "metadata": {},
   "source": [
    "Podemos utilizar funciones que ya están definidas en Python (en el módulo math o con SymPy que veremos próximamente) o bien construir nuestras propias funciones. Para ello observa el formato para hacerlo, teniendo en cuenta la indentación.\n",
    "\n",
    "def function_name(parameter_1, parameter_2,..):\n",
    "    '''Descripción de la función'''\n",
    "     function_statements\n",
    "     return output_parameters (optional)\n",
    "\n",
    "Veamos un ejemplo     "
   ]
  },
  {
   "cell_type": "code",
   "execution_count": null,
   "metadata": {},
   "outputs": [],
   "source": [
    "def suma_de_tres_numeros(a, b, c):\n",
    "    '''Esta función suma a, b y c'''\n",
    "    out = a + b + c\n",
    "    print(f'La suma es igual a {out}')   "
   ]
  },
  {
   "cell_type": "code",
   "execution_count": null,
   "metadata": {},
   "outputs": [],
   "source": [
    "suma_de_tres_numeros(3,5,43)"
   ]
  },
  {
   "cell_type": "markdown",
   "metadata": {},
   "source": [
    "Se puede cambiar el diseño de la función para optimizar el número de operaciones, en concreto en este caso podemos evitar una asignación, la de out."
   ]
  },
  {
   "cell_type": "code",
   "execution_count": null,
   "metadata": {},
   "outputs": [],
   "source": [
    "def suma_de_tres_numeros(a, b, c):\n",
    "    '''Esta función suma a, b y c'''\n",
    "    print(f'La suma es igual a {a+b+c}')   \n",
    "\n",
    "suma_de_tres_numeros(3,5,43)"
   ]
  },
  {
   "cell_type": "markdown",
   "metadata": {},
   "source": [
    "También podemos asignar valores por defecto a las variables para el caso en el que dichos valores no estén especificados."
   ]
  },
  {
   "cell_type": "code",
   "execution_count": null,
   "metadata": {},
   "outputs": [],
   "source": [
    "def suma_de_tres_numeros(a, b, c=2):\n",
    "    '''Esta función suma a, b y c'''\n",
    "    print(f'La suma es igual a {a+b+c}')   \n",
    "\n",
    "suma_de_tres_numeros(3, 5)"
   ]
  },
  {
   "cell_type": "code",
   "execution_count": null,
   "metadata": {},
   "outputs": [],
   "source": [
    "suma_de_tres_numeros(3, 5, 43)"
   ]
  },
  {
   "cell_type": "code",
   "execution_count": null,
   "metadata": {},
   "outputs": [],
   "source": [
    "# Observa además la forma que tenemos para obtener la información\n",
    "help(suma_de_tres_numeros)"
   ]
  },
  {
   "cell_type": "markdown",
   "metadata": {},
   "source": [
    "Otra forma de definir la función es utlizando \"lambda\""
   ]
  },
  {
   "cell_type": "code",
   "execution_count": null,
   "metadata": {},
   "outputs": [],
   "source": [
    "suma_de_tres_numeros = lambda a, b, c: a + b + c\n",
    "suma_de_tres_numeros(3, 5, 43)"
   ]
  },
  {
   "cell_type": "markdown",
   "metadata": {},
   "source": [
    "Define la función seno hiperbólico con el nombre my_sinh y calcule my_sinh(0) y my_sinh(1)."
   ]
  },
  {
   "cell_type": "code",
   "execution_count": null,
   "metadata": {},
   "outputs": [],
   "source": [
    "## Introduce el código"
   ]
  },
  {
   "cell_type": "code",
   "execution_count": null,
   "metadata": {},
   "outputs": [],
   "source": [
    "## Introduce el código"
   ]
  },
  {
   "cell_type": "code",
   "execution_count": null,
   "metadata": {},
   "outputs": [],
   "source": [
    "## Introduce el código"
   ]
  },
  {
   "cell_type": "markdown",
   "metadata": {},
   "source": [
    "Define una función my_checker_board con variable $n$ tal que la salida sea una matriz de tamaño $n\\times n$ de la forma\n",
    "$$\\left(\\begin{array}{ccccc}\n",
    "1 & 0 & 1 & 0 & 1\\\\\n",
    "0 & 1 & 0 & 1 & 0\\\\\n",
    "1 & 0 & 1 & 0 & 1\\\\\n",
    "0 & 1 & 0 & 1 & 0\\\\\n",
    "1 & 0 & 1 & 0 & 1\n",
    "\\end{array}\\right)$$\n",
    "Recuerda que puedes utilizar np.array para las matrices y np.zeros([m,n]) para crear una matriz nula de tamaño $m\\times n$ \n"
   ]
  },
  {
   "cell_type": "code",
   "execution_count": null,
   "metadata": {},
   "outputs": [],
   "source": [
    "salida = np.array([[1, 0, 1, 0, 1],[0, 1, 0, 1, 0],[1, 0, 1, 0, 1],[0, 1, 0, 1, 0],[1, 0, 1, 0, 1]])\n",
    "print(salida)"
   ]
  },
  {
   "cell_type": "code",
   "execution_count": null,
   "metadata": {},
   "outputs": [],
   "source": [
    "## Introduce el código"
   ]
  },
  {
   "cell_type": "markdown",
   "metadata": {},
   "source": [
    "Define una función que calcule la superficie de un cilindro de radio $r$ y altura $h$. Aplica la definición a $r=2$, $h=4$."
   ]
  },
  {
   "cell_type": "code",
   "execution_count": null,
   "metadata": {},
   "outputs": [],
   "source": [
    "# Introduce el código"
   ]
  },
  {
   "cell_type": "markdown",
   "metadata": {},
   "source": [
    "## If-else"
   ]
  },
  {
   "cell_type": "markdown",
   "metadata": {},
   "source": [
    "Observa el funcionamiento del siguiente código"
   ]
  },
  {
   "cell_type": "code",
   "execution_count": null,
   "metadata": {},
   "outputs": [],
   "source": [
    "def temperatura(temp):\n",
    "    if 15 <= temp < 28:\n",
    "        print('Good')\n",
    "    elif temp >= 28:\n",
    "        print('Heat')\n",
    "    else:\n",
    "        print('Cold')"
   ]
  },
  {
   "cell_type": "code",
   "execution_count": null,
   "metadata": {},
   "outputs": [],
   "source": [
    "temperatura(30)"
   ]
  },
  {
   "cell_type": "code",
   "execution_count": null,
   "metadata": {},
   "outputs": [],
   "source": [
    "temperatura(1)"
   ]
  },
  {
   "cell_type": "code",
   "execution_count": null,
   "metadata": {},
   "outputs": [],
   "source": [
    "temperatura(20)"
   ]
  },
  {
   "cell_type": "markdown",
   "metadata": {},
   "source": [
    "Sea $p(x)= ax^2+b x+c$ el polinomio con coeficientes reales $a$, $b$ y $c$. Defina una función que calcule el número de raíces reales."
   ]
  },
  {
   "cell_type": "code",
   "execution_count": null,
   "metadata": {},
   "outputs": [],
   "source": [
    "# Escriba aquí el código"
   ]
  },
  {
   "cell_type": "markdown",
   "metadata": {},
   "source": [
    "Veamos otro ejemplo con la sucesión de Fibonacci, $\\{1,1,2,3,5,8,\\ldots, a_{n-1}+a_{n-2},\\ldots,\\}$"
   ]
  },
  {
   "cell_type": "code",
   "execution_count": null,
   "metadata": {},
   "outputs": [],
   "source": [
    "def fibonacci(n):\n",
    "    '''Calcula el n-ésimo término de la sucesión de Fibonacci'''\n",
    "    int(n)\n",
    "    x = [1, 1]\n",
    "    if n == 1:\n",
    "        return(1)\n",
    "    elif n == 2:\n",
    "        return(1)\n",
    "    else:\n",
    "        for i in range(2, n):\n",
    "            x.append(x[i-1] + x[i-2])\n",
    "        return(x[n-1])\n",
    "        \n",
    "    "
   ]
  },
  {
   "cell_type": "code",
   "execution_count": null,
   "metadata": {},
   "outputs": [],
   "source": [
    "fibonacci(6)"
   ]
  },
  {
   "cell_type": "markdown",
   "metadata": {},
   "source": [
    "Utiliza la definición anterior para escribir los 50 primeros términos de la sucesión de Fibonacci "
   ]
  },
  {
   "cell_type": "code",
   "execution_count": null,
   "metadata": {},
   "outputs": [],
   "source": [
    "#Escribe aquí el código"
   ]
  },
  {
   "cell_type": "code",
   "execution_count": null,
   "metadata": {},
   "outputs": [],
   "source": [
    "for i in range(51):\n",
    "    print(fibonacci(i), end = ' ')"
   ]
  },
  {
   "cell_type": "markdown",
   "metadata": {},
   "source": [
    "La razón aúrea, $\\phi$, es el límite de la sucesión obtenida como $\\lim_{n\\rightarrow \\infty}\\frac{fibonacci(n+1)}{fibonacci(n)}$. Recuerda  $\\phi=\\frac{1+\\sqrt{5}}{2}\\approx 1.62$. Calcula los 20 primeros términos de la sucesión $\\left(\\frac{fibonacci(n+1)}{fibonacci(n)}\\right)_n$."
   ]
  },
  {
   "cell_type": "code",
   "execution_count": null,
   "metadata": {},
   "outputs": [],
   "source": [
    "## Escribe aquí el código"
   ]
  },
  {
   "cell_type": "code",
   "execution_count": null,
   "metadata": {},
   "outputs": [],
   "source": [
    "for i in range(20):\n",
    "    print(fibonacci(i+1)/fibonacci(i), end = ' ')"
   ]
  },
  {
   "cell_type": "markdown",
   "metadata": {},
   "source": [
    "La siguiente sucesión tiene como límite la razón aúrea. \n",
    "\n",
    "$$a_1=1$$\n",
    "$$a_2=1+\\frac{1}{a_1}=2$$\n",
    "$$a_3=1+\\frac{1}{a_2}=1+\\frac{1}{1+\\frac{1}{a_1}}=1+\\frac{1}{2}=\\frac{3}{2}$$\n",
    "$$a_n=1+\\frac{1}{a_{n-1}}=1+\\frac{1}{1+\\frac{1}{1+\\cdots}}$$\n",
    "\n",
    "Defina una función que represente el $n$-ésimo término y escriba los 20 primeros términos.\n"
   ]
  },
  {
   "cell_type": "code",
   "execution_count": null,
   "metadata": {},
   "outputs": [],
   "source": [
    "def recursiva1(n):\n",
    "    int(n)\n",
    "    x = [1]\n",
    "    if n == 1:\n",
    "        return(1)\n",
    "    else:\n",
    "        for i in range(0, n):\n",
    "            x.append(1+1/x[i])\n",
    "        return(x[n])"
   ]
  },
  {
   "cell_type": "code",
   "execution_count": null,
   "metadata": {},
   "outputs": [],
   "source": [
    "recursiva1(30)"
   ]
  },
  {
   "attachments": {},
   "cell_type": "markdown",
   "metadata": {},
   "source": [
    "Haremos en la próxima práctica una representación gráfica de los puntos obtenidos."
   ]
  },
  {
   "attachments": {},
   "cell_type": "markdown",
   "metadata": {},
   "source": [
    "Siguiendo con los ejemplos vamos a definir una función que nos permita averiguar si un número natura es o no primo."
   ]
  },
  {
   "cell_type": "code",
   "execution_count": null,
   "metadata": {},
   "outputs": [],
   "source": [
    "def is_prime(n):\n",
    "    int(n)\n",
    "    if (n == 1):\n",
    "       resultado = False\n",
    "    elif (n == 2):\n",
    "        resultado = True\n",
    "    elif (n % 2 == 0):\n",
    "        resultado = False\n",
    "    else:\n",
    "        resultado = True\n",
    "        tope = n//2\n",
    "        for i in range(3, tope,1):\n",
    "            if (n % i) == 0:\n",
    "                resultado = False\n",
    "                break\n",
    "    return(resultado)"
   ]
  },
  {
   "cell_type": "code",
   "execution_count": null,
   "metadata": {},
   "outputs": [],
   "source": [
    "is_prime(50)"
   ]
  },
  {
   "cell_type": "code",
   "execution_count": null,
   "metadata": {},
   "outputs": [],
   "source": [
    "is_prime(3)"
   ]
  },
  {
   "attachments": {},
   "cell_type": "markdown",
   "metadata": {},
   "source": [
    "Escribe los números primos menores que 50."
   ]
  },
  {
   "cell_type": "code",
   "execution_count": null,
   "metadata": {},
   "outputs": [],
   "source": [
    "## Escribe aquí el código"
   ]
  },
  {
   "attachments": {},
   "cell_type": "markdown",
   "metadata": {},
   "source": [
    "## Desigualdades"
   ]
  },
  {
   "attachments": {},
   "cell_type": "markdown",
   "metadata": {},
   "source": [
    "Python también permite el cálculo de desigualdades. Para ello utilizaremos el paquete Sympy que hemos cargado al inicio de la práctica."
   ]
  },
  {
   "attachments": {},
   "cell_type": "markdown",
   "metadata": {},
   "source": [
    "Por ejemplo si queremos resolver la desigualdad $|x^2-5|>4$. Lo primero que debemos hacer es indicar que $x$ es una variable real."
   ]
  },
  {
   "cell_type": "code",
   "execution_count": null,
   "metadata": {},
   "outputs": [],
   "source": [
    "x = sy.Symbol('x', real = True)"
   ]
  },
  {
   "cell_type": "code",
   "execution_count": null,
   "metadata": {},
   "outputs": [],
   "source": [
    "sy.reduce_abs_inequality(sy.Abs(x**2 - 5) - 4 , '>',x)"
   ]
  },
  {
   "attachments": {},
   "cell_type": "markdown",
   "metadata": {},
   "source": [
    "Las soluciones vienen dadas por $(-1,1)\\cup(-\\infty,-3)\\cup(3,+\\infty)$."
   ]
  }
 ],
 "metadata": {
  "interpreter": {
   "hash": "2fff91a9b27563514526cd5f37b95c22d06c7c6b7488fc040d372ab279848d3c"
  },
  "kernelspec": {
   "display_name": "Python 3.10.2 ('calculo')",
   "language": "python",
   "name": "python3"
  },
  "language_info": {
   "codemirror_mode": {
    "name": "ipython",
    "version": 3
   },
   "file_extension": ".py",
   "mimetype": "text/x-python",
   "name": "python",
   "nbconvert_exporter": "python",
   "pygments_lexer": "ipython3",
   "version": "3.11.2"
  },
  "orig_nbformat": 4
 },
 "nbformat": 4,
 "nbformat_minor": 2
}
