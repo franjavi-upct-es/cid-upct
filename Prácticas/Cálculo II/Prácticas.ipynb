{
 "cells": [
  {
   "cell_type": "code",
   "execution_count": 46,
   "metadata": {},
   "outputs": [],
   "source": [
    "from sympy import *"
   ]
  },
  {
   "cell_type": "markdown",
   "metadata": {},
   "source": [
    "**Actividad 50.** Simplificar las siguientes expresiones utilizando las sentencias apropiadas.\n",
    "1. $(x+1)^3-x^3-3x$.\n",
    "2. $\\sin(2x)^2-2\\cos(x)^2\\sin(x)^2+\\sin(x)^2$.\n",
    "3. $(x+2)^4-(x-2)^4-1$.\n",
    "4. $\\dfrac{2x^3-6x^2+2x-6}{2x^3-4x^2+2x-4}$.\n",
    "5. $\\dfrac{\\cos(2x)-2\\cos^2(x)+1}{1-\\sin(x)}$.\n",
    "6. $(\\sin(x)+1)^3-\\sin^3(x)-3\\cos(x)$.\n",
    "7. $\\dfrac{(x-y)^2+(x+y)^2}{x^2+y^2}$.\n",
    "8. $\\sin(x+y)-\\sin(x-y)-2\\cos(2x)$."
   ]
  },
  {
   "cell_type": "code",
   "execution_count": 47,
   "metadata": {},
   "outputs": [
    {
     "data": {
      "text/latex": [
       "$\\displaystyle 3 x^{2} + 1$"
      ],
      "text/plain": [
       "3*x**2 + 1"
      ]
     },
     "execution_count": 47,
     "metadata": {},
     "output_type": "execute_result"
    }
   ],
   "source": [
    "x, y = symbols('x y')\n",
    "\n",
    "factor((x+1)**3-x**3-3*x)"
   ]
  },
  {
   "cell_type": "code",
   "execution_count": 48,
   "metadata": {},
   "outputs": [
    {
     "data": {
      "text/latex": [
       "$\\displaystyle \\left(3 - 2 \\sin^{2}{\\left(x \\right)}\\right) \\sin^{2}{\\left(x \\right)}$"
      ],
      "text/plain": [
       "(3 - 2*sin(x)**2)*sin(x)**2"
      ]
     },
     "execution_count": 48,
     "metadata": {},
     "output_type": "execute_result"
    }
   ],
   "source": [
    "trigsimp(sin(2*x)**2-2*cos(x)**2*sin(x)**2+sin(x)**2)"
   ]
  },
  {
   "cell_type": "code",
   "execution_count": 49,
   "metadata": {},
   "outputs": [
    {
     "data": {
      "text/latex": [
       "$\\displaystyle - \\left(x - 2\\right)^{4} + \\left(x + 2\\right)^{2} - 1$"
      ],
      "text/plain": [
       "-(x - 2)**4 + (x + 2)**2 - 1"
      ]
     },
     "execution_count": 49,
     "metadata": {},
     "output_type": "execute_result"
    }
   ],
   "source": [
    "simplify((x+2)**2-(x-2)**4-1)"
   ]
  },
  {
   "cell_type": "code",
   "execution_count": 50,
   "metadata": {},
   "outputs": [
    {
     "data": {
      "text/latex": [
       "$\\displaystyle \\frac{x - 3}{x - 2}$"
      ],
      "text/plain": [
       "(x - 3)/(x - 2)"
      ]
     },
     "execution_count": 50,
     "metadata": {},
     "output_type": "execute_result"
    }
   ],
   "source": [
    "cancel((2*x**3-6*x**2+2*x-6)/(2*x**3-4*x**2+2*x-4))"
   ]
  },
  {
   "cell_type": "code",
   "execution_count": 51,
   "metadata": {},
   "outputs": [
    {
     "data": {
      "text/latex": [
       "$\\displaystyle 0$"
      ],
      "text/plain": [
       "0"
      ]
     },
     "execution_count": 51,
     "metadata": {},
     "output_type": "execute_result"
    }
   ],
   "source": [
    "trigsimp((cos(2*x)-2*cos(x)**2+1)/(1-sin(x)))"
   ]
  },
  {
   "cell_type": "code",
   "execution_count": 52,
   "metadata": {},
   "outputs": [
    {
     "data": {
      "text/latex": [
       "$\\displaystyle 3 \\sin^{2}{\\left(x \\right)} - 3 \\sqrt{2} \\cos{\\left(x + \\frac{\\pi}{4} \\right)} + 1$"
      ],
      "text/plain": [
       "3*sin(x)**2 - 3*sqrt(2)*cos(x + pi/4) + 1"
      ]
     },
     "execution_count": 52,
     "metadata": {},
     "output_type": "execute_result"
    }
   ],
   "source": [
    "trigsimp((sin(x)+1)**3-sin(x)**3-3*cos(x))"
   ]
  },
  {
   "cell_type": "code",
   "execution_count": 53,
   "metadata": {},
   "outputs": [
    {
     "data": {
      "text/latex": [
       "$\\displaystyle 2$"
      ],
      "text/plain": [
       "2"
      ]
     },
     "execution_count": 53,
     "metadata": {},
     "output_type": "execute_result"
    }
   ],
   "source": [
    "cancel(((x-y)**2+(x+y)**2)/(x**2+y**2))"
   ]
  },
  {
   "cell_type": "code",
   "execution_count": 54,
   "metadata": {},
   "outputs": [
    {
     "data": {
      "text/latex": [
       "$\\displaystyle 4 \\sin^{2}{\\left(x \\right)} + 2 \\sin{\\left(y \\right)} \\cos{\\left(x \\right)} - 2$"
      ],
      "text/plain": [
       "4*sin(x)**2 + 2*sin(y)*cos(x) - 2"
      ]
     },
     "execution_count": 54,
     "metadata": {},
     "output_type": "execute_result"
    }
   ],
   "source": [
    "trigsimp(sin(x+y)-sin(x-y)-2*cos(2*x))"
   ]
  },
  {
   "cell_type": "markdown",
   "metadata": {},
   "source": [
    "**Actividad 51.** Desarrollar las siguientes expresiones utilizando la sentencia apropiada.\n",
    "1. $(x+4)^4+3(x-3)^3+2(x+2)^2+x-1$.\n",
    "2. $\\sin(x+y+z)$.\n",
    "3. $(x+2)^3+(x+2)^2+(x+2)+2$.\n",
    "4. $\\dfrac{\\tan(-y)}{\\tan(x+y)}$.\n",
    "5. $\\dfrac{(x+2)^3+(x+2)^2+(x+2)}{x+2}$.\n",
    "6. $\\dfrac{\\tan\\left(\\frac{\\pi}{3}-x\\right)}{\\sin\\left(\\frac{\\pi}{4}+x\\right)}$.\n",
    "7. $(x+y)^4+3(x-y)^3+2(x+y)^2+x-1$.\n"
   ]
  },
  {
   "cell_type": "code",
   "execution_count": 55,
   "metadata": {},
   "outputs": [
    {
     "data": {
      "text/latex": [
       "$\\displaystyle x^{4} + 19 x^{3} + 71 x^{2} + 346 x + 182$"
      ],
      "text/plain": [
       "x**4 + 19*x**3 + 71*x**2 + 346*x + 182"
      ]
     },
     "execution_count": 55,
     "metadata": {},
     "output_type": "execute_result"
    }
   ],
   "source": [
    "x, y, z = symbols('x y z')\n",
    "\n",
    "expand((x+4)**4+3*(x-3)**3+2*(x+2)**2+x-1)\n"
   ]
  },
  {
   "cell_type": "code",
   "execution_count": 56,
   "metadata": {},
   "outputs": [
    {
     "data": {
      "text/latex": [
       "$\\displaystyle \\left(- \\sin{\\left(y \\right)} \\sin{\\left(z \\right)} + \\cos{\\left(y \\right)} \\cos{\\left(z \\right)}\\right) \\sin{\\left(x \\right)} + \\left(\\sin{\\left(y \\right)} \\cos{\\left(z \\right)} + \\sin{\\left(z \\right)} \\cos{\\left(y \\right)}\\right) \\cos{\\left(x \\right)}$"
      ],
      "text/plain": [
       "(-sin(y)*sin(z) + cos(y)*cos(z))*sin(x) + (sin(y)*cos(z) + sin(z)*cos(y))*cos(x)"
      ]
     },
     "execution_count": 56,
     "metadata": {},
     "output_type": "execute_result"
    }
   ],
   "source": [
    "expand_trig(sin(x+y+z))"
   ]
  },
  {
   "cell_type": "code",
   "execution_count": 57,
   "metadata": {},
   "outputs": [
    {
     "data": {
      "text/latex": [
       "$\\displaystyle x^{3} + 7 x^{2} + 17 x + 16$"
      ],
      "text/plain": [
       "x**3 + 7*x**2 + 17*x + 16"
      ]
     },
     "execution_count": 57,
     "metadata": {},
     "output_type": "execute_result"
    }
   ],
   "source": [
    "expand((x+2)**3+(x+2)**2+(x+2)+2)"
   ]
  },
  {
   "cell_type": "code",
   "execution_count": 58,
   "metadata": {},
   "outputs": [
    {
     "data": {
      "text/latex": [
       "$\\displaystyle - \\frac{\\left(- \\tan{\\left(x \\right)} \\tan{\\left(y \\right)} + 1\\right) \\tan{\\left(y \\right)}}{\\tan{\\left(x \\right)} + \\tan{\\left(y \\right)}}$"
      ],
      "text/plain": [
       "-(-tan(x)*tan(y) + 1)*tan(y)/(tan(x) + tan(y))"
      ]
     },
     "execution_count": 58,
     "metadata": {},
     "output_type": "execute_result"
    }
   ],
   "source": [
    "expand_trig(tan(-y)/tan(x+y))"
   ]
  },
  {
   "cell_type": "code",
   "execution_count": 59,
   "metadata": {},
   "outputs": [
    {
     "data": {
      "text/latex": [
       "$\\displaystyle x^{3} + 7 x^{2} + 16 x + 13$"
      ],
      "text/plain": [
       "x**3 + 7*x**2 + 16*x + 13"
      ]
     },
     "execution_count": 59,
     "metadata": {},
     "output_type": "execute_result"
    }
   ],
   "source": [
    "expand((x+2)**3+(x+2)**2+(x+2)/(x+2))"
   ]
  },
  {
   "cell_type": "code",
   "execution_count": 60,
   "metadata": {},
   "outputs": [
    {
     "data": {
      "text/latex": [
       "$\\displaystyle \\frac{\\sqrt{3} \\cot{\\left(x \\right)} - 1}{\\left(\\frac{\\sqrt{2} \\sin{\\left(x \\right)}}{2} + \\frac{\\sqrt{2} \\cos{\\left(x \\right)}}{2}\\right) \\left(\\cot{\\left(x \\right)} + \\sqrt{3}\\right)}$"
      ],
      "text/plain": [
       "(sqrt(3)*cot(x) - 1)/((sqrt(2)*sin(x)/2 + sqrt(2)*cos(x)/2)*(cot(x) + sqrt(3)))"
      ]
     },
     "execution_count": 60,
     "metadata": {},
     "output_type": "execute_result"
    }
   ],
   "source": [
    "expand_trig(tan((pi/3)-x)/sin((pi/4)+x))"
   ]
  },
  {
   "cell_type": "code",
   "execution_count": 61,
   "metadata": {},
   "outputs": [
    {
     "data": {
      "text/latex": [
       "$\\displaystyle x^{4} + 4 x^{3} y + 3 x^{3} + 6 x^{2} y^{2} - 9 x^{2} y + 2 x^{2} + 4 x y^{3} + 9 x y^{2} + 4 x y + x + y^{4} - 3 y^{3} + 2 y^{2} - 1$"
      ],
      "text/plain": [
       "x**4 + 4*x**3*y + 3*x**3 + 6*x**2*y**2 - 9*x**2*y + 2*x**2 + 4*x*y**3 + 9*x*y**2 + 4*x*y + x + y**4 - 3*y**3 + 2*y**2 - 1"
      ]
     },
     "execution_count": 61,
     "metadata": {},
     "output_type": "execute_result"
    }
   ],
   "source": [
    "expand((x+y)**4+3*(x-y)**3+2*(x+y)**2+x-1)"
   ]
  },
  {
   "cell_type": "markdown",
   "metadata": {},
   "source": [
    "**Actividad 52.** Descomponer en fracciones simples las siguientes fracciones.\n",
    "1. $\\dfrac{x^2+2x+1}{x^4+8x^3+23x^2+28x+12}$\n",
    "2. $\\dfrac{x^2-2x+1}{x^4+8x^3+23x^2+28x+12}$\n",
    "3. $\\dfrac{x^2-2x+1}{x^4+4x^3+5x^2+4x+4}$\n",
    "4. $\\dfrac{x^2-2x-1}{x^6+4x^5+6x^4+8x^3+9x^2+4x+4}$"
   ]
  },
  {
   "cell_type": "code",
   "execution_count": 62,
   "metadata": {},
   "outputs": [
    {
     "data": {
      "text/latex": [
       "$\\displaystyle \\frac{x + 1}{\\left(x + 2\\right)^{2} \\left(x + 3\\right)}$"
      ],
      "text/plain": [
       "(x + 1)/((x + 2)**2*(x + 3))"
      ]
     },
     "execution_count": 62,
     "metadata": {},
     "output_type": "execute_result"
    }
   ],
   "source": [
    "x, y = symbols('x y')\n",
    "\n",
    "factor((x**2+2*x+1)/(x**4+8*x**3+23*x**2+28*x+12))"
   ]
  },
  {
   "cell_type": "code",
   "execution_count": 63,
   "metadata": {},
   "outputs": [
    {
     "data": {
      "text/latex": [
       "$\\displaystyle \\frac{\\left(x - 1\\right)^{2}}{\\left(x + 1\\right) \\left(x + 2\\right)^{2} \\left(x + 3\\right)}$"
      ],
      "text/plain": [
       "(x - 1)**2/((x + 1)*(x + 2)**2*(x + 3))"
      ]
     },
     "execution_count": 63,
     "metadata": {},
     "output_type": "execute_result"
    }
   ],
   "source": [
    "factor((x**2-2*x+1)/(x**4+8*x**3+23*x**2+28*x+12))"
   ]
  },
  {
   "cell_type": "code",
   "execution_count": 65,
   "metadata": {},
   "outputs": [
    {
     "data": {
      "text/latex": [
       "$\\displaystyle \\frac{\\left(x - 1\\right)^{2}}{\\left(x + 2\\right)^{2} \\left(x^{2} + 1\\right)}$"
      ],
      "text/plain": [
       "(x - 1)**2/((x + 2)**2*(x**2 + 1))"
      ]
     },
     "execution_count": 65,
     "metadata": {},
     "output_type": "execute_result"
    }
   ],
   "source": [
    "factor((x**2-2*x+1)/(x**4+4*x**3+5*x**2+4*x+4))"
   ]
  },
  {
   "cell_type": "code",
   "execution_count": 66,
   "metadata": {},
   "outputs": [
    {
     "data": {
      "text/latex": [
       "$\\displaystyle \\frac{x^{2} - 2 x - 1}{\\left(x + 2\\right)^{2} \\left(x^{2} + 1\\right)^{2}}$"
      ],
      "text/plain": [
       "(x**2 - 2*x - 1)/((x + 2)**2*(x**2 + 1)**2)"
      ]
     },
     "execution_count": 66,
     "metadata": {},
     "output_type": "execute_result"
    }
   ],
   "source": [
    "factor((x**2-2*x-1)/(x**6+4*x**5+6*x**4+8*x**3+9*x**2+4*x+4))"
   ]
  },
  {
   "cell_type": "markdown",
   "metadata": {},
   "source": [
    "**Actividad 53.** Calcular los siguientes:\n",
    "1. $\\lim_{x\\to0}\\dfrac{1-\\cos(2x)}{\\sin^2(x)}$\n",
    "2. $\\lim_{x\\to\\infty}\\dfrac{\\log(x)}{x}$\n",
    "3. $\\lim_{x\\to1}\\dfrac{1-x^2}{1-x}$\n",
    "4. $\\lim_{x\\to0}\\dfrac{1}{x}$"
   ]
  },
  {
   "cell_type": "code",
   "execution_count": 67,
   "metadata": {},
   "outputs": [
    {
     "data": {
      "text/latex": [
       "$\\displaystyle 2$"
      ],
      "text/plain": [
       "2"
      ]
     },
     "execution_count": 67,
     "metadata": {},
     "output_type": "execute_result"
    }
   ],
   "source": [
    "limit((1-cos(2*x))/sin(x)**2, x, 0)"
   ]
  },
  {
   "cell_type": "code",
   "execution_count": 68,
   "metadata": {},
   "outputs": [
    {
     "data": {
      "text/latex": [
       "$\\displaystyle 0$"
      ],
      "text/plain": [
       "0"
      ]
     },
     "execution_count": 68,
     "metadata": {},
     "output_type": "execute_result"
    }
   ],
   "source": [
    "limit(log(x)/x, x, oo)"
   ]
  },
  {
   "cell_type": "code",
   "execution_count": 69,
   "metadata": {},
   "outputs": [
    {
     "data": {
      "text/latex": [
       "$\\displaystyle 2$"
      ],
      "text/plain": [
       "2"
      ]
     },
     "execution_count": 69,
     "metadata": {},
     "output_type": "execute_result"
    }
   ],
   "source": [
    "limit((1-x**2)/(1-x), x, 1)"
   ]
  },
  {
   "cell_type": "code",
   "execution_count": 70,
   "metadata": {},
   "outputs": [
    {
     "data": {
      "text/latex": [
       "$\\displaystyle \\infty$"
      ],
      "text/plain": [
       "oo"
      ]
     },
     "execution_count": 70,
     "metadata": {},
     "output_type": "execute_result"
    }
   ],
   "source": [
    "limit(1/x, x, 0)"
   ]
  },
  {
   "cell_type": "markdown",
   "metadata": {},
   "source": [
    "**Actividad 54.** Calcular los siguientes límites de dos variables."
   ]
  }
 ],
 "metadata": {
  "kernelspec": {
   "display_name": "Python 3",
   "language": "python",
   "name": "python3"
  },
  "language_info": {
   "codemirror_mode": {
    "name": "ipython",
    "version": 3
   },
   "file_extension": ".py",
   "mimetype": "text/x-python",
   "name": "python",
   "nbconvert_exporter": "python",
   "pygments_lexer": "ipython3",
   "version": "3.11.6"
  }
 },
 "nbformat": 4,
 "nbformat_minor": 2
}
