{
 "cells": [
  {
   "cell_type": "markdown",
   "metadata": {},
   "source": [
    "# Práctica 10: Ejercicio para entregar. \n",
    "## Autovalores y autovectores en Python\n"
   ]
  },
  {
   "cell_type": "markdown",
   "metadata": {},
   "source": [
    "Algunos problemas en Data Science requieren el cálculo de valor propio dominante (el más grande) de una matriz. \n",
    "\n",
    "En este ejercicio implementaremos el llamado **Método de la Potencia** para el cálculo de dicho valor propio dominante. Aplicaremos dicho método a una **matriz de Markov** y compararemos los resultados obtenidos con el método **eig** implementado por defecto en Python.\n",
    "\n"
   ]
  },
  {
   "cell_type": "markdown",
   "metadata": {},
   "source": [
    "Partimos de una matriz $M$. En este caso, una matriz cuadrada cuyas entradas son positivas y de modo que, para cada columna, si sumamos sus entradas, el resultado es $1$. Este tipo de matrices se llaman de **Markov** y tienen aplicaciones en Álgebra Lineal, Estadística e Informática. Por ejemplo, la siguiente matriz de orde $2$ es de Markov:\n",
    "\n",
    "$$\n",
    "M_2 = \\left[\n",
    "    \\begin{array}{cc}\n",
    "    0.2 & 0.4 \\\\ \n",
    "    0.8 & 0.6 \\\\\n",
    "    \\end{array}\n",
    "    \\right]\n",
    "$$\n",
    "\n"
   ]
  },
  {
   "cell_type": "markdown",
   "metadata": {},
   "source": [
    "Introduce una matriz de Markov de orden $4$, la que tú quieras, y denótala por $M$."
   ]
  },
  {
   "metadata": {
    "ExecuteTime": {
     "end_time": "2024-11-29T20:07:02.164348Z",
     "start_time": "2024-11-29T20:07:01.983639Z"
    }
   },
   "cell_type": "code",
   "source": "import numpy as np",
   "outputs": [],
   "execution_count": 1
  },
  {
   "cell_type": "code",
   "metadata": {
    "ExecuteTime": {
     "end_time": "2024-11-29T20:07:02.211465Z",
     "start_time": "2024-11-29T20:07:02.203898Z"
    }
   },
   "source": [
    "# Completar aquí\n",
    "M = np.array([\n",
    "    [0.1, 0.3, 0.4, 0.2],\n",
    "    [0.2, 0.1, 0.3, 0.4],\n",
    "    [0.3, 0.4, 0.2, 0.1],\n",
    "    [0.4, 0.2, 0.1, 0.3]\n",
    "])\n",
    "# --------------------"
   ],
   "outputs": [],
   "execution_count": 2
  },
  {
   "cell_type": "markdown",
   "metadata": {},
   "source": [
    "El método de la potencia es un método iterativo donde se parte incialmente de un vector (el llamado **initial guess**). \n",
    "\n",
    "Introducimos un vector (1d-array) con cuatro componentes, por ejemplo $v = (0.5, 0.5, 0.5, 0.5)$."
   ]
  },
  {
   "cell_type": "code",
   "metadata": {
    "ExecuteTime": {
     "end_time": "2024-11-29T20:07:02.661255Z",
     "start_time": "2024-11-29T20:07:02.647180Z"
    }
   },
   "source": [
    "# Completar aquí\n",
    "v = np.array([0.5,0.5,0.5,0.5])\n",
    "# --------------------\n"
   ],
   "outputs": [],
   "execution_count": 3
  },
  {
   "cell_type": "markdown",
   "metadata": {},
   "source": [
    "A continuación vamos a implementar un bucle (loop) con $11$ iteraciones donde en cada iteración vamos a hacer lo siguiente:\n",
    "\n",
    "1) Multiplicamos $M$ y $v$ y volvemos a denotar por $v$ el resultado, es decir,\n",
    "**v = M v**.\n",
    "\n",
    "2) Calculamos la mayor, en valor absoluto, de las componentes de **v**. Recuerda, el valor absoluto de un vector se calcula con **abs** y el máximo aplicando el método **max()**. Denotamos por **lambda** al resultado. Esto nos da una aproximación del valor propio dominante.\n",
    "\n",
    "3) Dividimos **v** por la mayor de sus componentes. Esto nos da una aproximación del vector propio asociado al valor propio dominante\n",
    "\n",
    "4) Imprimimos los resultados de 2) y 3) en cada iteración."
   ]
  },
  {
   "cell_type": "code",
   "metadata": {
    "ExecuteTime": {
     "end_time": "2024-11-29T20:07:02.692014Z",
     "start_time": "2024-11-29T20:07:02.678468Z"
    }
   },
   "source": [
    "# Completar aquí\n",
    "for i in range(11):\n",
    "    v = M @ v\n",
    "\n",
    "    Lambda = np.max(np.abs(v))\n",
    "    # El programa no permite que escriba \"lambda\", por eso está escrito con\n",
    "    # mayúsculas\n",
    "\n",
    "    v = v / Lambda\n",
    "\n",
    "    print(f\"Iteración {i + 1}: Valor propio dominante (lambda) = {Lambda}\")\n",
    "    print(f\"Vector propio asociado: {v}\")\n",
    "    print(\"------------------------\")\n",
    "# --------------------\n"
   ],
   "outputs": [
    {
     "name": "stdout",
     "output_type": "stream",
     "text": [
      "Iteración 1: Valor propio dominante (lambda) = 0.5\n",
      "Vector propio asociado: [1. 1. 1. 1.]\n",
      "------------------------\n",
      "Iteración 2: Valor propio dominante (lambda) = 1.0\n",
      "Vector propio asociado: [1. 1. 1. 1.]\n",
      "------------------------\n",
      "Iteración 3: Valor propio dominante (lambda) = 1.0\n",
      "Vector propio asociado: [1. 1. 1. 1.]\n",
      "------------------------\n",
      "Iteración 4: Valor propio dominante (lambda) = 1.0\n",
      "Vector propio asociado: [1. 1. 1. 1.]\n",
      "------------------------\n",
      "Iteración 5: Valor propio dominante (lambda) = 1.0\n",
      "Vector propio asociado: [1. 1. 1. 1.]\n",
      "------------------------\n",
      "Iteración 6: Valor propio dominante (lambda) = 1.0\n",
      "Vector propio asociado: [1. 1. 1. 1.]\n",
      "------------------------\n",
      "Iteración 7: Valor propio dominante (lambda) = 1.0\n",
      "Vector propio asociado: [1. 1. 1. 1.]\n",
      "------------------------\n",
      "Iteración 8: Valor propio dominante (lambda) = 1.0\n",
      "Vector propio asociado: [1. 1. 1. 1.]\n",
      "------------------------\n",
      "Iteración 9: Valor propio dominante (lambda) = 1.0\n",
      "Vector propio asociado: [1. 1. 1. 1.]\n",
      "------------------------\n",
      "Iteración 10: Valor propio dominante (lambda) = 1.0\n",
      "Vector propio asociado: [1. 1. 1. 1.]\n",
      "------------------------\n",
      "Iteración 11: Valor propio dominante (lambda) = 1.0\n",
      "Vector propio asociado: [1. 1. 1. 1.]\n",
      "------------------------\n"
     ]
    }
   ],
   "execution_count": 4
  },
  {
   "cell_type": "markdown",
   "metadata": {},
   "source": [
    "Comprueba que, en efecto, se cumple que $M v = \\lambda v$, para $\\lambda$ el autovalor dominante que acabas de calcular y $v$ su autovector asociado. "
   ]
  },
  {
   "cell_type": "code",
   "metadata": {
    "ExecuteTime": {
     "end_time": "2024-11-29T20:07:02.723196Z",
     "start_time": "2024-11-29T20:07:02.709911Z"
    }
   },
   "source": [
    "# Completar aquí\n",
    "for i in range(11):\n",
    "    v = M @ v\n",
    "\n",
    "    Lambda = np.max(np.abs(v))\n",
    "    # El programa no permite que escriba \"lambda\", por eso está escrito con\n",
    "    # mayúsculas\n",
    "\n",
    "    v = v / Lambda\n",
    "\n",
    "    print(f\"Verificación {i+1} Mv = lambda v: {np.allclose(M @ v, Lambda * v)}\")\n",
    "    print(\"------------------------\")\n",
    "# --------------------\n"
   ],
   "outputs": [
    {
     "name": "stdout",
     "output_type": "stream",
     "text": [
      "Verificación 1 Mv = lambda v: True\n",
      "------------------------\n",
      "Verificación 2 Mv = lambda v: True\n",
      "------------------------\n",
      "Verificación 3 Mv = lambda v: True\n",
      "------------------------\n",
      "Verificación 4 Mv = lambda v: True\n",
      "------------------------\n",
      "Verificación 5 Mv = lambda v: True\n",
      "------------------------\n",
      "Verificación 6 Mv = lambda v: True\n",
      "------------------------\n",
      "Verificación 7 Mv = lambda v: True\n",
      "------------------------\n",
      "Verificación 8 Mv = lambda v: True\n",
      "------------------------\n",
      "Verificación 9 Mv = lambda v: True\n",
      "------------------------\n",
      "Verificación 10 Mv = lambda v: True\n",
      "------------------------\n",
      "Verificación 11 Mv = lambda v: True\n",
      "------------------------\n"
     ]
    }
   ],
   "execution_count": 5
  },
  {
   "cell_type": "markdown",
   "metadata": {},
   "source": [
    "Comparamos ahora los resultados obtenidos con los que provienen del método **eig** implementado en el submódulo **np.linalg** de Python\n",
    "\n"
   ]
  },
  {
   "cell_type": "code",
   "metadata": {
    "ExecuteTime": {
     "end_time": "2024-11-29T20:07:02.753667Z",
     "start_time": "2024-11-29T20:07:02.739920Z"
    }
   },
   "source": [
    "# Completar aquí\n",
    "autovalores, autovectores = np.linalg.eig(M)\n",
    "print(f\"Autovalores de M: \\n{autovalores}\")\n",
    "print()\n",
    "print(f\"Autovectores de M: \\n {autovectores}\")\n",
    "# --------------------\n"
   ],
   "outputs": [
    {
     "name": "stdout",
     "output_type": "stream",
     "text": [
      "Autovalores de M: \n",
      "[ 1.00000000e+00 -3.00000000e-01 -4.96753436e-09  4.96753434e-09]\n",
      "\n",
      "Autovectores de M: \n",
      " [[ 0.5        -0.31622777  0.5        -0.5       ]\n",
      " [ 0.5        -0.63245553 -0.50000001  0.49999999]\n",
      " [ 0.5         0.63245553  0.5        -0.5       ]\n",
      " [ 0.5         0.31622777 -0.49999999  0.50000001]]\n"
     ]
    }
   ],
   "execution_count": 6
  },
  {
   "cell_type": "markdown",
   "metadata": {},
   "source": [
    "Identificamos el valor propio dominante con valor $\\lambda_{max} = 1$. Pero los autovectores, ¿dónde están? ¿dónde está el vector propio asociado a $\\lambda_{max}$?\n",
    "\n",
    "Una pista: investiga la primera columna de la salida anterior."
   ]
  },
  {
   "cell_type": "code",
   "metadata": {
    "ExecuteTime": {
     "end_time": "2024-11-29T20:07:02.832509Z",
     "start_time": "2024-11-29T20:07:02.823512Z"
    }
   },
   "source": [
    "# Completar aquí\n",
    "lambda_max = 1\n",
    "v_max = autovectores[:, 0]\n",
    "\n",
    "# El vector propio asociado se encuentra la primera columna de vectores\n",
    "\n",
    "print(v_max)\n",
    "# --------------------\n"
   ],
   "outputs": [
    {
     "name": "stdout",
     "output_type": "stream",
     "text": [
      "[0.5 0.5 0.5 0.5]\n"
     ]
    }
   ],
   "execution_count": 7
  }
 ],
 "metadata": {
  "kernelspec": {
   "display_name": "Python 3.8.5 ('base')",
   "language": "python",
   "name": "python3"
  },
  "language_info": {
   "codemirror_mode": {
    "name": "ipython",
    "version": 3
   },
   "file_extension": ".py",
   "mimetype": "text/x-python",
   "name": "python",
   "nbconvert_exporter": "python",
   "pygments_lexer": "ipython3",
   "version": "3.8.5"
  },
  "orig_nbformat": 4,
  "vscode": {
   "interpreter": {
    "hash": "c9e6f42c9bf154cf9b9e87541e517fa2c69e39349a7d6df0c90be082366bd360"
   }
  }
 },
 "nbformat": 4,
 "nbformat_minor": 2
}
