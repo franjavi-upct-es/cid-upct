{
 "cells": [
  {
   "cell_type": "markdown",
   "metadata": {},
   "source": [
    "# Práctica 8: Ejercicio para entregar. \n",
    "## Factorizaciones LU y Choleski. Aplicación a la resolución de sistemas lineales.\n",
    "\n"
   ]
  },
  {
   "cell_type": "markdown",
   "metadata": {},
   "source": [
    "Una clase importante de matrices que aparecen muy frecuentemente en varios campos de la Ingeniería son las llamadas **matrices de Toeplitz**. En dimensión $5$, esta matriz es:\n",
    "$$\n",
    "T_5 = \\left[\\begin{array}{ccccc}\n",
    "2 & -1 & 0 & 0 & 0\\\\\n",
    "-1 & 2 & -1 & 0 & 0\\\\\n",
    "0 & -1 & 2 & -1 & 0\\\\\n",
    "0 & 0 & -1 & 2 & -1\\\\\n",
    "0 & 0 & 0 & -1 & 2\n",
    "\\end{array}\n",
    "\\right]\n",
    "$$\n",
    "\n",
    "\n",
    "1) Introduce esta matriz en formato sparse y utilizando el método csr_matrix\n",
    "\n",
    "2) Tranforma la matriz a formato dense y denota a la matriz resultante con la letra $T$\n",
    "\n"
   ]
  },
  {
   "metadata": {
    "ExecuteTime": {
     "end_time": "2024-11-15T09:37:09.792683Z",
     "start_time": "2024-11-15T09:37:09.381908Z"
    }
   },
   "cell_type": "code",
   "source": [
    "import numpy as np\n",
    "from scipy.sparse import csr_matrix"
   ],
   "outputs": [],
   "execution_count": 1
  },
  {
   "cell_type": "code",
   "metadata": {
    "ExecuteTime": {
     "end_time": "2024-11-15T09:37:09.808212Z",
     "start_time": "2024-11-15T09:37:09.800712Z"
    }
   },
   "source": [
    "# Completar aquí\n",
    "x = csr_matrix([\n",
    "    [2, -1, 0, 0, 0],\n",
    "    [-1, 2, -1, 0, 0],\n",
    "    [0, -1, 2, -1, 0],\n",
    "    [0, 0, -1, 2, -1],\n",
    "    [0, 0, 0, -1, 2]\n",
    "])\n",
    "\n",
    "T = x.todense()\n",
    "print(f\"T = \\n{T}\")\n",
    "# --------------------\n"
   ],
   "outputs": [
    {
     "name": "stdout",
     "output_type": "stream",
     "text": [
      "T = \n",
      "[[ 2 -1  0  0  0]\n",
      " [-1  2 -1  0  0]\n",
      " [ 0 -1  2 -1  0]\n",
      " [ 0  0 -1  2 -1]\n",
      " [ 0  0  0 -1  2]]\n"
     ]
    }
   ],
   "execution_count": 2
  },
  {
   "cell_type": "markdown",
   "metadata": {},
   "source": [
    "1) Comprueba, usando un operador booleano, que $T$ es simétrica\n",
    "\n",
    "2) Comprueba que $T$ es no singular\n",
    "\n",
    "3) Calcula el número de condicionamiento de $T$\n"
   ]
  },
  {
   "cell_type": "code",
   "metadata": {
    "ExecuteTime": {
     "end_time": "2024-11-15T09:37:09.900603Z",
     "start_time": "2024-11-15T09:37:09.886602Z"
    }
   },
   "source": [
    "# Completar aquí\n",
    "print(f\"1) {(T == T.T).all()}\")\n",
    "print(f\"2) {np.linalg.det(T) != 0}\")\n",
    "print(f\"3) {np.linalg.cond(T):.4f}\")\n",
    "# --------------------\n"
   ],
   "outputs": [
    {
     "name": "stdout",
     "output_type": "stream",
     "text": [
      "1) True\n",
      "2) True\n",
      "3) 13.9282\n"
     ]
    }
   ],
   "execution_count": 3
  },
  {
   "cell_type": "markdown",
   "metadata": {},
   "source": [
    "Calcula la descomposición $PLU$ de $T$ y comprueba que $T = PLU$ \n",
    "haciendo uso de un operador booleano. \n",
    "\n"
   ]
  },
  {
   "cell_type": "code",
   "metadata": {
    "ExecuteTime": {
     "end_time": "2024-11-15T09:37:09.931418Z",
     "start_time": "2024-11-15T09:37:09.918542Z"
    }
   },
   "source": [
    "# Completar aquí\n",
    "from scipy.linalg import lu\n",
    "\n",
    "P, L, U = lu(T)\n",
    "print(f\"T = \\n{T}\")\n",
    "print(f\"P = \\n{P}\")\n",
    "print(f\"L = \\n{L}\")\n",
    "print(f\"U = \\n{U}\")\n",
    "\n",
    "print(f\"¿T = PLU? {(T == P.dot(L.dot(U))).all()}\")\n",
    "# --------------------\n"
   ],
   "outputs": [
    {
     "name": "stdout",
     "output_type": "stream",
     "text": [
      "T = \n",
      "[[ 2 -1  0  0  0]\n",
      " [-1  2 -1  0  0]\n",
      " [ 0 -1  2 -1  0]\n",
      " [ 0  0 -1  2 -1]\n",
      " [ 0  0  0 -1  2]]\n",
      "P = \n",
      "[[1. 0. 0. 0. 0.]\n",
      " [0. 1. 0. 0. 0.]\n",
      " [0. 0. 1. 0. 0.]\n",
      " [0. 0. 0. 1. 0.]\n",
      " [0. 0. 0. 0. 1.]]\n",
      "L = \n",
      "[[ 1.          0.          0.          0.          0.        ]\n",
      " [-0.5         1.          0.          0.          0.        ]\n",
      " [ 0.         -0.66666667  1.          0.          0.        ]\n",
      " [ 0.          0.         -0.75        1.          0.        ]\n",
      " [ 0.          0.          0.         -0.8         1.        ]]\n",
      "U = \n",
      "[[ 2.         -1.          0.          0.          0.        ]\n",
      " [ 0.          1.5        -1.          0.          0.        ]\n",
      " [ 0.          0.          1.33333333 -1.          0.        ]\n",
      " [ 0.          0.          0.          1.25       -1.        ]\n",
      " [ 0.          0.          0.          0.          1.2       ]]\n",
      "¿T = PLU? True\n"
     ]
    }
   ],
   "execution_count": 4
  },
  {
   "cell_type": "markdown",
   "metadata": {},
   "source": [
    "Calcula la factorización de Choleski de $T$"
   ]
  },
  {
   "cell_type": "code",
   "metadata": {
    "ExecuteTime": {
     "end_time": "2024-11-15T09:37:09.961681Z",
     "start_time": "2024-11-15T09:37:09.948390Z"
    }
   },
   "source": [
    "# Completar aquí\n",
    "from scipy.linalg import ldl\n",
    "\n",
    "L, D, P = ldl(T)\n",
    "\n",
    "print(f\"L = \\n  {L}\")\n",
    "print(f\"D = \\n {D}\")\n",
    "print(f\"P = \\n  {P}\")\n",
    "\n",
    "LD = np.dot(L, D)\n",
    "print(f\"LD = \\n {LD}\")\n",
    "\n",
    "print(f\"LDL^T = \\n {np.dot(LD, L.T)}\")\n",
    "# --------------------\n"
   ],
   "outputs": [
    {
     "name": "stdout",
     "output_type": "stream",
     "text": [
      "L = \n",
      "  [[ 1.          0.          0.          0.          0.        ]\n",
      " [-0.5         1.          0.          0.          0.        ]\n",
      " [ 0.         -0.66666667  1.          0.          0.        ]\n",
      " [ 0.          0.         -0.75        1.          0.        ]\n",
      " [ 0.          0.          0.         -0.8         1.        ]]\n",
      "D = \n",
      " [[2.         0.         0.         0.         0.        ]\n",
      " [0.         1.5        0.         0.         0.        ]\n",
      " [0.         0.         1.33333333 0.         0.        ]\n",
      " [0.         0.         0.         1.25       0.        ]\n",
      " [0.         0.         0.         0.         1.2       ]]\n",
      "P = \n",
      "  [0 1 2 3 4]\n",
      "LD = \n",
      " [[ 2.          0.          0.          0.          0.        ]\n",
      " [-1.          1.5         0.          0.          0.        ]\n",
      " [ 0.         -1.          1.33333333  0.          0.        ]\n",
      " [ 0.          0.         -1.          1.25        0.        ]\n",
      " [ 0.          0.          0.         -1.          1.2       ]]\n",
      "LDL^T = \n",
      " [[ 2. -1.  0.  0.  0.]\n",
      " [-1.  2. -1.  0.  0.]\n",
      " [ 0. -1.  2. -1.  0.]\n",
      " [ 0.  0. -1.  2. -1.]\n",
      " [ 0.  0.  0. -1.  2.]]\n"
     ]
    }
   ],
   "execution_count": 5
  },
  {
   "cell_type": "markdown",
   "metadata": {},
   "source": [
    "1) Resuelve el sistema $T^2x = b$, donde $b = \\left[ 0, 0, -1, 0, 0\\right]^T$\n",
    "\n",
    "2) Comprueba mediante un operador booleano si $T^2x = b$. Explica a qué se debe el resultado que has obtenido y averigua la forma de resolverlo. Puede resultar útil usar el método np.round()"
   ]
  },
  {
   "cell_type": "code",
   "metadata": {
    "ExecuteTime": {
     "end_time": "2024-11-15T09:37:10.102834Z",
     "start_time": "2024-11-15T09:37:10.040119Z"
    }
   },
   "source": [
    "# Completar aquí\n",
    "from scipy.linalg import solve\n",
    "\n",
    "b = np.array([0,0,-1,0,0])\n",
    "\n",
    "x = solve(T**2, b.T)\n",
    "print(f\"x = {x}\")\n",
    "\n",
    "print(np.all(T**2 @ x == b))\n",
    "\n",
    "\"\"\"\n",
    "Da como resultado \"False\" debido a errores de redondeo, si utilizo la función\n",
    "np.round(), la igualdad sí es cierta.\n",
    "\"\"\"\n",
    "\n",
    "print(np.all(np.round(T**2 @ x) == np.round(b)))\n",
    "# --------------------\n"
   ],
   "outputs": [
    {
     "name": "stdout",
     "output_type": "stream",
     "text": [
      "x = [-2.25 -4.   -4.75 -4.   -2.25]\n",
      "False\n",
      "True\n"
     ]
    }
   ],
   "execution_count": 6
  }
 ],
 "metadata": {
  "interpreter": {
   "hash": "c9e6f42c9bf154cf9b9e87541e517fa2c69e39349a7d6df0c90be082366bd360"
  },
  "kernelspec": {
   "display_name": "Python 3.8.5 ('base')",
   "language": "python",
   "name": "python3"
  },
  "language_info": {
   "codemirror_mode": {
    "name": "ipython",
    "version": 3
   },
   "file_extension": ".py",
   "mimetype": "text/x-python",
   "name": "python",
   "nbconvert_exporter": "python",
   "pygments_lexer": "ipython3",
   "version": "3.8.5"
  },
  "orig_nbformat": 4
 },
 "nbformat": 4,
 "nbformat_minor": 2
}
