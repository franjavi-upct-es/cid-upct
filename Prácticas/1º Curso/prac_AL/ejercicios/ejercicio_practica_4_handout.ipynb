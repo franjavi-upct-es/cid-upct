{
 "cells": [
  {
   "cell_type": "markdown",
   "metadata": {},
   "source": [
    "# Práctica 4: Ejercicio para entregar. \n",
    "## Vectores Y Matrices: aritmética y normas.\n",
    "\n"
   ]
  },
  {
   "cell_type": "markdown",
   "metadata": {},
   "source": [
    "Los vectores y matrices de números complejos aparecen frecuentemente en Machine Learning. En concreto, en sistemas de reconocimiento del hablante (speech recognition) y más específicamente en la primera fase, donde se hace uso de una técnica de tratamiento de señales llamada **transformada discreta de Fourier**. En este ejercicio prácticaremos un poco con el tipo de vectores que aparecen en este campo."
   ]
  },
  {
   "cell_type": "markdown",
   "metadata": {},
   "source": [
    "Consideremos la llamada **matriz de la transformada de Fourier Discreta** en dimensión 4:\n",
    "$$\n",
    "DFT = \\frac{1}{2}\\left[\\begin{array}{cccc}\n",
    "1 & 1 & 1 & 1\\\\\n",
    "1 & e^{2\\pi j / 4} & e^{4\\pi j / 4} & e^{6\\pi j / 4}\\\\\n",
    "1 & e^{4\\pi j / 4} & e^{6\\pi j / 4} & e^{8\\pi j / 4}\\\\\n",
    "1 & e^{6\\pi j / 6} & e^{8\\pi j / 8} & e^{10\\pi j / 4}\n",
    "\\end{array}\n",
    "\\right]\n",
    "$$\n",
    "Nótese que las entradas de esta matriz tienen la forma $e^{2 k n \\pi j/N}$, con  $n=0,1,2,3$, $N=4$ y $k = n^T$.\n",
    "\n",
    "Introduce esta matriz siguiendo los siguiente pasos:\n",
    "\n",
    "1) Introduce el escalar $N = 4$\n",
    "\n",
    "2) Genera el vector $n = [0, 1, 2, 3]$ usando el método **arange**\n",
    "\n",
    "3) Genera el vector $k = n^T$ usando el método **reshape**\n",
    "\n",
    "4) Genera la matriz $n*k$\n",
    "\n",
    "5) Genera la matriz con entradas $exp(2j * \\pi * k * n / N)$\n",
    "\n"
   ]
  },
  {
   "metadata": {
    "ExecuteTime": {
     "end_time": "2024-10-18T07:14:18.853053Z",
     "start_time": "2024-10-18T07:14:18.198684Z"
    }
   },
   "cell_type": "code",
   "source": "import numpy as np",
   "outputs": [],
   "execution_count": 1
  },
  {
   "cell_type": "code",
   "metadata": {
    "ExecuteTime": {
     "end_time": "2024-10-18T07:14:27.640335Z",
     "start_time": "2024-10-18T07:14:27.623079Z"
    }
   },
   "source": [
    "# Completar aquí\n",
    "N = 4\n",
    "n = np.arange(N)\n",
    "k = n.reshape((N, 1))\n",
    "nk = n * k\n",
    "DFT = np.exp(2j * np.pi * k * n / N)\n",
    "print(f\"N = {N}\")\n",
    "print(f\"n = {n}\")\n",
    "print(f\"k = \\n{k}\")\n",
    "print(f\"nk = \\n{nk}\")\n",
    "print(f\"DFT = \\n{DFT}\")\n",
    "# --------------------\n"
   ],
   "outputs": [
    {
     "name": "stdout",
     "output_type": "stream",
     "text": [
      "N = 4\n",
      "n = [0 1 2 3]\n",
      "k = \n",
      "[[0]\n",
      " [1]\n",
      " [2]\n",
      " [3]]\n",
      "nk = \n",
      "[[0 0 0 0]\n",
      " [0 1 2 3]\n",
      " [0 2 4 6]\n",
      " [0 3 6 9]]\n",
      "DFT = \n",
      "[[ 1.0000000e+00+0.0000000e+00j  1.0000000e+00+0.0000000e+00j\n",
      "   1.0000000e+00+0.0000000e+00j  1.0000000e+00+0.0000000e+00j]\n",
      " [ 1.0000000e+00+0.0000000e+00j  6.1232340e-17+1.0000000e+00j\n",
      "  -1.0000000e+00+1.2246468e-16j -1.8369702e-16-1.0000000e+00j]\n",
      " [ 1.0000000e+00+0.0000000e+00j -1.0000000e+00+1.2246468e-16j\n",
      "   1.0000000e+00-2.4492936e-16j -1.0000000e+00+3.6739404e-16j]\n",
      " [ 1.0000000e+00+0.0000000e+00j -1.8369702e-16-1.0000000e+00j\n",
      "  -1.0000000e+00+3.6739404e-16j  5.5109106e-16+1.0000000e+00j]]\n"
     ]
    }
   ],
   "execution_count": 3
  },
  {
   "cell_type": "markdown",
   "metadata": {},
   "source": [
    "Utiliza la técnica de **slicing** estudiada en la práctica anterior para extraer la primer fila (que guardaremos en un vector denotado $v1$) y la tercera columna de la matriz $DFT$ (guardada en $v2$)\n"
   ]
  },
  {
   "cell_type": "code",
   "metadata": {
    "ExecuteTime": {
     "end_time": "2024-10-18T07:15:44.931558Z",
     "start_time": "2024-10-18T07:15:44.918559Z"
    }
   },
   "source": [
    "# Completar aquí\n",
    "v1 = DFT[0, :]\n",
    "v2 = DFT[:, 2]\n",
    "\n",
    "print(f\"v1 = {v1}\")\n",
    "print(f\"v2 = {v2}\")\n",
    "# --------------------\n"
   ],
   "outputs": [
    {
     "name": "stdout",
     "output_type": "stream",
     "text": [
      "v1 = [1.+0.j 1.+0.j 1.+0.j 1.+0.j]\n",
      "v2 = [ 1.+0.0000000e+00j -1.+1.2246468e-16j  1.-2.4492936e-16j\n",
      " -1.+3.6739404e-16j]\n"
     ]
    }
   ],
   "execution_count": 5
  },
  {
   "cell_type": "markdown",
   "metadata": {},
   "source": [
    " Calcula:\n",
    "\n",
    " 1) $v1 + v2$\n",
    "\n",
    " 2) $v1*v2$, componente a componente\n",
    "\n",
    " 3) $v1 / v2$, componente a componente\n",
    "\n",
    " 4) El producto escalar de $v1$ y $v2$"
   ]
  },
  {
   "cell_type": "code",
   "metadata": {
    "ExecuteTime": {
     "end_time": "2024-10-18T07:18:13.557139Z",
     "start_time": "2024-10-18T07:18:13.544202Z"
    }
   },
   "source": [
    "# Completar aquí\n",
    "print(f\"v1 + v2 = {v1 + v2}\")\n",
    "print(f\"v1 * v2 = {v1 * v2}\")\n",
    "print(f\"v1 / v2 = {v1 / v2}\")\n",
    "print(f\"v1.v2 = {v1.dot(v2)}\")\n",
    "# --------------------\n"
   ],
   "outputs": [
    {
     "name": "stdout",
     "output_type": "stream",
     "text": [
      "v1 + v2 = [2.+0.0000000e+00j 0.+1.2246468e-16j 2.-2.4492936e-16j 0.+3.6739404e-16j]\n",
      "v1 * v2 = [ 1.+0.0000000e+00j -1.+1.2246468e-16j  1.-2.4492936e-16j\n",
      " -1.+3.6739404e-16j]\n",
      "v1 / v2 = [ 1.+0.0000000e+00j -1.-1.2246468e-16j  1.+2.4492936e-16j\n",
      " -1.-3.6739404e-16j]\n",
      "v1.v2 = 2.449293598294706e-16j\n"
     ]
    }
   ],
   "execution_count": 7
  },
  {
   "cell_type": "markdown",
   "metadata": {},
   "source": [
    "Calcula las normas $2$, $1$ y $\\infty$ de $v1$"
   ]
  },
  {
   "cell_type": "code",
   "metadata": {
    "ExecuteTime": {
     "end_time": "2024-10-18T07:19:24.263391Z",
     "start_time": "2024-10-18T07:19:24.241036Z"
    }
   },
   "source": [
    "# Completar aquí\n",
    "print(f\"Norma 2 = {np.linalg.norm(v1, ord=2)}\")\n",
    "print(f\"Norma 1 = {np.linalg.norm(v1, ord=1)}\")\n",
    "print(f\"Norma ∞ = {np.linalg.norm(v1, ord=np.inf)}\")\n",
    "# --------------------\n"
   ],
   "outputs": [
    {
     "name": "stdout",
     "output_type": "stream",
     "text": [
      "Norma 2 = 2.0\n",
      "Norma 1 = 4.0\n",
      "Norma ∞ = 1.0\n"
     ]
    }
   ],
   "execution_count": 8
  },
  {
   "cell_type": "markdown",
   "metadata": {},
   "source": [
    "Introduce una matriz D de 4 filas y 8 columnas de modo que la primera fila \n",
    "contenga tu número de DNI y el resto de filas números de DNI de algunos \n",
    "familiares tuyos.\n",
    "Imprime también por pantalla la matriz D"
   ]
  },
  {
   "cell_type": "code",
   "metadata": {
    "ExecuteTime": {
     "end_time": "2024-10-18T07:22:24.110224Z",
     "start_time": "2024-10-18T07:22:24.091744Z"
    }
   },
   "source": [
    "# Completar aquí\n",
    "D = np.array([\n",
    "    [2, 6, 6, 4, 9, 1, 1, 0],\n",
    "    [2, 2, 9, 8, 1, 6, 3, 0],\n",
    "    [8, 7, 5, 9, 0, 1, 9, 4],\n",
    "    [4, 2, 9, 4, 5, 0, 2, 2]\n",
    "])\n",
    "print(f\"D = \\n{D}\")\n",
    "# --------------------\n"
   ],
   "outputs": [
    {
     "name": "stdout",
     "output_type": "stream",
     "text": [
      "D = \n",
      "[[2 6 6 4 9 1 1 0]\n",
      " [2 2 9 8 1 6 3 0]\n",
      " [8 7 5 9 0 1 9 4]\n",
      " [4 2 9 4 5 0 2 2]]\n"
     ]
    }
   ],
   "execution_count": 9
  },
  {
   "cell_type": "markdown",
   "metadata": {},
   "source": [
    "Calcula, usando las dos formas estudiadas en clase, e imprime por pantalla \n",
    "la matriz S = DD^T"
   ]
  },
  {
   "cell_type": "code",
   "metadata": {
    "ExecuteTime": {
     "end_time": "2024-10-18T07:23:43.925151Z",
     "start_time": "2024-10-18T07:23:43.911382Z"
    }
   },
   "source": [
    "# Completar aquí\n",
    "print(f\"S = \\n{D @ D.T}\")\n",
    "print(f\"S = \\n{D.dot(D.T)}\")\n",
    "# --------------------\n"
   ],
   "outputs": [
    {
     "name": "stdout",
     "output_type": "stream",
     "text": [
      "S = \n",
      "[[175 120 134 137]\n",
      " [120 199 180 136]\n",
      " [134 180 317 153]\n",
      " [137 136 153 150]]\n",
      "S = \n",
      "[[175 120 134 137]\n",
      " [120 199 180 136]\n",
      " [134 180 317 153]\n",
      " [137 136 153 150]]\n"
     ]
    }
   ],
   "execution_count": 11
  },
  {
   "cell_type": "markdown",
   "metadata": {},
   "source": [
    "Introduce un vector b no nulo de dimensión 4, el que quieras, y calcula, de las \n",
    "dos formas que vimos en clase, el producto de S y b, es decir, S*b.\n",
    "Calcula también b*S. Compara los resultados de S*b y b*S. \n",
    "¿Qué explicación encuentras de ambos resultados? "
   ]
  },
  {
   "cell_type": "code",
   "metadata": {
    "ExecuteTime": {
     "end_time": "2024-10-18T07:26:13.149805Z",
     "start_time": "2024-10-18T07:26:13.130455Z"
    }
   },
   "source": [
    "# Completar aquí\n",
    "b = np.array([1, 2, 3, 4])\n",
    "S = D @ D.T # No lo había definido en el apartado anterior\n",
    "print(f\"S*b = {S @ b}\")\n",
    "print(f\"S*b = {S.dot(b)}\")\n",
    "print(f\"b*S = {b @ S}\")\n",
    "print(f\"b*S = {b.dot(S)}\")\n",
    "# --------------------\n",
    "\"\"\"\n",
    "Al obtener los mismos resultados confirmamos que la opración es conmutativa\n",
    "debido a la forma de los datos\n",
    "\"\"\""
   ],
   "outputs": [
    {
     "name": "stdout",
     "output_type": "stream",
     "text": [
      "S*b = \n",
      "[1365 1602 2057 1468]\n",
      "S*b = \n",
      "[1365 1602 2057 1468]\n",
      "b*S = \n",
      "[1365 1602 2057 1468]\n",
      "b*S = \n",
      "[1365 1602 2057 1468]\n"
     ]
    }
   ],
   "execution_count": 13
  },
  {
   "cell_type": "markdown",
   "metadata": {},
   "source": [
    "Calcula el producto de Hadamard de S y S. \n",
    "Calcula, componente a componente de S dividido por S."
   ]
  },
  {
   "cell_type": "code",
   "metadata": {
    "ExecuteTime": {
     "end_time": "2024-10-18T07:28:51.404927Z",
     "start_time": "2024-10-18T07:28:51.384342Z"
    }
   },
   "source": [
    "# Completar aquí\n",
    "print(f\"(Producto de Hadamard) S º S = \\n {S * S}\")\n",
    "print(f\" S / S = \\n {S / S}\")\n",
    "# --------------------\n"
   ],
   "outputs": [
    {
     "name": "stdout",
     "output_type": "stream",
     "text": [
      "(Producto de Hadamard) S º S = \n",
      " [[ 30625  14400  17956  18769]\n",
      " [ 14400  39601  32400  18496]\n",
      " [ 17956  32400 100489  23409]\n",
      " [ 18769  18496  23409  22500]]\n",
      " S / S = \n",
      " [[1. 1. 1. 1.]\n",
      " [1. 1. 1. 1.]\n",
      " [1. 1. 1. 1.]\n",
      " [1. 1. 1. 1.]]\n"
     ]
    }
   ],
   "execution_count": 14
  },
  {
   "cell_type": "markdown",
   "metadata": {},
   "source": [
    "Comprueba que S es simétrica utilizando un operador Booleano"
   ]
  },
  {
   "cell_type": "code",
   "metadata": {
    "ExecuteTime": {
     "end_time": "2024-10-18T07:31:58.678369Z",
     "start_time": "2024-10-18T07:31:58.661019Z"
    }
   },
   "source": [
    "# Completar aquí\n",
    "print(f\"S es simétrica: {np.allclose(S, S.T)}\") \n",
    "# La función 'np.allclose' se usa para evitar errores de redondeo\n",
    "# print(f\"S es simétrica: {S == S.T}\") True\n",
    "# Si hubiera números decimales no habría sido el caso aunque esta vez funcione\n",
    "# --------------------\n"
   ],
   "outputs": [
    {
     "name": "stdout",
     "output_type": "stream",
     "text": [
      "S es simétrica: True\n"
     ]
    }
   ],
   "execution_count": 17
  },
  {
   "cell_type": "markdown",
   "metadata": {},
   "source": [
    "Calcula la inversa de S, su traza, su determinante y su rango,"
   ]
  },
  {
   "cell_type": "code",
   "metadata": {
    "ExecuteTime": {
     "end_time": "2024-10-18T07:33:41.096200Z",
     "start_time": "2024-10-18T07:33:41.079892Z"
    }
   },
   "source": [
    "# Completar aquí\n",
    "S_inv = np.linalg.inv(S)\n",
    "traza = np.trace(S)\n",
    "determinante = np.linalg.det(S)\n",
    "rango = np.linalg.matrix_rank(S)\n",
    "print(f\"Matriz inversa = \\n{S_inv}\")\n",
    "print(f\"Traza = {traza}\")\n",
    "print(f\"Determinante = {determinante}\")\n",
    "print(f\"rango = {rango}\")\n",
    "# --------------------\n"
   ],
   "outputs": [
    {
     "name": "stdout",
     "output_type": "stream",
     "text": [
      "Matriz inversa = \n",
      "[[ 0.02018033  0.00084963  0.00050182 -0.01971355]\n",
      " [ 0.00084963  0.0153955  -0.00391854 -0.01073768]\n",
      " [ 0.00050182 -0.00391854  0.00723647 -0.00428672]\n",
      " [-0.01971355 -0.01073768 -0.00428672  0.03877966]]\n",
      "Traza = 841\n",
      "Determinante = 77883125.99999991\n",
      "rango = 4\n"
     ]
    }
   ],
   "execution_count": 19
  },
  {
   "cell_type": "markdown",
   "metadata": {},
   "source": [
    "## Ejercicio para hacer a mano\n",
    "\n",
    " Sean $u,v$ dos vectores no nulos vistos como matrices columna $n\\times 1$. Observa que $1+v^{\\top}u$ es un escalar, que suponemos no nulo. Prueba que la matriz $A = I+uv^{\\top}$ es no singular y su inversa es\n",
    "$$A^{-1}=I-\\dfrac{uv^{\\top}}{1+v^{\\top}u}$$"
   ]
  },
  {
   "cell_type": "markdown",
   "metadata": {},
   "source": [
    "Elige dos vectores $u= [1, 2, 3]$ y $v=[4, 5, 6]$ de $\\mathbb{R}^3$ y comprueba en Python (no hace falta que lo hagas a mano) que se cumple la identidad anterior"
   ]
  },
  {
   "cell_type": "code",
   "metadata": {
    "ExecuteTime": {
     "end_time": "2024-10-18T07:49:14.687737Z",
     "start_time": "2024-10-18T07:49:14.670302Z"
    }
   },
   "source": [
    "# Completar aquí\n",
    "u = np.array([1,2,3])\n",
    "v = np.array([4,5,6])\n",
    "\n",
    "uv_T = np.outer(u, v) # Producto exterior\n",
    "I = np.eye(3)\n",
    "A = I + uv_T\n",
    "print(f\"u * v.T = \\n{uv_T}\")\n",
    "print(f\"I = \\n{I}\")\n",
    "print(f\"A = \\n{A}\")\n",
    "\n",
    "A_inv = I - uv_T / (1+ (v.T @ u))\n",
    "print(f\"A_inv = \\n{A_inv}\")\n",
    "print(f\"Comprobación: {np.allclose(np.linalg.inv(A), A_inv)}\") \n",
    "# De esta forma comprobamos que A es no singular\n",
    "# --------------------"
   ],
   "outputs": [
    {
     "name": "stdout",
     "output_type": "stream",
     "text": [
      "u @ v.T = \n",
      "[[ 4  5  6]\n",
      " [ 8 10 12]\n",
      " [12 15 18]]\n",
      "I = \n",
      "[[1. 0. 0.]\n",
      " [0. 1. 0.]\n",
      " [0. 0. 1.]]\n",
      "A = \n",
      "[[ 5.  5.  6.]\n",
      " [ 8. 11. 12.]\n",
      " [12. 15. 19.]]\n",
      "A_inv = \n",
      "[[ 0.87878788 -0.15151515 -0.18181818]\n",
      " [-0.24242424  0.6969697  -0.36363636]\n",
      " [-0.36363636 -0.45454545  0.45454545]]\n",
      "Comprobación: True\n"
     ]
    }
   ],
   "execution_count": 38
  },
  {
   "metadata": {},
   "cell_type": "markdown",
   "source": ""
  }
 ],
 "metadata": {
  "kernelspec": {
   "display_name": "base",
   "language": "python",
   "name": "python3"
  },
  "language_info": {
   "codemirror_mode": {
    "name": "ipython",
    "version": 3
   },
   "file_extension": ".py",
   "mimetype": "text/x-python",
   "name": "python",
   "nbconvert_exporter": "python",
   "pygments_lexer": "ipython3",
   "version": "3.9.7"
  },
  "orig_nbformat": 4
 },
 "nbformat": 4,
 "nbformat_minor": 2
}
