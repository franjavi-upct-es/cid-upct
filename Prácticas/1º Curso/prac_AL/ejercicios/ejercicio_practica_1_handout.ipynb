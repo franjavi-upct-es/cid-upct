{
 "cells": [
  {
   "cell_type": "markdown",
   "metadata": {},
   "source": [
    "# Práctica 1: Ejercicio para entregar. \n",
    "\n",
    "## Números reales y complejos en Python\n"
   ]
  },
  {
   "cell_type": "markdown",
   "metadata": {},
   "source": [
    "Partimos de tu número de DNI, que debe contener 9 dígitos.\n",
    "DNI = abcdefgh  . Por ejemplo, DNI = 23982606"
   ]
  },
  {
   "cell_type": "markdown",
   "metadata": {},
   "source": [
    "Calcula la distancia a tu DNI del número más próximo. \n",
    "También la distancia del inverso (1/DNI) al número más próximo"
   ]
  },
  {
   "cell_type": "code",
   "execution_count": 2,
   "metadata": {},
   "outputs": [
    {
     "name": "stdout",
     "output_type": "stream",
     "text": [
      "Número más próximo a mi DNI: 3.725290298461914e-09\n",
      "Número más próximo al inverso de mi DNI: 6.617444900424222e-24\n"
     ]
    }
   ],
   "source": [
    "# Completar aquí\n",
    "import numpy as np\n",
    "\n",
    "dni = 26649110\n",
    "\n",
    "next_number_dni = np.spacing(dni)\n",
    "print(f\"Número más próximo a mi DNI: {next_number_dni}\")\n",
    "\n",
    "dni_inv = 1/dni\n",
    "\n",
    "next_number_dni_inv = np.spacing(dni_inv)\n",
    "print(f'Número más próximo al inverso de mi DNI: {next_number_dni_inv}')\n",
    "# --------------------\n"
   ]
  },
  {
   "cell_type": "markdown",
   "metadata": {},
   "source": [
    "Define una función que multiplique y divida $100$ veces a tu número de DNI el \n",
    "número $1/10$.\n",
    "Imprime en pantalla el valor resultante y ejecuta un operador booleano para \n",
    "averiguar si el valor obtenido coincide con tu DNI.\n",
    "\n",
    "¿Obtienes tu DNI? ¿Por qué?"
   ]
  },
  {
   "cell_type": "code",
   "execution_count": 3,
   "metadata": {},
   "outputs": [
    {
     "name": "stdout",
     "output_type": "stream",
     "text": [
      "26649110.00000001\n"
     ]
    }
   ],
   "source": [
    "# Completar aquí\n",
    "def mul_and_div_dni(dni):\n",
    "    for i in range(101):\n",
    "        dni *= 1/10\n",
    "\n",
    "    for j in range(101):\n",
    "        dni /= 1/10\n",
    "    print(dni)\n",
    "\n",
    "mul_and_div_dni(dni) # No devuelve exactamente el DNI debido a un error de redondeo\n",
    "# --------------------\n"
   ]
  },
  {
   "cell_type": "markdown",
   "metadata": {},
   "source": [
    "Consider los números complejos $z_1 = a + bj$ y $z_2 = g + hj$.\n",
    "Calcula la forma polar de ambos números. Expresa la fase en grados"
   ]
  },
  {
   "cell_type": "code",
   "execution_count": 12,
   "metadata": {},
   "outputs": [
    {
     "name": "stdout",
     "output_type": "stream",
     "text": [
      "Forma polar de z_1: (r=5.385164807134504, θ=68.19859051364818º)\n",
      "Forma polar de z_2: (r=9.848857801796104, θ=66.03751102542182º)\n"
     ]
    }
   ],
   "source": [
    "# Completar aquí\n",
    "import cmath\n",
    "import math\n",
    "\n",
    "# Números complejos\n",
    "z_1 = complex(2, 5)\n",
    "z_2 = complex(4, 9)\n",
    "\n",
    "# Conversión a forma polar\n",
    "r1, theta1 = cmath.polar(z_1)\n",
    "r2, theta2 = cmath.polar(z_2)\n",
    "\n",
    "# Convertir de radianes a grados\n",
    "theta1_deg = np.rad2deg(theta1)\n",
    "theta2_deg = np.rad2deg(theta2)\n",
    "\n",
    "print(f\"Forma polar de z_1: (r={r1}, θ={theta1_deg}º)\")\n",
    "print(f\"Forma polar de z_2: (r={r2}, θ={theta2_deg}º)\")\n",
    "# --------------------\n"
   ]
  },
  {
   "cell_type": "markdown",
   "metadata": {},
   "source": [
    "\n",
    "Realiza las siguientes operaciones  usando ambos los módulos **cmath** y **numpy**:\n",
    "\n",
    "$z_1 + z_2$, $z_1 - z_2$, $z_1 * z_2$, $z_1 / z_2$, $z_2^3$  y \n",
    "conjugado de $z_1$"
   ]
  },
  {
   "cell_type": "code",
   "execution_count": 5,
   "metadata": {},
   "outputs": [
    {
     "name": "stdout",
     "output_type": "stream",
     "text": [
      "z_1 + z_2 = (6+14j)\n",
      "z_1 - z_2 = (-2-4j)\n",
      "z_1 * z_2 = (-37+38j)\n",
      "z_1 / z_2 = (0.5463917525773195+0.020618556701030914j)\n",
      "z_2^3 = (-908-297j)\n",
      "Conjugado de z_1 = (2-5j)\n"
     ]
    }
   ],
   "source": [
    "# Completar aquí\n",
    "import numpy as np\n",
    "\n",
    "# Operaciones\n",
    "suma = z_1 + z_2\n",
    "resta = z_1 - z_2\n",
    "producto = z_1 * z_2\n",
    "division = z_1 / z_2\n",
    "potencia_z2 = z_2 ** 3\n",
    "conjugado_z1 = np.conjugate(z_1)\n",
    "\n",
    "print(f\"z_1 + z_2 = {suma}\")\n",
    "print(f\"z_1 - z_2 = {resta}\")\n",
    "print(f\"z_1 * z_2 = {producto}\")\n",
    "print(f\"z_1 / z_2 = {division}\")\n",
    "print(f\"z_2^3 = {potencia_z2}\")\n",
    "print(f\"Conjugado de z_1 = {conjugado_z1}\")\n",
    "# --------------------\n"
   ]
  },
  {
   "cell_type": "markdown",
   "metadata": {},
   "source": [
    "Introduce el número compelo $z = e^{2\\pi j/ 8}$ y calcula\n",
    "$z^k$ para $1\\leq k\\leq 9$\n",
    "\n",
    "¿Es $z = z^9$ ? ¿Por qué?"
   ]
  },
  {
   "cell_type": "code",
   "execution_count": 6,
   "metadata": {},
   "outputs": [
    {
     "name": "stdout",
     "output_type": "stream",
     "text": [
      "z^1 = (0.7071067811865476+0.7071067811865475j)\n",
      "z^2 = (1.7938038903913487e-16+1j)\n",
      "z^3 = (-0.7071067811865474+0.7071067811865477j)\n",
      "z^4 = (-1+3.5876077807826975e-16j)\n",
      "z^5 = (-0.7071067811865478-0.7071067811865472j)\n",
      "z^6 = (-5.381411671174046e-16-1j)\n",
      "z^7 = (0.7071067811865471-0.7071067811865479j)\n",
      "z^8 = (1-7.175215561565395e-16j)\n",
      "z^9 = (0.7071067811865481+0.7071067811865469j)\n"
     ]
    }
   ],
   "source": [
    "# Completar aquí\n",
    "# Definir z\n",
    "z = cmath.exp(2j * cmath.pi / 8)\n",
    "\n",
    "# Calcular z^k para k entre 1 y 9\n",
    "for k in range(1, 10):\n",
    "    z_k = z**k\n",
    "    print(f\"z^{k} = {z_k}\")\n",
    "# --------------------\n"
   ]
  },
  {
   "cell_type": "markdown",
   "metadata": {},
   "source": [
    "**Este ejercicio también se ha de hacer con bolígrafo y papel.**\n",
    "\n",
    "Consideremos la función $f(t) = j \\frac{1}{1 + t}e^{ j (t + \\frac{\\pi}{2})}, \\quad 0\\leq t\\leq 4\\pi .$\n",
    "\n",
    "Se pide:\n",
    "\n",
    "1) Calcula el módulo y la fase (o argumento principal) de $f(t)$ en papel. En Python toma $t=1$.\n",
    "\n",
    "2) Calcula la forma binómica de $f(t)$ en papel. En Python toma $t=1$.\n",
    "\n",
    "3) Calcula $\\frac{1}{f(t)}$ y expresa el resultado en forma binómica en papel. En Python toma $t=1$.\n",
    "\n",
    "4) Calcula $f^2(t)$ y $f(t) + \\frac{1}{f(t)}$ y expresa el resultado en forma binómica en papel. En Python toma $t=1$.\n",
    "\n",
    "5) Haz un gráfico $f$, es decir representa en el eje $X$ la parte real de $f$ y en el eje $Y$ la parte imaginaria. Hazlo sólo en Python.\n",
    "\n",
    "6) Haz un gráfico de $\\text{Re}f(t)$ e $\\text{Im}f(t)$.  Hazlo sólo en Python."
   ]
  },
  {
   "cell_type": "code",
   "execution_count": 13,
   "metadata": {},
   "outputs": [
    {
     "name": "stdout",
     "output_type": "stream",
     "text": [
      "Módulo de f(t) en t=1: 0.49999999999999994\n",
      "Argumento de f(t) en t=1: -0.5707963267948967\n",
      "Forma binómica de f(t) con t=1: 0.4207354924039482 + -0.2701511529340699j\n"
     ]
    }
   ],
   "source": [
    "# Completar aquí\n",
    "def f(t):\n",
    "    return (1j/(1+t))*cmath.exp(1j*(t+cmath.pi))\n",
    "\n",
    "t = 1\n",
    "\n",
    "# 1)\n",
    "print(f\"Módulo de f(t) en t=1: {abs(f(t))}\")\n",
    "print(f\"Argumento de f(t) en t=1: {cmath.phase(f(t))}\")\n",
    "\n",
    "# 2)\n",
    "parte_real = f(t).real\n",
    "parte_imaginaria = f(t).imag\n",
    "\n",
    "print(f\"Forma binómica de f(t) con t=1: {parte_real} + {parte_imaginaria}j\")\n",
    "# --------------------\n"
   ]
  },
  {
   "cell_type": "code",
   "execution_count": null,
   "metadata": {},
   "outputs": [],
   "source": []
  }
 ],
 "metadata": {
  "interpreter": {
   "hash": "c9e6f42c9bf154cf9b9e87541e517fa2c69e39349a7d6df0c90be082366bd360"
  },
  "kernelspec": {
   "display_name": "Python 3 (ipykernel)",
   "language": "python",
   "name": "python3"
  },
  "language_info": {
   "codemirror_mode": {
    "name": "ipython",
    "version": 3
   },
   "file_extension": ".py",
   "mimetype": "text/x-python",
   "name": "python",
   "nbconvert_exporter": "python",
   "pygments_lexer": "ipython3",
   "version": "3.11.0"
  }
 },
 "nbformat": 4,
 "nbformat_minor": 4
}
