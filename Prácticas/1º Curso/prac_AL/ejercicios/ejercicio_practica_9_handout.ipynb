{
 "cells": [
  {
   "cell_type": "markdown",
   "metadata": {},
   "source": [
    "# Práctica 9: Ejercicio para entregar. \n",
    "## Métodos iterativos para la resolución de sistemas lineales\n"
   ]
  },
  {
   "cell_type": "markdown",
   "metadata": {},
   "source": [
    "Consideremos la matriz de Toeplitz en dimensión $n$:\n",
    "$$\n",
    "K_n = \\left[\n",
    "    \\begin{array}{ccccccc}\n",
    "    2 & -1 & 0 & 0 & 0 & \\cdots & 0 \\\\ \n",
    "    -1 & 2 & -1 & 0 & 0 &\\cdots & 0 \\\\\n",
    "    0 & -1 & 2 & -1 & 0 &\\cdots & 0 \\\\\n",
    "    \\vdots & \\vdots & \\vdots & \\vdots & \\vdots & \\vdots & \\vdots \\\\\n",
    "    0 & 0 & 0 & \\cdots & -1 & 2 & -1\\\\\n",
    "    0 & 0 & 0 & \\cdots & 0 & -1 & 2\\\\\n",
    "    \\end{array}\n",
    "    \\right]\n",
    "$$"
   ]
  },
  {
   "cell_type": "markdown",
   "metadata": {},
   "source": [
    "Define una función cuya entrada sea $n$, y cuya salida sea la matriz de Toeplitz en dimensión $n$. Has de usar los métodos de Python sobre matrices **sparse**, en concreto **csr_matrix**.\n",
    "\n",
    "Ejecuta dicha función para el caso $n=6$ e imprime el resultado en pantalla y en forma matriz densa, para asegurarte que está bien implmentada."
   ]
  },
  {
   "cell_type": "code",
   "metadata": {
    "ExecuteTime": {
     "end_time": "2024-11-23T17:52:36.719148Z",
     "start_time": "2024-11-23T17:52:36.137Z"
    }
   },
   "source": [
    "# Completar aquí\n",
    "import numpy as np\n",
    "from scipy.sparse import csr_matrix\n",
    "\n",
    "def MatrizToeplitz(n):\n",
    "    FilaIndex = np.zeros(4 + (n-2)*3, dtype=int)\n",
    "    ColumnIndex = np.zeros(4 + (n-2)*3, dtype=int)\n",
    "    Data = np.zeros(4 + (n-2)*3, dtype=int)\n",
    "\n",
    "    FilaIndex[0] = 0  # Cambiar a 0 ya que las matrices en Python son de base 0\n",
    "    ColumnIndex[0] = 0\n",
    "    Data[0] = 2\n",
    "\n",
    "    FilaIndex[1] = 0\n",
    "    ColumnIndex[1] = 1\n",
    "    Data[1] = -1\n",
    "\n",
    "    FilaIndex[2 + 3*(n-2)] = n - 1\n",
    "    ColumnIndex[2 + 3*(n-2)] = n - 2\n",
    "    Data[2 + 3*(n-2)] = -1\n",
    "\n",
    "    FilaIndex[2 + 3*(n-2) + 1] = n - 1\n",
    "    ColumnIndex[2 + 3*(n-2) + 1] = n - 1\n",
    "    Data[2 + 3*(n-2) + 1] = 2\n",
    "\n",
    "    for i in range(2, n):\n",
    "        FilaIndex[2 + (i-2)*3] = i - 1\n",
    "        FilaIndex[2 + (i-2)*3 + 1] = i - 1\n",
    "        FilaIndex[2 + (i-2)*3 + 2] = i - 1\n",
    "\n",
    "        ColumnIndex[2 + (i-2)*3] = i - 2\n",
    "        ColumnIndex[2 + (i-2)*3 + 1] = i - 1\n",
    "        ColumnIndex[2 + (i-2)*3 + 2] = i\n",
    "\n",
    "        Data[2 + (i-2)*3] = -1\n",
    "        Data[2 + (i-2)*3 + 1] = 2\n",
    "        Data[2 + (i-2)*3 + 2] = -1\n",
    "\n",
    "    toeplitz = csr_matrix((Data, (FilaIndex, ColumnIndex)), shape=(n, n))\n",
    "    return toeplitz\n",
    "\n",
    "# Ejemplo de uso\n",
    "n = 6\n",
    "print(f'Matriz en formato sparse: \\n {MatrizToeplitz(n)}')\n",
    "print(f'Matriz en formato dense: \\n {MatrizToeplitz(n).todense()}')\n",
    "# --------------------\n"
   ],
   "outputs": [
    {
     "name": "stdout",
     "output_type": "stream",
     "text": [
      "Matriz en formato sparse: \n",
      "   (np.int32(0), np.int32(0))\t2\n",
      "  (np.int32(0), np.int32(1))\t-1\n",
      "  (np.int32(1), np.int32(0))\t-1\n",
      "  (np.int32(1), np.int32(1))\t2\n",
      "  (np.int32(1), np.int32(2))\t-1\n",
      "  (np.int32(2), np.int32(1))\t-1\n",
      "  (np.int32(2), np.int32(2))\t2\n",
      "  (np.int32(2), np.int32(3))\t-1\n",
      "  (np.int32(3), np.int32(2))\t-1\n",
      "  (np.int32(3), np.int32(3))\t2\n",
      "  (np.int32(3), np.int32(4))\t-1\n",
      "  (np.int32(4), np.int32(3))\t-1\n",
      "  (np.int32(4), np.int32(4))\t2\n",
      "  (np.int32(4), np.int32(5))\t-1\n",
      "  (np.int32(5), np.int32(4))\t-1\n",
      "  (np.int32(5), np.int32(5))\t2\n",
      "Matriz en formato dense: \n",
      " [[ 2 -1  0  0  0  0]\n",
      " [-1  2 -1  0  0  0]\n",
      " [ 0 -1  2 -1  0  0]\n",
      " [ 0  0 -1  2 -1  0]\n",
      " [ 0  0  0 -1  2 -1]\n",
      " [ 0  0  0  0 -1  2]]\n"
     ]
    }
   ],
   "execution_count": 1
  },
  {
   "cell_type": "markdown",
   "metadata": {},
   "source": [
    "Genera dos ficheros con extensión .py\n",
    "\n",
    "El primero de ellos se ha de llamar jacobi.py y ha de contener la función jacobi que está en la práctica 9. El segundo se ha de llamar gauss_seidel.py y ha de contener la función gauss_seidel de la misma práctica."
   ]
  },
  {
   "cell_type": "markdown",
   "metadata": {},
   "source": [
    "Importa ambas funciones a este fichero. Por ejemplo, para jacobi.py, esto se hace así: **from jacobi import jacobi**. Lo mismo para gauss-seidel."
   ]
  },
  {
   "cell_type": "code",
   "metadata": {
    "ExecuteTime": {
     "end_time": "2024-11-23T17:52:36.749175Z",
     "start_time": "2024-11-23T17:52:36.726634Z"
    }
   },
   "source": [
    "# Completar aquí\n",
    "from jacobi import jacobi\n",
    "from gauss_seidel import gauss_seidel\n",
    "# --------------------\n"
   ],
   "outputs": [],
   "execution_count": 2
  },
  {
   "cell_type": "markdown",
   "metadata": {},
   "source": [
    "Toma $n$ igual a las dos últimas cifras de tu DNI y genera un 1d-array (vector) de dimensión $n$ con todas sus componentes igual a 1. Denótalo $b$.\n",
    "\n",
    "Se muestran a continuación los resultados para $n=66$."
   ]
  },
  {
   "cell_type": "code",
   "metadata": {
    "ExecuteTime": {
     "end_time": "2024-11-23T17:52:36.888171Z",
     "start_time": "2024-11-23T17:52:36.873517Z"
    }
   },
   "source": [
    "# Completar aquí\n",
    "n = 10\n",
    "b = np.ones(n)\n",
    "print(f\"b = {b}\")\n",
    "print(np.ones(66))\n",
    "# --------------------\n"
   ],
   "outputs": [
    {
     "name": "stdout",
     "output_type": "stream",
     "text": [
      "b = [1. 1. 1. 1. 1. 1. 1. 1. 1. 1.]\n",
      "[1. 1. 1. 1. 1. 1. 1. 1. 1. 1. 1. 1. 1. 1. 1. 1. 1. 1. 1. 1. 1. 1. 1. 1.\n",
      " 1. 1. 1. 1. 1. 1. 1. 1. 1. 1. 1. 1. 1. 1. 1. 1. 1. 1. 1. 1. 1. 1. 1. 1.\n",
      " 1. 1. 1. 1. 1. 1. 1. 1. 1. 1. 1. 1. 1. 1. 1. 1. 1. 1.]\n"
     ]
    }
   ],
   "execution_count": 3
  },
  {
   "cell_type": "markdown",
   "metadata": {},
   "source": [
    "Para el valor de $n$ que has tomado anteriormente, resuelve el sistema $K_n x = b$ mediante ambos, los métodos de Jacobi y Gauss-Seidel, y haciendo uso de las funciones que acabas de importar.\n",
    "\n"
   ]
  },
  {
   "cell_type": "code",
   "metadata": {
    "ExecuteTime": {
     "end_time": "2024-11-23T17:52:36.982829Z",
     "start_time": "2024-11-23T17:52:36.897609Z"
    }
   },
   "source": [
    "# Completar aquí\n",
    "K = MatrizToeplitz(n).todense()\n",
    "x_jacobi = jacobi(K, b)\n",
    "x_gaus_seidel = gauss_seidel(K, b)\n",
    "print(f\"Utilizando el método de Jacobi: x = \\n{x_jacobi}\")\n",
    "print(f\"Utilizando el método de Gauss-Seidel: x = \\n{x_gaus_seidel}\")\n",
    "# --------------------\n"
   ],
   "outputs": [
    {
     "name": "stdout",
     "output_type": "stream",
     "text": [
      "Utilizando el método de Jacobi: x = \n",
      "[ 4.99999999  8.99999998 11.99999997 13.99999997 14.99999997 14.99999997\n",
      " 13.99999997 11.99999997  8.99999998  4.99999999]\n",
      "Utilizando el método de Gauss-Seidel: x = \n",
      "[ 4.99999999  8.99999999 11.99999999 13.99999998 14.99999998 14.99999998\n",
      " 13.99999999 11.99999999  8.99999999  5.        ]\n"
     ]
    }
   ],
   "execution_count": 4
  },
  {
   "cell_type": "markdown",
   "metadata": {},
   "source": [
    "Calcula las normas 2 e infinito de la diferencia de ambas soluciones"
   ]
  },
  {
   "cell_type": "code",
   "metadata": {
    "ExecuteTime": {
     "end_time": "2024-11-23T17:52:37.013986Z",
     "start_time": "2024-11-23T17:52:37.000910Z"
    }
   },
   "source": [
    "# Completar aquí\n",
    "print(f\"Norma 2 = {np.linalg.norm(x_jacobi - x_gaus_seidel, ord=2)}\")\n",
    "print(f\"Norma infinito = {np.linalg.norm(x_jacobi - x_gaus_seidel, ord=np.inf)}\")\n",
    "# --------------------\n"
   ],
   "outputs": [
    {
     "name": "stdout",
     "output_type": "stream",
     "text": [
      "Norma 2 = 4.1457714793631194e-08\n",
      "Norma infinito = 1.78402892458962e-08\n"
     ]
    }
   ],
   "execution_count": 5
  }
 ],
 "metadata": {
  "kernelspec": {
   "display_name": "Python 3.8.5 ('base')",
   "language": "python",
   "name": "python3"
  },
  "language_info": {
   "codemirror_mode": {
    "name": "ipython",
    "version": 3
   },
   "file_extension": ".py",
   "mimetype": "text/x-python",
   "name": "python",
   "nbconvert_exporter": "python",
   "pygments_lexer": "ipython3",
   "version": "3.8.5"
  },
  "orig_nbformat": 4,
  "vscode": {
   "interpreter": {
    "hash": "c9e6f42c9bf154cf9b9e87541e517fa2c69e39349a7d6df0c90be082366bd360"
   }
  }
 },
 "nbformat": 4,
 "nbformat_minor": 2
}
