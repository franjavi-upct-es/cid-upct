{
 "cells": [
  {
   "cell_type": "markdown",
   "metadata": {},
   "source": [
    "# Práctica 7: Ejercicio para entregar. \n",
    "## Tensores en Ciencia de Datos.\n",
    "\n"
   ]
  },
  {
   "cell_type": "markdown",
   "metadata": {},
   "source": [
    "El fichero la_manga.jpg contiene dos fotos de La Manga del Mar Menor, una de los años 60 y otra actual. \n",
    "\n",
    "![imagen de La Manga del Mar Menor en los años 60 y en la actualidad](../data/la_manga.jpg)"
   ]
  },
  {
   "cell_type": "markdown",
   "metadata": {},
   "source": [
    "Carga dicho fichero y convierte la imagen en un tensor. A continuación, imprime por pantalla el tensor asociado a la imagen y guárdalo en la carpeta data con el nombre **tensor_la_manga.npy**\n",
    "\n"
   ]
  },
  {
   "cell_type": "code",
   "execution_count": 1,
   "metadata": {
    "ExecuteTime": {
     "end_time": "2024-10-25T17:23:00.192543Z",
     "start_time": "2024-10-25T17:22:59.379646Z"
    }
   },
   "outputs": [],
   "source": [
    "import numpy as np\n",
    "from PIL import Image"
   ]
  },
  {
   "cell_type": "code",
   "execution_count": 2,
   "metadata": {
    "ExecuteTime": {
     "end_time": "2024-10-25T17:23:01.048344Z",
     "start_time": "2024-10-25T17:23:00.963599Z"
    }
   },
   "outputs": [
    {
     "name": "stdout",
     "output_type": "stream",
     "text": [
      "Tensor asociado = \n",
      "[[[192 192 192]\n",
      "  [190 190 190]\n",
      "  [189 189 189]\n",
      "  ...\n",
      "  [149 176 195]\n",
      "  [149 176 195]\n",
      "  [149 176 195]]\n",
      "\n",
      " [[193 193 193]\n",
      "  [191 191 191]\n",
      "  [189 189 189]\n",
      "  ...\n",
      "  [148 175 194]\n",
      "  [148 175 194]\n",
      "  [148 175 194]]\n",
      "\n",
      " [[194 194 194]\n",
      "  [192 192 192]\n",
      "  [190 190 190]\n",
      "  ...\n",
      "  [146 173 192]\n",
      "  [146 173 192]\n",
      "  [146 173 192]]\n",
      "\n",
      " ...\n",
      "\n",
      " [[184 184 184]\n",
      "  [143 143 143]\n",
      "  [121 121 121]\n",
      "  ...\n",
      "  [ 59  89  81]\n",
      "  [ 63  90  83]\n",
      "  [ 61  91  83]]\n",
      "\n",
      " [[174 174 174]\n",
      "  [133 133 133]\n",
      "  [119 119 119]\n",
      "  ...\n",
      "  [ 63  94  86]\n",
      "  [ 66  96  88]\n",
      "  [ 66  97  89]]\n",
      "\n",
      " [[160 160 160]\n",
      "  [123 123 123]\n",
      "  [117 117 117]\n",
      "  ...\n",
      "  [ 67  98  90]\n",
      "  [ 70 101  93]\n",
      "  [ 70 101  93]]]\n"
     ]
    }
   ],
   "source": [
    "# Completar aquí\n",
    "img = Image.open('../data/la_manga.jpg')\n",
    "imgarray = np.array(img)\n",
    "print(f\"Tensor asociado = \\n{imgarray}\")\n",
    "# --------------------\n"
   ]
  },
  {
   "cell_type": "markdown",
   "metadata": {},
   "source": [
    "Calcula la forma y dimensión del tensor generado. "
   ]
  },
  {
   "cell_type": "code",
   "execution_count": 3,
   "metadata": {
    "ExecuteTime": {
     "end_time": "2024-10-25T17:23:39.436997Z",
     "start_time": "2024-10-25T17:23:39.428353Z"
    }
   },
   "outputs": [
    {
     "name": "stdout",
     "output_type": "stream",
     "text": [
      "Forma del tensor = (720, 960, 3)\n",
      "Dimensión del tensor = 3\n"
     ]
    }
   ],
   "source": [
    "# Completar aquí\n",
    "print(f\"Forma del tensor = {imgarray.shape}\")\n",
    "print(f\"Dimensión del tensor = {imgarray.ndim}\")\n",
    "# --------------------\n"
   ]
  },
  {
   "cell_type": "markdown",
   "metadata": {},
   "source": [
    "Utiliza la técnica de **slicing** que vimos en la práctica 3 para generar dos vectores. Uno de ellos, denotado **v1** se ha de corresponder con la primera fila del tensor que ves por pantalla; el segundo vector, **v2**, está formado por la segunda fila que ves por pantalla.  "
   ]
  },
  {
   "cell_type": "code",
   "execution_count": 4,
   "metadata": {
    "ExecuteTime": {
     "end_time": "2024-10-25T17:31:13.945836Z",
     "start_time": "2024-10-25T17:31:13.939622Z"
    }
   },
   "outputs": [
    {
     "name": "stdout",
     "output_type": "stream",
     "text": [
      "v1 = [192 192 192]\n",
      "v2 = [190 190 190]\n"
     ]
    }
   ],
   "source": [
    "# Completar aquí\n",
    "v1 = imgarray[0, 0, :]\n",
    "v2 = imgarray[0, 1, :]\n",
    "print(f\"v1 = {v1}\")\n",
    "print(f\"v2 = {v2}\")\n",
    "# --------------------\n"
   ]
  },
  {
   "cell_type": "markdown",
   "metadata": {},
   "source": [
    "Calcula:\n",
    "\n",
    "1) el producto tensorial de **v1** y **v2**\n",
    "\n",
    "2) el producto de Hadamard de **v1** y **v2**\n",
    "\n",
    "3) el producto escalar de **v1** y **v2**"
   ]
  },
  {
   "cell_type": "code",
   "execution_count": 5,
   "metadata": {
    "ExecuteTime": {
     "end_time": "2024-10-25T17:36:42.059913Z",
     "start_time": "2024-10-25T17:36:42.039457Z"
    }
   },
   "outputs": [
    {
     "name": "stdout",
     "output_type": "stream",
     "text": [
      "v1 ⊗ v2 = \n",
      "[[128 128 128]\n",
      " [128 128 128]\n",
      " [128 128 128]]\n",
      "v1 * v2 = [128 128 128]\n",
      "Producto escalar de v1 y v2 = 128\n"
     ]
    }
   ],
   "source": [
    "# Completar aquí\n",
    "print(f\"v1 ⊗ v2 = \\n{np.tensordot(v1, v2, axes=0)}\")\n",
    "print(f\"v1 * v2 = {v1 * v2}\")\n",
    "print(f\"Producto escalar de v1 y v2 = {np.tensordot(v1, v2, axes=1)}\")\n",
    "# --------------------\n"
   ]
  },
  {
   "cell_type": "markdown",
   "metadata": {},
   "source": [
    "Introduce manualmente, usando **np.array()**, los vectores **v1** y **v2** anteriores y denótaos por **z1** y **z2**, respectivamente.\n",
    "\n",
    "A contrinuación realiza los mismos cálculos (producto tensorial, producto de Hadamard y producto escalar) con los vectores **z1** y **z2**."
   ]
  },
  {
   "cell_type": "code",
   "execution_count": 6,
   "metadata": {
    "ExecuteTime": {
     "end_time": "2024-10-25T17:39:01.471040Z",
     "start_time": "2024-10-25T17:39:01.461358Z"
    }
   },
   "outputs": [
    {
     "name": "stdout",
     "output_type": "stream",
     "text": [
      "z1 ⊗ z2 = \n",
      "[[36480 36480 36480]\n",
      " [36480 36480 36480]\n",
      " [36480 36480 36480]]\n",
      "z1 * z2 = [36480 36480 36480]\n",
      "Producto escalar de z1 y z2 = 109440\n"
     ]
    }
   ],
   "source": [
    "# Completar aquí\n",
    "z1 = np.array([192, 192, 192])\n",
    "z2 = np.array([190, 190, 190])\n",
    "\n",
    "print(f\"z1 ⊗ z2 = \\n{np.tensordot(z1, z2, axes=0)}\")\n",
    "print(f\"z1 * z2 = {z1 * z2}\")\n",
    "print(f\"Producto escalar de z1 y z2 = {np.tensordot(z1, z2, axes=1)}\")\n",
    "\n",
    "# --------------------\n"
   ]
  },
  {
   "cell_type": "markdown",
   "metadata": {},
   "source": [
    "Como puedes ver, obtienes resultados distintos. \n",
    "\n",
    "Busca una explicación convincente para esta discrepancia de resultados.\n",
    "Te puede resultar útil estudiar los atributos **shape**, **type** y **dtype** de los vectores **v1**, **v2**, **z1** y **z2**.\n",
    "\n",
    "Investiga y dí todo lo que sepas sobre este asunto."
   ]
  },
  {
   "cell_type": "code",
   "execution_count": 7,
   "metadata": {},
   "outputs": [
    {
     "name": "stdout",
     "output_type": "stream",
     "text": [
      "Forma (Shape)\n",
      "(3,)\n",
      "(3,)\n",
      "(3,)\n",
      "(3,)\n",
      "\n",
      "Tipos\n",
      "<class 'numpy.ndarray'>\n",
      "<class 'numpy.ndarray'>\n",
      "<class 'numpy.ndarray'>\n",
      "<class 'numpy.ndarray'>\n",
      "\n",
      "Tipo de Datos (dtype)\n",
      "uint8\n",
      "uint8\n",
      "int32\n",
      "int32\n"
     ]
    }
   ],
   "source": [
    "# Completar aquí\n",
    "print(\"Forma (Shape)\")\n",
    "print(v1.shape)\n",
    "print(v2.shape)\n",
    "print(z1.shape)\n",
    "print(z2.shape)\n",
    "print()\n",
    "print(\"Tipos\")\n",
    "print(type(v1))\n",
    "print(type(v2))\n",
    "print(type(z1))\n",
    "print(type(z2))\n",
    "print()\n",
    "print(\"Tipo de Datos (dtype)\")\n",
    "print(v1.dtype)\n",
    "print(v2.dtype)\n",
    "print(z1.dtype)\n",
    "print(z2.dtype)\n",
    "# --------------------\n"
   ]
  },
  {
   "cell_type": "markdown",
   "metadata": {},
   "source": [
    "### Discrepacia de resultados entre `v1`, `v2` y `z1`, `z2`\n",
    "\n",
    "La discrepacia en los resultados se debe a la diferencia en los tipos de datos (`dtype`). Los tipos de datos afectan cómo se realizan las operaciones matemáticas en los tensores.\n",
    "- `uint8` **vs** `int32`:\n",
    "    - `uint8` representa enteros sin signo. Esto significa que no puede almacenar valores negativas y puede provocar un comportamiento inesperado en ciertas operaciones matemáticas, como desvordamiento.\n",
    "    - `int32` representa enteros con signo. Puede almacenar valores negativos y tiene un rango mucho más amplio."
   ]
  }
 ],
 "metadata": {
  "kernelspec": {
   "display_name": "optim-2",
   "language": "python",
   "name": "python3"
  },
  "language_info": {
   "codemirror_mode": {
    "name": "ipython",
    "version": 3
   },
   "file_extension": ".py",
   "mimetype": "text/x-python",
   "name": "python",
   "nbconvert_exporter": "python",
   "pygments_lexer": "ipython3",
   "version": "3.9.12"
  },
  "orig_nbformat": 4
 },
 "nbformat": 4,
 "nbformat_minor": 2
}
