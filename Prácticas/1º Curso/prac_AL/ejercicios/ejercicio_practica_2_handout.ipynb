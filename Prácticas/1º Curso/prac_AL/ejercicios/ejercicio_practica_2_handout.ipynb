{
 "cells": [
  {
   "cell_type": "markdown",
   "metadata": {},
   "source": [
    "# Práctica 2: Ejercicio para entregar \n",
    "\n",
    "## Introducción a N-dimensional arrays en Python\n"
   ]
  },
  {
   "cell_type": "code",
   "metadata": {
    "ExecuteTime": {
     "end_time": "2024-10-05T11:44:55.505787Z",
     "start_time": "2024-10-05T11:44:54.895730Z"
    }
   },
   "source": [
    "import numpy as np"
   ],
   "outputs": [],
   "execution_count": 1
  },
  {
   "cell_type": "markdown",
   "metadata": {},
   "source": [
    "Partimos de tu número de DNI, que debe contener 9 dígitos.\n",
    "DNI = abcdefgh  . Por ejemplo, DNI = 23982606"
   ]
  },
  {
   "cell_type": "markdown",
   "metadata": {},
   "source": [
    "Introduce tu DNI en forma de 1d-array e imprimelo junto con sus atributos forma, tamaño y tipo"
   ]
  },
  {
   "cell_type": "code",
   "metadata": {
    "ExecuteTime": {
     "end_time": "2024-10-05T11:44:55.583095Z",
     "start_time": "2024-10-05T11:44:55.561053Z"
    }
   },
   "source": [
    "# Completar aquí\n",
    "dni = np.array([2,6,6,4,9,1,1,0])\n",
    "print(f\"DNI: {dni}\")\n",
    "print(dni.shape)\n",
    "print(dni.size)\n",
    "print(dni.dtype)\n",
    "\n",
    "# --------------------\n"
   ],
   "outputs": [
    {
     "name": "stdout",
     "output_type": "stream",
     "text": [
      "DNI: [2 6 6 4 9 1 1 0]\n",
      "(8,)\n",
      "8\n",
      "int64\n"
     ]
    }
   ],
   "execution_count": 2
  },
  {
   "cell_type": "markdown",
   "metadata": {},
   "source": [
    "Define e imprimer los siguientes ndarrays:\n",
    "\n",
    "1) Una matriz cuadrada de unos y de tamaño el dígito más grande de tu DNI.\n",
    "\n",
    "2) Una matriz de tamaño $m\\times n$, donde $m$ es el dígito más pequeño (excluido el $0$) de tu DNI, y $n$ el dígito más grande, cuyas entradas sean todo cero.\n",
    "\n",
    "3) Un vector cuyo primer elemento sea el dígito más pequeño de tu DNI, cuyo último elemento sea el dígito más grande, y que contenga $5$ elementos equiespaciados.\n",
    "\n",
    "4) Un vector cuyo primer elemento sea el dígito más pequeño de tu DNI, el último el dígito más grande y donde cada elemento del array esté separado del siguiente en una unidad. "
   ]
  },
  {
   "cell_type": "code",
   "metadata": {
    "ExecuteTime": {
     "end_time": "2024-10-05T11:51:05.358591Z",
     "start_time": "2024-10-05T11:51:05.345448Z"
    }
   },
   "source": [
    "# Completar aquí\n",
    "n = max(dni)\n",
    "m = min([x for x in dni if x != 0]) # Con este bucle y condición se evita que tome el 0 como más pequeño\n",
    "ones = np.ones([n, n])\n",
    "zeros = np.zeros([m, n])\n",
    "vector1 = np.linspace(m, n, 5)\n",
    "vector2 = np.arange(m, n+1) # Este ajuste evita el mismo problema que tendríamos con una lista\n",
    "print(f'M_unos = \\n {ones}')\n",
    "print(f'M_zeros = {zeros}')\n",
    "print(f'Vector 1 = {vector1}')\n",
    "print(f'Vector 2 = {vector2}')\n",
    "# --------------------\n"
   ],
   "outputs": [
    {
     "name": "stdout",
     "output_type": "stream",
     "text": [
      "M_unos = \n",
      " [[1. 1. 1. 1. 1. 1. 1. 1. 1.]\n",
      " [1. 1. 1. 1. 1. 1. 1. 1. 1.]\n",
      " [1. 1. 1. 1. 1. 1. 1. 1. 1.]\n",
      " [1. 1. 1. 1. 1. 1. 1. 1. 1.]\n",
      " [1. 1. 1. 1. 1. 1. 1. 1. 1.]\n",
      " [1. 1. 1. 1. 1. 1. 1. 1. 1.]\n",
      " [1. 1. 1. 1. 1. 1. 1. 1. 1.]\n",
      " [1. 1. 1. 1. 1. 1. 1. 1. 1.]\n",
      " [1. 1. 1. 1. 1. 1. 1. 1. 1.]]\n",
      "M_zeros = [[0. 0. 0. 0. 0. 0. 0. 0. 0.]]\n",
      "Vector 1 = [1. 3. 5. 7. 9.]\n",
      "Vector 2 = [1 2 3 4 5 6 7 8 9]\n"
     ]
    }
   ],
   "execution_count": 10
  },
  {
   "cell_type": "markdown",
   "metadata": {},
   "source": [
    "Apila de manera horizontal los vectores introducidos en los apartados 3) y 4) del apartado anterior.\n",
    "\n",
    "Calcula el tamaño el array resultante."
   ]
  },
  {
   "cell_type": "code",
   "metadata": {
    "ExecuteTime": {
     "end_time": "2024-10-05T11:52:46.043157Z",
     "start_time": "2024-10-05T11:52:46.036686Z"
    }
   },
   "source": [
    "# Completar aquí\n",
    "vector3 = np.hstack((vector1, vector2))\n",
    "print(f'Vector 3 = {vector3}')\n",
    "print(vector3.size)\n",
    "# --------------------\n"
   ],
   "outputs": [
    {
     "name": "stdout",
     "output_type": "stream",
     "text": [
      "Vector 3 = [1. 3. 5. 7. 9. 1. 2. 3. 4. 5. 6. 7. 8. 9.]\n",
      "14\n"
     ]
    }
   ],
   "execution_count": 12
  },
  {
   "cell_type": "markdown",
   "metadata": {},
   "source": [
    "\n",
    "Utiliza **vstack** para generar una matriz con dos filas, cada una de las cuales contenga al vector gnerado en el apartado 4) anterior.\n",
    "\n",
    "Calcula el tipo o forma (shape) del array generado."
   ]
  },
  {
   "cell_type": "code",
   "metadata": {
    "ExecuteTime": {
     "end_time": "2024-10-05T11:55:47.039920Z",
     "start_time": "2024-10-05T11:55:47.032682Z"
    }
   },
   "source": [
    "# Completar aquí\n",
    "matrix = np.vstack((vector2, vector2))\n",
    "print(f'Matriz resultante = \\n{matrix}')\n",
    "print(matrix.shape)\n",
    "# --------------------\n"
   ],
   "outputs": [
    {
     "name": "stdout",
     "output_type": "stream",
     "text": [
      "Matriz resultante = \n",
      "[[1 2 3 4 5 6 7 8 9]\n",
      " [1 2 3 4 5 6 7 8 9]]\n",
      "(2, 9)\n"
     ]
    }
   ],
   "execution_count": 13
  },
  {
   "cell_type": "markdown",
   "metadata": {},
   "source": [
    "Intenta apilar, también de manera vertical, los vectores de los apartados 3) y 4) anteriores. \n",
    "\n",
    "Obtienes un error. ¿A qué se debe este error?"
   ]
  },
  {
   "cell_type": "code",
   "metadata": {
    "ExecuteTime": {
     "end_time": "2024-10-05T11:56:43.681351Z",
     "start_time": "2024-10-05T11:56:43.649687Z"
    }
   },
   "source": [
    "# Completar aquí\n",
    "matrix2 = np.vstack((vector1, vector2))\n",
    "# El error se debe a una diferencia en las dimensiones de ambos vectores\n",
    "# --------------------\n"
   ],
   "outputs": [
    {
     "ename": "ValueError",
     "evalue": "all the input array dimensions except for the concatenation axis must match exactly, but along dimension 1, the array at index 0 has size 5 and the array at index 1 has size 9",
     "output_type": "error",
     "traceback": [
      "\u001B[1;31m---------------------------------------------------------------------------\u001B[0m",
      "\u001B[1;31mValueError\u001B[0m                                Traceback (most recent call last)",
      "Cell \u001B[1;32mIn[14], line 2\u001B[0m\n\u001B[0;32m      1\u001B[0m \u001B[38;5;66;03m# Completar aquí\u001B[39;00m\n\u001B[1;32m----> 2\u001B[0m matrix2 \u001B[38;5;241m=\u001B[39m \u001B[43mnp\u001B[49m\u001B[38;5;241;43m.\u001B[39;49m\u001B[43mvstack\u001B[49m\u001B[43m(\u001B[49m\u001B[43m(\u001B[49m\u001B[43mvector1\u001B[49m\u001B[43m,\u001B[49m\u001B[43m \u001B[49m\u001B[43mvector2\u001B[49m\u001B[43m)\u001B[49m\u001B[43m)\u001B[49m\n\u001B[0;32m      3\u001B[0m \u001B[38;5;66;03m# El error se debe a una diferencia en las dimensiones de ambos vectores\u001B[39;00m\n\u001B[0;32m      4\u001B[0m \u001B[38;5;66;03m# --------------------\u001B[39;00m\n",
      "File \u001B[1;32m~\\.conda\\envs\\optim-2\\lib\\site-packages\\numpy\\_core\\shape_base.py:287\u001B[0m, in \u001B[0;36mvstack\u001B[1;34m(tup, dtype, casting)\u001B[0m\n\u001B[0;32m    285\u001B[0m \u001B[38;5;28;01mif\u001B[39;00m \u001B[38;5;129;01mnot\u001B[39;00m \u001B[38;5;28misinstance\u001B[39m(arrs, \u001B[38;5;28mtuple\u001B[39m):\n\u001B[0;32m    286\u001B[0m     arrs \u001B[38;5;241m=\u001B[39m (arrs,)\n\u001B[1;32m--> 287\u001B[0m \u001B[38;5;28;01mreturn\u001B[39;00m \u001B[43m_nx\u001B[49m\u001B[38;5;241;43m.\u001B[39;49m\u001B[43mconcatenate\u001B[49m\u001B[43m(\u001B[49m\u001B[43marrs\u001B[49m\u001B[43m,\u001B[49m\u001B[43m \u001B[49m\u001B[38;5;241;43m0\u001B[39;49m\u001B[43m,\u001B[49m\u001B[43m \u001B[49m\u001B[43mdtype\u001B[49m\u001B[38;5;241;43m=\u001B[39;49m\u001B[43mdtype\u001B[49m\u001B[43m,\u001B[49m\u001B[43m \u001B[49m\u001B[43mcasting\u001B[49m\u001B[38;5;241;43m=\u001B[39;49m\u001B[43mcasting\u001B[49m\u001B[43m)\u001B[49m\n",
      "\u001B[1;31mValueError\u001B[0m: all the input array dimensions except for the concatenation axis must match exactly, but along dimension 1, the array at index 0 has size 5 and the array at index 1 has size 9"
     ]
    }
   ],
   "execution_count": 14
  },
  {
   "cell_type": "markdown",
   "metadata": {},
   "source": "Introduce tu DNI en formato lita y tupla. Convierte ambos a formato **ndarray** "
  },
  {
   "cell_type": "code",
   "metadata": {
    "ExecuteTime": {
     "end_time": "2024-10-05T12:04:41.204906Z",
     "start_time": "2024-10-05T12:04:41.180911Z"
    }
   },
   "source": [
    "# Completar aquí\n",
    "dni_list = [2,6,6,4,9,1,1,0]\n",
    "dni_tuple = (2,6,6,4,9,1,1,0)\n",
    "dni_list_ndarray = np.array(dni_list)\n",
    "dni_tuple_ndarray = np.array(dni_tuple)\n",
    "print(f\"Lista DNI: {dni_list}\")\n",
    "print(type(dni_list))\n",
    "print(f\"Lista DNI en formato ndarray: {dni_list_ndarray}\")\n",
    "print(type(dni_list_ndarray))\n",
    "print(f\"Tupla DNI: {dni_tuple}\")\n",
    "print(type(dni_tuple))\n",
    "print(f\"Tupla DNI en formato ndarray: {dni_tuple_ndarray}\")\n",
    "print(type(dni_tuple_ndarray))\n",
    "# --------------------\n"
   ],
   "outputs": [
    {
     "name": "stdout",
     "output_type": "stream",
     "text": [
      "Lista DNI: [2, 6, 6, 4, 9, 1, 1, 0]\n",
      "<class 'list'>\n",
      "Lista DNI en formato ndarray: [2 6 6 4 9 1 1 0]\n",
      "<class 'numpy.ndarray'>\n",
      "Tupla DNI: (2, 6, 6, 4, 9, 1, 1, 0)\n",
      "<class 'tuple'>\n",
      "Tupla DNI en formato ndarray: [2 6 6 4 9 1 1 0]\n",
      "<class 'numpy.ndarray'>\n"
     ]
    }
   ],
   "execution_count": 21
  }
 ],
 "metadata": {
  "interpreter": {
   "hash": "c9e6f42c9bf154cf9b9e87541e517fa2c69e39349a7d6df0c90be082366bd360"
  },
  "kernelspec": {
   "display_name": "Python 3 (ipykernel)",
   "language": "python",
   "name": "python3"
  },
  "language_info": {
   "codemirror_mode": {
    "name": "ipython",
    "version": 3
   },
   "file_extension": ".py",
   "mimetype": "text/x-python",
   "name": "python",
   "nbconvert_exporter": "python",
   "pygments_lexer": "ipython3",
   "version": "3.11.0"
  }
 },
 "nbformat": 4,
 "nbformat_minor": 4
}
