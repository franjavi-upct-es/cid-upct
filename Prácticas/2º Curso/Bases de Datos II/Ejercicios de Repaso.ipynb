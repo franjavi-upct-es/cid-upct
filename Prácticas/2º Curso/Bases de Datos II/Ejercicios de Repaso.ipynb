{
 "cells": [
  {
   "cell_type": "markdown",
   "metadata": {},
   "source": [
    "# Ejercicios de Repaso BDII\n",
    "\n",
    "Resuelve los ejercicios propuestos basándote en la BBDD que se indica a continuación.\n",
    "- Colección Juegos:\n",
    "```python\n",
    "[\n",
    " {\n",
    "\t \"_id\":1,\n",
    "\t \"titulo\": \"The legend of Zelda: Breath of the Wild\",\n",
    "\t \"desarrollador_id\": 101,\n",
    "\t \"año\": 2017,\n",
    "\t \"plataforma\": [\"Switch\", \"Wii U\"]\n",
    " },\n",
    " {\n",
    "\t \"_id\": 2,\n",
    "\t \"titulo\": \"Super Mario Odyssey\",\n",
    "\t \"desarrollador_id\": 101,\n",
    "\t \"año\": 2017,\n",
    "\t \"plataforma\": [\"Switch\"]\n",
    " },\n",
    "  {\n",
    "\t \"_id\": 3,\n",
    "\t \"titulo\": \"God of War\",\n",
    "\t \"desarrollador_id\": 102,\n",
    "\t \"año\": 2018,\n",
    "\t \"plataforma\": [\"PS4\"]\n",
    " },\n",
    "]\n",
    "```\n",
    "- Colección Desarrolladores:\n",
    "```python\n",
    "[\n",
    " {\n",
    "\t \"_id\": 101,\n",
    "\t \"nombre\": \"Nintendo\",\n",
    "\t \"pais\": \"Japón\"\n",
    " },\n",
    " {\n",
    "\t \"_id\": 102,\n",
    "\t \"nombre\": \"Santa Monica Studio\",\n",
    "\t \"pais\": \"Estados Unidos\"\n",
    " }\n",
    "]\n",
    "```"
   ]
  },
  {
   "cell_type": "markdown",
   "metadata": {},
   "source": [
    "1. Escribe una consulta que obtenga una lista de todos los juegos junto con la información del desarrollador de cada juego."
   ]
  },
  {
   "cell_type": "code",
   "execution_count": null,
   "metadata": {},
   "outputs": [],
   "source": [
    "# Inicia una operación de agregación en la colección 'juegos'\n",
    "resultados = db.juegos.aggregate([\n",
    "    {\n",
    "        # La operación '$lookup' realiza un join con la colección 'desarrolladores'\n",
    "        # en base al campo 'desarrollador_id' en 'juegos' y el campo '_id' en 'desarrolladores'\n",
    "        \"$lookup\": {\n",
    "            \"from\": \"desarrolladores\",  # La colección con la que hacer el join\n",
    "            \"localField\": \"desarrollador_id\",  # El campo de la colección 'juegos'\n",
    "            \"foreignField\": \"_id\",  # El campo de la colección 'desarrolladores'\n",
    "            \"as\": \"desarrollador_info\"  # El nombre del nuevo campo que contendrá la información unida\n",
    "        },\n",
    "        \n",
    "        # La operación '$project' especifica los campos a incluir en los documentos de salida\n",
    "        \"$project\": {\n",
    "            \"_id\": 1,  # Incluir el campo '_id'\n",
    "            \"titulo\": 1,  # Incluir el campo 'titulo'\n",
    "            \"desarrollador_id\": 1,  # Incluir el campo 'desarrollador_id'\n",
    "            \"año\": 1,  # Incluir el campo 'año'\n",
    "            \"plataforma\": 1,  # Incluir el campo 'plataforma'\n",
    "        }\n",
    "    }\n",
    "])\n",
    "\n",
    "# Itera sobre los resultados de la operación de agregación e imprime cada documento\n",
    "for resultado in resultados:\n",
    "    print(resultado)"
   ]
  },
  {
   "cell_type": "markdown",
   "metadata": {},
   "source": [
    "2. Escribe una consulta que obtenga el número total de juegos desarrollados por \"Nintendo\" para la plataforma \"Switch\"."
   ]
  },
  {
   "cell_type": "code",
   "execution_count": null,
   "metadata": {},
   "outputs": [],
   "source": [
    "# Este es el inicio de la consulta de agregación en la colección 'juegos'.\n",
    "db.juegos.aggregate([\n",
    "\n",
    "    # La etapa $match filtra los documentos. En este caso, solo los documentos donde el campo 'plataforma' es igual a 'Switch' pasan al siguiente paso.\n",
    "    {\n",
    "        \"$match\": {\"plataforma\": \"Switch\"}\n",
    "    },\n",
    "\n",
    "    # La etapa $lookup realiza una operación de unión con otra colección. En este caso, se une la colección 'juegos' con la colección 'desarrolladores' en los campos 'desarrollador_id' y '_id'.\n",
    "    {\n",
    "        \"$lookup\": \n",
    "        {\n",
    "            \"from\": \"desarrolladores\",\n",
    "            \"localField\": \"desarrollador_id\",\n",
    "            \"foreignField\": \"_id\",\n",
    "            \"as\": \"info_desarrollador\"\n",
    "        }\n",
    "    },\n",
    "\n",
    "    # La etapa $unwind descompone los campos de array en documentos separados para cada elemento. Aquí, se descompone el campo 'info_desarrollador'.\n",
    "    {\"$unwind\": \"$info_desarrollador\" },\n",
    "\n",
    "    # Otro filtro $match. En este caso, solo los documentos donde el campo 'info_desarrollador.nombre' es igual a 'Nintendo' pasan al siguiente paso.\n",
    "   s {\n",
    "        \"$match\": { \"info_desarrollador.nombre\": \"Nintendo\"}\n",
    "    },\n",
    "\n",
    "    # La etapa $group agrupa los documentos por algún campo especificado. Aquí, los documentos se agrupan por 'info_desarrollador.nombre' y se cuenta el número de juegos para cada desarrollador.\n",
    "    {\n",
    "        \"$group\":\n",
    "            {\n",
    "                \"_id\": \"$info_desarrollador.nombre\",\n",
    "                \"total_juegos\": {\"$sum\": 1}\n",
    "            }\n",
    "    },\n",
    "\n",
    "    # La etapa $project especifica los campos a incluir en los documentos de salida. Aquí, se incluyen los campos 'desarrollador' y 'total_juegos', y se excluye el campo '_id'.\n",
    "    {\n",
    "        \"$project\":\n",
    "            {\n",
    "                \"_id\": 0,\n",
    "                \"desarrollador\": \"$_id\",\n",
    "                \"total_juegos\": 1\n",
    "            }\n",
    "    }\n",
    "])"
   ]
  },
  {
   "cell_type": "markdown",
   "metadata": {},
   "source": [
    "## Ejercicios de Redis\n",
    "Para gestionar una clínica veterinaria se dispone de un programa Python que utiliza una BBDD Redis. A continuación se piden una serie de funciones para completar la funcionalidad de dicha aplicación.\n",
    "\n",
    "La conexión a la base de datos se realiza de la siguiente forma:\n",
    "\n",
    "```python\n",
    "from happybase import Connection\n",
    "\n",
    "# Conectar a HBase\n",
    "conexion = Connection('localhost')\n",
    "\n",
    "def crear_table_estudiantes(conexion):\n",
    "\t# Crear la tabla 'estudiantes' con la familia de columnas 'datos'\n",
    "\tconexion.create_table(\n",
    "\t\t'estudiantes',\n",
    "\t\t{'datos': dict(max_versions=1)}\n",
    "\t)\n",
    "```\n",
    "1. Completa las funciones Python que se muestran a continuación, la columna de cursos contiene un string separado por comas."
   ]
  },
  {
   "cell_type": "code",
   "execution_count": 9,
   "metadata": {},
   "outputs": [
    {
     "ename": "ModuleNotFoundError",
     "evalue": "No module named 'redis'",
     "output_type": "error",
     "traceback": [
      "\u001b[1;31m---------------------------------------------------------------------------\u001b[0m",
      "\u001b[1;31mModuleNotFoundError\u001b[0m                       Traceback (most recent call last)",
      "Cell \u001b[1;32mIn[9], line 1\u001b[0m\n\u001b[1;32m----> 1\u001b[0m \u001b[38;5;28;01mimport\u001b[39;00m \u001b[38;5;21;01mredis\u001b[39;00m\n\u001b[0;32m      2\u001b[0m \u001b[38;5;28;01mfrom\u001b[39;00m \u001b[38;5;21;01mhappybase\u001b[39;00m \u001b[38;5;28;01mimport\u001b[39;00m Connection\n\u001b[0;32m      4\u001b[0m \u001b[38;5;66;03m# Conectar a HBase\u001b[39;00m\n",
      "\u001b[1;31mModuleNotFoundError\u001b[0m: No module named 'redis'"
     ]
    }
   ],
   "source": [
    "import redis\n",
    "from happybase import Connection\n",
    "\n",
    "# Conectar a HBase\n",
    "conexion = Connection('localhost')\n",
    "\n",
    "def crear_table_estudiantes(conexion):\n",
    "\t# Crear la tabla 'estudiantes' con la familia de columnas 'datos'\n",
    "\tconexion.create_table(\n",
    "\t\t'estudiantes',\n",
    "\t\t{'datos': dict(max_versions=1)}\n",
    "\t)"
   ]
  },
  {
   "cell_type": "markdown",
   "metadata": {},
   "source": [
    "## Ejercicios Neo4j\n",
    "Disponemos de una BBDD que gestiona una pequeña librería donde se almacenan libros y sus autores que ha sido creada de la siguiente forma:\n",
    "\n",
    "```python\n",
    "CREATE  (a:Libro {titulo: 'Libro A', autores: 'Autor1, Autor2'}),\n",
    "\t\t(b:Libro {titulo: 'Libro B', autores: 'Autor2, Autor3'}),\n",
    "\t\t(c:Libro {titulo: 'Libro C', autores: 'Autor1, Autor3'}),\n",
    "\t\t(d:Libro {titulo: 'Libro D', autores: 'Autor4, Autor5'}),\n",
    "\t\t(e:Libro {titulo: 'Libro E', autores: 'Autor5, Autor6'}),\n",
    "```"
   ]
  },
  {
   "cell_type": "markdown",
   "metadata": {},
   "source": [
    "1. Crea la consulta para la BBDD Neo4j necesaria para crear los nodos autores y conecte cada autor con los libros que ha escrito. "
   ]
  },
  {
   "cell_type": "code",
   "execution_count": null,
   "metadata": {},
   "outputs": [],
   "source": [
    "MATCH (b: Libro)\n",
    "UNWIND split(b.autores, ',') AS autor_nombre\n",
    "MERGE (a: Autor {nombre: replace(autor_nombre, ' ', '')})\n",
    "MERGE (b) - [ :AUTOR ] -> (a)"
   ]
  },
  {
   "cell_type": "markdown",
   "metadata": {},
   "source": [
    "2. Escribe una consulta que encuentre a los autores que han escrito al menos dos libros y los ordene en orden descendente por el número de libros."
   ]
  },
  {
   "cell_type": "code",
   "execution_count": null,
   "metadata": {},
   "outputs": [],
   "source": [
    "MATCH (a: Autor) - [ :AUTOR ] -> (b: Libro)\n",
    "WITH a, count(b) AS num_libros\n",
    "WHERE num_libros >= 2\n",
    "RETURN a.nombre AS Autor, num_libros AS 'Número de libros'\n",
    "OREDER BY num_libros DESC"
   ]
  }
 ],
 "metadata": {
  "kernelspec": {
   "display_name": "Python 3",
   "language": "python",
   "name": "python3"
  },
  "language_info": {
   "codemirror_mode": {
    "name": "ipython",
    "version": 3
   },
   "file_extension": ".py",
   "mimetype": "text/x-python",
   "name": "python",
   "nbconvert_exporter": "python",
   "pygments_lexer": "ipython3",
   "version": "3.11.7"
  }
 },
 "nbformat": 4,
 "nbformat_minor": 2
}
