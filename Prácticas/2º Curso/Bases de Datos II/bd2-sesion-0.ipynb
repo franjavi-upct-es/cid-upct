{
  "cells": [
    {
      "cell_type": "markdown",
      "metadata": {
        "id": "la8Wi7C_0gyZ"
      },
      "source": [
        "# Introducción a Jupyter Notebook, Pandas, Matplotlib, etc.\n",
        "\n",
        "En esta hoja introduciremos la forma de trabajar con Jupyter Notebook/Google Colab. Veremos cómo los distintos elementos de las librerías de Python interactúan con el notebook para mostrar imágenes, gráficos, etc. También, en las siguientes sesiones los usaremos para acceder a conexiones SQL y a bases de datos NoSQL.\n",
        "\n",
        "Enlaces a otros tutoriales introductorios (que también se centran en tratamiento de datos para Big Data): [1](https://github.com/CharlestonDataScience/PythonNotebooks/blob/master/notebooks/tutorial_01/pandas_tutorial.ipynb) y [2](https://github.com/phelps-sg/python-bigdata/blob/master/src/main/ipynb/pandas.ipynb), entre otros muchos."
      ]
    },
    {
      "cell_type": "markdown",
      "metadata": {
        "id": "AVwChyC10gyl"
      },
      "source": [
        "## Jupyter/Colab Notebook\n",
        "\n",
        "Los *Notebooks* contienen una mezcla de texto y código, y se pueden ir ejecutando paso a paso. En general utilizaremos el lenguaje Python en su versión 3, así que las hojas son en realidad un programa Python que se puede ejecutar en orden, junto con imágenes y texto explicativo adjunto.\n",
        "\n",
        "Al pulsar Ctrl+Intro en una celda, se ejecuta el código de la celda y se muestra el la siguiente celda. Al pulsar Shift+Intro se ejecuta la celda actual y pasa automáticamente a la siguiente.\n",
        "\n",
        "Existen también \"magics\", que sirven para obtener información de la hoja, o ejecutar comandos especiales. Por ejemplo, órdenes de shell, como en la siguiente celda. Hay varios tutoriales Online. Por ejemplo: [Tutorial](https://github.com/esc/scipy2013-tutorial-numpy-ipython/blob/master/ipython.ipynb)."
      ]
    },
    {
      "cell_type": "code",
      "execution_count": 60,
      "metadata": {
        "id": "sQP8GpuC0gyr"
      },
      "outputs": [
        {
          "name": "stderr",
          "output_type": "stream",
          "text": [
            "\"uname\" no se reconoce como un comando interno o externo,\n",
            "programa o archivo por lotes ejecutable.\n"
          ]
        }
      ],
      "source": [
        "!uname -a"
      ]
    },
    {
      "cell_type": "code",
      "execution_count": 61,
      "metadata": {
        "id": "16n5PqCp0gzM"
      },
      "outputs": [
        {
          "data": {
            "application/json": {
              "cell": {
                "!": "OSMagics",
                "HTML": "Other",
                "SVG": "Other",
                "bash": "Other",
                "capture": "ExecutionMagics",
                "cmd": "Other",
                "code_wrap": "ExecutionMagics",
                "debug": "ExecutionMagics",
                "file": "Other",
                "html": "DisplayMagics",
                "javascript": "DisplayMagics",
                "js": "DisplayMagics",
                "latex": "DisplayMagics",
                "markdown": "DisplayMagics",
                "perl": "Other",
                "prun": "ExecutionMagics",
                "pypy": "Other",
                "python": "Other",
                "python2": "Other",
                "python3": "Other",
                "ruby": "Other",
                "script": "ScriptMagics",
                "sh": "Other",
                "svg": "DisplayMagics",
                "sx": "OSMagics",
                "system": "OSMagics",
                "time": "ExecutionMagics",
                "timeit": "ExecutionMagics",
                "writefile": "OSMagics"
              },
              "line": {
                "alias": "OSMagics",
                "alias_magic": "BasicMagics",
                "autoawait": "AsyncMagics",
                "autocall": "AutoMagics",
                "automagic": "AutoMagics",
                "autosave": "KernelMagics",
                "bookmark": "OSMagics",
                "cd": "OSMagics",
                "clear": "KernelMagics",
                "cls": "KernelMagics",
                "code_wrap": "ExecutionMagics",
                "colors": "BasicMagics",
                "conda": "PackagingMagics",
                "config": "ConfigMagics",
                "connect_info": "KernelMagics",
                "copy": "Other",
                "ddir": "Other",
                "debug": "ExecutionMagics",
                "dhist": "OSMagics",
                "dirs": "OSMagics",
                "doctest_mode": "BasicMagics",
                "echo": "Other",
                "ed": "Other",
                "edit": "KernelMagics",
                "env": "OSMagics",
                "gui": "BasicMagics",
                "hist": "Other",
                "history": "HistoryMagics",
                "killbgscripts": "ScriptMagics",
                "ldir": "Other",
                "less": "KernelMagics",
                "load": "CodeMagics",
                "load_ext": "ExtensionMagics",
                "loadpy": "CodeMagics",
                "logoff": "LoggingMagics",
                "logon": "LoggingMagics",
                "logstart": "LoggingMagics",
                "logstate": "LoggingMagics",
                "logstop": "LoggingMagics",
                "ls": "Other",
                "lsmagic": "BasicMagics",
                "macro": "ExecutionMagics",
                "magic": "BasicMagics",
                "matplotlib": "PylabMagics",
                "mkdir": "Other",
                "more": "KernelMagics",
                "notebook": "BasicMagics",
                "page": "BasicMagics",
                "pastebin": "CodeMagics",
                "pdb": "ExecutionMagics",
                "pdef": "NamespaceMagics",
                "pdoc": "NamespaceMagics",
                "pfile": "NamespaceMagics",
                "pinfo": "NamespaceMagics",
                "pinfo2": "NamespaceMagics",
                "pip": "PackagingMagics",
                "popd": "OSMagics",
                "pprint": "BasicMagics",
                "precision": "BasicMagics",
                "prun": "ExecutionMagics",
                "psearch": "NamespaceMagics",
                "psource": "NamespaceMagics",
                "pushd": "OSMagics",
                "pwd": "OSMagics",
                "pycat": "OSMagics",
                "pylab": "PylabMagics",
                "qtconsole": "KernelMagics",
                "quickref": "BasicMagics",
                "recall": "HistoryMagics",
                "rehashx": "OSMagics",
                "reload_ext": "ExtensionMagics",
                "ren": "Other",
                "rep": "Other",
                "rerun": "HistoryMagics",
                "reset": "NamespaceMagics",
                "reset_selective": "NamespaceMagics",
                "rmdir": "Other",
                "run": "ExecutionMagics",
                "save": "CodeMagics",
                "sc": "OSMagics",
                "set_env": "OSMagics",
                "store": "StoreMagics",
                "sx": "OSMagics",
                "system": "OSMagics",
                "tb": "ExecutionMagics",
                "time": "ExecutionMagics",
                "timeit": "ExecutionMagics",
                "unalias": "OSMagics",
                "unload_ext": "ExtensionMagics",
                "who": "NamespaceMagics",
                "who_ls": "NamespaceMagics",
                "whos": "NamespaceMagics",
                "xdel": "NamespaceMagics",
                "xmode": "BasicMagics"
              }
            },
            "text/plain": [
              "Available line magics:\n",
              "%alias  %alias_magic  %autoawait  %autocall  %automagic  %autosave  %bookmark  %cd  %clear  %cls  %code_wrap  %colors  %conda  %config  %connect_info  %copy  %ddir  %debug  %dhist  %dirs  %doctest_mode  %echo  %ed  %edit  %env  %gui  %hist  %history  %killbgscripts  %ldir  %less  %load  %load_ext  %loadpy  %logoff  %logon  %logstart  %logstate  %logstop  %ls  %lsmagic  %macro  %magic  %matplotlib  %mkdir  %more  %notebook  %page  %pastebin  %pdb  %pdef  %pdoc  %pfile  %pinfo  %pinfo2  %pip  %popd  %pprint  %precision  %prun  %psearch  %psource  %pushd  %pwd  %pycat  %pylab  %qtconsole  %quickref  %recall  %rehashx  %reload_ext  %ren  %rep  %rerun  %reset  %reset_selective  %rmdir  %run  %save  %sc  %set_env  %store  %sx  %system  %tb  %time  %timeit  %unalias  %unload_ext  %who  %who_ls  %whos  %xdel  %xmode\n",
              "\n",
              "Available cell magics:\n",
              "%%!  %%HTML  %%SVG  %%bash  %%capture  %%cmd  %%code_wrap  %%debug  %%file  %%html  %%javascript  %%js  %%latex  %%markdown  %%perl  %%prun  %%pypy  %%python  %%python2  %%python3  %%ruby  %%script  %%sh  %%svg  %%sx  %%system  %%time  %%timeit  %%writefile\n",
              "\n",
              "Automagic is ON, % prefix IS NOT needed for line magics."
            ]
          },
          "execution_count": 61,
          "metadata": {},
          "output_type": "execute_result"
        }
      ],
      "source": [
        "%lsmagic"
      ]
    },
    {
      "cell_type": "markdown",
      "metadata": {
        "id": "Fs7khh660gze"
      },
      "source": [
        "A continuación mostramos los paquetes que usaremos regularmente para tratar datos, `pandas`, `numpy`, `matplotlib`. Al ser un programa en Python, se pueden importar paquetes que seguirán siendo válidos hasta el final del _notebook_."
      ]
    },
    {
      "cell_type": "code",
      "execution_count": 62,
      "metadata": {
        "id": "Zm7Lxq3b0gzi"
      },
      "outputs": [],
      "source": [
        "import numpy as np\n",
        "import pandas as pd\n",
        "import matplotlib.pyplot as plt\n",
        "import matplotlib"
      ]
    },
    {
      "cell_type": "markdown",
      "metadata": {
        "id": "cnHsIiOJ0gzx"
      },
      "source": [
        "Lo siguiente hace que los gráficos se muestren inline. Para figuras pequeñas se puede utilizar unas figuras interactivas que permiten zoom, usando `%maplotlib nbagg`."
      ]
    },
    {
      "cell_type": "code",
      "execution_count": 63,
      "metadata": {
        "id": "54LyaN9h0gz2"
      },
      "outputs": [],
      "source": [
        "%matplotlib inline\n",
        "matplotlib.style.use('ggplot')"
      ]
    },
    {
      "cell_type": "markdown",
      "metadata": {
        "id": "FbNgEEmW0g0F"
      },
      "source": [
        "## Numpy\n",
        "\n",
        "Numpy es una de las librerías más utilizadas en Python, y ofrece un interfaz sencillo para operaciones eficientes con números, _arrays_ y matrices. Numpy se utilizará de apoyo muchas veces que haya que hacer procesamiento local de datos recogidos de una base de datos, o como preparación para la graficación de datos. En la celda siguiente se muestra un vídeo introductorio, y también se puede acceder a tutoriales online: [Tutorial](https://github.com/esc/scipy2013-tutorial-numpy-ipython/blob/master/operations.ipynb)."
      ]
    },
    {
      "cell_type": "code",
      "execution_count": 116,
      "metadata": {
        "id": "7tqi4z-h0g0J"
      },
      "outputs": [
        {
          "data": {
            "image/jpeg": "[encoded data removed]",
            "text/html": [
              "\n",
              "        <iframe\n",
              "            width=\"400\"\n",
              "            height=\"300\"\n",
              "            src=\"https://www.youtube.com/embed/o8fmjaW9a0A\"\n",
              "            frameborder=\"0\"\n",
              "            allowfullscreen\n",
              "            \n",
              "        ></iframe>\n",
              "        "
            ],
            "text/plain": [
              "<IPython.lib.display.YouTubeVideo at 0x2766ae84190>"
            ]
          },
          "execution_count": 116,
          "metadata": {},
          "output_type": "execute_result"
        }
      ],
      "source": [
        "from IPython.display import YouTubeVideo\n",
        "YouTubeVideo('o8fmjaW9a0A') # Yes, it can also embed youtube videos."
      ]
    },
    {
      "cell_type": "markdown",
      "metadata": {
        "id": "PAssJtAv0g0c"
      },
      "source": [
        "Numpy permite generar y procesar arrays de datos de forma muy eficiente. A continuación se muestran algunos ejemplos:"
      ]
    },
    {
      "cell_type": "code",
      "execution_count": 65,
      "metadata": {
        "id": "XTIZsrqm0g0e"
      },
      "outputs": [
        {
          "name": "stdout",
          "output_type": "stream",
          "text": [
            "(3,)\n",
            "4\n",
            "[9 5 6]\n"
          ]
        }
      ],
      "source": [
        "a = np.array([4,5,6])\n",
        "print(a.shape)\n",
        "print(a[0])\n",
        "a[0] = 9\n",
        "print (a)"
      ]
    },
    {
      "cell_type": "code",
      "execution_count": 66,
      "metadata": {
        "id": "hqwxBBDR0g0q"
      },
      "outputs": [
        {
          "data": {
            "text/plain": [
              "array([0, 1, 2, 3, 4, 5, 6, 7, 8, 9])"
            ]
          },
          "execution_count": 66,
          "metadata": {},
          "output_type": "execute_result"
        }
      ],
      "source": [
        "np.arange(10)"
      ]
    },
    {
      "cell_type": "code",
      "execution_count": 67,
      "metadata": {
        "id": "juBoOUXv0g03"
      },
      "outputs": [
        {
          "data": {
            "text/plain": [
              "array([ 1,  2,  3,  4,  5,  6,  7,  8,  9, 10, 11, 12, 13, 14, 15, 16, 17,\n",
              "       18, 19])"
            ]
          },
          "execution_count": 67,
          "metadata": {},
          "output_type": "execute_result"
        }
      ],
      "source": [
        "np.arange(1,20)"
      ]
    },
    {
      "cell_type": "markdown",
      "metadata": {
        "id": "Ur7PeiO40g1H"
      },
      "source": [
        "También arrays multidimensionales:"
      ]
    },
    {
      "cell_type": "code",
      "execution_count": 68,
      "metadata": {
        "id": "RAxRAAUn0g1K"
      },
      "outputs": [
        {
          "name": "stdout",
          "output_type": "stream",
          "text": [
            "[[0. 0.]\n",
            " [0. 0.]]\n"
          ]
        }
      ],
      "source": [
        "a = np.zeros((2,2))\n",
        "print (a)"
      ]
    },
    {
      "cell_type": "code",
      "execution_count": 69,
      "metadata": {
        "id": "JrvObDnf0g1Y"
      },
      "outputs": [
        {
          "data": {
            "text/plain": [
              "2"
            ]
          },
          "execution_count": 69,
          "metadata": {},
          "output_type": "execute_result"
        }
      ],
      "source": [
        "a.ndim"
      ]
    },
    {
      "cell_type": "code",
      "execution_count": 70,
      "metadata": {
        "id": "VXEAG5cV0g1l"
      },
      "outputs": [
        {
          "data": {
            "text/plain": [
              "dtype('float64')"
            ]
          },
          "execution_count": 70,
          "metadata": {},
          "output_type": "execute_result"
        }
      ],
      "source": [
        "a.dtype"
      ]
    },
    {
      "cell_type": "code",
      "execution_count": 71,
      "metadata": {
        "id": "OTpwAgyj0g14"
      },
      "outputs": [
        {
          "name": "stdout",
          "output_type": "stream",
          "text": [
            "[[0.84814534 0.89142498]\n",
            " [0.44184741 0.79611266]]\n"
          ]
        }
      ],
      "source": [
        "b = np.random.random((2,2))\n",
        "print (b)"
      ]
    },
    {
      "cell_type": "code",
      "execution_count": 72,
      "metadata": {
        "id": "webIPAma0g2F"
      },
      "outputs": [
        {
          "name": "stdout",
          "output_type": "stream",
          "text": [
            "[[0.29363025 0.94058344]\n",
            " [0.73997428 0.58814693]]\n"
          ]
        }
      ],
      "source": [
        "a = np.random.random((2,2))\n",
        "print(a)"
      ]
    },
    {
      "cell_type": "markdown",
      "metadata": {
        "id": "5o0QZDMy0g2T"
      },
      "source": [
        "Se pueden aplicar funciones sobre todo el array o matriz, y el resultado será una matriz idéntica con el operador aplicado. Similar a lo que ocurre con la operación `map` de algunos lenguajes de programación (incluído Python):"
      ]
    },
    {
      "cell_type": "code",
      "execution_count": 73,
      "metadata": {
        "id": "dFpNqjd-0g2V"
      },
      "outputs": [
        {
          "name": "stdout",
          "output_type": "stream",
          "text": [
            "[[False  True]\n",
            " [ True  True]]\n"
          ]
        }
      ],
      "source": [
        "print (a >= .5)"
      ]
    },
    {
      "cell_type": "markdown",
      "metadata": {
        "id": "09xWrIqZ0g2u"
      },
      "source": [
        "También se pueden _filtrar_ los elementos de un array o matriz que cumplan una condición. Para eso se utiliza el operador de indización (`[]`) con una expresión booleana."
      ]
    },
    {
      "cell_type": "code",
      "execution_count": 74,
      "metadata": {
        "id": "lf8zXQ6r0g2w"
      },
      "outputs": [
        {
          "name": "stdout",
          "output_type": "stream",
          "text": [
            "[0.94058344 0.73997428 0.58814693]\n"
          ]
        }
      ],
      "source": [
        "print (a[a >= .5])"
      ]
    },
    {
      "cell_type": "markdown",
      "metadata": {
        "id": "LntLnGSC0g29"
      },
      "source": [
        "¿Por qué usar Numpy?\n",
        "\n",
        "`%%capture` captura la salida de la ejecución de la celda en la variable dada como parámetro. Después se puede imprimir.\n",
        "\n",
        "`%timeit` se utiliza para ejecutar varias veces una instrucción y calcular un promedio de su duración."
      ]
    },
    {
      "cell_type": "code",
      "execution_count": 75,
      "metadata": {
        "id": "GUM4mNqc0g3A"
      },
      "outputs": [],
      "source": [
        "%%capture timeit_output\n",
        "\n",
        "%timeit l1 = range(1,1000)\n",
        "\n",
        "%timeit l2 = np.arange(1,1000)"
      ]
    },
    {
      "cell_type": "code",
      "execution_count": 76,
      "metadata": {
        "id": "AUXOSmWP0g3M"
      },
      "outputs": [
        {
          "name": "stdout",
          "output_type": "stream",
          "text": [
            "258 ns +- 30.2 ns per loop (mean +- std. dev. of 7 runs, 10,000,000 loops each)\n",
            "2.27 us +- 452 ns per loop (mean +- std. dev. of 7 runs, 100,000 loops each)\n",
            "\n"
          ]
        }
      ],
      "source": [
        "print(timeit_output)"
      ]
    },
    {
      "cell_type": "code",
      "execution_count": 77,
      "metadata": {
        "id": "nZJKGRoj0g3Z",
        "scrolled": true
      },
      "outputs": [
        {
          "name": "stdout",
          "output_type": "stream",
          "text": [
            "10\n",
            "[4 6]\n",
            "[3 7]\n"
          ]
        }
      ],
      "source": [
        "x = np.array([[1,2],[3,4]])\n",
        "\n",
        "print (np.sum(x))  # Compute sum of all elements; prints \"10\"\n",
        "print (np.sum(x, axis=0))  # Compute sum of each column; prints \"[4 6]\"\n",
        "print (np.sum(x, axis=1))  # Compute sum of each row; prints \"[3 7]\""
      ]
    },
    {
      "cell_type": "code",
      "execution_count": 78,
      "metadata": {
        "id": "2pLMfeT10g3j"
      },
      "outputs": [
        {
          "data": {
            "text/plain": [
              "array([[2, 4],\n",
              "       [6, 8]])"
            ]
          },
          "execution_count": 78,
          "metadata": {},
          "output_type": "execute_result"
        }
      ],
      "source": [
        "x * 2"
      ]
    },
    {
      "cell_type": "code",
      "execution_count": 79,
      "metadata": {
        "id": "qyW6o5hI0g4C"
      },
      "outputs": [
        {
          "data": {
            "text/plain": [
              "array([[ 1,  4],\n",
              "       [ 9, 16]])"
            ]
          },
          "execution_count": 79,
          "metadata": {},
          "output_type": "execute_result"
        }
      ],
      "source": [
        "x ** 2"
      ]
    },
    {
      "cell_type": "markdown",
      "metadata": {
        "id": "-uig7nF20g4N"
      },
      "source": [
        "`numpy` tiene infinidad de funciones, por lo que sería interesante darse una vuelta por su documentación: https://docs.scipy.org/doc/."
      ]
    },
    {
      "cell_type": "markdown",
      "metadata": {
        "id": "yQV9Ttle0g4P"
      },
      "source": [
        "## Matplotlib\n",
        "\n",
        "Matplotlib permite generar gráficos de forma sencilla. Lo veremos aquí primero conectado sólo con `Numpy` y después conectado con `Pandas`."
      ]
    },
    {
      "cell_type": "code",
      "execution_count": 80,
      "metadata": {
        "id": "f5kz-KFL0g4R"
      },
      "outputs": [
        {
          "data": {
            "image/png": "[encoded data removed]",
            "text/plain": [
              "<Figure size 640x480 with 1 Axes>"
            ]
          },
          "metadata": {},
          "output_type": "display_data"
        }
      ],
      "source": [
        "x = np.arange(0, 3 * np.pi, 0.1)\n",
        "y = np.sin(x)\n",
        "plt.subplot()\n",
        "# Plot the points using matplotlib\n",
        "plt.plot(x, y)\n",
        "plt.show()"
      ]
    },
    {
      "cell_type": "code",
      "execution_count": 81,
      "metadata": {
        "id": "VgdTh4Y60g4e"
      },
      "outputs": [
        {
          "data": {
            "image/png": "[encoded data removed]",
            "text/plain": [
              "<Figure size 640x480 with 2 Axes>"
            ]
          },
          "metadata": {},
          "output_type": "display_data"
        }
      ],
      "source": [
        "plt.subplot(211)\n",
        "plt.plot(range(12))\n",
        "plt.subplot(212, facecolor='y')\n",
        "plt.plot(range(100))\n",
        "plt.show()"
      ]
    },
    {
      "cell_type": "code",
      "execution_count": 82,
      "metadata": {
        "id": "s_PgM4a20g4q"
      },
      "outputs": [
        {
          "data": {
            "image/png": "[encoded data removed]",
            "text/plain": [
              "<Figure size 640x480 with 1 Axes>"
            ]
          },
          "metadata": {},
          "output_type": "display_data"
        }
      ],
      "source": [
        "# Compute the x and y coordinates for points on sine and cosine curves\n",
        "x = np.arange(0, 3 * np.pi, 0.1)\n",
        "y_sin = np.sin(x)\n",
        "y_cos = np.cos(x)\n",
        "\n",
        "# Plot the points using matplotlib\n",
        "plt.plot(x, y_sin)\n",
        "plt.plot(x, y_cos)\n",
        "plt.xlabel('x axis label')\n",
        "plt.ylabel('y axis label')\n",
        "plt.title('Sine and Cosine')\n",
        "plt.legend(['Sine', 'Cosine'])\n",
        "plt.show()"
      ]
    },
    {
      "cell_type": "markdown",
      "metadata": {
        "id": "ui_uyztA0g4y"
      },
      "source": [
        "## Pandas\n",
        "\n",
        "Tutoriales: [1](https://pandas.pydata.org/docs/user_guide/index.html), [2](https://dev.socrata.com/blog/2016/02/01/pandas-and-jupyter-notebook.html), [3](http://nikgrozev.com/2015/12/27/pandas-in-jupyter-quickstart-and-useful-snippets/)."
      ]
    },
    {
      "cell_type": "markdown",
      "metadata": {
        "id": "LOyrsZB10g40"
      },
      "source": [
        "Pandas permite gestionar conjuntos de datos n-dimensionales de diferentes formas, y también conectarlo con matplotlib para hacer gráficas.\n",
        "\n",
        "Los conceptos principales de Pandas son los `Dataframes` y las `Series`. La diferencia entre ambas es que la serie guarda sólo una serie (una columna o una fila, depende de como se quiera interpretar), mientras que un Dataframe guarda estructuras multidimensaionales agregando series.\n",
        "\n",
        "Ambas tienen una (o varias) \"columna fantasma\", que sirve de índice, y que se puede acceder con `d.index` (tanto si `d` es una serie o un dataframe). Si no se especifica un índice, se le añade uno virtual numerando las filas desde cero. Además, los índices pueden ser multidimensionales (por ejemplo, tener un índice por mes y dentro uno por dia de la semana)."
      ]
    },
    {
      "cell_type": "code",
      "execution_count": 83,
      "metadata": {
        "id": "cl0Bh4Q-0g44"
      },
      "outputs": [
        {
          "data": {
            "text/plain": [
              "2000-01-01    0.203373\n",
              "2000-01-02   -0.331363\n",
              "2000-01-03    1.559255\n",
              "2000-01-04    0.654457\n",
              "2000-01-05   -0.499530\n",
              "                ...   \n",
              "2002-09-22    0.191807\n",
              "2002-09-23    0.446185\n",
              "2002-09-24    0.557306\n",
              "2002-09-25    0.360514\n",
              "2002-09-26    0.381659\n",
              "Freq: D, Length: 1000, dtype: float64"
            ]
          },
          "execution_count": 83,
          "metadata": {},
          "output_type": "execute_result"
        }
      ],
      "source": [
        "ts = pd.Series(np.random.randn(1000), index=pd.date_range('1/1/2000', periods=1000))\n",
        "ts"
      ]
    },
    {
      "cell_type": "code",
      "execution_count": 84,
      "metadata": {
        "id": "6RQFSUOW0g5A"
      },
      "outputs": [
        {
          "data": {
            "text/plain": [
              "count    1000.000000\n",
              "mean       -0.009745\n",
              "std         1.024482\n",
              "min        -3.932389\n",
              "25%        -0.659425\n",
              "50%        -0.014478\n",
              "75%         0.657470\n",
              "max         3.944034\n",
              "dtype: float64"
            ]
          },
          "execution_count": 84,
          "metadata": {},
          "output_type": "execute_result"
        }
      ],
      "source": [
        "ts.describe()"
      ]
    },
    {
      "cell_type": "code",
      "execution_count": 85,
      "metadata": {
        "id": "pEYsgmGG0g5N"
      },
      "outputs": [
        {
          "data": {
            "image/png": "[encoded data removed]",
            "text/plain": [
              "<Figure size 640x480 with 1 Axes>"
            ]
          },
          "metadata": {},
          "output_type": "display_data"
        }
      ],
      "source": [
        "ts = ts.cumsum()\n",
        "ts.plot();"
      ]
    },
    {
      "cell_type": "code",
      "execution_count": 86,
      "metadata": {
        "id": "NJnJN3Mx0g5s"
      },
      "outputs": [
        {
          "data": {
            "image/png": "[encoded data removed]",
            "text/plain": [
              "<Figure size 640x480 with 1 Axes>"
            ]
          },
          "metadata": {},
          "output_type": "display_data"
        }
      ],
      "source": [
        "df = pd.DataFrame(np.random.randn(1000, 4), index=ts.index, columns=list('ABCD'))\n",
        "\n",
        "df = df.cumsum()\n",
        "\n",
        "df.plot();"
      ]
    },
    {
      "cell_type": "markdown",
      "metadata": {
        "id": "gGSFAtW10g5z"
      },
      "source": [
        "Se puede hacer plot también de una columna contra otra."
      ]
    },
    {
      "cell_type": "code",
      "execution_count": 87,
      "metadata": {
        "id": "a5adevuK0g51",
        "scrolled": true
      },
      "outputs": [
        {
          "data": {
            "image/png": "[encoded data removed]",
            "text/plain": [
              "<Figure size 640x480 with 1 Axes>"
            ]
          },
          "metadata": {},
          "output_type": "display_data"
        }
      ],
      "source": [
        "df3 = pd.DataFrame(np.random.randn(1000, 2), columns=['B', 'C']).cumsum()\n",
        "df3['A'] = pd.Series(list(range(len(df3))))\n",
        "df3.plot(x='A', y='B');"
      ]
    },
    {
      "cell_type": "markdown",
      "metadata": {
        "id": "Q4UceYje0g6A"
      },
      "source": [
        "Valores incompletos. Si no se establecen, se pone a `NaN` (_not a number_)."
      ]
    },
    {
      "cell_type": "code",
      "execution_count": 88,
      "metadata": {
        "id": "Qc6-3Cdu0g6C"
      },
      "outputs": [
        {
          "data": {
            "text/html": [
              "<div>\n",
              "<style scoped>\n",
              "    .dataframe tbody tr th:only-of-type {\n",
              "        vertical-align: middle;\n",
              "    }\n",
              "\n",
              "    .dataframe tbody tr th {\n",
              "        vertical-align: top;\n",
              "    }\n",
              "\n",
              "    .dataframe thead th {\n",
              "        text-align: right;\n",
              "    }\n",
              "</style>\n",
              "<table border=\"1\" class=\"dataframe\">\n",
              "  <thead>\n",
              "    <tr style=\"text-align: right;\">\n",
              "      <th></th>\n",
              "      <th>one</th>\n",
              "      <th>two</th>\n",
              "    </tr>\n",
              "  </thead>\n",
              "  <tbody>\n",
              "    <tr>\n",
              "      <th>a</th>\n",
              "      <td>1.0</td>\n",
              "      <td>1.0</td>\n",
              "    </tr>\n",
              "    <tr>\n",
              "      <th>b</th>\n",
              "      <td>2.0</td>\n",
              "      <td>2.0</td>\n",
              "    </tr>\n",
              "    <tr>\n",
              "      <th>c</th>\n",
              "      <td>3.0</td>\n",
              "      <td>3.0</td>\n",
              "    </tr>\n",
              "    <tr>\n",
              "      <th>d</th>\n",
              "      <td>NaN</td>\n",
              "      <td>4.0</td>\n",
              "    </tr>\n",
              "  </tbody>\n",
              "</table>\n",
              "</div>"
            ],
            "text/plain": [
              "   one  two\n",
              "a  1.0  1.0\n",
              "b  2.0  2.0\n",
              "c  3.0  3.0\n",
              "d  NaN  4.0"
            ]
          },
          "execution_count": 88,
          "metadata": {},
          "output_type": "execute_result"
        }
      ],
      "source": [
        "d = {'one' : pd.Series([1., 2., 3.], index=['a', 'b', 'c']),\n",
        "     'two' : pd.Series([1., 2., 3., 4.], index=['a', 'b', 'c', 'd'])}\n",
        "df = pd.DataFrame(d)\n",
        "df"
      ]
    },
    {
      "cell_type": "markdown",
      "metadata": {
        "id": "EXZ4QkcK0g6J"
      },
      "source": [
        "`fillna()` permite cambiar el valor de los datos faltantes."
      ]
    },
    {
      "cell_type": "code",
      "execution_count": 89,
      "metadata": {
        "id": "rgsfR4sx0g6K"
      },
      "outputs": [
        {
          "data": {
            "text/html": [
              "<div>\n",
              "<style scoped>\n",
              "    .dataframe tbody tr th:only-of-type {\n",
              "        vertical-align: middle;\n",
              "    }\n",
              "\n",
              "    .dataframe tbody tr th {\n",
              "        vertical-align: top;\n",
              "    }\n",
              "\n",
              "    .dataframe thead th {\n",
              "        text-align: right;\n",
              "    }\n",
              "</style>\n",
              "<table border=\"1\" class=\"dataframe\">\n",
              "  <thead>\n",
              "    <tr style=\"text-align: right;\">\n",
              "      <th></th>\n",
              "      <th>one</th>\n",
              "      <th>two</th>\n",
              "    </tr>\n",
              "  </thead>\n",
              "  <tbody>\n",
              "    <tr>\n",
              "      <th>a</th>\n",
              "      <td>1.0</td>\n",
              "      <td>1.0</td>\n",
              "    </tr>\n",
              "    <tr>\n",
              "      <th>b</th>\n",
              "      <td>2.0</td>\n",
              "      <td>2.0</td>\n",
              "    </tr>\n",
              "    <tr>\n",
              "      <th>c</th>\n",
              "      <td>3.0</td>\n",
              "      <td>3.0</td>\n",
              "    </tr>\n",
              "    <tr>\n",
              "      <th>d</th>\n",
              "      <td>0.0</td>\n",
              "      <td>4.0</td>\n",
              "    </tr>\n",
              "  </tbody>\n",
              "</table>\n",
              "</div>"
            ],
            "text/plain": [
              "   one  two\n",
              "a  1.0  1.0\n",
              "b  2.0  2.0\n",
              "c  3.0  3.0\n",
              "d  0.0  4.0"
            ]
          },
          "execution_count": 89,
          "metadata": {},
          "output_type": "execute_result"
        }
      ],
      "source": [
        "df.fillna(0)"
      ]
    },
    {
      "cell_type": "code",
      "execution_count": 90,
      "metadata": {
        "id": "9rM1X2lV0g6R"
      },
      "outputs": [
        {
          "data": {
            "text/html": [
              "<div>\n",
              "<style scoped>\n",
              "    .dataframe tbody tr th:only-of-type {\n",
              "        vertical-align: middle;\n",
              "    }\n",
              "\n",
              "    .dataframe tbody tr th {\n",
              "        vertical-align: top;\n",
              "    }\n",
              "\n",
              "    .dataframe thead th {\n",
              "        text-align: right;\n",
              "    }\n",
              "</style>\n",
              "<table border=\"1\" class=\"dataframe\">\n",
              "  <thead>\n",
              "    <tr style=\"text-align: right;\">\n",
              "      <th></th>\n",
              "      <th>one</th>\n",
              "      <th>two</th>\n",
              "    </tr>\n",
              "  </thead>\n",
              "  <tbody>\n",
              "    <tr>\n",
              "      <th>d</th>\n",
              "      <td>NaN</td>\n",
              "      <td>4.0</td>\n",
              "    </tr>\n",
              "    <tr>\n",
              "      <th>b</th>\n",
              "      <td>2.0</td>\n",
              "      <td>2.0</td>\n",
              "    </tr>\n",
              "    <tr>\n",
              "      <th>a</th>\n",
              "      <td>1.0</td>\n",
              "      <td>1.0</td>\n",
              "    </tr>\n",
              "  </tbody>\n",
              "</table>\n",
              "</div>"
            ],
            "text/plain": [
              "   one  two\n",
              "d  NaN  4.0\n",
              "b  2.0  2.0\n",
              "a  1.0  1.0"
            ]
          },
          "execution_count": 90,
          "metadata": {},
          "output_type": "execute_result"
        }
      ],
      "source": [
        "pd.DataFrame(d, index=['d', 'b', 'a'])"
      ]
    },
    {
      "cell_type": "code",
      "execution_count": 91,
      "metadata": {
        "id": "HanNMeBa0g6b"
      },
      "outputs": [
        {
          "data": {
            "text/html": [
              "<div>\n",
              "<style scoped>\n",
              "    .dataframe tbody tr th:only-of-type {\n",
              "        vertical-align: middle;\n",
              "    }\n",
              "\n",
              "    .dataframe tbody tr th {\n",
              "        vertical-align: top;\n",
              "    }\n",
              "\n",
              "    .dataframe thead th {\n",
              "        text-align: right;\n",
              "    }\n",
              "</style>\n",
              "<table border=\"1\" class=\"dataframe\">\n",
              "  <thead>\n",
              "    <tr style=\"text-align: right;\">\n",
              "      <th></th>\n",
              "      <th>two</th>\n",
              "      <th>three</th>\n",
              "    </tr>\n",
              "  </thead>\n",
              "  <tbody>\n",
              "    <tr>\n",
              "      <th>d</th>\n",
              "      <td>4.0</td>\n",
              "      <td>NaN</td>\n",
              "    </tr>\n",
              "    <tr>\n",
              "      <th>b</th>\n",
              "      <td>2.0</td>\n",
              "      <td>NaN</td>\n",
              "    </tr>\n",
              "    <tr>\n",
              "      <th>a</th>\n",
              "      <td>1.0</td>\n",
              "      <td>NaN</td>\n",
              "    </tr>\n",
              "  </tbody>\n",
              "</table>\n",
              "</div>"
            ],
            "text/plain": [
              "   two three\n",
              "d  4.0   NaN\n",
              "b  2.0   NaN\n",
              "a  1.0   NaN"
            ]
          },
          "execution_count": 91,
          "metadata": {},
          "output_type": "execute_result"
        }
      ],
      "source": [
        "pd.DataFrame(d, index=['d', 'b', 'a'], columns=['two', 'three'])"
      ]
    },
    {
      "cell_type": "markdown",
      "metadata": {
        "id": "ROQ0H5Ny0g6k"
      },
      "source": [
        "A continuación se muestra un ejemplo de uso de Pandas para leer datos y procesarlos en un Dataframe.\n",
        "\n",
        "El primer ejemplo completo carga desde el fichero `swift-question-dates.txt.gz` las fechas de las preguntas en Stackoverflow que contienen el tag \"swift\"."
      ]
    },
    {
      "cell_type": "markdown",
      "metadata": {
        "id": "fPUsDbL00g6m"
      },
      "source": [
        "La función `read_csv` es capaz de leer cualquier fichero CSV y lo convierte en un \"Dataframe\", una estructura de tabla que guarda también los nombres y los tipos de las columnas, así como un índice por el que se identificarán las tablas. La lista incluye la fecha en donde se produjo una pregunta con el tag \"swift\". Como los datos en sí son las fechas, hacemos que la columna de fechas haga a su vez de índice."
      ]
    },
    {
      "cell_type": "code",
      "execution_count": 92,
      "metadata": {
        "id": "QvDjN15R0g6o"
      },
      "outputs": [],
      "source": [
        "df = pd.read_csv('https://github.com/dsevilla/bdge/raw/master/intro/swift-question-dates.txt.gz',\n",
        "                 header=None,\n",
        "                 names=['date'],\n",
        "                 compression='gzip',\n",
        "                 parse_dates=['date'],\n",
        "                 index_col='date')"
      ]
    },
    {
      "cell_type": "code",
      "execution_count": 93,
      "metadata": {
        "id": "fgVSv1lt0g6v",
        "scrolled": true
      },
      "outputs": [
        {
          "data": {
            "text/html": [
              "<div>\n",
              "<style scoped>\n",
              "    .dataframe tbody tr th:only-of-type {\n",
              "        vertical-align: middle;\n",
              "    }\n",
              "\n",
              "    .dataframe tbody tr th {\n",
              "        vertical-align: top;\n",
              "    }\n",
              "\n",
              "    .dataframe thead th {\n",
              "        text-align: right;\n",
              "    }\n",
              "</style>\n",
              "<table border=\"1\" class=\"dataframe\">\n",
              "  <thead>\n",
              "    <tr style=\"text-align: right;\">\n",
              "      <th></th>\n",
              "    </tr>\n",
              "    <tr>\n",
              "      <th>date</th>\n",
              "    </tr>\n",
              "  </thead>\n",
              "  <tbody>\n",
              "    <tr>\n",
              "      <th>2008-08-24</th>\n",
              "    </tr>\n",
              "    <tr>\n",
              "      <th>2008-11-19</th>\n",
              "    </tr>\n",
              "    <tr>\n",
              "      <th>2009-02-17</th>\n",
              "    </tr>\n",
              "    <tr>\n",
              "      <th>2009-03-30</th>\n",
              "    </tr>\n",
              "    <tr>\n",
              "      <th>2009-04-07</th>\n",
              "    </tr>\n",
              "    <tr>\n",
              "      <th>...</th>\n",
              "    </tr>\n",
              "    <tr>\n",
              "      <th>2016-09-04</th>\n",
              "    </tr>\n",
              "    <tr>\n",
              "      <th>2016-09-04</th>\n",
              "    </tr>\n",
              "    <tr>\n",
              "      <th>2016-09-04</th>\n",
              "    </tr>\n",
              "    <tr>\n",
              "      <th>2016-09-04</th>\n",
              "    </tr>\n",
              "    <tr>\n",
              "      <th>2016-09-04</th>\n",
              "    </tr>\n",
              "  </tbody>\n",
              "</table>\n",
              "<p>116624 rows × 0 columns</p>\n",
              "</div>"
            ],
            "text/plain": [
              "Empty DataFrame\n",
              "Columns: []\n",
              "Index: [2008-08-24 00:00:00, 2008-11-19 00:00:00, 2009-02-17 00:00:00, 2009-03-30 00:00:00, 2009-04-07 00:00:00, 2009-04-21 00:00:00, 2009-05-05 00:00:00, 2009-05-27 00:00:00, 2009-06-04 00:00:00, 2009-06-10 00:00:00, 2009-06-10 00:00:00, 2009-06-12 00:00:00, 2009-06-17 00:00:00, 2009-06-30 00:00:00, 2009-07-14 00:00:00, 2009-08-03 00:00:00, 2009-08-07 00:00:00, 2009-08-07 00:00:00, 2009-08-17 00:00:00, 2009-08-18 00:00:00, 2009-08-28 00:00:00, 2009-09-04 00:00:00, 2009-09-05 00:00:00, 2009-09-24 00:00:00, 2009-09-27 00:00:00, 2009-09-29 00:00:00, 2009-10-28 00:00:00, 2009-11-04 00:00:00, 2009-11-16 00:00:00, 2009-12-24 00:00:00, 2010-01-02 00:00:00, 2010-02-03 00:00:00, 2010-02-06 00:00:00, 2010-02-12 00:00:00, 2010-02-23 00:00:00, 2010-03-19 00:00:00, 2010-03-19 00:00:00, 2010-03-19 00:00:00, 2010-03-22 00:00:00, 2010-03-22 00:00:00, 2010-04-01 00:00:00, 2010-04-07 00:00:00, 2010-05-09 00:00:00, 2010-05-28 00:00:00, 2010-06-12 00:00:00, 2010-06-15 00:00:00, 2010-06-19 00:00:00, 2010-06-24 00:00:00, 2010-07-02 00:00:00, 2010-07-16 00:00:00, 2010-07-18 00:00:00, 2010-07-20 00:00:00, 2010-07-20 00:00:00, 2010-07-20 00:00:00, 2010-07-22 00:00:00, 2010-07-23 00:00:00, 2010-07-29 00:00:00, 2010-08-13 00:00:00, 2010-08-13 00:00:00, 2010-08-21 00:00:00, 2010-08-23 00:00:00, 2010-08-24 00:00:00, 2010-08-24 00:00:00, 2010-08-25 00:00:00, 2010-09-04 00:00:00, 2010-09-08 00:00:00, 2010-09-14 00:00:00, 2010-09-16 00:00:00, 2010-09-18 00:00:00, 2010-09-22 00:00:00, 2010-09-27 00:00:00, 2010-10-11 00:00:00, 2010-10-12 00:00:00, 2010-10-29 00:00:00, 2010-11-01 00:00:00, 2010-11-04 00:00:00, 2010-11-09 00:00:00, 2010-11-09 00:00:00, 2010-11-10 00:00:00, 2010-11-18 00:00:00, 2010-11-19 00:00:00, 2010-11-24 00:00:00, 2010-11-29 00:00:00, 2010-12-06 00:00:00, 2010-12-08 00:00:00, 2010-12-19 00:00:00, 2010-12-25 00:00:00, 2010-12-29 00:00:00, 2011-01-05 00:00:00, 2011-01-12 00:00:00, 2011-01-20 00:00:00, 2011-01-20 00:00:00, 2011-01-24 00:00:00, 2011-01-27 00:00:00, 2011-01-31 00:00:00, 2011-02-02 00:00:00, 2011-02-04 00:00:00, 2011-02-07 00:00:00, 2011-02-09 00:00:00, 2011-02-09 00:00:00, ...]\n",
              "\n",
              "[116624 rows x 0 columns]"
            ]
          },
          "execution_count": 93,
          "metadata": {},
          "output_type": "execute_result"
        }
      ],
      "source": [
        "df"
      ]
    },
    {
      "cell_type": "markdown",
      "metadata": {
        "id": "dzPabHwO0g62"
      },
      "source": [
        "De la fecha, extraer sólo la fecha (no la hora, que no nos interesa)."
      ]
    },
    {
      "cell_type": "code",
      "execution_count": 94,
      "metadata": {
        "id": "Fs9Z3Bd50g68"
      },
      "outputs": [],
      "source": [
        "df.index = df.index.date"
      ]
    },
    {
      "cell_type": "markdown",
      "metadata": {
        "id": "wwZuo_Dh0g7D"
      },
      "source": [
        "Añadimos una columna de todo \"1\" para especificar que cada pregunta cuenta como 1."
      ]
    },
    {
      "cell_type": "code",
      "execution_count": 95,
      "metadata": {
        "id": "SZYjrZoW0g7F",
        "scrolled": true
      },
      "outputs": [
        {
          "data": {
            "text/html": [
              "<div>\n",
              "<style scoped>\n",
              "    .dataframe tbody tr th:only-of-type {\n",
              "        vertical-align: middle;\n",
              "    }\n",
              "\n",
              "    .dataframe tbody tr th {\n",
              "        vertical-align: top;\n",
              "    }\n",
              "\n",
              "    .dataframe thead th {\n",
              "        text-align: right;\n",
              "    }\n",
              "</style>\n",
              "<table border=\"1\" class=\"dataframe\">\n",
              "  <thead>\n",
              "    <tr style=\"text-align: right;\">\n",
              "      <th></th>\n",
              "      <th>Count</th>\n",
              "    </tr>\n",
              "  </thead>\n",
              "  <tbody>\n",
              "    <tr>\n",
              "      <th>2008-08-24</th>\n",
              "      <td>1</td>\n",
              "    </tr>\n",
              "    <tr>\n",
              "      <th>2008-11-19</th>\n",
              "      <td>1</td>\n",
              "    </tr>\n",
              "    <tr>\n",
              "      <th>2009-02-17</th>\n",
              "      <td>1</td>\n",
              "    </tr>\n",
              "    <tr>\n",
              "      <th>2009-03-30</th>\n",
              "      <td>1</td>\n",
              "    </tr>\n",
              "    <tr>\n",
              "      <th>2009-04-07</th>\n",
              "      <td>1</td>\n",
              "    </tr>\n",
              "    <tr>\n",
              "      <th>...</th>\n",
              "      <td>...</td>\n",
              "    </tr>\n",
              "    <tr>\n",
              "      <th>2016-09-04</th>\n",
              "      <td>1</td>\n",
              "    </tr>\n",
              "    <tr>\n",
              "      <th>2016-09-04</th>\n",
              "      <td>1</td>\n",
              "    </tr>\n",
              "    <tr>\n",
              "      <th>2016-09-04</th>\n",
              "      <td>1</td>\n",
              "    </tr>\n",
              "    <tr>\n",
              "      <th>2016-09-04</th>\n",
              "      <td>1</td>\n",
              "    </tr>\n",
              "    <tr>\n",
              "      <th>2016-09-04</th>\n",
              "      <td>1</td>\n",
              "    </tr>\n",
              "  </tbody>\n",
              "</table>\n",
              "<p>116624 rows × 1 columns</p>\n",
              "</div>"
            ],
            "text/plain": [
              "            Count\n",
              "2008-08-24      1\n",
              "2008-11-19      1\n",
              "2009-02-17      1\n",
              "2009-03-30      1\n",
              "2009-04-07      1\n",
              "...           ...\n",
              "2016-09-04      1\n",
              "2016-09-04      1\n",
              "2016-09-04      1\n",
              "2016-09-04      1\n",
              "2016-09-04      1\n",
              "\n",
              "[116624 rows x 1 columns]"
            ]
          },
          "execution_count": 95,
          "metadata": {},
          "output_type": "execute_result"
        }
      ],
      "source": [
        "df['Count'] = 1\n",
        "df"
      ]
    },
    {
      "cell_type": "markdown",
      "metadata": {
        "id": "IK9lb7_e0g7L"
      },
      "source": [
        "A los Dataframe de Pandas también se les puede aplicar operaciones de agregación, como `groupby` o `sum`. Finalmente, la funcion `plot()` permite mostrar los datos en un gráfico."
      ]
    },
    {
      "cell_type": "code",
      "execution_count": 96,
      "metadata": {
        "id": "jHCSo_G60g7M"
      },
      "outputs": [
        {
          "data": {
            "text/html": [
              "<div>\n",
              "<style scoped>\n",
              "    .dataframe tbody tr th:only-of-type {\n",
              "        vertical-align: middle;\n",
              "    }\n",
              "\n",
              "    .dataframe tbody tr th {\n",
              "        vertical-align: top;\n",
              "    }\n",
              "\n",
              "    .dataframe thead th {\n",
              "        text-align: right;\n",
              "    }\n",
              "</style>\n",
              "<table border=\"1\" class=\"dataframe\">\n",
              "  <thead>\n",
              "    <tr style=\"text-align: right;\">\n",
              "      <th></th>\n",
              "      <th>Count</th>\n",
              "    </tr>\n",
              "  </thead>\n",
              "  <tbody>\n",
              "    <tr>\n",
              "      <th>2008-08-24</th>\n",
              "      <td>1</td>\n",
              "    </tr>\n",
              "    <tr>\n",
              "      <th>2008-11-19</th>\n",
              "      <td>1</td>\n",
              "    </tr>\n",
              "    <tr>\n",
              "      <th>2009-02-17</th>\n",
              "      <td>1</td>\n",
              "    </tr>\n",
              "    <tr>\n",
              "      <th>2009-03-30</th>\n",
              "      <td>1</td>\n",
              "    </tr>\n",
              "    <tr>\n",
              "      <th>2009-04-07</th>\n",
              "      <td>1</td>\n",
              "    </tr>\n",
              "    <tr>\n",
              "      <th>...</th>\n",
              "      <td>...</td>\n",
              "    </tr>\n",
              "    <tr>\n",
              "      <th>2016-08-31</th>\n",
              "      <td>231</td>\n",
              "    </tr>\n",
              "    <tr>\n",
              "      <th>2016-09-01</th>\n",
              "      <td>231</td>\n",
              "    </tr>\n",
              "    <tr>\n",
              "      <th>2016-09-02</th>\n",
              "      <td>197</td>\n",
              "    </tr>\n",
              "    <tr>\n",
              "      <th>2016-09-03</th>\n",
              "      <td>158</td>\n",
              "    </tr>\n",
              "    <tr>\n",
              "      <th>2016-09-04</th>\n",
              "      <td>21</td>\n",
              "    </tr>\n",
              "  </tbody>\n",
              "</table>\n",
              "<p>1360 rows × 1 columns</p>\n",
              "</div>"
            ],
            "text/plain": [
              "            Count\n",
              "2008-08-24      1\n",
              "2008-11-19      1\n",
              "2009-02-17      1\n",
              "2009-03-30      1\n",
              "2009-04-07      1\n",
              "...           ...\n",
              "2016-08-31    231\n",
              "2016-09-01    231\n",
              "2016-09-02    197\n",
              "2016-09-03    158\n",
              "2016-09-04     21\n",
              "\n",
              "[1360 rows x 1 columns]"
            ]
          },
          "execution_count": 96,
          "metadata": {},
          "output_type": "execute_result"
        }
      ],
      "source": [
        "accum = df.groupby(df.index).sum()\n",
        "accum"
      ]
    },
    {
      "cell_type": "code",
      "execution_count": 97,
      "metadata": {
        "id": "HUWdf1E30g7S"
      },
      "outputs": [
        {
          "data": {
            "text/html": [
              "<div>\n",
              "<style scoped>\n",
              "    .dataframe tbody tr th:only-of-type {\n",
              "        vertical-align: middle;\n",
              "    }\n",
              "\n",
              "    .dataframe tbody tr th {\n",
              "        vertical-align: top;\n",
              "    }\n",
              "\n",
              "    .dataframe thead th {\n",
              "        text-align: right;\n",
              "    }\n",
              "</style>\n",
              "<table border=\"1\" class=\"dataframe\">\n",
              "  <thead>\n",
              "    <tr style=\"text-align: right;\">\n",
              "      <th></th>\n",
              "      <th>Count</th>\n",
              "    </tr>\n",
              "  </thead>\n",
              "  <tbody>\n",
              "    <tr>\n",
              "      <th>2014-06-02</th>\n",
              "      <td>33</td>\n",
              "    </tr>\n",
              "    <tr>\n",
              "      <th>2014-06-03</th>\n",
              "      <td>170</td>\n",
              "    </tr>\n",
              "    <tr>\n",
              "      <th>2014-06-04</th>\n",
              "      <td>188</td>\n",
              "    </tr>\n",
              "    <tr>\n",
              "      <th>2014-06-05</th>\n",
              "      <td>160</td>\n",
              "    </tr>\n",
              "    <tr>\n",
              "      <th>2014-06-06</th>\n",
              "      <td>139</td>\n",
              "    </tr>\n",
              "    <tr>\n",
              "      <th>2014-06-07</th>\n",
              "      <td>84</td>\n",
              "    </tr>\n",
              "    <tr>\n",
              "      <th>2014-06-08</th>\n",
              "      <td>148</td>\n",
              "    </tr>\n",
              "    <tr>\n",
              "      <th>2014-06-09</th>\n",
              "      <td>123</td>\n",
              "    </tr>\n",
              "    <tr>\n",
              "      <th>2014-06-10</th>\n",
              "      <td>140</td>\n",
              "    </tr>\n",
              "    <tr>\n",
              "      <th>2014-06-11</th>\n",
              "      <td>103</td>\n",
              "    </tr>\n",
              "    <tr>\n",
              "      <th>2014-06-12</th>\n",
              "      <td>95</td>\n",
              "    </tr>\n",
              "    <tr>\n",
              "      <th>2014-06-13</th>\n",
              "      <td>87</td>\n",
              "    </tr>\n",
              "    <tr>\n",
              "      <th>2014-06-14</th>\n",
              "      <td>52</td>\n",
              "    </tr>\n",
              "    <tr>\n",
              "      <th>2014-06-15</th>\n",
              "      <td>65</td>\n",
              "    </tr>\n",
              "    <tr>\n",
              "      <th>2014-06-16</th>\n",
              "      <td>74</td>\n",
              "    </tr>\n",
              "    <tr>\n",
              "      <th>2014-06-17</th>\n",
              "      <td>67</td>\n",
              "    </tr>\n",
              "    <tr>\n",
              "      <th>2014-06-18</th>\n",
              "      <td>49</td>\n",
              "    </tr>\n",
              "    <tr>\n",
              "      <th>2014-06-19</th>\n",
              "      <td>66</td>\n",
              "    </tr>\n",
              "    <tr>\n",
              "      <th>2014-06-20</th>\n",
              "      <td>64</td>\n",
              "    </tr>\n",
              "    <tr>\n",
              "      <th>2014-06-21</th>\n",
              "      <td>34</td>\n",
              "    </tr>\n",
              "    <tr>\n",
              "      <th>2014-06-22</th>\n",
              "      <td>48</td>\n",
              "    </tr>\n",
              "    <tr>\n",
              "      <th>2014-06-23</th>\n",
              "      <td>57</td>\n",
              "    </tr>\n",
              "    <tr>\n",
              "      <th>2014-06-24</th>\n",
              "      <td>72</td>\n",
              "    </tr>\n",
              "    <tr>\n",
              "      <th>2014-06-25</th>\n",
              "      <td>64</td>\n",
              "    </tr>\n",
              "    <tr>\n",
              "      <th>2014-06-26</th>\n",
              "      <td>65</td>\n",
              "    </tr>\n",
              "    <tr>\n",
              "      <th>2014-06-27</th>\n",
              "      <td>44</td>\n",
              "    </tr>\n",
              "    <tr>\n",
              "      <th>2014-06-28</th>\n",
              "      <td>52</td>\n",
              "    </tr>\n",
              "    <tr>\n",
              "      <th>2014-06-29</th>\n",
              "      <td>33</td>\n",
              "    </tr>\n",
              "    <tr>\n",
              "      <th>2014-06-30</th>\n",
              "      <td>64</td>\n",
              "    </tr>\n",
              "    <tr>\n",
              "      <th>2014-07-01</th>\n",
              "      <td>54</td>\n",
              "    </tr>\n",
              "  </tbody>\n",
              "</table>\n",
              "</div>"
            ],
            "text/plain": [
              "            Count\n",
              "2014-06-02     33\n",
              "2014-06-03    170\n",
              "2014-06-04    188\n",
              "2014-06-05    160\n",
              "2014-06-06    139\n",
              "2014-06-07     84\n",
              "2014-06-08    148\n",
              "2014-06-09    123\n",
              "2014-06-10    140\n",
              "2014-06-11    103\n",
              "2014-06-12     95\n",
              "2014-06-13     87\n",
              "2014-06-14     52\n",
              "2014-06-15     65\n",
              "2014-06-16     74\n",
              "2014-06-17     67\n",
              "2014-06-18     49\n",
              "2014-06-19     66\n",
              "2014-06-20     64\n",
              "2014-06-21     34\n",
              "2014-06-22     48\n",
              "2014-06-23     57\n",
              "2014-06-24     72\n",
              "2014-06-25     64\n",
              "2014-06-26     65\n",
              "2014-06-27     44\n",
              "2014-06-28     52\n",
              "2014-06-29     33\n",
              "2014-06-30     64\n",
              "2014-07-01     54"
            ]
          },
          "execution_count": 97,
          "metadata": {},
          "output_type": "execute_result"
        }
      ],
      "source": [
        "# Los 30 primeros registros que tengan un número de preguntas mayor que 20 por día.\n",
        "accum = accum[accum.Count > 20][:30]\n",
        "accum"
      ]
    },
    {
      "cell_type": "code",
      "execution_count": 98,
      "metadata": {
        "id": "Oj-c5bzw0g7Z",
        "scrolled": true
      },
      "outputs": [
        {
          "data": {
            "text/plain": [
              "<Axes: >"
            ]
          },
          "execution_count": 98,
          "metadata": {},
          "output_type": "execute_result"
        },
        {
          "data": {
            "image/png": "[encoded data removed]",
            "text/plain": [
              "<Figure size 640x480 with 1 Axes>"
            ]
          },
          "metadata": {},
          "output_type": "display_data"
        }
      ],
      "source": [
        "accum[accum.Count > 30][:30].plot.bar()"
      ]
    },
    {
      "cell_type": "markdown",
      "metadata": {
        "id": "3rD7gtAn0g7g"
      },
      "source": [
        "A continuación comprobamos con la página de la Wikipedia cuándo apareció el lenguaje Swift:"
      ]
    },
    {
      "cell_type": "code",
      "execution_count": 99,
      "metadata": {
        "id": "mlYdNb0I0g7h"
      },
      "outputs": [
        {
          "name": "stdout",
          "output_type": "stream",
          "text": [
            "Requirement already satisfied: lxml in c:\\users\\fcoja\\appdata\\local\\programs\\python\\python311\\lib\\site-packages (5.1.0)\n"
          ]
        }
      ],
      "source": [
        "!pip install lxml"
      ]
    },
    {
      "cell_type": "code",
      "execution_count": 100,
      "metadata": {
        "id": "MEL7lZ4B0g7p"
      },
      "outputs": [],
      "source": [
        "dfwiki = pd.read_html('https://en.wikipedia.org/wiki/Swift_(programming_language)',attrs={'class': 'infobox vevent'})"
      ]
    },
    {
      "cell_type": "code",
      "execution_count": 101,
      "metadata": {
        "id": "NulSTjML0g70"
      },
      "outputs": [
        {
          "data": {
            "text/html": [
              "<div>\n",
              "<style scoped>\n",
              "    .dataframe tbody tr th:only-of-type {\n",
              "        vertical-align: middle;\n",
              "    }\n",
              "\n",
              "    .dataframe tbody tr th {\n",
              "        vertical-align: top;\n",
              "    }\n",
              "\n",
              "    .dataframe thead th {\n",
              "        text-align: right;\n",
              "    }\n",
              "</style>\n",
              "<table border=\"1\" class=\"dataframe\">\n",
              "  <thead>\n",
              "    <tr style=\"text-align: right;\">\n",
              "      <th></th>\n",
              "      <th>0</th>\n",
              "      <th>1</th>\n",
              "    </tr>\n",
              "  </thead>\n",
              "  <tbody>\n",
              "    <tr>\n",
              "      <th>0</th>\n",
              "      <td>Logo</td>\n",
              "      <td>Logo</td>\n",
              "    </tr>\n",
              "    <tr>\n",
              "      <th>1</th>\n",
              "      <td>NaN</td>\n",
              "      <td>NaN</td>\n",
              "    </tr>\n",
              "    <tr>\n",
              "      <th>2</th>\n",
              "      <td>Paradigm</td>\n",
              "      <td>Multi-paradigm: protocol-oriented, object-orie...</td>\n",
              "    </tr>\n",
              "    <tr>\n",
              "      <th>3</th>\n",
              "      <td>Designed by</td>\n",
              "      <td>Chris Lattner, Doug Gregor, John McCall, Ted K...</td>\n",
              "    </tr>\n",
              "    <tr>\n",
              "      <th>4</th>\n",
              "      <td>Developer</td>\n",
              "      <td>Apple Inc. and open-source contributors</td>\n",
              "    </tr>\n",
              "    <tr>\n",
              "      <th>5</th>\n",
              "      <td>First appeared</td>\n",
              "      <td>June 2, 2014; 9 years ago[2]</td>\n",
              "    </tr>\n",
              "    <tr>\n",
              "      <th>6</th>\n",
              "      <td>NaN</td>\n",
              "      <td>NaN</td>\n",
              "    </tr>\n",
              "    <tr>\n",
              "      <th>7</th>\n",
              "      <td>Stable release</td>\n",
              "      <td>5.9.2[3] / 11 December 2023; 51 days ago</td>\n",
              "    </tr>\n",
              "    <tr>\n",
              "      <th>8</th>\n",
              "      <td>Preview release</td>\n",
              "      <td>5.9</td>\n",
              "    </tr>\n",
              "    <tr>\n",
              "      <th>9</th>\n",
              "      <td>Typing discipline</td>\n",
              "      <td>Static, strong, inferred</td>\n",
              "    </tr>\n",
              "    <tr>\n",
              "      <th>10</th>\n",
              "      <td>Memory management</td>\n",
              "      <td>Automatic Reference Counting</td>\n",
              "    </tr>\n",
              "    <tr>\n",
              "      <th>11</th>\n",
              "      <td>OS</td>\n",
              "      <td>Apple's operating systems (Darwin, iOS, iPadOS...</td>\n",
              "    </tr>\n",
              "    <tr>\n",
              "      <th>12</th>\n",
              "      <td>License</td>\n",
              "      <td>Apache License 2.0 (Swift 2.2 and later) Propr...</td>\n",
              "    </tr>\n",
              "    <tr>\n",
              "      <th>13</th>\n",
              "      <td>Filename extensions</td>\n",
              "      <td>.swift, .SWIFT</td>\n",
              "    </tr>\n",
              "    <tr>\n",
              "      <th>14</th>\n",
              "      <td>Website</td>\n",
              "      <td>www.swift.org developer.apple.com/swift/</td>\n",
              "    </tr>\n",
              "    <tr>\n",
              "      <th>15</th>\n",
              "      <td>Influenced by</td>\n",
              "      <td>Influenced by</td>\n",
              "    </tr>\n",
              "    <tr>\n",
              "      <th>16</th>\n",
              "      <td>Objective-C,[6] Rust, Haskell, Ruby, Python, C...</td>\n",
              "      <td>Objective-C,[6] Rust, Haskell, Ruby, Python, C...</td>\n",
              "    </tr>\n",
              "    <tr>\n",
              "      <th>17</th>\n",
              "      <td>Influenced</td>\n",
              "      <td>Influenced</td>\n",
              "    </tr>\n",
              "    <tr>\n",
              "      <th>18</th>\n",
              "      <td>Rust,[9] V (Vlang)[10]</td>\n",
              "      <td>Rust,[9] V (Vlang)[10]</td>\n",
              "    </tr>\n",
              "  </tbody>\n",
              "</table>\n",
              "</div>"
            ],
            "text/plain": [
              "                                                    0  \\\n",
              "0                                                Logo   \n",
              "1                                                 NaN   \n",
              "2                                            Paradigm   \n",
              "3                                         Designed by   \n",
              "4                                           Developer   \n",
              "5                                      First appeared   \n",
              "6                                                 NaN   \n",
              "7                                      Stable release   \n",
              "8                                     Preview release   \n",
              "9                                   Typing discipline   \n",
              "10                                  Memory management   \n",
              "11                                                 OS   \n",
              "12                                            License   \n",
              "13                                Filename extensions   \n",
              "14                                            Website   \n",
              "15                                      Influenced by   \n",
              "16  Objective-C,[6] Rust, Haskell, Ruby, Python, C...   \n",
              "17                                         Influenced   \n",
              "18                             Rust,[9] V (Vlang)[10]   \n",
              "\n",
              "                                                    1  \n",
              "0                                                Logo  \n",
              "1                                                 NaN  \n",
              "2   Multi-paradigm: protocol-oriented, object-orie...  \n",
              "3   Chris Lattner, Doug Gregor, John McCall, Ted K...  \n",
              "4             Apple Inc. and open-source contributors  \n",
              "5                        June 2, 2014; 9 years ago[2]  \n",
              "6                                                 NaN  \n",
              "7            5.9.2[3] / 11 December 2023; 51 days ago  \n",
              "8                                                 5.9  \n",
              "9                            Static, strong, inferred  \n",
              "10                       Automatic Reference Counting  \n",
              "11  Apple's operating systems (Darwin, iOS, iPadOS...  \n",
              "12  Apache License 2.0 (Swift 2.2 and later) Propr...  \n",
              "13                                     .swift, .SWIFT  \n",
              "14           www.swift.org developer.apple.com/swift/  \n",
              "15                                      Influenced by  \n",
              "16  Objective-C,[6] Rust, Haskell, Ruby, Python, C...  \n",
              "17                                         Influenced  \n",
              "18                             Rust,[9] V (Vlang)[10]  "
            ]
          },
          "execution_count": 101,
          "metadata": {},
          "output_type": "execute_result"
        }
      ],
      "source": [
        "dfwiki[0]"
      ]
    },
    {
      "cell_type": "code",
      "execution_count": 102,
      "metadata": {
        "id": "AVOS7lyB0g77"
      },
      "outputs": [
        {
          "data": {
            "text/plain": [
              "'June\\xa02, 2014; 9 years ago[2]'"
            ]
          },
          "execution_count": 102,
          "metadata": {},
          "output_type": "execute_result"
        }
      ],
      "source": [
        "firstdate = dfwiki[0][1][5]\n",
        "firstdate"
      ]
    },
    {
      "cell_type": "code",
      "execution_count": 103,
      "metadata": {
        "id": "HrkmQ8O80g8C"
      },
      "outputs": [
        {
          "name": "stdout",
          "output_type": "stream",
          "text": [
            "2014-06-02\n",
            "2014-06-02\n"
          ]
        }
      ],
      "source": [
        "from dateutil.parser import parse\n",
        "dt = parse(firstdate.split(';')[0])\n",
        "print (dt.date().isoformat())\n",
        "print (accum.index[0].isoformat())\n",
        "\n",
        "assert dt.date().isoformat() == accum.index[0].isoformat()"
      ]
    },
    {
      "cell_type": "markdown",
      "metadata": {
        "id": "3_QaMNS80g8K"
      },
      "source": [
        "A continuación se muestra cómo ubicar posiciones en un mapa con el paquete `folium`. Se muestra también cómo acceder a distintas posiciones del Dataframe con `iloc`, `loc`, etc."
      ]
    },
    {
      "cell_type": "code",
      "execution_count": 104,
      "metadata": {
        "id": "3M3icJez0g8O"
      },
      "outputs": [],
      "source": [
        "# cargar municipios y mostrarlos en el mapa\n",
        "df = pd.read_csv('https://github.com/dsevilla/bdge/raw/master/intro/municipios-2017.csv.gz',header=0,compression='gzip')"
      ]
    },
    {
      "cell_type": "code",
      "execution_count": 105,
      "metadata": {
        "id": "wUb91na40g8X"
      },
      "outputs": [
        {
          "data": {
            "text/html": [
              "<div>\n",
              "<style scoped>\n",
              "    .dataframe tbody tr th:only-of-type {\n",
              "        vertical-align: middle;\n",
              "    }\n",
              "\n",
              "    .dataframe tbody tr th {\n",
              "        vertical-align: top;\n",
              "    }\n",
              "\n",
              "    .dataframe thead th {\n",
              "        text-align: right;\n",
              "    }\n",
              "</style>\n",
              "<table border=\"1\" class=\"dataframe\">\n",
              "  <thead>\n",
              "    <tr style=\"text-align: right;\">\n",
              "      <th></th>\n",
              "      <th>COD_INE</th>\n",
              "      <th>ID_REL</th>\n",
              "      <th>COD_GEO</th>\n",
              "      <th>COD_PROV</th>\n",
              "      <th>PROVINCIA</th>\n",
              "      <th>NOMBRE_ACTUAL</th>\n",
              "      <th>POBLACION_MUNI</th>\n",
              "      <th>SUPERFICIE</th>\n",
              "      <th>PERIMETRO</th>\n",
              "      <th>COD_INE_CAPITAL</th>\n",
              "      <th>CAPITAL</th>\n",
              "      <th>POBLACION_CAPITAL</th>\n",
              "      <th>HOJA_MTN25_ETRS89</th>\n",
              "      <th>LONGITUD_ETRS89</th>\n",
              "      <th>LATITUD_ETRS89</th>\n",
              "      <th>ORIGENCOOR</th>\n",
              "      <th>ALTITUD</th>\n",
              "      <th>ORIGENALTITUD</th>\n",
              "    </tr>\n",
              "  </thead>\n",
              "  <tbody>\n",
              "    <tr>\n",
              "      <th>0</th>\n",
              "      <td>1001000000</td>\n",
              "      <td>1010014</td>\n",
              "      <td>1010</td>\n",
              "      <td>1</td>\n",
              "      <td>Araba/Álava</td>\n",
              "      <td>Alegría-Dulantzi</td>\n",
              "      <td>2856</td>\n",
              "      <td>1.994587e+03</td>\n",
              "      <td>35069</td>\n",
              "      <td>1001000101</td>\n",
              "      <td>Alegría-Dulantzi</td>\n",
              "      <td>2747</td>\n",
              "      <td>0113-3</td>\n",
              "      <td>-2.712437</td>\n",
              "      <td>42.939812</td>\n",
              "      <td>Mapa</td>\n",
              "      <td>600.0</td>\n",
              "      <td>MDT5</td>\n",
              "    </tr>\n",
              "    <tr>\n",
              "      <th>1</th>\n",
              "      <td>1002000000</td>\n",
              "      <td>1010029</td>\n",
              "      <td>1020</td>\n",
              "      <td>1</td>\n",
              "      <td>Araba/Álava</td>\n",
              "      <td>Amurrio</td>\n",
              "      <td>10260</td>\n",
              "      <td>9.635289e+06</td>\n",
              "      <td>65134</td>\n",
              "      <td>1002000201</td>\n",
              "      <td>Amurrio</td>\n",
              "      <td>9124</td>\n",
              "      <td>0086-4</td>\n",
              "      <td>-3.000073</td>\n",
              "      <td>43.054278</td>\n",
              "      <td>Mapa</td>\n",
              "      <td>219.0</td>\n",
              "      <td>MDT5</td>\n",
              "    </tr>\n",
              "    <tr>\n",
              "      <th>2</th>\n",
              "      <td>1003000000</td>\n",
              "      <td>1010035</td>\n",
              "      <td>1030</td>\n",
              "      <td>1</td>\n",
              "      <td>Araba/Álava</td>\n",
              "      <td>Aramaio</td>\n",
              "      <td>1502</td>\n",
              "      <td>7.327403e+03</td>\n",
              "      <td>41818</td>\n",
              "      <td>1003000601</td>\n",
              "      <td>Ibarra</td>\n",
              "      <td>803</td>\n",
              "      <td>0087-4</td>\n",
              "      <td>-2.565400</td>\n",
              "      <td>43.051197</td>\n",
              "      <td>Mapa</td>\n",
              "      <td>333.0</td>\n",
              "      <td>MDT5</td>\n",
              "    </tr>\n",
              "    <tr>\n",
              "      <th>3</th>\n",
              "      <td>1004000000</td>\n",
              "      <td>1010040</td>\n",
              "      <td>1040</td>\n",
              "      <td>1</td>\n",
              "      <td>Araba/Álava</td>\n",
              "      <td>Artziniega</td>\n",
              "      <td>1840</td>\n",
              "      <td>2.728730e+03</td>\n",
              "      <td>22886</td>\n",
              "      <td>1004000101</td>\n",
              "      <td>Artziniega</td>\n",
              "      <td>1704</td>\n",
              "      <td>0086-1</td>\n",
              "      <td>-3.127917</td>\n",
              "      <td>43.120844</td>\n",
              "      <td>Mapa</td>\n",
              "      <td>210.0</td>\n",
              "      <td>MDT5</td>\n",
              "    </tr>\n",
              "    <tr>\n",
              "      <th>4</th>\n",
              "      <td>1006000000</td>\n",
              "      <td>1010066</td>\n",
              "      <td>1060</td>\n",
              "      <td>1</td>\n",
              "      <td>Araba/Álava</td>\n",
              "      <td>Armiñón</td>\n",
              "      <td>234</td>\n",
              "      <td>1.294433e+03</td>\n",
              "      <td>24606</td>\n",
              "      <td>1006000101</td>\n",
              "      <td>Armiñón</td>\n",
              "      <td>111</td>\n",
              "      <td>0137-4</td>\n",
              "      <td>-2.871835</td>\n",
              "      <td>42.723262</td>\n",
              "      <td>Mapa</td>\n",
              "      <td>467.0</td>\n",
              "      <td>MDT5</td>\n",
              "    </tr>\n",
              "  </tbody>\n",
              "</table>\n",
              "</div>"
            ],
            "text/plain": [
              "      COD_INE   ID_REL  COD_GEO  COD_PROV    PROVINCIA     NOMBRE_ACTUAL  \\\n",
              "0  1001000000  1010014     1010         1  Araba/Álava  Alegría-Dulantzi   \n",
              "1  1002000000  1010029     1020         1  Araba/Álava           Amurrio   \n",
              "2  1003000000  1010035     1030         1  Araba/Álava           Aramaio   \n",
              "3  1004000000  1010040     1040         1  Araba/Álava        Artziniega   \n",
              "4  1006000000  1010066     1060         1  Araba/Álava           Armiñón   \n",
              "\n",
              "   POBLACION_MUNI    SUPERFICIE  PERIMETRO  COD_INE_CAPITAL           CAPITAL  \\\n",
              "0            2856  1.994587e+03      35069       1001000101  Alegría-Dulantzi   \n",
              "1           10260  9.635289e+06      65134       1002000201           Amurrio   \n",
              "2            1502  7.327403e+03      41818       1003000601            Ibarra   \n",
              "3            1840  2.728730e+03      22886       1004000101        Artziniega   \n",
              "4             234  1.294433e+03      24606       1006000101           Armiñón   \n",
              "\n",
              "   POBLACION_CAPITAL HOJA_MTN25_ETRS89  LONGITUD_ETRS89  LATITUD_ETRS89  \\\n",
              "0               2747            0113-3        -2.712437       42.939812   \n",
              "1               9124            0086-4        -3.000073       43.054278   \n",
              "2                803            0087-4        -2.565400       43.051197   \n",
              "3               1704            0086-1        -3.127917       43.120844   \n",
              "4                111            0137-4        -2.871835       42.723262   \n",
              "\n",
              "  ORIGENCOOR  ALTITUD ORIGENALTITUD  \n",
              "0       Mapa    600.0          MDT5  \n",
              "1       Mapa    219.0          MDT5  \n",
              "2       Mapa    333.0          MDT5  \n",
              "3       Mapa    210.0          MDT5  \n",
              "4       Mapa    467.0          MDT5  "
            ]
          },
          "execution_count": 105,
          "metadata": {},
          "output_type": "execute_result"
        }
      ],
      "source": [
        "df.head()"
      ]
    },
    {
      "cell_type": "code",
      "execution_count": 106,
      "metadata": {
        "id": "VCzxEycf0g8f",
        "scrolled": true
      },
      "outputs": [
        {
          "data": {
            "text/plain": [
              "COD_INE                    1001000000\n",
              "ID_REL                        1010014\n",
              "COD_GEO                          1010\n",
              "COD_PROV                            1\n",
              "PROVINCIA                 Araba/Álava\n",
              "NOMBRE_ACTUAL        Alegría-Dulantzi\n",
              "POBLACION_MUNI                   2856\n",
              "SUPERFICIE                  1994.5872\n",
              "PERIMETRO                       35069\n",
              "COD_INE_CAPITAL            1001000101\n",
              "CAPITAL              Alegría-Dulantzi\n",
              "POBLACION_CAPITAL                2747\n",
              "HOJA_MTN25_ETRS89              0113-3\n",
              "LONGITUD_ETRS89             -2.712437\n",
              "LATITUD_ETRS89              42.939812\n",
              "ORIGENCOOR                       Mapa\n",
              "ALTITUD                         600.0\n",
              "ORIGENALTITUD                    MDT5\n",
              "Name: 0, dtype: object"
            ]
          },
          "execution_count": 106,
          "metadata": {},
          "output_type": "execute_result"
        }
      ],
      "source": [
        "df.iloc[0]"
      ]
    },
    {
      "cell_type": "code",
      "execution_count": 107,
      "metadata": {
        "id": "QZiOqQHT0g8q"
      },
      "outputs": [
        {
          "data": {
            "text/plain": [
              "'Alegría-Dulantzi'"
            ]
          },
          "execution_count": 107,
          "metadata": {},
          "output_type": "execute_result"
        }
      ],
      "source": [
        "df.iloc[0].NOMBRE_ACTUAL"
      ]
    },
    {
      "cell_type": "code",
      "execution_count": 108,
      "metadata": {
        "id": "YpSPc31P0g8x",
        "scrolled": true
      },
      "outputs": [
        {
          "data": {
            "text/plain": [
              "0            Alegría-Dulantzi\n",
              "1                     Amurrio\n",
              "2                     Aramaio\n",
              "3                  Artziniega\n",
              "4                     Armiñón\n",
              "                ...          \n",
              "8119                     Biel\n",
              "8120                 Marracos\n",
              "8121    Villamayor de Gállego\n",
              "8122                    Ceuta\n",
              "8123                  Melilla\n",
              "Name: NOMBRE_ACTUAL, Length: 8124, dtype: object"
            ]
          },
          "execution_count": 108,
          "metadata": {},
          "output_type": "execute_result"
        }
      ],
      "source": [
        "df.loc[:,'NOMBRE_ACTUAL']"
      ]
    },
    {
      "cell_type": "code",
      "execution_count": 109,
      "metadata": {
        "id": "Bjc7tJwB0g84",
        "scrolled": true
      },
      "outputs": [
        {
          "data": {
            "text/plain": [
              "0        1001000000\n",
              "1        1002000000\n",
              "2        1003000000\n",
              "3        1004000000\n",
              "4        1006000000\n",
              "           ...     \n",
              "8119    50901000000\n",
              "8120    50902000000\n",
              "8121    50903000000\n",
              "8122    51001000000\n",
              "8123    52001000000\n",
              "Name: COD_INE, Length: 8124, dtype: int64"
            ]
          },
          "execution_count": 109,
          "metadata": {},
          "output_type": "execute_result"
        }
      ],
      "source": [
        "df.iloc[:,0]"
      ]
    },
    {
      "cell_type": "code",
      "execution_count": 110,
      "metadata": {
        "id": "iLhnqWHH0g9D",
        "scrolled": true
      },
      "outputs": [
        {
          "data": {
            "text/plain": [
              "0       Araba/Álava\n",
              "1       Araba/Álava\n",
              "2       Araba/Álava\n",
              "3       Araba/Álava\n",
              "4       Araba/Álava\n",
              "           ...     \n",
              "8119       Zaragoza\n",
              "8120       Zaragoza\n",
              "8121       Zaragoza\n",
              "8122          Ceuta\n",
              "8123        Melilla\n",
              "Name: PROVINCIA, Length: 8124, dtype: object"
            ]
          },
          "execution_count": 110,
          "metadata": {},
          "output_type": "execute_result"
        }
      ],
      "source": [
        "df.PROVINCIA"
      ]
    },
    {
      "cell_type": "code",
      "execution_count": 111,
      "metadata": {
        "id": "9B0dPbdY0g9L",
        "scrolled": true
      },
      "outputs": [
        {
          "data": {
            "text/html": [
              "<div>\n",
              "<style scoped>\n",
              "    .dataframe tbody tr th:only-of-type {\n",
              "        vertical-align: middle;\n",
              "    }\n",
              "\n",
              "    .dataframe tbody tr th {\n",
              "        vertical-align: top;\n",
              "    }\n",
              "\n",
              "    .dataframe thead th {\n",
              "        text-align: right;\n",
              "    }\n",
              "</style>\n",
              "<table border=\"1\" class=\"dataframe\">\n",
              "  <thead>\n",
              "    <tr style=\"text-align: right;\">\n",
              "      <th></th>\n",
              "      <th>COD_INE</th>\n",
              "      <th>ID_REL</th>\n",
              "      <th>COD_GEO</th>\n",
              "      <th>COD_PROV</th>\n",
              "      <th>PROVINCIA</th>\n",
              "      <th>NOMBRE_ACTUAL</th>\n",
              "      <th>POBLACION_MUNI</th>\n",
              "      <th>SUPERFICIE</th>\n",
              "      <th>PERIMETRO</th>\n",
              "      <th>COD_INE_CAPITAL</th>\n",
              "      <th>CAPITAL</th>\n",
              "      <th>POBLACION_CAPITAL</th>\n",
              "      <th>HOJA_MTN25_ETRS89</th>\n",
              "      <th>LONGITUD_ETRS89</th>\n",
              "      <th>LATITUD_ETRS89</th>\n",
              "      <th>ORIGENCOOR</th>\n",
              "      <th>ALTITUD</th>\n",
              "      <th>ORIGENALTITUD</th>\n",
              "    </tr>\n",
              "  </thead>\n",
              "  <tbody>\n",
              "    <tr>\n",
              "      <th>2123</th>\n",
              "      <td>15001000000</td>\n",
              "      <td>1150011</td>\n",
              "      <td>15010</td>\n",
              "      <td>15</td>\n",
              "      <td>A Coruña</td>\n",
              "      <td>Abegondo</td>\n",
              "      <td>5533</td>\n",
              "      <td>8.389634e+03</td>\n",
              "      <td>59995</td>\n",
              "      <td>15001011501</td>\n",
              "      <td>San Marco</td>\n",
              "      <td>185</td>\n",
              "      <td>0045-4</td>\n",
              "      <td>-8.288772</td>\n",
              "      <td>43.227281</td>\n",
              "      <td>GPS. PNRGM</td>\n",
              "      <td>144.0</td>\n",
              "      <td>GPS. PNRGM</td>\n",
              "    </tr>\n",
              "    <tr>\n",
              "      <th>2124</th>\n",
              "      <td>15002000000</td>\n",
              "      <td>1150026</td>\n",
              "      <td>15020</td>\n",
              "      <td>15</td>\n",
              "      <td>A Coruña</td>\n",
              "      <td>Ames</td>\n",
              "      <td>30544</td>\n",
              "      <td>8.004346e+03</td>\n",
              "      <td>71365</td>\n",
              "      <td>15002080101</td>\n",
              "      <td>Bertamiráns</td>\n",
              "      <td>8309</td>\n",
              "      <td>0094-4</td>\n",
              "      <td>-8.650329</td>\n",
              "      <td>42.859455</td>\n",
              "      <td>GPS. PNRGM</td>\n",
              "      <td>33.0</td>\n",
              "      <td>GPS. PNRGM</td>\n",
              "    </tr>\n",
              "    <tr>\n",
              "      <th>2125</th>\n",
              "      <td>15003000000</td>\n",
              "      <td>1150032</td>\n",
              "      <td>15030</td>\n",
              "      <td>15</td>\n",
              "      <td>A Coruña</td>\n",
              "      <td>Aranga</td>\n",
              "      <td>1982</td>\n",
              "      <td>1.195902e+07</td>\n",
              "      <td>60971</td>\n",
              "      <td>15003012301</td>\n",
              "      <td>Ponte Aranga</td>\n",
              "      <td>8</td>\n",
              "      <td>0046-4</td>\n",
              "      <td>-8.016029</td>\n",
              "      <td>43.234040</td>\n",
              "      <td>GPS. PNRGM</td>\n",
              "      <td>269.0</td>\n",
              "      <td>GPS. PNRGM</td>\n",
              "    </tr>\n",
              "    <tr>\n",
              "      <th>2126</th>\n",
              "      <td>15004000000</td>\n",
              "      <td>1150047</td>\n",
              "      <td>15040</td>\n",
              "      <td>15</td>\n",
              "      <td>A Coruña</td>\n",
              "      <td>Ares</td>\n",
              "      <td>5672</td>\n",
              "      <td>1.830962e+03</td>\n",
              "      <td>35274</td>\n",
              "      <td>15004010101</td>\n",
              "      <td>Ares</td>\n",
              "      <td>3855</td>\n",
              "      <td>0021-2</td>\n",
              "      <td>-8.243660</td>\n",
              "      <td>43.426559</td>\n",
              "      <td>GPS. PNRGM</td>\n",
              "      <td>7.0</td>\n",
              "      <td>GPS. PNRGM</td>\n",
              "    </tr>\n",
              "    <tr>\n",
              "      <th>2127</th>\n",
              "      <td>15005000000</td>\n",
              "      <td>1150050</td>\n",
              "      <td>15050</td>\n",
              "      <td>15</td>\n",
              "      <td>A Coruña</td>\n",
              "      <td>Arteixo</td>\n",
              "      <td>31239</td>\n",
              "      <td>9.367961e+06</td>\n",
              "      <td>59897</td>\n",
              "      <td>15005020101</td>\n",
              "      <td>A Baiuca</td>\n",
              "      <td>12021</td>\n",
              "      <td>0045-1</td>\n",
              "      <td>-8.505070</td>\n",
              "      <td>43.304745</td>\n",
              "      <td>GPS. PNRGM</td>\n",
              "      <td>31.0</td>\n",
              "      <td>GPS. PNRGM</td>\n",
              "    </tr>\n",
              "    <tr>\n",
              "      <th>...</th>\n",
              "      <td>...</td>\n",
              "      <td>...</td>\n",
              "      <td>...</td>\n",
              "      <td>...</td>\n",
              "      <td>...</td>\n",
              "      <td>...</td>\n",
              "      <td>...</td>\n",
              "      <td>...</td>\n",
              "      <td>...</td>\n",
              "      <td>...</td>\n",
              "      <td>...</td>\n",
              "      <td>...</td>\n",
              "      <td>...</td>\n",
              "      <td>...</td>\n",
              "      <td>...</td>\n",
              "      <td>...</td>\n",
              "      <td>...</td>\n",
              "      <td>...</td>\n",
              "    </tr>\n",
              "    <tr>\n",
              "      <th>2211</th>\n",
              "      <td>15091000000</td>\n",
              "      <td>1150912</td>\n",
              "      <td>15900</td>\n",
              "      <td>15</td>\n",
              "      <td>A Coruña</td>\n",
              "      <td>Vilarmaior</td>\n",
              "      <td>1260</td>\n",
              "      <td>3.034701e+03</td>\n",
              "      <td>37004</td>\n",
              "      <td>15091060201</td>\n",
              "      <td>A Armada</td>\n",
              "      <td>20</td>\n",
              "      <td>0022-3</td>\n",
              "      <td>-8.130038</td>\n",
              "      <td>43.354769</td>\n",
              "      <td>GPS. PNRGM</td>\n",
              "      <td>275.0</td>\n",
              "      <td>GPS. PNRGM</td>\n",
              "    </tr>\n",
              "    <tr>\n",
              "      <th>2212</th>\n",
              "      <td>15092000000</td>\n",
              "      <td>1150927</td>\n",
              "      <td>15910</td>\n",
              "      <td>15</td>\n",
              "      <td>A Coruña</td>\n",
              "      <td>Vimianzo</td>\n",
              "      <td>7378</td>\n",
              "      <td>1.872679e+04</td>\n",
              "      <td>75028</td>\n",
              "      <td>15092141001</td>\n",
              "      <td>Vimianzo</td>\n",
              "      <td>1461</td>\n",
              "      <td>0068-1</td>\n",
              "      <td>-9.034414</td>\n",
              "      <td>43.110254</td>\n",
              "      <td>GPS. PNRGM</td>\n",
              "      <td>132.0</td>\n",
              "      <td>GPS. PNRGM</td>\n",
              "    </tr>\n",
              "    <tr>\n",
              "      <th>2213</th>\n",
              "      <td>15093000000</td>\n",
              "      <td>1150933</td>\n",
              "      <td>15920</td>\n",
              "      <td>15</td>\n",
              "      <td>A Coruña</td>\n",
              "      <td>Zas</td>\n",
              "      <td>4756</td>\n",
              "      <td>1.332853e+04</td>\n",
              "      <td>79109</td>\n",
              "      <td>15093160301</td>\n",
              "      <td>Zas</td>\n",
              "      <td>393</td>\n",
              "      <td>0068-2</td>\n",
              "      <td>-8.916118</td>\n",
              "      <td>43.099720</td>\n",
              "      <td>GPS. PNRGM</td>\n",
              "      <td>229.0</td>\n",
              "      <td>GPS. PNRGM</td>\n",
              "    </tr>\n",
              "    <tr>\n",
              "      <th>2214</th>\n",
              "      <td>15901000000</td>\n",
              "      <td>1159012</td>\n",
              "      <td>15195</td>\n",
              "      <td>15</td>\n",
              "      <td>A Coruña</td>\n",
              "      <td>Cariño</td>\n",
              "      <td>4072</td>\n",
              "      <td>4.719000e+03</td>\n",
              "      <td>46823</td>\n",
              "      <td>15901010101</td>\n",
              "      <td>Cariño</td>\n",
              "      <td>2824</td>\n",
              "      <td>0001-4</td>\n",
              "      <td>-7.868425</td>\n",
              "      <td>43.740351</td>\n",
              "      <td>GPS. PNRGM</td>\n",
              "      <td>7.0</td>\n",
              "      <td>GPS. PNRGM</td>\n",
              "    </tr>\n",
              "    <tr>\n",
              "      <th>2215</th>\n",
              "      <td>15902000000</td>\n",
              "      <td>1159027</td>\n",
              "      <td>15620</td>\n",
              "      <td>15</td>\n",
              "      <td>A Coruña</td>\n",
              "      <td>Oza-Cesuras</td>\n",
              "      <td>5181</td>\n",
              "      <td>1.516230e+04</td>\n",
              "      <td>77736</td>\n",
              "      <td>15902150601</td>\n",
              "      <td>Oza</td>\n",
              "      <td>150</td>\n",
              "      <td>No disponible</td>\n",
              "      <td>-8.186335</td>\n",
              "      <td>43.214928</td>\n",
              "      <td>GPS. PNRGM</td>\n",
              "      <td>231.0</td>\n",
              "      <td>GPS. PNRGM</td>\n",
              "    </tr>\n",
              "  </tbody>\n",
              "</table>\n",
              "<p>93 rows × 18 columns</p>\n",
              "</div>"
            ],
            "text/plain": [
              "          COD_INE   ID_REL  COD_GEO  COD_PROV PROVINCIA NOMBRE_ACTUAL  \\\n",
              "2123  15001000000  1150011    15010        15  A Coruña      Abegondo   \n",
              "2124  15002000000  1150026    15020        15  A Coruña          Ames   \n",
              "2125  15003000000  1150032    15030        15  A Coruña        Aranga   \n",
              "2126  15004000000  1150047    15040        15  A Coruña          Ares   \n",
              "2127  15005000000  1150050    15050        15  A Coruña       Arteixo   \n",
              "...           ...      ...      ...       ...       ...           ...   \n",
              "2211  15091000000  1150912    15900        15  A Coruña    Vilarmaior   \n",
              "2212  15092000000  1150927    15910        15  A Coruña      Vimianzo   \n",
              "2213  15093000000  1150933    15920        15  A Coruña           Zas   \n",
              "2214  15901000000  1159012    15195        15  A Coruña        Cariño   \n",
              "2215  15902000000  1159027    15620        15  A Coruña   Oza-Cesuras   \n",
              "\n",
              "      POBLACION_MUNI    SUPERFICIE  PERIMETRO  COD_INE_CAPITAL       CAPITAL  \\\n",
              "2123            5533  8.389634e+03      59995      15001011501     San Marco   \n",
              "2124           30544  8.004346e+03      71365      15002080101   Bertamiráns   \n",
              "2125            1982  1.195902e+07      60971      15003012301  Ponte Aranga   \n",
              "2126            5672  1.830962e+03      35274      15004010101          Ares   \n",
              "2127           31239  9.367961e+06      59897      15005020101      A Baiuca   \n",
              "...              ...           ...        ...              ...           ...   \n",
              "2211            1260  3.034701e+03      37004      15091060201      A Armada   \n",
              "2212            7378  1.872679e+04      75028      15092141001      Vimianzo   \n",
              "2213            4756  1.332853e+04      79109      15093160301           Zas   \n",
              "2214            4072  4.719000e+03      46823      15901010101        Cariño   \n",
              "2215            5181  1.516230e+04      77736      15902150601           Oza   \n",
              "\n",
              "      POBLACION_CAPITAL HOJA_MTN25_ETRS89  LONGITUD_ETRS89  LATITUD_ETRS89  \\\n",
              "2123                185            0045-4        -8.288772       43.227281   \n",
              "2124               8309            0094-4        -8.650329       42.859455   \n",
              "2125                  8            0046-4        -8.016029       43.234040   \n",
              "2126               3855            0021-2        -8.243660       43.426559   \n",
              "2127              12021            0045-1        -8.505070       43.304745   \n",
              "...                 ...               ...              ...             ...   \n",
              "2211                 20            0022-3        -8.130038       43.354769   \n",
              "2212               1461            0068-1        -9.034414       43.110254   \n",
              "2213                393            0068-2        -8.916118       43.099720   \n",
              "2214               2824            0001-4        -7.868425       43.740351   \n",
              "2215                150     No disponible        -8.186335       43.214928   \n",
              "\n",
              "      ORIGENCOOR  ALTITUD ORIGENALTITUD  \n",
              "2123  GPS. PNRGM    144.0    GPS. PNRGM  \n",
              "2124  GPS. PNRGM     33.0    GPS. PNRGM  \n",
              "2125  GPS. PNRGM    269.0    GPS. PNRGM  \n",
              "2126  GPS. PNRGM      7.0    GPS. PNRGM  \n",
              "2127  GPS. PNRGM     31.0    GPS. PNRGM  \n",
              "...          ...      ...           ...  \n",
              "2211  GPS. PNRGM    275.0    GPS. PNRGM  \n",
              "2212  GPS. PNRGM    132.0    GPS. PNRGM  \n",
              "2213  GPS. PNRGM    229.0    GPS. PNRGM  \n",
              "2214  GPS. PNRGM      7.0    GPS. PNRGM  \n",
              "2215  GPS. PNRGM    231.0    GPS. PNRGM  \n",
              "\n",
              "[93 rows x 18 columns]"
            ]
          },
          "execution_count": 111,
          "metadata": {},
          "output_type": "execute_result"
        }
      ],
      "source": [
        "df[df.PROVINCIA == 'A Coruña']"
      ]
    },
    {
      "cell_type": "code",
      "execution_count": 112,
      "metadata": {
        "id": "TFI6VSW80g9R"
      },
      "outputs": [
        {
          "data": {
            "text/plain": [
              "COD_INE              30029000000\n",
              "ID_REL                   1300294\n",
              "COD_GEO                    30290\n",
              "COD_PROV                      30\n",
              "PROVINCIA                 Murcia\n",
              "NOMBRE_ACTUAL               Mula\n",
              "POBLACION_MUNI             16689\n",
              "SUPERFICIE            63405.9253\n",
              "PERIMETRO                 150394\n",
              "COD_INE_CAPITAL      30029000901\n",
              "CAPITAL                     Mula\n",
              "POBLACION_CAPITAL          14380\n",
              "HOJA_MTN25_ETRS89         0912-3\n",
              "LONGITUD_ETRS89        -1.490328\n",
              "LATITUD_ETRS89         38.042033\n",
              "ORIGENCOOR                  Mapa\n",
              "ALTITUD                    318.0\n",
              "ORIGENALTITUD               MDT5\n",
              "Name: 4594, dtype: object"
            ]
          },
          "execution_count": 112,
          "metadata": {},
          "output_type": "execute_result"
        }
      ],
      "source": [
        "mula = df[df.NOMBRE_ACTUAL == 'Mula'].iloc[0]\n",
        "mula"
      ]
    },
    {
      "cell_type": "code",
      "execution_count": 113,
      "metadata": {
        "id": "GN1qCKKr0g9W"
      },
      "outputs": [
        {
          "data": {
            "text/plain": [
              "(38.04203339, -1.49032811)"
            ]
          },
          "execution_count": 113,
          "metadata": {},
          "output_type": "execute_result"
        }
      ],
      "source": [
        "(mula_lat,mula_lon) = (mula.LATITUD_ETRS89, mula.LONGITUD_ETRS89)\n",
        "(mula_lat,mula_lon)"
      ]
    },
    {
      "cell_type": "markdown",
      "metadata": {
        "id": "N6QFogNJ0g9d"
      },
      "source": [
        "El paquete `folium` permite generar mapas de posiciones. El siguiente ejemplo centra un mapa en Mula y pone un marcador con su nombre:"
      ]
    },
    {
      "cell_type": "code",
      "execution_count": 114,
      "metadata": {
        "id": "8j6EsIXJ0g9e"
      },
      "outputs": [
        {
          "name": "stdout",
          "output_type": "stream",
          "text": [
            "Requirement already satisfied: folium in c:\\users\\fcoja\\appdata\\local\\programs\\python\\python311\\lib\\site-packages (0.15.1)\n",
            "Requirement already satisfied: branca>=0.6.0 in c:\\users\\fcoja\\appdata\\local\\programs\\python\\python311\\lib\\site-packages (from folium) (0.7.1)\n",
            "Requirement already satisfied: jinja2>=2.9 in c:\\users\\fcoja\\appdata\\local\\programs\\python\\python311\\lib\\site-packages (from folium) (3.1.2)\n",
            "Requirement already satisfied: numpy in c:\\users\\fcoja\\appdata\\local\\programs\\python\\python311\\lib\\site-packages (from folium) (1.26.1)\n",
            "Requirement already satisfied: requests in c:\\users\\fcoja\\appdata\\local\\programs\\python\\python311\\lib\\site-packages (from folium) (2.31.0)\n",
            "Requirement already satisfied: xyzservices in c:\\users\\fcoja\\appdata\\local\\programs\\python\\python311\\lib\\site-packages (from folium) (2023.10.1)\n",
            "Requirement already satisfied: MarkupSafe>=2.0 in c:\\users\\fcoja\\appdata\\local\\programs\\python\\python311\\lib\\site-packages (from jinja2>=2.9->folium) (2.1.3)\n",
            "Requirement already satisfied: charset-normalizer<4,>=2 in c:\\users\\fcoja\\appdata\\local\\programs\\python\\python311\\lib\\site-packages (from requests->folium) (3.3.2)\n",
            "Requirement already satisfied: idna<4,>=2.5 in c:\\users\\fcoja\\appdata\\local\\programs\\python\\python311\\lib\\site-packages (from requests->folium) (3.6)\n",
            "Requirement already satisfied: urllib3<3,>=1.21.1 in c:\\users\\fcoja\\appdata\\local\\programs\\python\\python311\\lib\\site-packages (from requests->folium) (2.2.0)\n",
            "Requirement already satisfied: certifi>=2017.4.17 in c:\\users\\fcoja\\appdata\\local\\programs\\python\\python311\\lib\\site-packages (from requests->folium) (2023.11.17)\n"
          ]
        }
      ],
      "source": [
        "!pip install folium"
      ]
    },
    {
      "cell_type": "code",
      "execution_count": 115,
      "metadata": {
        "id": "K-LS4MWO0g9j"
      },
      "outputs": [
        {
          "data": {
            "text/html": [
              "<div style=\"width:100%;\"><div style=\"position:relative;width:100%;height:0;padding-bottom:60%;\"><span style=\"color:#565656\">Make this Notebook Trusted to load map: File -> Trust Notebook</span><iframe srcdoc=\"&lt;!DOCTYPE html&gt;\n",
              "&lt;html&gt;\n",
              "&lt;head&gt;\n",
              "    \n",
              "    &lt;meta http-equiv=&quot;content-type&quot; content=&quot;text/html; charset=UTF-8&quot; /&gt;\n",
              "    \n",
              "        &lt;script&gt;\n",
              "            L_NO_TOUCH = false;\n",
              "            L_DISABLE_3D = false;\n",
              "        &lt;/script&gt;\n",
              "    \n",
              "    &lt;style&gt;html, body {width: 100%;height: 100%;margin: 0;padding: 0;}&lt;/style&gt;\n",
              "    &lt;style&gt;#map {position:absolute;top:0;bottom:0;right:0;left:0;}&lt;/style&gt;\n",
              "    &lt;script src=&quot;https://cdn.jsdelivr.net/npm/leaflet@1.9.3/dist/leaflet.js&quot;&gt;&lt;/script&gt;\n",
              "    &lt;script src=&quot;https://code.jquery.com/jquery-3.7.1.min.js&quot;&gt;&lt;/script&gt;\n",
              "    &lt;script src=&quot;https://cdn.jsdelivr.net/npm/bootstrap@5.2.2/dist/js/bootstrap.bundle.min.js&quot;&gt;&lt;/script&gt;\n",
              "    &lt;script src=&quot;https://cdnjs.cloudflare.com/ajax/libs/Leaflet.awesome-markers/2.0.2/leaflet.awesome-markers.js&quot;&gt;&lt;/script&gt;\n",
              "    &lt;link rel=&quot;stylesheet&quot; href=&quot;https://cdn.jsdelivr.net/npm/leaflet@1.9.3/dist/leaflet.css&quot;/&gt;\n",
              "    &lt;link rel=&quot;stylesheet&quot; href=&quot;https://cdn.jsdelivr.net/npm/bootstrap@5.2.2/dist/css/bootstrap.min.css&quot;/&gt;\n",
              "    &lt;link rel=&quot;stylesheet&quot; href=&quot;https://netdna.bootstrapcdn.com/bootstrap/3.0.0/css/bootstrap.min.css&quot;/&gt;\n",
              "    &lt;link rel=&quot;stylesheet&quot; href=&quot;https://cdn.jsdelivr.net/npm/@fortawesome/fontawesome-free@6.2.0/css/all.min.css&quot;/&gt;\n",
              "    &lt;link rel=&quot;stylesheet&quot; href=&quot;https://cdnjs.cloudflare.com/ajax/libs/Leaflet.awesome-markers/2.0.2/leaflet.awesome-markers.css&quot;/&gt;\n",
              "    &lt;link rel=&quot;stylesheet&quot; href=&quot;https://cdn.jsdelivr.net/gh/python-visualization/folium/folium/templates/leaflet.awesome.rotate.min.css&quot;/&gt;\n",
              "    \n",
              "            &lt;meta name=&quot;viewport&quot; content=&quot;width=device-width,\n",
              "                initial-scale=1.0, maximum-scale=1.0, user-scalable=no&quot; /&gt;\n",
              "            &lt;style&gt;\n",
              "                #map_199ddca2fb9da8bd513c61a7f34dd838 {\n",
              "                    position: relative;\n",
              "                    width: 100.0%;\n",
              "                    height: 100.0%;\n",
              "                    left: 0.0%;\n",
              "                    top: 0.0%;\n",
              "                }\n",
              "                .leaflet-container { font-size: 1rem; }\n",
              "            &lt;/style&gt;\n",
              "        \n",
              "&lt;/head&gt;\n",
              "&lt;body&gt;\n",
              "    \n",
              "    \n",
              "            &lt;div class=&quot;folium-map&quot; id=&quot;map_199ddca2fb9da8bd513c61a7f34dd838&quot; &gt;&lt;/div&gt;\n",
              "        \n",
              "&lt;/body&gt;\n",
              "&lt;script&gt;\n",
              "    \n",
              "    \n",
              "            var map_199ddca2fb9da8bd513c61a7f34dd838 = L.map(\n",
              "                &quot;map_199ddca2fb9da8bd513c61a7f34dd838&quot;,\n",
              "                {\n",
              "                    center: [38.04203339, -1.49032811],\n",
              "                    crs: L.CRS.EPSG3857,\n",
              "                    zoom: 10,\n",
              "                    zoomControl: true,\n",
              "                    preferCanvas: false,\n",
              "                }\n",
              "            );\n",
              "\n",
              "            \n",
              "\n",
              "        \n",
              "    \n",
              "            var tile_layer_dffcc70456d87a81df4ea4ec2ff677c4 = L.tileLayer(\n",
              "                &quot;https://tile.openstreetmap.org/{z}/{x}/{y}.png&quot;,\n",
              "                {&quot;attribution&quot;: &quot;\\u0026copy; \\u003ca href=\\&quot;https://www.openstreetmap.org/copyright\\&quot;\\u003eOpenStreetMap\\u003c/a\\u003e contributors&quot;, &quot;detectRetina&quot;: false, &quot;maxNativeZoom&quot;: 19, &quot;maxZoom&quot;: 19, &quot;minZoom&quot;: 0, &quot;noWrap&quot;: false, &quot;opacity&quot;: 1, &quot;subdomains&quot;: &quot;abc&quot;, &quot;tms&quot;: false}\n",
              "            );\n",
              "        \n",
              "    \n",
              "            tile_layer_dffcc70456d87a81df4ea4ec2ff677c4.addTo(map_199ddca2fb9da8bd513c61a7f34dd838);\n",
              "        \n",
              "    \n",
              "            var marker_5746f4b1fb6d5c2358000b77f2441f3f = L.marker(\n",
              "                [38.04203339, -1.49032811],\n",
              "                {}\n",
              "            ).addTo(map_199ddca2fb9da8bd513c61a7f34dd838);\n",
              "        \n",
              "    \n",
              "        var popup_176e89253bb30cd82915e18f4d631e09 = L.popup({&quot;maxWidth&quot;: &quot;100%&quot;});\n",
              "\n",
              "        \n",
              "            \n",
              "                var html_3a75300efd7076a925d7f0ec97afe778 = $(`&lt;div id=&quot;html_3a75300efd7076a925d7f0ec97afe778&quot; style=&quot;width: 100.0%; height: 100.0%;&quot;&gt;Mula (16689 habitantes)&lt;/div&gt;`)[0];\n",
              "                popup_176e89253bb30cd82915e18f4d631e09.setContent(html_3a75300efd7076a925d7f0ec97afe778);\n",
              "            \n",
              "        \n",
              "\n",
              "        marker_5746f4b1fb6d5c2358000b77f2441f3f.bindPopup(popup_176e89253bb30cd82915e18f4d631e09)\n",
              "        ;\n",
              "\n",
              "        \n",
              "    \n",
              "&lt;/script&gt;\n",
              "&lt;/html&gt;\" style=\"position:absolute;width:100%;height:100%;left:0;top:0;border:none !important;\" allowfullscreen webkitallowfullscreen mozallowfullscreen></iframe></div></div>"
            ],
            "text/plain": [
              "<folium.folium.Map at 0x2766aec10d0>"
            ]
          },
          "execution_count": 115,
          "metadata": {},
          "output_type": "execute_result"
        }
      ],
      "source": [
        "import folium\n",
        "\n",
        "map = folium.Map(location=[mula_lat, mula_lon],zoom_start=10)\n",
        "folium.Marker(location = [mula_lat, mula_lon], popup=\"{} ({} habitantes)\".format(mula.NOMBRE_ACTUAL,mula.POBLACION_MUNI)).add_to(map)\n",
        "\n",
        "map"
      ]
    },
    {
      "cell_type": "markdown",
      "metadata": {
        "id": "zdcsqsxU0g9p"
      },
      "source": [
        "## Ejercicio\n",
        "\n",
        "Mostrar con `folium` marcadores para cada pueblo de Murcia. Se pueden usar las funciones `itertuples()` o `iterrows()` de un `Dataframe` para recorrer los elementos del mismo."
      ]
    },
    {
      "cell_type": "code",
      "execution_count": null,
      "metadata": {
        "id": "SQHuDE-D0g9q"
      },
      "outputs": [],
      "source": []
    }
  ],
  "metadata": {
    "colab": {
      "name": "sesion0.ipynb",
      "provenance": []
    },
    "kernelspec": {
      "display_name": "Python 3 (ipykernel)",
      "language": "python",
      "name": "python3"
    },
    "language_info": {
      "codemirror_mode": {
        "name": "ipython",
        "version": 3
      },
      "file_extension": ".py",
      "mimetype": "text/x-python",
      "name": "python",
      "nbconvert_exporter": "python",
      "pygments_lexer": "ipython3",
      "version": "3.11.7"
    }
  },
  "nbformat": 4,
  "nbformat_minor": 0
}
