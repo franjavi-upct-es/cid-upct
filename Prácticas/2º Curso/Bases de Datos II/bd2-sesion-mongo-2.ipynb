<<<<<<< HEAD
{"cells":[{"cell_type":"markdown","id":"c3de2da2","metadata":{"id":"c3de2da2"},"source":["## NoSQL (MongoDB) (sesión 2)\n"]},{"cell_type":"markdown","id":"e7cf2bcf","metadata":{"id":"e7cf2bcf"},"source":["## Introducción"]},{"cell_type":"markdown","id":"e10025b3","metadata":{"id":"e10025b3"},"source":["![MongoDB](https://webassets.mongodb.com/_com_assets/cms/MongoDB_Logo_FullColorBlack_RGB-4td3yuxzjs.png)\n","\n","Esta hoja muestra cómo acceder a bases de datos MongoDB y también a conectar la salida con Jupyter. Se puede utilizar el *shell* propio de MongoDB en el contenedor usando el programa `mongo`. La diferencia es que ese programa espera código Javascript y aquí trabajaremos con Python."]},{"cell_type":"code","execution_count":46,"id":"3f18c9bf","metadata":{"id":"3f18c9bf","executionInfo":{"status":"ok","timestamp":1709137720238,"user_tz":-60,"elapsed":378,"user":{"displayName":"Fco Javier Mercader","userId":"12677169545654363736"}}},"outputs":[],"source":["RunningInCOLAB = 'google.colab' in str(get_ipython()) if hasattr(__builtins__,'__IPYTHON__') else False"]},{"cell_type":"code","execution_count":47,"id":"c6a5d9fc","metadata":{"id":"c6a5d9fc","executionInfo":{"status":"ok","timestamp":1709137720594,"user_tz":-60,"elapsed":4,"user":{"displayName":"Fco Javier Mercader","userId":"12677169545654363736"}}},"outputs":[],"source":["db_hostname = \"localhost\" if RunningInCOLAB else \"mongo\""]},{"cell_type":"markdown","id":"6750188f","metadata":{"id":"6750188f"},"source":["## Instalación inicial de MongoDB (no necesaria si se utiliza Docker en local)"]},{"cell_type":"code","execution_count":48,"id":"b6f67511","metadata":{"id":"b6f67511","executionInfo":{"status":"ok","timestamp":1709137720930,"user_tz":-60,"elapsed":339,"user":{"displayName":"Fco Javier Mercader","userId":"12677169545654363736"}}},"outputs":[],"source":["!wget -qO - https://www.mongodb.org/static/pgp/server-6.0.asc | sudo gpg --dearmor > /etc/apt/trusted.gpg.d/mongo-server-6.gpg"]},{"cell_type":"code","source":["from google.colab import drive\n","drive.mount('/content/drive')"],"metadata":{"colab":{"base_uri":"https://localhost:8080/"},"id":"7NEBTK1ReYsA","executionInfo":{"status":"ok","timestamp":1709137743734,"user_tz":-60,"elapsed":22809,"user":{"displayName":"Fco Javier Mercader","userId":"12677169545654363736"}},"outputId":"cae6eb03-225a-4b69-82e4-df0efad8d4fd"},"id":"7NEBTK1ReYsA","execution_count":49,"outputs":[{"output_type":"stream","name":"stdout","text":["Mounted at /content/drive\n"]}]},{"cell_type":"code","execution_count":50,"id":"7b98a52b","metadata":{"id":"7b98a52b","colab":{"base_uri":"https://localhost:8080/"},"executionInfo":{"status":"ok","timestamp":1709137743734,"user_tz":-60,"elapsed":12,"user":{"displayName":"Fco Javier Mercader","userId":"12677169545654363736"}},"outputId":"6440527d-733a-44d1-a9d6-497118ade93d"},"outputs":[{"output_type":"stream","name":"stdout","text":["The system user `mongodb' already exists. Exiting.\n","The user `mongodb' is already a member of `mongodb'.\n"]},{"output_type":"stream","name":"stderr","text":["addgroup: The group `mongodb' already exists as a system group. Exiting.\n"]}],"source":["%%bash\n","sudo adduser --system --no-create-home mongodb\n","sudo addgroup --system mongodb\n","sudo adduser mongodb mongodb\n","\n","# create db -- note: this should agree with dbpath in mongod.conf\n","if [ ! -d /var/lib/mongodb ]; then\n","  sudo mkdir -p /var/lib/mongodb\n","  sudo chown mongodb:mongodb /var/lib/mongodb\n","fi\n","\n","# create logdir -- note: this should agree with logpath in mongod.conf\n","if [ ! -d /var/log/mongodb ]; then\n","  sudo mkdir -p /var/log/mongodb\n","  sudo chown mongodb:mongodb /var/log/mongodb\n","fi"]},{"cell_type":"code","execution_count":51,"id":"52bcd143","metadata":{"id":"52bcd143","colab":{"base_uri":"https://localhost:8080/"},"executionInfo":{"status":"ok","timestamp":1709137744064,"user_tz":-60,"elapsed":336,"user":{"displayName":"Fco Javier Mercader","userId":"12677169545654363736"}},"outputId":"db0e21b5-4d5f-466f-992b-043ad1006709"},"outputs":[{"output_type":"stream","name":"stdout","text":["deb [ arch=amd64,arm64 ] https://repo.mongodb.org/apt/ubuntu jammy/mongodb-org/6.0 multiverse\n"]}],"source":["!echo \"deb [ arch=amd64,arm64 ] https://repo.mongodb.org/apt/ubuntu jammy/mongodb-org/6.0 multiverse\" | sudo tee /etc/apt/sources.list.d/mongodb-org-6.0.list"]},{"cell_type":"code","execution_count":52,"id":"13871d5a","metadata":{"id":"13871d5a","executionInfo":{"status":"ok","timestamp":1709137748530,"user_tz":-60,"elapsed":4471,"user":{"displayName":"Fco Javier Mercader","userId":"12677169545654363736"}}},"outputs":[],"source":["!sudo apt-get update -qq"]},{"cell_type":"code","execution_count":53,"id":"393a1250","metadata":{"id":"393a1250","executionInfo":{"status":"ok","timestamp":1709137748530,"user_tz":-60,"elapsed":21,"user":{"displayName":"Fco Javier Mercader","userId":"12677169545654363736"}}},"outputs":[],"source":["!sudo ln -sf /bin/true /bin/systemctl"]},{"cell_type":"code","execution_count":54,"id":"7c08fc60","metadata":{"id":"7c08fc60","executionInfo":{"status":"ok","timestamp":1709137750591,"user_tz":-60,"elapsed":2081,"user":{"displayName":"Fco Javier Mercader","userId":"12677169545654363736"}}},"outputs":[],"source":["!sudo apt-get install -y -qq dialog mongodb-org"]},{"cell_type":"code","execution_count":55,"id":"47eead96","metadata":{"id":"47eead96","colab":{"base_uri":"https://localhost:8080/"},"executionInfo":{"status":"ok","timestamp":1709137751082,"user_tz":-60,"elapsed":498,"user":{"displayName":"Fco Javier Mercader","userId":"12677169545654363736"}},"outputId":"d8cb96d1-3d9a-45e7-f618-d011ac43de00"},"outputs":[{"output_type":"stream","name":"stdout","text":["about to fork child process, waiting until server is ready for connections.\n","forked process: 16179\n","ERROR: child process failed, exited with 48\n","To see additional information in this output, start without the \"--fork\" option.\n"]}],"source":["!sudo /usr/bin/mongod --config /etc/mongod.conf --fork"]},{"cell_type":"code","execution_count":56,"id":"3a937c5a","metadata":{"id":"3a937c5a","colab":{"base_uri":"https://localhost:8080/"},"executionInfo":{"status":"ok","timestamp":1709137751083,"user_tz":-60,"elapsed":16,"user":{"displayName":"Fco Javier Mercader","userId":"12677169545654363736"}},"outputId":"a98934be-24e2-4694-b119-8b58e20cd712"},"outputs":[{"output_type":"stream","name":"stdout","text":["db version v6.0.13\n","Build Info: {\n","    \"version\": \"6.0.13\",\n","    \"gitVersion\": \"3b13907f9bdf6bd3264d67140d6c215d51bbd20c\",\n","    \"openSSLVersion\": \"OpenSSL 3.0.2 15 Mar 2022\",\n","    \"modules\": [],\n","    \"allocator\": \"tcmalloc\",\n","    \"environment\": {\n","        \"distmod\": \"ubuntu2204\",\n","        \"distarch\": \"x86_64\",\n","        \"target_arch\": \"x86_64\"\n","    }\n","}\n"]}],"source":["!sudo mongod --version"]},{"cell_type":"markdown","id":"351c882f","metadata":{"id":"351c882f"},"source":["## Instalación de `pymongo`\n"]},{"cell_type":"code","execution_count":57,"id":"f90de90b","metadata":{"id":"f90de90b","colab":{"base_uri":"https://localhost:8080/"},"executionInfo":{"status":"ok","timestamp":1709137771212,"user_tz":-60,"elapsed":20138,"user":{"displayName":"Fco Javier Mercader","userId":"12677169545654363736"}},"outputId":"c233ae2d-54c3-463d-9897-d25fa72ec462"},"outputs":[{"output_type":"stream","name":"stdout","text":["Requirement already satisfied: pymongo in /usr/local/lib/python3.10/dist-packages (4.6.2)\n","Requirement already satisfied: dnspython<3.0.0,>=1.16.0 in /usr/local/lib/python3.10/dist-packages (from pymongo) (2.6.1)\n"]}],"source":["!pip install --upgrade pymongo"]},{"cell_type":"code","execution_count":58,"id":"2329c158","metadata":{"id":"2329c158","executionInfo":{"status":"ok","timestamp":1709137771213,"user_tz":-60,"elapsed":17,"user":{"displayName":"Fco Javier Mercader","userId":"12677169545654363736"}}},"outputs":[],"source":["from pprint import pprint as pp\n","import pandas as pd\n","import matplotlib.pyplot as plt\n","import matplotlib\n","\n","%matplotlib inline\n","matplotlib.style.use('ggplot')"]},{"cell_type":"markdown","id":"431a24eb","metadata":{"id":"431a24eb"},"source":["Usaremos la librería `pymongo` para python. La cargamos a continuación."]},{"cell_type":"code","execution_count":59,"id":"41acde93","metadata":{"id":"41acde93","executionInfo":{"status":"ok","timestamp":1709137771214,"user_tz":-60,"elapsed":16,"user":{"displayName":"Fco Javier Mercader","userId":"12677169545654363736"}}},"outputs":[],"source":["import pymongo\n","from pymongo import MongoClient"]},{"cell_type":"markdown","id":"924882f6","metadata":{"id":"924882f6"},"source":["La conexión se inicia con `MongoClient` en el `host` descrito en el fichero `docker-compose.yml` (`mongo`), o bien a `localhost` si lo estamos haciendo en Colab."]},{"cell_type":"code","execution_count":60,"id":"748bd72f","metadata":{"id":"748bd72f","colab":{"base_uri":"https://localhost:8080/"},"executionInfo":{"status":"ok","timestamp":1709137771216,"user_tz":-60,"elapsed":18,"user":{"displayName":"Fco Javier Mercader","userId":"12677169545654363736"}},"outputId":"58f84e6f-b5c2-4b1b-acf8-dec0732f71b0"},"outputs":[{"output_type":"execute_result","data":{"text/plain":["MongoClient(host=['localhost:27017'], document_class=dict, tz_aware=False, connect=True)"]},"metadata":{},"execution_count":60}],"source":["client = MongoClient(db_hostname,27017)\n","client"]},{"cell_type":"code","execution_count":61,"id":"bdfa97c2","metadata":{"id":"bdfa97c2","colab":{"base_uri":"https://localhost:8080/"},"executionInfo":{"status":"ok","timestamp":1709137771217,"user_tz":-60,"elapsed":14,"user":{"displayName":"Fco Javier Mercader","userId":"12677169545654363736"}},"outputId":"844b41f2-d979-4bf0-fa36-203fa6c59c32"},"outputs":[{"output_type":"execute_result","data":{"text/plain":["['admin', 'config', 'local', 'stackoverflow']"]},"metadata":{},"execution_count":61}],"source":["client.list_database_names()"]},{"cell_type":"markdown","id":"3d6811b0","metadata":{"id":"3d6811b0"},"source":["## Descarga de datos en formato CSV"]},{"cell_type":"markdown","id":"a5cd05a0","metadata":{"id":"a5cd05a0"},"source":[" - Formato: 7zipped\n"," - Ficheros:\n","   - **Comments**.csv\n","       - Id\n","       - PostId\n","       - Score\n","       - Text, e.g.: \"@Stu Thompson: Seems possible to me - why not try it?\"\n","       - CreationDate, e.g.:\"2008-09-06T08:07:10.730\"\n","       - UserId\n","   - **Posts**.csv\n","       - Id\n","       - PostTypeId\n","          - 1: Question\n","          - 2: Answer\n","       - ParentID (only present if PostTypeId is 2)\n","       - AcceptedAnswerId (only present if PostTypeId is 1)\n","       - CreationDate\n","       - Score\n","       - ViewCount\n","       - Body\n","       - OwnerUserId\n","       - LastEditorUserId\n","       - LastEditorDisplayName=\"Jeff Atwood\"\n","       - LastEditDate=\"2009-03-05T22:28:34.823\"\n","       - LastActivityDate=\"2009-03-11T12:51:01.480\"\n","       - CommunityOwnedDate=\"2009-03-11T12:51:01.480\"\n","       - ClosedDate=\"2009-03-11T12:51:01.480\"\n","       - Title=\n","       - Tags=\n","       - AnswerCount\n","       - CommentCount\n","       - FavoriteCount\n","   - **Tags**.csv\n","    - Id\n","    - Count\n","    - ExcerptPostId\n","    - TagName\n","    - WikiPostId\n","   - **Users**.csv\n","     - Id\n","     - Reputation\n","     - CreationDate\n","     - DisplayName\n","     - EmailHash\n","     - LastAccessDate\n","     - WebsiteUrl\n","     - Location\n","     - Age\n","     - AboutMe\n","     - Views\n","     - UpVotes\n","     - DownVotes\n","   - **Votes**.csv\n","     - Id\n","     - PostId\n","     - VoteTypeId\n","        - ` 1`: AcceptedByOriginator\n","        - ` 2`: UpMod\n","        - ` 3`: DownMod\n","        - ` 4`: Offensive\n","        - ` 5`: Favorite - if VoteTypeId = 5 UserId will be populated\n","        - ` 6`: Close\n","        - ` 7`: Reopen\n","        - ` 8`: BountyStart\n","        - ` 9`: BountyClose\n","        - `10`: Deletion\n","        - `11`: Undeletion\n","        - `12`: Spam\n","        - `13`: InformModerator\n","     - CreationDate\n","     - UserId (only for VoteTypeId 5)\n","     - BountyAmount (only for VoteTypeId 9)"]},{"cell_type":"code","execution_count":62,"id":"da408186","metadata":{"id":"da408186","colab":{"base_uri":"https://localhost:8080/"},"executionInfo":{"status":"ok","timestamp":1709137773915,"user_tz":-60,"elapsed":2710,"user":{"displayName":"Fco Javier Mercader","userId":"12677169545654363736"}},"outputId":"ba2ccfba-0757-4f71-cccd-4364599b1370"},"outputs":[{"output_type":"stream","name":"stdout","text":["--2024-02-28 16:29:31--  https://github.com/dsevilla/bd2-data/raw/main/es.stackoverflow/es.stackoverflow.csv.7z.001\n","Resolving github.com (github.com)... 140.82.114.3\n","Connecting to github.com (github.com)|140.82.114.3|:443... connected.\n","HTTP request sent, awaiting response... 302 Found\n","Location: https://raw.githubusercontent.com/dsevilla/bd2-data/main/es.stackoverflow/es.stackoverflow.csv.7z.001 [following]\n","--2024-02-28 16:29:32--  https://raw.githubusercontent.com/dsevilla/bd2-data/main/es.stackoverflow/es.stackoverflow.csv.7z.001\n","Resolving raw.githubusercontent.com (raw.githubusercontent.com)... 185.199.108.133, 185.199.109.133, 185.199.110.133, ...\n","Connecting to raw.githubusercontent.com (raw.githubusercontent.com)|185.199.108.133|:443... connected.\n","HTTP request sent, awaiting response... 200 OK\n","Length: 104857600 (100M) [application/octet-stream]\n","Saving to: ‘es.stackoverflow.csv.7z.001.1’\n","\n","es.stackoverflow.cs 100%[===================>] 100.00M   175MB/s    in 0.6s    \n","\n","2024-02-28 16:29:33 (175 MB/s) - ‘es.stackoverflow.csv.7z.001.1’ saved [104857600/104857600]\n","\n","--2024-02-28 16:29:33--  https://github.com/dsevilla/bd2-data/raw/main/es.stackoverflow/es.stackoverflow.csv.7z.002\n","Resolving github.com (github.com)... 140.82.112.3\n","Connecting to github.com (github.com)|140.82.112.3|:443... connected.\n","HTTP request sent, awaiting response... 302 Found\n","Location: https://raw.githubusercontent.com/dsevilla/bd2-data/main/es.stackoverflow/es.stackoverflow.csv.7z.002 [following]\n","--2024-02-28 16:29:33--  https://raw.githubusercontent.com/dsevilla/bd2-data/main/es.stackoverflow/es.stackoverflow.csv.7z.002\n","Resolving raw.githubusercontent.com (raw.githubusercontent.com)... 185.199.108.133, 185.199.109.133, 185.199.110.133, ...\n","Connecting to raw.githubusercontent.com (raw.githubusercontent.com)|185.199.108.133|:443... connected.\n","HTTP request sent, awaiting response... 200 OK\n","Length: 95599938 (91M) [application/octet-stream]\n","Saving to: ‘es.stackoverflow.csv.7z.002.1’\n","\n","es.stackoverflow.cs 100%[===================>]  91.17M   139MB/s    in 0.7s    \n","\n","2024-02-28 16:29:34 (139 MB/s) - ‘es.stackoverflow.csv.7z.002.1’ saved [95599938/95599938]\n","\n"]}],"source":["!wget https://github.com/dsevilla/bd2-data/raw/main/es.stackoverflow/es.stackoverflow.csv.7z.001\n","!wget https://github.com/dsevilla/bd2-data/raw/main/es.stackoverflow/es.stackoverflow.csv.7z.002"]},{"cell_type":"code","execution_count":63,"id":"0ea24ef7","metadata":{"id":"0ea24ef7","colab":{"base_uri":"https://localhost:8080/"},"executionInfo":{"status":"ok","timestamp":1709137940690,"user_tz":-60,"elapsed":166783,"user":{"displayName":"Fco Javier Mercader","userId":"12677169545654363736"}},"outputId":"5dd5e359-3f90-4711-a7d7-96fdf2397266"},"outputs":[{"output_type":"stream","name":"stdout","text":["\n","7-Zip (a) [64] 16.02 : Copyright (c) 1999-2016 Igor Pavlov : 2016-05-21\n","p7zip Version 16.02 (locale=en_US.UTF-8,Utf16=on,HugeFiles=on,64 bits,2 CPUs Intel(R) Xeon(R) CPU @ 2.20GHz (406F0),ASM,AES-NI)\n","\n","Scanning the drive for archives:\n","  0M Scan\b\b\b\b\b\b\b\b\b         \b\b\b\b\b\b\b\b\b1 file, 104857600 bytes (100 MiB)\n","\n","Extracting archive: es.stackoverflow.csv.7z.001\n","  0% 1 Open\b\b\b\b\b\b\b\b\b\b\b           \b\b\b\b\b\b\b\b\b\b\b--\n","Path = es.stackoverflow.csv.7z.001\n","Type = Split\n","Physical Size = 104857600\n","Volumes = 2\n","Total Physical Size = 200457538\n","----\n","Path = es.stackoverflow.csv.7z\n","Size = 200457538\n","--\n","Path = es.stackoverflow.csv.7z\n","Type = 7z\n","Physical Size = 200457538\n","Headers Size = 248\n","Method = LZMA2:24\n","Solid = +\n","Blocks = 1\n","\n","  0%\b\b\b\b    \b\b\b\b\n","Would you like to replace the existing file:\n","  Path:     ./Comments.csv\n","  Size:     160819553 bytes (154 MiB)\n","  Modified: 2024-01-21 23:51:00\n","with the file from archive:\n","  Path:     Comments.csv\n","  Size:     160819553 bytes (154 MiB)\n","  Modified: 2024-01-21 23:51:00\n","? (Y)es / (N)o / (A)lways / (S)kip all / A(u)to rename all / (Q)uit? "]}],"source":["!7zr x es.stackoverflow.csv.7z.001"]},{"cell_type":"code","execution_count":64,"id":"4415bb30","metadata":{"id":"4415bb30","colab":{"base_uri":"https://localhost:8080/"},"executionInfo":{"status":"ok","timestamp":1709137940691,"user_tz":-60,"elapsed":22,"user":{"displayName":"Fco Javier Mercader","userId":"12677169545654363736"}},"outputId":"7864577d-988a-473a-a29a-3b0df242fe37"},"outputs":[{"output_type":"stream","name":"stdout","text":["Id,AboutMe,AccountId,CreationDate,DisplayName,DownVotes,LastAccessDate,Location,Reputation,UpVotes,Views,WebsiteUrl\r\n","-1,\"<p>Hola, no soy una persona real.</p><br/><br/><p>¡Soy un proceso que ayuda a mantener el sitio limpio!</p><br/><br/><p>Hago cosas como:</p><br/><br/><ul><br/><li>Dar empujoncitos a preguntas antiguas sin respuesta aproximadamente cada hora, para que atraigan algo de atención.</li><br/><li>Tener la propiedad de las preguntas y respuestas wiki para que nadie se lleve reputación por ellas</li><br/><li>Recibir la propiedad de los votos negativos en las publicaciones de spam o dañinas que son borradas permanentemente</li><br/><li>Tener la propiedad de las ediciones sugeridas por usuarios anónimos</li><br/><li><a href=\"\"http://meta.stackoverflow.com/a/92006\"\">Quitar preguntas abandonadas</a></li><br/></ul><br/>\",-1,2015-10-26T21:36:24.767,Comunidad,22504,2015-10-26T21:36:24.767,en la granja de servidores,1,10211,2516,\r\n","1,\"<p>Dev #2 who helped create Stack Overflow currently working at Microsoft. I love all people willing to share their knowledge. Without community we are nothing.</p><br/><p>Find me on:</p><br/><p><a href=\"\"http://www.twitter.com/SuperDalgas\"\" rel=\"\"nofollow noreferrer\"\">Twitter</a><br/><br><br><br/><a href=\"\"http://blog.stackoverflow.com/2009/05/welcome-stack-overflow-valued-associate-00003/\"\">Stack Overflow Valued Associate #00003</a></p><br/>\",2,2015-10-26T22:50:12.710,Geoff Dalgas,0,2021-01-05T19:45:26.807,\"Corvallis, OR\",101,0,2917,http://stackoverflow.com\r\n","2,\"<p>developer, techie, nerd.... ex-DBRE at Stack Overflow, previously a Community Manager for Stack Overflow.  When I'm not at my desk, I do CrossFit and run (a lot).</p><br/>\",188123,2015-10-26T22:51:07.007,Taryn,0,2020-08-18T17:39:10.693,Arizona,101,0,109,https://tarynpivots.com\r\n","3,\"<p>Topics you might be interested in reading about:</p><br/><ul><br/><li><a href=\"\"https://jlericson.com/2023/10/16/catija.html\"\" rel=\"\"nofollow noreferrer\"\">why Stack Exchange Inc undervalues community managers</a></li><br/><li><a href=\"\"https://jlericson.com/tag/strike\"\" rel=\"\"nofollow noreferrer\"\">the moderator strike</a></li><br/><li><a href=\"\"https://jlericson.com/tag/documentation\"\" rel=\"\"nofollow noreferrer\"\">documentation</a></li><br/><li><a href=\"\"https://jlericson.com/tag/support\"\" rel=\"\"nofollow noreferrer\"\">customer support</a></li><br/></ul><br/><p>I'm Head of Community at <a href=\"\"https://talk.collegeconfidential.com/\"\" rel=\"\"nofollow noreferrer\"\">College Confidential</a> and former <a href=\"\"https://jlericson.com/2021/04/30/developer_advocate.html\"\" rel=\"\"nofollow noreferrer\"\">Developer Advocate at EDB</a>. Stack Exchange no longer employs me as a <a href=\"\"http://blog.stackoverflow.com/2013/08/please-welcome-jon-ericson-community-manager/\"\">Community Manager</a>.  I maintain an <a href=\"\"http://chat.meta.stackexchange.com/rooms/738/jons-java-jitter-joint\"\">office on chat</a>. (Please ignore the meta cruft.)</p><br/><blockquote><br/><p><a href=\"\"https://www.mechon-mamre.org/p/pt/pt2685.htm\"\" rel=\"\"nofollow noreferrer\"\">Mercy and truth are met together; righteousness and peace have kissed each other.</a></p><br/></blockquote><br/><p>I write about my experience as a community manager at <a href=\"\"https://jlericson.com/\"\" rel=\"\"nofollow noreferrer\"\">jlericson.com</a>. You can read about what I've done over the years in my <a href=\"\"https://web.archive.org/web/20220113195358/https://stackoverflow.com/users/story/1438\"\" rel=\"\"nofollow noreferrer\"\" title=\"\"Not guaranteed to be current.\"\"><em>curriculum vitae</em></a>.</p><br/><p>On a personal note, I'm married and have three children.  Our oldest son loves school, friends, games, and music. Two of my children happen to have been born on the same day.  I <a href=\"\"http://taking1and1.wordpress.com/\"\" rel=\"\"nofollow noreferrer\"\" title=\"\"Yet another half-assed blog.\"\">sometimes write</a> about that experience. My wife loves taking care of people as a registered nurse and an all around wonderful person.</p><br/><p>Don't have time for a full review of something?  Why not try <a href=\"\"http://fivesecondreview.wordpress.com/\"\" rel=\"\"nofollow noreferrer\"\" title=\"\"All reviews accurate and helpful or your money back.\"\">my 5-second reviews</a>?</p><br/><p>I once wrote for <a href=\"\"http://christianity.blogoverflow.com/author/jonericson/\"\" rel=\"\"nofollow noreferrer\"\" title=\"\"I haven't been on the rotation for a while, however.\"\">Eschewmenical</a>, which was an experiment of <a href=\"\"http://christianity.stackexchange.com/\"\">Christianity Stack Exchange</a>. For <em>a lot more</em> writing about the Bible, see <a href=\"\"https://hermeneutics.stackexchange.com/users/68/jon-ericson?tab=summary\"\">my Biblical Hermeneutics posts</a>.</p><br/><br/>\",1083,2015-10-26T22:52:12.923,Jon 'links in bio' Ericson,0,2023-06-04T23:58:02.373,Downtown Burbank,101,0,87,https://jlericson.com/\r\n","4,\"<p>Lover of all things sharp including pencils, wit, and knives but not cheddar.</p><br/>\",6254215,2015-10-26T23:18:40.547,Juan M,0,2022-02-11T16:07:18.457,Behind the Glass,101,56,260,\r\n","5,\"<p>I am a Principal Software Engineer at Microsoft working on Azure Functions and related hosting technologies. Formerly the Architecture Lead for Stack Overflow where my day job consisted of being a Developer, Site Reliability Engineer, and DBA.</p><br/><p>I design and build very fast things in hopes of making life easier for millions of developers.</p><br/><p>Blog: <a href=\"\"https://nickcraver.com/blog/\"\" rel=\"\"nofollow noreferrer\"\">nickcraver.com/blog</a><br /><br/>Twitter: <a href=\"\"https://twitter.com/Nick_Craver\"\" rel=\"\"nofollow noreferrer\"\">@Nick_Craver</a><br /><br/>My Developer Story: <a href=\"\"https://stackoverflow.com/story/ncraver\"\">stackoverflow.com/story/ncraver</a></p><br/><p><sub>Disclaimer: I have <em>no idea</em> what I'm talking about, all my answers are guesses!</sub></p><br/>\",7598,2015-10-26T23:46:20.807,Nick Craver,0,2019-04-02T20:05:34.147,\"Winston-Salem, NC\",101,0,53,https://nickcraver.com/blog/\r\n","6,\"<p>Chief Technical Officer at <a href=\"\"https://postop.ai\"\" rel=\"\"nofollow noreferrer\"\">https://postop.ai</a>.</p><br/><ul><br/><li>Stack Overflow Contributor since 2008</li><br/><li>Skeptics mod since 2011</li><br/><li>Core dev since March 2013</li><br/><li>Stack Overflow alumnus since February 2017</li><br/></ul><br/><p>You can find me on</p><br/><ul><br/><li><a href=\"\"http://sklivvz.com\"\" rel=\"\"nofollow noreferrer\"\">Personal site</a></li><br/><li><a href=\"\"https://mastodon.social/@sklivvz\"\" rel=\"\"nofollow noreferrer\"\">Mastodon</a></li><br/><li><a href=\"\"https://github.com/sklivvz\"\" rel=\"\"nofollow noreferrer\"\">Github</a></li><br/><li><a href=\"\"https://www.linkedin.com/in/sklivvz/\"\" rel=\"\"nofollow noreferrer\"\">LinkedIn</a></li><br/></ul><br/>\",4623,2015-10-26T23:57:13.187,Sklivvz,0,2017-11-04T17:02:40.430,\"Trento, Province of Trento, Italy\",101,0,40,https://sklivvz.com\r\n","7,\"<p><a href=\"\"http://blog.stackoverflow.com/2013/09/summer-hiring-happened-so-fast/\"\">I'm</a> a Web Developer on the Stack Overflow Q&A Core <a href=\"\"http://stackexchange.com/about/team\"\">team</a>. You can email me via sprelog (at) stackoverflow.com</p><br/>\",51875,2015-10-27T07:03:55.417,m0sa,0,2023-01-24T10:24:53.517,Slovenia,101,0,51,\r\n","8,\"<p>My top interests here are:</p><br/><br/><ul><br/><li>Python</li><br/><li>Django</li><br/><li>Software security</li><br/></ul><br/><br/><p>In the past, I used <code>python</code> and <code>django</code> to develop a payment solution at <a href=\"\"https://www.my-bee.fr/pro/\"\" rel=\"\"nofollow noreferrer\"\">MyBee</a> - I'm glad they're still going strong today! I also worked at <a href=\"\"http://scalr.com/\"\" rel=\"\"nofollow noreferrer\"\">Scalr</a> as a Product Manager, and at <a href=\"\"http://www.accenture.com/\"\" rel=\"\"nofollow noreferrer\"\">Accenture</a> as a consultant on business / IT projects. Today, I'm Lead Backend Engineer at <a href=\"\"https://aptible.com\"\" rel=\"\"nofollow noreferrer\"\">Aptible</a>.</p><br/><br/><p>Personal email: <code>thomas@orozco.fr</code></p><br/>\",467632,2015-10-27T08:25:59.317,Thomas Orozco,0,2017-03-14T23:25:52.540,\"Paris, France\",101,0,27,\r\n"]}],"source":["!head Users.csv"]},{"cell_type":"markdown","id":"ea301915","metadata":{"id":"ea301915"},"source":["Una vez descargados los ficheros CSV, vamos a crear una colección diferente para cada uno tal y como hicimos en la sesión 1. Después estudiaremos cómo poder optimizar el acceso usando agregación."]},{"cell_type":"code","execution_count":65,"id":"ebf61c61","metadata":{"id":"ebf61c61","colab":{"base_uri":"https://localhost:8080/"},"executionInfo":{"status":"ok","timestamp":1709137940691,"user_tz":-60,"elapsed":12,"user":{"displayName":"Fco Javier Mercader","userId":"12677169545654363736"}},"outputId":"3557cdd7-0e29-4fcf-9038-bc7f5e43b745"},"outputs":[{"output_type":"execute_result","data":{"text/plain":["Database(MongoClient(host=['localhost:27017'], document_class=dict, tz_aware=False, connect=True), 'stackoverflow')"]},"metadata":{},"execution_count":65}],"source":["db = client.stackoverflow\n","db = client['stackoverflow']\n","db"]},{"cell_type":"code","execution_count":66,"id":"4c1a346e","metadata":{"id":"4c1a346e","colab":{"base_uri":"https://localhost:8080/"},"executionInfo":{"status":"ok","timestamp":1709137940691,"user_tz":-60,"elapsed":6,"user":{"displayName":"Fco Javier Mercader","userId":"12677169545654363736"}},"outputId":"0c6a39b6-4bfa-4b66-9732-e4951a21bc2b"},"outputs":[{"output_type":"execute_result","data":{"text/plain":["Collection(Database(MongoClient(host=['localhost:27017'], document_class=dict, tz_aware=False, connect=True), 'stackoverflow'), 'posts')"]},"metadata":{},"execution_count":66}],"source":["posts = db.posts\n","posts"]},{"cell_type":"code","execution_count":67,"id":"d59356c2","metadata":{"id":"d59356c2","executionInfo":{"status":"ok","timestamp":1709137941136,"user_tz":-60,"elapsed":450,"user":{"displayName":"Fco Javier Mercader","userId":"12677169545654363736"}}},"outputs":[],"source":["import csv\n","from datetime import datetime\n","from tqdm.notebook import tqdm\n","\n","def batched(iterable, n):\n","    from itertools import islice\n","    if n < 1:\n","        raise ValueError('n must be at least one')\n","    it = iter(iterable)\n","    while batch := tuple(islice(it, n)):\n","        yield batch\n","\n","def csv_to_mongo(file, coll):\n","    \"\"\"\n","    Carga un fichero CSV en Mongo. file especifica el fichero, coll la colección\n","    dentro de la base de datos, y date_cols las columnas que serán interpretadas\n","    como fechas.\n","    \"\"\"\n","    # Convertir todos los elementos que se puedan a números\n","    def to_numeric(d):\n","        if len(d) == 0:\n","            return ''\n","        if not ((d[0] >= '0' and d[0] <= '9') or d[0] == '-' or d[0] == '+' or d[0]=='.'):\n","            return str(d)\n","        try:\n","            return int(d)\n","        except ValueError:\n","            try:\n","                return float(d)\n","            except ValueError:\n","                return str(d)\n","\n","    def to_date(d):\n","        \"\"\"To ISO Date. If this cannot be converted, return NULL (None)\"\"\"\n","        try:\n","            return datetime.strptime(d, \"%Y-%m-%dT%H:%M:%S.%f\")\n","        except ValueError:\n","            return None\n","\n","    def to_str(d):\n","        try:\n","          return str(d)\n","        except ValueError:\n","            return None\n","\n","    coll.drop()\n","\n","    with open(file, encoding='utf-8') as f:\n","        # La llamada csv.reader() crea un iterador sobre un fichero CSV\n","        reader = csv.reader(f, dialect='excel')\n","\n","        # Se leen las columnas. Sus nombres se usarán para crear las diferentes columnas en la familia\n","        columns = next(reader)\n","\n","        # Las columnas que contienen 'Date' se interpretan como fechas\n","        func_to_cols = list(map(lambda c: to_date if 'date' in c.lower() else (to_numeric if not 'displayname' in c.lower() else to_str), columns))\n","\n","        for batch in batched(tqdm(reader, desc='Leyendo e insertando filas...'), 10000):\n","            docs = []\n","            for row in batch:\n","                row = [func(e) for (func,e) in zip(func_to_cols, row)]\n","                docs.append(dict(zip(columns,row)))\n","            coll.insert_many(docs)\n","\n","        print(\"¡Hecho!\")"]},{"cell_type":"code","execution_count":null,"id":"ff72382b","metadata":{"id":"ff72382b","colab":{"base_uri":"https://localhost:8080/","height":49,"referenced_widgets":["4c31a8a95b924da986b3eb98d21d11d9","49adaf5cb4d0470f89595c9cf2b9ccca","471bb0011ab44a65995eda44ce12d78d","2814c96d55f74717a6c89a74921d84ae","e91f3363d558478c90036eba16c94408","d45300439294435e8e724642aa7df1da","7486bda4f79d479cbf7c0282e559ced9","a900b2246d9348a2ba6aa972362d4d71","9c7bd4bf8dc3484fb85357f22d3bb7d4","5638eadbfb81453d9c33dd4f1f466834","08ecf3bfe5a34bca96e042c77b4ca437"]},"outputId":"b48f5dc8-3fe5-437f-f7b1-ee8f6dee03f6"},"outputs":[{"output_type":"display_data","data":{"text/plain":["Leyendo e insertando filas...: 0it [00:00, ?it/s]"],"application/vnd.jupyter.widget-view+json":{"version_major":2,"version_minor":0,"model_id":"4c31a8a95b924da986b3eb98d21d11d9"}},"metadata":{}}],"source":["csv_to_mongo('Posts.csv',db.posts)"]},{"cell_type":"code","execution_count":null,"id":"3525e704","metadata":{"id":"3525e704"},"outputs":[],"source":["csv_to_mongo('Users.csv',db.users)"]},{"cell_type":"code","execution_count":null,"id":"bf16de68","metadata":{"id":"bf16de68"},"outputs":[],"source":["csv_to_mongo('Votes.csv',db.votes)"]},{"cell_type":"code","execution_count":null,"id":"46fcf9de","metadata":{"id":"46fcf9de"},"outputs":[],"source":["csv_to_mongo('Comments.csv',db.comments)"]},{"cell_type":"code","execution_count":null,"id":"0088134b","metadata":{"id":"0088134b"},"outputs":[],"source":["csv_to_mongo('Tags.csv',db.tags)"]},{"cell_type":"code","execution_count":null,"id":"dd7e066e","metadata":{"id":"dd7e066e"},"outputs":[],"source":["posts.count_documents({})"]},{"cell_type":"markdown","id":"be534de3","metadata":{"id":"be534de3"},"source":["## Framework de Agregación\n","\n","Framework de agregación:\n","- Aquí está la referencia de las diferentes etapas por las que puede pasar un pipeline: https://www.mongodb.com/docs/manual/reference/operator/aggregation-pipeline/.\n","- Y aquí los distintos operadores que se permiten dentro de las etapas: https://docs.mongodb.com/manual/reference/operator/aggregation/.\n","- Y aquí incluso un libro completo con usos prácticos de ejecutar agregación: https://www.practical-mongodb-aggregations.com/.\n","\n","A continuación un vídeo interseante:"]},{"cell_type":"code","execution_count":null,"id":"e51dc993","metadata":{"id":"e51dc993"},"outputs":[],"source":["from IPython.display import YouTubeVideo\n","YouTubeVideo('VSX4a3h4SmQ',width=600)"]},{"cell_type":"markdown","id":"4ce69751","metadata":{"id":"4ce69751"},"source":["Aqui tenemos un esquema con un ejemplo básico de agregación."]},{"cell_type":"markdown","id":"9d350345","metadata":{"id":"9d350345"},"source":["![](https://miro.medium.com/max/1060/1*2lDBxvZ8Cr3JYkoODTa0lQ.png)"]},{"cell_type":"markdown","id":"b223ee0a","metadata":{"id":"b223ee0a"},"source":["## Algunos operadores de agregación\n","\n"]},{"cell_type":"markdown","id":"6c74cba8","metadata":{"id":"6c74cba8"},"source":["### `$match`\n","\n","Este operador permite filtrar los documentos que queremos que pasen a la siguiente fase del pipeline definiendo una serie de condiciones sobre los campos de los mismos.\n","\n","Vamos a filtrar aquellos documentos que tengan un `Score` igual o superior (`$gte`) a 40."]},{"cell_type":"code","execution_count":null,"id":"aea0bef0","metadata":{"id":"aea0bef0"},"outputs":[],"source":["respuestas = posts.aggregate( [\n","        {'$match': { 'Score' : {'$gte': 40}}}\n","])\n","list(respuestas)"]},{"cell_type":"markdown","id":"33e3c08e","metadata":{"id":"33e3c08e"},"source":["### `$project`\n","\n","El operador `$project`permite filtar qué campos de los documentos queremos usar en la siguientes fases de agregación.\n","\n","Generalmente este operador suele combinarse con otros como `$find`, `$match` o `$lookup` en fases más avanzadas de la agregación.\n","\n","En el siguiente ejemplo, realizamos un filtrado en donde solo nos quedamos con el campo `Id` de los posts."]},{"cell_type":"code","execution_count":null,"id":"5ba260cc","metadata":{"id":"5ba260cc"},"outputs":[],"source":["respuestas = db['posts'].aggregate( [\n","    {'$project' : { 'Id' : True }},\n","    {'$limit': 20} ])\n","list(respuestas)"]},{"cell_type":"markdown","id":"e2fcbbbd","metadata":{"id":"e2fcbbbd"},"source":["### `$lookup`"]},{"cell_type":"markdown","id":"4fbd15ce","metadata":{"id":"4fbd15ce"},"source":["El operador `$lookup` permite realizar búsquedas en otras colecciones. Podrían interpretarse como un `join` en el modelo relacional.\n","\n","En el ejemplo siguiente, en primer lugar seleccionamos los posts con un `Score` igual o mayor a 40 con `$match` para a continuación seleccionar los usuarios que han publicado dichos posts incluyendolo en un nuevo campo llamado `owner`."]},{"cell_type":"code","execution_count":null,"id":"552c171f","metadata":{"id":"552c171f","scrolled":true},"outputs":[],"source":["respuestas = posts.aggregate( [\n","        {'$match': { 'Score' : {'$gte': 40}}},\n","        {'$lookup': {\n","            'from': \"users\",\n","            'localField': \"OwnerUserId\",\n","            'foreignField': \"Id\",\n","            'as': \"owner\"}\n","        }\n","        ])\n","list(respuestas)"]},{"cell_type":"markdown","id":"d8dfa0a6","metadata":{"id":"d8dfa0a6"},"source":["### `$arrayElemAt`\n","\n","El `$lookup` genera un _array_ con todos los resultados. El operador `$arrayElementAt` accede al primer elemento."]},{"cell_type":"code","execution_count":null,"id":"c742cc79","metadata":{"id":"c742cc79"},"outputs":[],"source":["respuestas = db.posts.aggregate( [\n","        {'$match': { 'Score' : {'$gte': 40}}},\n","        {'$lookup': {\n","            'from': \"users\",\n","            'localField': \"OwnerUserId\",\n","            'foreignField': \"Id\",\n","            'as': \"owner\"}\n","        },\n","        { '$project' : {\n","            'Id' : True,\n","            'Score' : True,\n","            'username' : {'$arrayElemAt' : ['$owner.DisplayName', 0]},\n","            'owner.DisplayName' : True\n","          }}\n","        ])\n","list(respuestas)"]},{"cell_type":"markdown","id":"63652f58","metadata":{"id":"63652f58"},"source":["### `$unwind`\n","\n","Este operador *desdobla* cada fila por cada elemento del array.\n","\n","Ej: El siguiente código\n","\n","```python\n","db.inventory.insert_one({ \"_id\" : 1, \"item\" : \"ABC1\", \"sizes\": [ \"S\", \"M\", \"L\"] })\n","db.inventory.aggregate( [ { \"$unwind\" : \"$sizes\" } ] )\n","```\n","\n","Devolverá:\n","\n","```json\n","{ \"_id\" : 1, \"item\" : \"ABC1\", \"sizes\" : \"S\" }\n","{ \"_id\" : 1, \"item\" : \"ABC1\", \"sizes\" : \"M\" }\n","{ \"_id\" : 1, \"item\" : \"ABC1\", \"sizes\" : \"L\" }\n","```\n","\n","En el ejemplo de procesamiento de posts que estamos llevando acabo, como sabemos que el array `$owner`sólo contiene un elemento, sólo habrá una fila por fila original, pero sin el _array_. Finalmente se puede proyectar el campo que se quiera. En este caso el `ownerDisplayName` que es proyectado (renombrado) como `username`."]},{"cell_type":"code","execution_count":null,"id":"bed9ee9a","metadata":{"id":"bed9ee9a"},"outputs":[],"source":["respuestas = db.posts.aggregate( [\n","        { '$match': { 'Score' : {'$gte': 40}}},\n","        { '$lookup': {\n","            'from': \"users\",\n","            'localField': \"OwnerUserId\",\n","            'foreignField': \"Id\",\n","            'as': \"owner\"\n","          }\n","        },\n","        { '$unwind': '$owner'},\n","        { '$project' : {\n","             'username': '$owner.DisplayName'\n","          }\n","        }\n","        ])\n","list(respuestas)"]},{"cell_type":"markdown","id":"24287610","metadata":{"id":"24287610"},"source":["### `$push`\n","\n","Devuelve un array con *todos* los valores que resultan de aplicar una determinada expresión a los documentos que forman parte del pipeline.\n","\n","Obtener el listado con el identificador de `Posts` (`Id`) asociados a cada valor de `Score`."]},{"cell_type":"code","execution_count":null,"id":"a7977c56","metadata":{"id":"a7977c56"},"outputs":[],"source":["posts_by_score= db.posts.aggregate([\n","    {\n","        '$group':{\n","            '_id': '$Score',\n","            'posts':{\n","                '$push': {\n","                    'post': '$Id'\n","                }\n","            }\n","        }\n","    }\n","\n","])\n","list(posts_by_score)"]},{"cell_type":"markdown","id":"920bf6cf","metadata":{"id":"920bf6cf"},"source":["### `$addToSet`\n","\n"," Devuelve un array de todos los valores únicos que resultan de aplicar una expresión a cada documento de un grupo.\n","\n","\n","Vamos a obtener el listado de `Tags` asociadas a cada tipo de licencia  `ContentLicense`."]},{"cell_type":"code","execution_count":null,"id":"c6b4c266","metadata":{"id":"c6b4c266"},"outputs":[],"source":["license_and_tags= db.posts.aggregate([\n","            { \"$match\" : {\"PostTypeId\": 1}},\n","            {\"$limit\": 10},\n","\n","             {'$group':{\n","                             '_id':'$ContentLicense',\n","                             'AllTags': { '$addToSet': \"$Tags\" }\n","            }}\n","\n","            ]\n",")\n","list(license_and_tags)"]},{"cell_type":"markdown","id":"dcd6223b","metadata":{"id":"dcd6223b"},"source":["### `$out`\n","\n","Este comando permite volcar el ersulado de un pipeline de agregación en una nueva colección en la base de datos."]},{"cell_type":"code","execution_count":null,"id":"e9bf9e36","metadata":{"id":"e9bf9e36"},"outputs":[],"source":["respuestas = db.posts.aggregate( [\n","        { '$match': { 'Score' : {'$gte': 40}}},\n","        { '$lookup': {\n","            'from': \"users\",\n","            'localField': \"OwnerUserId\",\n","            'foreignField': \"Id\",\n","            'as': \"owner\"\n","          }\n","        },\n","        { '$unwind': '$owner'},\n","        { '$project' : {\n","             'username': '$owner.DisplayName'\n","          }\n","        },\n","        {'$out': \"stackoverflow_users\"}\n","        ])"]},{"cell_type":"code","execution_count":null,"id":"d600be27","metadata":{"id":"d600be27"},"outputs":[],"source":["db.stackoverflow_users.count_documents({})"]},{"cell_type":"markdown","id":"af356307","metadata":{"id":"af356307"},"source":["## Ejemplos básicos de agregación"]},{"cell_type":"markdown","id":"b047cba2","metadata":{"id":"b047cba2"},"source":["### Ejemplo 1: Asociación usuarios con Tags\n","\n","Con Agregación, vamos a construir una colección que asocia un usuario con los tags que ha usado en todas sus preguntas.\n","\n","*Por cuestiones de rendimiento vamos a limitar la agregación a 50 elementos.*"]},{"cell_type":"code","execution_count":null,"id":"dd02687d","metadata":{"id":"dd02687d"},"outputs":[],"source":["user_tags= db.posts.aggregate( [\n","        { \"$match\" : {\"PostTypeId\": 1}},\n","\n","        {\"$limit\": 50},\n","\n","        { '$lookup': {\n","            'from': \"users\",\n","            'localField': \"OwnerUserId\",\n","            'foreignField': \"Id\",\n","            'as': \"owner\"\n","          }\n","        },\n","\n","        {'$project':{\n","            'Tags': True,\n","            'userid' : {'$arrayElemAt' : ['$owner.Id', 0]},\n","        }},\n","\n","        {'$group':{\n","            '_id':'$userid',\n","            'AllTags': { '$addToSet': \"$Tags\" }\n","        }}\n","]\n",")\n","\n","user_tags_lst= list(user_tags)\n","user_tags_lst"]},{"cell_type":"markdown","id":"ae4f8f80","metadata":{"id":"ae4f8f80"},"source":["### Ejemplo 2: Asociación Tags con usuarios\n","\n","Ahora, dado un ID de tag, qué usuarios han hecho preguntas de ese tag.\n","\n","*De nuevo limitamos la búsqueda a 50 documentos*"]},{"cell_type":"code","execution_count":null,"id":"fb2cccdc","metadata":{"id":"fb2cccdc"},"outputs":[],"source":["tags_users= db.posts.aggregate( [\n","        { \"$match\" : {\"PostTypeId\": 1}},\n","\n","        {\"$limit\": 50},\n","\n","        { '$lookup': {\n","            'from': \"users\",\n","            'localField': \"OwnerUserId\",\n","            'foreignField': \"Id\",\n","            'as': \"owner\"\n","          }\n","        },\n","\n","        {'$project':{\n","            'Tags': True,\n","            'userid' : {'$arrayElemAt' : ['$owner.Id', 0]},\n","        }},\n","\n","        {'$group':{\n","            '_id':'$Tags',\n","            'AllUsers': { '$addToSet': \"$userid\" }\n","        }}\n","]\n",")\n","\n","tags_users_lst= list(tags_users)\n","tags_users_lst"]},{"cell_type":"markdown","id":"1643792b","metadata":{"id":"1643792b"},"source":["## Ejercicios"]},{"cell_type":"markdown","id":"f2671ff4","metadata":{"id":"f2671ff4"},"source":["### EJ1: Obtener un una colección de documentos *verbosos* en donde se indique el texto `Body` de una pregunta así como el nombre del usuario que la formuló (`DisplayName`)"]},{"cell_type":"code","source":[],"metadata":{"id":"9biiN-k3i6tq"},"id":"9biiN-k3i6tq","execution_count":null,"outputs":[]},{"cell_type":"markdown","id":"ba889f78","metadata":{"id":"ba889f78"},"source":["### EJ2: Obtener las respuestas escritas en el mes de Enero de 2022 con un `Score` superior a 3"]},{"cell_type":"code","execution_count":null,"id":"e2a30406","metadata":{"id":"e2a30406"},"outputs":[],"source":["print(\"Eso es todo amigos!\")"]}],"metadata":{"colab":{"provenance":[]},"kernelspec":{"display_name":"Python 3 (ipykernel)","language":"python","name":"python3"},"language_info":{"codemirror_mode":{"name":"ipython","version":3},"file_extension":".py","mimetype":"text/x-python","name":"python","nbconvert_exporter":"python","pygments_lexer":"ipython3","version":"3.11.6"},"widgets":{"application/vnd.jupyter.widget-state+json":{"4c31a8a95b924da986b3eb98d21d11d9":{"model_module":"@jupyter-widgets/controls","model_name":"HBoxModel","model_module_version":"1.5.0","state":{"_dom_classes":[],"_model_module":"@jupyter-widgets/controls","_model_module_version":"1.5.0","_model_name":"HBoxModel","_view_count":null,"_view_module":"@jupyter-widgets/controls","_view_module_version":"1.5.0","_view_name":"HBoxView","box_style":"","children":["IPY_MODEL_49adaf5cb4d0470f89595c9cf2b9ccca","IPY_MODEL_471bb0011ab44a65995eda44ce12d78d","IPY_MODEL_2814c96d55f74717a6c89a74921d84ae"],"layout":"IPY_MODEL_e91f3363d558478c90036eba16c94408"}},"49adaf5cb4d0470f89595c9cf2b9ccca":{"model_module":"@jupyter-widgets/controls","model_name":"HTMLModel","model_module_version":"1.5.0","state":{"_dom_classes":[],"_model_module":"@jupyter-widgets/controls","_model_module_version":"1.5.0","_model_name":"HTMLModel","_view_count":null,"_view_module":"@jupyter-widgets/controls","_view_module_version":"1.5.0","_view_name":"HTMLView","description":"","description_tooltip":null,"layout":"IPY_MODEL_d45300439294435e8e724642aa7df1da","placeholder":"​","style":"IPY_MODEL_7486bda4f79d479cbf7c0282e559ced9","value":"Leyendo e insertando filas...: "}},"471bb0011ab44a65995eda44ce12d78d":{"model_module":"@jupyter-widgets/controls","model_name":"FloatProgressModel","model_module_version":"1.5.0","state":{"_dom_classes":[],"_model_module":"@jupyter-widgets/controls","_model_module_version":"1.5.0","_model_name":"FloatProgressModel","_view_count":null,"_view_module":"@jupyter-widgets/controls","_view_module_version":"1.5.0","_view_name":"ProgressView","bar_style":"info","description":"","description_tooltip":null,"layout":"IPY_MODEL_a900b2246d9348a2ba6aa972362d4d71","max":1,"min":0,"orientation":"horizontal","style":"IPY_MODEL_9c7bd4bf8dc3484fb85357f22d3bb7d4","value":1}},"2814c96d55f74717a6c89a74921d84ae":{"model_module":"@jupyter-widgets/controls","model_name":"HTMLModel","model_module_version":"1.5.0","state":{"_dom_classes":[],"_model_module":"@jupyter-widgets/controls","_model_module_version":"1.5.0","_model_name":"HTMLModel","_view_count":null,"_view_module":"@jupyter-widgets/controls","_view_module_version":"1.5.0","_view_name":"HTMLView","description":"","description_tooltip":null,"layout":"IPY_MODEL_5638eadbfb81453d9c33dd4f1f466834","placeholder":"​","style":"IPY_MODEL_08ecf3bfe5a34bca96e042c77b4ca437","value":" 98817/? [00:11&lt;00:00, 11382.12it/s]"}},"e91f3363d558478c90036eba16c94408":{"model_module":"@jupyter-widgets/base","model_name":"LayoutModel","model_module_version":"1.2.0","state":{"_model_module":"@jupyter-widgets/base","_model_module_version":"1.2.0","_model_name":"LayoutModel","_view_count":null,"_view_module":"@jupyter-widgets/base","_view_module_version":"1.2.0","_view_name":"LayoutView","align_content":null,"align_items":null,"align_self":null,"border":null,"bottom":null,"display":null,"flex":null,"flex_flow":null,"grid_area":null,"grid_auto_columns":null,"grid_auto_flow":null,"grid_auto_rows":null,"grid_column":null,"grid_gap":null,"grid_row":null,"grid_template_areas":null,"grid_template_columns":null,"grid_template_rows":null,"height":null,"justify_content":null,"justify_items":null,"left":null,"margin":null,"max_height":null,"max_width":null,"min_height":null,"min_width":null,"object_fit":null,"object_position":null,"order":null,"overflow":null,"overflow_x":null,"overflow_y":null,"padding":null,"right":null,"top":null,"visibility":null,"width":null}},"d45300439294435e8e724642aa7df1da":{"model_module":"@jupyter-widgets/base","model_name":"LayoutModel","model_module_version":"1.2.0","state":{"_model_module":"@jupyter-widgets/base","_model_module_version":"1.2.0","_model_name":"LayoutModel","_view_count":null,"_view_module":"@jupyter-widgets/base","_view_module_version":"1.2.0","_view_name":"LayoutView","align_content":null,"align_items":null,"align_self":null,"border":null,"bottom":null,"display":null,"flex":null,"flex_flow":null,"grid_area":null,"grid_auto_columns":null,"grid_auto_flow":null,"grid_auto_rows":null,"grid_column":null,"grid_gap":null,"grid_row":null,"grid_template_areas":null,"grid_template_columns":null,"grid_template_rows":null,"height":null,"justify_content":null,"justify_items":null,"left":null,"margin":null,"max_height":null,"max_width":null,"min_height":null,"min_width":null,"object_fit":null,"object_position":null,"order":null,"overflow":null,"overflow_x":null,"overflow_y":null,"padding":null,"right":null,"top":null,"visibility":null,"width":null}},"7486bda4f79d479cbf7c0282e559ced9":{"model_module":"@jupyter-widgets/controls","model_name":"DescriptionStyleModel","model_module_version":"1.5.0","state":{"_model_module":"@jupyter-widgets/controls","_model_module_version":"1.5.0","_model_name":"DescriptionStyleModel","_view_count":null,"_view_module":"@jupyter-widgets/base","_view_module_version":"1.2.0","_view_name":"StyleView","description_width":""}},"a900b2246d9348a2ba6aa972362d4d71":{"model_module":"@jupyter-widgets/base","model_name":"LayoutModel","model_module_version":"1.2.0","state":{"_model_module":"@jupyter-widgets/base","_model_module_version":"1.2.0","_model_name":"LayoutModel","_view_count":null,"_view_module":"@jupyter-widgets/base","_view_module_version":"1.2.0","_view_name":"LayoutView","align_content":null,"align_items":null,"align_self":null,"border":null,"bottom":null,"display":null,"flex":null,"flex_flow":null,"grid_area":null,"grid_auto_columns":null,"grid_auto_flow":null,"grid_auto_rows":null,"grid_column":null,"grid_gap":null,"grid_row":null,"grid_template_areas":null,"grid_template_columns":null,"grid_template_rows":null,"height":null,"justify_content":null,"justify_items":null,"left":null,"margin":null,"max_height":null,"max_width":null,"min_height":null,"min_width":null,"object_fit":null,"object_position":null,"order":null,"overflow":null,"overflow_x":null,"overflow_y":null,"padding":null,"right":null,"top":null,"visibility":null,"width":"20px"}},"9c7bd4bf8dc3484fb85357f22d3bb7d4":{"model_module":"@jupyter-widgets/controls","model_name":"ProgressStyleModel","model_module_version":"1.5.0","state":{"_model_module":"@jupyter-widgets/controls","_model_module_version":"1.5.0","_model_name":"ProgressStyleModel","_view_count":null,"_view_module":"@jupyter-widgets/base","_view_module_version":"1.2.0","_view_name":"StyleView","bar_color":null,"description_width":""}},"5638eadbfb81453d9c33dd4f1f466834":{"model_module":"@jupyter-widgets/base","model_name":"LayoutModel","model_module_version":"1.2.0","state":{"_model_module":"@jupyter-widgets/base","_model_module_version":"1.2.0","_model_name":"LayoutModel","_view_count":null,"_view_module":"@jupyter-widgets/base","_view_module_version":"1.2.0","_view_name":"LayoutView","align_content":null,"align_items":null,"align_self":null,"border":null,"bottom":null,"display":null,"flex":null,"flex_flow":null,"grid_area":null,"grid_auto_columns":null,"grid_auto_flow":null,"grid_auto_rows":null,"grid_column":null,"grid_gap":null,"grid_row":null,"grid_template_areas":null,"grid_template_columns":null,"grid_template_rows":null,"height":null,"justify_content":null,"justify_items":null,"left":null,"margin":null,"max_height":null,"max_width":null,"min_height":null,"min_width":null,"object_fit":null,"object_position":null,"order":null,"overflow":null,"overflow_x":null,"overflow_y":null,"padding":null,"right":null,"top":null,"visibility":null,"width":null}},"08ecf3bfe5a34bca96e042c77b4ca437":{"model_module":"@jupyter-widgets/controls","model_name":"DescriptionStyleModel","model_module_version":"1.5.0","state":{"_model_module":"@jupyter-widgets/controls","_model_module_version":"1.5.0","_model_name":"DescriptionStyleModel","_view_count":null,"_view_module":"@jupyter-widgets/base","_view_module_version":"1.2.0","_view_name":"StyleView","description_width":""}}}}},"nbformat":4,"nbformat_minor":5}
=======
{
 "cells": [
  {
   "cell_type": "markdown",
   "id": "c3de2da2",
   "metadata": {
    "id": "WdqTiGhdfbo4"
   },
   "source": [
    "## NoSQL (MongoDB) (sesión 2)\n"
   ]
  },
  {
   "cell_type": "markdown",
   "id": "e7cf2bcf",
   "metadata": {
    "id": "be5isyBjMQl2"
   },
   "source": [
    "## Introducción"
   ]
  },
  {
   "cell_type": "markdown",
   "id": "e10025b3",
   "metadata": {
    "id": "ZbikzCBUXK2P"
   },
   "source": [
    "![MongoDB](https://webassets.mongodb.com/_com_assets/cms/MongoDB_Logo_FullColorBlack_RGB-4td3yuxzjs.png)\n",
    "\n",
    "Esta hoja muestra cómo acceder a bases de datos MongoDB y también a conectar la salida con Jupyter. Se puede utilizar el *shell* propio de MongoDB en el contenedor usando el programa `mongo`. La diferencia es que ese programa espera código Javascript y aquí trabajaremos con Python."
   ]
  },
  {
   "cell_type": "code",
   "execution_count": 5,
   "id": "3f18c9bf",
   "metadata": {
    "id": "x9-RN4ZSY5o9"
   },
   "outputs": [],
   "source": [
    "RunningInCOLAB = 'google.colab' in str(get_ipython()) if hasattr(__builtins__,'__IPYTHON__') else False"
   ]
  },
  {
   "cell_type": "code",
   "execution_count": 6,
   "id": "c6a5d9fc",
   "metadata": {
    "id": "n5BdH3KOZA47"
   },
   "outputs": [],
   "source": [
    "db_hostname = \"localhost\" if RunningInCOLAB else \"mongo\""
   ]
  },
  {
   "cell_type": "markdown",
   "id": "6750188f",
   "metadata": {
    "id": "iOSnWPqEMXje"
   },
   "source": [
    "## Instalación inicial de MongoDB (no necesaria si se utiliza Docker en local)"
   ]
  },
  {
   "cell_type": "code",
   "execution_count": 7,
   "id": "b6f67511",
   "metadata": {
    "id": "J2M97e3BfQfB"
   },
   "outputs": [
    {
     "name": "stdout",
     "output_type": "stream",
     "text": [
      "/bin/bash: /etc/apt/trusted.gpg.d/mongo-server-6.gpg: Permission denied\n"
     ]
    }
   ],
   "source": [
    "!wget -qO - https://www.mongodb.org/static/pgp/server-6.0.asc | sudo gpg --dearmor > /etc/apt/trusted.gpg.d/mongo-server-6.gpg"
   ]
  },
  {
   "cell_type": "code",
   "execution_count": 8,
   "id": "7b98a52b",
   "metadata": {
    "id": "ezAIGix1IehU"
   },
   "outputs": [
    {
     "name": "stdout",
     "output_type": "stream",
     "text": [
      "The system user `mongodb' already exists. Exiting.\n"
     ]
    },
    {
     "name": "stderr",
     "output_type": "stream",
     "text": [
      "addgroup: The group `mongodb' already exists as a system group. Exiting.\n"
     ]
    },
    {
     "name": "stdout",
     "output_type": "stream",
     "text": [
      "The user `mongodb' is already a member of `mongodb'.\n"
     ]
    }
   ],
   "source": [
    "%%bash\n",
    "sudo adduser --system --no-create-home mongodb\n",
    "sudo addgroup --system mongodb\n",
    "sudo adduser mongodb mongodb\n",
    "\n",
    "# create db -- note: this should agree with dbpath in mongod.conf\n",
    "if [ ! -d /var/lib/mongodb ]; then\n",
    "  sudo mkdir -p /var/lib/mongodb\n",
    "  sudo chown mongodb:mongodb /var/lib/mongodb\n",
    "fi\n",
    "\n",
    "# create logdir -- note: this should agree with logpath in mongod.conf\n",
    "if [ ! -d /var/log/mongodb ]; then\n",
    "  sudo mkdir -p /var/log/mongodb\n",
    "  sudo chown mongodb:mongodb /var/log/mongodb\n",
    "fi"
   ]
  },
  {
   "cell_type": "code",
   "execution_count": 9,
   "id": "52bcd143",
   "metadata": {
    "id": "bkQTZoJDIehX"
   },
   "outputs": [
    {
     "name": "stdout",
     "output_type": "stream",
     "text": [
      "deb [ arch=amd64,arm64 ] https://repo.mongodb.org/apt/ubuntu jammy/mongodb-org/6.0 multiverse\n"
     ]
    }
   ],
   "source": [
    "!echo \"deb [ arch=amd64,arm64 ] https://repo.mongodb.org/apt/ubuntu jammy/mongodb-org/6.0 multiverse\" | sudo tee /etc/apt/sources.list.d/mongodb-org-6.0.list"
   ]
  },
  {
   "cell_type": "code",
   "execution_count": 10,
   "id": "13871d5a",
   "metadata": {
    "id": "pJ25BFUcIehY"
   },
   "outputs": [],
   "source": [
    "!sudo apt-get update -qq"
   ]
  },
  {
   "cell_type": "code",
   "execution_count": 11,
   "id": "393a1250",
   "metadata": {
    "id": "aRypLsP2IehZ"
   },
   "outputs": [],
   "source": [
    "!sudo ln -sf /bin/true /bin/systemctl"
   ]
  },
  {
   "cell_type": "code",
   "execution_count": 12,
   "id": "7c08fc60",
   "metadata": {
    "id": "0CH-EbXBIeha"
   },
   "outputs": [
    {
     "name": "stdout",
     "output_type": "stream",
     "text": [
      "E: Unable to correct problems, you have held broken packages.\n"
     ]
    }
   ],
   "source": [
    "!sudo apt-get install -y -qq dialog mongodb-org"
   ]
  },
  {
   "cell_type": "code",
   "execution_count": 13,
   "id": "47eead96",
   "metadata": {
    "id": "e4-poVR5Iehb"
   },
   "outputs": [
    {
     "name": "stdout",
     "output_type": "stream",
     "text": [
      "sudo: /usr/bin/mongod: command not found\n"
     ]
    }
   ],
   "source": [
    "!sudo /usr/bin/mongod --config /etc/mongod.conf --fork"
   ]
  },
  {
   "cell_type": "code",
   "execution_count": 14,
   "id": "3a937c5a",
   "metadata": {
    "id": "txLEqNUWIehb"
   },
   "outputs": [
    {
     "name": "stdout",
     "output_type": "stream",
     "text": [
      "sudo: mongod: command not found\n"
     ]
    }
   ],
   "source": [
    "!sudo mongod --version"
   ]
  },
  {
   "cell_type": "markdown",
   "id": "351c882f",
   "metadata": {
    "id": "GaTsWPro-oOG"
   },
   "source": [
    "## Instalación de `pymongo`\n"
   ]
  },
  {
   "cell_type": "code",
   "execution_count": 15,
   "id": "f90de90b",
   "metadata": {
    "id": "xE0Sl869XK2Y"
   },
   "outputs": [
    {
     "name": "stdout",
     "output_type": "stream",
     "text": [
      "Requirement already satisfied: pymongo in /usr/local/python/3.10.13/lib/python3.10/site-packages (4.6.2)\n",
      "Requirement already satisfied: dnspython<3.0.0,>=1.16.0 in /usr/local/python/3.10.13/lib/python3.10/site-packages (from pymongo) (2.6.1)\n"
     ]
    }
   ],
   "source": [
    "!pip install --upgrade pymongo"
   ]
  },
  {
   "cell_type": "code",
   "execution_count": 16,
   "id": "2329c158",
   "metadata": {
    "id": "C0Le2anDXK2k"
   },
   "outputs": [
    {
     "name": "stderr",
     "output_type": "stream",
     "text": [
      "/tmp/ipykernel_8943/2496899120.py:2: DeprecationWarning: \n",
      "Pyarrow will become a required dependency of pandas in the next major release of pandas (pandas 3.0),\n",
      "(to allow more performant data types, such as the Arrow string type, and better interoperability with other libraries)\n",
      "but was not found to be installed on your system.\n",
      "If this would cause problems for you,\n",
      "please provide us feedback at https://github.com/pandas-dev/pandas/issues/54466\n",
      "        \n",
      "  import pandas as pd\n"
     ]
    }
   ],
   "source": [
    "from pprint import pprint as pp\n",
    "import pandas as pd\n",
    "import matplotlib.pyplot as plt\n",
    "import matplotlib\n",
    "\n",
    "%matplotlib inline\n",
    "matplotlib.style.use('ggplot')"
   ]
  },
  {
   "cell_type": "markdown",
   "id": "431a24eb",
   "metadata": {
    "id": "O92AlPcMXK2r"
   },
   "source": [
    "Usaremos la librería `pymongo` para python. La cargamos a continuación."
   ]
  },
  {
   "cell_type": "code",
   "execution_count": 17,
   "id": "41acde93",
   "metadata": {
    "id": "Pc7akqe0XK2t"
   },
   "outputs": [],
   "source": [
    "import pymongo\n",
    "from pymongo import MongoClient"
   ]
  },
  {
   "cell_type": "markdown",
   "id": "924882f6",
   "metadata": {
    "id": "mkiP6rzXXK2z"
   },
   "source": [
    "La conexión se inicia con `MongoClient` en el `host` descrito en el fichero `docker-compose.yml` (`mongo`), o bien a `localhost` si lo estamos haciendo en Colab."
   ]
  },
  {
   "cell_type": "code",
   "execution_count": 18,
   "id": "748bd72f",
   "metadata": {
    "id": "s4BiT5o9XK20"
   },
   "outputs": [
    {
     "data": {
      "text/plain": [
       "MongoClient(host=['mongo:27017'], document_class=dict, tz_aware=False, connect=True)"
      ]
     },
     "execution_count": 18,
     "metadata": {},
     "output_type": "execute_result"
    }
   ],
   "source": [
    "client = MongoClient(db_hostname,27017)\n",
    "client"
   ]
  },
  {
   "cell_type": "code",
   "execution_count": 21,
   "id": "bdfa97c2",
   "metadata": {
    "id": "3xqmSSGdXK25"
   },
   "outputs": [
    {
     "ename": "ServerSelectionTimeoutError",
     "evalue": "mongo:27017: [Errno -2] Name or service not known (configured timeouts: socketTimeoutMS: 20000.0ms, connectTimeoutMS: 20000.0ms), Timeout: 30s, Topology Description: <TopologyDescription id: 65df50d7dccaeb0c1862048b, topology_type: Unknown, servers: [<ServerDescription ('mongo', 27017) server_type: Unknown, rtt: None, error=AutoReconnect('mongo:27017: [Errno -2] Name or service not known (configured timeouts: socketTimeoutMS: 20000.0ms, connectTimeoutMS: 20000.0ms)')>]>",
     "output_type": "error",
     "traceback": [
      "\u001b[0;31m---------------------------------------------------------------------------\u001b[0m",
      "\u001b[0;31mServerSelectionTimeoutError\u001b[0m               Traceback (most recent call last)",
      "Cell \u001b[0;32mIn[21], line 1\u001b[0m\n\u001b[0;32m----> 1\u001b[0m \u001b[43mclient\u001b[49m\u001b[38;5;241;43m.\u001b[39;49m\u001b[43mlist_database_names\u001b[49m\u001b[43m(\u001b[49m\u001b[43m)\u001b[49m\n",
      "File \u001b[0;32m~/.python/current/lib/python3.10/site-packages/pymongo/mongo_client.py:1952\u001b[0m, in \u001b[0;36mMongoClient.list_database_names\u001b[0;34m(self, session, comment)\u001b[0m\n\u001b[1;32m   1934\u001b[0m \u001b[38;5;28;01mdef\u001b[39;00m \u001b[38;5;21mlist_database_names\u001b[39m(\n\u001b[1;32m   1935\u001b[0m     \u001b[38;5;28mself\u001b[39m,\n\u001b[1;32m   1936\u001b[0m     session: Optional[client_session\u001b[38;5;241m.\u001b[39mClientSession] \u001b[38;5;241m=\u001b[39m \u001b[38;5;28;01mNone\u001b[39;00m,\n\u001b[1;32m   1937\u001b[0m     comment: Optional[Any] \u001b[38;5;241m=\u001b[39m \u001b[38;5;28;01mNone\u001b[39;00m,\n\u001b[1;32m   1938\u001b[0m ) \u001b[38;5;241m-\u001b[39m\u001b[38;5;241m>\u001b[39m \u001b[38;5;28mlist\u001b[39m[\u001b[38;5;28mstr\u001b[39m]:\n\u001b[1;32m   1939\u001b[0m \u001b[38;5;250m    \u001b[39m\u001b[38;5;124;03m\"\"\"Get a list of the names of all databases on the connected server.\u001b[39;00m\n\u001b[1;32m   1940\u001b[0m \n\u001b[1;32m   1941\u001b[0m \u001b[38;5;124;03m    :Parameters:\u001b[39;00m\n\u001b[0;32m   (...)\u001b[0m\n\u001b[1;32m   1950\u001b[0m \u001b[38;5;124;03m    .. versionadded:: 3.6\u001b[39;00m\n\u001b[1;32m   1951\u001b[0m \u001b[38;5;124;03m    \"\"\"\u001b[39;00m\n\u001b[0;32m-> 1952\u001b[0m     \u001b[38;5;28;01mreturn\u001b[39;00m [doc[\u001b[38;5;124m\"\u001b[39m\u001b[38;5;124mname\u001b[39m\u001b[38;5;124m\"\u001b[39m] \u001b[38;5;28;01mfor\u001b[39;00m doc \u001b[38;5;129;01min\u001b[39;00m \u001b[38;5;28;43mself\u001b[39;49m\u001b[38;5;241;43m.\u001b[39;49m\u001b[43mlist_databases\u001b[49m\u001b[43m(\u001b[49m\u001b[43msession\u001b[49m\u001b[43m,\u001b[49m\u001b[43m \u001b[49m\u001b[43mnameOnly\u001b[49m\u001b[38;5;241;43m=\u001b[39;49m\u001b[38;5;28;43;01mTrue\u001b[39;49;00m\u001b[43m,\u001b[49m\u001b[43m \u001b[49m\u001b[43mcomment\u001b[49m\u001b[38;5;241;43m=\u001b[39;49m\u001b[43mcomment\u001b[49m\u001b[43m)\u001b[49m]\n",
      "File \u001b[0;32m~/.python/current/lib/python3.10/site-packages/pymongo/mongo_client.py:1925\u001b[0m, in \u001b[0;36mMongoClient.list_databases\u001b[0;34m(self, session, comment, **kwargs)\u001b[0m\n\u001b[1;32m   1923\u001b[0m     cmd[\u001b[38;5;124m\"\u001b[39m\u001b[38;5;124mcomment\u001b[39m\u001b[38;5;124m\"\u001b[39m] \u001b[38;5;241m=\u001b[39m comment\n\u001b[1;32m   1924\u001b[0m admin \u001b[38;5;241m=\u001b[39m \u001b[38;5;28mself\u001b[39m\u001b[38;5;241m.\u001b[39m_database_default_options(\u001b[38;5;124m\"\u001b[39m\u001b[38;5;124madmin\u001b[39m\u001b[38;5;124m\"\u001b[39m)\n\u001b[0;32m-> 1925\u001b[0m res \u001b[38;5;241m=\u001b[39m \u001b[43madmin\u001b[49m\u001b[38;5;241;43m.\u001b[39;49m\u001b[43m_retryable_read_command\u001b[49m\u001b[43m(\u001b[49m\u001b[43mcmd\u001b[49m\u001b[43m,\u001b[49m\u001b[43m \u001b[49m\u001b[43msession\u001b[49m\u001b[38;5;241;43m=\u001b[39;49m\u001b[43msession\u001b[49m\u001b[43m)\u001b[49m\n\u001b[1;32m   1926\u001b[0m \u001b[38;5;66;03m# listDatabases doesn't return a cursor (yet). Fake one.\u001b[39;00m\n\u001b[1;32m   1927\u001b[0m cursor \u001b[38;5;241m=\u001b[39m {\n\u001b[1;32m   1928\u001b[0m     \u001b[38;5;124m\"\u001b[39m\u001b[38;5;124mid\u001b[39m\u001b[38;5;124m\"\u001b[39m: \u001b[38;5;241m0\u001b[39m,\n\u001b[1;32m   1929\u001b[0m     \u001b[38;5;124m\"\u001b[39m\u001b[38;5;124mfirstBatch\u001b[39m\u001b[38;5;124m\"\u001b[39m: res[\u001b[38;5;124m\"\u001b[39m\u001b[38;5;124mdatabases\u001b[39m\u001b[38;5;124m\"\u001b[39m],\n\u001b[1;32m   1930\u001b[0m     \u001b[38;5;124m\"\u001b[39m\u001b[38;5;124mns\u001b[39m\u001b[38;5;124m\"\u001b[39m: \u001b[38;5;124m\"\u001b[39m\u001b[38;5;124madmin.$cmd\u001b[39m\u001b[38;5;124m\"\u001b[39m,\n\u001b[1;32m   1931\u001b[0m }\n",
      "File \u001b[0;32m~/.python/current/lib/python3.10/site-packages/pymongo/database.py:1026\u001b[0m, in \u001b[0;36mDatabase._retryable_read_command\u001b[0;34m(self, command, session)\u001b[0m\n\u001b[1;32m   1013\u001b[0m \u001b[38;5;28;01mdef\u001b[39;00m \u001b[38;5;21m_cmd\u001b[39m(\n\u001b[1;32m   1014\u001b[0m     session: Optional[ClientSession],\n\u001b[1;32m   1015\u001b[0m     _server: Server,\n\u001b[1;32m   1016\u001b[0m     conn: Connection,\n\u001b[1;32m   1017\u001b[0m     read_preference: _ServerMode,\n\u001b[1;32m   1018\u001b[0m ) \u001b[38;5;241m-\u001b[39m\u001b[38;5;241m>\u001b[39m \u001b[38;5;28mdict\u001b[39m[\u001b[38;5;28mstr\u001b[39m, Any]:\n\u001b[1;32m   1019\u001b[0m     \u001b[38;5;28;01mreturn\u001b[39;00m \u001b[38;5;28mself\u001b[39m\u001b[38;5;241m.\u001b[39m_command(\n\u001b[1;32m   1020\u001b[0m         conn,\n\u001b[1;32m   1021\u001b[0m         command,\n\u001b[1;32m   1022\u001b[0m         read_preference\u001b[38;5;241m=\u001b[39mread_preference,\n\u001b[1;32m   1023\u001b[0m         session\u001b[38;5;241m=\u001b[39msession,\n\u001b[1;32m   1024\u001b[0m     )\n\u001b[0;32m-> 1026\u001b[0m \u001b[38;5;28;01mreturn\u001b[39;00m \u001b[38;5;28;43mself\u001b[39;49m\u001b[38;5;241;43m.\u001b[39;49m\u001b[43m__client\u001b[49m\u001b[38;5;241;43m.\u001b[39;49m\u001b[43m_retryable_read\u001b[49m\u001b[43m(\u001b[49m\u001b[43m_cmd\u001b[49m\u001b[43m,\u001b[49m\u001b[43m \u001b[49m\u001b[43mread_preference\u001b[49m\u001b[43m,\u001b[49m\u001b[43m \u001b[49m\u001b[43msession\u001b[49m\u001b[43m)\u001b[49m\n",
      "File \u001b[0;32m~/.python/current/lib/python3.10/site-packages/pymongo/mongo_client.py:1492\u001b[0m, in \u001b[0;36mMongoClient._retryable_read\u001b[0;34m(self, func, read_pref, session, address, retryable)\u001b[0m\n\u001b[1;32m   1487\u001b[0m \u001b[38;5;66;03m# Ensure that the client supports retrying on reads and there is no session in\u001b[39;00m\n\u001b[1;32m   1488\u001b[0m \u001b[38;5;66;03m# transaction, otherwise, we will not support retry behavior for this call.\u001b[39;00m\n\u001b[1;32m   1489\u001b[0m retryable \u001b[38;5;241m=\u001b[39m \u001b[38;5;28mbool\u001b[39m(\n\u001b[1;32m   1490\u001b[0m     retryable \u001b[38;5;129;01mand\u001b[39;00m \u001b[38;5;28mself\u001b[39m\u001b[38;5;241m.\u001b[39moptions\u001b[38;5;241m.\u001b[39mretry_reads \u001b[38;5;129;01mand\u001b[39;00m \u001b[38;5;129;01mnot\u001b[39;00m (session \u001b[38;5;129;01mand\u001b[39;00m session\u001b[38;5;241m.\u001b[39min_transaction)\n\u001b[1;32m   1491\u001b[0m )\n\u001b[0;32m-> 1492\u001b[0m \u001b[38;5;28;01mreturn\u001b[39;00m \u001b[38;5;28;43mself\u001b[39;49m\u001b[38;5;241;43m.\u001b[39;49m\u001b[43m_retry_internal\u001b[49m\u001b[43m(\u001b[49m\n\u001b[1;32m   1493\u001b[0m \u001b[43m    \u001b[49m\u001b[43mfunc\u001b[49m\u001b[43m,\u001b[49m\n\u001b[1;32m   1494\u001b[0m \u001b[43m    \u001b[49m\u001b[43msession\u001b[49m\u001b[43m,\u001b[49m\n\u001b[1;32m   1495\u001b[0m \u001b[43m    \u001b[49m\u001b[38;5;28;43;01mNone\u001b[39;49;00m\u001b[43m,\u001b[49m\n\u001b[1;32m   1496\u001b[0m \u001b[43m    \u001b[49m\u001b[43mis_read\u001b[49m\u001b[38;5;241;43m=\u001b[39;49m\u001b[38;5;28;43;01mTrue\u001b[39;49;00m\u001b[43m,\u001b[49m\n\u001b[1;32m   1497\u001b[0m \u001b[43m    \u001b[49m\u001b[43maddress\u001b[49m\u001b[38;5;241;43m=\u001b[39;49m\u001b[43maddress\u001b[49m\u001b[43m,\u001b[49m\n\u001b[1;32m   1498\u001b[0m \u001b[43m    \u001b[49m\u001b[43mread_pref\u001b[49m\u001b[38;5;241;43m=\u001b[39;49m\u001b[43mread_pref\u001b[49m\u001b[43m,\u001b[49m\n\u001b[1;32m   1499\u001b[0m \u001b[43m    \u001b[49m\u001b[43mretryable\u001b[49m\u001b[38;5;241;43m=\u001b[39;49m\u001b[43mretryable\u001b[49m\u001b[43m,\u001b[49m\n\u001b[1;32m   1500\u001b[0m \u001b[43m\u001b[49m\u001b[43m)\u001b[49m\n",
      "File \u001b[0;32m~/.python/current/lib/python3.10/site-packages/pymongo/_csot.py:107\u001b[0m, in \u001b[0;36mapply.<locals>.csot_wrapper\u001b[0;34m(self, *args, **kwargs)\u001b[0m\n\u001b[1;32m    105\u001b[0m         \u001b[38;5;28;01mwith\u001b[39;00m _TimeoutContext(timeout):\n\u001b[1;32m    106\u001b[0m             \u001b[38;5;28;01mreturn\u001b[39;00m func(\u001b[38;5;28mself\u001b[39m, \u001b[38;5;241m*\u001b[39margs, \u001b[38;5;241m*\u001b[39m\u001b[38;5;241m*\u001b[39mkwargs)\n\u001b[0;32m--> 107\u001b[0m \u001b[38;5;28;01mreturn\u001b[39;00m \u001b[43mfunc\u001b[49m\u001b[43m(\u001b[49m\u001b[38;5;28;43mself\u001b[39;49m\u001b[43m,\u001b[49m\u001b[43m \u001b[49m\u001b[38;5;241;43m*\u001b[39;49m\u001b[43margs\u001b[49m\u001b[43m,\u001b[49m\u001b[43m \u001b[49m\u001b[38;5;241;43m*\u001b[39;49m\u001b[38;5;241;43m*\u001b[39;49m\u001b[43mkwargs\u001b[49m\u001b[43m)\u001b[49m\n",
      "File \u001b[0;32m~/.python/current/lib/python3.10/site-packages/pymongo/mongo_client.py:1462\u001b[0m, in \u001b[0;36mMongoClient._retry_internal\u001b[0;34m(self, func, session, bulk, is_read, address, read_pref, retryable)\u001b[0m\n\u001b[1;32m   1428\u001b[0m \u001b[38;5;129m@_csot\u001b[39m\u001b[38;5;241m.\u001b[39mapply\n\u001b[1;32m   1429\u001b[0m \u001b[38;5;28;01mdef\u001b[39;00m \u001b[38;5;21m_retry_internal\u001b[39m(\n\u001b[1;32m   1430\u001b[0m     \u001b[38;5;28mself\u001b[39m,\n\u001b[0;32m   (...)\u001b[0m\n\u001b[1;32m   1437\u001b[0m     retryable: \u001b[38;5;28mbool\u001b[39m \u001b[38;5;241m=\u001b[39m \u001b[38;5;28;01mFalse\u001b[39;00m,\n\u001b[1;32m   1438\u001b[0m ) \u001b[38;5;241m-\u001b[39m\u001b[38;5;241m>\u001b[39m T:\n\u001b[1;32m   1439\u001b[0m \u001b[38;5;250m    \u001b[39m\u001b[38;5;124;03m\"\"\"Internal retryable helper for all client transactions.\u001b[39;00m\n\u001b[1;32m   1440\u001b[0m \n\u001b[1;32m   1441\u001b[0m \u001b[38;5;124;03m    :Parameters:\u001b[39;00m\n\u001b[0;32m   (...)\u001b[0m\n\u001b[1;32m   1451\u001b[0m \u001b[38;5;124;03m      Output of the calling func()\u001b[39;00m\n\u001b[1;32m   1452\u001b[0m \u001b[38;5;124;03m    \"\"\"\u001b[39;00m\n\u001b[1;32m   1453\u001b[0m     \u001b[38;5;28;01mreturn\u001b[39;00m \u001b[43m_ClientConnectionRetryable\u001b[49m\u001b[43m(\u001b[49m\n\u001b[1;32m   1454\u001b[0m \u001b[43m        \u001b[49m\u001b[43mmongo_client\u001b[49m\u001b[38;5;241;43m=\u001b[39;49m\u001b[38;5;28;43mself\u001b[39;49m\u001b[43m,\u001b[49m\n\u001b[1;32m   1455\u001b[0m \u001b[43m        \u001b[49m\u001b[43mfunc\u001b[49m\u001b[38;5;241;43m=\u001b[39;49m\u001b[43mfunc\u001b[49m\u001b[43m,\u001b[49m\n\u001b[1;32m   1456\u001b[0m \u001b[43m        \u001b[49m\u001b[43mbulk\u001b[49m\u001b[38;5;241;43m=\u001b[39;49m\u001b[43mbulk\u001b[49m\u001b[43m,\u001b[49m\n\u001b[1;32m   1457\u001b[0m \u001b[43m        \u001b[49m\u001b[43mis_read\u001b[49m\u001b[38;5;241;43m=\u001b[39;49m\u001b[43mis_read\u001b[49m\u001b[43m,\u001b[49m\n\u001b[1;32m   1458\u001b[0m \u001b[43m        \u001b[49m\u001b[43msession\u001b[49m\u001b[38;5;241;43m=\u001b[39;49m\u001b[43msession\u001b[49m\u001b[43m,\u001b[49m\n\u001b[1;32m   1459\u001b[0m \u001b[43m        \u001b[49m\u001b[43mread_pref\u001b[49m\u001b[38;5;241;43m=\u001b[39;49m\u001b[43mread_pref\u001b[49m\u001b[43m,\u001b[49m\n\u001b[1;32m   1460\u001b[0m \u001b[43m        \u001b[49m\u001b[43maddress\u001b[49m\u001b[38;5;241;43m=\u001b[39;49m\u001b[43maddress\u001b[49m\u001b[43m,\u001b[49m\n\u001b[1;32m   1461\u001b[0m \u001b[43m        \u001b[49m\u001b[43mretryable\u001b[49m\u001b[38;5;241;43m=\u001b[39;49m\u001b[43mretryable\u001b[49m\u001b[43m,\u001b[49m\n\u001b[0;32m-> 1462\u001b[0m \u001b[43m    \u001b[49m\u001b[43m)\u001b[49m\u001b[38;5;241;43m.\u001b[39;49m\u001b[43mrun\u001b[49m\u001b[43m(\u001b[49m\u001b[43m)\u001b[49m\n",
      "File \u001b[0;32m~/.python/current/lib/python3.10/site-packages/pymongo/mongo_client.py:2315\u001b[0m, in \u001b[0;36m_ClientConnectionRetryable.run\u001b[0;34m(self)\u001b[0m\n\u001b[1;32m   2313\u001b[0m \u001b[38;5;28mself\u001b[39m\u001b[38;5;241m.\u001b[39m_check_last_error(check_csot\u001b[38;5;241m=\u001b[39m\u001b[38;5;28;01mTrue\u001b[39;00m)\n\u001b[1;32m   2314\u001b[0m \u001b[38;5;28;01mtry\u001b[39;00m:\n\u001b[0;32m-> 2315\u001b[0m     \u001b[38;5;28;01mreturn\u001b[39;00m \u001b[38;5;28;43mself\u001b[39;49m\u001b[38;5;241;43m.\u001b[39;49m\u001b[43m_read\u001b[49m\u001b[43m(\u001b[49m\u001b[43m)\u001b[49m \u001b[38;5;28;01mif\u001b[39;00m \u001b[38;5;28mself\u001b[39m\u001b[38;5;241m.\u001b[39m_is_read \u001b[38;5;28;01melse\u001b[39;00m \u001b[38;5;28mself\u001b[39m\u001b[38;5;241m.\u001b[39m_write()\n\u001b[1;32m   2316\u001b[0m \u001b[38;5;28;01mexcept\u001b[39;00m ServerSelectionTimeoutError:\n\u001b[1;32m   2317\u001b[0m     \u001b[38;5;66;03m# The application may think the write was never attempted\u001b[39;00m\n\u001b[1;32m   2318\u001b[0m     \u001b[38;5;66;03m# if we raise ServerSelectionTimeoutError on the retry\u001b[39;00m\n\u001b[1;32m   2319\u001b[0m     \u001b[38;5;66;03m# attempt. Raise the original exception instead.\u001b[39;00m\n\u001b[1;32m   2320\u001b[0m     \u001b[38;5;28mself\u001b[39m\u001b[38;5;241m.\u001b[39m_check_last_error()\n",
      "File \u001b[0;32m~/.python/current/lib/python3.10/site-packages/pymongo/mongo_client.py:2437\u001b[0m, in \u001b[0;36m_ClientConnectionRetryable._read\u001b[0;34m(self)\u001b[0m\n\u001b[1;32m   2431\u001b[0m \u001b[38;5;28;01mdef\u001b[39;00m \u001b[38;5;21m_read\u001b[39m(\u001b[38;5;28mself\u001b[39m) \u001b[38;5;241m-\u001b[39m\u001b[38;5;241m>\u001b[39m T:\n\u001b[1;32m   2432\u001b[0m \u001b[38;5;250m    \u001b[39m\u001b[38;5;124;03m\"\"\"Wrapper method for read-type retryable client executions\u001b[39;00m\n\u001b[1;32m   2433\u001b[0m \n\u001b[1;32m   2434\u001b[0m \u001b[38;5;124;03m    :Returns:\u001b[39;00m\n\u001b[1;32m   2435\u001b[0m \u001b[38;5;124;03m        Output for func()'s call\u001b[39;00m\n\u001b[1;32m   2436\u001b[0m \u001b[38;5;124;03m    \"\"\"\u001b[39;00m\n\u001b[0;32m-> 2437\u001b[0m     \u001b[38;5;28mself\u001b[39m\u001b[38;5;241m.\u001b[39m_server \u001b[38;5;241m=\u001b[39m \u001b[38;5;28;43mself\u001b[39;49m\u001b[38;5;241;43m.\u001b[39;49m\u001b[43m_get_server\u001b[49m\u001b[43m(\u001b[49m\u001b[43m)\u001b[49m\n\u001b[1;32m   2438\u001b[0m     \u001b[38;5;28;01massert\u001b[39;00m \u001b[38;5;28mself\u001b[39m\u001b[38;5;241m.\u001b[39m_read_pref \u001b[38;5;129;01mis\u001b[39;00m \u001b[38;5;129;01mnot\u001b[39;00m \u001b[38;5;28;01mNone\u001b[39;00m, \u001b[38;5;124m\"\u001b[39m\u001b[38;5;124mRead Preference required on read calls\u001b[39m\u001b[38;5;124m\"\u001b[39m\n\u001b[1;32m   2439\u001b[0m     \u001b[38;5;28;01mwith\u001b[39;00m \u001b[38;5;28mself\u001b[39m\u001b[38;5;241m.\u001b[39m_client\u001b[38;5;241m.\u001b[39m_conn_from_server(\u001b[38;5;28mself\u001b[39m\u001b[38;5;241m.\u001b[39m_read_pref, \u001b[38;5;28mself\u001b[39m\u001b[38;5;241m.\u001b[39m_server, \u001b[38;5;28mself\u001b[39m\u001b[38;5;241m.\u001b[39m_session) \u001b[38;5;28;01mas\u001b[39;00m (\n\u001b[1;32m   2440\u001b[0m         conn,\n\u001b[1;32m   2441\u001b[0m         read_pref,\n\u001b[1;32m   2442\u001b[0m     ):\n",
      "File \u001b[0;32m~/.python/current/lib/python3.10/site-packages/pymongo/mongo_client.py:2400\u001b[0m, in \u001b[0;36m_ClientConnectionRetryable._get_server\u001b[0;34m(self)\u001b[0m\n\u001b[1;32m   2394\u001b[0m \u001b[38;5;28;01mdef\u001b[39;00m \u001b[38;5;21m_get_server\u001b[39m(\u001b[38;5;28mself\u001b[39m) \u001b[38;5;241m-\u001b[39m\u001b[38;5;241m>\u001b[39m Server:\n\u001b[1;32m   2395\u001b[0m \u001b[38;5;250m    \u001b[39m\u001b[38;5;124;03m\"\"\"Retrieves a server object based on provided object context\u001b[39;00m\n\u001b[1;32m   2396\u001b[0m \n\u001b[1;32m   2397\u001b[0m \u001b[38;5;124;03m    :Returns:\u001b[39;00m\n\u001b[1;32m   2398\u001b[0m \u001b[38;5;124;03m        Abstraction to connect to server\u001b[39;00m\n\u001b[1;32m   2399\u001b[0m \u001b[38;5;124;03m    \"\"\"\u001b[39;00m\n\u001b[0;32m-> 2400\u001b[0m     \u001b[38;5;28;01mreturn\u001b[39;00m \u001b[38;5;28;43mself\u001b[39;49m\u001b[38;5;241;43m.\u001b[39;49m\u001b[43m_client\u001b[49m\u001b[38;5;241;43m.\u001b[39;49m\u001b[43m_select_server\u001b[49m\u001b[43m(\u001b[49m\n\u001b[1;32m   2401\u001b[0m \u001b[43m        \u001b[49m\u001b[38;5;28;43mself\u001b[39;49m\u001b[38;5;241;43m.\u001b[39;49m\u001b[43m_server_selector\u001b[49m\u001b[43m,\u001b[49m\u001b[43m \u001b[49m\u001b[38;5;28;43mself\u001b[39;49m\u001b[38;5;241;43m.\u001b[39;49m\u001b[43m_session\u001b[49m\u001b[43m,\u001b[49m\u001b[43m \u001b[49m\u001b[43maddress\u001b[49m\u001b[38;5;241;43m=\u001b[39;49m\u001b[38;5;28;43mself\u001b[39;49m\u001b[38;5;241;43m.\u001b[39;49m\u001b[43m_address\u001b[49m\n\u001b[1;32m   2402\u001b[0m \u001b[43m    \u001b[49m\u001b[43m)\u001b[49m\n",
      "File \u001b[0;32m~/.python/current/lib/python3.10/site-packages/pymongo/mongo_client.py:1303\u001b[0m, in \u001b[0;36mMongoClient._select_server\u001b[0;34m(self, server_selector, session, address)\u001b[0m\n\u001b[1;32m   1301\u001b[0m             \u001b[38;5;28;01mraise\u001b[39;00m AutoReconnect(\u001b[38;5;124m\"\u001b[39m\u001b[38;5;124mserver \u001b[39m\u001b[38;5;132;01m%s\u001b[39;00m\u001b[38;5;124m:\u001b[39m\u001b[38;5;132;01m%s\u001b[39;00m\u001b[38;5;124m no longer available\u001b[39m\u001b[38;5;124m\"\u001b[39m \u001b[38;5;241m%\u001b[39m address)  \u001b[38;5;66;03m# noqa: UP031\u001b[39;00m\n\u001b[1;32m   1302\u001b[0m     \u001b[38;5;28;01melse\u001b[39;00m:\n\u001b[0;32m-> 1303\u001b[0m         server \u001b[38;5;241m=\u001b[39m \u001b[43mtopology\u001b[49m\u001b[38;5;241;43m.\u001b[39;49m\u001b[43mselect_server\u001b[49m\u001b[43m(\u001b[49m\u001b[43mserver_selector\u001b[49m\u001b[43m)\u001b[49m\n\u001b[1;32m   1304\u001b[0m     \u001b[38;5;28;01mreturn\u001b[39;00m server\n\u001b[1;32m   1305\u001b[0m \u001b[38;5;28;01mexcept\u001b[39;00m PyMongoError \u001b[38;5;28;01mas\u001b[39;00m exc:\n\u001b[1;32m   1306\u001b[0m     \u001b[38;5;66;03m# Server selection errors in a transaction are transient.\u001b[39;00m\n",
      "File \u001b[0;32m~/.python/current/lib/python3.10/site-packages/pymongo/topology.py:302\u001b[0m, in \u001b[0;36mTopology.select_server\u001b[0;34m(self, selector, server_selection_timeout, address)\u001b[0m\n\u001b[1;32m    295\u001b[0m \u001b[38;5;28;01mdef\u001b[39;00m \u001b[38;5;21mselect_server\u001b[39m(\n\u001b[1;32m    296\u001b[0m     \u001b[38;5;28mself\u001b[39m,\n\u001b[1;32m    297\u001b[0m     selector: Callable[[Selection], Selection],\n\u001b[1;32m    298\u001b[0m     server_selection_timeout: Optional[\u001b[38;5;28mfloat\u001b[39m] \u001b[38;5;241m=\u001b[39m \u001b[38;5;28;01mNone\u001b[39;00m,\n\u001b[1;32m    299\u001b[0m     address: Optional[_Address] \u001b[38;5;241m=\u001b[39m \u001b[38;5;28;01mNone\u001b[39;00m,\n\u001b[1;32m    300\u001b[0m ) \u001b[38;5;241m-\u001b[39m\u001b[38;5;241m>\u001b[39m Server:\n\u001b[1;32m    301\u001b[0m \u001b[38;5;250m    \u001b[39m\u001b[38;5;124;03m\"\"\"Like select_servers, but choose a random server if several match.\"\"\"\u001b[39;00m\n\u001b[0;32m--> 302\u001b[0m     server \u001b[38;5;241m=\u001b[39m \u001b[38;5;28;43mself\u001b[39;49m\u001b[38;5;241;43m.\u001b[39;49m\u001b[43m_select_server\u001b[49m\u001b[43m(\u001b[49m\u001b[43mselector\u001b[49m\u001b[43m,\u001b[49m\u001b[43m \u001b[49m\u001b[43mserver_selection_timeout\u001b[49m\u001b[43m,\u001b[49m\u001b[43m \u001b[49m\u001b[43maddress\u001b[49m\u001b[43m)\u001b[49m\n\u001b[1;32m    303\u001b[0m     \u001b[38;5;28;01mif\u001b[39;00m _csot\u001b[38;5;241m.\u001b[39mget_timeout():\n\u001b[1;32m    304\u001b[0m         _csot\u001b[38;5;241m.\u001b[39mset_rtt(server\u001b[38;5;241m.\u001b[39mdescription\u001b[38;5;241m.\u001b[39mmin_round_trip_time)\n",
      "File \u001b[0;32m~/.python/current/lib/python3.10/site-packages/pymongo/topology.py:286\u001b[0m, in \u001b[0;36mTopology._select_server\u001b[0;34m(self, selector, server_selection_timeout, address)\u001b[0m\n\u001b[1;32m    280\u001b[0m \u001b[38;5;28;01mdef\u001b[39;00m \u001b[38;5;21m_select_server\u001b[39m(\n\u001b[1;32m    281\u001b[0m     \u001b[38;5;28mself\u001b[39m,\n\u001b[1;32m    282\u001b[0m     selector: Callable[[Selection], Selection],\n\u001b[1;32m    283\u001b[0m     server_selection_timeout: Optional[\u001b[38;5;28mfloat\u001b[39m] \u001b[38;5;241m=\u001b[39m \u001b[38;5;28;01mNone\u001b[39;00m,\n\u001b[1;32m    284\u001b[0m     address: Optional[_Address] \u001b[38;5;241m=\u001b[39m \u001b[38;5;28;01mNone\u001b[39;00m,\n\u001b[1;32m    285\u001b[0m ) \u001b[38;5;241m-\u001b[39m\u001b[38;5;241m>\u001b[39m Server:\n\u001b[0;32m--> 286\u001b[0m     servers \u001b[38;5;241m=\u001b[39m \u001b[38;5;28;43mself\u001b[39;49m\u001b[38;5;241;43m.\u001b[39;49m\u001b[43mselect_servers\u001b[49m\u001b[43m(\u001b[49m\u001b[43mselector\u001b[49m\u001b[43m,\u001b[49m\u001b[43m \u001b[49m\u001b[43mserver_selection_timeout\u001b[49m\u001b[43m,\u001b[49m\u001b[43m \u001b[49m\u001b[43maddress\u001b[49m\u001b[43m)\u001b[49m\n\u001b[1;32m    287\u001b[0m     \u001b[38;5;28;01mif\u001b[39;00m \u001b[38;5;28mlen\u001b[39m(servers) \u001b[38;5;241m==\u001b[39m \u001b[38;5;241m1\u001b[39m:\n\u001b[1;32m    288\u001b[0m         \u001b[38;5;28;01mreturn\u001b[39;00m servers[\u001b[38;5;241m0\u001b[39m]\n",
      "File \u001b[0;32m~/.python/current/lib/python3.10/site-packages/pymongo/topology.py:237\u001b[0m, in \u001b[0;36mTopology.select_servers\u001b[0;34m(self, selector, server_selection_timeout, address)\u001b[0m\n\u001b[1;32m    234\u001b[0m     server_timeout \u001b[38;5;241m=\u001b[39m server_selection_timeout\n\u001b[1;32m    236\u001b[0m \u001b[38;5;28;01mwith\u001b[39;00m \u001b[38;5;28mself\u001b[39m\u001b[38;5;241m.\u001b[39m_lock:\n\u001b[0;32m--> 237\u001b[0m     server_descriptions \u001b[38;5;241m=\u001b[39m \u001b[38;5;28;43mself\u001b[39;49m\u001b[38;5;241;43m.\u001b[39;49m\u001b[43m_select_servers_loop\u001b[49m\u001b[43m(\u001b[49m\u001b[43mselector\u001b[49m\u001b[43m,\u001b[49m\u001b[43m \u001b[49m\u001b[43mserver_timeout\u001b[49m\u001b[43m,\u001b[49m\u001b[43m \u001b[49m\u001b[43maddress\u001b[49m\u001b[43m)\u001b[49m\n\u001b[1;32m    239\u001b[0m     \u001b[38;5;28;01mreturn\u001b[39;00m [\n\u001b[1;32m    240\u001b[0m         cast(Server, \u001b[38;5;28mself\u001b[39m\u001b[38;5;241m.\u001b[39mget_server_by_address(sd\u001b[38;5;241m.\u001b[39maddress)) \u001b[38;5;28;01mfor\u001b[39;00m sd \u001b[38;5;129;01min\u001b[39;00m server_descriptions\n\u001b[1;32m    241\u001b[0m     ]\n",
      "File \u001b[0;32m~/.python/current/lib/python3.10/site-packages/pymongo/topology.py:259\u001b[0m, in \u001b[0;36mTopology._select_servers_loop\u001b[0;34m(self, selector, timeout, address)\u001b[0m\n\u001b[1;32m    256\u001b[0m \u001b[38;5;28;01mwhile\u001b[39;00m \u001b[38;5;129;01mnot\u001b[39;00m server_descriptions:\n\u001b[1;32m    257\u001b[0m     \u001b[38;5;66;03m# No suitable servers.\u001b[39;00m\n\u001b[1;32m    258\u001b[0m     \u001b[38;5;28;01mif\u001b[39;00m timeout \u001b[38;5;241m==\u001b[39m \u001b[38;5;241m0\u001b[39m \u001b[38;5;129;01mor\u001b[39;00m now \u001b[38;5;241m>\u001b[39m end_time:\n\u001b[0;32m--> 259\u001b[0m         \u001b[38;5;28;01mraise\u001b[39;00m ServerSelectionTimeoutError(\n\u001b[1;32m    260\u001b[0m             \u001b[38;5;124mf\u001b[39m\u001b[38;5;124m\"\u001b[39m\u001b[38;5;132;01m{\u001b[39;00m\u001b[38;5;28mself\u001b[39m\u001b[38;5;241m.\u001b[39m_error_message(selector)\u001b[38;5;132;01m}\u001b[39;00m\u001b[38;5;124m, Timeout: \u001b[39m\u001b[38;5;132;01m{\u001b[39;00mtimeout\u001b[38;5;132;01m}\u001b[39;00m\u001b[38;5;124ms, Topology Description: \u001b[39m\u001b[38;5;132;01m{\u001b[39;00m\u001b[38;5;28mself\u001b[39m\u001b[38;5;241m.\u001b[39mdescription\u001b[38;5;132;01m!r}\u001b[39;00m\u001b[38;5;124m\"\u001b[39m\n\u001b[1;32m    261\u001b[0m         )\n\u001b[1;32m    263\u001b[0m     \u001b[38;5;28mself\u001b[39m\u001b[38;5;241m.\u001b[39m_ensure_opened()\n\u001b[1;32m    264\u001b[0m     \u001b[38;5;28mself\u001b[39m\u001b[38;5;241m.\u001b[39m_request_check_all()\n",
      "\u001b[0;31mServerSelectionTimeoutError\u001b[0m: mongo:27017: [Errno -2] Name or service not known (configured timeouts: socketTimeoutMS: 20000.0ms, connectTimeoutMS: 20000.0ms), Timeout: 30s, Topology Description: <TopologyDescription id: 65df50d7dccaeb0c1862048b, topology_type: Unknown, servers: [<ServerDescription ('mongo', 27017) server_type: Unknown, rtt: None, error=AutoReconnect('mongo:27017: [Errno -2] Name or service not known (configured timeouts: socketTimeoutMS: 20000.0ms, connectTimeoutMS: 20000.0ms)')>]>"
     ]
    }
   ],
   "source": [
    "client.list_database_names()"
   ]
  },
  {
   "cell_type": "markdown",
   "id": "3d6811b0",
   "metadata": {
    "id": "-esQVMH6MxB-"
   },
   "source": [
    "## Descarga de datos en formato CSV"
   ]
  },
  {
   "cell_type": "markdown",
   "id": "a5cd05a0",
   "metadata": {
    "id": "NK67vpHdfbpn"
   },
   "source": [
    " - Formato: 7zipped\n",
    " - Ficheros:\n",
    "   - **Comments**.csv\n",
    "       - Id\n",
    "       - PostId\n",
    "       - Score\n",
    "       - Text, e.g.: \"@Stu Thompson: Seems possible to me - why not try it?\"\n",
    "       - CreationDate, e.g.:\"2008-09-06T08:07:10.730\"\n",
    "       - UserId\n",
    "   - **Posts**.csv\n",
    "       - Id\n",
    "       - PostTypeId\n",
    "          - 1: Question\n",
    "          - 2: Answer\n",
    "       - ParentID (only present if PostTypeId is 2)\n",
    "       - AcceptedAnswerId (only present if PostTypeId is 1)\n",
    "       - CreationDate\n",
    "       - Score\n",
    "       - ViewCount\n",
    "       - Body\n",
    "       - OwnerUserId\n",
    "       - LastEditorUserId\n",
    "       - LastEditorDisplayName=\"Jeff Atwood\"\n",
    "       - LastEditDate=\"2009-03-05T22:28:34.823\"\n",
    "       - LastActivityDate=\"2009-03-11T12:51:01.480\"\n",
    "       - CommunityOwnedDate=\"2009-03-11T12:51:01.480\"\n",
    "       - ClosedDate=\"2009-03-11T12:51:01.480\"\n",
    "       - Title=\n",
    "       - Tags=\n",
    "       - AnswerCount\n",
    "       - CommentCount\n",
    "       - FavoriteCount\n",
    "   - **Tags**.csv\n",
    "    - Id\n",
    "    - Count\n",
    "    - ExcerptPostId\n",
    "    - TagName\n",
    "    - WikiPostId\n",
    "   - **Users**.csv\n",
    "     - Id\n",
    "     - Reputation\n",
    "     - CreationDate\n",
    "     - DisplayName\n",
    "     - EmailHash\n",
    "     - LastAccessDate\n",
    "     - WebsiteUrl\n",
    "     - Location\n",
    "     - Age\n",
    "     - AboutMe\n",
    "     - Views\n",
    "     - UpVotes\n",
    "     - DownVotes\n",
    "   - **Votes**.csv\n",
    "     - Id\n",
    "     - PostId\n",
    "     - VoteTypeId\n",
    "        - ` 1`: AcceptedByOriginator\n",
    "        - ` 2`: UpMod\n",
    "        - ` 3`: DownMod\n",
    "        - ` 4`: Offensive\n",
    "        - ` 5`: Favorite - if VoteTypeId = 5 UserId will be populated\n",
    "        - ` 6`: Close\n",
    "        - ` 7`: Reopen\n",
    "        - ` 8`: BountyStart\n",
    "        - ` 9`: BountyClose\n",
    "        - `10`: Deletion\n",
    "        - `11`: Undeletion\n",
    "        - `12`: Spam\n",
    "        - `13`: InformModerator\n",
    "     - CreationDate\n",
    "     - UserId (only for VoteTypeId 5)\n",
    "     - BountyAmount (only for VoteTypeId 9)"
   ]
  },
  {
   "cell_type": "code",
   "execution_count": null,
   "id": "da408186",
   "metadata": {
    "id": "ieRaMS8xKdNX"
   },
   "outputs": [],
   "source": [
    "!wget https://github.com/dsevilla/bd2-data/raw/main/es.stackoverflow/es.stackoverflow.csv.7z.001\n",
    "!wget https://github.com/dsevilla/bd2-data/raw/main/es.stackoverflow/es.stackoverflow.csv.7z.002"
   ]
  },
  {
   "cell_type": "code",
   "execution_count": null,
   "id": "0ea24ef7",
   "metadata": {
    "id": "iBFmsqCMKhz1"
   },
   "outputs": [],
   "source": [
    "!7zr x es.stackoverflow.csv.7z.001"
   ]
  },
  {
   "cell_type": "code",
   "execution_count": null,
   "id": "4415bb30",
   "metadata": {
    "id": "JQSzfBhBLDZm"
   },
   "outputs": [],
   "source": [
    "!head Users.csv"
   ]
  },
  {
   "cell_type": "markdown",
   "id": "ea301915",
   "metadata": {
    "id": "0PMVDICrfbpy"
   },
   "source": [
    "Una vez descargados los ficheros CSV, vamos a crear una colección diferente para cada uno tal y como hicimos en la sesión 1. Después estudiaremos cómo poder optimizar el acceso usando agregación."
   ]
  },
  {
   "cell_type": "code",
   "execution_count": null,
   "id": "ebf61c61",
   "metadata": {
    "id": "BOyHm5VQoLJh"
   },
   "outputs": [],
   "source": [
    "db = client.stackoverflow\n",
    "db = client['stackoverflow']\n",
    "db"
   ]
  },
  {
   "cell_type": "code",
   "execution_count": null,
   "id": "4c1a346e",
   "metadata": {
    "id": "rPHR9uZZqHYJ"
   },
   "outputs": [],
   "source": [
    "posts = db.posts\n",
    "posts"
   ]
  },
  {
   "cell_type": "code",
   "execution_count": null,
   "id": "d59356c2",
   "metadata": {
    "id": "c5hJC4G4XK3A"
   },
   "outputs": [],
   "source": [
    "import csv\n",
    "from datetime import datetime\n",
    "from tqdm.notebook import tqdm\n",
    "\n",
    "def batched(iterable, n):\n",
    "    from itertools import islice\n",
    "    if n < 1:\n",
    "        raise ValueError('n must be at least one')\n",
    "    it = iter(iterable)\n",
    "    while batch := tuple(islice(it, n)):\n",
    "        yield batch\n",
    "\n",
    "def csv_to_mongo(file, coll):\n",
    "    \"\"\"\n",
    "    Carga un fichero CSV en Mongo. file especifica el fichero, coll la colección\n",
    "    dentro de la base de datos, y date_cols las columnas que serán interpretadas\n",
    "    como fechas.\n",
    "    \"\"\"\n",
    "    # Convertir todos los elementos que se puedan a números\n",
    "    def to_numeric(d):\n",
    "        if len(d) == 0:\n",
    "            return ''\n",
    "        if not ((d[0] >= '0' and d[0] <= '9') or d[0] == '-' or d[0] == '+' or d[0]=='.'):\n",
    "            return str(d)\n",
    "        try:\n",
    "            return int(d)\n",
    "        except ValueError:\n",
    "            try:\n",
    "                return float(d)\n",
    "            except ValueError:\n",
    "                return str(d)\n",
    "\n",
    "    def to_date(d):\n",
    "        \"\"\"To ISO Date. If this cannot be converted, return NULL (None)\"\"\"\n",
    "        try:\n",
    "            return datetime.strptime(d, \"%Y-%m-%dT%H:%M:%S.%f\")\n",
    "        except ValueError:\n",
    "            return None\n",
    "\n",
    "    def to_str(d):\n",
    "        try:\n",
    "          return str(d)\n",
    "        except ValueError:\n",
    "            return None\n",
    "\n",
    "    coll.drop()\n",
    "\n",
    "    with open(file, encoding='utf-8') as f:\n",
    "        # La llamada csv.reader() crea un iterador sobre un fichero CSV\n",
    "        reader = csv.reader(f, dialect='excel')\n",
    "\n",
    "        # Se leen las columnas. Sus nombres se usarán para crear las diferentes columnas en la familia\n",
    "        columns = next(reader)\n",
    "\n",
    "        # Las columnas que contienen 'Date' se interpretan como fechas\n",
    "        func_to_cols = list(map(lambda c: to_date if 'date' in c.lower() else (to_numeric if not 'displayname' in c.lower() else to_str), columns))\n",
    "\n",
    "        for batch in batched(tqdm(reader, desc='Leyendo e insertando filas...'), 10000):\n",
    "            docs = []\n",
    "            for row in batch:\n",
    "                row = [func(e) for (func,e) in zip(func_to_cols, row)]\n",
    "                docs.append(dict(zip(columns,row)))\n",
    "            coll.insert_many(docs)\n",
    "\n",
    "        print(\"¡Hecho!\")"
   ]
  },
  {
   "cell_type": "code",
   "execution_count": null,
   "id": "ff72382b",
   "metadata": {
    "id": "hUVr0cPGfbp9"
   },
   "outputs": [],
   "source": [
    "csv_to_mongo('Posts.csv',db.posts)"
   ]
  },
  {
   "cell_type": "code",
   "execution_count": null,
   "id": "3525e704",
   "metadata": {
    "id": "I1JYOx-rfbqJ"
   },
   "outputs": [],
   "source": [
    "csv_to_mongo('Users.csv',db.users)"
   ]
  },
  {
   "cell_type": "code",
   "execution_count": null,
   "id": "bf16de68",
   "metadata": {
    "id": "SdJsUjREfbqO"
   },
   "outputs": [],
   "source": [
    "csv_to_mongo('Votes.csv',db.votes)"
   ]
  },
  {
   "cell_type": "code",
   "execution_count": null,
   "id": "46fcf9de",
   "metadata": {
    "id": "ev1yW2-8fbqS"
   },
   "outputs": [],
   "source": [
    "csv_to_mongo('Comments.csv',db.comments)"
   ]
  },
  {
   "cell_type": "code",
   "execution_count": null,
   "id": "0088134b",
   "metadata": {
    "id": "fCetnARxfbqX"
   },
   "outputs": [],
   "source": [
    "csv_to_mongo('Tags.csv',db.tags)"
   ]
  },
  {
   "cell_type": "code",
   "execution_count": null,
   "id": "dd7e066e",
   "metadata": {
    "id": "mIWOxATUfbqb"
   },
   "outputs": [],
   "source": [
    "posts.count_documents({})"
   ]
  },
  {
   "cell_type": "markdown",
   "id": "be534de3",
   "metadata": {
    "id": "rwrJSwdffbrI"
   },
   "source": [
    "## Framework de Agregación\n",
    "\n",
    "Framework de agregación:\n",
    "- Aquí está la referencia de las diferentes etapas por las que puede pasar un pipeline: https://www.mongodb.com/docs/manual/reference/operator/aggregation-pipeline/.\n",
    "- Y aquí los distintos operadores que se permiten dentro de las etapas: https://docs.mongodb.com/manual/reference/operator/aggregation/.\n",
    "- Y aquí incluso un libro completo con usos prácticos de ejecutar agregación: https://www.practical-mongodb-aggregations.com/.\n",
    "\n",
    "A continuación un vídeo interseante:"
   ]
  },
  {
   "cell_type": "code",
   "execution_count": null,
   "id": "e51dc993",
   "metadata": {
    "id": "2b3WDt0xA1UY"
   },
   "outputs": [],
   "source": [
    "from IPython.display import YouTubeVideo\n",
    "YouTubeVideo('VSX4a3h4SmQ',width=600)"
   ]
  },
  {
   "cell_type": "markdown",
   "id": "4ce69751",
   "metadata": {
    "id": "mqwkrEXwtdUl"
   },
   "source": [
    "Aqui tenemos un esquema con un ejemplo básico de agregación."
   ]
  },
  {
   "cell_type": "markdown",
   "id": "9d350345",
   "metadata": {
    "id": "2ZpnWj3gA1UY"
   },
   "source": [
    "![](https://miro.medium.com/max/1060/1*2lDBxvZ8Cr3JYkoODTa0lQ.png)"
   ]
  },
  {
   "cell_type": "markdown",
   "id": "b223ee0a",
   "metadata": {
    "id": "gYGp9QX8-9it"
   },
   "source": [
    "## Algunos operadores de agregación\n",
    "\n"
   ]
  },
  {
   "cell_type": "markdown",
   "id": "6c74cba8",
   "metadata": {
    "id": "nKqZOL-DXQi_"
   },
   "source": [
    "### `$match`\n",
    "\n",
    "Este operador permite filtrar los documentos que queremos que pasen a la siguiente fase del pipeline definiendo una serie de condiciones sobre los campos de los mismos.\n",
    "\n",
    "Vamos a filtrar aquellos documentos que tengan un `Score` igual o superior (`$gte`) a 40."
   ]
  },
  {
   "cell_type": "code",
   "execution_count": null,
   "id": "aea0bef0",
   "metadata": {
    "id": "4X6FkyABXl2Q"
   },
   "outputs": [],
   "source": [
    "respuestas = posts.aggregate( [\n",
    "        {'$match': { 'Score' : {'$gte': 40}}}\n",
    "])\n",
    "list(respuestas)"
   ]
  },
  {
   "cell_type": "markdown",
   "id": "33e3c08e",
   "metadata": {
    "id": "WqP4KjgafbrJ"
   },
   "source": [
    "### `$project`\n",
    "\n",
    "El operador `$project`permite filtar qué campos de los documentos queremos usar en la siguientes fases de agregación.\n",
    "\n",
    "Generalmente este operador suele combinarse con otros como `$find`, `$match` o `$lookup` en fases más avanzadas de la agregación.\n",
    "\n",
    "En el siguiente ejemplo, realizamos un filtrado en donde solo nos quedamos con el campo `Id` de los posts."
   ]
  },
  {
   "cell_type": "code",
   "execution_count": null,
   "id": "5ba260cc",
   "metadata": {
    "id": "0HRH68mufbrL"
   },
   "outputs": [],
   "source": [
    "respuestas = db['posts'].aggregate( [\n",
    "    {'$project' : { 'Id' : True }},\n",
    "    {'$limit': 20} ])\n",
    "list(respuestas)"
   ]
  },
  {
   "cell_type": "markdown",
   "id": "e2fcbbbd",
   "metadata": {
    "id": "407NezLD_FTG"
   },
   "source": [
    "### `$lookup`"
   ]
  },
  {
   "cell_type": "markdown",
   "id": "4fbd15ce",
   "metadata": {
    "id": "SXP3qYs7fbrO"
   },
   "source": [
    "El operador `$lookup` permite realizar búsquedas en otras colecciones. Podrían interpretarse como un `join` en el modelo relacional.\n",
    "\n",
    "En el ejemplo siguiente, en primer lugar seleccionamos los posts con un `Score` igual o mayor a 40 con `$match` para a continuación seleccionar los usuarios que han publicado dichos posts incluyendolo en un nuevo campo llamado `owner`."
   ]
  },
  {
   "cell_type": "code",
   "execution_count": null,
   "id": "552c171f",
   "metadata": {
    "id": "iyZg-6TLfbrP",
    "scrolled": true
   },
   "outputs": [],
   "source": [
    "respuestas = posts.aggregate( [\n",
    "        {'$match': { 'Score' : {'$gte': 40}}},\n",
    "        {'$lookup': {\n",
    "            'from': \"users\",\n",
    "            'localField': \"OwnerUserId\",\n",
    "            'foreignField': \"Id\",\n",
    "            'as': \"owner\"}\n",
    "        }\n",
    "        ])\n",
    "list(respuestas)"
   ]
  },
  {
   "cell_type": "markdown",
   "id": "d8dfa0a6",
   "metadata": {
    "id": "Wc14fggBfbrR"
   },
   "source": [
    "### `$arrayElemAt`\n",
    "\n",
    "El `$lookup` genera un _array_ con todos los resultados. El operador `$arrayElementAt` accede al primer elemento."
   ]
  },
  {
   "cell_type": "code",
   "execution_count": null,
   "id": "c742cc79",
   "metadata": {
    "id": "Ge_iO8dHfbrS"
   },
   "outputs": [],
   "source": [
    "respuestas = db.posts.aggregate( [\n",
    "        {'$match': { 'Score' : {'$gte': 40}}},\n",
    "        {'$lookup': {\n",
    "            'from': \"users\",\n",
    "            'localField': \"OwnerUserId\",\n",
    "            'foreignField': \"Id\",\n",
    "            'as': \"owner\"}\n",
    "        },\n",
    "        { '$project' : {\n",
    "            'Id' : True,\n",
    "            'Score' : True,\n",
    "            'username' : {'$arrayElemAt' : ['$owner.DisplayName', 0]},\n",
    "            'owner.DisplayName' : True\n",
    "          }}\n",
    "        ])\n",
    "list(respuestas)"
   ]
  },
  {
   "cell_type": "markdown",
   "id": "63652f58",
   "metadata": {
    "id": "E11XU_bufbrU"
   },
   "source": [
    "### `$unwind`\n",
    "\n",
    "Este operador *desdobla* cada fila por cada elemento del array.\n",
    "\n",
    "Ej: El siguiente código\n",
    "\n",
    "```python\n",
    "db.inventory.insert_one({ \"_id\" : 1, \"item\" : \"ABC1\", \"sizes\": [ \"S\", \"M\", \"L\"] })\n",
    "db.inventory.aggregate( [ { \"$unwind\" : \"$sizes\" } ] )\n",
    "```\n",
    "\n",
    "Devolverá:\n",
    "\n",
    "```json\n",
    "{ \"_id\" : 1, \"item\" : \"ABC1\", \"sizes\" : \"S\" }\n",
    "{ \"_id\" : 1, \"item\" : \"ABC1\", \"sizes\" : \"M\" }\n",
    "{ \"_id\" : 1, \"item\" : \"ABC1\", \"sizes\" : \"L\" }\n",
    "```\n",
    "\n",
    "En el ejemplo de procesamiento de posts que estamos llevando acabo, como sabemos que el array `$owner`sólo contiene un elemento, sólo habrá una fila por fila original, pero sin el _array_. Finalmente se puede proyectar el campo que se quiera. En este caso el `ownerDisplayName` que es proyectado (renombrado) como `username`."
   ]
  },
  {
   "cell_type": "code",
   "execution_count": null,
   "id": "bed9ee9a",
   "metadata": {
    "id": "EphHDIKyfbrU"
   },
   "outputs": [],
   "source": [
    "respuestas = db.posts.aggregate( [\n",
    "        { '$match': { 'Score' : {'$gte': 40}}},\n",
    "        { '$lookup': {\n",
    "            'from': \"users\",\n",
    "            'localField': \"OwnerUserId\",\n",
    "            'foreignField': \"Id\",\n",
    "            'as': \"owner\"\n",
    "          }\n",
    "        },\n",
    "        { '$unwind': '$owner'},\n",
    "        { '$project' : {\n",
    "             'username': '$owner.DisplayName'\n",
    "          }\n",
    "        }\n",
    "        ])\n",
    "list(respuestas)"
   ]
  },
  {
   "cell_type": "markdown",
   "id": "24287610",
   "metadata": {
    "id": "T_ry--5igaTT"
   },
   "source": [
    "### `$push`\n",
    "\n",
    "Devuelve un array con *todos* los valores que resultan de aplicar una determinada expresión a los documentos que forman parte del pipeline.\n",
    "\n",
    "Obtener el listado con el identificador de `Posts` (`Id`) asociados a cada valor de `Score`."
   ]
  },
  {
   "cell_type": "code",
   "execution_count": null,
   "id": "a7977c56",
   "metadata": {
    "id": "6VXq15pWg10w"
   },
   "outputs": [],
   "source": [
    "posts_by_score= db.posts.aggregate([\n",
    "    {\n",
    "        '$group':{\n",
    "            '_id': '$Score',\n",
    "            'posts':{\n",
    "                '$push': {\n",
    "                    'post': '$Id'\n",
    "                }\n",
    "            }\n",
    "        }\n",
    "    }\n",
    "\n",
    "])\n",
    "list(posts_by_score)"
   ]
  },
  {
   "cell_type": "markdown",
   "id": "920bf6cf",
   "metadata": {
    "id": "m9Y9N189UQdh"
   },
   "source": [
    "### `$addToSet`\n",
    "\n",
    " Devuelve un array de todos los valores únicos que resultan de aplicar una expresión a cada documento de un grupo.\n",
    "\n",
    "\n",
    "Vamos a obtener el listado de `Tags` asociadas a cada tipo de licencia  `ContentLicense`."
   ]
  },
  {
   "cell_type": "code",
   "execution_count": null,
   "id": "c6b4c266",
   "metadata": {
    "id": "qXr2W9DBU5ZX"
   },
   "outputs": [],
   "source": [
    "license_and_tags= db.posts.aggregate([\n",
    "            { \"$match\" : {\"PostTypeId\": 1}},\n",
    "            {\"$limit\": 10},\n",
    "\n",
    "             {'$group':{\n",
    "                             '_id':'$ContentLicense',\n",
    "                             'AllTags': { '$addToSet': \"$Tags\" }\n",
    "            }}\n",
    "\n",
    "            ]\n",
    ")\n",
    "list(license_and_tags)"
   ]
  },
  {
   "cell_type": "markdown",
   "id": "dcd6223b",
   "metadata": {
    "id": "NYBaAthTkluP"
   },
   "source": [
    "### `$out`\n",
    "\n",
    "Este comando permite volcar el ersulado de un pipeline de agregación en una nueva colección en la base de datos."
   ]
  },
  {
   "cell_type": "code",
   "execution_count": null,
   "id": "e9bf9e36",
   "metadata": {
    "id": "_VntMZJWkQbr"
   },
   "outputs": [],
   "source": [
    "respuestas = db.posts.aggregate( [\n",
    "        { '$match': { 'Score' : {'$gte': 40}}},\n",
    "        { '$lookup': {\n",
    "            'from': \"users\",\n",
    "            'localField': \"OwnerUserId\",\n",
    "            'foreignField': \"Id\",\n",
    "            'as': \"owner\"\n",
    "          }\n",
    "        },\n",
    "        { '$unwind': '$owner'},\n",
    "        { '$project' : {\n",
    "             'username': '$owner.DisplayName'\n",
    "          }\n",
    "        },\n",
    "        {'$out': \"stackoverflow_users\"}\n",
    "        ])"
   ]
  },
  {
   "cell_type": "code",
   "execution_count": null,
   "id": "d600be27",
   "metadata": {
    "id": "oXoZUP9srDNo"
   },
   "outputs": [],
   "source": [
    "db.stackoverflow_users.count_documents({})"
   ]
  },
  {
   "cell_type": "markdown",
   "id": "af356307",
   "metadata": {
    "id": "fKjov58w_F2Q"
   },
   "source": [
    "## Ejemplos básicos de agregación"
   ]
  },
  {
   "cell_type": "markdown",
   "id": "b047cba2",
   "metadata": {
    "id": "YxgjyCnH_OVx"
   },
   "source": [
    "### Ejemplo 1: Asociación usuarios con Tags\n",
    "\n",
    "Con Agregación, vamos a construir una colección que asocia un usuario con los tags que ha usado en todas sus preguntas.\n",
    "\n",
    "*Por cuestiones de rendimiento vamos a limitar la agregación a 50 elementos.*"
   ]
  },
  {
   "cell_type": "code",
   "execution_count": null,
   "id": "dd02687d",
   "metadata": {
    "id": "ejQ2ja8iFBf2"
   },
   "outputs": [],
   "source": [
    "user_tags= db.posts.aggregate( [\n",
    "        { \"$match\" : {\"PostTypeId\": 1}},\n",
    "\n",
    "        {\"$limit\": 50},\n",
    "\n",
    "        { '$lookup': {\n",
    "            'from': \"users\",\n",
    "            'localField': \"OwnerUserId\",\n",
    "            'foreignField': \"Id\",\n",
    "            'as': \"owner\"\n",
    "          }\n",
    "        },\n",
    "\n",
    "        {'$project':{\n",
    "            'Tags': True,\n",
    "            'userid' : {'$arrayElemAt' : ['$owner.Id', 0]},\n",
    "        }},\n",
    "\n",
    "        {'$group':{\n",
    "            '_id':'$userid',\n",
    "            'AllTags': { '$addToSet': \"$Tags\" }\n",
    "        }}\n",
    "]\n",
    ")\n",
    "\n",
    "user_tags_lst= list(user_tags)\n",
    "user_tags_lst"
   ]
  },
  {
   "cell_type": "markdown",
   "id": "ae4f8f80",
   "metadata": {
    "id": "poeXtntpTCTi"
   },
   "source": [
    "### Ejemplo 2: Asociación Tags con usuarios\n",
    "\n",
    "Ahora, dado un ID de tag, qué usuarios han hecho preguntas de ese tag.\n",
    "\n",
    "*De nuevo limitamos la búsqueda a 50 documentos*"
   ]
  },
  {
   "cell_type": "code",
   "execution_count": null,
   "id": "fb2cccdc",
   "metadata": {
    "id": "UYCKqL1cTBAp"
   },
   "outputs": [],
   "source": [
    "tags_users= db.posts.aggregate( [\n",
    "        { \"$match\" : {\"PostTypeId\": 1}},\n",
    "\n",
    "        {\"$limit\": 50},\n",
    "\n",
    "        { '$lookup': {\n",
    "            'from': \"users\",\n",
    "            'localField': \"OwnerUserId\",\n",
    "            'foreignField': \"Id\",\n",
    "            'as': \"owner\"\n",
    "          }\n",
    "        },\n",
    "\n",
    "        {'$project':{\n",
    "            'Tags': True,\n",
    "            'userid' : {'$arrayElemAt' : ['$owner.Id', 0]},\n",
    "        }},\n",
    "\n",
    "        {'$group':{\n",
    "            '_id':'$Tags',\n",
    "            'AllUsers': { '$addToSet': \"$userid\" }\n",
    "        }}\n",
    "]\n",
    ")\n",
    "\n",
    "tags_users_lst= list(tags_users)\n",
    "tags_users_lst"
   ]
  },
  {
   "cell_type": "markdown",
   "id": "1643792b",
   "metadata": {
    "id": "9i4Qn8dK-7LZ"
   },
   "source": [
    "## Ejercicios"
   ]
  },
  {
   "cell_type": "markdown",
   "id": "f2671ff4",
   "metadata": {
    "id": "AyraSfLVSyAV"
   },
   "source": [
    "### EJ1: Obtener un una colección de documentos *verbosos* en donde se indique el texto `Body` de una pregunta así como el nombre del usuario que la formuló (`DisplayName`)"
   ]
  },
  {
   "cell_type": "markdown",
   "id": "ba889f78",
   "metadata": {
    "id": "B6gJBt55Toc8"
   },
   "source": [
    "### EJ2: Obtener las respuestas escritas en el mes de Enero de 2022 con un `Score` superior a 3"
   ]
  },
  {
   "cell_type": "code",
   "execution_count": null,
   "id": "e2a30406",
   "metadata": {
    "id": "Tk60YlYeYspQ"
   },
   "outputs": [],
   "source": [
    "print(\"Eso es todo amigos!\")"
   ]
  }
 ],
 "metadata": {
  "colab": {
   "provenance": []
  },
  "kernelspec": {
   "display_name": "Python 3 (ipykernel)",
   "language": "python",
   "name": "python3"
  },
  "language_info": {
   "codemirror_mode": {
    "name": "ipython",
    "version": 3
   },
   "file_extension": ".py",
   "mimetype": "text/x-python",
   "name": "python",
   "nbconvert_exporter": "python",
   "pygments_lexer": "ipython3",
   "version": "3.10.13"
  }
 },
 "nbformat": 4,
 "nbformat_minor": 5
}
>>>>>>> f2e99edf3a12039738e57018697c83a39ea14d2b
