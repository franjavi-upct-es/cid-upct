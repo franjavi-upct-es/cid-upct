{
 "cells": [
  {
   "cell_type": "markdown",
   "id": "c3de2da2",
   "metadata": {
    "id": "WdqTiGhdfbo4"
   },
   "source": [
    "## NoSQL (MongoDB) (sesión 2)\n"
   ]
  },
  {
   "cell_type": "markdown",
   "id": "e7cf2bcf",
   "metadata": {
    "id": "be5isyBjMQl2"
   },
   "source": [
    "## Introducción"
   ]
  },
  {
   "cell_type": "markdown",
   "id": "e10025b3",
   "metadata": {
    "id": "ZbikzCBUXK2P"
   },
   "source": [
    "![MongoDB](https://webassets.mongodb.com/_com_assets/cms/MongoDB_Logo_FullColorBlack_RGB-4td3yuxzjs.png)\n",
    "\n",
    "Esta hoja muestra cómo acceder a bases de datos MongoDB y también a conectar la salida con Jupyter. Se puede utilizar el *shell* propio de MongoDB en el contenedor usando el programa `mongo`. La diferencia es que ese programa espera código Javascript y aquí trabajaremos con Python."
   ]
  },
  {
   "cell_type": "code",
   "execution_count": 1,
   "id": "3f18c9bf",
   "metadata": {
    "id": "x9-RN4ZSY5o9"
   },
   "outputs": [],
   "source": [
    "RunningInCOLAB = 'google.colab' in str(get_ipython()) if hasattr(__builtins__,'__IPYTHON__') else False"
   ]
  },
  {
   "cell_type": "code",
   "execution_count": 2,
   "id": "c6a5d9fc",
   "metadata": {
    "id": "n5BdH3KOZA47"
   },
   "outputs": [],
   "source": [
    "db_hostname = \"localhost\" if RunningInCOLAB else \"mongo\""
   ]
  },
  {
   "cell_type": "markdown",
   "id": "6750188f",
   "metadata": {
    "id": "iOSnWPqEMXje"
   },
   "source": [
    "## Instalación inicial de MongoDB (no necesaria si se utiliza Docker en local)"
   ]
  },
  {
   "cell_type": "code",
   "execution_count": 3,
   "id": "b6f67511",
   "metadata": {
    "id": "J2M97e3BfQfB"
   },
   "outputs": [
    {
     "name": "stdout",
     "output_type": "stream",
     "text": [
      "/bin/bash: /etc/apt/trusted.gpg.d/mongo-server-6.gpg: Permission denied\n"
     ]
    }
   ],
   "source": [
    "!wget -qO - https://www.mongodb.org/static/pgp/server-6.0.asc | sudo gpg --dearmor > /etc/apt/trusted.gpg.d/mongo-server-6.gpg"
   ]
  },
  {
   "cell_type": "code",
   "execution_count": 4,
   "id": "7b98a52b",
   "metadata": {
    "id": "ezAIGix1IehU"
   },
   "outputs": [
    {
     "name": "stdout",
     "output_type": "stream",
     "text": [
      "The system user `mongodb' already exists. Exiting.\n"
     ]
    },
    {
     "name": "stderr",
     "output_type": "stream",
     "text": [
      "addgroup: The group `mongodb' already exists as a system group. Exiting.\n"
     ]
    },
    {
     "name": "stdout",
     "output_type": "stream",
     "text": [
      "The user `mongodb' is already a member of `mongodb'.\n"
     ]
    }
   ],
   "source": [
    "%%bash\n",
    "sudo adduser --system --no-create-home mongodb\n",
    "sudo addgroup --system mongodb\n",
    "sudo adduser mongodb mongodb\n",
    "\n",
    "# create db -- note: this should agree with dbpath in mongod.conf\n",
    "if [ ! -d /var/lib/mongodb ]; then\n",
    "  sudo mkdir -p /var/lib/mongodb\n",
    "  sudo chown mongodb:mongodb /var/lib/mongodb\n",
    "fi\n",
    "\n",
    "# create logdir -- note: this should agree with logpath in mongod.conf\n",
    "if [ ! -d /var/log/mongodb ]; then\n",
    "  sudo mkdir -p /var/log/mongodb\n",
    "  sudo chown mongodb:mongodb /var/log/mongodb\n",
    "fi"
   ]
  },
  {
   "cell_type": "code",
   "execution_count": 5,
   "id": "52bcd143",
   "metadata": {
    "id": "bkQTZoJDIehX"
   },
   "outputs": [
    {
     "name": "stdout",
     "output_type": "stream",
     "text": [
      "deb [ arch=amd64,arm64 ] https://repo.mongodb.org/apt/ubuntu jammy/mongodb-org/6.0 multiverse\n"
     ]
    }
   ],
   "source": [
    "!echo \"deb [ arch=amd64,arm64 ] https://repo.mongodb.org/apt/ubuntu jammy/mongodb-org/6.0 multiverse\" | sudo tee /etc/apt/sources.list.d/mongodb-org-6.0.list"
   ]
  },
  {
   "cell_type": "code",
   "execution_count": 6,
   "id": "13871d5a",
   "metadata": {
    "id": "pJ25BFUcIehY"
   },
   "outputs": [],
   "source": [
    "!sudo apt-get update -qq"
   ]
  },
  {
   "cell_type": "code",
   "execution_count": 7,
   "id": "393a1250",
   "metadata": {
    "id": "aRypLsP2IehZ"
   },
   "outputs": [],
   "source": [
    "!sudo ln -sf /bin/true /bin/systemctl"
   ]
  },
  {
   "cell_type": "code",
   "execution_count": 8,
   "id": "7c08fc60",
   "metadata": {
    "id": "0CH-EbXBIeha"
   },
   "outputs": [
    {
     "name": "stdout",
     "output_type": "stream",
     "text": [
      "E: Unable to correct problems, you have held broken packages.\n"
     ]
    }
   ],
   "source": [
    "!sudo apt-get install -y -qq dialog mongodb-org"
   ]
  },
  {
   "cell_type": "code",
   "execution_count": 9,
   "id": "47eead96",
   "metadata": {
    "id": "e4-poVR5Iehb"
   },
   "outputs": [
    {
     "name": "stdout",
     "output_type": "stream",
     "text": [
      "sudo: /usr/bin/mongod: command not found\n"
     ]
    }
   ],
   "source": [
    "!sudo /usr/bin/mongod --config /etc/mongod.conf --fork"
   ]
  },
  {
   "cell_type": "code",
   "execution_count": 10,
   "id": "3a937c5a",
   "metadata": {
    "id": "txLEqNUWIehb"
   },
   "outputs": [
    {
     "name": "stdout",
     "output_type": "stream",
     "text": [
      "sudo: mongod: command not found\n"
     ]
    }
   ],
   "source": [
    "!sudo mongod --version"
   ]
  },
  {
   "cell_type": "markdown",
   "id": "351c882f",
   "metadata": {
    "id": "GaTsWPro-oOG"
   },
   "source": [
    "## Instalación de `pymongo`\n"
   ]
  },
  {
   "cell_type": "code",
   "execution_count": 11,
   "id": "f90de90b",
   "metadata": {
    "id": "xE0Sl869XK2Y"
   },
   "outputs": [
    {
     "name": "stdout",
     "output_type": "stream",
     "text": [
      "Requirement already satisfied: pymongo in /usr/local/python/3.10.13/lib/python3.10/site-packages (4.6.2)\n",
      "Requirement already satisfied: dnspython<3.0.0,>=1.16.0 in /usr/local/python/3.10.13/lib/python3.10/site-packages (from pymongo) (2.6.1)\n"
     ]
    }
   ],
   "source": [
    "!pip install --upgrade pymongo"
   ]
  },
  {
   "cell_type": "code",
   "execution_count": 12,
   "id": "2329c158",
   "metadata": {
    "id": "C0Le2anDXK2k"
   },
   "outputs": [
    {
     "name": "stderr",
     "output_type": "stream",
     "text": [
      "/tmp/ipykernel_4187/2496899120.py:2: DeprecationWarning: \n",
      "Pyarrow will become a required dependency of pandas in the next major release of pandas (pandas 3.0),\n",
      "(to allow more performant data types, such as the Arrow string type, and better interoperability with other libraries)\n",
      "but was not found to be installed on your system.\n",
      "If this would cause problems for you,\n",
      "please provide us feedback at https://github.com/pandas-dev/pandas/issues/54466\n",
      "        \n",
      "  import pandas as pd\n"
     ]
    }
   ],
   "source": [
    "from pprint import pprint as pp\n",
    "import pandas as pd\n",
    "import matplotlib.pyplot as plt\n",
    "import matplotlib\n",
    "\n",
    "%matplotlib inline\n",
    "matplotlib.style.use('ggplot')"
   ]
  },
  {
   "cell_type": "markdown",
   "id": "431a24eb",
   "metadata": {
    "id": "O92AlPcMXK2r"
   },
   "source": [
    "Usaremos la librería `pymongo` para python. La cargamos a continuación."
   ]
  },
  {
   "cell_type": "code",
   "execution_count": 13,
   "id": "41acde93",
   "metadata": {
    "id": "Pc7akqe0XK2t"
   },
   "outputs": [],
   "source": [
    "import pymongo\n",
    "from pymongo import MongoClient"
   ]
  },
  {
   "cell_type": "markdown",
   "id": "924882f6",
   "metadata": {
    "id": "mkiP6rzXXK2z"
   },
   "source": [
    "La conexión se inicia con `MongoClient` en el `host` descrito en el fichero `docker-compose.yml` (`mongo`), o bien a `localhost` si lo estamos haciendo en Colab."
   ]
  },
  {
   "cell_type": "code",
   "execution_count": 14,
   "id": "748bd72f",
   "metadata": {
    "id": "s4BiT5o9XK20"
   },
   "outputs": [
    {
     "data": {
      "text/plain": [
       "MongoClient(host=['mongo:27017'], document_class=dict, tz_aware=False, connect=True)"
      ]
     },
     "execution_count": 14,
     "metadata": {},
     "output_type": "execute_result"
    }
   ],
   "source": [
    "client = MongoClient(db_hostname,27017)\n",
    "client"
   ]
  },
  {
   "cell_type": "code",
   "execution_count": 15,
   "id": "bdfa97c2",
   "metadata": {
    "id": "3xqmSSGdXK25"
   },
   "outputs": [],
   "source": [
    "# client.list_database_names()"
   ]
  },
  {
   "cell_type": "markdown",
   "id": "3d6811b0",
   "metadata": {
    "id": "-esQVMH6MxB-"
   },
   "source": [
    "## Descarga de datos en formato CSV"
   ]
  },
  {
   "cell_type": "markdown",
   "id": "a5cd05a0",
   "metadata": {
    "id": "NK67vpHdfbpn"
   },
   "source": [
    " - Formato: 7zipped\n",
    " - Ficheros:\n",
    "   - **Comments**.csv\n",
    "       - Id\n",
    "       - PostId\n",
    "       - Score\n",
    "       - Text, e.g.: \"@Stu Thompson: Seems possible to me - why not try it?\"\n",
    "       - CreationDate, e.g.:\"2008-09-06T08:07:10.730\"\n",
    "       - UserId\n",
    "   - **Posts**.csv\n",
    "       - Id\n",
    "       - PostTypeId\n",
    "          - 1: Question\n",
    "          - 2: Answer\n",
    "       - ParentID (only present if PostTypeId is 2)\n",
    "       - AcceptedAnswerId (only present if PostTypeId is 1)\n",
    "       - CreationDate\n",
    "       - Score\n",
    "       - ViewCount\n",
    "       - Body\n",
    "       - OwnerUserId\n",
    "       - LastEditorUserId\n",
    "       - LastEditorDisplayName=\"Jeff Atwood\"\n",
    "       - LastEditDate=\"2009-03-05T22:28:34.823\"\n",
    "       - LastActivityDate=\"2009-03-11T12:51:01.480\"\n",
    "       - CommunityOwnedDate=\"2009-03-11T12:51:01.480\"\n",
    "       - ClosedDate=\"2009-03-11T12:51:01.480\"\n",
    "       - Title=\n",
    "       - Tags=\n",
    "       - AnswerCount\n",
    "       - CommentCount\n",
    "       - FavoriteCount\n",
    "   - **Tags**.csv\n",
    "    - Id\n",
    "    - Count\n",
    "    - ExcerptPostId\n",
    "    - TagName\n",
    "    - WikiPostId\n",
    "   - **Users**.csv\n",
    "     - Id\n",
    "     - Reputation\n",
    "     - CreationDate\n",
    "     - DisplayName\n",
    "     - EmailHash\n",
    "     - LastAccessDate\n",
    "     - WebsiteUrl\n",
    "     - Location\n",
    "     - Age\n",
    "     - AboutMe\n",
    "     - Views\n",
    "     - UpVotes\n",
    "     - DownVotes\n",
    "   - **Votes**.csv\n",
    "     - Id\n",
    "     - PostId\n",
    "     - VoteTypeId\n",
    "        - ` 1`: AcceptedByOriginator\n",
    "        - ` 2`: UpMod\n",
    "        - ` 3`: DownMod\n",
    "        - ` 4`: Offensive\n",
    "        - ` 5`: Favorite - if VoteTypeId = 5 UserId will be populated\n",
    "        - ` 6`: Close\n",
    "        - ` 7`: Reopen\n",
    "        - ` 8`: BountyStart\n",
    "        - ` 9`: BountyClose\n",
    "        - `10`: Deletion\n",
    "        - `11`: Undeletion\n",
    "        - `12`: Spam\n",
    "        - `13`: InformModerator\n",
    "     - CreationDate\n",
    "     - UserId (only for VoteTypeId 5)\n",
    "     - BountyAmount (only for VoteTypeId 9)"
   ]
  },
  {
   "cell_type": "code",
   "execution_count": 16,
   "id": "0ea24ef7",
   "metadata": {
    "id": "iBFmsqCMKhz1"
   },
   "outputs": [],
   "source": [
    "# !7zr x es.stackoverflow.csv.7z.001"
   ]
  },
  {
   "cell_type": "code",
   "execution_count": 17,
   "id": "4415bb30",
   "metadata": {
    "id": "JQSzfBhBLDZm"
   },
   "outputs": [
    {
     "name": "stdout",
     "output_type": "stream",
     "text": [
      "Id,AboutMe,AccountId,CreationDate,DisplayName,DownVotes,LastAccessDate,Location,Reputation,UpVotes,Views,WebsiteUrl\n",
      "-1,\"<p>Hola, no soy una persona real.</p><br/><br/><p>¡Soy un proceso que ayuda a mantener el sitio limpio!</p><br/><br/><p>Hago cosas como:</p><br/><br/><ul><br/><li>Dar empujoncitos a preguntas antiguas sin respuesta aproximadamente cada hora, para que atraigan algo de atención.</li><br/><li>Tener la propiedad de las preguntas y respuestas wiki para que nadie se lleve reputación por ellas</li><br/><li>Recibir la propiedad de los votos negativos en las publicaciones de spam o dañinas que son borradas permanentemente</li><br/><li>Tener la propiedad de las ediciones sugeridas por usuarios anónimos</li><br/><li><a href=\"\"http://meta.stackoverflow.com/a/92006\"\">Quitar preguntas abandonadas</a></li><br/></ul><br/>\",-1,2015-10-26T21:36:24.767,Comunidad,22504,2015-10-26T21:36:24.767,en la granja de servidores,1,10211,2516,\n",
      "1,\"<p>Dev #2 who helped create Stack Overflow currently working at Microsoft. I love all people willing to share their knowledge. Without community we are nothing.</p><br/><p>Find me on:</p><br/><p><a href=\"\"http://www.twitter.com/SuperDalgas\"\" rel=\"\"nofollow noreferrer\"\">Twitter</a><br/><br><br><br/><a href=\"\"http://blog.stackoverflow.com/2009/05/welcome-stack-overflow-valued-associate-00003/\"\">Stack Overflow Valued Associate #00003</a></p><br/>\",2,2015-10-26T22:50:12.710,Geoff Dalgas,0,2021-01-05T19:45:26.807,\"Corvallis, OR\",101,0,2917,http://stackoverflow.com\n",
      "2,\"<p>developer, techie, nerd.... ex-DBRE at Stack Overflow, previously a Community Manager for Stack Overflow.  When I'm not at my desk, I do CrossFit and run (a lot).</p><br/>\",188123,2015-10-26T22:51:07.007,Taryn,0,2020-08-18T17:39:10.693,Arizona,101,0,109,https://tarynpivots.com\n",
      "3,\"<p>Topics you might be interested in reading about:</p><br/><ul><br/><li><a href=\"\"https://jlericson.com/2023/10/16/catija.html\"\" rel=\"\"nofollow noreferrer\"\">why Stack Exchange Inc undervalues community managers</a></li><br/><li><a href=\"\"https://jlericson.com/tag/strike\"\" rel=\"\"nofollow noreferrer\"\">the moderator strike</a></li><br/><li><a href=\"\"https://jlericson.com/tag/documentation\"\" rel=\"\"nofollow noreferrer\"\">documentation</a></li><br/><li><a href=\"\"https://jlericson.com/tag/support\"\" rel=\"\"nofollow noreferrer\"\">customer support</a></li><br/></ul><br/><p>I'm Head of Community at <a href=\"\"https://talk.collegeconfidential.com/\"\" rel=\"\"nofollow noreferrer\"\">College Confidential</a> and former <a href=\"\"https://jlericson.com/2021/04/30/developer_advocate.html\"\" rel=\"\"nofollow noreferrer\"\">Developer Advocate at EDB</a>. Stack Exchange no longer employs me as a <a href=\"\"http://blog.stackoverflow.com/2013/08/please-welcome-jon-ericson-community-manager/\"\">Community Manager</a>.  I maintain an <a href=\"\"http://chat.meta.stackexchange.com/rooms/738/jons-java-jitter-joint\"\">office on chat</a>. (Please ignore the meta cruft.)</p><br/><blockquote><br/><p><a href=\"\"https://www.mechon-mamre.org/p/pt/pt2685.htm\"\" rel=\"\"nofollow noreferrer\"\">Mercy and truth are met together; righteousness and peace have kissed each other.</a></p><br/></blockquote><br/><p>I write about my experience as a community manager at <a href=\"\"https://jlericson.com/\"\" rel=\"\"nofollow noreferrer\"\">jlericson.com</a>. You can read about what I've done over the years in my <a href=\"\"https://web.archive.org/web/20220113195358/https://stackoverflow.com/users/story/1438\"\" rel=\"\"nofollow noreferrer\"\" title=\"\"Not guaranteed to be current.\"\"><em>curriculum vitae</em></a>.</p><br/><p>On a personal note, I'm married and have three children.  Our oldest son loves school, friends, games, and music. Two of my children happen to have been born on the same day.  I <a href=\"\"http://taking1and1.wordpress.com/\"\" rel=\"\"nofollow noreferrer\"\" title=\"\"Yet another half-assed blog.\"\">sometimes write</a> about that experience. My wife loves taking care of people as a registered nurse and an all around wonderful person.</p><br/><p>Don't have time for a full review of something?  Why not try <a href=\"\"http://fivesecondreview.wordpress.com/\"\" rel=\"\"nofollow noreferrer\"\" title=\"\"All reviews accurate and helpful or your money back.\"\">my 5-second reviews</a>?</p><br/><p>I once wrote for <a href=\"\"http://christianity.blogoverflow.com/author/jonericson/\"\" rel=\"\"nofollow noreferrer\"\" title=\"\"I haven't been on the rotation for a while, however.\"\">Eschewmenical</a>, which was an experiment of <a href=\"\"http://christianity.stackexchange.com/\"\">Christianity Stack Exchange</a>. For <em>a lot more</em> writing about the Bible, see <a href=\"\"https://hermeneutics.stackexchange.com/users/68/jon-ericson?tab=summary\"\">my Biblical Hermeneutics posts</a>.</p><br/><br/>\",1083,2015-10-26T22:52:12.923,Jon 'links in bio' Ericson,0,2023-06-04T23:58:02.373,Downtown Burbank,101,0,87,https://jlericson.com/\n",
      "4,\"<p>Lover of all things sharp including pencils, wit, and knives but not cheddar.</p><br/>\",6254215,2015-10-26T23:18:40.547,Juan M,0,2022-02-11T16:07:18.457,Behind the Glass,101,56,260,\n",
      "5,\"<p>I am a Principal Software Engineer at Microsoft working on Azure Functions and related hosting technologies. Formerly the Architecture Lead for Stack Overflow where my day job consisted of being a Developer, Site Reliability Engineer, and DBA.</p><br/><p>I design and build very fast things in hopes of making life easier for millions of developers.</p><br/><p>Blog: <a href=\"\"https://nickcraver.com/blog/\"\" rel=\"\"nofollow noreferrer\"\">nickcraver.com/blog</a><br /><br/>Twitter: <a href=\"\"https://twitter.com/Nick_Craver\"\" rel=\"\"nofollow noreferrer\"\">@Nick_Craver</a><br /><br/>My Developer Story: <a href=\"\"https://stackoverflow.com/story/ncraver\"\">stackoverflow.com/story/ncraver</a></p><br/><p><sub>Disclaimer: I have <em>no idea</em> what I'm talking about, all my answers are guesses!</sub></p><br/>\",7598,2015-10-26T23:46:20.807,Nick Craver,0,2019-04-02T20:05:34.147,\"Winston-Salem, NC\",101,0,53,https://nickcraver.com/blog/\n",
      "6,\"<p>Chief Technical Officer at <a href=\"\"https://postop.ai\"\" rel=\"\"nofollow noreferrer\"\">https://postop.ai</a>.</p><br/><ul><br/><li>Stack Overflow Contributor since 2008</li><br/><li>Skeptics mod since 2011</li><br/><li>Core dev since March 2013</li><br/><li>Stack Overflow alumnus since February 2017</li><br/></ul><br/><p>You can find me on</p><br/><ul><br/><li><a href=\"\"http://sklivvz.com\"\" rel=\"\"nofollow noreferrer\"\">Personal site</a></li><br/><li><a href=\"\"https://mastodon.social/@sklivvz\"\" rel=\"\"nofollow noreferrer\"\">Mastodon</a></li><br/><li><a href=\"\"https://github.com/sklivvz\"\" rel=\"\"nofollow noreferrer\"\">Github</a></li><br/><li><a href=\"\"https://www.linkedin.com/in/sklivvz/\"\" rel=\"\"nofollow noreferrer\"\">LinkedIn</a></li><br/></ul><br/>\",4623,2015-10-26T23:57:13.187,Sklivvz,0,2017-11-04T17:02:40.430,\"Trento, Province of Trento, Italy\",101,0,40,https://sklivvz.com\n",
      "7,\"<p><a href=\"\"http://blog.stackoverflow.com/2013/09/summer-hiring-happened-so-fast/\"\">I'm</a> a Web Developer on the Stack Overflow Q&A Core <a href=\"\"http://stackexchange.com/about/team\"\">team</a>. You can email me via sprelog (at) stackoverflow.com</p><br/>\",51875,2015-10-27T07:03:55.417,m0sa,0,2023-01-24T10:24:53.517,Slovenia,101,0,51,\n",
      "8,\"<p>My top interests here are:</p><br/><br/><ul><br/><li>Python</li><br/><li>Django</li><br/><li>Software security</li><br/></ul><br/><br/><p>In the past, I used <code>python</code> and <code>django</code> to develop a payment solution at <a href=\"\"https://www.my-bee.fr/pro/\"\" rel=\"\"nofollow noreferrer\"\">MyBee</a> - I'm glad they're still going strong today! I also worked at <a href=\"\"http://scalr.com/\"\" rel=\"\"nofollow noreferrer\"\">Scalr</a> as a Product Manager, and at <a href=\"\"http://www.accenture.com/\"\" rel=\"\"nofollow noreferrer\"\">Accenture</a> as a consultant on business / IT projects. Today, I'm Lead Backend Engineer at <a href=\"\"https://aptible.com\"\" rel=\"\"nofollow noreferrer\"\">Aptible</a>.</p><br/><br/><p>Personal email: <code>thomas@orozco.fr</code></p><br/>\",467632,2015-10-27T08:25:59.317,Thomas Orozco,0,2017-03-14T23:25:52.540,\"Paris, France\",101,0,27,\n"
     ]
    }
   ],
   "source": [
    "!head Users.csv"
   ]
  },
  {
   "cell_type": "markdown",
   "id": "ea301915",
   "metadata": {
    "id": "0PMVDICrfbpy"
   },
   "source": [
    "Una vez descargados los ficheros CSV, vamos a crear una colección diferente para cada uno tal y como hicimos en la sesión 1. Después estudiaremos cómo poder optimizar el acceso usando agregación."
   ]
  },
  {
   "cell_type": "code",
   "execution_count": 18,
   "id": "ebf61c61",
   "metadata": {
    "id": "BOyHm5VQoLJh"
   },
   "outputs": [
    {
     "data": {
      "text/plain": [
       "Database(MongoClient(host=['mongo:27017'], document_class=dict, tz_aware=False, connect=True), 'stackoverflow')"
      ]
     },
     "execution_count": 18,
     "metadata": {},
     "output_type": "execute_result"
    }
   ],
   "source": [
    "db = client.stackoverflow\n",
    "db = client['stackoverflow']\n",
    "db"
   ]
  },
  {
   "cell_type": "code",
   "execution_count": 19,
   "id": "4c1a346e",
   "metadata": {
    "id": "rPHR9uZZqHYJ"
   },
   "outputs": [
    {
     "data": {
      "text/plain": [
       "Collection(Database(MongoClient(host=['mongo:27017'], document_class=dict, tz_aware=False, connect=True), 'stackoverflow'), 'posts')"
      ]
     },
     "execution_count": 19,
     "metadata": {},
     "output_type": "execute_result"
    }
   ],
   "source": [
    "posts = db.posts\n",
    "posts"
   ]
  },
  {
   "cell_type": "code",
   "execution_count": 20,
   "id": "78d983c6",
   "metadata": {},
   "outputs": [
    {
     "name": "stdout",
     "output_type": "stream",
     "text": [
      "Requirement already satisfied: numpy in /home/codespace/.local/lib/python3.10/site-packages (1.26.4)\n"
     ]
    }
   ],
   "source": [
    "!pip install --upgrade numpy"
   ]
  },
  {
   "cell_type": "code",
   "execution_count": 21,
   "id": "d59356c2",
   "metadata": {
    "id": "c5hJC4G4XK3A"
   },
   "outputs": [],
   "source": [
    "import csv\n",
    "from datetime import datetime\n",
    "from tqdm.notebook import tqdm\n",
    "\n",
    "def batched(iterable, n):\n",
    "    from itertools import islice\n",
    "    if n < 1:\n",
    "        raise ValueError('n must be at least one')\n",
    "    it = iter(iterable)\n",
    "    while batch := tuple(islice(it, n)):\n",
    "        yield batch\n",
    "\n",
    "def csv_to_mongo(file, coll):\n",
    "    \"\"\"\n",
    "    Carga un fichero CSV en Mongo. file especifica el fichero, coll la colección\n",
    "    dentro de la base de datos, y date_cols las columnas que serán interpretadas\n",
    "    como fechas.\n",
    "    \"\"\"\n",
    "    # Convertir todos los elementos que se puedan a números\n",
    "    def to_numeric(d):\n",
    "        if len(d) == 0:\n",
    "            return ''\n",
    "        if not ((d[0] >= '0' and d[0] <= '9') or d[0] == '-' or d[0] == '+' or d[0]=='.'):\n",
    "            return str(d)\n",
    "        try:\n",
    "            return int(d)\n",
    "        except ValueError:\n",
    "            try:\n",
    "                return float(d)\n",
    "            except ValueError:\n",
    "                return str(d)\n",
    "\n",
    "    def to_date(d):\n",
    "        \"\"\"To ISO Date. If this cannot be converted, return NULL (None)\"\"\"\n",
    "        try:\n",
    "            return datetime.strptime(d, \"%Y-%m-%dT%H:%M:%S.%f\")\n",
    "        except ValueError:\n",
    "            return None\n",
    "\n",
    "    def to_str(d):\n",
    "        try:\n",
    "          return str(d)\n",
    "        except ValueError:\n",
    "            return None\n",
    "\n",
    "    coll.drop()\n",
    "\n",
    "    with open(file, encoding='utf-8') as f:\n",
    "        # La llamada csv.reader() crea un iterador sobre un fichero CSV\n",
    "        reader = csv.reader(f, dialect='excel')\n",
    "\n",
    "        # Se leen las columnas. Sus nombres se usarán para crear las diferentes columnas en la familia\n",
    "        columns = next(reader)\n",
    "\n",
    "        # Las columnas que contienen 'Date' se interpretan como fechas\n",
    "        func_to_cols = list(map(lambda c: to_date if 'date' in c.lower() else (to_numeric if not 'displayname' in c.lower() else to_str), columns))\n",
    "\n",
    "        for batch in batched(tqdm(reader, desc='Leyendo e insertando filas...'), 10000):\n",
    "            docs = []\n",
    "            for row in batch:\n",
    "                row = [func(e) for (func,e) in zip(func_to_cols, row)]\n",
    "                docs.append(dict(zip(columns,row)))\n",
    "            coll.insert_many(docs)\n",
    "\n",
    "        print(\"¡Hecho!\")"
   ]
  },
  {
   "cell_type": "code",
   "execution_count": 23,
   "id": "ff72382b",
   "metadata": {
    "id": "hUVr0cPGfbp9"
   },
   "outputs": [],
   "source": [
    "csv_to_mongo('Posts.csv',db.posts)"
   ]
  },
  {
   "cell_type": "code",
   "execution_count": 24,
   "id": "3525e704",
   "metadata": {
    "id": "I1JYOx-rfbqJ"
   },
   "outputs": [
    {
     "ename": "ServerSelectionTimeoutError",
     "evalue": "mongo:27017: [Errno -2] Name or service not known (configured timeouts: socketTimeoutMS: 20000.0ms, connectTimeoutMS: 20000.0ms), Timeout: 30s, Topology Description: <TopologyDescription id: 65e0ea8b20d951287e982e28, topology_type: Unknown, servers: [<ServerDescription ('mongo', 27017) server_type: Unknown, rtt: None, error=AutoReconnect('mongo:27017: [Errno -2] Name or service not known (configured timeouts: socketTimeoutMS: 20000.0ms, connectTimeoutMS: 20000.0ms)')>]>",
     "output_type": "error",
     "traceback": [
      "\u001b[0;31m---------------------------------------------------------------------------\u001b[0m",
      "\u001b[0;31mServerSelectionTimeoutError\u001b[0m               Traceback (most recent call last)",
      "Cell \u001b[0;32mIn[24], line 1\u001b[0m\n\u001b[0;32m----> 1\u001b[0m \u001b[43mcsv_to_mongo\u001b[49m\u001b[43m(\u001b[49m\u001b[38;5;124;43m'\u001b[39;49m\u001b[38;5;124;43mUsers.csv\u001b[39;49m\u001b[38;5;124;43m'\u001b[39;49m\u001b[43m,\u001b[49m\u001b[43mdb\u001b[49m\u001b[38;5;241;43m.\u001b[39;49m\u001b[43musers\u001b[49m\u001b[43m)\u001b[49m\n",
      "Cell \u001b[0;32mIn[21], line 46\u001b[0m, in \u001b[0;36mcsv_to_mongo\u001b[0;34m(file, coll)\u001b[0m\n\u001b[1;32m     43\u001b[0m     \u001b[38;5;28;01mexcept\u001b[39;00m \u001b[38;5;167;01mValueError\u001b[39;00m:\n\u001b[1;32m     44\u001b[0m         \u001b[38;5;28;01mreturn\u001b[39;00m \u001b[38;5;28;01mNone\u001b[39;00m\n\u001b[0;32m---> 46\u001b[0m \u001b[43mcoll\u001b[49m\u001b[38;5;241;43m.\u001b[39;49m\u001b[43mdrop\u001b[49m\u001b[43m(\u001b[49m\u001b[43m)\u001b[49m\n\u001b[1;32m     48\u001b[0m \u001b[38;5;28;01mwith\u001b[39;00m \u001b[38;5;28mopen\u001b[39m(file, encoding\u001b[38;5;241m=\u001b[39m\u001b[38;5;124m'\u001b[39m\u001b[38;5;124mutf-8\u001b[39m\u001b[38;5;124m'\u001b[39m) \u001b[38;5;28;01mas\u001b[39;00m f:\n\u001b[1;32m     49\u001b[0m     \u001b[38;5;66;03m# La llamada csv.reader() crea un iterador sobre un fichero CSV\u001b[39;00m\n\u001b[1;32m     50\u001b[0m     reader \u001b[38;5;241m=\u001b[39m csv\u001b[38;5;241m.\u001b[39mreader(f, dialect\u001b[38;5;241m=\u001b[39m\u001b[38;5;124m'\u001b[39m\u001b[38;5;124mexcel\u001b[39m\u001b[38;5;124m'\u001b[39m)\n",
      "File \u001b[0;32m~/.python/current/lib/python3.10/site-packages/pymongo/collection.py:1244\u001b[0m, in \u001b[0;36mCollection.drop\u001b[0;34m(self, session, comment, encrypted_fields)\u001b[0m\n\u001b[1;32m   1210\u001b[0m \u001b[38;5;250m\u001b[39m\u001b[38;5;124;03m\"\"\"Alias for :meth:`~pymongo.database.Database.drop_collection`.\u001b[39;00m\n\u001b[1;32m   1211\u001b[0m \n\u001b[1;32m   1212\u001b[0m \u001b[38;5;124;03m:Parameters:\u001b[39;00m\n\u001b[0;32m   (...)\u001b[0m\n\u001b[1;32m   1235\u001b[0m \u001b[38;5;124;03m   Added ``session`` parameter.\u001b[39;00m\n\u001b[1;32m   1236\u001b[0m \u001b[38;5;124;03m\"\"\"\u001b[39;00m\n\u001b[1;32m   1237\u001b[0m dbo \u001b[38;5;241m=\u001b[39m \u001b[38;5;28mself\u001b[39m\u001b[38;5;241m.\u001b[39m__database\u001b[38;5;241m.\u001b[39mclient\u001b[38;5;241m.\u001b[39mget_database(\n\u001b[1;32m   1238\u001b[0m     \u001b[38;5;28mself\u001b[39m\u001b[38;5;241m.\u001b[39m__database\u001b[38;5;241m.\u001b[39mname,\n\u001b[1;32m   1239\u001b[0m     \u001b[38;5;28mself\u001b[39m\u001b[38;5;241m.\u001b[39mcodec_options,\n\u001b[0;32m   (...)\u001b[0m\n\u001b[1;32m   1242\u001b[0m     \u001b[38;5;28mself\u001b[39m\u001b[38;5;241m.\u001b[39mread_concern,\n\u001b[1;32m   1243\u001b[0m )\n\u001b[0;32m-> 1244\u001b[0m \u001b[43mdbo\u001b[49m\u001b[38;5;241;43m.\u001b[39;49m\u001b[43mdrop_collection\u001b[49m\u001b[43m(\u001b[49m\n\u001b[1;32m   1245\u001b[0m \u001b[43m    \u001b[49m\u001b[38;5;28;43mself\u001b[39;49m\u001b[38;5;241;43m.\u001b[39;49m\u001b[43m__name\u001b[49m\u001b[43m,\u001b[49m\u001b[43m \u001b[49m\u001b[43msession\u001b[49m\u001b[38;5;241;43m=\u001b[39;49m\u001b[43msession\u001b[49m\u001b[43m,\u001b[49m\u001b[43m \u001b[49m\u001b[43mcomment\u001b[49m\u001b[38;5;241;43m=\u001b[39;49m\u001b[43mcomment\u001b[49m\u001b[43m,\u001b[49m\u001b[43m \u001b[49m\u001b[43mencrypted_fields\u001b[49m\u001b[38;5;241;43m=\u001b[39;49m\u001b[43mencrypted_fields\u001b[49m\n\u001b[1;32m   1246\u001b[0m \u001b[43m\u001b[49m\u001b[43m)\u001b[49m\n",
      "File \u001b[0;32m~/.python/current/lib/python3.10/site-packages/pymongo/_csot.py:107\u001b[0m, in \u001b[0;36mapply.<locals>.csot_wrapper\u001b[0;34m(self, *args, **kwargs)\u001b[0m\n\u001b[1;32m    105\u001b[0m         \u001b[38;5;28;01mwith\u001b[39;00m _TimeoutContext(timeout):\n\u001b[1;32m    106\u001b[0m             \u001b[38;5;28;01mreturn\u001b[39;00m func(\u001b[38;5;28mself\u001b[39m, \u001b[38;5;241m*\u001b[39margs, \u001b[38;5;241m*\u001b[39m\u001b[38;5;241m*\u001b[39mkwargs)\n\u001b[0;32m--> 107\u001b[0m \u001b[38;5;28;01mreturn\u001b[39;00m \u001b[43mfunc\u001b[49m\u001b[43m(\u001b[49m\u001b[38;5;28;43mself\u001b[39;49m\u001b[43m,\u001b[49m\u001b[43m \u001b[49m\u001b[38;5;241;43m*\u001b[39;49m\u001b[43margs\u001b[49m\u001b[43m,\u001b[49m\u001b[43m \u001b[49m\u001b[38;5;241;43m*\u001b[39;49m\u001b[38;5;241;43m*\u001b[39;49m\u001b[43mkwargs\u001b[49m\u001b[43m)\u001b[49m\n",
      "File \u001b[0;32m~/.python/current/lib/python3.10/site-packages/pymongo/database.py:1243\u001b[0m, in \u001b[0;36mDatabase.drop_collection\u001b[0;34m(self, name_or_collection, session, comment, encrypted_fields)\u001b[0m\n\u001b[1;32m   1236\u001b[0m     \u001b[38;5;28mself\u001b[39m\u001b[38;5;241m.\u001b[39m_drop_helper(\n\u001b[1;32m   1237\u001b[0m         _esc_coll_name(encrypted_fields, name), session\u001b[38;5;241m=\u001b[39msession, comment\u001b[38;5;241m=\u001b[39mcomment\n\u001b[1;32m   1238\u001b[0m     )\n\u001b[1;32m   1239\u001b[0m     \u001b[38;5;28mself\u001b[39m\u001b[38;5;241m.\u001b[39m_drop_helper(\n\u001b[1;32m   1240\u001b[0m         _ecoc_coll_name(encrypted_fields, name), session\u001b[38;5;241m=\u001b[39msession, comment\u001b[38;5;241m=\u001b[39mcomment\n\u001b[1;32m   1241\u001b[0m     )\n\u001b[0;32m-> 1243\u001b[0m \u001b[38;5;28;01mreturn\u001b[39;00m \u001b[38;5;28;43mself\u001b[39;49m\u001b[38;5;241;43m.\u001b[39;49m\u001b[43m_drop_helper\u001b[49m\u001b[43m(\u001b[49m\u001b[43mname\u001b[49m\u001b[43m,\u001b[49m\u001b[43m \u001b[49m\u001b[43msession\u001b[49m\u001b[43m,\u001b[49m\u001b[43m \u001b[49m\u001b[43mcomment\u001b[49m\u001b[43m)\u001b[49m\n",
      "File \u001b[0;32m~/.python/current/lib/python3.10/site-packages/pymongo/database.py:1156\u001b[0m, in \u001b[0;36mDatabase._drop_helper\u001b[0;34m(self, name, session, comment)\u001b[0m\n\u001b[1;32m   1153\u001b[0m \u001b[38;5;28;01mif\u001b[39;00m comment \u001b[38;5;129;01mis\u001b[39;00m \u001b[38;5;129;01mnot\u001b[39;00m \u001b[38;5;28;01mNone\u001b[39;00m:\n\u001b[1;32m   1154\u001b[0m     command[\u001b[38;5;124m\"\u001b[39m\u001b[38;5;124mcomment\u001b[39m\u001b[38;5;124m\"\u001b[39m] \u001b[38;5;241m=\u001b[39m comment\n\u001b[0;32m-> 1156\u001b[0m \u001b[38;5;28;01mwith\u001b[39;00m \u001b[38;5;28;43mself\u001b[39;49m\u001b[38;5;241;43m.\u001b[39;49m\u001b[43m__client\u001b[49m\u001b[38;5;241;43m.\u001b[39;49m\u001b[43m_conn_for_writes\u001b[49m\u001b[43m(\u001b[49m\u001b[43msession\u001b[49m\u001b[43m)\u001b[49m \u001b[38;5;28;01mas\u001b[39;00m connection:\n\u001b[1;32m   1157\u001b[0m     \u001b[38;5;28;01mreturn\u001b[39;00m \u001b[38;5;28mself\u001b[39m\u001b[38;5;241m.\u001b[39m_command(\n\u001b[1;32m   1158\u001b[0m         connection,\n\u001b[1;32m   1159\u001b[0m         command,\n\u001b[0;32m   (...)\u001b[0m\n\u001b[1;32m   1163\u001b[0m         session\u001b[38;5;241m=\u001b[39msession,\n\u001b[1;32m   1164\u001b[0m     )\n",
      "File \u001b[0;32m~/.python/current/lib/python3.10/site-packages/pymongo/mongo_client.py:1313\u001b[0m, in \u001b[0;36mMongoClient._conn_for_writes\u001b[0;34m(self, session)\u001b[0m\n\u001b[1;32m   1312\u001b[0m \u001b[38;5;28;01mdef\u001b[39;00m \u001b[38;5;21m_conn_for_writes\u001b[39m(\u001b[38;5;28mself\u001b[39m, session: Optional[ClientSession]) \u001b[38;5;241m-\u001b[39m\u001b[38;5;241m>\u001b[39m ContextManager[Connection]:\n\u001b[0;32m-> 1313\u001b[0m     server \u001b[38;5;241m=\u001b[39m \u001b[38;5;28;43mself\u001b[39;49m\u001b[38;5;241;43m.\u001b[39;49m\u001b[43m_select_server\u001b[49m\u001b[43m(\u001b[49m\u001b[43mwritable_server_selector\u001b[49m\u001b[43m,\u001b[49m\u001b[43m \u001b[49m\u001b[43msession\u001b[49m\u001b[43m)\u001b[49m\n\u001b[1;32m   1314\u001b[0m     \u001b[38;5;28;01mreturn\u001b[39;00m \u001b[38;5;28mself\u001b[39m\u001b[38;5;241m.\u001b[39m_checkout(server, session)\n",
      "File \u001b[0;32m~/.python/current/lib/python3.10/site-packages/pymongo/mongo_client.py:1303\u001b[0m, in \u001b[0;36mMongoClient._select_server\u001b[0;34m(self, server_selector, session, address)\u001b[0m\n\u001b[1;32m   1301\u001b[0m             \u001b[38;5;28;01mraise\u001b[39;00m AutoReconnect(\u001b[38;5;124m\"\u001b[39m\u001b[38;5;124mserver \u001b[39m\u001b[38;5;132;01m%s\u001b[39;00m\u001b[38;5;124m:\u001b[39m\u001b[38;5;132;01m%s\u001b[39;00m\u001b[38;5;124m no longer available\u001b[39m\u001b[38;5;124m\"\u001b[39m \u001b[38;5;241m%\u001b[39m address)  \u001b[38;5;66;03m# noqa: UP031\u001b[39;00m\n\u001b[1;32m   1302\u001b[0m     \u001b[38;5;28;01melse\u001b[39;00m:\n\u001b[0;32m-> 1303\u001b[0m         server \u001b[38;5;241m=\u001b[39m \u001b[43mtopology\u001b[49m\u001b[38;5;241;43m.\u001b[39;49m\u001b[43mselect_server\u001b[49m\u001b[43m(\u001b[49m\u001b[43mserver_selector\u001b[49m\u001b[43m)\u001b[49m\n\u001b[1;32m   1304\u001b[0m     \u001b[38;5;28;01mreturn\u001b[39;00m server\n\u001b[1;32m   1305\u001b[0m \u001b[38;5;28;01mexcept\u001b[39;00m PyMongoError \u001b[38;5;28;01mas\u001b[39;00m exc:\n\u001b[1;32m   1306\u001b[0m     \u001b[38;5;66;03m# Server selection errors in a transaction are transient.\u001b[39;00m\n",
      "File \u001b[0;32m~/.python/current/lib/python3.10/site-packages/pymongo/topology.py:302\u001b[0m, in \u001b[0;36mTopology.select_server\u001b[0;34m(self, selector, server_selection_timeout, address)\u001b[0m\n\u001b[1;32m    295\u001b[0m \u001b[38;5;28;01mdef\u001b[39;00m \u001b[38;5;21mselect_server\u001b[39m(\n\u001b[1;32m    296\u001b[0m     \u001b[38;5;28mself\u001b[39m,\n\u001b[1;32m    297\u001b[0m     selector: Callable[[Selection], Selection],\n\u001b[1;32m    298\u001b[0m     server_selection_timeout: Optional[\u001b[38;5;28mfloat\u001b[39m] \u001b[38;5;241m=\u001b[39m \u001b[38;5;28;01mNone\u001b[39;00m,\n\u001b[1;32m    299\u001b[0m     address: Optional[_Address] \u001b[38;5;241m=\u001b[39m \u001b[38;5;28;01mNone\u001b[39;00m,\n\u001b[1;32m    300\u001b[0m ) \u001b[38;5;241m-\u001b[39m\u001b[38;5;241m>\u001b[39m Server:\n\u001b[1;32m    301\u001b[0m \u001b[38;5;250m    \u001b[39m\u001b[38;5;124;03m\"\"\"Like select_servers, but choose a random server if several match.\"\"\"\u001b[39;00m\n\u001b[0;32m--> 302\u001b[0m     server \u001b[38;5;241m=\u001b[39m \u001b[38;5;28;43mself\u001b[39;49m\u001b[38;5;241;43m.\u001b[39;49m\u001b[43m_select_server\u001b[49m\u001b[43m(\u001b[49m\u001b[43mselector\u001b[49m\u001b[43m,\u001b[49m\u001b[43m \u001b[49m\u001b[43mserver_selection_timeout\u001b[49m\u001b[43m,\u001b[49m\u001b[43m \u001b[49m\u001b[43maddress\u001b[49m\u001b[43m)\u001b[49m\n\u001b[1;32m    303\u001b[0m     \u001b[38;5;28;01mif\u001b[39;00m _csot\u001b[38;5;241m.\u001b[39mget_timeout():\n\u001b[1;32m    304\u001b[0m         _csot\u001b[38;5;241m.\u001b[39mset_rtt(server\u001b[38;5;241m.\u001b[39mdescription\u001b[38;5;241m.\u001b[39mmin_round_trip_time)\n",
      "File \u001b[0;32m~/.python/current/lib/python3.10/site-packages/pymongo/topology.py:286\u001b[0m, in \u001b[0;36mTopology._select_server\u001b[0;34m(self, selector, server_selection_timeout, address)\u001b[0m\n\u001b[1;32m    280\u001b[0m \u001b[38;5;28;01mdef\u001b[39;00m \u001b[38;5;21m_select_server\u001b[39m(\n\u001b[1;32m    281\u001b[0m     \u001b[38;5;28mself\u001b[39m,\n\u001b[1;32m    282\u001b[0m     selector: Callable[[Selection], Selection],\n\u001b[1;32m    283\u001b[0m     server_selection_timeout: Optional[\u001b[38;5;28mfloat\u001b[39m] \u001b[38;5;241m=\u001b[39m \u001b[38;5;28;01mNone\u001b[39;00m,\n\u001b[1;32m    284\u001b[0m     address: Optional[_Address] \u001b[38;5;241m=\u001b[39m \u001b[38;5;28;01mNone\u001b[39;00m,\n\u001b[1;32m    285\u001b[0m ) \u001b[38;5;241m-\u001b[39m\u001b[38;5;241m>\u001b[39m Server:\n\u001b[0;32m--> 286\u001b[0m     servers \u001b[38;5;241m=\u001b[39m \u001b[38;5;28;43mself\u001b[39;49m\u001b[38;5;241;43m.\u001b[39;49m\u001b[43mselect_servers\u001b[49m\u001b[43m(\u001b[49m\u001b[43mselector\u001b[49m\u001b[43m,\u001b[49m\u001b[43m \u001b[49m\u001b[43mserver_selection_timeout\u001b[49m\u001b[43m,\u001b[49m\u001b[43m \u001b[49m\u001b[43maddress\u001b[49m\u001b[43m)\u001b[49m\n\u001b[1;32m    287\u001b[0m     \u001b[38;5;28;01mif\u001b[39;00m \u001b[38;5;28mlen\u001b[39m(servers) \u001b[38;5;241m==\u001b[39m \u001b[38;5;241m1\u001b[39m:\n\u001b[1;32m    288\u001b[0m         \u001b[38;5;28;01mreturn\u001b[39;00m servers[\u001b[38;5;241m0\u001b[39m]\n",
      "File \u001b[0;32m~/.python/current/lib/python3.10/site-packages/pymongo/topology.py:237\u001b[0m, in \u001b[0;36mTopology.select_servers\u001b[0;34m(self, selector, server_selection_timeout, address)\u001b[0m\n\u001b[1;32m    234\u001b[0m     server_timeout \u001b[38;5;241m=\u001b[39m server_selection_timeout\n\u001b[1;32m    236\u001b[0m \u001b[38;5;28;01mwith\u001b[39;00m \u001b[38;5;28mself\u001b[39m\u001b[38;5;241m.\u001b[39m_lock:\n\u001b[0;32m--> 237\u001b[0m     server_descriptions \u001b[38;5;241m=\u001b[39m \u001b[38;5;28;43mself\u001b[39;49m\u001b[38;5;241;43m.\u001b[39;49m\u001b[43m_select_servers_loop\u001b[49m\u001b[43m(\u001b[49m\u001b[43mselector\u001b[49m\u001b[43m,\u001b[49m\u001b[43m \u001b[49m\u001b[43mserver_timeout\u001b[49m\u001b[43m,\u001b[49m\u001b[43m \u001b[49m\u001b[43maddress\u001b[49m\u001b[43m)\u001b[49m\n\u001b[1;32m    239\u001b[0m     \u001b[38;5;28;01mreturn\u001b[39;00m [\n\u001b[1;32m    240\u001b[0m         cast(Server, \u001b[38;5;28mself\u001b[39m\u001b[38;5;241m.\u001b[39mget_server_by_address(sd\u001b[38;5;241m.\u001b[39maddress)) \u001b[38;5;28;01mfor\u001b[39;00m sd \u001b[38;5;129;01min\u001b[39;00m server_descriptions\n\u001b[1;32m    241\u001b[0m     ]\n",
      "File \u001b[0;32m~/.python/current/lib/python3.10/site-packages/pymongo/topology.py:259\u001b[0m, in \u001b[0;36mTopology._select_servers_loop\u001b[0;34m(self, selector, timeout, address)\u001b[0m\n\u001b[1;32m    256\u001b[0m \u001b[38;5;28;01mwhile\u001b[39;00m \u001b[38;5;129;01mnot\u001b[39;00m server_descriptions:\n\u001b[1;32m    257\u001b[0m     \u001b[38;5;66;03m# No suitable servers.\u001b[39;00m\n\u001b[1;32m    258\u001b[0m     \u001b[38;5;28;01mif\u001b[39;00m timeout \u001b[38;5;241m==\u001b[39m \u001b[38;5;241m0\u001b[39m \u001b[38;5;129;01mor\u001b[39;00m now \u001b[38;5;241m>\u001b[39m end_time:\n\u001b[0;32m--> 259\u001b[0m         \u001b[38;5;28;01mraise\u001b[39;00m ServerSelectionTimeoutError(\n\u001b[1;32m    260\u001b[0m             \u001b[38;5;124mf\u001b[39m\u001b[38;5;124m\"\u001b[39m\u001b[38;5;132;01m{\u001b[39;00m\u001b[38;5;28mself\u001b[39m\u001b[38;5;241m.\u001b[39m_error_message(selector)\u001b[38;5;132;01m}\u001b[39;00m\u001b[38;5;124m, Timeout: \u001b[39m\u001b[38;5;132;01m{\u001b[39;00mtimeout\u001b[38;5;132;01m}\u001b[39;00m\u001b[38;5;124ms, Topology Description: \u001b[39m\u001b[38;5;132;01m{\u001b[39;00m\u001b[38;5;28mself\u001b[39m\u001b[38;5;241m.\u001b[39mdescription\u001b[38;5;132;01m!r}\u001b[39;00m\u001b[38;5;124m\"\u001b[39m\n\u001b[1;32m    261\u001b[0m         )\n\u001b[1;32m    263\u001b[0m     \u001b[38;5;28mself\u001b[39m\u001b[38;5;241m.\u001b[39m_ensure_opened()\n\u001b[1;32m    264\u001b[0m     \u001b[38;5;28mself\u001b[39m\u001b[38;5;241m.\u001b[39m_request_check_all()\n",
      "\u001b[0;31mServerSelectionTimeoutError\u001b[0m: mongo:27017: [Errno -2] Name or service not known (configured timeouts: socketTimeoutMS: 20000.0ms, connectTimeoutMS: 20000.0ms), Timeout: 30s, Topology Description: <TopologyDescription id: 65e0ea8b20d951287e982e28, topology_type: Unknown, servers: [<ServerDescription ('mongo', 27017) server_type: Unknown, rtt: None, error=AutoReconnect('mongo:27017: [Errno -2] Name or service not known (configured timeouts: socketTimeoutMS: 20000.0ms, connectTimeoutMS: 20000.0ms)')>]>"
     ]
    }
   ],
   "source": [
    "csv_to_mongo('Users.csv',db.users)"
   ]
  },
  {
   "cell_type": "code",
   "execution_count": null,
   "id": "bf16de68",
   "metadata": {
    "id": "SdJsUjREfbqO"
   },
   "outputs": [],
   "source": [
    "csv_to_mongo('Votes.csv',db.votes)"
   ]
  },
  {
   "cell_type": "code",
   "execution_count": null,
   "id": "46fcf9de",
   "metadata": {
    "id": "ev1yW2-8fbqS"
   },
   "outputs": [],
   "source": [
    "csv_to_mongo('Comments.csv',db.comments)"
   ]
  },
  {
   "cell_type": "code",
   "execution_count": null,
   "id": "0088134b",
   "metadata": {
    "id": "fCetnARxfbqX"
   },
   "outputs": [],
   "source": [
    "csv_to_mongo('Tags.csv',db.tags)"
   ]
  },
  {
   "cell_type": "code",
   "execution_count": null,
   "id": "dd7e066e",
   "metadata": {
    "id": "mIWOxATUfbqb"
   },
   "outputs": [],
   "source": [
    "posts.count_documents({})"
   ]
  },
  {
   "cell_type": "markdown",
   "id": "be534de3",
   "metadata": {
    "id": "rwrJSwdffbrI"
   },
   "source": [
    "## Framework de Agregación\n",
    "\n",
    "Framework de agregación:\n",
    "- Aquí está la referencia de las diferentes etapas por las que puede pasar un pipeline: https://www.mongodb.com/docs/manual/reference/operator/aggregation-pipeline/.\n",
    "- Y aquí los distintos operadores que se permiten dentro de las etapas: https://docs.mongodb.com/manual/reference/operator/aggregation/.\n",
    "- Y aquí incluso un libro completo con usos prácticos de ejecutar agregación: https://www.practical-mongodb-aggregations.com/.\n",
    "\n",
    "A continuación un vídeo interseante:"
   ]
  },
  {
   "cell_type": "code",
   "execution_count": null,
   "id": "e51dc993",
   "metadata": {
    "id": "2b3WDt0xA1UY"
   },
   "outputs": [],
   "source": [
    "from IPython.display import YouTubeVideo\n",
    "YouTubeVideo('VSX4a3h4SmQ',width=600)"
   ]
  },
  {
   "cell_type": "markdown",
   "id": "4ce69751",
   "metadata": {
    "id": "mqwkrEXwtdUl"
   },
   "source": [
    "Aqui tenemos un esquema con un ejemplo básico de agregación."
   ]
  },
  {
   "cell_type": "markdown",
   "id": "9d350345",
   "metadata": {
    "id": "2ZpnWj3gA1UY"
   },
   "source": [
    "![](https://miro.medium.com/max/1060/1*2lDBxvZ8Cr3JYkoODTa0lQ.png)"
   ]
  },
  {
   "cell_type": "markdown",
   "id": "b223ee0a",
   "metadata": {
    "id": "gYGp9QX8-9it"
   },
   "source": [
    "## Algunos operadores de agregación\n",
    "\n"
   ]
  },
  {
   "cell_type": "markdown",
   "id": "6c74cba8",
   "metadata": {
    "id": "nKqZOL-DXQi_"
   },
   "source": [
    "### `$match`\n",
    "\n",
    "Este operador permite filtrar los documentos que queremos que pasen a la siguiente fase del pipeline definiendo una serie de condiciones sobre los campos de los mismos.\n",
    "\n",
    "Vamos a filtrar aquellos documentos que tengan un `Score` igual o superior (`$gte`) a 40."
   ]
  },
  {
   "cell_type": "code",
   "execution_count": null,
   "id": "aea0bef0",
   "metadata": {
    "id": "4X6FkyABXl2Q"
   },
   "outputs": [],
   "source": [
    "respuestas = posts.aggregate( [\n",
    "        {'$match': { 'Score' : {'$gte': 40}}}\n",
    "])\n",
    "list(respuestas)"
   ]
  },
  {
   "cell_type": "markdown",
   "id": "33e3c08e",
   "metadata": {
    "id": "WqP4KjgafbrJ"
   },
   "source": [
    "### `$project`\n",
    "\n",
    "El operador `$project`permite filtar qué campos de los documentos queremos usar en la siguientes fases de agregación.\n",
    "\n",
    "Generalmente este operador suele combinarse con otros como `$find`, `$match` o `$lookup` en fases más avanzadas de la agregación.\n",
    "\n",
    "En el siguiente ejemplo, realizamos un filtrado en donde solo nos quedamos con el campo `Id` de los posts."
   ]
  },
  {
   "cell_type": "code",
   "execution_count": null,
   "id": "5ba260cc",
   "metadata": {
    "id": "0HRH68mufbrL"
   },
   "outputs": [],
   "source": [
    "respuestas = db['posts'].aggregate( [\n",
    "    {'$project' : { 'Id' : True }},\n",
    "    {'$limit': 20} ])\n",
    "list(respuestas)"
   ]
  },
  {
   "cell_type": "markdown",
   "id": "e2fcbbbd",
   "metadata": {
    "id": "407NezLD_FTG"
   },
   "source": [
    "### `$lookup`"
   ]
  },
  {
   "cell_type": "markdown",
   "id": "4fbd15ce",
   "metadata": {
    "id": "SXP3qYs7fbrO"
   },
   "source": [
    "El operador `$lookup` permite realizar búsquedas en otras colecciones. Podrían interpretarse como un `join` en el modelo relacional.\n",
    "\n",
    "En el ejemplo siguiente, en primer lugar seleccionamos los posts con un `Score` igual o mayor a 40 con `$match` para a continuación seleccionar los usuarios que han publicado dichos posts incluyendolo en un nuevo campo llamado `owner`."
   ]
  },
  {
   "cell_type": "code",
   "execution_count": null,
   "id": "552c171f",
   "metadata": {
    "id": "iyZg-6TLfbrP",
    "scrolled": true
   },
   "outputs": [],
   "source": [
    "respuestas = posts.aggregate( [\n",
    "        {'$match': { 'Score' : {'$gte': 40}}},\n",
    "        {'$lookup': {\n",
    "            'from': \"users\",\n",
    "            'localField': \"OwnerUserId\",\n",
    "            'foreignField': \"Id\",\n",
    "            'as': \"owner\"}\n",
    "        }\n",
    "        ])\n",
    "list(respuestas)"
   ]
  },
  {
   "cell_type": "markdown",
   "id": "d8dfa0a6",
   "metadata": {
    "id": "Wc14fggBfbrR"
   },
   "source": [
    "### `$arrayElemAt`\n",
    "\n",
    "El `$lookup` genera un _array_ con todos los resultados. El operador `$arrayElementAt` accede al primer elemento."
   ]
  },
  {
   "cell_type": "code",
   "execution_count": null,
   "id": "c742cc79",
   "metadata": {
    "id": "Ge_iO8dHfbrS"
   },
   "outputs": [],
   "source": [
    "respuestas = db.posts.aggregate( [\n",
    "        {'$match': { 'Score' : {'$gte': 40}}},\n",
    "        {'$lookup': {\n",
    "            'from': \"users\",\n",
    "            'localField': \"OwnerUserId\",\n",
    "            'foreignField': \"Id\",\n",
    "            'as': \"owner\"}\n",
    "        },\n",
    "        { '$project' : {\n",
    "            'Id' : True,\n",
    "            'Score' : True,\n",
    "            'username' : {'$arrayElemAt' : ['$owner.DisplayName', 0]},\n",
    "            'owner.DisplayName' : True\n",
    "          }}\n",
    "        ])\n",
    "list(respuestas)"
   ]
  },
  {
   "cell_type": "markdown",
   "id": "63652f58",
   "metadata": {
    "id": "E11XU_bufbrU"
   },
   "source": [
    "### `$unwind`\n",
    "\n",
    "Este operador *desdobla* cada fila por cada elemento del array.\n",
    "\n",
    "Ej: El siguiente código\n",
    "\n",
    "```python\n",
    "db.inventory.insert_one({ \"_id\" : 1, \"item\" : \"ABC1\", \"sizes\": [ \"S\", \"M\", \"L\"] })\n",
    "db.inventory.aggregate( [ { \"$unwind\" : \"$sizes\" } ] )\n",
    "```\n",
    "\n",
    "Devolverá:\n",
    "\n",
    "```json\n",
    "{ \"_id\" : 1, \"item\" : \"ABC1\", \"sizes\" : \"S\" }\n",
    "{ \"_id\" : 1, \"item\" : \"ABC1\", \"sizes\" : \"M\" }\n",
    "{ \"_id\" : 1, \"item\" : \"ABC1\", \"sizes\" : \"L\" }\n",
    "```\n",
    "\n",
    "En el ejemplo de procesamiento de posts que estamos llevando acabo, como sabemos que el array `$owner`sólo contiene un elemento, sólo habrá una fila por fila original, pero sin el _array_. Finalmente se puede proyectar el campo que se quiera. En este caso el `ownerDisplayName` que es proyectado (renombrado) como `username`."
   ]
  },
  {
   "cell_type": "code",
   "execution_count": null,
   "id": "bed9ee9a",
   "metadata": {
    "id": "EphHDIKyfbrU"
   },
   "outputs": [],
   "source": [
    "respuestas = db.posts.aggregate( [\n",
    "        { '$match': { 'Score' : {'$gte': 40}}},\n",
    "        { '$lookup': {\n",
    "            'from': \"users\",\n",
    "            'localField': \"OwnerUserId\",\n",
    "            'foreignField': \"Id\",\n",
    "            'as': \"owner\"\n",
    "          }\n",
    "        },\n",
    "        { '$unwind': '$owner'},\n",
    "        { '$project' : {\n",
    "             'username': '$owner.DisplayName'\n",
    "          }\n",
    "        }\n",
    "        ])\n",
    "list(respuestas)"
   ]
  },
  {
   "cell_type": "markdown",
   "id": "24287610",
   "metadata": {
    "id": "T_ry--5igaTT"
   },
   "source": [
    "### `$push`\n",
    "\n",
    "Devuelve un array con *todos* los valores que resultan de aplicar una determinada expresión a los documentos que forman parte del pipeline.\n",
    "\n",
    "Obtener el listado con el identificador de `Posts` (`Id`) asociados a cada valor de `Score`."
   ]
  },
  {
   "cell_type": "code",
   "execution_count": null,
   "id": "a7977c56",
   "metadata": {
    "id": "6VXq15pWg10w"
   },
   "outputs": [],
   "source": [
    "posts_by_score= db.posts.aggregate([\n",
    "    {\n",
    "        '$group':{\n",
    "            '_id': '$Score',\n",
    "            'posts':{\n",
    "                '$push': {\n",
    "                    'post': '$Id'\n",
    "                }\n",
    "            }\n",
    "        }\n",
    "    }\n",
    "\n",
    "])\n",
    "list(posts_by_score)"
   ]
  },
  {
   "cell_type": "markdown",
   "id": "920bf6cf",
   "metadata": {
    "id": "m9Y9N189UQdh"
   },
   "source": [
    "### `$addToSet`\n",
    "\n",
    " Devuelve un array de todos los valores únicos que resultan de aplicar una expresión a cada documento de un grupo.\n",
    "\n",
    "\n",
    "Vamos a obtener el listado de `Tags` asociadas a cada tipo de licencia  `ContentLicense`."
   ]
  },
  {
   "cell_type": "code",
   "execution_count": null,
   "id": "c6b4c266",
   "metadata": {
    "id": "qXr2W9DBU5ZX"
   },
   "outputs": [],
   "source": [
    "license_and_tags= db.posts.aggregate([\n",
    "            { \"$match\" : {\"PostTypeId\": 1}},\n",
    "            {\"$limit\": 10},\n",
    "\n",
    "             {'$group':{\n",
    "                             '_id':'$ContentLicense',\n",
    "                             'AllTags': { '$addToSet': \"$Tags\" }\n",
    "            }}\n",
    "\n",
    "            ]\n",
    ")\n",
    "list(license_and_tags)"
   ]
  },
  {
   "cell_type": "markdown",
   "id": "dcd6223b",
   "metadata": {
    "id": "NYBaAthTkluP"
   },
   "source": [
    "### `$out`\n",
    "\n",
    "Este comando permite volcar el ersulado de un pipeline de agregación en una nueva colección en la base de datos."
   ]
  },
  {
   "cell_type": "code",
   "execution_count": null,
   "id": "e9bf9e36",
   "metadata": {
    "id": "_VntMZJWkQbr"
   },
   "outputs": [],
   "source": [
    "respuestas = db.posts.aggregate( [\n",
    "        { '$match': { 'Score' : {'$gte': 40}}},\n",
    "        { '$lookup': {\n",
    "            'from': \"users\",\n",
    "            'localField': \"OwnerUserId\",\n",
    "            'foreignField': \"Id\",\n",
    "            'as': \"owner\"\n",
    "          }\n",
    "        },\n",
    "        { '$unwind': '$owner'},\n",
    "        { '$project' : {\n",
    "             'username': '$owner.DisplayName'\n",
    "          }\n",
    "        },\n",
    "        {'$out': \"stackoverflow_users\"}\n",
    "        ])"
   ]
  },
  {
   "cell_type": "code",
   "execution_count": null,
   "id": "d600be27",
   "metadata": {
    "id": "oXoZUP9srDNo"
   },
   "outputs": [],
   "source": [
    "db.stackoverflow_users.count_documents({})"
   ]
  },
  {
   "cell_type": "markdown",
   "id": "af356307",
   "metadata": {
    "id": "fKjov58w_F2Q"
   },
   "source": [
    "## Ejemplos básicos de agregación"
   ]
  },
  {
   "cell_type": "markdown",
   "id": "b047cba2",
   "metadata": {
    "id": "YxgjyCnH_OVx"
   },
   "source": [
    "### Ejemplo 1: Asociación usuarios con Tags\n",
    "\n",
    "Con Agregación, vamos a construir una colección que asocia un usuario con los tags que ha usado en todas sus preguntas.\n",
    "\n",
    "*Por cuestiones de rendimiento vamos a limitar la agregación a 50 elementos.*"
   ]
  },
  {
   "cell_type": "code",
   "execution_count": null,
   "id": "dd02687d",
   "metadata": {
    "id": "ejQ2ja8iFBf2"
   },
   "outputs": [],
   "source": [
    "user_tags= db.posts.aggregate( [\n",
    "        { \"$match\" : {\"PostTypeId\": 1}},\n",
    "\n",
    "        {\"$limit\": 50},\n",
    "\n",
    "        { '$lookup': {\n",
    "            'from': \"users\",\n",
    "            'localField': \"OwnerUserId\",\n",
    "            'foreignField': \"Id\",\n",
    "            'as': \"owner\"\n",
    "          }\n",
    "        },\n",
    "\n",
    "        {'$project':{\n",
    "            'Tags': True,\n",
    "            'userid' : {'$arrayElemAt' : ['$owner.Id', 0]},\n",
    "        }},\n",
    "\n",
    "        {'$group':{\n",
    "            '_id':'$userid',\n",
    "            'AllTags': { '$addToSet': \"$Tags\" }\n",
    "        }}\n",
    "]\n",
    ")\n",
    "\n",
    "user_tags_lst= list(user_tags)\n",
    "user_tags_lst"
   ]
  },
  {
   "cell_type": "markdown",
   "id": "ae4f8f80",
   "metadata": {
    "id": "poeXtntpTCTi"
   },
   "source": [
    "### Ejemplo 2: Asociación Tags con usuarios\n",
    "\n",
    "Ahora, dado un ID de tag, qué usuarios han hecho preguntas de ese tag.\n",
    "\n",
    "*De nuevo limitamos la búsqueda a 50 documentos*"
   ]
  },
  {
   "cell_type": "code",
   "execution_count": null,
   "id": "fb2cccdc",
   "metadata": {
    "id": "UYCKqL1cTBAp"
   },
   "outputs": [],
   "source": [
    "tags_users= db.posts.aggregate( [\n",
    "        { \"$match\" : {\"PostTypeId\": 1}},\n",
    "\n",
    "        {\"$limit\": 50},\n",
    "\n",
    "        { '$lookup': {\n",
    "            'from': \"users\",\n",
    "            'localField': \"OwnerUserId\",\n",
    "            'foreignField': \"Id\",\n",
    "            'as': \"owner\"\n",
    "          }\n",
    "        },\n",
    "\n",
    "        {'$project':{\n",
    "            'Tags': True,\n",
    "            'userid' : {'$arrayElemAt' : ['$owner.Id', 0]},\n",
    "        }},\n",
    "\n",
    "        {'$group':{\n",
    "            '_id':'$Tags',\n",
    "            'AllUsers': { '$addToSet': \"$userid\" }\n",
    "        }}\n",
    "]\n",
    ")\n",
    "\n",
    "tags_users_lst= list(tags_users)\n",
    "tags_users_lst"
   ]
  },
  {
   "cell_type": "markdown",
   "id": "1643792b",
   "metadata": {
    "id": "9i4Qn8dK-7LZ"
   },
   "source": [
    "## Ejercicios"
   ]
  },
  {
   "cell_type": "markdown",
   "id": "f2671ff4",
   "metadata": {
    "id": "AyraSfLVSyAV"
   },
   "source": [
    "### EJ1: Obtener un una colección de documentos *verbosos* en donde se indique el texto `Body` de una pregunta así como el nombre del usuario que la formuló (`DisplayName`)"
   ]
  },
  {
   "cell_type": "code",
   "execution_count": null,
   "id": "23822e1e",
   "metadata": {},
   "outputs": [],
   "source": []
  },
  {
   "cell_type": "markdown",
   "id": "ba889f78",
   "metadata": {
    "id": "B6gJBt55Toc8"
   },
   "source": [
    "### EJ2: Obtener las respuestas escritas en el mes de Enero de 2022 con un `Score` superior a 3"
   ]
  },
  {
   "cell_type": "code",
   "execution_count": null,
   "id": "e2a30406",
   "metadata": {
    "id": "Tk60YlYeYspQ"
   },
   "outputs": [],
   "source": [
    "print(\"Eso es todo amigos!\")"
   ]
  }
 ],
 "metadata": {
  "colab": {
   "provenance": []
  },
  "kernelspec": {
   "display_name": "Python 3 (ipykernel)",
   "language": "python",
   "name": "python3"
  },
  "language_info": {
   "codemirror_mode": {
    "name": "ipython",
    "version": 3
   },
   "file_extension": ".py",
   "mimetype": "text/x-python",
   "name": "python",
   "nbconvert_exporter": "python",
   "pygments_lexer": "ipython3",
   "version": "3.10.13"
  }
 },
 "nbformat": 4,
 "nbformat_minor": 5
}
