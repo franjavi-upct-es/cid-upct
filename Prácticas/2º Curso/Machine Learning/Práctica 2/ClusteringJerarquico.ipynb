{
  "cells": [
    {
      "cell_type": "markdown",
      "id": "fd959e54-a507-4ce1-a477-f4b72b91d564",
      "metadata": {
        "id": "fd959e54-a507-4ce1-a477-f4b72b91d564"
      },
      "source": [
        "# Clustering Jerárquico\n",
        "\n",
        "## Machine Learning. Grado en Ciencia de datos"
      ]
    },
    {
      "cell_type": "code",
      "execution_count": 2,
      "id": "1b539d23-f7e0-43bb-9aa8-26001b473503",
      "metadata": {
        "id": "1b539d23-f7e0-43bb-9aa8-26001b473503"
      },
      "outputs": [],
      "source": [
        "import pandas as pd\n",
        "import matplotlib.pyplot as plt\n",
        "import numpy as np\n",
        "import sklearn.metrics as metrics\n",
        "from sklearn.preprocessing import StandardScaler\n",
        "from scipy.cluster import hierarchy\n",
        "from sklearn.cluster import AgglomerativeClustering\n",
        "\n",
        "\n",
        "%matplotlib inline"
      ]
    },
    {
      "cell_type": "markdown",
      "id": "c809d8e1-fa8a-43ba-9717-6552a02b1f2d",
      "metadata": {
        "id": "c809d8e1-fa8a-43ba-9717-6552a02b1f2d"
      },
      "source": [
        "### El conjunto de datos"
      ]
    },
    {
      "cell_type": "markdown",
      "id": "4c5fd1b4-4301-400d-ab99-bf2d5bf2409c",
      "metadata": {
        "id": "4c5fd1b4-4301-400d-ab99-bf2d5bf2409c"
      },
      "source": [
        "Los datos sobre los que vamos a trabajar se basan en el conjunto de datos `protein`. Después de examinar los datos, vemos que los datos están separados por un tabulador y que los nombres de los países están en la primera columna. Para cargarlos debemos ejecutar la siguiente instrucción, en la que le indicamos el carácter de separación y que el nombre del país va a ser el índice del data frame."
      ]
    },
    {
      "cell_type": "code",
      "execution_count": 3,
      "id": "d79a14c5-4b7d-4f11-a956-f5ce4fba9101",
      "metadata": {
        "id": "d79a14c5-4b7d-4f11-a956-f5ce4fba9101"
      },
      "outputs": [],
      "source": [
        "proteindata = pd.read_csv('Datos/proteindata.txt', sep='\\t', index_col=0)"
      ]
    },
    {
      "cell_type": "markdown",
      "id": "234d3da9-9c08-4dfc-b408-d42946dce4dc",
      "metadata": {
        "id": "234d3da9-9c08-4dfc-b408-d42946dce4dc"
      },
      "source": [
        "Vamos a examinar los datos para ver si se han leido correctamente"
      ]
    },
    {
      "cell_type": "code",
      "execution_count": 4,
      "id": "e225e94f-8896-4e71-8748-b9e1690a0577",
      "metadata": {
        "id": "e225e94f-8896-4e71-8748-b9e1690a0577",
        "outputId": "339332f4-efa0-4283-fc0d-3a707c95602d"
      },
      "outputs": [
        {
          "data": {
            "text/html": [
              "<div>\n",
              "<style scoped>\n",
              "    .dataframe tbody tr th:only-of-type {\n",
              "        vertical-align: middle;\n",
              "    }\n",
              "\n",
              "    .dataframe tbody tr th {\n",
              "        vertical-align: top;\n",
              "    }\n",
              "\n",
              "    .dataframe thead th {\n",
              "        text-align: right;\n",
              "    }\n",
              "</style>\n",
              "<table border=\"1\" class=\"dataframe\">\n",
              "  <thead>\n",
              "    <tr style=\"text-align: right;\">\n",
              "      <th></th>\n",
              "      <th>RedMeat</th>\n",
              "      <th>WhiteMeat</th>\n",
              "      <th>Eggs</th>\n",
              "      <th>Milk</th>\n",
              "      <th>Fish</th>\n",
              "      <th>Cereals</th>\n",
              "      <th>Starch</th>\n",
              "      <th>Nuts</th>\n",
              "      <th>FruitVeg</th>\n",
              "    </tr>\n",
              "    <tr>\n",
              "      <th>Country</th>\n",
              "      <th></th>\n",
              "      <th></th>\n",
              "      <th></th>\n",
              "      <th></th>\n",
              "      <th></th>\n",
              "      <th></th>\n",
              "      <th></th>\n",
              "      <th></th>\n",
              "      <th></th>\n",
              "    </tr>\n",
              "  </thead>\n",
              "  <tbody>\n",
              "    <tr>\n",
              "      <th>Albania</th>\n",
              "      <td>10.1</td>\n",
              "      <td>1.4</td>\n",
              "      <td>0.5</td>\n",
              "      <td>8.9</td>\n",
              "      <td>0.2</td>\n",
              "      <td>42.3</td>\n",
              "      <td>0.6</td>\n",
              "      <td>5.5</td>\n",
              "      <td>1.7</td>\n",
              "    </tr>\n",
              "    <tr>\n",
              "      <th>Austria</th>\n",
              "      <td>8.9</td>\n",
              "      <td>14.0</td>\n",
              "      <td>4.3</td>\n",
              "      <td>19.9</td>\n",
              "      <td>2.1</td>\n",
              "      <td>28.0</td>\n",
              "      <td>3.6</td>\n",
              "      <td>1.3</td>\n",
              "      <td>4.3</td>\n",
              "    </tr>\n",
              "    <tr>\n",
              "      <th>Belgium</th>\n",
              "      <td>13.5</td>\n",
              "      <td>9.3</td>\n",
              "      <td>4.1</td>\n",
              "      <td>17.5</td>\n",
              "      <td>4.5</td>\n",
              "      <td>26.6</td>\n",
              "      <td>5.7</td>\n",
              "      <td>2.1</td>\n",
              "      <td>4.0</td>\n",
              "    </tr>\n",
              "    <tr>\n",
              "      <th>Bulgaria</th>\n",
              "      <td>7.8</td>\n",
              "      <td>6.0</td>\n",
              "      <td>1.6</td>\n",
              "      <td>8.3</td>\n",
              "      <td>1.2</td>\n",
              "      <td>56.7</td>\n",
              "      <td>1.1</td>\n",
              "      <td>3.7</td>\n",
              "      <td>4.2</td>\n",
              "    </tr>\n",
              "    <tr>\n",
              "      <th>Czechosl.</th>\n",
              "      <td>9.7</td>\n",
              "      <td>11.4</td>\n",
              "      <td>2.8</td>\n",
              "      <td>12.5</td>\n",
              "      <td>2.0</td>\n",
              "      <td>34.3</td>\n",
              "      <td>5.0</td>\n",
              "      <td>1.1</td>\n",
              "      <td>4.0</td>\n",
              "    </tr>\n",
              "    <tr>\n",
              "      <th>Denmark</th>\n",
              "      <td>10.6</td>\n",
              "      <td>10.8</td>\n",
              "      <td>3.7</td>\n",
              "      <td>25.0</td>\n",
              "      <td>9.9</td>\n",
              "      <td>21.9</td>\n",
              "      <td>4.8</td>\n",
              "      <td>0.7</td>\n",
              "      <td>2.4</td>\n",
              "    </tr>\n",
              "    <tr>\n",
              "      <th>EGermany</th>\n",
              "      <td>8.4</td>\n",
              "      <td>11.6</td>\n",
              "      <td>3.7</td>\n",
              "      <td>11.1</td>\n",
              "      <td>5.4</td>\n",
              "      <td>24.6</td>\n",
              "      <td>6.5</td>\n",
              "      <td>0.8</td>\n",
              "      <td>3.6</td>\n",
              "    </tr>\n",
              "    <tr>\n",
              "      <th>Finland</th>\n",
              "      <td>9.5</td>\n",
              "      <td>4.9</td>\n",
              "      <td>2.7</td>\n",
              "      <td>33.7</td>\n",
              "      <td>5.8</td>\n",
              "      <td>26.3</td>\n",
              "      <td>5.1</td>\n",
              "      <td>1.0</td>\n",
              "      <td>1.4</td>\n",
              "    </tr>\n",
              "    <tr>\n",
              "      <th>France</th>\n",
              "      <td>18.0</td>\n",
              "      <td>9.9</td>\n",
              "      <td>3.3</td>\n",
              "      <td>19.5</td>\n",
              "      <td>5.7</td>\n",
              "      <td>28.1</td>\n",
              "      <td>4.8</td>\n",
              "      <td>2.4</td>\n",
              "      <td>6.5</td>\n",
              "    </tr>\n",
              "    <tr>\n",
              "      <th>Greece</th>\n",
              "      <td>10.2</td>\n",
              "      <td>3.0</td>\n",
              "      <td>2.8</td>\n",
              "      <td>17.6</td>\n",
              "      <td>5.9</td>\n",
              "      <td>41.7</td>\n",
              "      <td>2.2</td>\n",
              "      <td>7.8</td>\n",
              "      <td>6.5</td>\n",
              "    </tr>\n",
              "    <tr>\n",
              "      <th>Hungary</th>\n",
              "      <td>5.3</td>\n",
              "      <td>12.4</td>\n",
              "      <td>2.9</td>\n",
              "      <td>9.7</td>\n",
              "      <td>0.3</td>\n",
              "      <td>40.1</td>\n",
              "      <td>4.0</td>\n",
              "      <td>5.4</td>\n",
              "      <td>4.2</td>\n",
              "    </tr>\n",
              "    <tr>\n",
              "      <th>Ireland</th>\n",
              "      <td>13.9</td>\n",
              "      <td>10.0</td>\n",
              "      <td>4.7</td>\n",
              "      <td>25.8</td>\n",
              "      <td>2.2</td>\n",
              "      <td>24.0</td>\n",
              "      <td>6.2</td>\n",
              "      <td>1.6</td>\n",
              "      <td>2.9</td>\n",
              "    </tr>\n",
              "    <tr>\n",
              "      <th>Italy</th>\n",
              "      <td>9.0</td>\n",
              "      <td>5.1</td>\n",
              "      <td>2.9</td>\n",
              "      <td>13.7</td>\n",
              "      <td>3.4</td>\n",
              "      <td>36.8</td>\n",
              "      <td>2.1</td>\n",
              "      <td>4.3</td>\n",
              "      <td>6.7</td>\n",
              "    </tr>\n",
              "    <tr>\n",
              "      <th>Netherl.</th>\n",
              "      <td>9.5</td>\n",
              "      <td>13.6</td>\n",
              "      <td>3.6</td>\n",
              "      <td>23.4</td>\n",
              "      <td>2.5</td>\n",
              "      <td>22.4</td>\n",
              "      <td>4.2</td>\n",
              "      <td>1.8</td>\n",
              "      <td>3.7</td>\n",
              "    </tr>\n",
              "    <tr>\n",
              "      <th>Norway</th>\n",
              "      <td>9.4</td>\n",
              "      <td>4.7</td>\n",
              "      <td>2.7</td>\n",
              "      <td>23.3</td>\n",
              "      <td>9.7</td>\n",
              "      <td>23.0</td>\n",
              "      <td>4.6</td>\n",
              "      <td>1.6</td>\n",
              "      <td>2.7</td>\n",
              "    </tr>\n",
              "    <tr>\n",
              "      <th>Poland</th>\n",
              "      <td>6.9</td>\n",
              "      <td>10.2</td>\n",
              "      <td>2.7</td>\n",
              "      <td>19.3</td>\n",
              "      <td>3.0</td>\n",
              "      <td>36.1</td>\n",
              "      <td>5.9</td>\n",
              "      <td>2.0</td>\n",
              "      <td>6.6</td>\n",
              "    </tr>\n",
              "    <tr>\n",
              "      <th>Portugal</th>\n",
              "      <td>6.2</td>\n",
              "      <td>3.7</td>\n",
              "      <td>1.1</td>\n",
              "      <td>4.9</td>\n",
              "      <td>14.2</td>\n",
              "      <td>27.0</td>\n",
              "      <td>5.9</td>\n",
              "      <td>4.7</td>\n",
              "      <td>7.9</td>\n",
              "    </tr>\n",
              "    <tr>\n",
              "      <th>Romania</th>\n",
              "      <td>6.2</td>\n",
              "      <td>6.3</td>\n",
              "      <td>1.5</td>\n",
              "      <td>11.1</td>\n",
              "      <td>1.0</td>\n",
              "      <td>49.6</td>\n",
              "      <td>3.1</td>\n",
              "      <td>5.3</td>\n",
              "      <td>2.8</td>\n",
              "    </tr>\n",
              "    <tr>\n",
              "      <th>Spain</th>\n",
              "      <td>7.1</td>\n",
              "      <td>3.4</td>\n",
              "      <td>3.1</td>\n",
              "      <td>8.6</td>\n",
              "      <td>7.0</td>\n",
              "      <td>29.2</td>\n",
              "      <td>5.7</td>\n",
              "      <td>5.9</td>\n",
              "      <td>7.2</td>\n",
              "    </tr>\n",
              "    <tr>\n",
              "      <th>Sweden</th>\n",
              "      <td>9.9</td>\n",
              "      <td>7.8</td>\n",
              "      <td>3.5</td>\n",
              "      <td>24.7</td>\n",
              "      <td>7.5</td>\n",
              "      <td>19.5</td>\n",
              "      <td>3.7</td>\n",
              "      <td>1.4</td>\n",
              "      <td>2.0</td>\n",
              "    </tr>\n",
              "    <tr>\n",
              "      <th>Switzerl.</th>\n",
              "      <td>13.1</td>\n",
              "      <td>10.1</td>\n",
              "      <td>3.1</td>\n",
              "      <td>23.8</td>\n",
              "      <td>2.3</td>\n",
              "      <td>25.6</td>\n",
              "      <td>2.8</td>\n",
              "      <td>2.4</td>\n",
              "      <td>4.9</td>\n",
              "    </tr>\n",
              "    <tr>\n",
              "      <th>UK</th>\n",
              "      <td>17.4</td>\n",
              "      <td>5.7</td>\n",
              "      <td>4.7</td>\n",
              "      <td>20.6</td>\n",
              "      <td>4.3</td>\n",
              "      <td>24.3</td>\n",
              "      <td>4.7</td>\n",
              "      <td>3.4</td>\n",
              "      <td>3.3</td>\n",
              "    </tr>\n",
              "    <tr>\n",
              "      <th>USSR</th>\n",
              "      <td>9.3</td>\n",
              "      <td>4.6</td>\n",
              "      <td>2.1</td>\n",
              "      <td>16.6</td>\n",
              "      <td>3.0</td>\n",
              "      <td>43.6</td>\n",
              "      <td>6.4</td>\n",
              "      <td>3.4</td>\n",
              "      <td>2.9</td>\n",
              "    </tr>\n",
              "    <tr>\n",
              "      <th>WGermany</th>\n",
              "      <td>11.4</td>\n",
              "      <td>12.5</td>\n",
              "      <td>4.1</td>\n",
              "      <td>18.8</td>\n",
              "      <td>3.4</td>\n",
              "      <td>18.6</td>\n",
              "      <td>5.2</td>\n",
              "      <td>1.5</td>\n",
              "      <td>3.8</td>\n",
              "    </tr>\n",
              "    <tr>\n",
              "      <th>Yugosl.</th>\n",
              "      <td>4.4</td>\n",
              "      <td>5.0</td>\n",
              "      <td>1.2</td>\n",
              "      <td>9.5</td>\n",
              "      <td>0.6</td>\n",
              "      <td>55.9</td>\n",
              "      <td>3.0</td>\n",
              "      <td>5.7</td>\n",
              "      <td>3.2</td>\n",
              "    </tr>\n",
              "  </tbody>\n",
              "</table>\n",
              "</div>"
            ],
            "text/plain": [
              "           RedMeat  WhiteMeat  Eggs  Milk  Fish  Cereals  Starch  Nuts  \\\n",
              "Country                                                                  \n",
              "Albania       10.1        1.4   0.5   8.9   0.2     42.3     0.6   5.5   \n",
              "Austria        8.9       14.0   4.3  19.9   2.1     28.0     3.6   1.3   \n",
              "Belgium       13.5        9.3   4.1  17.5   4.5     26.6     5.7   2.1   \n",
              "Bulgaria       7.8        6.0   1.6   8.3   1.2     56.7     1.1   3.7   \n",
              "Czechosl.      9.7       11.4   2.8  12.5   2.0     34.3     5.0   1.1   \n",
              "Denmark       10.6       10.8   3.7  25.0   9.9     21.9     4.8   0.7   \n",
              "EGermany       8.4       11.6   3.7  11.1   5.4     24.6     6.5   0.8   \n",
              "Finland        9.5        4.9   2.7  33.7   5.8     26.3     5.1   1.0   \n",
              "France        18.0        9.9   3.3  19.5   5.7     28.1     4.8   2.4   \n",
              "Greece        10.2        3.0   2.8  17.6   5.9     41.7     2.2   7.8   \n",
              "Hungary        5.3       12.4   2.9   9.7   0.3     40.1     4.0   5.4   \n",
              "Ireland       13.9       10.0   4.7  25.8   2.2     24.0     6.2   1.6   \n",
              "Italy          9.0        5.1   2.9  13.7   3.4     36.8     2.1   4.3   \n",
              "Netherl.       9.5       13.6   3.6  23.4   2.5     22.4     4.2   1.8   \n",
              "Norway         9.4        4.7   2.7  23.3   9.7     23.0     4.6   1.6   \n",
              "Poland         6.9       10.2   2.7  19.3   3.0     36.1     5.9   2.0   \n",
              "Portugal       6.2        3.7   1.1   4.9  14.2     27.0     5.9   4.7   \n",
              "Romania        6.2        6.3   1.5  11.1   1.0     49.6     3.1   5.3   \n",
              "Spain          7.1        3.4   3.1   8.6   7.0     29.2     5.7   5.9   \n",
              "Sweden         9.9        7.8   3.5  24.7   7.5     19.5     3.7   1.4   \n",
              "Switzerl.     13.1       10.1   3.1  23.8   2.3     25.6     2.8   2.4   \n",
              "UK            17.4        5.7   4.7  20.6   4.3     24.3     4.7   3.4   \n",
              "USSR           9.3        4.6   2.1  16.6   3.0     43.6     6.4   3.4   \n",
              "WGermany      11.4       12.5   4.1  18.8   3.4     18.6     5.2   1.5   \n",
              "Yugosl.        4.4        5.0   1.2   9.5   0.6     55.9     3.0   5.7   \n",
              "\n",
              "           FruitVeg  \n",
              "Country              \n",
              "Albania         1.7  \n",
              "Austria         4.3  \n",
              "Belgium         4.0  \n",
              "Bulgaria        4.2  \n",
              "Czechosl.       4.0  \n",
              "Denmark         2.4  \n",
              "EGermany        3.6  \n",
              "Finland         1.4  \n",
              "France          6.5  \n",
              "Greece          6.5  \n",
              "Hungary         4.2  \n",
              "Ireland         2.9  \n",
              "Italy           6.7  \n",
              "Netherl.        3.7  \n",
              "Norway          2.7  \n",
              "Poland          6.6  \n",
              "Portugal        7.9  \n",
              "Romania         2.8  \n",
              "Spain           7.2  \n",
              "Sweden          2.0  \n",
              "Switzerl.       4.9  \n",
              "UK              3.3  \n",
              "USSR            2.9  \n",
              "WGermany        3.8  \n",
              "Yugosl.         3.2  "
            ]
          },
          "execution_count": 4,
          "metadata": {},
          "output_type": "execute_result"
        }
      ],
      "source": [
        "proteindata"
      ]
    },
    {
      "cell_type": "markdown",
      "id": "5898ad1f-8301-4cea-9175-d78d3a1f9f89",
      "metadata": {
        "id": "5898ad1f-8301-4cea-9175-d78d3a1f9f89"
      },
      "source": [
        "Aparentemente, todos los datos han sido leídos correctamente. Sin embargo, nos queda por comprobar si los tipos asignados son los adecuados."
      ]
    },
    {
      "cell_type": "code",
      "execution_count": 5,
      "id": "627641dd-6afc-4715-9b00-4f9e90ecf058",
      "metadata": {
        "id": "627641dd-6afc-4715-9b00-4f9e90ecf058",
        "outputId": "876fa3dd-7596-4b79-e3b8-a361c7e19957"
      },
      "outputs": [
        {
          "name": "stdout",
          "output_type": "stream",
          "text": [
            "<class 'pandas.core.frame.DataFrame'>\n",
            "Index: 25 entries, Albania to Yugosl.\n",
            "Data columns (total 9 columns):\n",
            " #   Column     Non-Null Count  Dtype  \n",
            "---  ------     --------------  -----  \n",
            " 0   RedMeat    25 non-null     float64\n",
            " 1   WhiteMeat  25 non-null     float64\n",
            " 2   Eggs       25 non-null     float64\n",
            " 3   Milk       25 non-null     float64\n",
            " 4   Fish       25 non-null     float64\n",
            " 5   Cereals    25 non-null     float64\n",
            " 6   Starch     25 non-null     float64\n",
            " 7   Nuts       25 non-null     float64\n",
            " 8   FruitVeg   25 non-null     float64\n",
            "dtypes: float64(9)\n",
            "memory usage: 2.0+ KB\n"
          ]
        }
      ],
      "source": [
        "proteindata.info()"
      ]
    },
    {
      "cell_type": "markdown",
      "id": "802e18de-fdc4-41a8-b24c-630567aa5d09",
      "metadata": {
        "id": "802e18de-fdc4-41a8-b24c-630567aa5d09"
      },
      "source": [
        "Una vez comprobado que hemos leído correctamente los datos, tenemos que comprobar cómo están distribuidos los datos, para ver si es necesario una estandarización de los mismos. Para ello podemos realizar un gráfico de barras."
      ]
    },
    {
      "cell_type": "code",
      "execution_count": 6,
      "id": "18e6f075-5026-43ee-ad76-46a31a090127",
      "metadata": {
        "id": "18e6f075-5026-43ee-ad76-46a31a090127",
        "outputId": "10f08af0-ce1a-4ea5-cad3-da8a7533ab23"
      },
      "outputs": [
        {
          "data": {
            "text/plain": [
              "<Axes: >"
            ]
          },
          "execution_count": 6,
          "metadata": {},
          "output_type": "execute_result"
        },
        {
          "data": {
            "image/png": "[encoded data removed]",
            "text/plain": [
              "<Figure size 640x480 with 1 Axes>"
            ]
          },
          "metadata": {},
          "output_type": "display_data"
        }
      ],
      "source": [
        "proteindata.boxplot(grid=False, vert=False)"
      ]
    },
    {
      "cell_type": "markdown",
      "id": "aaf50048-ee08-4f2c-b082-85baef5c1063",
      "metadata": {
        "id": "aaf50048-ee08-4f2c-b082-85baef5c1063"
      },
      "source": [
        "Como se puede apreciar es necesario que transformar los datos para que estos estén en la misma escala y los podamos comparar."
      ]
    },
    {
      "cell_type": "code",
      "execution_count": 7,
      "id": "ca8097dd-f5a3-475e-87c5-6c99d3afe282",
      "metadata": {
        "id": "ca8097dd-f5a3-475e-87c5-6c99d3afe282"
      },
      "outputs": [],
      "source": [
        "scaler = StandardScaler()\n",
        "scaler.fit(proteindata)\n",
        "data_scaled = scaler.transform(proteindata)"
      ]
    },
    {
      "cell_type": "code",
      "execution_count": 8,
      "id": "93b56ec4-81ce-4694-af70-32e157dfd5ce",
      "metadata": {
        "id": "93b56ec4-81ce-4694-af70-32e157dfd5ce",
        "outputId": "b34c1a8a-3ef3-4cee-ea98-c58869720f79"
      },
      "outputs": [
        {
          "data": {
            "text/plain": [
              "<Axes: >"
            ]
          },
          "execution_count": 8,
          "metadata": {},
          "output_type": "execute_result"
        },
        {
          "data": {
            "image/png": "[encoded data removed]",
            "text/plain": [
              "<Figure size 640x480 with 1 Axes>"
            ]
          },
          "metadata": {},
          "output_type": "display_data"
        }
      ],
      "source": [
        "protein_scaled = pd.DataFrame(data_scaled, columns=proteindata.columns, index=proteindata.index)\n",
        "protein_scaled.boxplot(grid=False, vert=False)"
      ]
    },
    {
      "cell_type": "markdown",
      "id": "145bc85e-22a3-4c4b-8482-e1831f1e85e1",
      "metadata": {
        "id": "145bc85e-22a3-4c4b-8482-e1831f1e85e1"
      },
      "source": [
        "### Clustering Jerárquico en la librería Scipy"
      ]
    },
    {
      "cell_type": "markdown",
      "id": "11f7b9fd-2759-45fe-bdf7-e054e07903a5",
      "metadata": {
        "id": "11f7b9fd-2759-45fe-bdf7-e054e07903a5"
      },
      "source": [
        "Para realizar el clustering jerárquico aglomerativo tenemos en la librería `scipy` la función `linkage()` cuyos parámetros son:\n",
        "\n",
        "- **y**, que puede ser o bien un dataframe o una matriz condensada de distancias (función `disntance.pdist()`).\n",
        "- **method**, método utilizado para calcular la distancia de los nuevos clusters a los clusters ya existentes. Los posibles valores pueden ser: `single` (valor por defecto), `complete`, `average`, `weighted`, `centroid`, `median` y `ward`.\n",
        "- **metric**, métrica de distancia utilizada que por defecto es la `euclídea`. Para ver todas las distancias que se pueden utilizar consultar la función `distance.pdist()`."
      ]
    },
    {
      "cell_type": "markdown",
      "id": "63234b3d-4952-4d73-af19-697a466d1075",
      "metadata": {
        "id": "63234b3d-4952-4d73-af19-697a466d1075"
      },
      "source": [
        "A continuación se muestra cómo calcular el clustering jerárquico aglomerativo utilizando el método de `Ward`."
      ]
    },
    {
      "cell_type": "code",
      "execution_count": 9,
      "id": "fe49320c-c343-471a-a37f-3b2c537e6dc6",
      "metadata": {
        "id": "fe49320c-c343-471a-a37f-3b2c537e6dc6"
      },
      "outputs": [],
      "source": [
        "Hier_ward_scaled = hierarchy.linkage(protein_scaled, method ='ward')"
      ]
    },
    {
      "cell_type": "markdown",
      "id": "06e087e6-9f7c-4118-bedd-d2ff602500de",
      "metadata": {
        "id": "06e087e6-9f7c-4118-bedd-d2ff602500de"
      },
      "source": [
        "Para poder analizar un clustering jerárquico lo más común es visualizar su dendograma. Para dibujarlo tenemos la función `dendongram()` dentro del módulo `scipy.hierarchy`."
      ]
    },
    {
      "cell_type": "code",
      "execution_count": 10,
      "id": "f7f90656-426d-44b8-9352-9d9c15317422",
      "metadata": {
        "id": "f7f90656-426d-44b8-9352-9d9c15317422",
        "outputId": "ce0a6072-999a-4d08-cba8-386b619ee875"
      },
      "outputs": [
        {
          "data": {
            "image/png": "[encoded data removed]",
            "text/plain": [
              "<Figure size 2500x1000 with 1 Axes>"
            ]
          },
          "metadata": {},
          "output_type": "display_data"
        }
      ],
      "source": [
        "fig = plt.figure(figsize=(25, 10))\n",
        "dn = hierarchy.dendrogram(Hier_ward_scaled,labels=protein_scaled.index,leaf_font_size=18)"
      ]
    },
    {
      "cell_type": "markdown",
      "id": "18babe2b-754a-4b2c-a140-6482280be4a0",
      "metadata": {
        "id": "18babe2b-754a-4b2c-a140-6482280be4a0"
      },
      "source": [
        "Una vez que hemos analizado el resultado de al aplicar el clustering jerárquico a nuestro dataset, extraer los clusters que nos parezcan de interés. Para ello tenemos la función `cut_tre()` del  módulo `scipy.hierarchy`. Esta función tiene los siguientes parámetros:\n",
        "\n",
        "- **Z** : que es es resultado de la función `linkage()`.\n",
        "- **n_clusters o height** : array que indica el número de clusters que se quiere obtener o a la altura que se corta el dendograma."
      ]
    },
    {
      "cell_type": "markdown",
      "id": "66bec8b2-c762-49b2-bf62-cb91e6a02193",
      "metadata": {
        "id": "66bec8b2-c762-49b2-bf62-cb91e6a02193"
      },
      "source": [
        "Por ejemplo, si queremos determinar cómo quedan los datos agrupados en 3,4 o 5 clusters, bastaría con realizar la siguiente llamada:"
      ]
    },
    {
      "cell_type": "code",
      "execution_count": 11,
      "id": "d38d3994-e9c0-4831-b036-a5f7c4b2a917",
      "metadata": {
        "id": "d38d3994-e9c0-4831-b036-a5f7c4b2a917",
        "outputId": "c9015e1d-2f93-4f46-8100-a1bacf2e138c"
      },
      "outputs": [
        {
          "data": {
            "text/plain": [
              "array([[0, 0, 0],\n",
              "       [1, 1, 1],\n",
              "       [1, 1, 1],\n",
              "       [0, 0, 0],\n",
              "       [1, 2, 2],\n",
              "       [1, 1, 3],\n",
              "       [1, 2, 2],\n",
              "       [1, 1, 3],\n",
              "       [1, 1, 1],\n",
              "       [2, 3, 4],\n",
              "       [1, 2, 2],\n",
              "       [1, 1, 1],\n",
              "       [2, 3, 4],\n",
              "       [1, 1, 1],\n",
              "       [1, 1, 3],\n",
              "       [1, 2, 2],\n",
              "       [2, 3, 4],\n",
              "       [0, 0, 0],\n",
              "       [2, 3, 4],\n",
              "       [1, 1, 3],\n",
              "       [1, 1, 1],\n",
              "       [1, 1, 1],\n",
              "       [1, 2, 2],\n",
              "       [1, 1, 1],\n",
              "       [0, 0, 0]])"
            ]
          },
          "execution_count": 11,
          "metadata": {},
          "output_type": "execute_result"
        }
      ],
      "source": [
        "clusters_ward = hierarchy.cut_tree(Hier_ward_scaled,n_clusters=[3,4,5])\n",
        "clusters_ward"
      ]
    },
    {
      "cell_type": "markdown",
      "id": "455167ff-89ef-40e8-9d81-cbc92ec6316a",
      "metadata": {
        "id": "455167ff-89ef-40e8-9d81-cbc92ec6316a"
      },
      "source": [
        "Cómo se puede apreciar se nos devuelve una array de $3\\times n\\_instancias$ en en el que cada columna indica cómo quedarían agrupados las instancias según el número de clusters indicados en `n_clusters`. Para realizar la misma operación pero cortando el dendograma a una determinada altura, habría que utilizar el parámetro `height`."
      ]
    },
    {
      "cell_type": "code",
      "execution_count": 12,
      "id": "285bda0a",
      "metadata": {
        "id": "285bda0a",
        "outputId": "a97a585f-0660-4598-d2ed-3282285f71d8"
      },
      "outputs": [
        {
          "data": {
            "text/plain": [
              "array([[0, 0],\n",
              "       [1, 1],\n",
              "       [1, 1],\n",
              "       [0, 0],\n",
              "       [1, 2],\n",
              "       [1, 3],\n",
              "       [1, 2],\n",
              "       [1, 3],\n",
              "       [1, 1],\n",
              "       [0, 4],\n",
              "       [1, 2],\n",
              "       [1, 1],\n",
              "       [0, 4],\n",
              "       [1, 1],\n",
              "       [1, 3],\n",
              "       [1, 2],\n",
              "       [0, 5],\n",
              "       [0, 0],\n",
              "       [0, 5],\n",
              "       [1, 3],\n",
              "       [1, 1],\n",
              "       [1, 1],\n",
              "       [1, 2],\n",
              "       [1, 1],\n",
              "       [0, 0]])"
            ]
          },
          "execution_count": 12,
          "metadata": {},
          "output_type": "execute_result"
        }
      ],
      "source": [
        "clusters_ward_height = hierarchy.cut_tree(Hier_ward_scaled,height=[10,5])\n",
        "clusters_ward_height"
      ]
    },
    {
      "cell_type": "markdown",
      "id": "0a189832",
      "metadata": {
        "id": "0a189832"
      },
      "source": [
        "### Clustering jerárquico con la librería sklearn"
      ]
    },
    {
      "cell_type": "markdown",
      "id": "be429d38",
      "metadata": {
        "id": "be429d38"
      },
      "source": [
        "La librería `sklearn` también nos proporciona una forma realizar el clustering jerárquico aglomerativo mediante la función `AgglomerativeClustering()` del módulo `cluster`. Los principales parámetros de esta función son:\n",
        "\n",
        "- **n_clusters (int)**: número de cluster que en los que se quieren agrupar los datos. Si queremos generar los clusters según un umbral de distancia tenemos que utilizar el parámetro **distance_threshold (float)** y utilizar el valor `None` para este parámetro e indicarle que tiene que calcular el árbol entero, **compute_full_tree (True)**.\n",
        "- **metric**: función de distancia entre instancias que se va a utilizar. Puede ser `euclidean`, `l1`, `l2`, `manhattan`, `cosine` o `precomputed` con lo que hay que suministrar la matriz de distancias a la función `fit()`.\n",
        "- **linkage**: método para calcular la distancia entre clusters: `ward`, `complete`, `average`, `single`.\n",
        "\n",
        "Por ejemplo, si queremos calcular como quedarían los países agrupados en 4 clusters utilizando la distancia euclídea y el método de ward llamaríamos a la función de esta forma:"
      ]
    },
    {
      "cell_type": "code",
      "execution_count": 13,
      "id": "bc478041",
      "metadata": {
        "id": "bc478041"
      },
      "outputs": [],
      "source": [
        "clusters_euclidean_ward = AgglomerativeClustering(n_clusters=4, metric='euclidean', linkage='ward')"
      ]
    },
    {
      "cell_type": "markdown",
      "id": "b4b41e5a",
      "metadata": {
        "id": "b4b41e5a"
      },
      "source": [
        "Una vez definido el tipo de clustering que queremos hacer sólo tenemos que llamar al método `fit()` pasándole el dataset sobre el que queremos hacer el clustering"
      ]
    },
    {
      "cell_type": "code",
      "execution_count": 14,
      "id": "8215280d",
      "metadata": {
        "id": "8215280d"
      },
      "outputs": [],
      "source": [
        "clusters_fit = clusters_euclidean_ward.fit(protein_scaled)"
      ]
    },
    {
      "cell_type": "markdown",
      "id": "cc1dc26a",
      "metadata": {
        "id": "cc1dc26a"
      },
      "source": [
        "y para saber a qué cluster ha sido asignada cada instancia sólo tenemos que acceder al atributo `labels_`"
      ]
    },
    {
      "cell_type": "code",
      "execution_count": 15,
      "id": "c06c29ff",
      "metadata": {
        "id": "c06c29ff",
        "outputId": "c512ac2c-4a65-4d34-eb09-87f4913ebf14"
      },
      "outputs": [
        {
          "data": {
            "text/plain": [
              "array([2, 0, 0, 2, 3, 0, 3, 0, 0, 1, 3, 0, 1, 0, 0, 3, 1, 2, 1, 0, 0, 0,\n",
              "       3, 0, 2], dtype=int64)"
            ]
          },
          "execution_count": 15,
          "metadata": {},
          "output_type": "execute_result"
        }
      ],
      "source": [
        "clusters_fit.labels_"
      ]
    },
    {
      "cell_type": "markdown",
      "id": "3071be5c",
      "metadata": {
        "id": "3071be5c"
      },
      "source": [
        "Mediante la función `is_isomorphic()` del módulo `cluster.hiearchy` del paquete `scipy` podemos comprobar que los dos funciones utilizadas nos devuelven los mismos clusters."
      ]
    },
    {
      "cell_type": "code",
      "execution_count": 16,
      "id": "9fd9564e",
      "metadata": {
        "id": "9fd9564e",
        "outputId": "5a2ac826-a2fa-4756-deb0-be583c443eb9"
      },
      "outputs": [
        {
          "data": {
            "text/plain": [
              "True"
            ]
          },
          "execution_count": 16,
          "metadata": {},
          "output_type": "execute_result"
        }
      ],
      "source": [
        "hierarchy.is_isomorphic(clusters_fit.labels_,clusters_ward[:,1])"
      ]
    },
    {
      "cell_type": "markdown",
      "id": "8fde66bd",
      "metadata": {
        "id": "8fde66bd"
      },
      "source": [
        "Una forma de visualizar el resultado del clustering es mediante los gráficos de dispersión que nos permiten ver cómo se distribuyen las instancias a lo largo de dos dimensiones definidas por dos atributos del dataframe. A continuación se puede ver un ejemplo en el que se muestran como quedan agrupados los países en función de las proteínas procedentes de la carne roja y del pescado."
      ]
    },
    {
      "cell_type": "code",
      "execution_count": 17,
      "id": "a70ef512",
      "metadata": {
        "id": "a70ef512",
        "outputId": "5aa79a8d-8f45-463e-d79d-bc64cd006067"
      },
      "outputs": [
        {
          "name": "stderr",
          "output_type": "stream",
          "text": [
            "C:\\Users\\fcoja\\AppData\\Local\\Temp\\ipykernel_17084\\3081587906.py:5: FutureWarning: Series.__getitem__ treating keys as positions is deprecated. In a future version, integer keys will always be treated as labels (consistent with DataFrame behavior). To access a value by position, use `ser.iloc[pos]`\n",
            "  plt.annotate(label, (protein_scaled[\"RedMeat\"][i], protein_scaled[\"Fish\"][i]),\n"
          ]
        },
        {
          "data": {
            "text/plain": [
              "Text(0, 0.5, 'Fish')"
            ]
          },
          "execution_count": 17,
          "metadata": {},
          "output_type": "execute_result"
        },
        {
          "data": {
            "image/png": "[encoded data removed]",
            "text/plain": [
              "<Figure size 640x480 with 1 Axes>"
            ]
          },
          "metadata": {},
          "output_type": "display_data"
        }
      ],
      "source": [
        "paises = np.array(protein_scaled.index).astype(str)\n",
        "plt.scatter(protein_scaled[\"RedMeat\"],protein_scaled[\"Fish\"],\n",
        "             c=clusters_fit.labels_, cmap='viridis')\n",
        "for i, label in enumerate(paises):\n",
        "    plt.annotate(label, (protein_scaled[\"RedMeat\"][i], protein_scaled[\"Fish\"][i]),\n",
        "                 textcoords=\"offset points\", xytext=(0, 5), ha='center', fontsize=6)\n",
        "plt.xlabel('Red Meat')\n",
        "plt.ylabel('Fish')"
      ]
    },
    {
      "cell_type": "markdown",
      "id": "51626dd4",
      "metadata": {
        "id": "51626dd4"
      },
      "source": [
        "### Medidas de calidad"
      ]
    },
    {
      "cell_type": "markdown",
      "id": "ec575882",
      "metadata": {
        "id": "ec575882"
      },
      "source": [
        "Gracias a las funciones proporcionadas por el módulo `sklearn.metrics` podemos evaluar la calidad de una agrupación y poder comparar, de esta forma, distintas configuraciones de las mismas.\n",
        "\n",
        "Como ya vimos en la parte de teoría, el **índice silueta** es un índice que varía entre 1 y -1, siendo 1 para un clustering perfecto. Este índice se calcula para cada instancia, siendo 1 para las instancias asignadas correctamente a un cluster y -1 en el caso contrario. Para calcular, el índice silueta de cada instancia del data set tenemos la función `metrics.silhouette_samples()` a la que tenemos que pasarle como parámetros el dataset y un array con los clusters asignados a cada instancia."
      ]
    },
    {
      "cell_type": "code",
      "execution_count": 18,
      "id": "c1dd9c85",
      "metadata": {
        "id": "c1dd9c85",
        "outputId": "02acbf76-1a78-44ba-fc79-78f455c5f68d"
      },
      "outputs": [
        {
          "data": {
            "text/plain": [
              "array([ 0.45286924,  0.4290316 ,  0.44257431,  0.49283443,  0.33359721,\n",
              "        0.42842776,  0.3737288 ,  0.35650511,  0.23803017,  0.14083036,\n",
              "       -0.18484816,  0.47645858,  0.04908266,  0.47846141,  0.25860111,\n",
              "        0.16317938,  0.29485513,  0.55303849,  0.33677429,  0.41369748,\n",
              "        0.3451479 ,  0.31209346, -0.01767994,  0.4944478 ,  0.55903427])"
            ]
          },
          "execution_count": 18,
          "metadata": {},
          "output_type": "execute_result"
        }
      ],
      "source": [
        "metrics.silhouette_samples(protein_scaled,labels = clusters_ward[:,0])"
      ]
    },
    {
      "cell_type": "markdown",
      "id": "1fd1aa4b",
      "metadata": {
        "id": "1fd1aa4b"
      },
      "source": [
        "Para calcular el índice silueta medio para todas las instancias podemos utilizar la función `metrics.silhouette_score()`, que tiene los mismos parámetros que la función anterior"
      ]
    },
    {
      "cell_type": "code",
      "execution_count": 19,
      "id": "8359ab7d-0387-46e7-9346-509786355f24",
      "metadata": {
        "id": "8359ab7d-0387-46e7-9346-509786355f24",
        "outputId": "25da0d5a-92e7-4505-9a99-d011da10f69a"
      },
      "outputs": [
        {
          "data": {
            "text/plain": [
              "0.32883091422973465"
            ]
          },
          "execution_count": 19,
          "metadata": {},
          "output_type": "execute_result"
        }
      ],
      "source": [
        "metrics.silhouette_score(protein_scaled,labels = clusters_ward[:,0])"
      ]
    },
    {
      "cell_type": "markdown",
      "id": "032b42d7",
      "metadata": {
        "id": "032b42d7"
      },
      "source": [
        "Otro índice que nos puede ayudar a comparar la calidad de distintas configuraciones de asignación de instancias a clusters el **índice de Davies_Boulin**, que se puede calcular a través de la función  `metrics.davies_bouldin_score` que tiene los mismos parámetros que la anteriores. Con esta medida un valor 0 indicaría un asignación perfecta de instancias a clustering."
      ]
    },
    {
      "cell_type": "code",
      "execution_count": 20,
      "id": "7381e92f",
      "metadata": {
        "id": "7381e92f",
        "outputId": "9195efad-1d75-439d-85ab-cbbdb8c92b08"
      },
      "outputs": [
        {
          "data": {
            "text/plain": [
              "1.0567560550804076"
            ]
          },
          "execution_count": 20,
          "metadata": {},
          "output_type": "execute_result"
        }
      ],
      "source": [
        "metrics.davies_bouldin_score(protein_scaled,labels = clusters_ward[:,0])"
      ]
    },
    {
      "cell_type": "markdown",
      "id": "0e0019b0",
      "metadata": {
        "id": "0e0019b0"
      },
      "source": [
        "### Ejercicios para practicar"
      ]
    },
    {
      "cell_type": "markdown",
      "id": "c5adc548",
      "metadata": {
        "id": "c5adc548"
      },
      "source": [
        "Utilizando el mismo dataset:\n",
        "1. Generar diferentes clusterings probando diferentes combinaciones de métricas de distancias y de distancias entre clusters.\n",
        "2. Generar un dataframe con los datos originales sobre consumo de proteínas y que contengan una columna adicional que indique a qué cluster pertenece cada instancia para una configuración determinada. Una vez generado el dataframe, sacar un listado indicando, para cada cluster, qué países pertenecen.\n",
        "3. Implementar un procedimiento qué, utilizando algunos de los índices analizados, determine el número óptimo de clusters. El procedimiento debe tener los siguientes parámetros:\n",
        "    - dataframe sobre el que hacer los clsuters.\n",
        "    - número mínimo de clusters\n",
        "    - máximo número de clusters\n",
        "    - medida de distancia a utilizar, que por defecto debe ser la **euclídea**\n",
        "    - medida de distancia entre clusters a utilizar, que por defecto debe ser la de **Ward**\n",
        "\n",
        "El procedimiento debe devolver el número óptimo de clusters, **k**, y la asignación de clusters que resulta.  "
      ]
    },
    {
      "cell_type": "code",
      "execution_count": 31,
      "id": "33109bf6",
      "metadata": {},
      "outputs": [],
      "source": [
        "prueba_cluster1 = AgglomerativeClustering(n_clusters=2, metric='l1', linkage=\"complete\")\n",
        "prueba_cluster1_fit = prueba_cluster1.fit(proteindata)"
      ]
    }
  ],
  "metadata": {
    "colab": {
      "provenance": []
    },
    "kernelspec": {
      "display_name": "Python 3 (ipykernel)",
      "language": "python",
      "name": "python3"
    },
    "language_info": {
      "codemirror_mode": {
        "name": "ipython",
        "version": 3
      },
      "file_extension": ".py",
      "mimetype": "text/x-python",
      "name": "python",
      "nbconvert_exporter": "python",
      "pygments_lexer": "ipython3",
      "version": "3.11.7"
    }
  },
  "nbformat": 4,
  "nbformat_minor": 5
}
