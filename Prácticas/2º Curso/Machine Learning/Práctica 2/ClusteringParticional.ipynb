{
  "cells": [
    {
      "cell_type": "markdown",
      "metadata": {
        "id": "bWlcCXFsUt1n"
      },
      "source": [
        "# Clustering Particional\n",
        "\n",
        "## Machine Learning. Grado en Ciencia de datos"
      ]
    },
    {
      "cell_type": "code",
      "execution_count": 55,
      "metadata": {
        "id": "Y8pgK5S-Ut1q"
      },
      "outputs": [],
      "source": [
        "import pandas as pd\n",
        "import matplotlib.pyplot as plt\n",
        "import numpy as np\n",
        "import sklearn.metrics as metrics\n",
        "from sklearn.preprocessing import StandardScaler\n",
        "from scipy.cluster import vq\n",
        "from sklearn.cluster import KMeans,DBSCAN\n",
        "\n",
        "%matplotlib inline"
      ]
    },
    {
      "cell_type": "markdown",
      "metadata": {
        "id": "SqCyLVlaUt1s"
      },
      "source": [
        "### El conjunto de datos"
      ]
    },
    {
      "cell_type": "markdown",
      "metadata": {
        "id": "ykLjfk3nUt1u"
      },
      "source": [
        "Los datos sobre los que vamos a trabajar se basan en el conjunto de datos `protein`. Después de examinar los datos, vemos que los datos están separados por un tabulador y que los nombres de los países están en la primera columna. Para cargarlos debemos ejecutar la siguiente instrucción, en la que le indicamos el carácter de separación y que el nombre del país va a ser el índice del data frame."
      ]
    },
    {
      "cell_type": "code",
      "execution_count": 56,
      "metadata": {
        "id": "QJWXsE43Ut1v"
      },
      "outputs": [],
      "source": [
        "proteindata = pd.read_csv('Datos/proteindata.txt', sep='\\t', index_col=0)"
      ]
    },
    {
      "cell_type": "markdown",
      "metadata": {
        "id": "BpqYYIJnUt1w"
      },
      "source": [
        "Vamos a examinar los datos para ver si se han leido correctamente"
      ]
    },
    {
      "cell_type": "code",
      "execution_count": 57,
      "metadata": {
        "id": "cEmINthJUt1w",
        "outputId": "46969195-3956-4726-e569-b0aa7fab4a47"
      },
      "outputs": [
        {
          "data": {
            "text/html": [
              "<div>\n",
              "<style scoped>\n",
              "    .dataframe tbody tr th:only-of-type {\n",
              "        vertical-align: middle;\n",
              "    }\n",
              "\n",
              "    .dataframe tbody tr th {\n",
              "        vertical-align: top;\n",
              "    }\n",
              "\n",
              "    .dataframe thead th {\n",
              "        text-align: right;\n",
              "    }\n",
              "</style>\n",
              "<table border=\"1\" class=\"dataframe\">\n",
              "  <thead>\n",
              "    <tr style=\"text-align: right;\">\n",
              "      <th></th>\n",
              "      <th>RedMeat</th>\n",
              "      <th>WhiteMeat</th>\n",
              "      <th>Eggs</th>\n",
              "      <th>Milk</th>\n",
              "      <th>Fish</th>\n",
              "      <th>Cereals</th>\n",
              "      <th>Starch</th>\n",
              "      <th>Nuts</th>\n",
              "      <th>FruitVeg</th>\n",
              "    </tr>\n",
              "    <tr>\n",
              "      <th>Country</th>\n",
              "      <th></th>\n",
              "      <th></th>\n",
              "      <th></th>\n",
              "      <th></th>\n",
              "      <th></th>\n",
              "      <th></th>\n",
              "      <th></th>\n",
              "      <th></th>\n",
              "      <th></th>\n",
              "    </tr>\n",
              "  </thead>\n",
              "  <tbody>\n",
              "    <tr>\n",
              "      <th>Albania</th>\n",
              "      <td>10.1</td>\n",
              "      <td>1.4</td>\n",
              "      <td>0.5</td>\n",
              "      <td>8.9</td>\n",
              "      <td>0.2</td>\n",
              "      <td>42.3</td>\n",
              "      <td>0.6</td>\n",
              "      <td>5.5</td>\n",
              "      <td>1.7</td>\n",
              "    </tr>\n",
              "    <tr>\n",
              "      <th>Austria</th>\n",
              "      <td>8.9</td>\n",
              "      <td>14.0</td>\n",
              "      <td>4.3</td>\n",
              "      <td>19.9</td>\n",
              "      <td>2.1</td>\n",
              "      <td>28.0</td>\n",
              "      <td>3.6</td>\n",
              "      <td>1.3</td>\n",
              "      <td>4.3</td>\n",
              "    </tr>\n",
              "    <tr>\n",
              "      <th>Belgium</th>\n",
              "      <td>13.5</td>\n",
              "      <td>9.3</td>\n",
              "      <td>4.1</td>\n",
              "      <td>17.5</td>\n",
              "      <td>4.5</td>\n",
              "      <td>26.6</td>\n",
              "      <td>5.7</td>\n",
              "      <td>2.1</td>\n",
              "      <td>4.0</td>\n",
              "    </tr>\n",
              "    <tr>\n",
              "      <th>Bulgaria</th>\n",
              "      <td>7.8</td>\n",
              "      <td>6.0</td>\n",
              "      <td>1.6</td>\n",
              "      <td>8.3</td>\n",
              "      <td>1.2</td>\n",
              "      <td>56.7</td>\n",
              "      <td>1.1</td>\n",
              "      <td>3.7</td>\n",
              "      <td>4.2</td>\n",
              "    </tr>\n",
              "    <tr>\n",
              "      <th>Czechosl.</th>\n",
              "      <td>9.7</td>\n",
              "      <td>11.4</td>\n",
              "      <td>2.8</td>\n",
              "      <td>12.5</td>\n",
              "      <td>2.0</td>\n",
              "      <td>34.3</td>\n",
              "      <td>5.0</td>\n",
              "      <td>1.1</td>\n",
              "      <td>4.0</td>\n",
              "    </tr>\n",
              "    <tr>\n",
              "      <th>Denmark</th>\n",
              "      <td>10.6</td>\n",
              "      <td>10.8</td>\n",
              "      <td>3.7</td>\n",
              "      <td>25.0</td>\n",
              "      <td>9.9</td>\n",
              "      <td>21.9</td>\n",
              "      <td>4.8</td>\n",
              "      <td>0.7</td>\n",
              "      <td>2.4</td>\n",
              "    </tr>\n",
              "    <tr>\n",
              "      <th>EGermany</th>\n",
              "      <td>8.4</td>\n",
              "      <td>11.6</td>\n",
              "      <td>3.7</td>\n",
              "      <td>11.1</td>\n",
              "      <td>5.4</td>\n",
              "      <td>24.6</td>\n",
              "      <td>6.5</td>\n",
              "      <td>0.8</td>\n",
              "      <td>3.6</td>\n",
              "    </tr>\n",
              "    <tr>\n",
              "      <th>Finland</th>\n",
              "      <td>9.5</td>\n",
              "      <td>4.9</td>\n",
              "      <td>2.7</td>\n",
              "      <td>33.7</td>\n",
              "      <td>5.8</td>\n",
              "      <td>26.3</td>\n",
              "      <td>5.1</td>\n",
              "      <td>1.0</td>\n",
              "      <td>1.4</td>\n",
              "    </tr>\n",
              "    <tr>\n",
              "      <th>France</th>\n",
              "      <td>18.0</td>\n",
              "      <td>9.9</td>\n",
              "      <td>3.3</td>\n",
              "      <td>19.5</td>\n",
              "      <td>5.7</td>\n",
              "      <td>28.1</td>\n",
              "      <td>4.8</td>\n",
              "      <td>2.4</td>\n",
              "      <td>6.5</td>\n",
              "    </tr>\n",
              "    <tr>\n",
              "      <th>Greece</th>\n",
              "      <td>10.2</td>\n",
              "      <td>3.0</td>\n",
              "      <td>2.8</td>\n",
              "      <td>17.6</td>\n",
              "      <td>5.9</td>\n",
              "      <td>41.7</td>\n",
              "      <td>2.2</td>\n",
              "      <td>7.8</td>\n",
              "      <td>6.5</td>\n",
              "    </tr>\n",
              "    <tr>\n",
              "      <th>Hungary</th>\n",
              "      <td>5.3</td>\n",
              "      <td>12.4</td>\n",
              "      <td>2.9</td>\n",
              "      <td>9.7</td>\n",
              "      <td>0.3</td>\n",
              "      <td>40.1</td>\n",
              "      <td>4.0</td>\n",
              "      <td>5.4</td>\n",
              "      <td>4.2</td>\n",
              "    </tr>\n",
              "    <tr>\n",
              "      <th>Ireland</th>\n",
              "      <td>13.9</td>\n",
              "      <td>10.0</td>\n",
              "      <td>4.7</td>\n",
              "      <td>25.8</td>\n",
              "      <td>2.2</td>\n",
              "      <td>24.0</td>\n",
              "      <td>6.2</td>\n",
              "      <td>1.6</td>\n",
              "      <td>2.9</td>\n",
              "    </tr>\n",
              "    <tr>\n",
              "      <th>Italy</th>\n",
              "      <td>9.0</td>\n",
              "      <td>5.1</td>\n",
              "      <td>2.9</td>\n",
              "      <td>13.7</td>\n",
              "      <td>3.4</td>\n",
              "      <td>36.8</td>\n",
              "      <td>2.1</td>\n",
              "      <td>4.3</td>\n",
              "      <td>6.7</td>\n",
              "    </tr>\n",
              "    <tr>\n",
              "      <th>Netherl.</th>\n",
              "      <td>9.5</td>\n",
              "      <td>13.6</td>\n",
              "      <td>3.6</td>\n",
              "      <td>23.4</td>\n",
              "      <td>2.5</td>\n",
              "      <td>22.4</td>\n",
              "      <td>4.2</td>\n",
              "      <td>1.8</td>\n",
              "      <td>3.7</td>\n",
              "    </tr>\n",
              "    <tr>\n",
              "      <th>Norway</th>\n",
              "      <td>9.4</td>\n",
              "      <td>4.7</td>\n",
              "      <td>2.7</td>\n",
              "      <td>23.3</td>\n",
              "      <td>9.7</td>\n",
              "      <td>23.0</td>\n",
              "      <td>4.6</td>\n",
              "      <td>1.6</td>\n",
              "      <td>2.7</td>\n",
              "    </tr>\n",
              "    <tr>\n",
              "      <th>Poland</th>\n",
              "      <td>6.9</td>\n",
              "      <td>10.2</td>\n",
              "      <td>2.7</td>\n",
              "      <td>19.3</td>\n",
              "      <td>3.0</td>\n",
              "      <td>36.1</td>\n",
              "      <td>5.9</td>\n",
              "      <td>2.0</td>\n",
              "      <td>6.6</td>\n",
              "    </tr>\n",
              "    <tr>\n",
              "      <th>Portugal</th>\n",
              "      <td>6.2</td>\n",
              "      <td>3.7</td>\n",
              "      <td>1.1</td>\n",
              "      <td>4.9</td>\n",
              "      <td>14.2</td>\n",
              "      <td>27.0</td>\n",
              "      <td>5.9</td>\n",
              "      <td>4.7</td>\n",
              "      <td>7.9</td>\n",
              "    </tr>\n",
              "    <tr>\n",
              "      <th>Romania</th>\n",
              "      <td>6.2</td>\n",
              "      <td>6.3</td>\n",
              "      <td>1.5</td>\n",
              "      <td>11.1</td>\n",
              "      <td>1.0</td>\n",
              "      <td>49.6</td>\n",
              "      <td>3.1</td>\n",
              "      <td>5.3</td>\n",
              "      <td>2.8</td>\n",
              "    </tr>\n",
              "    <tr>\n",
              "      <th>Spain</th>\n",
              "      <td>7.1</td>\n",
              "      <td>3.4</td>\n",
              "      <td>3.1</td>\n",
              "      <td>8.6</td>\n",
              "      <td>7.0</td>\n",
              "      <td>29.2</td>\n",
              "      <td>5.7</td>\n",
              "      <td>5.9</td>\n",
              "      <td>7.2</td>\n",
              "    </tr>\n",
              "    <tr>\n",
              "      <th>Sweden</th>\n",
              "      <td>9.9</td>\n",
              "      <td>7.8</td>\n",
              "      <td>3.5</td>\n",
              "      <td>24.7</td>\n",
              "      <td>7.5</td>\n",
              "      <td>19.5</td>\n",
              "      <td>3.7</td>\n",
              "      <td>1.4</td>\n",
              "      <td>2.0</td>\n",
              "    </tr>\n",
              "    <tr>\n",
              "      <th>Switzerl.</th>\n",
              "      <td>13.1</td>\n",
              "      <td>10.1</td>\n",
              "      <td>3.1</td>\n",
              "      <td>23.8</td>\n",
              "      <td>2.3</td>\n",
              "      <td>25.6</td>\n",
              "      <td>2.8</td>\n",
              "      <td>2.4</td>\n",
              "      <td>4.9</td>\n",
              "    </tr>\n",
              "    <tr>\n",
              "      <th>UK</th>\n",
              "      <td>17.4</td>\n",
              "      <td>5.7</td>\n",
              "      <td>4.7</td>\n",
              "      <td>20.6</td>\n",
              "      <td>4.3</td>\n",
              "      <td>24.3</td>\n",
              "      <td>4.7</td>\n",
              "      <td>3.4</td>\n",
              "      <td>3.3</td>\n",
              "    </tr>\n",
              "    <tr>\n",
              "      <th>USSR</th>\n",
              "      <td>9.3</td>\n",
              "      <td>4.6</td>\n",
              "      <td>2.1</td>\n",
              "      <td>16.6</td>\n",
              "      <td>3.0</td>\n",
              "      <td>43.6</td>\n",
              "      <td>6.4</td>\n",
              "      <td>3.4</td>\n",
              "      <td>2.9</td>\n",
              "    </tr>\n",
              "    <tr>\n",
              "      <th>WGermany</th>\n",
              "      <td>11.4</td>\n",
              "      <td>12.5</td>\n",
              "      <td>4.1</td>\n",
              "      <td>18.8</td>\n",
              "      <td>3.4</td>\n",
              "      <td>18.6</td>\n",
              "      <td>5.2</td>\n",
              "      <td>1.5</td>\n",
              "      <td>3.8</td>\n",
              "    </tr>\n",
              "    <tr>\n",
              "      <th>Yugosl.</th>\n",
              "      <td>4.4</td>\n",
              "      <td>5.0</td>\n",
              "      <td>1.2</td>\n",
              "      <td>9.5</td>\n",
              "      <td>0.6</td>\n",
              "      <td>55.9</td>\n",
              "      <td>3.0</td>\n",
              "      <td>5.7</td>\n",
              "      <td>3.2</td>\n",
              "    </tr>\n",
              "  </tbody>\n",
              "</table>\n",
              "</div>"
            ],
            "text/plain": [
              "           RedMeat  WhiteMeat  Eggs  Milk  Fish  Cereals  Starch  Nuts  \\\n",
              "Country                                                                  \n",
              "Albania       10.1        1.4   0.5   8.9   0.2     42.3     0.6   5.5   \n",
              "Austria        8.9       14.0   4.3  19.9   2.1     28.0     3.6   1.3   \n",
              "Belgium       13.5        9.3   4.1  17.5   4.5     26.6     5.7   2.1   \n",
              "Bulgaria       7.8        6.0   1.6   8.3   1.2     56.7     1.1   3.7   \n",
              "Czechosl.      9.7       11.4   2.8  12.5   2.0     34.3     5.0   1.1   \n",
              "Denmark       10.6       10.8   3.7  25.0   9.9     21.9     4.8   0.7   \n",
              "EGermany       8.4       11.6   3.7  11.1   5.4     24.6     6.5   0.8   \n",
              "Finland        9.5        4.9   2.7  33.7   5.8     26.3     5.1   1.0   \n",
              "France        18.0        9.9   3.3  19.5   5.7     28.1     4.8   2.4   \n",
              "Greece        10.2        3.0   2.8  17.6   5.9     41.7     2.2   7.8   \n",
              "Hungary        5.3       12.4   2.9   9.7   0.3     40.1     4.0   5.4   \n",
              "Ireland       13.9       10.0   4.7  25.8   2.2     24.0     6.2   1.6   \n",
              "Italy          9.0        5.1   2.9  13.7   3.4     36.8     2.1   4.3   \n",
              "Netherl.       9.5       13.6   3.6  23.4   2.5     22.4     4.2   1.8   \n",
              "Norway         9.4        4.7   2.7  23.3   9.7     23.0     4.6   1.6   \n",
              "Poland         6.9       10.2   2.7  19.3   3.0     36.1     5.9   2.0   \n",
              "Portugal       6.2        3.7   1.1   4.9  14.2     27.0     5.9   4.7   \n",
              "Romania        6.2        6.3   1.5  11.1   1.0     49.6     3.1   5.3   \n",
              "Spain          7.1        3.4   3.1   8.6   7.0     29.2     5.7   5.9   \n",
              "Sweden         9.9        7.8   3.5  24.7   7.5     19.5     3.7   1.4   \n",
              "Switzerl.     13.1       10.1   3.1  23.8   2.3     25.6     2.8   2.4   \n",
              "UK            17.4        5.7   4.7  20.6   4.3     24.3     4.7   3.4   \n",
              "USSR           9.3        4.6   2.1  16.6   3.0     43.6     6.4   3.4   \n",
              "WGermany      11.4       12.5   4.1  18.8   3.4     18.6     5.2   1.5   \n",
              "Yugosl.        4.4        5.0   1.2   9.5   0.6     55.9     3.0   5.7   \n",
              "\n",
              "           FruitVeg  \n",
              "Country              \n",
              "Albania         1.7  \n",
              "Austria         4.3  \n",
              "Belgium         4.0  \n",
              "Bulgaria        4.2  \n",
              "Czechosl.       4.0  \n",
              "Denmark         2.4  \n",
              "EGermany        3.6  \n",
              "Finland         1.4  \n",
              "France          6.5  \n",
              "Greece          6.5  \n",
              "Hungary         4.2  \n",
              "Ireland         2.9  \n",
              "Italy           6.7  \n",
              "Netherl.        3.7  \n",
              "Norway          2.7  \n",
              "Poland          6.6  \n",
              "Portugal        7.9  \n",
              "Romania         2.8  \n",
              "Spain           7.2  \n",
              "Sweden          2.0  \n",
              "Switzerl.       4.9  \n",
              "UK              3.3  \n",
              "USSR            2.9  \n",
              "WGermany        3.8  \n",
              "Yugosl.         3.2  "
            ]
          },
          "execution_count": 57,
          "metadata": {},
          "output_type": "execute_result"
        }
      ],
      "source": [
        "proteindata"
      ]
    },
    {
      "cell_type": "markdown",
      "metadata": {
        "id": "ktOtSY-gUt1x"
      },
      "source": [
        "Aparentemente, todos los datos han sido leídos correctamente. Sin embargo, nos queda por comprobar si los tipos asignados son los adecuados."
      ]
    },
    {
      "cell_type": "code",
      "execution_count": 58,
      "metadata": {
        "id": "wOKbUG14Ut1y",
        "outputId": "7c0571f2-863d-4b9a-a634-744d24579c7f"
      },
      "outputs": [
        {
          "name": "stdout",
          "output_type": "stream",
          "text": [
            "<class 'pandas.core.frame.DataFrame'>\n",
            "Index: 25 entries, Albania to Yugosl.\n",
            "Data columns (total 9 columns):\n",
            " #   Column     Non-Null Count  Dtype  \n",
            "---  ------     --------------  -----  \n",
            " 0   RedMeat    25 non-null     float64\n",
            " 1   WhiteMeat  25 non-null     float64\n",
            " 2   Eggs       25 non-null     float64\n",
            " 3   Milk       25 non-null     float64\n",
            " 4   Fish       25 non-null     float64\n",
            " 5   Cereals    25 non-null     float64\n",
            " 6   Starch     25 non-null     float64\n",
            " 7   Nuts       25 non-null     float64\n",
            " 8   FruitVeg   25 non-null     float64\n",
            "dtypes: float64(9)\n",
            "memory usage: 2.0+ KB\n"
          ]
        }
      ],
      "source": [
        "proteindata.info()"
      ]
    },
    {
      "cell_type": "markdown",
      "metadata": {
        "id": "BrjhLM1wUt1z"
      },
      "source": [
        "Una vez comprobado que hemos leído correctamente los datos, tenemos que comprobar cómo están distribuidos los datos, para ver si es necesario una estandarización de los mismos. Para ello podemos realizar un gráfico de barras."
      ]
    },
    {
      "cell_type": "code",
      "execution_count": 59,
      "metadata": {
        "id": "aytDsOAgUt10",
        "outputId": "51ac1aef-0106-4236-ad17-40222eb6c50f"
      },
      "outputs": [
        {
          "data": {
            "text/plain": [
              "<Axes: >"
            ]
          },
          "execution_count": 59,
          "metadata": {},
          "output_type": "execute_result"
        },
        {
          "data": {
            "image/png": "[encoded data removed]",
            "text/plain": [
              "<Figure size 640x480 with 1 Axes>"
            ]
          },
          "metadata": {},
          "output_type": "display_data"
        }
      ],
      "source": [
        "proteindata.boxplot(grid=False, vert=False, color=\"#007AFF\")"
      ]
    },
    {
      "cell_type": "markdown",
      "metadata": {
        "id": "HpTf5DGJUt11"
      },
      "source": [
        "Como se puede apreciar es necesario que transformar los datos para que estos estén en la misma escala y los podamos comparar."
      ]
    },
    {
      "cell_type": "code",
      "execution_count": 60,
      "metadata": {
        "id": "c_a9RmATUt11"
      },
      "outputs": [],
      "source": [
        "scaler = StandardScaler()\n",
        "scaler.fit(proteindata)\n",
        "data_scaled = scaler.transform(proteindata)"
      ]
    },
    {
      "cell_type": "code",
      "execution_count": 61,
      "metadata": {
        "id": "-gVX9uANUt11",
        "outputId": "c385523c-0a6e-4be8-ff59-d8258034aebc"
      },
      "outputs": [
        {
          "data": {
            "text/plain": [
              "<Axes: >"
            ]
          },
          "execution_count": 61,
          "metadata": {},
          "output_type": "execute_result"
        },
        {
          "data": {
            "image/png": "[encoded data removed]",
            "text/plain": [
              "<Figure size 640x480 with 1 Axes>"
            ]
          },
          "metadata": {},
          "output_type": "display_data"
        }
      ],
      "source": [
        "protein_scaled = pd.DataFrame(data_scaled, columns=proteindata.columns, index=proteindata.index)\n",
        "protein_scaled.boxplot(grid=False, vert=False)"
      ]
    },
    {
      "cell_type": "markdown",
      "metadata": {
        "id": "j9d87yXnUt12"
      },
      "source": [
        "### Kmeans"
      ]
    },
    {
      "cell_type": "markdown",
      "metadata": {
        "id": "H5avYwxEUt12"
      },
      "source": [
        "El módulo `sklearn.cluster` nos ofrece la función `KMeans()` que implementa la técnica de clustering de las **K medias**. Los parámetros más importantes de esta función son:\n",
        "- **n_clusters (int)**: número de clusters objetivo.\n",
        "- **init**: Método de inicialización de los centroides. Se puede utilizar **k-means++**, que es el valor por defecto o la inicialización aleatoria, **ramdom**. También se le puede pasar una matriz con las coordenadas de los centroides.\n",
        "- **n_init (int)**: número de veces que se ejecuta el algoritmo con diferentes inicializaciones de los centroides. Se puede indiciar también **auto** y en ese caso se inicializará a 10 en el caso de que `init='random'` o 1 en el caso de `init='k-means++'`.\n",
        "- **max_iter (int)**: número máximo de iteraciones del algoritmo para cada ejecución. También se le puede indicar la tolerancia, a través del parámetro **tol (float)**, a partir de la cual se considera que la diferencia de los centroides ha hecho converger al algoritmo.\n",
        "- **random_state**: determina la semilla para la inicialización aleatoria de los centroides. Es importante utilizar este parámetro para garantizar la reproducibilidad.\n",
        "\n",
        "A continuación se puede ver un ejemplo de como aplicar la técnica de las `K medias` al conjunto de datos de ejemplo.\n"
      ]
    },
    {
      "cell_type": "code",
      "execution_count": 62,
      "metadata": {
        "id": "4INbptPmUt13",
        "outputId": "14e0dcdf-3c39-4691-dd96-e188e1590278"
      },
      "outputs": [
        {
          "data": {
            "text/html": [
              "<style>#sk-container-id-4 {\n",
              "  /* Definition of color scheme common for light and dark mode */\n",
              "  --sklearn-color-text: black;\n",
              "  --sklearn-color-line: gray;\n",
              "  /* Definition of color scheme for unfitted estimators */\n",
              "  --sklearn-color-unfitted-level-0: #fff5e6;\n",
              "  --sklearn-color-unfitted-level-1: #f6e4d2;\n",
              "  --sklearn-color-unfitted-level-2: #ffe0b3;\n",
              "  --sklearn-color-unfitted-level-3: chocolate;\n",
              "  /* Definition of color scheme for fitted estimators */\n",
              "  --sklearn-color-fitted-level-0: #f0f8ff;\n",
              "  --sklearn-color-fitted-level-1: #d4ebff;\n",
              "  --sklearn-color-fitted-level-2: #b3dbfd;\n",
              "  --sklearn-color-fitted-level-3: cornflowerblue;\n",
              "\n",
              "  /* Specific color for light theme */\n",
              "  --sklearn-color-text-on-default-background: var(--sg-text-color, var(--theme-code-foreground, var(--jp-content-font-color1, black)));\n",
              "  --sklearn-color-background: var(--sg-background-color, var(--theme-background, var(--jp-layout-color0, white)));\n",
              "  --sklearn-color-border-box: var(--sg-text-color, var(--theme-code-foreground, var(--jp-content-font-color1, black)));\n",
              "  --sklearn-color-icon: #696969;\n",
              "\n",
              "  @media (prefers-color-scheme: dark) {\n",
              "    /* Redefinition of color scheme for dark theme */\n",
              "    --sklearn-color-text-on-default-background: var(--sg-text-color, var(--theme-code-foreground, var(--jp-content-font-color1, white)));\n",
              "    --sklearn-color-background: var(--sg-background-color, var(--theme-background, var(--jp-layout-color0, #111)));\n",
              "    --sklearn-color-border-box: var(--sg-text-color, var(--theme-code-foreground, var(--jp-content-font-color1, white)));\n",
              "    --sklearn-color-icon: #878787;\n",
              "  }\n",
              "}\n",
              "\n",
              "#sk-container-id-4 {\n",
              "  color: var(--sklearn-color-text);\n",
              "}\n",
              "\n",
              "#sk-container-id-4 pre {\n",
              "  padding: 0;\n",
              "}\n",
              "\n",
              "#sk-container-id-4 input.sk-hidden--visually {\n",
              "  border: 0;\n",
              "  clip: rect(1px 1px 1px 1px);\n",
              "  clip: rect(1px, 1px, 1px, 1px);\n",
              "  height: 1px;\n",
              "  margin: -1px;\n",
              "  overflow: hidden;\n",
              "  padding: 0;\n",
              "  position: absolute;\n",
              "  width: 1px;\n",
              "}\n",
              "\n",
              "#sk-container-id-4 div.sk-dashed-wrapped {\n",
              "  border: 1px dashed var(--sklearn-color-line);\n",
              "  margin: 0 0.4em 0.5em 0.4em;\n",
              "  box-sizing: border-box;\n",
              "  padding-bottom: 0.4em;\n",
              "  background-color: var(--sklearn-color-background);\n",
              "}\n",
              "\n",
              "#sk-container-id-4 div.sk-container {\n",
              "  /* jupyter's `normalize.less` sets `[hidden] { display: none; }`\n",
              "     but bootstrap.min.css set `[hidden] { display: none !important; }`\n",
              "     so we also need the `!important` here to be able to override the\n",
              "     default hidden behavior on the sphinx rendered scikit-learn.org.\n",
              "     See: https://github.com/scikit-learn/scikit-learn/issues/21755 */\n",
              "  display: inline-block !important;\n",
              "  position: relative;\n",
              "}\n",
              "\n",
              "#sk-container-id-4 div.sk-text-repr-fallback {\n",
              "  display: none;\n",
              "}\n",
              "\n",
              "div.sk-parallel-item,\n",
              "div.sk-serial,\n",
              "div.sk-item {\n",
              "  /* draw centered vertical line to link estimators */\n",
              "  background-image: linear-gradient(var(--sklearn-color-text-on-default-background), var(--sklearn-color-text-on-default-background));\n",
              "  background-size: 2px 100%;\n",
              "  background-repeat: no-repeat;\n",
              "  background-position: center center;\n",
              "}\n",
              "\n",
              "/* Parallel-specific style estimator block */\n",
              "\n",
              "#sk-container-id-4 div.sk-parallel-item::after {\n",
              "  content: \"\";\n",
              "  width: 100%;\n",
              "  border-bottom: 2px solid var(--sklearn-color-text-on-default-background);\n",
              "  flex-grow: 1;\n",
              "}\n",
              "\n",
              "#sk-container-id-4 div.sk-parallel {\n",
              "  display: flex;\n",
              "  align-items: stretch;\n",
              "  justify-content: center;\n",
              "  background-color: var(--sklearn-color-background);\n",
              "  position: relative;\n",
              "}\n",
              "\n",
              "#sk-container-id-4 div.sk-parallel-item {\n",
              "  display: flex;\n",
              "  flex-direction: column;\n",
              "}\n",
              "\n",
              "#sk-container-id-4 div.sk-parallel-item:first-child::after {\n",
              "  align-self: flex-end;\n",
              "  width: 50%;\n",
              "}\n",
              "\n",
              "#sk-container-id-4 div.sk-parallel-item:last-child::after {\n",
              "  align-self: flex-start;\n",
              "  width: 50%;\n",
              "}\n",
              "\n",
              "#sk-container-id-4 div.sk-parallel-item:only-child::after {\n",
              "  width: 0;\n",
              "}\n",
              "\n",
              "/* Serial-specific style estimator block */\n",
              "\n",
              "#sk-container-id-4 div.sk-serial {\n",
              "  display: flex;\n",
              "  flex-direction: column;\n",
              "  align-items: center;\n",
              "  background-color: var(--sklearn-color-background);\n",
              "  padding-right: 1em;\n",
              "  padding-left: 1em;\n",
              "}\n",
              "\n",
              "\n",
              "/* Toggleable style: style used for estimator/Pipeline/ColumnTransformer box that is\n",
              "clickable and can be expanded/collapsed.\n",
              "- Pipeline and ColumnTransformer use this feature and define the default style\n",
              "- Estimators will overwrite some part of the style using the `sk-estimator` class\n",
              "*/\n",
              "\n",
              "/* Pipeline and ColumnTransformer style (default) */\n",
              "\n",
              "#sk-container-id-4 div.sk-toggleable {\n",
              "  /* Default theme specific background. It is overwritten whether we have a\n",
              "  specific estimator or a Pipeline/ColumnTransformer */\n",
              "  background-color: var(--sklearn-color-background);\n",
              "}\n",
              "\n",
              "/* Toggleable label */\n",
              "#sk-container-id-4 label.sk-toggleable__label {\n",
              "  cursor: pointer;\n",
              "  display: block;\n",
              "  width: 100%;\n",
              "  margin-bottom: 0;\n",
              "  padding: 0.5em;\n",
              "  box-sizing: border-box;\n",
              "  text-align: center;\n",
              "}\n",
              "\n",
              "#sk-container-id-4 label.sk-toggleable__label-arrow:before {\n",
              "  /* Arrow on the left of the label */\n",
              "  content: \"▸\";\n",
              "  float: left;\n",
              "  margin-right: 0.25em;\n",
              "  color: var(--sklearn-color-icon);\n",
              "}\n",
              "\n",
              "#sk-container-id-4 label.sk-toggleable__label-arrow:hover:before {\n",
              "  color: var(--sklearn-color-text);\n",
              "}\n",
              "\n",
              "/* Toggleable content - dropdown */\n",
              "\n",
              "#sk-container-id-4 div.sk-toggleable__content {\n",
              "  max-height: 0;\n",
              "  max-width: 0;\n",
              "  overflow: hidden;\n",
              "  text-align: left;\n",
              "  /* unfitted */\n",
              "  background-color: var(--sklearn-color-unfitted-level-0);\n",
              "}\n",
              "\n",
              "#sk-container-id-4 div.sk-toggleable__content.fitted {\n",
              "  /* fitted */\n",
              "  background-color: var(--sklearn-color-fitted-level-0);\n",
              "}\n",
              "\n",
              "#sk-container-id-4 div.sk-toggleable__content pre {\n",
              "  margin: 0.2em;\n",
              "  border-radius: 0.25em;\n",
              "  color: var(--sklearn-color-text);\n",
              "  /* unfitted */\n",
              "  background-color: var(--sklearn-color-unfitted-level-0);\n",
              "}\n",
              "\n",
              "#sk-container-id-4 div.sk-toggleable__content.fitted pre {\n",
              "  /* unfitted */\n",
              "  background-color: var(--sklearn-color-fitted-level-0);\n",
              "}\n",
              "\n",
              "#sk-container-id-4 input.sk-toggleable__control:checked~div.sk-toggleable__content {\n",
              "  /* Expand drop-down */\n",
              "  max-height: 200px;\n",
              "  max-width: 100%;\n",
              "  overflow: auto;\n",
              "}\n",
              "\n",
              "#sk-container-id-4 input.sk-toggleable__control:checked~label.sk-toggleable__label-arrow:before {\n",
              "  content: \"▾\";\n",
              "}\n",
              "\n",
              "/* Pipeline/ColumnTransformer-specific style */\n",
              "\n",
              "#sk-container-id-4 div.sk-label input.sk-toggleable__control:checked~label.sk-toggleable__label {\n",
              "  color: var(--sklearn-color-text);\n",
              "  background-color: var(--sklearn-color-unfitted-level-2);\n",
              "}\n",
              "\n",
              "#sk-container-id-4 div.sk-label.fitted input.sk-toggleable__control:checked~label.sk-toggleable__label {\n",
              "  background-color: var(--sklearn-color-fitted-level-2);\n",
              "}\n",
              "\n",
              "/* Estimator-specific style */\n",
              "\n",
              "/* Colorize estimator box */\n",
              "#sk-container-id-4 div.sk-estimator input.sk-toggleable__control:checked~label.sk-toggleable__label {\n",
              "  /* unfitted */\n",
              "  background-color: var(--sklearn-color-unfitted-level-2);\n",
              "}\n",
              "\n",
              "#sk-container-id-4 div.sk-estimator.fitted input.sk-toggleable__control:checked~label.sk-toggleable__label {\n",
              "  /* fitted */\n",
              "  background-color: var(--sklearn-color-fitted-level-2);\n",
              "}\n",
              "\n",
              "#sk-container-id-4 div.sk-label label.sk-toggleable__label,\n",
              "#sk-container-id-4 div.sk-label label {\n",
              "  /* The background is the default theme color */\n",
              "  color: var(--sklearn-color-text-on-default-background);\n",
              "}\n",
              "\n",
              "/* On hover, darken the color of the background */\n",
              "#sk-container-id-4 div.sk-label:hover label.sk-toggleable__label {\n",
              "  color: var(--sklearn-color-text);\n",
              "  background-color: var(--sklearn-color-unfitted-level-2);\n",
              "}\n",
              "\n",
              "/* Label box, darken color on hover, fitted */\n",
              "#sk-container-id-4 div.sk-label.fitted:hover label.sk-toggleable__label.fitted {\n",
              "  color: var(--sklearn-color-text);\n",
              "  background-color: var(--sklearn-color-fitted-level-2);\n",
              "}\n",
              "\n",
              "/* Estimator label */\n",
              "\n",
              "#sk-container-id-4 div.sk-label label {\n",
              "  font-family: monospace;\n",
              "  font-weight: bold;\n",
              "  display: inline-block;\n",
              "  line-height: 1.2em;\n",
              "}\n",
              "\n",
              "#sk-container-id-4 div.sk-label-container {\n",
              "  text-align: center;\n",
              "}\n",
              "\n",
              "/* Estimator-specific */\n",
              "#sk-container-id-4 div.sk-estimator {\n",
              "  font-family: monospace;\n",
              "  border: 1px dotted var(--sklearn-color-border-box);\n",
              "  border-radius: 0.25em;\n",
              "  box-sizing: border-box;\n",
              "  margin-bottom: 0.5em;\n",
              "  /* unfitted */\n",
              "  background-color: var(--sklearn-color-unfitted-level-0);\n",
              "}\n",
              "\n",
              "#sk-container-id-4 div.sk-estimator.fitted {\n",
              "  /* fitted */\n",
              "  background-color: var(--sklearn-color-fitted-level-0);\n",
              "}\n",
              "\n",
              "/* on hover */\n",
              "#sk-container-id-4 div.sk-estimator:hover {\n",
              "  /* unfitted */\n",
              "  background-color: var(--sklearn-color-unfitted-level-2);\n",
              "}\n",
              "\n",
              "#sk-container-id-4 div.sk-estimator.fitted:hover {\n",
              "  /* fitted */\n",
              "  background-color: var(--sklearn-color-fitted-level-2);\n",
              "}\n",
              "\n",
              "/* Specification for estimator info (e.g. \"i\" and \"?\") */\n",
              "\n",
              "/* Common style for \"i\" and \"?\" */\n",
              "\n",
              ".sk-estimator-doc-link,\n",
              "a:link.sk-estimator-doc-link,\n",
              "a:visited.sk-estimator-doc-link {\n",
              "  float: right;\n",
              "  font-size: smaller;\n",
              "  line-height: 1em;\n",
              "  font-family: monospace;\n",
              "  background-color: var(--sklearn-color-background);\n",
              "  border-radius: 1em;\n",
              "  height: 1em;\n",
              "  width: 1em;\n",
              "  text-decoration: none !important;\n",
              "  margin-left: 1ex;\n",
              "  /* unfitted */\n",
              "  border: var(--sklearn-color-unfitted-level-1) 1pt solid;\n",
              "  color: var(--sklearn-color-unfitted-level-1);\n",
              "}\n",
              "\n",
              ".sk-estimator-doc-link.fitted,\n",
              "a:link.sk-estimator-doc-link.fitted,\n",
              "a:visited.sk-estimator-doc-link.fitted {\n",
              "  /* fitted */\n",
              "  border: var(--sklearn-color-fitted-level-1) 1pt solid;\n",
              "  color: var(--sklearn-color-fitted-level-1);\n",
              "}\n",
              "\n",
              "/* On hover */\n",
              "div.sk-estimator:hover .sk-estimator-doc-link:hover,\n",
              ".sk-estimator-doc-link:hover,\n",
              "div.sk-label-container:hover .sk-estimator-doc-link:hover,\n",
              ".sk-estimator-doc-link:hover {\n",
              "  /* unfitted */\n",
              "  background-color: var(--sklearn-color-unfitted-level-3);\n",
              "  color: var(--sklearn-color-background);\n",
              "  text-decoration: none;\n",
              "}\n",
              "\n",
              "div.sk-estimator.fitted:hover .sk-estimator-doc-link.fitted:hover,\n",
              ".sk-estimator-doc-link.fitted:hover,\n",
              "div.sk-label-container:hover .sk-estimator-doc-link.fitted:hover,\n",
              ".sk-estimator-doc-link.fitted:hover {\n",
              "  /* fitted */\n",
              "  background-color: var(--sklearn-color-fitted-level-3);\n",
              "  color: var(--sklearn-color-background);\n",
              "  text-decoration: none;\n",
              "}\n",
              "\n",
              "/* Span, style for the box shown on hovering the info icon */\n",
              ".sk-estimator-doc-link span {\n",
              "  display: none;\n",
              "  z-index: 9999;\n",
              "  position: relative;\n",
              "  font-weight: normal;\n",
              "  right: .2ex;\n",
              "  padding: .5ex;\n",
              "  margin: .5ex;\n",
              "  width: min-content;\n",
              "  min-width: 20ex;\n",
              "  max-width: 50ex;\n",
              "  color: var(--sklearn-color-text);\n",
              "  box-shadow: 2pt 2pt 4pt #999;\n",
              "  /* unfitted */\n",
              "  background: var(--sklearn-color-unfitted-level-0);\n",
              "  border: .5pt solid var(--sklearn-color-unfitted-level-3);\n",
              "}\n",
              "\n",
              ".sk-estimator-doc-link.fitted span {\n",
              "  /* fitted */\n",
              "  background: var(--sklearn-color-fitted-level-0);\n",
              "  border: var(--sklearn-color-fitted-level-3);\n",
              "}\n",
              "\n",
              ".sk-estimator-doc-link:hover span {\n",
              "  display: block;\n",
              "}\n",
              "\n",
              "/* \"?\"-specific style due to the `<a>` HTML tag */\n",
              "\n",
              "#sk-container-id-4 a.estimator_doc_link {\n",
              "  float: right;\n",
              "  font-size: 1rem;\n",
              "  line-height: 1em;\n",
              "  font-family: monospace;\n",
              "  background-color: var(--sklearn-color-background);\n",
              "  border-radius: 1rem;\n",
              "  height: 1rem;\n",
              "  width: 1rem;\n",
              "  text-decoration: none;\n",
              "  /* unfitted */\n",
              "  color: var(--sklearn-color-unfitted-level-1);\n",
              "  border: var(--sklearn-color-unfitted-level-1) 1pt solid;\n",
              "}\n",
              "\n",
              "#sk-container-id-4 a.estimator_doc_link.fitted {\n",
              "  /* fitted */\n",
              "  border: var(--sklearn-color-fitted-level-1) 1pt solid;\n",
              "  color: var(--sklearn-color-fitted-level-1);\n",
              "}\n",
              "\n",
              "/* On hover */\n",
              "#sk-container-id-4 a.estimator_doc_link:hover {\n",
              "  /* unfitted */\n",
              "  background-color: var(--sklearn-color-unfitted-level-3);\n",
              "  color: var(--sklearn-color-background);\n",
              "  text-decoration: none;\n",
              "}\n",
              "\n",
              "#sk-container-id-4 a.estimator_doc_link.fitted:hover {\n",
              "  /* fitted */\n",
              "  background-color: var(--sklearn-color-fitted-level-3);\n",
              "}\n",
              "</style><div id=\"sk-container-id-4\" class=\"sk-top-container\"><div class=\"sk-text-repr-fallback\"><pre>KMeans(n_clusters=4, n_init=10, random_state=0)</pre><b>In a Jupyter environment, please rerun this cell to show the HTML representation or trust the notebook. <br />On GitHub, the HTML representation is unable to render, please try loading this page with nbviewer.org.</b></div><div class=\"sk-container\" hidden><div class=\"sk-item\"><div class=\"sk-estimator fitted sk-toggleable\"><input class=\"sk-toggleable__control sk-hidden--visually\" id=\"sk-estimator-id-4\" type=\"checkbox\" checked><label for=\"sk-estimator-id-4\" class=\"sk-toggleable__label fitted sk-toggleable__label-arrow fitted\">&nbsp;&nbsp;KMeans<a class=\"sk-estimator-doc-link fitted\" rel=\"noreferrer\" target=\"_blank\" href=\"https://scikit-learn.org/1.4/modules/generated/sklearn.cluster.KMeans.html\">?<span>Documentation for KMeans</span></a><span class=\"sk-estimator-doc-link fitted\">i<span>Fitted</span></span></label><div class=\"sk-toggleable__content fitted\"><pre>KMeans(n_clusters=4, n_init=10, random_state=0)</pre></div> </div></div></div></div>"
            ],
            "text/plain": [
              "KMeans(n_clusters=4, n_init=10, random_state=0)"
            ]
          },
          "execution_count": 62,
          "metadata": {},
          "output_type": "execute_result"
        }
      ],
      "source": [
        "clusters_kmeans = KMeans(n_clusters = 4,random_state = 0,n_init=10)\n",
        "clusters_kmeans.fit(protein_scaled)"
      ]
    },
    {
      "cell_type": "markdown",
      "metadata": {
        "id": "br5iTAWSUt13"
      },
      "source": [
        "Para poder ver la a qué cluster se ha asignado cada instancia sólo tenemos que acceder al atributo **labels_** del objeto generado."
      ]
    },
    {
      "cell_type": "code",
      "execution_count": 63,
      "metadata": {
        "id": "P-5sUTUbUt14",
        "outputId": "c25be5ba-a712-497a-8b6c-e97de60f092a"
      },
      "outputs": [
        {
          "data": {
            "text/plain": [
              "array([1, 2, 2, 1, 2, 0, 2, 0, 2, 1, 1, 2, 1, 2, 0, 2, 3, 1, 3, 0, 2, 2,\n",
              "       1, 2, 1])"
            ]
          },
          "execution_count": 63,
          "metadata": {},
          "output_type": "execute_result"
        }
      ],
      "source": [
        "clusters_kmeans.labels_"
      ]
    },
    {
      "cell_type": "markdown",
      "metadata": {
        "id": "XKEL7QqNUt14"
      },
      "source": [
        "De la misma forma, en el atributo **cluster_centers_** del mismo objeto tenemos la información sobre las coordenadas de los centroides, que pueden ser interesante para mostrar los resultados de forma gráfica."
      ]
    },
    {
      "cell_type": "code",
      "execution_count": 64,
      "metadata": {
        "id": "WKajn3_dUt14",
        "outputId": "2009559c-5c42-4569-f6bf-5ca62632d27c"
      },
      "outputs": [
        {
          "data": {
            "text/plain": [
              "array([[ 0.00670843, -0.23373748,  0.19542735,  1.37362771,  1.18213867,\n",
              "        -0.890259  ,  0.17113559, -0.97503902, -1.13779293],\n",
              "       [-0.62220731, -0.66888703, -0.91184211, -0.74505981, -0.70010446,\n",
              "         1.26378091, -0.91407642,  1.06164634, -0.0628021 ],\n",
              "       [ 0.6262684 ,  0.78977447,  0.73090162,  0.31297814, -0.26516381,\n",
              "        -0.5252463 ,  0.4294856 , -0.62575946,  0.10821917],\n",
              "       [-0.96906387, -1.20073649, -0.76344517, -1.48839594,  1.89454145,\n",
              "        -0.385751  ,  0.95186365,  1.14516971,  1.93158879]])"
            ]
          },
          "execution_count": 64,
          "metadata": {},
          "output_type": "execute_result"
        }
      ],
      "source": [
        "clusters_kmeans.cluster_centers_"
      ]
    },
    {
      "cell_type": "markdown",
      "metadata": {
        "id": "nK4Pl-kMUt15"
      },
      "source": [
        "A continuación, al igual que hicimos con el agrupamiento jerárquico, podemos ver los resultados del clustering utilizando un gráfico de dispersión al que le añadimos los centroides de cada cluster."
      ]
    },
    {
      "cell_type": "code",
      "execution_count": 65,
      "metadata": {
        "id": "BRg5DihjUt15",
        "outputId": "005d5f4e-dafe-4895-9c63-ca9590db52c0"
      },
      "outputs": [
        {
          "name": "stderr",
          "output_type": "stream",
          "text": [
            "C:\\Users\\fcoja\\AppData\\Local\\Temp\\ipykernel_19496\\536575036.py:8: FutureWarning: Series.__getitem__ treating keys as positions is deprecated. In a future version, integer keys will always be treated as labels (consistent with DataFrame behavior). To access a value by position, use `ser.iloc[pos]`\n",
            "  plt.annotate(label, (protein_scaled[\"RedMeat\"][i], protein_scaled[\"Fish\"][i]),\n"
          ]
        },
        {
          "data": {
            "image/png": "[encoded data removed]",
            "text/plain": [
              "<Figure size 640x480 with 1 Axes>"
            ]
          },
          "metadata": {},
          "output_type": "display_data"
        }
      ],
      "source": [
        "fig, ax = plt.subplots()\n",
        "centers_x = clusters_kmeans.cluster_centers_[:,protein_scaled.columns.get_loc('RedMeat')]\n",
        "center_y = clusters_kmeans.cluster_centers_[:,protein_scaled.columns.get_loc('Fish')]\n",
        "paises = np.array(protein_scaled.index).astype(str)\n",
        "plt.scatter(protein_scaled[\"RedMeat\"],protein_scaled[\"Fish\"],\n",
        "             c=clusters_kmeans.labels_, cmap='viridis')\n",
        "for i, label in enumerate(paises):\n",
        "    plt.annotate(label, (protein_scaled[\"RedMeat\"][i], protein_scaled[\"Fish\"][i]),\n",
        "                 textcoords=\"offset points\", xytext=(0, 5), ha='center', fontsize=6)\n",
        "plt.scatter(centers_x,center_y,marker=\"*\",c=[0,1,2,3],cmap='viridis')\n",
        "plt.xlabel('Red Meat')\n",
        "plt.ylabel('Fish')\n",
        "plt.show()"
      ]
    },
    {
      "cell_type": "markdown",
      "metadata": {
        "id": "j7EnIRh0Ut15"
      },
      "source": [
        "También podemos usar la función **kmeans2()** del módulo `scipy.cluster.vq`. En este caso se utiliza el parámetro **k (int)** para indicar el número de clusters y se devuelven dos arrays uno con los centroides y otro con la asignación de instancias a los diferentes clusters. Aquí puedes ver un ejemplo de como utilizarla. En"
      ]
    },
    {
      "cell_type": "code",
      "execution_count": 66,
      "metadata": {
        "id": "uZZdq35cUt16"
      },
      "outputs": [],
      "source": [
        "centroids, labels = vq.kmeans2(protein_scaled,k=4,minit=\"++\",seed=0,iter=10)"
      ]
    },
    {
      "cell_type": "code",
      "execution_count": 67,
      "metadata": {
        "id": "q-qo1V8mUt16",
        "outputId": "079c9354-26aa-42b6-c5a8-2f216ca08d31"
      },
      "outputs": [
        {
          "data": {
            "text/plain": [
              "array([[-0.51929382, -1.13166513, -0.4209907 , -0.84919869,  1.00216323,\n",
              "         0.13270653, -0.18799932,  1.33791596,  1.66284109],\n",
              "       [ 0.00670843, -0.23373748,  0.19542735,  1.37362771,  1.18213867,\n",
              "        -0.890259  ,  0.17113559, -0.97503902, -1.13779293],\n",
              "       [ 0.6262684 ,  0.78977447,  0.73090162,  0.31297814, -0.26516381,\n",
              "        -0.5252463 ,  0.4294856 , -0.62575946,  0.10821917],\n",
              "       [-0.80643515, -0.53765145, -1.18961073, -0.9234126 , -0.97006761,\n",
              "         1.46798653, -0.77614779,  0.90530771, -0.54843392]])"
            ]
          },
          "execution_count": 67,
          "metadata": {},
          "output_type": "execute_result"
        }
      ],
      "source": [
        "centroids"
      ]
    },
    {
      "cell_type": "code",
      "execution_count": 68,
      "metadata": {
        "id": "10q_rw-zUt16",
        "outputId": "ee9c4cab-f020-42a2-fa8c-44e17c1b82f3"
      },
      "outputs": [
        {
          "data": {
            "text/plain": [
              "array([3, 2, 2, 3, 2, 1, 2, 1, 2, 0, 3, 2, 0, 2, 1, 2, 0, 3, 0, 1, 2, 2,\n",
              "       3, 2, 3])"
            ]
          },
          "execution_count": 68,
          "metadata": {},
          "output_type": "execute_result"
        }
      ],
      "source": [
        "labels"
      ]
    },
    {
      "cell_type": "markdown",
      "metadata": {
        "id": "m9jM764QUt17"
      },
      "source": [
        "### Kmedoids"
      ]
    },
    {
      "cell_type": "markdown",
      "metadata": {
        "id": "F603u1I2Ut17"
      },
      "source": [
        "La técnica de clustering de **K medoides** o **PAM (Partition Arround Medoids)** se puede aplicar a través de la función `KMedodis()` del módulo `sklearn_extra.cluster`. Los parámetros más importantes son:\n",
        "\n",
        "- **n_clusters (int)**: número de clusters objetivo.\n",
        "- **metric** métrica de distancia a utilizar (por defecto está inicializado a 'euclidean').\n",
        "- **init**: Método de inicialización de los centroides. Se puede utilizar **k-medoids++**, que es el valor por defecto o la inicialización aleatoria, **ramdom**. También se le puede pasar una matriz con las coordenadas de los centroides. Otras opciones son: **heuristic**, que selecciona las *n_clusters* instancias con menor distancia total al resto de los elementos, o *build*, inicialización de medoides voraz definida en la descripción original del algoritmo.\n",
        "- **n_init (int)**: número de veces que se ejecuta el algoritmo con diferentes inicializaciones de los centroides. Se puede indiciar también **auto** y en ese caso se inicializará a 10 en el caso de que `init='random'` o 1 en el caso de `init='k-means++'`.\n",
        "- **max_iter (int)**: número máximo de iteraciones del algoritmo para cada ejecución. También se le puede indicar la tolerancia, a través del parámetro **tol (float)**, a partir de la cual se considera que la diferencia de los centroides ha hecho converger al algoritmo.\n",
        "- **random_state**: determina la semilla para la inicialización aleatoria de los centroides. Es importante utilizar este parámetro para garantizar la reproducibilidad.\n",
        "\n",
        "Para aplicar esta técnica  nuestro dataset hay que seguir los mismos pasos que indicamos en la aplicación de las *K medias*."
      ]
    },
    {
      "cell_type": "code",
      "execution_count": 69,
      "metadata": {
        "id": "y1gqvW8nUt18"
      },
      "outputs": [],
      "source": [
        "from sklearn_extra.cluster import KMedoids\n",
        "\n",
        "clusters_kmediods = KMedoids(n_clusters=4,random_state=0).fit(protein_scaled)"
      ]
    },
    {
      "cell_type": "code",
      "execution_count": 70,
      "metadata": {
        "id": "Xf_3kP6cUt18",
        "outputId": "d3075ca9-2bd8-4aa4-8dd6-c332b37aa1ff"
      },
      "outputs": [
        {
          "data": {
            "text/plain": [
              "array([1, 3, 0, 1, 3, 3, 0, 3, 0, 2, 1, 0, 2, 3, 0, 3, 2, 1, 2, 3, 3, 0,\n",
              "       1, 3, 1], dtype=int64)"
            ]
          },
          "execution_count": 70,
          "metadata": {},
          "output_type": "execute_result"
        }
      ],
      "source": [
        "clusters_kmediods.labels_"
      ]
    },
    {
      "cell_type": "code",
      "execution_count": 71,
      "metadata": {
        "id": "zUefFXyaUt18",
        "outputId": "b1dd5de5-55d0-4a07-c9f6-df46645f6efe"
      },
      "outputs": [
        {
          "data": {
            "text/plain": [
              "array([ 2, 17, 18, 13], dtype=int64)"
            ]
          },
          "execution_count": 71,
          "metadata": {},
          "output_type": "execute_result"
        }
      ],
      "source": [
        "clusters_kmediods.medoid_indices_"
      ]
    },
    {
      "cell_type": "markdown",
      "metadata": {
        "id": "mA8HEnJZUt19"
      },
      "source": [
        "Otra librería interesante que implementa esta técnica es [kmedoids](https://python-kmedoids.readthedocs.io/en/latest/), que implementa versiones más eficientes de *K medoides*. Recuerda que para datasets grandes conviene utilizar la versión **Clara** del *K medoides*."
      ]
    },
    {
      "cell_type": "markdown",
      "metadata": {
        "id": "NK90rQscUt19"
      },
      "source": [
        "#### Ejercicio 1: Regla del codo"
      ]
    },
    {
      "cell_type": "markdown",
      "metadata": {
        "id": "-Eku63gnUt19"
      },
      "source": [
        "En este ejercicio vamos a desarrollar todos los pasos necesarios para aplicar la regla del codo. Recuerda que tenemos que calcular la distancia intracluster para determinados números de clusters y elegir aquel en el que se produzca un cambio de tendencia."
      ]
    },
    {
      "cell_type": "code",
      "execution_count": 72,
      "metadata": {
        "id": "NPTvfyQ8Ut19",
        "outputId": "c9c63f9d-aa9e-456e-e15a-ebec5c924deb"
      },
      "outputs": [],
      "source": [
        "## Define una array vacío, wss, para ir almacenando la distancia intracluster para cada número de clusters elegido.\n",
        "## PON TU CÓDIGO AQUÍ\n",
        "\n",
        "wss = []\n",
        "\n",
        "## Definir un bucle que vaya del número mínimo de clusters al número máximo de clusters.\n",
        "## Para cada número de clusters aplicar el algoritmo k-medias.\n",
        "## Una vez aplicado el algoritmo determinar la suma de distancia intraclusters y añadirla al array wss.\n",
        "## PON TU CÓDIGO AQUÍ\n",
        "    \n",
        "\n",
        "\n",
        "## Una vez terminado el bucle crear un gráfico con los diferentes números de clusters en el eje X y la distancia intracluster en el eje Y.\n",
        "## PON TU CÓDIGO AQUÍ"
      ]
    },
    {
      "cell_type": "markdown",
      "metadata": {
        "id": "ckVJcUAjUt1-"
      },
      "source": [
        "¿Cuál crees que puede ser el k óptimo?"
      ]
    },
    {
      "cell_type": "markdown",
      "metadata": {
        "id": "Z1q-K9PBUt2C"
      },
      "source": [
        "#### Ejercicio 2. Selección del número de cluster óptimo utilizando el índice silueta.\n",
        "Repite el ejercicio anterior pero dentro del bucle calcula el índice silueta medio. Recuerda que el **k** óptimo será el que tenga asociado el índice máximo"
      ]
    },
    {
      "cell_type": "code",
      "execution_count": 73,
      "metadata": {
        "id": "2L7w8xw9Ut2D"
      },
      "outputs": [],
      "source": [
        "# PON TU CÓIDIGO AQUÍ"
      ]
    },
    {
      "cell_type": "markdown",
      "metadata": {
        "id": "6VkwKrjDUt2D"
      },
      "source": [
        "### DBSCAN"
      ]
    },
    {
      "cell_type": "markdown",
      "metadata": {
        "id": "Zdxw50eZUt2D"
      },
      "source": [
        "El método de clustering **DBSCAN** lo podemos aplicar utilizando la función `DBSCAN()` del módulo `sklearn.cluster`. Los parámetros más importantes son:\n",
        "\n",
        "- **eps (float)**: radio para la definición de la *epsilon-vecindad* (por defecto 0.5).\n",
        "- **min_samples (int)**: mínimo número de puntos en la  *epsilon-vecindad* para definir un punto núcleo (por defecto 5).\n",
        "- **metric**: métrica de distancia a utilizar, por defecto `metric='euclidean'`.\n",
        "\n",
        "Los parámetros *eps* y *min_samples* son críticos para el funcionamiento del algoritmo. Para seleccionarlos de forma adecuada hay que analizar un gráfico en el que se muestren de forma ordenada de menor a mayor las distancias de cada punto a los `min_samples` instancias más cercanas. Esto se puede hacer utilizando la función  `NearestNeighbors()` del módulo `sklearn.neighbors` que nos devuelve una matriz de dimensiones $n\\_samples \\times n\\_vecinos-1$ (la primera columna es la distancia de cada punto consigo mismo, la segunda es la distancia al segundo punto más cercano y, así, sucesivamente).\n",
        "\n",
        "Vamos a construir el gráfico de las *KNN distancias*:"
      ]
    },
    {
      "cell_type": "code",
      "execution_count": 74,
      "metadata": {
        "id": "hJ1sv2IHUt2E",
        "outputId": "56ea73f7-d959-475b-d9ff-d512e58f2f4d"
      },
      "outputs": [
        {
          "data": {
            "text/plain": [
              "[<matplotlib.lines.Line2D at 0x1fe5a448150>]"
            ]
          },
          "execution_count": 74,
          "metadata": {},
          "output_type": "execute_result"
        },
        {
          "data": {
            "image/png": "[encoded data removed]",
            "text/plain": [
              "<Figure size 640x480 with 1 Axes>"
            ]
          },
          "metadata": {},
          "output_type": "display_data"
        }
      ],
      "source": [
        "from sklearn.neighbors import NearestNeighbors\n",
        "\n",
        "# Llamamos a la función NearestNeighbors para calcular la distancia a los 4 vecinos más cercanos.\n",
        "\n",
        "neighbors = NearestNeighbors(n_neighbors=4).fit(protein_scaled)\n",
        "\n",
        "# Extraemos las distancias y los índices de los vecinos más cercanos con la función kneighbors().\n",
        "\n",
        "distances, indices = neighbors.kneighbors(protein_scaled)\n",
        "\n",
        "# Elimina la primera columna ya que contiene la distancia de cada punto consigo mismo\n",
        "distances = distances[:,1:].reshape(-1)\n",
        "\n",
        "# Transforma la matriz de distancia en una array de dimensión 1.\n",
        "distances = distances.reshape(-1)\n",
        "\n",
        "# Ordena las distancias en orden descendente\n",
        "distances = np.sort(distances, axis=0)\n",
        "\n",
        "# Crea un gráfico en el que el eje y represente las distancias.\n",
        "plt.plot(distances)\n"
      ]
    },
    {
      "cell_type": "markdown",
      "metadata": {
        "id": "I_Z-cCLAUt2E"
      },
      "source": [
        "Cómo se puede apreciar en el gráfico hay dos cambios de tendencia, uno muy evidente en torno a 3 y otro, más suave cercano a 2.5. Habría que probar estos valores teniendo en cuenta que min_samples lo hemos fijado a 3. Vamos a empezar con `eps=3.0`"
      ]
    },
    {
      "cell_type": "code",
      "execution_count": 75,
      "metadata": {
        "id": "uKiDVId7Ut2E"
      },
      "outputs": [],
      "source": [
        "clusters_dbscan = DBSCAN(eps=3,min_samples=3).fit(protein_scaled)"
      ]
    },
    {
      "cell_type": "markdown",
      "metadata": {
        "id": "iQRdxjH2Ut2E"
      },
      "source": [
        "Para determinar qué cluster ha sido asignado a cada instancia debemos acceder al atributo `labels_` del objeto generado."
      ]
    },
    {
      "cell_type": "code",
      "execution_count": 76,
      "metadata": {
        "id": "Gn_R4QTGUt2F",
        "outputId": "5b22ce90-b05d-4c1e-b81f-1248eff20556"
      },
      "outputs": [
        {
          "data": {
            "text/plain": [
              "array([0, 0, 0, 0, 0, 0, 0, 0, 0, 0, 0, 0, 0, 0, 0, 0, 0, 0, 0, 0, 0, 0,\n",
              "       0, 0, 0], dtype=int64)"
            ]
          },
          "execution_count": 76,
          "metadata": {},
          "output_type": "execute_result"
        }
      ],
      "source": [
        "clusters_dbscan.labels_"
      ]
    },
    {
      "cell_type": "markdown",
      "metadata": {
        "id": "xREMCqKwUt2F"
      },
      "source": [
        "Como podemos apreciar, se han asignado todos las instancias al mismo cluster, con lo que parece lógico que probemos con un valor localizado cercano a 2.5"
      ]
    },
    {
      "cell_type": "code",
      "execution_count": 77,
      "metadata": {
        "id": "1T0oJkM6Ut2F"
      },
      "outputs": [],
      "source": [
        "clusters_dbscan = DBSCAN(eps=2.3,min_samples=3).fit(protein_scaled)"
      ]
    },
    {
      "cell_type": "code",
      "execution_count": 78,
      "metadata": {
        "id": "N6-VPOL6Ut2G",
        "outputId": "d9320658-26ab-4388-ab5d-08f31d00c146"
      },
      "outputs": [
        {
          "data": {
            "text/plain": [
              "array([-1,  0,  0,  1,  0,  2,  0,  2,  0, -1, -1,  0, -1,  0,  2,  0, -1,\n",
              "        1, -1,  2,  0,  0, -1,  0,  1], dtype=int64)"
            ]
          },
          "execution_count": 78,
          "metadata": {},
          "output_type": "execute_result"
        }
      ],
      "source": [
        "clusters_dbscan.labels_"
      ]
    },
    {
      "cell_type": "markdown",
      "metadata": {
        "id": "c6_kqzZyUt2G"
      },
      "source": [
        "#### Ejercicio 3.\n",
        "1. ¿Qué crees que significa el cluster marcado con la etiqueta -1?\n",
        "2. Construye un algoritmo para encontrar el eps óptimo utilizando el índice silueta.\n"
      ]
    }
  ],
  "metadata": {
    "colab": {
      "provenance": []
    },
    "kernelspec": {
      "display_name": "Python 3 (ipykernel)",
      "language": "python",
      "name": "python3"
    },
    "language_info": {
      "codemirror_mode": {
        "name": "ipython",
        "version": 3
      },
      "file_extension": ".py",
      "mimetype": "text/x-python",
      "name": "python",
      "nbconvert_exporter": "python",
      "pygments_lexer": "ipython3",
      "version": "3.11.7"
    }
  },
  "nbformat": 4,
  "nbformat_minor": 0
}
