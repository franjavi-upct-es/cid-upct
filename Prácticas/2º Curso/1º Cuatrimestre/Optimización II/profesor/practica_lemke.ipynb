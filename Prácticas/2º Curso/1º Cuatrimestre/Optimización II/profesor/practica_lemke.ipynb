{
 "cells": [
  {
   "cell_type": "markdown",
   "metadata": {},
   "source": [
    "# Práctica sobre el algoritmo de complementariedad lineal de Lemke"
   ]
  },
  {
   "cell_type": "markdown",
   "metadata": {},
   "source": [
    "El algoritmo de Lemke es un conocido algoritmo para problemas de complementarieda lineal de la forma\n",
    "$$\n",
    "\\left\\{\\begin{array}{l}\n",
    "w-Mz=q\\\\\n",
    "w,z\\geq 0\\\\\n",
    "z_j\\cdot w_j =0,\n",
    "\\end{array}\n",
    "\\right.\n",
    "$$\n",
    "que también podemos escribir en la forma equivalente\n",
    "$$\n",
    "\\text{(PCL) }\\left\\{\\begin{array}{l}\n",
    "Mz+q\\geq 0\\\\\n",
    "z\\geq 0\\\\\n",
    "z^T\\cdot (Mz+q) =0\n",
    "\\end{array}\n",
    "\\right.\n",
    "$$\n",
    "Su implementación en Python puede encontrarse en el repositorio [https://github.com/AndyLamperski/lemkelcp](https://github.com/AndyLamperski/lemkelcp)"
   ]
  },
  {
   "cell_type": "markdown",
   "metadata": {},
   "source": [
    "Nos ocuparemos a continuación en ver varios problemas de complementarieda lineal, especialmente aquellos que provienen de problemas de optimización cuadrática."
   ]
  },
  {
   "cell_type": "markdown",
   "metadata": {},
   "source": [
    "**Ejemplo 1:** Consideremos el problema cuadrático\n",
    "\n",
    "$$\n",
    "\\text{(PQ)} \\left\\{ \n",
    "\\begin{array}{rl}\n",
    "\t\\text{Minimizar} & f\\left( x_1,x_2\\right) =\\frac{1}{2}( x_1^2+x_2^2) +  x_1 +  x_2  \\\\ \n",
    "\t\\text{sujeto a } & \\\\\n",
    "\t& x_1+x_2\\geq 1\\\\\n",
    "\t& x_1, x_2\\geq 0.\n",
    "\\end{array}\n",
    "\\right.\n",
    "$$\n",
    "Las ecuaciones de Karush-Kuhn-Tucker asociadas a este problema se escriben en la forma del problema de complementarieda lineal (PCL) anterior con \n",
    "$$\n",
    "M=\\left[\\begin{array}{ccc}\n",
    "\t\t\t0 & 1 & 1\\\\\n",
    "\t\t\t-1 & 1 & 0 \\\\\n",
    "\t\t\t-1 & 0 & 1\n",
    "\t\t\\end{array}\\right],\\quad q=\\left[\\begin{array}{c}\n",
    "\t\t-1\\\\\n",
    "\t\t1 \\\\\n",
    "\t\t1\n",
    "\t\\end{array}\n",
    "\\right].\n",
    "$$"
   ]
  },
  {
   "cell_type": "markdown",
   "metadata": {},
   "source": [
    "Calculamos la solución con **lemkelcp.py**. El resultado se muestra en forma de tupla **sol = (z, exit_code, exit_string)**  donde la primera componente **z** es la solución del problema (multiplicadores y solución del problema de optimización original), **exit_code = 0, 1, 2**, con **0** solución encontrada, **1** terminación en rayo, y **2** máximo número de iteraciones excedidas, información ésta recogida en **exit_string**.  "
   ]
  },
  {
   "cell_type": "code",
   "execution_count": null,
   "metadata": {},
   "outputs": [],
   "source": [
    "import numpy as np\n",
    "import lemkelcp"
   ]
  },
  {
   "cell_type": "code",
   "execution_count": 7,
   "metadata": {},
   "outputs": [
    {
     "ename": "TypeError",
     "evalue": "'range' object does not support item assignment",
     "output_type": "error",
     "traceback": [
      "\u001b[0;31m---------------------------------------------------------------------------\u001b[0m",
      "\u001b[0;31mTypeError\u001b[0m                                 Traceback (most recent call last)",
      "Cell \u001b[0;32mIn[7], line 8\u001b[0m\n\u001b[1;32m      1\u001b[0m M \u001b[38;5;241m=\u001b[39m np\u001b[38;5;241m.\u001b[39marray([\n\u001b[1;32m      2\u001b[0m     [\u001b[38;5;241m0\u001b[39m, \u001b[38;5;241m1\u001b[39m, \u001b[38;5;241m1\u001b[39m],\n\u001b[1;32m      3\u001b[0m     [\u001b[38;5;241m-\u001b[39m\u001b[38;5;241m1\u001b[39m, \u001b[38;5;241m1\u001b[39m, \u001b[38;5;241m0\u001b[39m],\n\u001b[1;32m      4\u001b[0m     [\u001b[38;5;241m-\u001b[39m\u001b[38;5;241m1\u001b[39m, \u001b[38;5;241m0\u001b[39m, \u001b[38;5;241m1\u001b[39m]\n\u001b[1;32m      5\u001b[0m     ])\n\u001b[1;32m      6\u001b[0m q \u001b[38;5;241m=\u001b[39m np\u001b[38;5;241m.\u001b[39marray([\u001b[38;5;241m-\u001b[39m\u001b[38;5;241m1\u001b[39m, \u001b[38;5;241m1\u001b[39m, \u001b[38;5;241m1\u001b[39m])\n\u001b[0;32m----> 8\u001b[0m sol \u001b[38;5;241m=\u001b[39m \u001b[43mlemkelcp\u001b[49m\u001b[38;5;241;43m.\u001b[39;49m\u001b[43mlemkelcp\u001b[49m\u001b[43m(\u001b[49m\u001b[43mM\u001b[49m\u001b[43m,\u001b[49m\u001b[43m \u001b[49m\u001b[43mq\u001b[49m\u001b[43m)\u001b[49m\n\u001b[1;32m      9\u001b[0m \u001b[38;5;28mprint\u001b[39m(\u001b[38;5;124mf\u001b[39m\u001b[38;5;124m\"\u001b[39m\u001b[38;5;124msolución = \u001b[39m\u001b[38;5;132;01m{\u001b[39;00msol\u001b[38;5;132;01m}\u001b[39;00m\u001b[38;5;124m\"\u001b[39m)\n",
      "File \u001b[0;32m/opt/conda/envs/optim-2/lib/python3.9/site-packages/lemkelcp/lemkelcp.py:193\u001b[0m, in \u001b[0;36mlemkelcp\u001b[0;34m(M, q, maxIter)\u001b[0m\n\u001b[1;32m    163\u001b[0m \u001b[38;5;250m\u001b[39m\u001b[38;5;124;03m\"\"\"\u001b[39;00m\n\u001b[1;32m    164\u001b[0m \u001b[38;5;124;03msol = lemkelcp(M,q,maxIter)\u001b[39;00m\n\u001b[1;32m    165\u001b[0m \n\u001b[0;32m   (...)\u001b[0m\n\u001b[1;32m    189\u001b[0m \u001b[38;5;124;03m| None            |    2      | 'Max Iterations Exceeded' |    \u001b[39;00m\n\u001b[1;32m    190\u001b[0m \u001b[38;5;124;03m\"\"\"\u001b[39;00m\n\u001b[1;32m    192\u001b[0m tableau \u001b[38;5;241m=\u001b[39m lemketableau(M,q,maxIter)\n\u001b[0;32m--> 193\u001b[0m \u001b[38;5;28;01mreturn\u001b[39;00m \u001b[43mtableau\u001b[49m\u001b[38;5;241;43m.\u001b[39;49m\u001b[43mlemkeAlgorithm\u001b[49m\u001b[43m(\u001b[49m\u001b[43m)\u001b[49m\n",
      "File \u001b[0;32m/opt/conda/envs/optim-2/lib/python3.9/site-packages/lemkelcp/lemkelcp.py:25\u001b[0m, in \u001b[0;36mlemketableau.lemkeAlgorithm\u001b[0;34m(self)\u001b[0m\n\u001b[1;32m     24\u001b[0m \u001b[38;5;28;01mdef\u001b[39;00m \u001b[38;5;21mlemkeAlgorithm\u001b[39m(\u001b[38;5;28mself\u001b[39m):\n\u001b[0;32m---> 25\u001b[0m     initVal \u001b[38;5;241m=\u001b[39m \u001b[38;5;28;43mself\u001b[39;49m\u001b[38;5;241;43m.\u001b[39;49m\u001b[43minitialize\u001b[49m\u001b[43m(\u001b[49m\u001b[43m)\u001b[49m\n\u001b[1;32m     26\u001b[0m     \u001b[38;5;28;01mif\u001b[39;00m \u001b[38;5;129;01mnot\u001b[39;00m initVal:\n\u001b[1;32m     27\u001b[0m         \u001b[38;5;28;01mreturn\u001b[39;00m np\u001b[38;5;241m.\u001b[39mzeros(\u001b[38;5;28mself\u001b[39m\u001b[38;5;241m.\u001b[39mn),\u001b[38;5;241m0\u001b[39m,\u001b[38;5;124m'\u001b[39m\u001b[38;5;124mSolution Found\u001b[39m\u001b[38;5;124m'\u001b[39m\n",
      "File \u001b[0;32m/opt/conda/envs/optim-2/lib/python3.9/site-packages/lemkelcp/lemkelcp.py:46\u001b[0m, in \u001b[0;36mlemketableau.initialize\u001b[0;34m(self)\u001b[0m\n\u001b[1;32m     44\u001b[0m     ind \u001b[38;5;241m=\u001b[39m np\u001b[38;5;241m.\u001b[39margmin(q)\n\u001b[1;32m     45\u001b[0m     \u001b[38;5;28mself\u001b[39m\u001b[38;5;241m.\u001b[39mclearDriverColumn(ind)\n\u001b[0;32m---> 46\u001b[0m     \u001b[38;5;28;43mself\u001b[39;49m\u001b[38;5;241;43m.\u001b[39;49m\u001b[43mpivot\u001b[49m\u001b[43m(\u001b[49m\u001b[43mind\u001b[49m\u001b[43m)\u001b[49m\n\u001b[1;32m     48\u001b[0m     \u001b[38;5;28;01mreturn\u001b[39;00m \u001b[38;5;28;01mTrue\u001b[39;00m\n\u001b[1;32m     49\u001b[0m \u001b[38;5;28;01melse\u001b[39;00m:\n",
      "File \u001b[0;32m/opt/conda/envs/optim-2/lib/python3.9/site-packages/lemkelcp/lemkelcp.py:91\u001b[0m, in \u001b[0;36mlemketableau.pivot\u001b[0;34m(self, pos)\u001b[0m\n\u001b[1;32m     89\u001b[0m ppos \u001b[38;5;241m=\u001b[39m \u001b[38;5;28mself\u001b[39m\u001b[38;5;241m.\u001b[39mpartnerPos(pos)\n\u001b[1;32m     90\u001b[0m \u001b[38;5;28;01mif\u001b[39;00m ppos \u001b[38;5;129;01mis\u001b[39;00m \u001b[38;5;129;01mnot\u001b[39;00m \u001b[38;5;28;01mNone\u001b[39;00m:\n\u001b[0;32m---> 91\u001b[0m     \u001b[38;5;28;43mself\u001b[39;49m\u001b[38;5;241;43m.\u001b[39;49m\u001b[43mswapColumns\u001b[49m\u001b[43m(\u001b[49m\u001b[43mpos\u001b[49m\u001b[43m,\u001b[49m\u001b[43mppos\u001b[49m\u001b[43m)\u001b[49m\n\u001b[1;32m     92\u001b[0m     \u001b[38;5;28mself\u001b[39m\u001b[38;5;241m.\u001b[39mswapColumns(pos,\u001b[38;5;241m-\u001b[39m\u001b[38;5;241m2\u001b[39m)\n\u001b[1;32m     93\u001b[0m     \u001b[38;5;28;01mreturn\u001b[39;00m \u001b[38;5;28;01mTrue\u001b[39;00m\n",
      "File \u001b[0;32m/opt/conda/envs/optim-2/lib/python3.9/site-packages/lemkelcp/lemkelcp.py:119\u001b[0m, in \u001b[0;36mlemketableau.swapColumns\u001b[0;34m(self, i, j)\u001b[0m\n\u001b[1;32m    116\u001b[0m jInd \u001b[38;5;241m=\u001b[39m \u001b[38;5;28mself\u001b[39m\u001b[38;5;241m.\u001b[39mTind[:,j]\n\u001b[1;32m    118\u001b[0m v,ind \u001b[38;5;241m=\u001b[39m iInd\n\u001b[0;32m--> 119\u001b[0m \u001b[38;5;28;43mself\u001b[39;49m\u001b[38;5;241;43m.\u001b[39;49m\u001b[43mswapPos\u001b[49m\u001b[43m(\u001b[49m\u001b[43mv\u001b[49m\u001b[43m,\u001b[49m\u001b[43mind\u001b[49m\u001b[43m,\u001b[49m\u001b[43mj\u001b[49m\u001b[43m)\u001b[49m\n\u001b[1;32m    120\u001b[0m v,ind \u001b[38;5;241m=\u001b[39m jInd\n\u001b[1;32m    121\u001b[0m \u001b[38;5;28mself\u001b[39m\u001b[38;5;241m.\u001b[39mswapPos(v,ind,i)\n",
      "File \u001b[0;32m/opt/conda/envs/optim-2/lib/python3.9/site-packages/lemkelcp/lemkelcp.py:109\u001b[0m, in \u001b[0;36mlemketableau.swapPos\u001b[0;34m(self, v, ind, newPos)\u001b[0m\n\u001b[1;32m    107\u001b[0m \u001b[38;5;28;01mdef\u001b[39;00m \u001b[38;5;21mswapPos\u001b[39m(\u001b[38;5;28mself\u001b[39m,v,ind,newPos):\n\u001b[1;32m    108\u001b[0m     \u001b[38;5;28;01mif\u001b[39;00m v \u001b[38;5;241m==\u001b[39m \u001b[38;5;28mself\u001b[39m\u001b[38;5;241m.\u001b[39mW:\n\u001b[0;32m--> 109\u001b[0m         \u001b[38;5;28;43mself\u001b[39;49m\u001b[38;5;241;43m.\u001b[39;49m\u001b[43mwPos\u001b[49m\u001b[43m[\u001b[49m\u001b[43mind\u001b[49m\u001b[43m]\u001b[49m \u001b[38;5;241m=\u001b[39m newPos \u001b[38;5;241m%\u001b[39m (\u001b[38;5;241m2\u001b[39m\u001b[38;5;241m*\u001b[39m\u001b[38;5;28mself\u001b[39m\u001b[38;5;241m.\u001b[39mn\u001b[38;5;241m+\u001b[39m\u001b[38;5;241m2\u001b[39m)\n\u001b[1;32m    110\u001b[0m     \u001b[38;5;28;01melif\u001b[39;00m v \u001b[38;5;241m==\u001b[39m \u001b[38;5;28mself\u001b[39m\u001b[38;5;241m.\u001b[39mZ:\n\u001b[1;32m    111\u001b[0m         \u001b[38;5;28mself\u001b[39m\u001b[38;5;241m.\u001b[39mzPos[ind] \u001b[38;5;241m=\u001b[39m newPos \u001b[38;5;241m%\u001b[39m (\u001b[38;5;241m2\u001b[39m\u001b[38;5;241m*\u001b[39m\u001b[38;5;28mself\u001b[39m\u001b[38;5;241m.\u001b[39mn\u001b[38;5;241m+\u001b[39m\u001b[38;5;241m2\u001b[39m)\n",
      "\u001b[0;31mTypeError\u001b[0m: 'range' object does not support item assignment"
     ]
    }
   ],
   "source": [
    "M = np.array([\n",
    "    [0, 1, 1],\n",
    "    [-1, 1, 0],\n",
    "    [-1, 0, 1]\n",
    "    ])\n",
    "q = np.array([-1, 1, 1])\n",
    "\n",
    "sol = lemkelcp.lemkelcp(M, q)\n",
    "print(f\"solución = {sol}\")"
   ]
  },
  {
   "cell_type": "markdown",
   "metadata": {},
   "source": [
    "**Ejemplo 2**: un problema con infinitas soluciones (terminación en rayo)\n",
    "$$\n",
    "M=\\left[\\begin{array}{cc}\n",
    "\t\t\t1 & -1\\\\\n",
    "\t\t\t-1 & 1 \n",
    "\t\t\\end{array}\\right],\\quad q=\\left[\\begin{array}{c}\n",
    "\t\t1\\\\\n",
    "\t\t-1\n",
    "\t\\end{array}\n",
    "\\right].\n",
    "$$"
   ]
  },
  {
   "cell_type": "code",
   "execution_count": null,
   "metadata": {},
   "outputs": [
    {
     "name": "stdout",
     "output_type": "stream",
     "text": [
      "solución = (None, 1, 'Secondary ray found')\n"
     ]
    }
   ],
   "source": [
    "M = np.array([\n",
    "    [1, -1],\n",
    "    [-1, 1]\n",
    "    ])\n",
    "q = np.array([1, -1])\n",
    "\n",
    "sol = lcp.lemkelcp(M,q)\n",
    "print(f\"solución = {sol}\")"
   ]
  },
  {
   "cell_type": "markdown",
   "metadata": {},
   "source": [
    "**Ejemplo 3**: el problema de la mínima distancia de un punto a un poliedro\n",
    "$$\n",
    "\tM = \\left[\\begin{array}{cccc}\n",
    "\t\t0 & -1 & -1 & -1\\\\\n",
    "\t\t1& 34 & 16 & 4 \\\\\n",
    "\t\t1&16 & 34 & 16 \\\\\n",
    "\t\t1&4 & 16 &8\n",
    "\t\\end{array}\\right] ,\\quad q=\\left[\\begin{array}{c}\n",
    "\t\t1\\\\\n",
    "\t\t-66\\\\\n",
    "\t\t-54\\\\\n",
    "\t\t-20\n",
    "\t\\end{array}\n",
    "\\right].\n",
    "$$"
   ]
  },
  {
   "cell_type": "code",
   "execution_count": null,
   "metadata": {},
   "outputs": [
    {
     "name": "stdout",
     "output_type": "stream",
     "text": [
      "solución = (array([35.        ,  0.83333333,  0.16666667,  0.        ]), 0, 'Solution Found')\n"
     ]
    }
   ],
   "source": [
    "M = np.array([\n",
    "    [0, -1, -1, -1],\n",
    "    [1, 34, 16, 4],\n",
    "    [1, 16, 34, 16],\n",
    "    [1, 4, 16, 8]\n",
    "    ])\n",
    "q = np.array([1, -66, -54, -20])\n",
    "\n",
    "sol = lcp.lemkelcp(M,q)\n",
    "print(f\"solución = {sol}\")"
   ]
  },
  {
   "cell_type": "markdown",
   "metadata": {},
   "source": [
    "**Ejemplo 4**\n",
    "$$\n",
    "M = \\left[\\begin{array}{ccccc}\n",
    "\t\t0 & 0 & 0 & -1 & 1\\\\\n",
    "\t\t0& 0 & 0 & 4 & 5 \\\\\n",
    "\t\t0& 0 & 0 & 8 & 14 \\\\\n",
    "\t\t1& -4 & -8 & 46 & 5\\\\\n",
    "        -1 & -5 & -14 & 5 & 8\n",
    "\t\\end{array}\\right] ,\\quad q=\\left[\\begin{array}{c}\n",
    "\t\t3\\\\\n",
    "\t\t13\\\\\n",
    "\t\t9\\\\\n",
    "\t\t3\\\\\n",
    "        5\n",
    "\t\\end{array}\n",
    "\\right].\n",
    "$$"
   ]
  },
  {
   "cell_type": "code",
   "execution_count": null,
   "metadata": {},
   "outputs": [
    {
     "name": "stdout",
     "output_type": "stream",
     "text": [
      "solución = (array([0., 0., 0., 0., 0.]), 0, 'Solution Found')\n"
     ]
    }
   ],
   "source": [
    "M = np.array([\n",
    "    [0, 0, 0, -1, 1],\n",
    "    [0, 0, 0, 4, 5],\n",
    "    [0, 0, 0, 8, 14],\n",
    "    [1, -4, -8, 46, 5],\n",
    "    [-1, -5, -14, 5, 8]\n",
    "    ])\n",
    "q = np.array([3, 13, 9, 3, 5])\n",
    "\n",
    "sol = lcp.lemkelcp(M,q)\n",
    "print(f\"solución = {sol}\")"
   ]
  }
 ],
 "metadata": {
  "kernelspec": {
   "display_name": "optim-2",
   "language": "python",
   "name": "python3"
  },
  "language_info": {
   "codemirror_mode": {
    "name": "ipython",
    "version": 3
   },
   "file_extension": ".py",
   "mimetype": "text/x-python",
   "name": "python",
   "nbconvert_exporter": "python",
   "pygments_lexer": "ipython3",
   "version": "3.9.18"
  },
  "widgets": {
   "application/vnd.jupyter.widget-state+json": {
    "state": {},
    "version_major": 2,
    "version_minor": 0
   }
  }
 },
 "nbformat": 4,
 "nbformat_minor": 4
}
