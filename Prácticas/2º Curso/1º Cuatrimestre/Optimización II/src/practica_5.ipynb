{
 "cells": [
  {
   "metadata": {},
   "cell_type": "markdown",
   "source": [
    "# Práctica 5: Automatic Differentiation in Python\n",
    "## AD in tensorflow"
   ],
   "id": "c9db3a8f4e11a804"
  },
  {
   "metadata": {
    "collapsed": true,
    "ExecuteTime": {
     "end_time": "2024-10-14T18:30:28.223257Z",
     "start_time": "2024-10-14T18:30:28.204677Z"
    }
   },
   "cell_type": "code",
   "source": "import tensorflow as tf",
   "id": "initial_id",
   "outputs": [],
   "execution_count": 62
  },
  {
   "metadata": {
    "ExecuteTime": {
     "end_time": "2024-10-14T18:30:28.316965Z",
     "start_time": "2024-10-14T18:30:28.238602Z"
    }
   },
   "cell_type": "code",
   "source": [
    "x = tf.Variable(4.0)\n",
    "print(x)\n",
    "\n",
    "with tf.GradientTape() as tape:\n",
    "    y = x**2\n",
    "    \n",
    "dy_dx = tape.gradient(y, x)\n",
    "print(f\"Derivada de y respecto a x = {dy_dx}\")\n",
    "\n",
    "# Derivada de orden superior\n",
    "with tf.GradientTape() as tape2:\n",
    "    with tf.GradientTape() as tape1:\n",
    "        y = x**3\n",
    "    dy_dx = tape1.gradient(y, x)\n",
    "d2y_dx2 = tape2.gradient(dy_dx, x)\n",
    "print(f\"Derivada de y respecto a x = {dy_dx}\")\n",
    "print(f\"Derivada segunda de y respecto a x = {d2y_dx2}\")\n",
    "    "
   ],
   "id": "b58418ac98bf3988",
   "outputs": [
    {
     "name": "stdout",
     "output_type": "stream",
     "text": [
      "<tf.Variable 'Variable:0' shape=() dtype=float32, numpy=4.0>\n",
      "Derivada de y respecto a x = 8.0\n",
      "Derivada de y respecto a x = 48.0\n",
      "Derivada segunda de y respecto a x = 24.0\n"
     ]
    }
   ],
   "execution_count": 63
  },
  {
   "metadata": {},
   "cell_type": "markdown",
   "source": "Consideramos la función $$f(x_1,x_2) = x_1^2(x_1+x_2)$$",
   "id": "af9b59920ff4fefe"
  },
  {
   "metadata": {
    "ExecuteTime": {
     "end_time": "2024-10-14T18:30:28.990188Z",
     "start_time": "2024-10-14T18:30:28.349534Z"
    }
   },
   "cell_type": "code",
   "source": [
    "from numpy.linalg import eig\n",
    "\n",
    "x = tf.Variable([2.0, 3.0])\n",
    "\n",
    "with tf.GradientTape() as tape:\n",
    "    f = x[0]**2 * (x[0] + x[1])\n",
    "print(f\"Gradiente de f = {tape.gradient(f, x)}\")\n",
    "\n",
    "with tf.GradientTape() as tape2:\n",
    "    with tf.GradientTape() as tape1:\n",
    "        f = x[0]**2 * (x[0] + x[1])\n",
    "    grad_f = tape1.gradient(f, x)\n",
    "hessian_f = tape2.jacobian(grad_f, x)\n",
    "print(f\"Hessiana de f = \\n{hessian_f}\")\n",
    "\n",
    "print(f\"Autovalores de hessian_f = {eig(hessian_f.numpy())[0]}\")"
   ],
   "id": "797255a72beb7186",
   "outputs": [
    {
     "name": "stdout",
     "output_type": "stream",
     "text": [
      "Gradiente de f = [24.  4.]\n",
      "Hessiana de f = \n",
      "[[18.  4.]\n",
      " [ 4.  0.]]\n",
      "Autovalores de hessian_f = [18.848858  -0.8488578]\n"
     ]
    }
   ],
   "execution_count": 64
  },
  {
   "metadata": {},
   "cell_type": "markdown",
   "source": [
    "Veamos un modelo más complicado \n",
    "$$ \n",
    "y=x\\cdot \\omega +b \n",
    "$$ \n",
    "$\\omega$ weight\n",
    "\n",
    "$b$ bias"
   ],
   "id": "30b70886e3f287f7"
  },
  {
   "metadata": {
    "ExecuteTime": {
     "end_time": "2024-10-14T18:30:29.020763Z",
     "start_time": "2024-10-14T18:30:29.007252Z"
    }
   },
   "cell_type": "code",
   "source": "del tape",
   "id": "57648738f96dea3b",
   "outputs": [],
   "execution_count": 65
  },
  {
   "metadata": {
    "ExecuteTime": {
     "end_time": "2024-10-14T18:30:29.067781Z",
     "start_time": "2024-10-14T18:30:29.038828Z"
    }
   },
   "cell_type": "code",
   "source": [
    "tensor_x = tf.Variable([[1,2,3,4]], dtype=tf.float32, name='x')\n",
    "print(tensor_x)\n",
    "tensor_w = tf.Variable(tf.random.uniform((4, 3), minval=-20, maxval=20, \n",
    "                       dtype=tf.float32), name='w')\n",
    "print(tensor_w)\n",
    "tensor_b = tf.Variable(tf.ones(3, dtype=tf.float32), name='b')\n",
    "print(tensor_b)\n",
    "\n",
    "y_label = tf.constant([1, 2, 3], dtype=tf.float32)"
   ],
   "id": "914aa9316849fab5",
   "outputs": [
    {
     "name": "stdout",
     "output_type": "stream",
     "text": [
      "<tf.Variable 'x:0' shape=(1, 4) dtype=float32, numpy=array([[1., 2., 3., 4.]], dtype=float32)>\n",
      "<tf.Variable 'w:0' shape=(4, 3) dtype=float32, numpy=\n",
      "array([[-19.123158 ,  17.638596 , -17.768303 ],\n",
      "       [-15.578828 ,   1.0675144,  10.889381 ],\n",
      "       [ 12.224632 ,  19.013626 ,   4.790201 ],\n",
      "       [-10.125589 , -14.577489 , -12.080727 ]], dtype=float32)>\n",
      "<tf.Variable 'b:0' shape=(3,) dtype=float32, numpy=array([1., 1., 1.], dtype=float32)>\n"
     ]
    }
   ],
   "execution_count": 66
  },
  {
   "metadata": {},
   "cell_type": "markdown",
   "source": "$$\\text{loss} = \\dfrac{1}{3}\\sum_{i=1}^3(y_i-y_{\\text{label}}^i)^2$$",
   "id": "746217a36e8c652"
  },
  {
   "metadata": {
    "ExecuteTime": {
     "end_time": "2024-10-14T18:34:45.333163Z",
     "start_time": "2024-10-14T18:34:45.222966Z"
    }
   },
   "cell_type": "code",
   "source": [
    "with tf.GradientTape(persistent=True) as tape:\n",
    "    tensor_y = tensor_x @ tensor_w + tensor_b\n",
    "    tensor_loss = tf.reduce_mean((tensor_y - y_label) ** 2)\n",
    "tensor_dy_dx = tape.gradient(tensor_y, tensor_x) # Gradiente de y respecto de x (derivada de y_i respecto de x_j y sumando)\n",
    "tensor_jac_dy_dx = tape.jacobian(tensor_y, tensor_x)\n",
    "tensor_dloss_dy = tape.gradient(tensor_loss, tensor_y)\n",
    "tensor_dloss_dx = tape.gradient(tensor_loss, tensor_x)\n",
    "\n",
    "print(f\"Gradiente de y respecto de x = {tensor_dy_dx}\")\n",
    "print(f\"Jacobiana de y respecto de x = \\n{tensor_jac_dy_dx}\")\n",
    "print(f\"Gradiente de loss respecto de y = {tensor_dloss_dy}\")\n",
    "print(f\"Gradiente de loss respecto de x = {tensor_dloss_dx}\")"
   ],
   "id": "77f3c94150131f4f",
   "outputs": [
    {
     "name": "stdout",
     "output_type": "stream",
     "text": [
      "Gradiente de y respecto de x = [[-19.252865  -3.621932  36.028458 -36.783806]]\n",
      "Jacobiana de y respecto de x = \n",
      "[[[[-19.123158  -15.578828   12.224632  -10.125589 ]]\n",
      "\n",
      "  [[ 17.638596    1.0675144  19.013626  -14.577489 ]]\n",
      "\n",
      "  [[-17.768303   10.889381    4.790201  -12.080727 ]]]]\n",
      "Gradiente de loss respecto de y = [[-36.072853  11.669696 -21.294563]]\n",
      "Gradiente de loss respecto de x = [[1274.0321   342.54572 -321.09937  452.39783]]\n"
     ]
    }
   ],
   "execution_count": 72
  }
 ],
 "metadata": {
  "kernelspec": {
   "display_name": "Python 3",
   "language": "python",
   "name": "python3"
  },
  "language_info": {
   "codemirror_mode": {
    "name": "ipython",
    "version": 2
   },
   "file_extension": ".py",
   "mimetype": "text/x-python",
   "name": "python",
   "nbconvert_exporter": "python",
   "pygments_lexer": "ipython2",
   "version": "2.7.6"
  }
 },
 "nbformat": 4,
 "nbformat_minor": 5
}
