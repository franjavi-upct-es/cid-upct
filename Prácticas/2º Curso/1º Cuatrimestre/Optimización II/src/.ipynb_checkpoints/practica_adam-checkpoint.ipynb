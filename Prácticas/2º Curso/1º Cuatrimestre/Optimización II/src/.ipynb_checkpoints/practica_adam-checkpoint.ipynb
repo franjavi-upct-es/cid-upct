{
 "cells": [
  {
   "cell_type": "markdown",
   "id": "81c1a946e90adab4",
   "metadata": {},
   "source": [
    "# Optimización de redes neuronales con Adam estocástico"
   ]
  },
  {
   "cell_type": "code",
   "execution_count": null,
   "id": "initial_id",
   "metadata": {
    "ExecuteTime": {
     "end_time": "2024-11-06T17:19:07.142802Z",
     "start_time": "2024-11-06T17:19:07.119002Z"
    }
   },
   "outputs": [],
   "source": [
    "import numpy as np\n",
    "import tensorflow as tf\n",
    "from sklearn.datasets import make_classification\n",
    "from sklearn.metrics import accuracy_score"
   ]
  },
  {
   "cell_type": "markdown",
   "id": "a9e56c15632d3bbb",
   "metadata": {},
   "source": [
    "## Consideramos un conjunto de datos con 1000 muestras (Instances) de 5 features y un label"
   ]
  },
  {
   "cell_type": "code",
   "execution_count": null,
   "id": "79d36b018e327416",
   "metadata": {
    "ExecuteTime": {
     "end_time": "2024-11-06T17:19:07.281325Z",
     "start_time": "2024-11-06T17:19:07.158840Z"
    }
   },
   "outputs": [],
   "source": [
    "X, y = make_classification(n_samples=1000, n_features=5, \n",
    "                           n_informative=2, n_redundant=1, random_state=1)\n"
   ]
  },
  {
   "cell_type": "markdown",
   "id": "c37a16dc234cc570",
   "metadata": {},
   "source": [
    "## Construimos la red neuronal tipo Perceptrón"
   ]
  },
  {
   "cell_type": "code",
   "execution_count": null,
   "id": "c60a6e6e32e4fa53",
   "metadata": {
    "ExecuteTime": {
     "end_time": "2024-11-06T17:19:07.328338Z",
     "start_time": "2024-11-06T17:19:07.315328Z"
    }
   },
   "outputs": [],
   "source": [
    "def sigma(s):\n",
    "    if s >= 0:\n",
    "        return 1\n",
    "    else:\n",
    "        return 0"
   ]
  },
  {
   "cell_type": "code",
   "execution_count": null,
   "id": "a9a27f4cf01ba17b",
   "metadata": {
    "ExecuteTime": {
     "end_time": "2024-11-06T17:19:07.374734Z",
     "start_time": "2024-11-06T17:19:07.361825Z"
    }
   },
   "outputs": [],
   "source": [
    "def activate(row, weights):\n",
    "    activation = weights[-1]\n",
    "    for i in range(len(row)):\n",
    "        activation += weights[i] * row[i]\n",
    "    return activation\n",
    "\n",
    "def predict_row(row, weights):\n",
    "    activation = activate(row, weights)\n",
    "    return sigma(activation)"
   ]
  },
  {
   "cell_type": "code",
   "execution_count": null,
   "id": "9c5a41b958bbcdaf",
   "metadata": {
    "ExecuteTime": {
     "end_time": "2024-11-06T17:19:07.421660Z",
     "start_time": "2024-11-06T17:19:07.408520Z"
    }
   },
   "outputs": [],
   "source": [
    "def predict_dataset(X, weights):\n",
    "    yhats = []\n",
    "    for row in X:\n",
    "        yhat = predict_row(row, weights)\n",
    "        yhats.append(yhat)\n",
    "    return yhats"
   ]
  },
  {
   "cell_type": "code",
   "execution_count": null,
   "id": "155a5cda4acbdf47",
   "metadata": {
    "ExecuteTime": {
     "end_time": "2024-11-06T17:19:07.515579Z",
     "start_time": "2024-11-06T17:19:07.456569Z"
    }
   },
   "outputs": [],
   "source": [
    "n_weights = X.shape[1] + 1\n",
    "weights = np.random.rand(n_weights)\n",
    "yhats = predict_dataset(X, weights)\n",
    "score = accuracy_score(y, yhats)\n",
    "print(f\"Precisicón (Jaccard metrics) del modelo: {score}\")\n",
    "\n",
    "mse = (1/X.shape[0]) * np.linalg.norm(y - yhats) ** 2\n",
    "print(f\"Precisión (error cuadrático medio) del modelo: {mse}\")"
   ]
  },
  {
   "cell_type": "markdown",
   "id": "a09f110736ce571e",
   "metadata": {},
   "source": [
    "## Es hora de optimizar (training process)"
   ]
  },
  {
   "cell_type": "code",
   "execution_count": null,
   "id": "8cf1e051634574aa",
   "metadata": {
    "ExecuteTime": {
     "end_time": "2024-11-06T17:19:07.593024Z",
     "start_time": "2024-11-06T17:19:07.562549Z"
    }
   },
   "outputs": [],
   "source": [
    "def random_batch(X, y, batch_size=32):\n",
    "    idx = np.random.randint(len(X), size=batch_size)\n",
    "    return X[idx], y[idx]\n",
    "\n",
    "random_batch(X, y)"
   ]
  },
  {
   "cell_type": "code",
   "execution_count": null,
   "id": "7998bc6b0c507cca",
   "metadata": {
    "ExecuteTime": {
     "end_time": "2024-11-06T17:19:07.638834Z",
     "start_time": "2024-11-06T17:19:07.626460Z"
    }
   },
   "outputs": [],
   "source": [
    "from sklearn.model_selection import train_test_split\n",
    "\n",
    "X_train, X_test, y_train, y_test = train_test_split(\n",
    "    X, y, test_size=0.2, random_state=42\n",
    ")"
   ]
  },
  {
   "cell_type": "code",
   "execution_count": null,
   "id": "5cc4d14eae48ac0c",
   "metadata": {
    "ExecuteTime": {
     "end_time": "2024-11-06T17:19:07.685064Z",
     "start_time": "2024-11-06T17:19:07.671391Z"
    }
   },
   "outputs": [],
   "source": [
    "from tensorflow.keras.layers import Dense\n",
    "from tensorflow.keras.models import Sequential\n",
    "from tensorflow.keras.activations import hard_sigmoid\n",
    "from tensorflow.keras.regularizers import l2"
   ]
  },
  {
   "cell_type": "code",
   "execution_count": null,
   "id": "8827e048b4a1681d",
   "metadata": {
    "ExecuteTime": {
     "end_time": "2024-11-06T17:19:08.075400Z",
     "start_time": "2024-11-06T17:19:07.719115Z"
    }
   },
   "outputs": [],
   "source": [
    "model = Sequential()\n",
    "model.add(Dense(units=1, input_shape=(5, ), activation=hard_sigmoid, \n",
    "                kernel_initializer='glorot_uniform', kernel_regularizer=l2(0.05))\n",
    "          )\n",
    "\n",
    "model.summary()"
   ]
  },
  {
   "cell_type": "code",
   "execution_count": null,
   "id": "b3f9bce77390da59",
   "metadata": {
    "ExecuteTime": {
     "end_time": "2024-11-06T17:19:08.135575Z",
     "start_time": "2024-11-06T17:19:08.107255Z"
    }
   },
   "outputs": [],
   "source": [
    "from tensorflow import keras\n",
    "\n",
    "n_epochs = 5\n",
    "batch_size = 32\n",
    "n_steps = len(X_train) // batch_size\n",
    "optimizer = keras.optimizers.Adam(learning_rate=0.01)\n",
    "loss_fun = keras.losses.MeanSquaredError()\n",
    "mean_loss = keras.metrics.Mean()\n",
    "metrics = [keras.metrics.MeanAbsoluteError()]"
   ]
  },
  {
   "cell_type": "code",
   "execution_count": null,
   "id": "5e6716dc31f74b6a",
   "metadata": {
    "ExecuteTime": {
     "end_time": "2024-11-06T17:19:08.183012Z",
     "start_time": "2024-11-06T17:19:08.168764Z"
    }
   },
   "outputs": [],
   "source": [
    "def print_status_bar(iteration, total, loss, metrics=None):\n",
    "    metrics = \" - \".join([\"{}: {:.4f}\".format(m.name, m.result()) \n",
    "                          for m in [loss] + (metrics or [])])\n",
    "    end = \"\" if iteration < total else \"\\n\"\n",
    "    print(\"\\r{}/{} - \".format(iteration, total) + metrics, end=end)"
   ]
  },
  {
   "cell_type": "code",
   "execution_count": null,
   "id": "9b3d4a5b87b1a964",
   "metadata": {
    "ExecuteTime": {
     "end_time": "2024-11-06T17:19:10.056699Z",
     "start_time": "2024-11-06T17:19:08.214414Z"
    }
   },
   "outputs": [],
   "source": [
    "for epoch in range(1, n_epochs + 1):\n",
    "    print(\"Epoch {}/{}\".format(epoch, n_epochs))\n",
    "    for step in range(1, n_steps + 1):\n",
    "        X_batch, y_batch = random_batch(X_train, y_train, batch_size)\n",
    "        with tf.GradientTape() as tape:\n",
    "            y_pred = model(X_batch, training=True)\n",
    "            main_loss = tf.reduce_mean(loss_fun(y_batch, y_pred))\n",
    "            loss = tf.add_n([main_loss] + model.losses)\n",
    "        gradients = tape.gradient(loss, model.trainable_variables)\n",
    "        optimizer.apply_gradients(zip(gradients, model.trainable_variables))\n",
    "        mean_loss(loss)\n",
    "        for metric in metrics:\n",
    "            metric(y_batch, y_pred)\n",
    "        print_status_bar(step * batch_size, len(y_train), mean_loss, metrics)\n",
    "    print_status_bar(len(y_train), len(y_train), mean_loss, metrics)\n",
    "    for metric in [mean_loss] + metrics:\n",
    "        metric.reset_state()\n",
    "        "
   ]
  },
  {
   "cell_type": "code",
   "execution_count": null,
   "id": "22430109-d28b-4123-bccd-cde9942392ee",
   "metadata": {},
   "outputs": [],
   "source": [
    "print(f\"Parámetros del modelo optimizado {model.weights}\")"
   ]
  }
 ],
 "metadata": {
  "kernelspec": {
   "display_name": "Python 3 (ipykernel)",
   "language": "python",
   "name": "python3"
  },
  "language_info": {
   "codemirror_mode": {
    "name": "ipython",
    "version": 3
   },
   "file_extension": ".py",
   "mimetype": "text/x-python",
   "name": "python",
   "nbconvert_exporter": "python",
   "pygments_lexer": "ipython3",
   "version": "3.9.20"
  }
 },
 "nbformat": 4,
 "nbformat_minor": 5
}
