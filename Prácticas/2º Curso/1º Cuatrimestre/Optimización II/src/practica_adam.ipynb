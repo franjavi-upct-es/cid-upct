{
 "cells": [
  {
   "cell_type": "markdown",
   "id": "81c1a946e90adab4",
   "metadata": {},
   "source": [
    "# Optimización de redes neuronales con Adam estocástico"
   ]
  },
  {
   "cell_type": "code",
   "id": "initial_id",
   "metadata": {
    "ExecuteTime": {
     "end_time": "2024-11-06T17:25:46.133727Z",
     "start_time": "2024-11-06T17:25:46.112086Z"
    }
   },
   "source": [
    "import numpy as np\n",
    "import tensorflow as tf\n",
    "from sklearn.datasets import make_classification\n",
    "from sklearn.metrics import accuracy_score"
   ],
   "outputs": [],
   "execution_count": 14
  },
  {
   "cell_type": "markdown",
   "id": "a9e56c15632d3bbb",
   "metadata": {},
   "source": [
    "## Consideramos un conjunto de datos con 1000 muestras (Instances) de 5 features y un label"
   ]
  },
  {
   "cell_type": "code",
   "id": "79d36b018e327416",
   "metadata": {
    "ExecuteTime": {
     "end_time": "2024-11-06T17:25:46.179866Z",
     "start_time": "2024-11-06T17:25:46.146720Z"
    }
   },
   "source": [
    "X, y = make_classification(n_samples=1000, n_features=5, \n",
    "                           n_informative=2, n_redundant=1, random_state=1)\n"
   ],
   "outputs": [],
   "execution_count": 15
  },
  {
   "cell_type": "markdown",
   "id": "c37a16dc234cc570",
   "metadata": {},
   "source": [
    "## Construimos la red neuronal tipo Perceptrón"
   ]
  },
  {
   "cell_type": "code",
   "id": "c60a6e6e32e4fa53",
   "metadata": {
    "ExecuteTime": {
     "end_time": "2024-11-06T17:25:46.255945Z",
     "start_time": "2024-11-06T17:25:46.244075Z"
    }
   },
   "source": [
    "def sigma(s):\n",
    "    if s >= 0:\n",
    "        return 1\n",
    "    else:\n",
    "        return 0"
   ],
   "outputs": [],
   "execution_count": 16
  },
  {
   "cell_type": "code",
   "id": "a9a27f4cf01ba17b",
   "metadata": {
    "ExecuteTime": {
     "end_time": "2024-11-06T17:25:46.332606Z",
     "start_time": "2024-11-06T17:25:46.321485Z"
    }
   },
   "source": [
    "def activate(row, weights):\n",
    "    activation = weights[-1]\n",
    "    for i in range(len(row)):\n",
    "        activation += weights[i] * row[i]\n",
    "    return activation\n",
    "\n",
    "def predict_row(row, weights):\n",
    "    activation = activate(row, weights)\n",
    "    return sigma(activation)"
   ],
   "outputs": [],
   "execution_count": 17
  },
  {
   "cell_type": "code",
   "id": "9c5a41b958bbcdaf",
   "metadata": {
    "ExecuteTime": {
     "end_time": "2024-11-06T17:25:46.396102Z",
     "start_time": "2024-11-06T17:25:46.384874Z"
    }
   },
   "source": [
    "def predict_dataset(X, weights):\n",
    "    yhats = []\n",
    "    for row in X:\n",
    "        yhat = predict_row(row, weights)\n",
    "        yhats.append(yhat)\n",
    "    return yhats"
   ],
   "outputs": [],
   "execution_count": 18
  },
  {
   "cell_type": "code",
   "id": "155a5cda4acbdf47",
   "metadata": {
    "ExecuteTime": {
     "end_time": "2024-11-06T17:25:46.489689Z",
     "start_time": "2024-11-06T17:25:46.461837Z"
    }
   },
   "source": [
    "n_weights = X.shape[1] + 1\n",
    "weights = np.random.rand(n_weights)\n",
    "yhats = predict_dataset(X, weights)\n",
    "score = accuracy_score(y, yhats)\n",
    "print(f\"Precisicón (Jaccard metrics) del modelo: {score}\")\n",
    "\n",
    "mse = (1/X.shape[0]) * np.linalg.norm(y - yhats) ** 2\n",
    "print(f\"Precisión (error cuadrático medio) del modelo: {mse}\")"
   ],
   "outputs": [
    {
     "name": "stdout",
     "output_type": "stream",
     "text": [
      "Precisicón (Jaccard metrics) del modelo: 0.666\n",
      "Precisión (error cuadrático medio) del modelo: 0.3340000000000001\n"
     ]
    }
   ],
   "execution_count": 19
  },
  {
   "cell_type": "markdown",
   "id": "a09f110736ce571e",
   "metadata": {},
   "source": [
    "## Es hora de optimizar (training process)"
   ]
  },
  {
   "cell_type": "code",
   "id": "8cf1e051634574aa",
   "metadata": {
    "ExecuteTime": {
     "end_time": "2024-11-06T17:25:46.565533Z",
     "start_time": "2024-11-06T17:25:46.540237Z"
    }
   },
   "source": [
    "def random_batch(X, y, batch_size=32):\n",
    "    idx = np.random.randint(len(X), size=batch_size)\n",
    "    return X[idx], y[idx]\n",
    "\n",
    "random_batch(X, y)"
   ],
   "outputs": [
    {
     "data": {
      "text/plain": [
       "(array([[ 0.85283342,  0.97680326, -2.29980571, -1.07105259,  2.72587341],\n",
       "        [ 0.65601518,  0.75226986, -0.80441364, -1.49485955,  1.7467252 ],\n",
       "        [-0.85388107,  0.0327583 , -1.210862  ,  0.24224614,  0.864312  ],\n",
       "        [-1.05060936,  0.70009952, -0.02585751, -1.20942325,  0.87856393],\n",
       "        [ 2.13640549,  2.14640218,  0.62083926, -0.71464532, -0.02503918],\n",
       "        [-1.41245885,  0.75116708, -0.26538431,  0.2473977 ,  0.0518357 ],\n",
       "        [-0.58466839,  0.59794564,  2.80418983,  0.23882885, -2.56802641],\n",
       "        [-0.0441608 , -0.87724686, -1.83910137, -0.54948664,  1.9624116 ],\n",
       "        [ 0.54311372,  1.59055673, -1.44675634,  1.40807869,  0.24053746],\n",
       "        [ 1.23166934,  1.07511569, -0.59402708,  1.18428417, -0.33046892],\n",
       "        [-0.89094654,  0.11289115,  1.33174619, -0.29216092, -0.93237809],\n",
       "        [ 1.89128734,  1.81677792,  0.00386983, -0.14695989,  0.10075797],\n",
       "        [-1.2671073 ,  0.79244077,  1.3736892 , -1.05242305, -0.42988544],\n",
       "        [ 0.36087787,  0.6436617 , -0.15361643,  0.73050766, -0.38588896],\n",
       "        [-0.70865499, -0.71664403, -1.44204112, -1.335088  ,  2.17905572],\n",
       "        [-1.32392261, -0.65983937, -1.39260469,  0.68110059,  0.70901617],\n",
       "        [-1.32276242,  0.48366473,  0.45003645, -2.47095588,  1.36479515],\n",
       "        [ 1.3888425 ,  0.49944186,  1.89566888,  1.91596538, -2.97846465],\n",
       "        [-0.77189048, -1.80272205,  1.16272241, -0.8927647 , -0.36247039],\n",
       "        [ 0.65893289,  1.25586114, -1.4845561 ,  1.12866811,  0.47073645],\n",
       "        [ 1.9865392 , -0.45492784,  1.3828128 , -0.66960031, -0.70878332],\n",
       "        [ 0.43791813,  1.19032323, -1.87874927, -0.94076881,  2.27341262],\n",
       "        [ 0.76694847, -1.05760927, -0.7607248 ,  1.47436041, -0.39327915],\n",
       "        [-0.62879943, -0.66344497,  1.41827335, -0.88126825, -0.58922779],\n",
       "        [-1.32276242,  0.48366473,  0.45003645, -2.47095588,  1.36479515],\n",
       "        [-0.66793852, -0.70254054, -1.37820615,  1.1091667 ,  0.39356697],\n",
       "        [-1.38553911,  0.26054347,  0.59904821, -1.64483362,  0.65230797],\n",
       "        [-2.22339598, -0.31056366, -0.53099717,  0.90118241, -0.18391286],\n",
       "        [-1.02519434, -1.54177971,  1.01145648, -1.0937947 , -0.09070903],\n",
       "        [ 0.76908518,  0.31196861,  1.6413303 , -0.5737421 , -0.99781865],\n",
       "        [-1.50707559, -1.07233211, -1.77955607, -0.71131499,  2.02606983],\n",
       "        [-0.89190966,  0.94588637,  0.1808265 , -1.12362853,  0.64099701]]),\n",
       " array([0, 0, 0, 1, 1, 0, 1, 0, 0, 0, 1, 0, 0, 1, 0, 1, 1, 1, 1, 0, 1, 0,\n",
       "        0, 1, 1, 0, 1, 0, 1, 1, 0, 0]))"
      ]
     },
     "execution_count": 20,
     "metadata": {},
     "output_type": "execute_result"
    }
   ],
   "execution_count": 20
  },
  {
   "cell_type": "code",
   "id": "7998bc6b0c507cca",
   "metadata": {
    "ExecuteTime": {
     "end_time": "2024-11-06T17:25:46.658176Z",
     "start_time": "2024-11-06T17:25:46.634210Z"
    }
   },
   "source": [
    "from sklearn.model_selection import train_test_split\n",
    "\n",
    "X_train, X_test, y_train, y_test = train_test_split(\n",
    "    X, y, test_size=0.2, random_state=42\n",
    ")"
   ],
   "outputs": [],
   "execution_count": 21
  },
  {
   "cell_type": "code",
   "id": "5cc4d14eae48ac0c",
   "metadata": {
    "ExecuteTime": {
     "end_time": "2024-11-06T17:25:46.753303Z",
     "start_time": "2024-11-06T17:25:46.743291Z"
    }
   },
   "source": [
    "from tensorflow.keras.layers import Dense\n",
    "from tensorflow.keras.models import Sequential\n",
    "from tensorflow.keras.activations import hard_sigmoid\n",
    "from tensorflow.keras.regularizers import l2"
   ],
   "outputs": [],
   "execution_count": 22
  },
  {
   "cell_type": "code",
   "id": "8827e048b4a1681d",
   "metadata": {
    "ExecuteTime": {
     "end_time": "2024-11-06T17:25:46.892462Z",
     "start_time": "2024-11-06T17:25:46.819717Z"
    }
   },
   "source": [
    "model = Sequential()\n",
    "model.add(Dense(units=1, input_shape=(5, ), activation=hard_sigmoid, \n",
    "                kernel_initializer='glorot_uniform', kernel_regularizer=l2(0.05))\n",
    "          )\n",
    "\n",
    "model.summary()"
   ],
   "outputs": [
    {
     "name": "stderr",
     "output_type": "stream",
     "text": [
      "C:\\Users\\fcoja\\.conda\\envs\\optim-2\\lib\\site-packages\\keras\\src\\layers\\core\\dense.py:87: UserWarning: Do not pass an `input_shape`/`input_dim` argument to a layer. When using Sequential models, prefer using an `Input(shape)` object as the first layer in the model instead.\n",
      "  super().__init__(activity_regularizer=activity_regularizer, **kwargs)\n"
     ]
    },
    {
     "data": {
      "text/plain": [
       "\u001B[1mModel: \"sequential_1\"\u001B[0m\n"
      ],
      "text/html": [
       "<pre style=\"white-space:pre;overflow-x:auto;line-height:normal;font-family:Menlo,'DejaVu Sans Mono',consolas,'Courier New',monospace\"><span style=\"font-weight: bold\">Model: \"sequential_1\"</span>\n",
       "</pre>\n"
      ]
     },
     "metadata": {},
     "output_type": "display_data"
    },
    {
     "data": {
      "text/plain": [
       "┏━━━━━━━━━━━━━━━━━━━━━━━━━━━━━━━━━┳━━━━━━━━━━━━━━━━━━━━━━━━┳━━━━━━━━━━━━━━━┓\n",
       "┃\u001B[1m \u001B[0m\u001B[1mLayer (type)                   \u001B[0m\u001B[1m \u001B[0m┃\u001B[1m \u001B[0m\u001B[1mOutput Shape          \u001B[0m\u001B[1m \u001B[0m┃\u001B[1m \u001B[0m\u001B[1m      Param #\u001B[0m\u001B[1m \u001B[0m┃\n",
       "┡━━━━━━━━━━━━━━━━━━━━━━━━━━━━━━━━━╇━━━━━━━━━━━━━━━━━━━━━━━━╇━━━━━━━━━━━━━━━┩\n",
       "│ dense_1 (\u001B[38;5;33mDense\u001B[0m)                 │ (\u001B[38;5;45mNone\u001B[0m, \u001B[38;5;34m1\u001B[0m)              │             \u001B[38;5;34m6\u001B[0m │\n",
       "└─────────────────────────────────┴────────────────────────┴───────────────┘\n"
      ],
      "text/html": [
       "<pre style=\"white-space:pre;overflow-x:auto;line-height:normal;font-family:Menlo,'DejaVu Sans Mono',consolas,'Courier New',monospace\">┏━━━━━━━━━━━━━━━━━━━━━━━━━━━━━━━━━┳━━━━━━━━━━━━━━━━━━━━━━━━┳━━━━━━━━━━━━━━━┓\n",
       "┃<span style=\"font-weight: bold\"> Layer (type)                    </span>┃<span style=\"font-weight: bold\"> Output Shape           </span>┃<span style=\"font-weight: bold\">       Param # </span>┃\n",
       "┡━━━━━━━━━━━━━━━━━━━━━━━━━━━━━━━━━╇━━━━━━━━━━━━━━━━━━━━━━━━╇━━━━━━━━━━━━━━━┩\n",
       "│ dense_1 (<span style=\"color: #0087ff; text-decoration-color: #0087ff\">Dense</span>)                 │ (<span style=\"color: #00d7ff; text-decoration-color: #00d7ff\">None</span>, <span style=\"color: #00af00; text-decoration-color: #00af00\">1</span>)              │             <span style=\"color: #00af00; text-decoration-color: #00af00\">6</span> │\n",
       "└─────────────────────────────────┴────────────────────────┴───────────────┘\n",
       "</pre>\n"
      ]
     },
     "metadata": {},
     "output_type": "display_data"
    },
    {
     "data": {
      "text/plain": [
       "\u001B[1m Total params: \u001B[0m\u001B[38;5;34m6\u001B[0m (24.00 B)\n"
      ],
      "text/html": [
       "<pre style=\"white-space:pre;overflow-x:auto;line-height:normal;font-family:Menlo,'DejaVu Sans Mono',consolas,'Courier New',monospace\"><span style=\"font-weight: bold\"> Total params: </span><span style=\"color: #00af00; text-decoration-color: #00af00\">6</span> (24.00 B)\n",
       "</pre>\n"
      ]
     },
     "metadata": {},
     "output_type": "display_data"
    },
    {
     "data": {
      "text/plain": [
       "\u001B[1m Trainable params: \u001B[0m\u001B[38;5;34m6\u001B[0m (24.00 B)\n"
      ],
      "text/html": [
       "<pre style=\"white-space:pre;overflow-x:auto;line-height:normal;font-family:Menlo,'DejaVu Sans Mono',consolas,'Courier New',monospace\"><span style=\"font-weight: bold\"> Trainable params: </span><span style=\"color: #00af00; text-decoration-color: #00af00\">6</span> (24.00 B)\n",
       "</pre>\n"
      ]
     },
     "metadata": {},
     "output_type": "display_data"
    },
    {
     "data": {
      "text/plain": [
       "\u001B[1m Non-trainable params: \u001B[0m\u001B[38;5;34m0\u001B[0m (0.00 B)\n"
      ],
      "text/html": [
       "<pre style=\"white-space:pre;overflow-x:auto;line-height:normal;font-family:Menlo,'DejaVu Sans Mono',consolas,'Courier New',monospace\"><span style=\"font-weight: bold\"> Non-trainable params: </span><span style=\"color: #00af00; text-decoration-color: #00af00\">0</span> (0.00 B)\n",
       "</pre>\n"
      ]
     },
     "metadata": {},
     "output_type": "display_data"
    }
   ],
   "execution_count": 23
  },
  {
   "cell_type": "code",
   "id": "b3f9bce77390da59",
   "metadata": {
    "ExecuteTime": {
     "end_time": "2024-11-06T17:25:46.970823Z",
     "start_time": "2024-11-06T17:25:46.947199Z"
    }
   },
   "source": [
    "from tensorflow import keras\n",
    "\n",
    "n_epochs = 5\n",
    "batch_size = 32\n",
    "n_steps = len(X_train) // batch_size\n",
    "optimizer = keras.optimizers.Adam(learning_rate=0.01)\n",
    "loss_fun = keras.losses.MeanSquaredError()\n",
    "mean_loss = keras.metrics.Mean()\n",
    "metrics = [keras.metrics.MeanAbsoluteError()]"
   ],
   "outputs": [],
   "execution_count": 24
  },
  {
   "cell_type": "code",
   "id": "5e6716dc31f74b6a",
   "metadata": {
    "ExecuteTime": {
     "end_time": "2024-11-06T17:25:47.034219Z",
     "start_time": "2024-11-06T17:25:47.021703Z"
    }
   },
   "source": [
    "def print_status_bar(iteration, total, loss, metrics=None):\n",
    "    metrics = \" - \".join([\"{}: {:.4f}\".format(m.name, m.result()) \n",
    "                          for m in [loss] + (metrics or [])])\n",
    "    end = \"\" if iteration < total else \"\\n\"\n",
    "    print(\"\\r{}/{} - \".format(iteration, total) + metrics, end=end)"
   ],
   "outputs": [],
   "execution_count": 25
  },
  {
   "cell_type": "code",
   "id": "9b3d4a5b87b1a964",
   "metadata": {
    "ExecuteTime": {
     "end_time": "2024-11-06T17:25:50.850295Z",
     "start_time": "2024-11-06T17:25:47.083366Z"
    }
   },
   "source": [
    "for epoch in range(1, n_epochs + 1):\n",
    "    print(\"Epoch {}/{}\".format(epoch, n_epochs))\n",
    "    for step in range(1, n_steps + 1):\n",
    "        X_batch, y_batch = random_batch(X_train, y_train, batch_size)\n",
    "        with tf.GradientTape() as tape:\n",
    "            y_pred = model(X_batch, training=True)\n",
    "            main_loss = tf.reduce_mean(loss_fun(y_batch, y_pred))\n",
    "            loss = tf.add_n([main_loss] + model.losses)\n",
    "        gradients = tape.gradient(loss, model.trainable_variables)\n",
    "        optimizer.apply_gradients(zip(gradients, model.trainable_variables))\n",
    "        mean_loss(loss)\n",
    "        for metric in metrics:\n",
    "            metric(y_batch, y_pred)\n",
    "        print_status_bar(step * batch_size, len(y_train), mean_loss, metrics)\n",
    "    print_status_bar(len(y_train), len(y_train), mean_loss, metrics)\n",
    "    for metric in [mean_loss] + metrics:\n",
    "        metric.reset_state()\n",
    "        "
   ],
   "outputs": [
    {
     "name": "stdout",
     "output_type": "stream",
     "text": [
      "Epoch 1/5\n",
      "800/800 - mean: 0.3361 - mean_absolute_error: 0.4851\n",
      "800/800 - mean: 0.3361 - mean_absolute_error: 0.4851\n",
      "Epoch 2/5\n",
      "800/800 - mean: 0.2358 - mean_absolute_error: 0.4220\n",
      "800/800 - mean: 0.2358 - mean_absolute_error: 0.4220\n",
      "Epoch 3/5\n",
      "800/800 - mean: 0.1975 - mean_absolute_error: 0.3818\n",
      "800/800 - mean: 0.1975 - mean_absolute_error: 0.3818\n",
      "Epoch 4/5\n",
      "800/800 - mean: 0.1866 - mean_absolute_error: 0.3638\n",
      "800/800 - mean: 0.1866 - mean_absolute_error: 0.3638\n",
      "Epoch 5/5\n",
      "800/800 - mean: 0.1726 - mean_absolute_error: 0.3452\n",
      "800/800 - mean: 0.1726 - mean_absolute_error: 0.3452\n"
     ]
    }
   ],
   "execution_count": 26
  },
  {
   "cell_type": "code",
   "id": "22430109-d28b-4123-bccd-cde9942392ee",
   "metadata": {
    "ExecuteTime": {
     "end_time": "2024-11-06T17:25:50.929598Z",
     "start_time": "2024-11-06T17:25:50.918215Z"
    }
   },
   "source": [
    "print(f\"Parámetros del modelo optimizado {model.weights}\")"
   ],
   "outputs": [
    {
     "name": "stdout",
     "output_type": "stream",
     "text": [
      "Parámetros del modelo optimizado [<KerasVariable shape=(5, 1), dtype=float32, path=sequential_1/dense_1/kernel>, <KerasVariable shape=(1,), dtype=float32, path=sequential_1/dense_1/bias>]\n"
     ]
    }
   ],
   "execution_count": 27
  }
 ],
 "metadata": {
  "kernelspec": {
   "display_name": "Python 3 (ipykernel)",
   "language": "python",
   "name": "python3"
  },
  "language_info": {
   "codemirror_mode": {
    "name": "ipython",
    "version": 3
   },
   "file_extension": ".py",
   "mimetype": "text/x-python",
   "name": "python",
   "nbconvert_exporter": "python",
   "pygments_lexer": "ipython3",
   "version": "3.9.20"
  }
 },
 "nbformat": 4,
 "nbformat_minor": 5
}
