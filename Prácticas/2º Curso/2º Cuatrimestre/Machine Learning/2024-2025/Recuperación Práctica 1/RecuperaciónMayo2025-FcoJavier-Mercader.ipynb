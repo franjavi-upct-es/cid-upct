{
 "cells": [
  {
   "cell_type": "markdown",
   "metadata": {},
   "source": [
    "# Recuperación Entregables Mayo 2025\n",
    "\n",
    "Francisco Javier Mercader Martínez\n",
    "\n",
    "## Machine Learning. Grado en Ciencia de datos\n",
    "\n",
    "Los siguientes ejercicios tienen que ser entregados dentro de las dos horas de prácticas. Como realizar el entregable:\n",
    "\n",
    "\n",
    "-   La realización se debe de hacer de forma  **INDIVIDUAL**\n",
    "-   Se debe de enviar un notebook con el código y las explicaciones, comentarios, análisis y justificaciones en Markdown.\n",
    "-   Reproducibilidad:\n",
    "    -   Se debe de establecer una variable semilla con un número al inicio, esta variables será la que se utilice para el np.random_seed y para el random_state.\n",
    "    -   Las bases de datos se cargan con rutas relativas.\n",
    "-   El notebook se debe de subir a la tarea del aula virtual creada antes de la finalización de la hora de clase. (Ver tarea y fecha de cierre).\n",
    "\n",
    "### DATASET\n",
    "\n",
    "El conjunto de datos DIETA.csv describe los siguientes atributos:\n",
    "\n",
    "- GENERO: Género de la persona. 0: Hombre, 1:Mujer\n",
    "- EDAD: Edad en años\n",
    "- ALTURA: ALtura de la persona en metros\n",
    "- PESO: Peso de la persona en kg\n",
    "- PRIMERACONSULTA: Si hay antecedentes de obesidad en la familia. 0:no, 1:si\n",
    "- CBASURA: Si come comida basura. 0:no, 1:si\n",
    "- VERDURA: Media de veces que come verdura durante la semana\n",
    "- NCOMIDAS: Media de comidas que hace al día\n",
    "- DEPORTE: Si hace ejecicio de fuerza: no, TodosDias, AlgunaVez, RaraVez\n",
    "- FUMAS: Si el paciente fuma. 0:no, 1:si\n",
    "- LAGUA: Media de Litros de agua que bebe al día\n",
    "- CCALORIAS: Control de las calorias en las comidas. 0:no, 1:si\n",
    "- EJERCICIO: Media de veces que hace ejercicio de cardio a la semana\n",
    "- TECNOLOGIA: Media de días que usa tecnología a la semana\n",
    "- DIETA: Si el paciente hace dieta o no. 1:no, 0:si"
   ]
  },
  {
   "cell_type": "markdown",
   "metadata": {},
   "source": [
    "## Común para todos los ejercicios\n",
    "\n",
    "1. Cargue el conjunto de datos."
   ]
  },
  {
   "cell_type": "markdown",
   "metadata": {},
   "source": [
    "## ENTREGABLE I"
   ]
  },
  {
   "cell_type": "markdown",
   "metadata": {},
   "source": [
    "1. Se requiere realizar un modelo utilizando Random Forest y un árbol de decisión para predecir la variable **Dieta**. Sabiendo esto, ¿el modelo será de clasificación o de regresión? Analiza los datos y transformarlos si fuera necesario. Justifica las decisiones que tomes."
   ]
  },
  {
   "cell_type": "code",
   "execution_count": 1,
   "metadata": {
    "ExecuteTime": {
     "end_time": "2025-06-07T07:54:55.098042Z",
     "start_time": "2025-06-07T07:54:55.083557Z"
    }
   },
   "outputs": [
    {
     "name": "stdout",
     "output_type": "stream",
     "text": [
      "Datos originales:\n",
      "<class 'pandas.core.frame.DataFrame'>\n",
      "RangeIndex: 1234 entries, 0 to 1233\n",
      "Data columns (total 15 columns):\n",
      " #   Column           Non-Null Count  Dtype  \n",
      "---  ------           --------------  -----  \n",
      " 0   GENERO           1234 non-null   int64  \n",
      " 1   EDAD             1234 non-null   int64  \n",
      " 2   ALTURA           1234 non-null   float64\n",
      " 3   PESO             1234 non-null   float64\n",
      " 4   PRIMERACONSULTA  1234 non-null   int64  \n",
      " 5   CBASURA          1234 non-null   int64  \n",
      " 6   VERDURA          1234 non-null   float64\n",
      " 7   NCOMIDAS         1234 non-null   float64\n",
      " 8   DEPORTE          1234 non-null   object \n",
      " 9   FUMAS            1234 non-null   int64  \n",
      " 10  LAGUA            1234 non-null   float64\n",
      " 11  CCALORIAS        1234 non-null   int64  \n",
      " 12  EJERCICIO        1234 non-null   float64\n",
      " 13  TECNOLOGIA       1234 non-null   float64\n",
      " 14  DIETA            1234 non-null   int64  \n",
      "dtypes: float64(7), int64(7), object(1)\n",
      "memory usage: 144.7+ KB\n",
      "None\n",
      "\n",
      "Datos transformados:\n",
      "GENERO                 int64\n",
      "EDAD                   int64\n",
      "ALTURA               float64\n",
      "PESO                 float64\n",
      "PRIMERACONSULTA        int64\n",
      "CBASURA                int64\n",
      "VERDURA              float64\n",
      "NCOMIDAS             float64\n",
      "FUMAS                  int64\n",
      "LAGUA                float64\n",
      "CCALORIAS              int64\n",
      "EJERCICIO            float64\n",
      "TECNOLOGIA           float64\n",
      "DIETA                  int64\n",
      "DEPORTE_RaraVez      float64\n",
      "DEPORTE_TodosDias    float64\n",
      "DEPORTE_no           float64\n",
      "dtype: object\n"
     ]
    }
   ],
   "source": [
    "import pandas as pd\n",
    "from sklearn.preprocessing import OneHotEncoder\n",
    "\n",
    "# Cargar los datos\n",
    "df = pd.read_csv('Dieta.csv', sep=';')\n",
    "\n",
    "print(\"Datos originales:\")\n",
    "print(df.info())\n",
    "\n",
    "# Transformar la variable 'DEPORTE' con OneHotEncoder\n",
    "ohe = OneHotEncoder(sparse_output=False, drop='first')\n",
    "deporte_encoded = ohe.fit_transform(df[['DEPORTE']])\n",
    "derpote_cols = ohe.get_feature_names_out(['DEPORTE'])\n",
    "df_deporte = pd.DataFrame(deporte_encoded, columns=derpote_cols, index=df.index)\n",
    "\n",
    "# Concatenar y eliminar la columna original\n",
    "df = pd.concat([df.drop('DEPORTE', axis=1), df_deporte], axis=1)\n",
    "\n",
    "# Comprobar la transformación\n",
    "print(\"\\nDatos transformados:\")\n",
    "print(df.dtypes)"
   ]
  },
  {
   "cell_type": "markdown",
   "metadata": {},
   "source": [
    "2. Realiza un hold-out de 70-30 y crea un modelo utilizando un árbol de decisión estableciendo como mínimo 2 parámetros. Utiliza dos métricas. Los resultados se deben de obtener en test y en train. ¿Hay sobreajuste o subajuste? Justifica la respuesta."
   ]
  },
  {
   "cell_type": "code",
   "execution_count": 2,
   "metadata": {
    "ExecuteTime": {
     "end_time": "2025-06-07T07:57:28.393554Z",
     "start_time": "2025-06-07T07:57:28.377076Z"
    }
   },
   "outputs": [
    {
     "name": "stdout",
     "output_type": "stream",
     "text": [
      "Accuracy:\n",
      "\t - Train: 0.9954 \n",
      "\t - Test: 0.9811\n",
      "F1 Score:\n",
      "\t - Train: 0.9958\n",
      "\t - Test: 0.9827\n"
     ]
    }
   ],
   "source": [
    "from sklearn.model_selection import train_test_split\n",
    "from sklearn.tree import DecisionTreeClassifier\n",
    "from sklearn.metrics import accuracy_score, f1_score\n",
    "\n",
    "# Separar los datos en variables predictoras y objetivo\n",
    "X = df.drop('DIETA', axis=1)\n",
    "y = df['DIETA']\n",
    "\n",
    "# Hold-out 70-30\n",
    "X_train, X_test, y_train, y_test = train_test_split(X, y, test_size=0.3, random_state=42, stratify=y)\n",
    "\n",
    "# Crear y entrenar el modelo\n",
    "clf = DecisionTreeClassifier(max_depth=4, min_samples_split=10, random_state=42)\n",
    "clf.fit(X_train, y_train)\n",
    "\n",
    "# Predicciones\n",
    "y_train_pred = clf.predict(X_train)\n",
    "y_test_pred = clf.predict(X_test)\n",
    "\n",
    "# Métricas\n",
    "acc_train = accuracy_score(y_train, y_train_pred)\n",
    "acc_test = accuracy_score(y_test, y_test_pred)\n",
    "f1_train = f1_score(y_train, y_train_pred)\n",
    "f1_test = f1_score(y_test, y_test_pred)\n",
    "\n",
    "print(f\"Accuracy:\\n\\t - Train: {acc_train:.4f} \\n\\t - Test: {acc_test:.4f}\")\n",
    "print(f\"F1 Score:\\n\\t - Train: {f1_train:.4f}\\n\\t - Test: {f1_test:.4f}\")"
   ]
  },
  {
   "cell_type": "markdown",
   "metadata": {},
   "source": [
    "Los resultados muestran un rendimiento muy alto tanto en `train` como en `test`.\n",
    "\n",
    "Debido a que la diferencia entre ambos es mínima, **no hay sobreajuste** ni **subajeste**. Por lo tanto podemos afirmar que el modelo generaliza bien."
   ]
  },
  {
   "cell_type": "markdown",
   "metadata": {},
   "source": [
    "3. Realiza un ajuste de dos hiperparámetros para un modelo de Random Forest ¿Qué resultados obtienes, son mejores que los del árbol de la pregunta anterior? ¿Algún modelo es factible para saber si una persona necesita dieta o no?"
   ]
  },
  {
   "cell_type": "code",
   "execution_count": 3,
   "metadata": {
    "ExecuteTime": {
     "end_time": "2025-06-07T08:04:03.832330Z",
     "start_time": "2025-06-07T08:04:03.678436Z"
    },
    "editable": true,
    "slideshow": {
     "slide_type": ""
    },
    "tags": []
   },
   "outputs": [
    {
     "name": "stdout",
     "output_type": "stream",
     "text": [
      "Random Forest Accuracy:\n",
      "\t - Train: 1.0000 \n",
      "\t - Test: 0.9865\n",
      "Random Forest F1 Score:\n",
      "\t - Train: 1.0000\n",
      "\t - Test: 0.9877\n"
     ]
    }
   ],
   "source": [
    "from sklearn.ensemble import RandomForestClassifier\n",
    "\n",
    "# Ajuste de hiperparámetros\n",
    "rf = RandomForestClassifier(n_estimators=100, max_depth=6, random_state=42)\n",
    "rf.fit(X_train, y_train)\n",
    "\n",
    "# Predicciones\n",
    "y_train_pred_rf = rf.predict(X_train)\n",
    "y_test_pred_rf = rf.predict(X_test)\n",
    "\n",
    "# Métricas\n",
    "acc_train_rf = accuracy_score(y_train, y_train_pred_rf)\n",
    "acc_test_rf = accuracy_score(y_test, y_test_pred_rf)\n",
    "f1_train_rf = f1_score(y_train, y_train_pred_rf)\n",
    "f1_test_rf = f1_score(y_test, y_test_pred_rf)\n",
    "\n",
    "print(f\"Random Forest Accuracy:\\n\\t - Train: {acc_train_rf:.4f} \\n\\t - Test: {acc_test_rf:.4f}\")\n",
    "print(f\"Random Forest F1 Score:\\n\\t - Train: {f1_train_rf:.4f}\\n\\t - Test: {f1_test_rf:.4f}\")\n"
   ]
  },
  {
   "cell_type": "markdown",
   "metadata": {},
   "source": [
    "Los resultados muestran que el modelo de Random Forest tiene un rendimiento excelente, con precisión y F1-score prácticamente perfectos en entrenamiento y muy altos en test. La diferencia entre `train` y `test` es mínima, por lo que **no hay sobreajuste**.\n",
    "\n",
    "Comparando con el árbol de decisión anterior (`accuracy test`: $0.9811$, `F1 test`: $0.9827$), Random Forest obtiene métricas ligeramente mejores. Por tanto, Random Forest es más recomendable para predecir si una persona necesita dieta, aunque ambos modelos son factibles y generalizan bien."
   ]
  },
  {
   "cell_type": "markdown",
   "metadata": {},
   "source": [
    "## ENTREGABLE II"
   ]
  },
  {
   "cell_type": "markdown",
   "metadata": {},
   "source": [
    "1. Se requiere realizar un modelo utilizando las técnicas de MLP y SVM para analizar la variable EJERCICIO. Eliminar del conjunto de datos la variable DIETA para realizar el ejercicio. Sabiendo esto, ¿el modelo será de clasificación o de regresión? Analiza los datos y transformarlos si fuera necesario. Justifica las decisiones que tomes."
   ]
  },
  {
   "cell_type": "markdown",
   "metadata": {},
   "source": [
    "2. Realiza una validación cruzada y crea un modelo MLP estableciendo como mínimo 2 parámetros. Utiliza dos métricas ¿Hay sobreajuste o subajuste? Justifica la respuesta."
   ]
  },
  {
   "cell_type": "markdown",
   "metadata": {},
   "source": [
    "3. Realiza un hold-out 80-20 y crea una SVM con un kernel de base radial, estableciendo dos parámetros como mínimo. Obten como mínimo 2 métricas. ¿Hay sobreajuste o subajuste? ¿Es más fiable la técnia MLP o la SVM para saber la media de ejercicio de cardio que debe de realizar una persona a la semana? Justifica tus respuestas."
   ]
  },
  {
   "cell_type": "markdown",
   "metadata": {},
   "source": [
    "## ENTREGABLE III"
   ]
  },
  {
   "cell_type": "markdown",
   "metadata": {},
   "source": [
    "1. Se requiere realizar un modelo clústering utilizando las variables Edad, Género, Altura, Peso, Verduras y NComidas. Analiza estos datos y realiza las transformaciones que fueran necesaria. "
   ]
  },
  {
   "cell_type": "markdown",
   "metadata": {},
   "source": [
    "2. Aplica la técnica Kmeans justificando y calculando antes cuál es el número de clústeres óptimos mediante la regla del codo ¿Cuál es el número óptimo de clúster? Justifica las respuestas. **Muestra** el número de **clusters** óptimo y la asignación de clusters resultante."
   ]
  },
  {
   "cell_type": "markdown",
   "metadata": {},
   "source": [
    "3. Calcula el número de cluster óptimo utilizando el índice de David Davies-Bouldin. Muestra el número de clusters óptimo y la asignación de clusters resultante ¿Cómo de bueno o malo es el número de clústers óptimo, según el índice utilizado? ¿Cúal de los de las dos clusters generados (preguntas 2 y3) consideras mejor? Justifica tus respuestas."
   ]
  },
  {
   "cell_type": "markdown",
   "metadata": {},
   "source": [
    "## ENTREGABLE IV"
   ]
  },
  {
   "cell_type": "markdown",
   "metadata": {},
   "source": [
    "1. Se requiere realizar un modelo para predecir la variable **Dieta** utilizando Random Forest seleccionando las 5 variables más importantes ¿El modelo será de clasificación o de regresión? Analiza los datos y transformarlos si fuera necesario ¿El modelo con las 5 variables más importantes mejora los resultados? Justifica las decisiones que tomes."
   ]
  },
  {
   "cell_type": "markdown",
   "metadata": {},
   "source": [
    "2. Utiliza la función RFECV de sklearn en una validación cruzada de 5 folds para seleccionar las variables más relevantes del modelo. Mediante un hold-out hold-out de 70-30 compara el rendimiento, utilizando como mínimo dos métricas, de  un árbol de decisión con todas las características y un árbol de decisión sólo con las seleccionadas ¿Qué modelo es mejor? ¿Es factible el modelo para saber si una persona tiene que hacer dieta o no?"
   ]
  }
 ],
 "metadata": {
  "kernelspec": {
   "display_name": "Python 3 (ipykernel)",
   "language": "python",
   "name": "python3"
  },
  "language_info": {
   "codemirror_mode": {
    "name": "ipython",
    "version": 3
   },
   "file_extension": ".py",
   "mimetype": "text/x-python",
   "name": "python",
   "nbconvert_exporter": "python",
   "pygments_lexer": "ipython3",
   "version": "3.9.23"
  }
 },
 "nbformat": 4,
 "nbformat_minor": 4
}
