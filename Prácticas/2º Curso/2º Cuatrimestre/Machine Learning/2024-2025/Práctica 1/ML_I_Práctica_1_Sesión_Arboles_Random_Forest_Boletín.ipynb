{
 "cells": [
  {
   "cell_type": "markdown",
   "id": "fd959e54-a507-4ce1-a477-f4b72b91d564",
   "metadata": {
    "id": "fd959e54-a507-4ce1-a477-f4b72b91d564"
   },
   "source": [
    "# Práctica 1- Árboles de decisión y Random Forest\n",
    "\n",
    "## Machine Learning. Grado en Ciencia de datos"
   ]
  },
  {
   "cell_type": "code",
   "execution_count": 2,
   "id": "1b539d23-f7e0-43bb-9aa8-26001b473503",
   "metadata": {
    "ExecuteTime": {
     "end_time": "2024-02-10T17:14:05.779847Z",
     "start_time": "2024-02-10T17:14:05.177636Z"
    },
    "id": "1b539d23-f7e0-43bb-9aa8-26001b473503"
   },
   "outputs": [],
   "source": [
    "import pandas as pd\n",
    "import matplotlib.pyplot as plt\n",
    "import numpy as np\n",
    "import sklearn.metrics as metrics\n",
    "from sklearn.preprocessing import StandardScaler\n",
    "from scipy.cluster import hierarchy\n",
    "from sklearn.cluster import AgglomerativeClustering"
   ]
  },
  {
   "cell_type": "markdown",
   "id": "c809d8e1-fa8a-43ba-9717-6552a02b1f2d",
   "metadata": {
    "id": "c809d8e1-fa8a-43ba-9717-6552a02b1f2d"
   },
   "source": [
    "## Introducción"
   ]
  },
  {
   "cell_type": "markdown",
   "id": "4c5fd1b4-4301-400d-ab99-bf2d5bf2409c",
   "metadata": {
    "id": "4c5fd1b4-4301-400d-ab99-bf2d5bf2409c"
   },
   "source": [
    "Los árboles de decisión  son un método de aprendizaje supervisado no paramétrico que se utiliza para la clasificación y la regresión. El objetivo es crear un modelo que prediga el valor de una variable objetivo mediante el aprendizaje de reglas de decisión sencillas inferidas a partir de las características de los datos. La principal implementación de árboles de decisión en Python está disponible en la librería `scikit-learn` a través de las clases `DecisionTreeClassifier` y `DecisionTreeRegressor`, para los árboles de clasificación y regresión respectivamente. Esta librería necesita convertir todas las variables categóricas en variables dummy (one-hot-encoding). En otras librerías, no es necesaria dicha conversión, pero en scikit-learn, es un paso previo que debe de realizarse.  \n",
    "\n",
    "Antes de entrar en detalle a ver cómo funcionan y cómo se configuran los árboles de decisión tanto en clasificación como en regresión, vamos a estudiar la conversión de las variables categóricas en variables dummy mediante la estrategia one-hot-encoding\n",
    "\n",
    "## Estrategia one-hot-encoding\n",
    "\n",
    "Las variables dummy son variables ficticias que se crean para codificar variables categóricas. Estas variables consisten en crear por cada categórica una nueva variable binaria (también llamada dummy).  Así, estas nuevas variables contendrán 1 en aquellas observaciones que pertenezcan a esa categoría y 0 en el resto. Para crear estas variables dummy se utiliza la estrategia one-hot-encoding. En Python tenemos mucha formas de realizar esta estrategia. Vamos a ver dos formas de realizar la estrategia una utilizando la librería `Scikit-Learn` con la funcionalidad en el módulo `sklearn.preprocessing`.`OneHotEncoder()` y la otra utilizando Pandas con la función `pandas.get_dummies()`"
   ]
  },
  {
   "cell_type": "markdown",
   "id": "1abc3a95",
   "metadata": {},
   "source": [
    "### One-hot-encoding utilizando Pandas\n",
    "\n",
    "A continuación se indica un ejemplo de como utilizando la función `pandas.get_dummies()`, fácilmente se convierten esas variables categóricas en variables dummy para poder ser utilizadas por las técnicas de los árboles de decisión de la librería `scikit-learn`."
   ]
  },
  {
   "cell_type": "code",
   "execution_count": 3,
   "id": "5e7529d29d0406ab",
   "metadata": {
    "ExecuteTime": {
     "end_time": "2024-02-10T17:14:05.873884Z",
     "start_time": "2024-02-10T17:14:05.781299Z"
    },
    "collapsed": false
   },
   "outputs": [
    {
     "data": {
      "text/html": [
       "<div>\n",
       "<style scoped>\n",
       "    .dataframe tbody tr th:only-of-type {\n",
       "        vertical-align: middle;\n",
       "    }\n",
       "\n",
       "    .dataframe tbody tr th {\n",
       "        vertical-align: top;\n",
       "    }\n",
       "\n",
       "    .dataframe thead th {\n",
       "        text-align: right;\n",
       "    }\n",
       "</style>\n",
       "<table border=\"1\" class=\"dataframe\">\n",
       "  <thead>\n",
       "    <tr style=\"text-align: right;\">\n",
       "      <th></th>\n",
       "      <th>survived</th>\n",
       "      <th>pclass</th>\n",
       "      <th>sex</th>\n",
       "      <th>age</th>\n",
       "      <th>sibsp</th>\n",
       "      <th>parch</th>\n",
       "      <th>fare</th>\n",
       "      <th>embarked</th>\n",
       "      <th>class</th>\n",
       "      <th>who</th>\n",
       "      <th>adult_male</th>\n",
       "      <th>deck</th>\n",
       "      <th>embark_town</th>\n",
       "      <th>alive</th>\n",
       "      <th>alone</th>\n",
       "    </tr>\n",
       "  </thead>\n",
       "  <tbody>\n",
       "    <tr>\n",
       "      <th>0</th>\n",
       "      <td>0</td>\n",
       "      <td>3</td>\n",
       "      <td>male</td>\n",
       "      <td>22,0</td>\n",
       "      <td>1</td>\n",
       "      <td>0</td>\n",
       "      <td>7,25</td>\n",
       "      <td>S</td>\n",
       "      <td>Third</td>\n",
       "      <td>man</td>\n",
       "      <td>True</td>\n",
       "      <td>NaN</td>\n",
       "      <td>Southampton</td>\n",
       "      <td>no</td>\n",
       "      <td>False</td>\n",
       "    </tr>\n",
       "    <tr>\n",
       "      <th>1</th>\n",
       "      <td>1</td>\n",
       "      <td>1</td>\n",
       "      <td>female</td>\n",
       "      <td>38,0</td>\n",
       "      <td>1</td>\n",
       "      <td>0</td>\n",
       "      <td>71,2833</td>\n",
       "      <td>C</td>\n",
       "      <td>First</td>\n",
       "      <td>woman</td>\n",
       "      <td>False</td>\n",
       "      <td>C</td>\n",
       "      <td>Cherbourg</td>\n",
       "      <td>yes</td>\n",
       "      <td>False</td>\n",
       "    </tr>\n",
       "    <tr>\n",
       "      <th>2</th>\n",
       "      <td>1</td>\n",
       "      <td>3</td>\n",
       "      <td>female</td>\n",
       "      <td>26,0</td>\n",
       "      <td>0</td>\n",
       "      <td>0</td>\n",
       "      <td>7,925</td>\n",
       "      <td>S</td>\n",
       "      <td>Third</td>\n",
       "      <td>woman</td>\n",
       "      <td>False</td>\n",
       "      <td>NaN</td>\n",
       "      <td>Southampton</td>\n",
       "      <td>yes</td>\n",
       "      <td>True</td>\n",
       "    </tr>\n",
       "  </tbody>\n",
       "</table>\n",
       "</div>"
      ],
      "text/plain": [
       "   survived  pclass     sex   age  sibsp  parch     fare embarked  class  \\\n",
       "0         0       3    male  22,0      1      0     7,25        S  Third   \n",
       "1         1       1  female  38,0      1      0  71,2833        C  First   \n",
       "2         1       3  female  26,0      0      0    7,925        S  Third   \n",
       "\n",
       "     who  adult_male deck  embark_town alive  alone  \n",
       "0    man        True  NaN  Southampton    no  False  \n",
       "1  woman       False    C    Cherbourg   yes  False  \n",
       "2  woman       False  NaN  Southampton   yes   True  "
      ]
     },
     "execution_count": 3,
     "metadata": {},
     "output_type": "execute_result"
    }
   ],
   "source": [
    "import pandas as pd\n",
    "import numpy as np\n",
    "\n",
    "\n",
    "semilla=123\n",
    "np.random.seed(semilla)\n",
    "\n",
    "\n",
    "# Descarga de datos de la base de datos boston\n",
    "# ==============================================================================\n",
    "url = ( 'titanic.csv')\n",
    "datos = pd.read_csv(url, sep=';')\n",
    "datos.head(3)"
   ]
  },
  {
   "cell_type": "markdown",
   "id": "653a9fe3dbb29582",
   "metadata": {
    "collapsed": false
   },
   "source": [
    "Una vez cargados los datos examinamos el tipo de las variables en el dataset."
   ]
  },
  {
   "cell_type": "code",
   "execution_count": 4,
   "id": "84ea8c264151fe90",
   "metadata": {
    "ExecuteTime": {
     "end_time": "2024-02-10T17:14:05.884492Z",
     "start_time": "2024-02-10T17:14:05.843226Z"
    },
    "collapsed": false
   },
   "outputs": [
    {
     "data": {
      "text/plain": [
       "survived        int64\n",
       "pclass          int64\n",
       "sex            object\n",
       "age            object\n",
       "sibsp           int64\n",
       "parch           int64\n",
       "fare           object\n",
       "embarked       object\n",
       "class          object\n",
       "who            object\n",
       "adult_male       bool\n",
       "deck           object\n",
       "embark_town    object\n",
       "alive          object\n",
       "alone            bool\n",
       "dtype: object"
      ]
     },
     "execution_count": 4,
     "metadata": {},
     "output_type": "execute_result"
    }
   ],
   "source": [
    "# Ahora identificamos para cada atributo su tipo\n",
    "datos.dtypes"
   ]
  },
  {
   "cell_type": "markdown",
   "id": "d8c74c91a2850379",
   "metadata": {
    "collapsed": false
   },
   "source": [
    "Como se puede ver los atributos categóricos son las correspondientes a los tipos \"object\" y \"category\". Ahora vamos a extraer estos atributos con el método `select_dtypes()` de pandas:"
   ]
  },
  {
   "cell_type": "code",
   "execution_count": 5,
   "id": "b592f345027a2566",
   "metadata": {
    "ExecuteTime": {
     "end_time": "2024-02-10T17:14:05.989338Z",
     "start_time": "2024-02-10T17:14:05.885613Z"
    },
    "collapsed": false
   },
   "outputs": [
    {
     "data": {
      "text/plain": [
       "Index(['sex', 'age', 'fare', 'embarked', 'class', 'who', 'deck', 'embark_town',\n",
       "       'alive'],\n",
       "      dtype='object')"
      ]
     },
     "execution_count": 5,
     "metadata": {},
     "output_type": "execute_result"
    }
   ],
   "source": [
    "categoricas = datos.select_dtypes(include = [\"object\", \"category\"]).columns\n",
    "# Mostramos las columnas extraídas\n",
    "categoricas"
   ]
  },
  {
   "cell_type": "markdown",
   "id": "9e7d8f567d58bc8b",
   "metadata": {
    "collapsed": false
   },
   "source": [
    "Utilizamos la función `pd.get_dummies()`  en el subconjunto del dataframe datos formado por estas columnas extraídas.\n",
    "En esta función utilizamos dos argumentos que son `drop_first` y `dummy_na`.\n",
    "\n",
    "- `drop_first = True`: Este argumento permite eliminar la primera de las columnas generadas para cada característica con el objetivo de evitar la colinealidad (que una de las columnas sea combinación lineal de las demás)\n",
    "- `dummy_na = True`: Este argumento permite que se genere una columna adicional para los valores nulos que se encuentren en cada característica"
   ]
  },
  {
   "cell_type": "code",
   "execution_count": 6,
   "id": "2d9bbe1af705afe6",
   "metadata": {
    "ExecuteTime": {
     "end_time": "2024-02-10T17:14:06.093563Z",
     "start_time": "2024-02-10T17:14:05.960192Z"
    },
    "collapsed": false
   },
   "outputs": [
    {
     "data": {
      "text/html": [
       "<div>\n",
       "<style scoped>\n",
       "    .dataframe tbody tr th:only-of-type {\n",
       "        vertical-align: middle;\n",
       "    }\n",
       "\n",
       "    .dataframe tbody tr th {\n",
       "        vertical-align: top;\n",
       "    }\n",
       "\n",
       "    .dataframe thead th {\n",
       "        text-align: right;\n",
       "    }\n",
       "</style>\n",
       "<table border=\"1\" class=\"dataframe\">\n",
       "  <thead>\n",
       "    <tr style=\"text-align: right;\">\n",
       "      <th></th>\n",
       "      <th>sex_male</th>\n",
       "      <th>sex_nan</th>\n",
       "      <th>age_0,67</th>\n",
       "      <th>age_0,75</th>\n",
       "      <th>age_0,83</th>\n",
       "      <th>age_0,92</th>\n",
       "      <th>age_1,0</th>\n",
       "      <th>age_10,0</th>\n",
       "      <th>age_11,0</th>\n",
       "      <th>age_12,0</th>\n",
       "      <th>...</th>\n",
       "      <th>deck_D</th>\n",
       "      <th>deck_E</th>\n",
       "      <th>deck_F</th>\n",
       "      <th>deck_G</th>\n",
       "      <th>deck_nan</th>\n",
       "      <th>embark_town_Queenstown</th>\n",
       "      <th>embark_town_Southampton</th>\n",
       "      <th>embark_town_nan</th>\n",
       "      <th>alive_yes</th>\n",
       "      <th>alive_nan</th>\n",
       "    </tr>\n",
       "  </thead>\n",
       "  <tbody>\n",
       "    <tr>\n",
       "      <th>0</th>\n",
       "      <td>True</td>\n",
       "      <td>False</td>\n",
       "      <td>False</td>\n",
       "      <td>False</td>\n",
       "      <td>False</td>\n",
       "      <td>False</td>\n",
       "      <td>False</td>\n",
       "      <td>False</td>\n",
       "      <td>False</td>\n",
       "      <td>False</td>\n",
       "      <td>...</td>\n",
       "      <td>False</td>\n",
       "      <td>False</td>\n",
       "      <td>False</td>\n",
       "      <td>False</td>\n",
       "      <td>True</td>\n",
       "      <td>False</td>\n",
       "      <td>True</td>\n",
       "      <td>False</td>\n",
       "      <td>False</td>\n",
       "      <td>False</td>\n",
       "    </tr>\n",
       "    <tr>\n",
       "      <th>1</th>\n",
       "      <td>False</td>\n",
       "      <td>False</td>\n",
       "      <td>False</td>\n",
       "      <td>False</td>\n",
       "      <td>False</td>\n",
       "      <td>False</td>\n",
       "      <td>False</td>\n",
       "      <td>False</td>\n",
       "      <td>False</td>\n",
       "      <td>False</td>\n",
       "      <td>...</td>\n",
       "      <td>False</td>\n",
       "      <td>False</td>\n",
       "      <td>False</td>\n",
       "      <td>False</td>\n",
       "      <td>False</td>\n",
       "      <td>False</td>\n",
       "      <td>False</td>\n",
       "      <td>False</td>\n",
       "      <td>True</td>\n",
       "      <td>False</td>\n",
       "    </tr>\n",
       "    <tr>\n",
       "      <th>2</th>\n",
       "      <td>False</td>\n",
       "      <td>False</td>\n",
       "      <td>False</td>\n",
       "      <td>False</td>\n",
       "      <td>False</td>\n",
       "      <td>False</td>\n",
       "      <td>False</td>\n",
       "      <td>False</td>\n",
       "      <td>False</td>\n",
       "      <td>False</td>\n",
       "      <td>...</td>\n",
       "      <td>False</td>\n",
       "      <td>False</td>\n",
       "      <td>False</td>\n",
       "      <td>False</td>\n",
       "      <td>True</td>\n",
       "      <td>False</td>\n",
       "      <td>True</td>\n",
       "      <td>False</td>\n",
       "      <td>True</td>\n",
       "      <td>False</td>\n",
       "    </tr>\n",
       "    <tr>\n",
       "      <th>3</th>\n",
       "      <td>False</td>\n",
       "      <td>False</td>\n",
       "      <td>False</td>\n",
       "      <td>False</td>\n",
       "      <td>False</td>\n",
       "      <td>False</td>\n",
       "      <td>False</td>\n",
       "      <td>False</td>\n",
       "      <td>False</td>\n",
       "      <td>False</td>\n",
       "      <td>...</td>\n",
       "      <td>False</td>\n",
       "      <td>False</td>\n",
       "      <td>False</td>\n",
       "      <td>False</td>\n",
       "      <td>False</td>\n",
       "      <td>False</td>\n",
       "      <td>True</td>\n",
       "      <td>False</td>\n",
       "      <td>True</td>\n",
       "      <td>False</td>\n",
       "    </tr>\n",
       "    <tr>\n",
       "      <th>4</th>\n",
       "      <td>True</td>\n",
       "      <td>False</td>\n",
       "      <td>False</td>\n",
       "      <td>False</td>\n",
       "      <td>False</td>\n",
       "      <td>False</td>\n",
       "      <td>False</td>\n",
       "      <td>False</td>\n",
       "      <td>False</td>\n",
       "      <td>False</td>\n",
       "      <td>...</td>\n",
       "      <td>False</td>\n",
       "      <td>False</td>\n",
       "      <td>False</td>\n",
       "      <td>False</td>\n",
       "      <td>True</td>\n",
       "      <td>False</td>\n",
       "      <td>True</td>\n",
       "      <td>False</td>\n",
       "      <td>False</td>\n",
       "      <td>False</td>\n",
       "    </tr>\n",
       "  </tbody>\n",
       "</table>\n",
       "<p>5 rows × 359 columns</p>\n",
       "</div>"
      ],
      "text/plain": [
       "   sex_male  sex_nan  age_0,67  age_0,75  age_0,83  age_0,92  age_1,0  \\\n",
       "0      True    False     False     False     False     False    False   \n",
       "1     False    False     False     False     False     False    False   \n",
       "2     False    False     False     False     False     False    False   \n",
       "3     False    False     False     False     False     False    False   \n",
       "4      True    False     False     False     False     False    False   \n",
       "\n",
       "   age_10,0  age_11,0  age_12,0  ...  deck_D  deck_E  deck_F  deck_G  \\\n",
       "0     False     False     False  ...   False   False   False   False   \n",
       "1     False     False     False  ...   False   False   False   False   \n",
       "2     False     False     False  ...   False   False   False   False   \n",
       "3     False     False     False  ...   False   False   False   False   \n",
       "4     False     False     False  ...   False   False   False   False   \n",
       "\n",
       "   deck_nan  embark_town_Queenstown  embark_town_Southampton  embark_town_nan  \\\n",
       "0      True                   False                     True            False   \n",
       "1     False                   False                    False            False   \n",
       "2      True                   False                     True            False   \n",
       "3     False                   False                     True            False   \n",
       "4      True                   False                     True            False   \n",
       "\n",
       "   alive_yes  alive_nan  \n",
       "0      False      False  \n",
       "1       True      False  \n",
       "2       True      False  \n",
       "3       True      False  \n",
       "4      False      False  \n",
       "\n",
       "[5 rows x 359 columns]"
      ]
     },
     "execution_count": 6,
     "metadata": {},
     "output_type": "execute_result"
    }
   ],
   "source": [
    "categoricas_Datos = pd.get_dummies(datos[categoricas], drop_first = True, dummy_na = True)\n",
    "# Mostramos la transformación de las variables categóricas en variables dummies\n",
    "categoricas_Datos.head()"
   ]
  },
  {
   "cell_type": "markdown",
   "id": "8a94fb92d9747901",
   "metadata": {
    "collapsed": false
   },
   "source": [
    "Ahora eliminamos los atributos originales "
   ]
  },
  {
   "cell_type": "code",
   "execution_count": 7,
   "id": "75a5a0f4",
   "metadata": {
    "ExecuteTime": {
     "end_time": "2024-02-10T17:14:06.184367Z",
     "start_time": "2024-02-10T17:14:06.067882Z"
    }
   },
   "outputs": [
    {
     "data": {
      "text/html": [
       "<div>\n",
       "<style scoped>\n",
       "    .dataframe tbody tr th:only-of-type {\n",
       "        vertical-align: middle;\n",
       "    }\n",
       "\n",
       "    .dataframe tbody tr th {\n",
       "        vertical-align: top;\n",
       "    }\n",
       "\n",
       "    .dataframe thead th {\n",
       "        text-align: right;\n",
       "    }\n",
       "</style>\n",
       "<table border=\"1\" class=\"dataframe\">\n",
       "  <thead>\n",
       "    <tr style=\"text-align: right;\">\n",
       "      <th></th>\n",
       "      <th>survived</th>\n",
       "      <th>pclass</th>\n",
       "      <th>sibsp</th>\n",
       "      <th>parch</th>\n",
       "      <th>adult_male</th>\n",
       "      <th>alone</th>\n",
       "      <th>sex_male</th>\n",
       "      <th>sex_nan</th>\n",
       "      <th>age_0,67</th>\n",
       "      <th>age_0,75</th>\n",
       "      <th>...</th>\n",
       "      <th>deck_D</th>\n",
       "      <th>deck_E</th>\n",
       "      <th>deck_F</th>\n",
       "      <th>deck_G</th>\n",
       "      <th>deck_nan</th>\n",
       "      <th>embark_town_Queenstown</th>\n",
       "      <th>embark_town_Southampton</th>\n",
       "      <th>embark_town_nan</th>\n",
       "      <th>alive_yes</th>\n",
       "      <th>alive_nan</th>\n",
       "    </tr>\n",
       "  </thead>\n",
       "  <tbody>\n",
       "    <tr>\n",
       "      <th>0</th>\n",
       "      <td>0</td>\n",
       "      <td>3</td>\n",
       "      <td>1</td>\n",
       "      <td>0</td>\n",
       "      <td>True</td>\n",
       "      <td>False</td>\n",
       "      <td>True</td>\n",
       "      <td>False</td>\n",
       "      <td>False</td>\n",
       "      <td>False</td>\n",
       "      <td>...</td>\n",
       "      <td>False</td>\n",
       "      <td>False</td>\n",
       "      <td>False</td>\n",
       "      <td>False</td>\n",
       "      <td>True</td>\n",
       "      <td>False</td>\n",
       "      <td>True</td>\n",
       "      <td>False</td>\n",
       "      <td>False</td>\n",
       "      <td>False</td>\n",
       "    </tr>\n",
       "    <tr>\n",
       "      <th>1</th>\n",
       "      <td>1</td>\n",
       "      <td>1</td>\n",
       "      <td>1</td>\n",
       "      <td>0</td>\n",
       "      <td>False</td>\n",
       "      <td>False</td>\n",
       "      <td>False</td>\n",
       "      <td>False</td>\n",
       "      <td>False</td>\n",
       "      <td>False</td>\n",
       "      <td>...</td>\n",
       "      <td>False</td>\n",
       "      <td>False</td>\n",
       "      <td>False</td>\n",
       "      <td>False</td>\n",
       "      <td>False</td>\n",
       "      <td>False</td>\n",
       "      <td>False</td>\n",
       "      <td>False</td>\n",
       "      <td>True</td>\n",
       "      <td>False</td>\n",
       "    </tr>\n",
       "    <tr>\n",
       "      <th>2</th>\n",
       "      <td>1</td>\n",
       "      <td>3</td>\n",
       "      <td>0</td>\n",
       "      <td>0</td>\n",
       "      <td>False</td>\n",
       "      <td>True</td>\n",
       "      <td>False</td>\n",
       "      <td>False</td>\n",
       "      <td>False</td>\n",
       "      <td>False</td>\n",
       "      <td>...</td>\n",
       "      <td>False</td>\n",
       "      <td>False</td>\n",
       "      <td>False</td>\n",
       "      <td>False</td>\n",
       "      <td>True</td>\n",
       "      <td>False</td>\n",
       "      <td>True</td>\n",
       "      <td>False</td>\n",
       "      <td>True</td>\n",
       "      <td>False</td>\n",
       "    </tr>\n",
       "    <tr>\n",
       "      <th>3</th>\n",
       "      <td>1</td>\n",
       "      <td>1</td>\n",
       "      <td>1</td>\n",
       "      <td>0</td>\n",
       "      <td>False</td>\n",
       "      <td>False</td>\n",
       "      <td>False</td>\n",
       "      <td>False</td>\n",
       "      <td>False</td>\n",
       "      <td>False</td>\n",
       "      <td>...</td>\n",
       "      <td>False</td>\n",
       "      <td>False</td>\n",
       "      <td>False</td>\n",
       "      <td>False</td>\n",
       "      <td>False</td>\n",
       "      <td>False</td>\n",
       "      <td>True</td>\n",
       "      <td>False</td>\n",
       "      <td>True</td>\n",
       "      <td>False</td>\n",
       "    </tr>\n",
       "    <tr>\n",
       "      <th>4</th>\n",
       "      <td>0</td>\n",
       "      <td>3</td>\n",
       "      <td>0</td>\n",
       "      <td>0</td>\n",
       "      <td>True</td>\n",
       "      <td>True</td>\n",
       "      <td>True</td>\n",
       "      <td>False</td>\n",
       "      <td>False</td>\n",
       "      <td>False</td>\n",
       "      <td>...</td>\n",
       "      <td>False</td>\n",
       "      <td>False</td>\n",
       "      <td>False</td>\n",
       "      <td>False</td>\n",
       "      <td>True</td>\n",
       "      <td>False</td>\n",
       "      <td>True</td>\n",
       "      <td>False</td>\n",
       "      <td>False</td>\n",
       "      <td>False</td>\n",
       "    </tr>\n",
       "  </tbody>\n",
       "</table>\n",
       "<p>5 rows × 365 columns</p>\n",
       "</div>"
      ],
      "text/plain": [
       "   survived  pclass  sibsp  parch  adult_male  alone  sex_male  sex_nan  \\\n",
       "0         0       3      1      0        True  False      True    False   \n",
       "1         1       1      1      0       False  False     False    False   \n",
       "2         1       3      0      0       False   True     False    False   \n",
       "3         1       1      1      0       False  False     False    False   \n",
       "4         0       3      0      0        True   True      True    False   \n",
       "\n",
       "   age_0,67  age_0,75  ...  deck_D  deck_E  deck_F  deck_G  deck_nan  \\\n",
       "0     False     False  ...   False   False   False   False      True   \n",
       "1     False     False  ...   False   False   False   False     False   \n",
       "2     False     False  ...   False   False   False   False      True   \n",
       "3     False     False  ...   False   False   False   False     False   \n",
       "4     False     False  ...   False   False   False   False      True   \n",
       "\n",
       "   embark_town_Queenstown  embark_town_Southampton  embark_town_nan  \\\n",
       "0                   False                     True            False   \n",
       "1                   False                    False            False   \n",
       "2                   False                     True            False   \n",
       "3                   False                     True            False   \n",
       "4                   False                     True            False   \n",
       "\n",
       "   alive_yes  alive_nan  \n",
       "0      False      False  \n",
       "1       True      False  \n",
       "2       True      False  \n",
       "3       True      False  \n",
       "4      False      False  \n",
       "\n",
       "[5 rows x 365 columns]"
      ]
     },
     "execution_count": 7,
     "metadata": {},
     "output_type": "execute_result"
    }
   ],
   "source": [
    "datos.drop(categoricas, axis = 1, inplace = True)\n",
    "# Tras eliminar los atributos originales, concatenamos los nuevos atributos creados para las variables categóricas.\n",
    "datos = pd.concat([datos, categoricas_Datos], axis = 1)\n",
    "# Mostramos como quedan los datos de nuevo.\n",
    "datos.head()"
   ]
  },
  {
   "cell_type": "markdown",
   "id": "234d3da9-9c08-4dfc-b408-d42946dce4dc",
   "metadata": {
    "id": "234d3da9-9c08-4dfc-b408-d42946dce4dc"
   },
   "source": [
    "### One-hot-encoding utilizando la funcionalidad en la clase `sklearn.preprocessing.OneHotEncoder()`\n",
    "\n",
    "La clase `OneHotEncoder` codifica los atributos categóricos como atributos numéricos one-hot. La entrada de este transformador debe ser un *array-like* de enteros o cadenas, que denote los valores que toman las características categóricas (discretas). Las características se codifican utilizando un esquema de codificación one-hot. Esta función tiene diversos parámetros y argumentos, nosotros sólo nos centraremos en las características básicas para transformar los atributos categóricos.\n"
   ]
  },
  {
   "cell_type": "markdown",
   "id": "8f5ab3980c579d66",
   "metadata": {
    "collapsed": false
   },
   "source": [
    "Volvemos a cargar el dataset original"
   ]
  },
  {
   "cell_type": "code",
   "execution_count": 8,
   "id": "e5741da44744fee",
   "metadata": {
    "ExecuteTime": {
     "end_time": "2024-02-10T17:14:06.208027Z",
     "start_time": "2024-02-10T17:14:06.119540Z"
    },
    "collapsed": false
   },
   "outputs": [
    {
     "data": {
      "text/html": [
       "<div>\n",
       "<style scoped>\n",
       "    .dataframe tbody tr th:only-of-type {\n",
       "        vertical-align: middle;\n",
       "    }\n",
       "\n",
       "    .dataframe tbody tr th {\n",
       "        vertical-align: top;\n",
       "    }\n",
       "\n",
       "    .dataframe thead th {\n",
       "        text-align: right;\n",
       "    }\n",
       "</style>\n",
       "<table border=\"1\" class=\"dataframe\">\n",
       "  <thead>\n",
       "    <tr style=\"text-align: right;\">\n",
       "      <th></th>\n",
       "      <th>survived</th>\n",
       "      <th>pclass</th>\n",
       "      <th>sex</th>\n",
       "      <th>age</th>\n",
       "      <th>sibsp</th>\n",
       "      <th>parch</th>\n",
       "      <th>fare</th>\n",
       "      <th>embarked</th>\n",
       "      <th>class</th>\n",
       "      <th>who</th>\n",
       "      <th>adult_male</th>\n",
       "      <th>deck</th>\n",
       "      <th>embark_town</th>\n",
       "      <th>alive</th>\n",
       "      <th>alone</th>\n",
       "    </tr>\n",
       "  </thead>\n",
       "  <tbody>\n",
       "    <tr>\n",
       "      <th>0</th>\n",
       "      <td>0</td>\n",
       "      <td>3</td>\n",
       "      <td>male</td>\n",
       "      <td>22,0</td>\n",
       "      <td>1</td>\n",
       "      <td>0</td>\n",
       "      <td>7,25</td>\n",
       "      <td>S</td>\n",
       "      <td>Third</td>\n",
       "      <td>man</td>\n",
       "      <td>True</td>\n",
       "      <td>NaN</td>\n",
       "      <td>Southampton</td>\n",
       "      <td>no</td>\n",
       "      <td>False</td>\n",
       "    </tr>\n",
       "    <tr>\n",
       "      <th>1</th>\n",
       "      <td>1</td>\n",
       "      <td>1</td>\n",
       "      <td>female</td>\n",
       "      <td>38,0</td>\n",
       "      <td>1</td>\n",
       "      <td>0</td>\n",
       "      <td>71,2833</td>\n",
       "      <td>C</td>\n",
       "      <td>First</td>\n",
       "      <td>woman</td>\n",
       "      <td>False</td>\n",
       "      <td>C</td>\n",
       "      <td>Cherbourg</td>\n",
       "      <td>yes</td>\n",
       "      <td>False</td>\n",
       "    </tr>\n",
       "    <tr>\n",
       "      <th>2</th>\n",
       "      <td>1</td>\n",
       "      <td>3</td>\n",
       "      <td>female</td>\n",
       "      <td>26,0</td>\n",
       "      <td>0</td>\n",
       "      <td>0</td>\n",
       "      <td>7,925</td>\n",
       "      <td>S</td>\n",
       "      <td>Third</td>\n",
       "      <td>woman</td>\n",
       "      <td>False</td>\n",
       "      <td>NaN</td>\n",
       "      <td>Southampton</td>\n",
       "      <td>yes</td>\n",
       "      <td>True</td>\n",
       "    </tr>\n",
       "  </tbody>\n",
       "</table>\n",
       "</div>"
      ],
      "text/plain": [
       "   survived  pclass     sex   age  sibsp  parch     fare embarked  class  \\\n",
       "0         0       3    male  22,0      1      0     7,25        S  Third   \n",
       "1         1       1  female  38,0      1      0  71,2833        C  First   \n",
       "2         1       3  female  26,0      0      0    7,925        S  Third   \n",
       "\n",
       "     who  adult_male deck  embark_town alive  alone  \n",
       "0    man        True  NaN  Southampton    no  False  \n",
       "1  woman       False    C    Cherbourg   yes  False  \n",
       "2  woman       False  NaN  Southampton   yes   True  "
      ]
     },
     "execution_count": 8,
     "metadata": {},
     "output_type": "execute_result"
    }
   ],
   "source": [
    "from sklearn.preprocessing import OneHotEncoder\n",
    "semilla=123\n",
    "np.random.seed(semilla)\n",
    "\n",
    "\n",
    "# Descarga de datos de la base de datos boston\n",
    "# ==============================================================================\n",
    "url = ( 'titanic.csv')\n",
    "datos = pd.read_csv(url, sep=';')\n",
    "datos.head(3)"
   ]
  },
  {
   "cell_type": "markdown",
   "id": "2ddc0e4b559b2968",
   "metadata": {
    "collapsed": false
   },
   "source": [
    "Ahora vamos a transformar el atributo `embarked` del dataset y queremos ver cuáles son sus valores únicos"
   ]
  },
  {
   "cell_type": "code",
   "execution_count": 9,
   "id": "7a006e3ffc947836",
   "metadata": {
    "ExecuteTime": {
     "end_time": "2024-02-10T17:14:06.346588Z",
     "start_time": "2024-02-10T17:14:06.208464Z"
    },
    "collapsed": false
   },
   "outputs": [
    {
     "name": "stdout",
     "output_type": "stream",
     "text": [
      "['S' 'C' 'Q' nan]\n",
      "(4,)\n"
     ]
    }
   ],
   "source": [
    "# Valores únicos de la columna \"embarked\"\n",
    "print(datos.embarked.unique())\n",
    "# Dimensión del array\n",
    "print(datos.embarked.unique().shape)"
   ]
  },
  {
   "cell_type": "markdown",
   "id": "ccb8daef73e0d8e7",
   "metadata": {
    "collapsed": false
   },
   "source": [
    "Creamos una instancia del codificador para transformar las variables y utilizamos la función `fit_transform()` que ajusta los datos de entrada y los transforma. Tened en cuenta que esta función requiere una entrada de datos bidimensional"
   ]
  },
  {
   "cell_type": "code",
   "execution_count": 10,
   "id": "f8bb1de693f17b61",
   "metadata": {
    "ExecuteTime": {
     "end_time": "2024-02-10T17:14:06.472959Z",
     "start_time": "2024-02-10T17:14:06.330465Z"
    },
    "collapsed": false
   },
   "outputs": [
    {
     "data": {
      "text/plain": [
       "<891x4 sparse matrix of type '<class 'numpy.float64'>'\n",
       "\twith 891 stored elements in Compressed Sparse Row format>"
      ]
     },
     "execution_count": 10,
     "metadata": {},
     "output_type": "execute_result"
    }
   ],
   "source": [
    "codificador = OneHotEncoder()\n",
    "# Utilizamos reshape(-1, 1) para obtener una entrada de datos bidimensional\n",
    "datos_embarked = codificador.fit_transform(datos.embarked.values.reshape(-1, 1))\n",
    "\n",
    "datos_embarked"
   ]
  },
  {
   "cell_type": "markdown",
   "id": "9e6d1c21",
   "metadata": {},
   "source": [
    "Como devuelve una matriz dispersa, lo que hacemos es transformarla en un array."
   ]
  },
  {
   "cell_type": "code",
   "execution_count": 11,
   "id": "44a53bbe",
   "metadata": {},
   "outputs": [
    {
     "name": "stdout",
     "output_type": "stream",
     "text": [
      "<class 'numpy.ndarray'>\n",
      "(891, 4)\n"
     ]
    },
    {
     "data": {
      "text/plain": [
       "array([[0., 0., 1., 0.],\n",
       "       [1., 0., 0., 0.],\n",
       "       [0., 0., 1., 0.],\n",
       "       ...,\n",
       "       [0., 0., 1., 0.],\n",
       "       [1., 0., 0., 0.],\n",
       "       [0., 1., 0., 0.]])"
      ]
     },
     "execution_count": 11,
     "metadata": {},
     "output_type": "execute_result"
    }
   ],
   "source": [
    "datos_embarked = datos_embarked.toarray()\n",
    "# O en una línea de código \n",
    "#datos_embarked = codificador.fit_transform(datos.embarked.values.reshape(-1, 1)).toarray()\n",
    "\n",
    "# Mostramos el tipo de array y sus dimensiones y el propio array\n",
    "print(type(datos_embarked))\n",
    "print(datos_embarked.shape)\n",
    "datos_embarked"
   ]
  },
  {
   "cell_type": "markdown",
   "id": "1c5e5a18",
   "metadata": {},
   "source": [
    "A través del atributo `categories_` podemos ver las categorías que se han definido."
   ]
  },
  {
   "cell_type": "code",
   "execution_count": 12,
   "id": "031a982d",
   "metadata": {},
   "outputs": [
    {
     "data": {
      "text/plain": [
       "[array(['C', 'Q', 'S', nan], dtype=object)]"
      ]
     },
     "execution_count": 12,
     "metadata": {},
     "output_type": "execute_result"
    }
   ],
   "source": [
    "codificador.categories_"
   ]
  },
  {
   "cell_type": "markdown",
   "id": "3df32538",
   "metadata": {},
   "source": [
    "Por último, concatenamos los nuevos datos y los mostramos. También borramos la columna embarked con drop\n"
   ]
  },
  {
   "cell_type": "code",
   "execution_count": 13,
   "id": "9d62f4a7",
   "metadata": {},
   "outputs": [
    {
     "data": {
      "text/html": [
       "<div>\n",
       "<style scoped>\n",
       "    .dataframe tbody tr th:only-of-type {\n",
       "        vertical-align: middle;\n",
       "    }\n",
       "\n",
       "    .dataframe tbody tr th {\n",
       "        vertical-align: top;\n",
       "    }\n",
       "\n",
       "    .dataframe thead th {\n",
       "        text-align: right;\n",
       "    }\n",
       "</style>\n",
       "<table border=\"1\" class=\"dataframe\">\n",
       "  <thead>\n",
       "    <tr style=\"text-align: right;\">\n",
       "      <th></th>\n",
       "      <th>survived</th>\n",
       "      <th>pclass</th>\n",
       "      <th>sex</th>\n",
       "      <th>age</th>\n",
       "      <th>sibsp</th>\n",
       "      <th>parch</th>\n",
       "      <th>fare</th>\n",
       "      <th>class</th>\n",
       "      <th>who</th>\n",
       "      <th>adult_male</th>\n",
       "      <th>deck</th>\n",
       "      <th>embark_town</th>\n",
       "      <th>alive</th>\n",
       "      <th>alone</th>\n",
       "      <th>C</th>\n",
       "      <th>Q</th>\n",
       "      <th>S</th>\n",
       "      <th>NaN</th>\n",
       "    </tr>\n",
       "  </thead>\n",
       "  <tbody>\n",
       "    <tr>\n",
       "      <th>0</th>\n",
       "      <td>0</td>\n",
       "      <td>3</td>\n",
       "      <td>male</td>\n",
       "      <td>22,0</td>\n",
       "      <td>1</td>\n",
       "      <td>0</td>\n",
       "      <td>7,25</td>\n",
       "      <td>Third</td>\n",
       "      <td>man</td>\n",
       "      <td>True</td>\n",
       "      <td>NaN</td>\n",
       "      <td>Southampton</td>\n",
       "      <td>no</td>\n",
       "      <td>False</td>\n",
       "      <td>0.0</td>\n",
       "      <td>0.0</td>\n",
       "      <td>1.0</td>\n",
       "      <td>0.0</td>\n",
       "    </tr>\n",
       "    <tr>\n",
       "      <th>1</th>\n",
       "      <td>1</td>\n",
       "      <td>1</td>\n",
       "      <td>female</td>\n",
       "      <td>38,0</td>\n",
       "      <td>1</td>\n",
       "      <td>0</td>\n",
       "      <td>71,2833</td>\n",
       "      <td>First</td>\n",
       "      <td>woman</td>\n",
       "      <td>False</td>\n",
       "      <td>C</td>\n",
       "      <td>Cherbourg</td>\n",
       "      <td>yes</td>\n",
       "      <td>False</td>\n",
       "      <td>1.0</td>\n",
       "      <td>0.0</td>\n",
       "      <td>0.0</td>\n",
       "      <td>0.0</td>\n",
       "    </tr>\n",
       "    <tr>\n",
       "      <th>2</th>\n",
       "      <td>1</td>\n",
       "      <td>3</td>\n",
       "      <td>female</td>\n",
       "      <td>26,0</td>\n",
       "      <td>0</td>\n",
       "      <td>0</td>\n",
       "      <td>7,925</td>\n",
       "      <td>Third</td>\n",
       "      <td>woman</td>\n",
       "      <td>False</td>\n",
       "      <td>NaN</td>\n",
       "      <td>Southampton</td>\n",
       "      <td>yes</td>\n",
       "      <td>True</td>\n",
       "      <td>0.0</td>\n",
       "      <td>0.0</td>\n",
       "      <td>1.0</td>\n",
       "      <td>0.0</td>\n",
       "    </tr>\n",
       "    <tr>\n",
       "      <th>3</th>\n",
       "      <td>1</td>\n",
       "      <td>1</td>\n",
       "      <td>female</td>\n",
       "      <td>35,0</td>\n",
       "      <td>1</td>\n",
       "      <td>0</td>\n",
       "      <td>53,1</td>\n",
       "      <td>First</td>\n",
       "      <td>woman</td>\n",
       "      <td>False</td>\n",
       "      <td>C</td>\n",
       "      <td>Southampton</td>\n",
       "      <td>yes</td>\n",
       "      <td>False</td>\n",
       "      <td>0.0</td>\n",
       "      <td>0.0</td>\n",
       "      <td>1.0</td>\n",
       "      <td>0.0</td>\n",
       "    </tr>\n",
       "    <tr>\n",
       "      <th>4</th>\n",
       "      <td>0</td>\n",
       "      <td>3</td>\n",
       "      <td>male</td>\n",
       "      <td>35,0</td>\n",
       "      <td>0</td>\n",
       "      <td>0</td>\n",
       "      <td>8,05</td>\n",
       "      <td>Third</td>\n",
       "      <td>man</td>\n",
       "      <td>True</td>\n",
       "      <td>NaN</td>\n",
       "      <td>Southampton</td>\n",
       "      <td>no</td>\n",
       "      <td>True</td>\n",
       "      <td>0.0</td>\n",
       "      <td>0.0</td>\n",
       "      <td>1.0</td>\n",
       "      <td>0.0</td>\n",
       "    </tr>\n",
       "  </tbody>\n",
       "</table>\n",
       "</div>"
      ],
      "text/plain": [
       "   survived  pclass     sex   age  sibsp  parch     fare  class    who  \\\n",
       "0         0       3    male  22,0      1      0     7,25  Third    man   \n",
       "1         1       1  female  38,0      1      0  71,2833  First  woman   \n",
       "2         1       3  female  26,0      0      0    7,925  Third  woman   \n",
       "3         1       1  female  35,0      1      0     53,1  First  woman   \n",
       "4         0       3    male  35,0      0      0     8,05  Third    man   \n",
       "\n",
       "   adult_male deck  embark_town alive  alone    C    Q    S  NaN  \n",
       "0        True  NaN  Southampton    no  False  0.0  0.0  1.0  0.0  \n",
       "1       False    C    Cherbourg   yes  False  1.0  0.0  0.0  0.0  \n",
       "2       False  NaN  Southampton   yes   True  0.0  0.0  1.0  0.0  \n",
       "3       False    C  Southampton   yes  False  0.0  0.0  1.0  0.0  \n",
       "4        True  NaN  Southampton    no   True  0.0  0.0  1.0  0.0  "
      ]
     },
     "execution_count": 13,
     "metadata": {},
     "output_type": "execute_result"
    }
   ],
   "source": [
    "datos = pd.concat([\n",
    "    datos.drop(\"embarked\", axis = 1),\n",
    "    pd.DataFrame(datos_embarked, columns = codificador.categories_[0])\n",
    "], axis = 1)\n",
    "datos.head()"
   ]
  },
  {
   "cell_type": "markdown",
   "id": "5898ad1f-8301-4cea-9175-d78d3a1f9f89",
   "metadata": {
    "id": "5898ad1f-8301-4cea-9175-d78d3a1f9f89"
   },
   "source": [
    "## Árboles de decisión para Regresión\n",
    "\n",
    "Tras haber introducido brevemente la necesidad de transformar los atributos categóricos. Vamos a analizar como construir, entrenar y evaluar árboles de decisión para la tarea de regresión. \n",
    "\n",
    "Los árboles de regresión son el subtipo de árboles de predicción que se aplica cuando la variable/atributo objetivo es continuo. En términos generales, en el entrenamiento de un árbol de regresión, las instancias se van distribuyendo por bifurcaciones (nodos) generando la estructura del árbol hasta alcanzar un nodo terminal. Cuando se quiere predecir una nueva instancia, se recorre el árbol acorde al valor de sus predictores hasta alcanzar uno de los nodos terminales. La predicción del árbol es la media de la variable respuesta de las observaciones de entrenamiento que están en ese mismo nodo terminal."
   ]
  },
  {
   "cell_type": "code",
   "execution_count": 14,
   "id": "b31b7f97",
   "metadata": {
    "ExecuteTime": {
     "end_time": "2024-02-10T17:14:07.013715Z",
     "start_time": "2024-02-10T17:14:06.735968Z"
    }
   },
   "outputs": [
    {
     "name": "stdout",
     "output_type": "stream",
     "text": [
      "<class 'pandas.core.frame.DataFrame'>\n",
      "RangeIndex: 506 entries, 0 to 505\n",
      "Data columns (total 13 columns):\n",
      " #   Column   Non-Null Count  Dtype  \n",
      "---  ------   --------------  -----  \n",
      " 0   CRIM     506 non-null    float64\n",
      " 1   ZN       506 non-null    float64\n",
      " 2   INDUS    506 non-null    float64\n",
      " 3   CHAS     506 non-null    int64  \n",
      " 4   NOX      506 non-null    float64\n",
      " 5   RM       506 non-null    float64\n",
      " 6   AGE      506 non-null    float64\n",
      " 7   DIS      506 non-null    float64\n",
      " 8   RAD      506 non-null    int64  \n",
      " 9   TAX      506 non-null    int64  \n",
      " 10  PTRATIO  506 non-null    float64\n",
      " 11  LSTAT    506 non-null    float64\n",
      " 12  MEDV     506 non-null    float64\n",
      "dtypes: float64(10), int64(3)\n",
      "memory usage: 51.5 KB\n"
     ]
    }
   ],
   "source": [
    "from sklearn.model_selection import train_test_split\n",
    "# Funciones propias de lo árboles de decisión.\n",
    "from sklearn.tree import DecisionTreeRegressor\n",
    "from sklearn.tree import plot_tree\n",
    "from sklearn.tree import export_graphviz\n",
    "from sklearn.tree import export_text\n",
    "from sklearn.model_selection import GridSearchCV\n",
    "from sklearn.metrics import root_mean_squared_error\n",
    "\n",
    "url = (\n",
    "    'https://raw.githubusercontent.com/JoaquinAmatRodrigo/Estadistica-machine-learning-python/'\n",
    "    'master/data/Boston.csv'\n",
    ")\n",
    "datos = pd.read_csv(url, sep=',')\n",
    "\n",
    "datos.head(3)\n",
    "# Mostramos el tipo de datos de los atributos por si hubiera que hacer alguna transformación\n",
    "datos.info()"
   ]
  },
  {
   "cell_type": "markdown",
   "id": "802e18de-fdc4-41a8-b24c-630567aa5d09",
   "metadata": {
    "id": "802e18de-fdc4-41a8-b24c-630567aa5d09"
   },
   "source": [
    "Ahora vamos utilizar la clase `DecisionTreeRegressor` del módulo `sklearn.tree` permite entrenar árboles de decisión para tareas de regresión. En el ejemplo que disponemos, utilizamos el atributo `MEDV`, como atributo objetivo y como predictores todas las otras variables disponibles.\n",
    "\n",
    "La clase `DecisionTreeRegressor` tiene los siguientes hiperparámetros. Estos hiperparámetros habría que ajustarlos en función del problema a tratar.\n",
    "\n",
    "- **criterion**: La función para medir la calidad de una separación. Los criterios soportados son **mse** para el error cuadrático medio, que es igual a la reducción de la varianza como criterio de selección de características y minimiza la pérdida L2 utilizando la media de cada nodo terminal; **friedman_mse**, que utiliza el error cuadrático medio con la puntuación de mejora de Friedman para las posibles separaciones; **mae** para el error absoluto medio, que minimiza la pérdida L1 utilizando la mediana de cada nodo terminal, y **poisson** que utiliza la reducción de la desviación de Poisson para encontrar separaciones.\n",
    "- **splitter**: Indica la estrategia utilizada para elegir la separación en cada nodo. Las estrategias soportadas son **best** para elegir la mejor separación y **random** para elegir la mejor separación de forma aleatoria.\n",
    "- **max_depth**:  Profundidad máxima que puede alcanzar el árbol.\n",
    "- **min_samples_split**: Número mínimo de instancias que debe de tener un nodo para que pueda dividirse\n",
    "- **min_samples_leaf**: Número mínimo de instancias que debe de tener cada uno de los nodos hijos para considerarse nodo hoja\n",
    "- **min_weight_fraction_leaf**: La fracción ponderada mínima de la suma total de pesos (de todas las muestras de entrada) requerida para estar en un nodo hoja. Las muestras tienen el mismo peso cuando no se proporciona sample_weight.\n",
    "- **max_features**: El número de características a considerar cuando se busca la mejor separación:\n",
    "   - Si es **int**, entonces se consideran las características max_features en cada separación.\n",
    "   - Si es **float**, entonces max_features es una fracción y las características int(max_features * n_features) se consideran en cada separación.\n",
    "   - Si es **auto**, entonces `max_features=n_features`.\n",
    "   - Si es **sqrt**, entonces `max_features=sqrt(n_features)`.\n",
    "   - Si es **log2**, entonces `max_features=log2(n_features)`.\n",
    "   - Si es **None**, entonces `max_features=n_features`.\n",
    "- **random_state**: Semilla para que los resultados sean reproducibles. Tiene que ser un valor entero.\n",
    "- **max_leaf_nodes**: Número máximo de nodos hojas.\n",
    "- **min_impurity_decrease**: Un nodo se dividirá si esta separación induce una disminución de la impureza mayor o igual a este valor.\n",
    "- **min_impurity_split**: Umbral para la detención temprana en el crecimiento del árbol. Un nodo se separará si su impureza está por encima del umbral, de lo contrario será una hoja.\n",
    "- **ccp_alpha**: Parámetro de complejidad utilizado para la Poda de Mínima Complejidad de Costes. Se elegirá el subárbol con la mayor complejidad de costes que sea menor que **ccp_alpha**. Por defecto, no se realiza ninguna poda.\n",
    "\n",
    "Por defecto los valores de estos hiperparámetros son:\n",
    "- `criterion='mse'`\n",
    "- `splitter='best'`\n",
    "- `max_depth=None`\n",
    "- `min_samples_split=2`\n",
    "- `min_samples_leaf=1`\n",
    "- `min_weight_fraction_leaf=0.0`\n",
    "- `max_features=None`\n",
    "- `random_state=None`\n",
    "- `max_leaf_nodes=None`\n",
    "- `min_impurity_decrease=0.0`\n",
    "- `min_impurity_split=None`\n",
    "- `ccp_alpha=0.0`"
   ]
  },
  {
   "cell_type": "markdown",
   "id": "c2cceb46e4289be8",
   "metadata": {
    "collapsed": false
   },
   "source": [
    "Para construir el árbol es necesario separar en datos de entrenamiento y de test. Los datos de entrenamiento serán los que creen y ajusten el árbol. Los datos de test son los que sirven para evaluar el modelo. La función `train_test_split()`, nos divide el conjunto de datos. Como no se explicita el valor de train y de test, por defecto el test será un 25% de los datos originales."
   ]
  },
  {
   "cell_type": "code",
   "execution_count": 15,
   "id": "954fa45051684d4b",
   "metadata": {
    "ExecuteTime": {
     "end_time": "2024-02-10T17:14:07.016275Z",
     "start_time": "2024-02-10T17:14:06.991166Z"
    },
    "collapsed": false
   },
   "outputs": [],
   "source": [
    "X_train, X_test, y_train, y_test = train_test_split(\n",
    "                                        datos.drop(columns = \"MEDV\"),\n",
    "                                        datos['MEDV'],\n",
    "                                        random_state = semilla\n",
    "                                    )"
   ]
  },
  {
   "cell_type": "markdown",
   "id": "80ff8a63d8a0a7c2",
   "metadata": {
    "collapsed": false
   },
   "source": [
    "Ahora creamos el modelo y modificamos los hiperparámetros que creamos necesarios. El resto de hiperparámetros se quedarán por defecto. Una vez creado el modelo lo entrenamos a con el método `fit()`. Recordad que para entrenar el modelo sólo se utilizan los datos de train."
   ]
  },
  {
   "cell_type": "code",
   "execution_count": 16,
   "id": "5b743d50",
   "metadata": {
    "ExecuteTime": {
     "end_time": "2024-02-10T17:14:07.034183Z",
     "start_time": "2024-02-10T17:14:06.997738Z"
    }
   },
   "outputs": [
    {
     "data": {
      "text/html": [
       "<style>#sk-container-id-1 {\n",
       "  /* Definition of color scheme common for light and dark mode */\n",
       "  --sklearn-color-text: black;\n",
       "  --sklearn-color-line: gray;\n",
       "  /* Definition of color scheme for unfitted estimators */\n",
       "  --sklearn-color-unfitted-level-0: #fff5e6;\n",
       "  --sklearn-color-unfitted-level-1: #f6e4d2;\n",
       "  --sklearn-color-unfitted-level-2: #ffe0b3;\n",
       "  --sklearn-color-unfitted-level-3: chocolate;\n",
       "  /* Definition of color scheme for fitted estimators */\n",
       "  --sklearn-color-fitted-level-0: #f0f8ff;\n",
       "  --sklearn-color-fitted-level-1: #d4ebff;\n",
       "  --sklearn-color-fitted-level-2: #b3dbfd;\n",
       "  --sklearn-color-fitted-level-3: cornflowerblue;\n",
       "\n",
       "  /* Specific color for light theme */\n",
       "  --sklearn-color-text-on-default-background: var(--sg-text-color, var(--theme-code-foreground, var(--jp-content-font-color1, black)));\n",
       "  --sklearn-color-background: var(--sg-background-color, var(--theme-background, var(--jp-layout-color0, white)));\n",
       "  --sklearn-color-border-box: var(--sg-text-color, var(--theme-code-foreground, var(--jp-content-font-color1, black)));\n",
       "  --sklearn-color-icon: #696969;\n",
       "\n",
       "  @media (prefers-color-scheme: dark) {\n",
       "    /* Redefinition of color scheme for dark theme */\n",
       "    --sklearn-color-text-on-default-background: var(--sg-text-color, var(--theme-code-foreground, var(--jp-content-font-color1, white)));\n",
       "    --sklearn-color-background: var(--sg-background-color, var(--theme-background, var(--jp-layout-color0, #111)));\n",
       "    --sklearn-color-border-box: var(--sg-text-color, var(--theme-code-foreground, var(--jp-content-font-color1, white)));\n",
       "    --sklearn-color-icon: #878787;\n",
       "  }\n",
       "}\n",
       "\n",
       "#sk-container-id-1 {\n",
       "  color: var(--sklearn-color-text);\n",
       "}\n",
       "\n",
       "#sk-container-id-1 pre {\n",
       "  padding: 0;\n",
       "}\n",
       "\n",
       "#sk-container-id-1 input.sk-hidden--visually {\n",
       "  border: 0;\n",
       "  clip: rect(1px 1px 1px 1px);\n",
       "  clip: rect(1px, 1px, 1px, 1px);\n",
       "  height: 1px;\n",
       "  margin: -1px;\n",
       "  overflow: hidden;\n",
       "  padding: 0;\n",
       "  position: absolute;\n",
       "  width: 1px;\n",
       "}\n",
       "\n",
       "#sk-container-id-1 div.sk-dashed-wrapped {\n",
       "  border: 1px dashed var(--sklearn-color-line);\n",
       "  margin: 0 0.4em 0.5em 0.4em;\n",
       "  box-sizing: border-box;\n",
       "  padding-bottom: 0.4em;\n",
       "  background-color: var(--sklearn-color-background);\n",
       "}\n",
       "\n",
       "#sk-container-id-1 div.sk-container {\n",
       "  /* jupyter's `normalize.less` sets `[hidden] { display: none; }`\n",
       "     but bootstrap.min.css set `[hidden] { display: none !important; }`\n",
       "     so we also need the `!important` here to be able to override the\n",
       "     default hidden behavior on the sphinx rendered scikit-learn.org.\n",
       "     See: https://github.com/scikit-learn/scikit-learn/issues/21755 */\n",
       "  display: inline-block !important;\n",
       "  position: relative;\n",
       "}\n",
       "\n",
       "#sk-container-id-1 div.sk-text-repr-fallback {\n",
       "  display: none;\n",
       "}\n",
       "\n",
       "div.sk-parallel-item,\n",
       "div.sk-serial,\n",
       "div.sk-item {\n",
       "  /* draw centered vertical line to link estimators */\n",
       "  background-image: linear-gradient(var(--sklearn-color-text-on-default-background), var(--sklearn-color-text-on-default-background));\n",
       "  background-size: 2px 100%;\n",
       "  background-repeat: no-repeat;\n",
       "  background-position: center center;\n",
       "}\n",
       "\n",
       "/* Parallel-specific style estimator block */\n",
       "\n",
       "#sk-container-id-1 div.sk-parallel-item::after {\n",
       "  content: \"\";\n",
       "  width: 100%;\n",
       "  border-bottom: 2px solid var(--sklearn-color-text-on-default-background);\n",
       "  flex-grow: 1;\n",
       "}\n",
       "\n",
       "#sk-container-id-1 div.sk-parallel {\n",
       "  display: flex;\n",
       "  align-items: stretch;\n",
       "  justify-content: center;\n",
       "  background-color: var(--sklearn-color-background);\n",
       "  position: relative;\n",
       "}\n",
       "\n",
       "#sk-container-id-1 div.sk-parallel-item {\n",
       "  display: flex;\n",
       "  flex-direction: column;\n",
       "}\n",
       "\n",
       "#sk-container-id-1 div.sk-parallel-item:first-child::after {\n",
       "  align-self: flex-end;\n",
       "  width: 50%;\n",
       "}\n",
       "\n",
       "#sk-container-id-1 div.sk-parallel-item:last-child::after {\n",
       "  align-self: flex-start;\n",
       "  width: 50%;\n",
       "}\n",
       "\n",
       "#sk-container-id-1 div.sk-parallel-item:only-child::after {\n",
       "  width: 0;\n",
       "}\n",
       "\n",
       "/* Serial-specific style estimator block */\n",
       "\n",
       "#sk-container-id-1 div.sk-serial {\n",
       "  display: flex;\n",
       "  flex-direction: column;\n",
       "  align-items: center;\n",
       "  background-color: var(--sklearn-color-background);\n",
       "  padding-right: 1em;\n",
       "  padding-left: 1em;\n",
       "}\n",
       "\n",
       "\n",
       "/* Toggleable style: style used for estimator/Pipeline/ColumnTransformer box that is\n",
       "clickable and can be expanded/collapsed.\n",
       "- Pipeline and ColumnTransformer use this feature and define the default style\n",
       "- Estimators will overwrite some part of the style using the `sk-estimator` class\n",
       "*/\n",
       "\n",
       "/* Pipeline and ColumnTransformer style (default) */\n",
       "\n",
       "#sk-container-id-1 div.sk-toggleable {\n",
       "  /* Default theme specific background. It is overwritten whether we have a\n",
       "  specific estimator or a Pipeline/ColumnTransformer */\n",
       "  background-color: var(--sklearn-color-background);\n",
       "}\n",
       "\n",
       "/* Toggleable label */\n",
       "#sk-container-id-1 label.sk-toggleable__label {\n",
       "  cursor: pointer;\n",
       "  display: block;\n",
       "  width: 100%;\n",
       "  margin-bottom: 0;\n",
       "  padding: 0.5em;\n",
       "  box-sizing: border-box;\n",
       "  text-align: center;\n",
       "}\n",
       "\n",
       "#sk-container-id-1 label.sk-toggleable__label-arrow:before {\n",
       "  /* Arrow on the left of the label */\n",
       "  content: \"▸\";\n",
       "  float: left;\n",
       "  margin-right: 0.25em;\n",
       "  color: var(--sklearn-color-icon);\n",
       "}\n",
       "\n",
       "#sk-container-id-1 label.sk-toggleable__label-arrow:hover:before {\n",
       "  color: var(--sklearn-color-text);\n",
       "}\n",
       "\n",
       "/* Toggleable content - dropdown */\n",
       "\n",
       "#sk-container-id-1 div.sk-toggleable__content {\n",
       "  max-height: 0;\n",
       "  max-width: 0;\n",
       "  overflow: hidden;\n",
       "  text-align: left;\n",
       "  /* unfitted */\n",
       "  background-color: var(--sklearn-color-unfitted-level-0);\n",
       "}\n",
       "\n",
       "#sk-container-id-1 div.sk-toggleable__content.fitted {\n",
       "  /* fitted */\n",
       "  background-color: var(--sklearn-color-fitted-level-0);\n",
       "}\n",
       "\n",
       "#sk-container-id-1 div.sk-toggleable__content pre {\n",
       "  margin: 0.2em;\n",
       "  border-radius: 0.25em;\n",
       "  color: var(--sklearn-color-text);\n",
       "  /* unfitted */\n",
       "  background-color: var(--sklearn-color-unfitted-level-0);\n",
       "}\n",
       "\n",
       "#sk-container-id-1 div.sk-toggleable__content.fitted pre {\n",
       "  /* unfitted */\n",
       "  background-color: var(--sklearn-color-fitted-level-0);\n",
       "}\n",
       "\n",
       "#sk-container-id-1 input.sk-toggleable__control:checked~div.sk-toggleable__content {\n",
       "  /* Expand drop-down */\n",
       "  max-height: 200px;\n",
       "  max-width: 100%;\n",
       "  overflow: auto;\n",
       "}\n",
       "\n",
       "#sk-container-id-1 input.sk-toggleable__control:checked~label.sk-toggleable__label-arrow:before {\n",
       "  content: \"▾\";\n",
       "}\n",
       "\n",
       "/* Pipeline/ColumnTransformer-specific style */\n",
       "\n",
       "#sk-container-id-1 div.sk-label input.sk-toggleable__control:checked~label.sk-toggleable__label {\n",
       "  color: var(--sklearn-color-text);\n",
       "  background-color: var(--sklearn-color-unfitted-level-2);\n",
       "}\n",
       "\n",
       "#sk-container-id-1 div.sk-label.fitted input.sk-toggleable__control:checked~label.sk-toggleable__label {\n",
       "  background-color: var(--sklearn-color-fitted-level-2);\n",
       "}\n",
       "\n",
       "/* Estimator-specific style */\n",
       "\n",
       "/* Colorize estimator box */\n",
       "#sk-container-id-1 div.sk-estimator input.sk-toggleable__control:checked~label.sk-toggleable__label {\n",
       "  /* unfitted */\n",
       "  background-color: var(--sklearn-color-unfitted-level-2);\n",
       "}\n",
       "\n",
       "#sk-container-id-1 div.sk-estimator.fitted input.sk-toggleable__control:checked~label.sk-toggleable__label {\n",
       "  /* fitted */\n",
       "  background-color: var(--sklearn-color-fitted-level-2);\n",
       "}\n",
       "\n",
       "#sk-container-id-1 div.sk-label label.sk-toggleable__label,\n",
       "#sk-container-id-1 div.sk-label label {\n",
       "  /* The background is the default theme color */\n",
       "  color: var(--sklearn-color-text-on-default-background);\n",
       "}\n",
       "\n",
       "/* On hover, darken the color of the background */\n",
       "#sk-container-id-1 div.sk-label:hover label.sk-toggleable__label {\n",
       "  color: var(--sklearn-color-text);\n",
       "  background-color: var(--sklearn-color-unfitted-level-2);\n",
       "}\n",
       "\n",
       "/* Label box, darken color on hover, fitted */\n",
       "#sk-container-id-1 div.sk-label.fitted:hover label.sk-toggleable__label.fitted {\n",
       "  color: var(--sklearn-color-text);\n",
       "  background-color: var(--sklearn-color-fitted-level-2);\n",
       "}\n",
       "\n",
       "/* Estimator label */\n",
       "\n",
       "#sk-container-id-1 div.sk-label label {\n",
       "  font-family: monospace;\n",
       "  font-weight: bold;\n",
       "  display: inline-block;\n",
       "  line-height: 1.2em;\n",
       "}\n",
       "\n",
       "#sk-container-id-1 div.sk-label-container {\n",
       "  text-align: center;\n",
       "}\n",
       "\n",
       "/* Estimator-specific */\n",
       "#sk-container-id-1 div.sk-estimator {\n",
       "  font-family: monospace;\n",
       "  border: 1px dotted var(--sklearn-color-border-box);\n",
       "  border-radius: 0.25em;\n",
       "  box-sizing: border-box;\n",
       "  margin-bottom: 0.5em;\n",
       "  /* unfitted */\n",
       "  background-color: var(--sklearn-color-unfitted-level-0);\n",
       "}\n",
       "\n",
       "#sk-container-id-1 div.sk-estimator.fitted {\n",
       "  /* fitted */\n",
       "  background-color: var(--sklearn-color-fitted-level-0);\n",
       "}\n",
       "\n",
       "/* on hover */\n",
       "#sk-container-id-1 div.sk-estimator:hover {\n",
       "  /* unfitted */\n",
       "  background-color: var(--sklearn-color-unfitted-level-2);\n",
       "}\n",
       "\n",
       "#sk-container-id-1 div.sk-estimator.fitted:hover {\n",
       "  /* fitted */\n",
       "  background-color: var(--sklearn-color-fitted-level-2);\n",
       "}\n",
       "\n",
       "/* Specification for estimator info (e.g. \"i\" and \"?\") */\n",
       "\n",
       "/* Common style for \"i\" and \"?\" */\n",
       "\n",
       ".sk-estimator-doc-link,\n",
       "a:link.sk-estimator-doc-link,\n",
       "a:visited.sk-estimator-doc-link {\n",
       "  float: right;\n",
       "  font-size: smaller;\n",
       "  line-height: 1em;\n",
       "  font-family: monospace;\n",
       "  background-color: var(--sklearn-color-background);\n",
       "  border-radius: 1em;\n",
       "  height: 1em;\n",
       "  width: 1em;\n",
       "  text-decoration: none !important;\n",
       "  margin-left: 1ex;\n",
       "  /* unfitted */\n",
       "  border: var(--sklearn-color-unfitted-level-1) 1pt solid;\n",
       "  color: var(--sklearn-color-unfitted-level-1);\n",
       "}\n",
       "\n",
       ".sk-estimator-doc-link.fitted,\n",
       "a:link.sk-estimator-doc-link.fitted,\n",
       "a:visited.sk-estimator-doc-link.fitted {\n",
       "  /* fitted */\n",
       "  border: var(--sklearn-color-fitted-level-1) 1pt solid;\n",
       "  color: var(--sklearn-color-fitted-level-1);\n",
       "}\n",
       "\n",
       "/* On hover */\n",
       "div.sk-estimator:hover .sk-estimator-doc-link:hover,\n",
       ".sk-estimator-doc-link:hover,\n",
       "div.sk-label-container:hover .sk-estimator-doc-link:hover,\n",
       ".sk-estimator-doc-link:hover {\n",
       "  /* unfitted */\n",
       "  background-color: var(--sklearn-color-unfitted-level-3);\n",
       "  color: var(--sklearn-color-background);\n",
       "  text-decoration: none;\n",
       "}\n",
       "\n",
       "div.sk-estimator.fitted:hover .sk-estimator-doc-link.fitted:hover,\n",
       ".sk-estimator-doc-link.fitted:hover,\n",
       "div.sk-label-container:hover .sk-estimator-doc-link.fitted:hover,\n",
       ".sk-estimator-doc-link.fitted:hover {\n",
       "  /* fitted */\n",
       "  background-color: var(--sklearn-color-fitted-level-3);\n",
       "  color: var(--sklearn-color-background);\n",
       "  text-decoration: none;\n",
       "}\n",
       "\n",
       "/* Span, style for the box shown on hovering the info icon */\n",
       ".sk-estimator-doc-link span {\n",
       "  display: none;\n",
       "  z-index: 9999;\n",
       "  position: relative;\n",
       "  font-weight: normal;\n",
       "  right: .2ex;\n",
       "  padding: .5ex;\n",
       "  margin: .5ex;\n",
       "  width: min-content;\n",
       "  min-width: 20ex;\n",
       "  max-width: 50ex;\n",
       "  color: var(--sklearn-color-text);\n",
       "  box-shadow: 2pt 2pt 4pt #999;\n",
       "  /* unfitted */\n",
       "  background: var(--sklearn-color-unfitted-level-0);\n",
       "  border: .5pt solid var(--sklearn-color-unfitted-level-3);\n",
       "}\n",
       "\n",
       ".sk-estimator-doc-link.fitted span {\n",
       "  /* fitted */\n",
       "  background: var(--sklearn-color-fitted-level-0);\n",
       "  border: var(--sklearn-color-fitted-level-3);\n",
       "}\n",
       "\n",
       ".sk-estimator-doc-link:hover span {\n",
       "  display: block;\n",
       "}\n",
       "\n",
       "/* \"?\"-specific style due to the `<a>` HTML tag */\n",
       "\n",
       "#sk-container-id-1 a.estimator_doc_link {\n",
       "  float: right;\n",
       "  font-size: 1rem;\n",
       "  line-height: 1em;\n",
       "  font-family: monospace;\n",
       "  background-color: var(--sklearn-color-background);\n",
       "  border-radius: 1rem;\n",
       "  height: 1rem;\n",
       "  width: 1rem;\n",
       "  text-decoration: none;\n",
       "  /* unfitted */\n",
       "  color: var(--sklearn-color-unfitted-level-1);\n",
       "  border: var(--sklearn-color-unfitted-level-1) 1pt solid;\n",
       "}\n",
       "\n",
       "#sk-container-id-1 a.estimator_doc_link.fitted {\n",
       "  /* fitted */\n",
       "  border: var(--sklearn-color-fitted-level-1) 1pt solid;\n",
       "  color: var(--sklearn-color-fitted-level-1);\n",
       "}\n",
       "\n",
       "/* On hover */\n",
       "#sk-container-id-1 a.estimator_doc_link:hover {\n",
       "  /* unfitted */\n",
       "  background-color: var(--sklearn-color-unfitted-level-3);\n",
       "  color: var(--sklearn-color-background);\n",
       "  text-decoration: none;\n",
       "}\n",
       "\n",
       "#sk-container-id-1 a.estimator_doc_link.fitted:hover {\n",
       "  /* fitted */\n",
       "  background-color: var(--sklearn-color-fitted-level-3);\n",
       "}\n",
       "</style><div id=\"sk-container-id-1\" class=\"sk-top-container\"><div class=\"sk-text-repr-fallback\"><pre>DecisionTreeRegressor(max_depth=3, random_state=123)</pre><b>In a Jupyter environment, please rerun this cell to show the HTML representation or trust the notebook. <br />On GitHub, the HTML representation is unable to render, please try loading this page with nbviewer.org.</b></div><div class=\"sk-container\" hidden><div class=\"sk-item\"><div class=\"sk-estimator fitted sk-toggleable\"><input class=\"sk-toggleable__control sk-hidden--visually\" id=\"sk-estimator-id-1\" type=\"checkbox\" checked><label for=\"sk-estimator-id-1\" class=\"sk-toggleable__label fitted sk-toggleable__label-arrow fitted\">&nbsp;&nbsp;DecisionTreeRegressor<a class=\"sk-estimator-doc-link fitted\" rel=\"noreferrer\" target=\"_blank\" href=\"https://scikit-learn.org/1.5/modules/generated/sklearn.tree.DecisionTreeRegressor.html\">?<span>Documentation for DecisionTreeRegressor</span></a><span class=\"sk-estimator-doc-link fitted\">i<span>Fitted</span></span></label><div class=\"sk-toggleable__content fitted\"><pre>DecisionTreeRegressor(max_depth=3, random_state=123)</pre></div> </div></div></div></div>"
      ],
      "text/plain": [
       "DecisionTreeRegressor(max_depth=3, random_state=123)"
      ]
     },
     "execution_count": 16,
     "metadata": {},
     "output_type": "execute_result"
    }
   ],
   "source": [
    "modelo = DecisionTreeRegressor(\n",
    "            max_depth         = 3,\n",
    "            random_state      = semilla,\n",
    "          )\n",
    "\n",
    "modelo.fit(X_train, y_train)"
   ]
  },
  {
   "cell_type": "markdown",
   "id": "3ab03488",
   "metadata": {},
   "source": [
    "Una vez creado y entrenado el árbol, podemos visualizarlo, tanto en modo gráfico como en modo texto."
   ]
  },
  {
   "cell_type": "code",
   "execution_count": 17,
   "id": "47b204614f30d831",
   "metadata": {
    "ExecuteTime": {
     "end_time": "2024-02-10T17:14:07.667738Z",
     "start_time": "2024-02-10T17:14:07.011674Z"
    },
    "collapsed": false
   },
   "outputs": [
    {
     "name": "stdout",
     "output_type": "stream",
     "text": [
      "Profundidad del árbol: 3\n",
      "Número de nodos terminales: 8\n"
     ]
    },
    {
     "data": {
      "image/png": "[encoded data removed]",
      "text/plain": [
       "<Figure size 1200x500 with 1 Axes>"
      ]
     },
     "metadata": {},
     "output_type": "display_data"
    }
   ],
   "source": [
    "fig, ax = plt.subplots(figsize=(12, 5))\n",
    "\n",
    "print(f\"Profundidad del árbol: {modelo.get_depth()}\")\n",
    "print(f\"Número de nodos terminales: {modelo.get_n_leaves()}\")\n",
    "\n",
    "plot = plot_tree(\n",
    "            decision_tree = modelo,\n",
    "            feature_names = datos.drop(columns = \"MEDV\").columns,\n",
    "            class_names   = None,\n",
    "            filled        = True,\n",
    "            impurity      = False,\n",
    "            fontsize      = 10,\n",
    "            precision     = 2,\n",
    "            ax            = ax\n",
    "       )"
   ]
  },
  {
   "cell_type": "code",
   "execution_count": 18,
   "id": "399495a9",
   "metadata": {
    "ExecuteTime": {
     "end_time": "2024-02-10T17:14:07.670673Z",
     "start_time": "2024-02-10T17:14:07.644079Z"
    }
   },
   "outputs": [
    {
     "name": "stdout",
     "output_type": "stream",
     "text": [
      "|--- RM <= 6.98\n",
      "|   |--- LSTAT <= 14.39\n",
      "|   |   |--- DIS <= 1.42\n",
      "|   |   |   |--- value: [50.00]\n",
      "|   |   |--- DIS >  1.42\n",
      "|   |   |   |--- value: [23.13]\n",
      "|   |--- LSTAT >  14.39\n",
      "|   |   |--- CRIM <= 6.99\n",
      "|   |   |   |--- value: [16.96]\n",
      "|   |   |--- CRIM >  6.99\n",
      "|   |   |   |--- value: [11.58]\n",
      "|--- RM >  6.98\n",
      "|   |--- RM <= 7.44\n",
      "|   |   |--- DIS <= 1.57\n",
      "|   |   |   |--- value: [50.00]\n",
      "|   |   |--- DIS >  1.57\n",
      "|   |   |   |--- value: [32.17]\n",
      "|   |--- RM >  7.44\n",
      "|   |   |--- PTRATIO <= 17.90\n",
      "|   |   |   |--- value: [47.36]\n",
      "|   |   |--- PTRATIO >  17.90\n",
      "|   |   |   |--- value: [40.12]\n",
      "\n"
     ]
    }
   ],
   "source": [
    "texto_modelo = export_text(\n",
    "                    decision_tree = modelo,\n",
    "                    feature_names = list(datos.drop(columns = \"MEDV\").columns)\n",
    "               )\n",
    "print(texto_modelo)"
   ]
  },
  {
   "cell_type": "markdown",
   "id": "d71b7a26",
   "metadata": {},
   "source": [
    "Una vez creado el árbol, una de las opciones que tenemos es realizar la poda. La poda nos permite reducir la varianza del modelo y así mejorar la capacidad predictiva, se somete al árbol a un proceso de *pruning*. El proceso de poda intenta encontrar el árbol más sencillo (menor tamaño) que consigue los mejores resultados de predicción.\n",
    "\n",
    "Para aplicar el proceso de pruning es necesario indicar el parámetro **ccp_alpha**, que determina el grado de penalización por complejidad. Cuanto mayor es este valor, más agresivo el podado y menor el tamaño del árbol resultante. Dado que no hay forma de conocer de antemano el valor óptimo de **ccp_alpha**, se recurre a validación cruzada para identificarlo. Vamos a configurar un grid para obtener el mejor valor, y buscar el valor último en validación cruzada utilizando la función `GridSearchCV()`. Fíjate que la máxima profundiad está fijada a *None*, por lo que los árboles se expandirán hasta que las hojas sean puras o tengan menos muestras que el valor fijado en *min_samples_split*. "
   ]
  },
  {
   "cell_type": "code",
   "execution_count": 19,
   "id": "12f65f4e",
   "metadata": {
    "ExecuteTime": {
     "end_time": "2024-02-10T17:14:11.663339Z",
     "start_time": "2024-02-10T17:14:07.656941Z"
    }
   },
   "outputs": [
    {
     "data": {
      "image/png": "[encoded data removed]",
      "text/plain": [
       "<Figure size 800x400 with 1 Axes>"
      ]
     },
     "metadata": {},
     "output_type": "display_data"
    }
   ],
   "source": [
    "from matplotlib.ticker import FormatStrFormatter\n",
    "param_grid = {'ccp_alpha':np.linspace(0, 20)}\n",
    "\n",
    "\n",
    "grid = GridSearchCV(\n",
    "        # Configuramos el árbol para que se cree a máxima profundidad para buscar el mejor valor de poda\n",
    "        estimator = DecisionTreeRegressor(\n",
    "                            max_depth         = None,\n",
    "                            min_samples_split = 2,\n",
    "                            min_samples_leaf  = 1,\n",
    "                            random_state      = semilla\n",
    "                       ),\n",
    "        param_grid = param_grid,\n",
    "        cv         = 10,\n",
    "        refit      = True,\n",
    "        return_train_score = True\n",
    "      )\n",
    "# Entrenamos el grid para buscar el mejor valor.\n",
    "grid.fit(X_train, y_train)\n",
    "# Mostramos gráficamente todos los valores obtenidos para analizar el mejor valor de poda\n",
    "fig, ax = plt.subplots(figsize=(8, 4))\n",
    "scores = pd.DataFrame(grid.cv_results_)\n",
    "scores.plot(x='param_ccp_alpha', y='mean_train_score', yerr='std_train_score', ax=ax)\n",
    "scores.plot(x='param_ccp_alpha', y='mean_test_score', yerr='std_test_score', ax=ax)\n",
    "ax.xaxis.set_major_formatter(FormatStrFormatter('%.2f'))\n",
    "ax.set_title(\"Error de validación cruzada vs hiperparámetro ccp_alpha\");"
   ]
  },
  {
   "cell_type": "markdown",
   "id": "7975a1de0c0deec0",
   "metadata": {
    "collapsed": false
   },
   "source": [
    "En el atributo `grid.best_params_` se nos indica el valor de **ccp_alpha** que produce el árbol más eficiente podemos usar"
   ]
  },
  {
   "cell_type": "code",
   "execution_count": 20,
   "id": "dd517b5b",
   "metadata": {
    "ExecuteTime": {
     "end_time": "2024-02-10T17:14:11.670411Z",
     "start_time": "2024-02-10T17:14:11.660800Z"
    }
   },
   "outputs": [
    {
     "name": "stdout",
     "output_type": "stream",
     "text": [
      "El valor de ccp_alpha que genera el árbol más eficiente es {'ccp_alpha': np.float64(1.2244897959183674)}\n"
     ]
    }
   ],
   "source": [
    "print(f\"El valor de ccp_alpha que genera el árbol más eficiente es {grid.best_params_}\")"
   ]
  },
  {
   "cell_type": "markdown",
   "id": "a5934ddce447414c",
   "metadata": {
    "collapsed": false
   },
   "source": [
    "También podemos ver otros parámetros como la profundidad y el número de hojas resultante a través de las correspondientes funciones. "
   ]
  },
  {
   "cell_type": "code",
   "execution_count": 21,
   "id": "d32d3613b7975397",
   "metadata": {
    "ExecuteTime": {
     "end_time": "2024-02-10T17:14:11.681869Z",
     "start_time": "2024-02-10T17:14:11.666391Z"
    },
    "collapsed": false
   },
   "outputs": [
    {
     "name": "stdout",
     "output_type": "stream",
     "text": [
      "Profundidad del árbol: 4\n",
      "Número de nodos terminales: 7\n"
     ]
    }
   ],
   "source": [
    "modelo_final = grid.best_estimator_\n",
    "print(f\"Profundidad del árbol: {modelo_final.get_depth()}\")\n",
    "print(f\"Número de nodos terminales: {modelo_final.get_n_leaves()}\")"
   ]
  },
  {
   "cell_type": "markdown",
   "id": "1baec38e293b827",
   "metadata": {
    "collapsed": false
   },
   "source": [
    "Una vez encontrado el mejor modelo, mostramos de nuevo el árbol resultante tras la poda. "
   ]
  },
  {
   "cell_type": "code",
   "execution_count": 22,
   "id": "7170bab6",
   "metadata": {
    "ExecuteTime": {
     "end_time": "2024-02-10T17:14:12.177012Z",
     "start_time": "2024-02-10T17:14:11.670816Z"
    }
   },
   "outputs": [
    {
     "data": {
      "image/png": "[encoded data removed]",
      "text/plain": [
       "<Figure size 700x500 with 1 Axes>"
      ]
     },
     "metadata": {},
     "output_type": "display_data"
    }
   ],
   "source": [
    "fig, ax = plt.subplots(figsize=(7, 5))\n",
    "plot = plot_tree(\n",
    "            decision_tree = modelo_final,\n",
    "            feature_names = datos.drop(columns = \"MEDV\").columns,\n",
    "            filled        = True,\n",
    "            impurity      = False,\n",
    "            ax            = ax\n",
    "       )"
   ]
  },
  {
   "cell_type": "markdown",
   "id": "f17721de",
   "metadata": {},
   "source": [
    "Una vez que hemos entrenado el árbol podado pasamos a realizar la evaluación. Para comprobar la efectividad de la poda, vamos a evaluar el modelo con y sin poda."
   ]
  },
  {
   "cell_type": "code",
   "execution_count": 23,
   "id": "1a70d98f85471a0e",
   "metadata": {
    "ExecuteTime": {
     "end_time": "2024-02-10T17:14:12.190830Z",
     "start_time": "2024-02-10T17:14:12.176732Z"
    },
    "collapsed": false
   },
   "outputs": [
    {
     "name": "stdout",
     "output_type": "stream",
     "text": [
      "El error (rmse) de test  con el modelo sin podar es: 6.36\n"
     ]
    }
   ],
   "source": [
    "predicciones = modelo.predict(X = X_test)\n",
    "\n",
    "rmse_sin_poda = root_mean_squared_error(\n",
    "        y_true  = y_test,\n",
    "        y_pred  = predicciones\n",
    "       )\n",
    "print(f\"El error (rmse) de test  con el modelo sin podar es: {rmse_sin_poda:.2f}\")"
   ]
  },
  {
   "cell_type": "code",
   "execution_count": 24,
   "id": "a6380559",
   "metadata": {
    "ExecuteTime": {
     "end_time": "2024-02-10T17:14:12.193378Z",
     "start_time": "2024-02-10T17:14:12.185739Z"
    }
   },
   "outputs": [
    {
     "name": "stdout",
     "output_type": "stream",
     "text": [
      "El error (rmse) de test con el modelo podado es: 5.52\n",
      "El modelo podado reduce el rsme en: 0.84\n"
     ]
    }
   ],
   "source": [
    "predicciones = modelo_final.predict(X = X_test)\n",
    "\n",
    "rmse_con_poda = root_mean_squared_error(\n",
    "        y_true  = y_test,\n",
    "        y_pred  = predicciones\n",
    "       )\n",
    "print(f\"El error (rmse) de test con el modelo podado es: {rmse_con_poda:.2f}\")\n",
    "print(f\"El modelo podado reduce el rsme en: {rmse_sin_poda-rmse_con_poda:.2f}\")"
   ]
  },
  {
   "cell_type": "markdown",
   "id": "49a09cc8",
   "metadata": {},
   "source": [
    "El proceso de poda consigue reducir el error rmse del modelo de 6.36 a 5.52. "
   ]
  },
  {
   "cell_type": "markdown",
   "id": "43435524",
   "metadata": {},
   "source": [
    "## Árboles de decisión para Clasificación\n",
    "\n",
    "Los árboles de clasificación son el subtipo de árboles de predicción que se aplica cuando la variable respuesta es categórica. Veamos un ejemplo de los comandos para construir un modelo de clasificación utilizando árboles de decisión, así como sus hiperparámetros. Primero cargamos las librerías necesarias"
   ]
  },
  {
   "cell_type": "code",
   "execution_count": 25,
   "id": "d7d813298c40a4cc",
   "metadata": {
    "ExecuteTime": {
     "end_time": "2024-02-10T17:14:12.352072Z",
     "start_time": "2024-02-10T17:14:12.191009Z"
    },
    "collapsed": false
   },
   "outputs": [],
   "source": [
    "# Librerías para cargar y manipular los datos\n",
    "# ------------------------------------------------------------------------------\n",
    "import numpy as np\n",
    "import pandas as pd\n",
    "\n",
    "# Gráficos\n",
    "# ------------------------------------------------------------------------------\n",
    "import matplotlib.pyplot as plt\n",
    "\n",
    "# Preprocesado y modelado para la construcción del árbol\n",
    "# ------------------------------------------------------------------------------\n",
    "from sklearn.model_selection import train_test_split\n",
    "from sklearn.tree import DecisionTreeClassifier\n",
    "from sklearn.tree import plot_tree\n",
    "from sklearn.tree import export_graphviz\n",
    "from sklearn.tree import export_text\n",
    "from sklearn.model_selection import GridSearchCV\n",
    "from sklearn.compose import ColumnTransformer\n",
    "from sklearn.preprocessing import OneHotEncoder\n",
    "from sklearn.metrics import accuracy_score\n",
    "from sklearn.metrics import confusion_matrix"
   ]
  },
  {
   "cell_type": "markdown",
   "id": "461fb91cb70363bf",
   "metadata": {
    "collapsed": false
   },
   "source": [
    "Para ilustrar los ejemplos vamos a utilizar el dataset **Carseats**. Primero vamos cargar el conjunto de datos como un Dataframe. "
   ]
  },
  {
   "cell_type": "code",
   "execution_count": 26,
   "id": "ae2af0b0",
   "metadata": {},
   "outputs": [],
   "source": [
    "datos = pd.read_csv('Carseats.csv', sep=',')"
   ]
  },
  {
   "cell_type": "markdown",
   "id": "8c4b1db712ff634",
   "metadata": {
    "collapsed": false
   },
   "source": [
    "Ahora inspeccionamos los datos. "
   ]
  },
  {
   "cell_type": "code",
   "execution_count": 27,
   "id": "faefafb3",
   "metadata": {},
   "outputs": [
    {
     "data": {
      "text/html": [
       "<div>\n",
       "<style scoped>\n",
       "    .dataframe tbody tr th:only-of-type {\n",
       "        vertical-align: middle;\n",
       "    }\n",
       "\n",
       "    .dataframe tbody tr th {\n",
       "        vertical-align: top;\n",
       "    }\n",
       "\n",
       "    .dataframe thead th {\n",
       "        text-align: right;\n",
       "    }\n",
       "</style>\n",
       "<table border=\"1\" class=\"dataframe\">\n",
       "  <thead>\n",
       "    <tr style=\"text-align: right;\">\n",
       "      <th></th>\n",
       "      <th>Sales</th>\n",
       "      <th>CompPrice</th>\n",
       "      <th>Income</th>\n",
       "      <th>Advertising</th>\n",
       "      <th>Population</th>\n",
       "      <th>Price</th>\n",
       "      <th>ShelveLoc</th>\n",
       "      <th>Age</th>\n",
       "      <th>Education</th>\n",
       "      <th>Urban</th>\n",
       "      <th>US</th>\n",
       "    </tr>\n",
       "  </thead>\n",
       "  <tbody>\n",
       "    <tr>\n",
       "      <th>0</th>\n",
       "      <td>9.50</td>\n",
       "      <td>138</td>\n",
       "      <td>73</td>\n",
       "      <td>11</td>\n",
       "      <td>276</td>\n",
       "      <td>120</td>\n",
       "      <td>Bad</td>\n",
       "      <td>42</td>\n",
       "      <td>17</td>\n",
       "      <td>Yes</td>\n",
       "      <td>Yes</td>\n",
       "    </tr>\n",
       "    <tr>\n",
       "      <th>1</th>\n",
       "      <td>11.22</td>\n",
       "      <td>111</td>\n",
       "      <td>48</td>\n",
       "      <td>16</td>\n",
       "      <td>260</td>\n",
       "      <td>83</td>\n",
       "      <td>Good</td>\n",
       "      <td>65</td>\n",
       "      <td>10</td>\n",
       "      <td>Yes</td>\n",
       "      <td>Yes</td>\n",
       "    </tr>\n",
       "    <tr>\n",
       "      <th>2</th>\n",
       "      <td>10.06</td>\n",
       "      <td>113</td>\n",
       "      <td>35</td>\n",
       "      <td>10</td>\n",
       "      <td>269</td>\n",
       "      <td>80</td>\n",
       "      <td>Medium</td>\n",
       "      <td>59</td>\n",
       "      <td>12</td>\n",
       "      <td>Yes</td>\n",
       "      <td>Yes</td>\n",
       "    </tr>\n",
       "    <tr>\n",
       "      <th>3</th>\n",
       "      <td>7.40</td>\n",
       "      <td>117</td>\n",
       "      <td>100</td>\n",
       "      <td>4</td>\n",
       "      <td>466</td>\n",
       "      <td>97</td>\n",
       "      <td>Medium</td>\n",
       "      <td>55</td>\n",
       "      <td>14</td>\n",
       "      <td>Yes</td>\n",
       "      <td>Yes</td>\n",
       "    </tr>\n",
       "    <tr>\n",
       "      <th>4</th>\n",
       "      <td>4.15</td>\n",
       "      <td>141</td>\n",
       "      <td>64</td>\n",
       "      <td>3</td>\n",
       "      <td>340</td>\n",
       "      <td>128</td>\n",
       "      <td>Bad</td>\n",
       "      <td>38</td>\n",
       "      <td>13</td>\n",
       "      <td>Yes</td>\n",
       "      <td>No</td>\n",
       "    </tr>\n",
       "    <tr>\n",
       "      <th>...</th>\n",
       "      <td>...</td>\n",
       "      <td>...</td>\n",
       "      <td>...</td>\n",
       "      <td>...</td>\n",
       "      <td>...</td>\n",
       "      <td>...</td>\n",
       "      <td>...</td>\n",
       "      <td>...</td>\n",
       "      <td>...</td>\n",
       "      <td>...</td>\n",
       "      <td>...</td>\n",
       "    </tr>\n",
       "    <tr>\n",
       "      <th>395</th>\n",
       "      <td>12.57</td>\n",
       "      <td>138</td>\n",
       "      <td>108</td>\n",
       "      <td>17</td>\n",
       "      <td>203</td>\n",
       "      <td>128</td>\n",
       "      <td>Good</td>\n",
       "      <td>33</td>\n",
       "      <td>14</td>\n",
       "      <td>Yes</td>\n",
       "      <td>Yes</td>\n",
       "    </tr>\n",
       "    <tr>\n",
       "      <th>396</th>\n",
       "      <td>6.14</td>\n",
       "      <td>139</td>\n",
       "      <td>23</td>\n",
       "      <td>3</td>\n",
       "      <td>37</td>\n",
       "      <td>120</td>\n",
       "      <td>Medium</td>\n",
       "      <td>55</td>\n",
       "      <td>11</td>\n",
       "      <td>No</td>\n",
       "      <td>Yes</td>\n",
       "    </tr>\n",
       "    <tr>\n",
       "      <th>397</th>\n",
       "      <td>7.41</td>\n",
       "      <td>162</td>\n",
       "      <td>26</td>\n",
       "      <td>12</td>\n",
       "      <td>368</td>\n",
       "      <td>159</td>\n",
       "      <td>Medium</td>\n",
       "      <td>40</td>\n",
       "      <td>18</td>\n",
       "      <td>Yes</td>\n",
       "      <td>Yes</td>\n",
       "    </tr>\n",
       "    <tr>\n",
       "      <th>398</th>\n",
       "      <td>5.94</td>\n",
       "      <td>100</td>\n",
       "      <td>79</td>\n",
       "      <td>7</td>\n",
       "      <td>284</td>\n",
       "      <td>95</td>\n",
       "      <td>Bad</td>\n",
       "      <td>50</td>\n",
       "      <td>12</td>\n",
       "      <td>Yes</td>\n",
       "      <td>Yes</td>\n",
       "    </tr>\n",
       "    <tr>\n",
       "      <th>399</th>\n",
       "      <td>9.71</td>\n",
       "      <td>134</td>\n",
       "      <td>37</td>\n",
       "      <td>0</td>\n",
       "      <td>27</td>\n",
       "      <td>120</td>\n",
       "      <td>Good</td>\n",
       "      <td>49</td>\n",
       "      <td>16</td>\n",
       "      <td>Yes</td>\n",
       "      <td>Yes</td>\n",
       "    </tr>\n",
       "  </tbody>\n",
       "</table>\n",
       "<p>400 rows × 11 columns</p>\n",
       "</div>"
      ],
      "text/plain": [
       "     Sales  CompPrice  Income  Advertising  Population  Price ShelveLoc  Age  \\\n",
       "0     9.50        138      73           11         276    120       Bad   42   \n",
       "1    11.22        111      48           16         260     83      Good   65   \n",
       "2    10.06        113      35           10         269     80    Medium   59   \n",
       "3     7.40        117     100            4         466     97    Medium   55   \n",
       "4     4.15        141      64            3         340    128       Bad   38   \n",
       "..     ...        ...     ...          ...         ...    ...       ...  ...   \n",
       "395  12.57        138     108           17         203    128      Good   33   \n",
       "396   6.14        139      23            3          37    120    Medium   55   \n",
       "397   7.41        162      26           12         368    159    Medium   40   \n",
       "398   5.94        100      79            7         284     95       Bad   50   \n",
       "399   9.71        134      37            0          27    120      Good   49   \n",
       "\n",
       "     Education Urban   US  \n",
       "0           17   Yes  Yes  \n",
       "1           10   Yes  Yes  \n",
       "2           12   Yes  Yes  \n",
       "3           14   Yes  Yes  \n",
       "4           13   Yes   No  \n",
       "..         ...   ...  ...  \n",
       "395         14   Yes  Yes  \n",
       "396         11    No  Yes  \n",
       "397         18   Yes  Yes  \n",
       "398         12   Yes  Yes  \n",
       "399         16   Yes  Yes  \n",
       "\n",
       "[400 rows x 11 columns]"
      ]
     },
     "execution_count": 27,
     "metadata": {},
     "output_type": "execute_result"
    }
   ],
   "source": [
    "datos"
   ]
  },
  {
   "cell_type": "markdown",
   "id": "3c8ddfc640c05044",
   "metadata": {
    "collapsed": false
   },
   "source": [
    "Vamos a crear una nueva variable a partir de la variable **Sales** para distinguir las ventas altas de las ventas más baja. Una vez creada la nueva variable respuesta se descarta la original."
   ]
  },
  {
   "cell_type": "code",
   "execution_count": 28,
   "id": "742486a1",
   "metadata": {
    "ExecuteTime": {
     "end_time": "2024-02-10T17:14:13.123849Z",
     "start_time": "2024-02-10T17:14:13.050416Z"
    },
    "collapsed": false
   },
   "outputs": [
    {
     "data": {
      "text/html": [
       "<div>\n",
       "<style scoped>\n",
       "    .dataframe tbody tr th:only-of-type {\n",
       "        vertical-align: middle;\n",
       "    }\n",
       "\n",
       "    .dataframe tbody tr th {\n",
       "        vertical-align: top;\n",
       "    }\n",
       "\n",
       "    .dataframe thead th {\n",
       "        text-align: right;\n",
       "    }\n",
       "</style>\n",
       "<table border=\"1\" class=\"dataframe\">\n",
       "  <thead>\n",
       "    <tr style=\"text-align: right;\">\n",
       "      <th></th>\n",
       "      <th>CompPrice</th>\n",
       "      <th>Income</th>\n",
       "      <th>Advertising</th>\n",
       "      <th>Population</th>\n",
       "      <th>Price</th>\n",
       "      <th>ShelveLoc</th>\n",
       "      <th>Age</th>\n",
       "      <th>Education</th>\n",
       "      <th>Urban</th>\n",
       "      <th>US</th>\n",
       "      <th>ventas_altas</th>\n",
       "    </tr>\n",
       "  </thead>\n",
       "  <tbody>\n",
       "    <tr>\n",
       "      <th>0</th>\n",
       "      <td>138</td>\n",
       "      <td>73</td>\n",
       "      <td>11</td>\n",
       "      <td>276</td>\n",
       "      <td>120</td>\n",
       "      <td>Bad</td>\n",
       "      <td>42</td>\n",
       "      <td>17</td>\n",
       "      <td>Yes</td>\n",
       "      <td>Yes</td>\n",
       "      <td>0</td>\n",
       "    </tr>\n",
       "    <tr>\n",
       "      <th>1</th>\n",
       "      <td>111</td>\n",
       "      <td>48</td>\n",
       "      <td>16</td>\n",
       "      <td>260</td>\n",
       "      <td>83</td>\n",
       "      <td>Good</td>\n",
       "      <td>65</td>\n",
       "      <td>10</td>\n",
       "      <td>Yes</td>\n",
       "      <td>Yes</td>\n",
       "      <td>0</td>\n",
       "    </tr>\n",
       "    <tr>\n",
       "      <th>2</th>\n",
       "      <td>113</td>\n",
       "      <td>35</td>\n",
       "      <td>10</td>\n",
       "      <td>269</td>\n",
       "      <td>80</td>\n",
       "      <td>Medium</td>\n",
       "      <td>59</td>\n",
       "      <td>12</td>\n",
       "      <td>Yes</td>\n",
       "      <td>Yes</td>\n",
       "      <td>0</td>\n",
       "    </tr>\n",
       "    <tr>\n",
       "      <th>3</th>\n",
       "      <td>117</td>\n",
       "      <td>100</td>\n",
       "      <td>4</td>\n",
       "      <td>466</td>\n",
       "      <td>97</td>\n",
       "      <td>Medium</td>\n",
       "      <td>55</td>\n",
       "      <td>14</td>\n",
       "      <td>Yes</td>\n",
       "      <td>Yes</td>\n",
       "      <td>1</td>\n",
       "    </tr>\n",
       "    <tr>\n",
       "      <th>4</th>\n",
       "      <td>141</td>\n",
       "      <td>64</td>\n",
       "      <td>3</td>\n",
       "      <td>340</td>\n",
       "      <td>128</td>\n",
       "      <td>Bad</td>\n",
       "      <td>38</td>\n",
       "      <td>13</td>\n",
       "      <td>Yes</td>\n",
       "      <td>No</td>\n",
       "      <td>1</td>\n",
       "    </tr>\n",
       "    <tr>\n",
       "      <th>...</th>\n",
       "      <td>...</td>\n",
       "      <td>...</td>\n",
       "      <td>...</td>\n",
       "      <td>...</td>\n",
       "      <td>...</td>\n",
       "      <td>...</td>\n",
       "      <td>...</td>\n",
       "      <td>...</td>\n",
       "      <td>...</td>\n",
       "      <td>...</td>\n",
       "      <td>...</td>\n",
       "    </tr>\n",
       "    <tr>\n",
       "      <th>395</th>\n",
       "      <td>138</td>\n",
       "      <td>108</td>\n",
       "      <td>17</td>\n",
       "      <td>203</td>\n",
       "      <td>128</td>\n",
       "      <td>Good</td>\n",
       "      <td>33</td>\n",
       "      <td>14</td>\n",
       "      <td>Yes</td>\n",
       "      <td>Yes</td>\n",
       "      <td>0</td>\n",
       "    </tr>\n",
       "    <tr>\n",
       "      <th>396</th>\n",
       "      <td>139</td>\n",
       "      <td>23</td>\n",
       "      <td>3</td>\n",
       "      <td>37</td>\n",
       "      <td>120</td>\n",
       "      <td>Medium</td>\n",
       "      <td>55</td>\n",
       "      <td>11</td>\n",
       "      <td>No</td>\n",
       "      <td>Yes</td>\n",
       "      <td>1</td>\n",
       "    </tr>\n",
       "    <tr>\n",
       "      <th>397</th>\n",
       "      <td>162</td>\n",
       "      <td>26</td>\n",
       "      <td>12</td>\n",
       "      <td>368</td>\n",
       "      <td>159</td>\n",
       "      <td>Medium</td>\n",
       "      <td>40</td>\n",
       "      <td>18</td>\n",
       "      <td>Yes</td>\n",
       "      <td>Yes</td>\n",
       "      <td>1</td>\n",
       "    </tr>\n",
       "    <tr>\n",
       "      <th>398</th>\n",
       "      <td>100</td>\n",
       "      <td>79</td>\n",
       "      <td>7</td>\n",
       "      <td>284</td>\n",
       "      <td>95</td>\n",
       "      <td>Bad</td>\n",
       "      <td>50</td>\n",
       "      <td>12</td>\n",
       "      <td>Yes</td>\n",
       "      <td>Yes</td>\n",
       "      <td>1</td>\n",
       "    </tr>\n",
       "    <tr>\n",
       "      <th>399</th>\n",
       "      <td>134</td>\n",
       "      <td>37</td>\n",
       "      <td>0</td>\n",
       "      <td>27</td>\n",
       "      <td>120</td>\n",
       "      <td>Good</td>\n",
       "      <td>49</td>\n",
       "      <td>16</td>\n",
       "      <td>Yes</td>\n",
       "      <td>Yes</td>\n",
       "      <td>0</td>\n",
       "    </tr>\n",
       "  </tbody>\n",
       "</table>\n",
       "<p>400 rows × 11 columns</p>\n",
       "</div>"
      ],
      "text/plain": [
       "     CompPrice  Income  Advertising  Population  Price ShelveLoc  Age  \\\n",
       "0          138      73           11         276    120       Bad   42   \n",
       "1          111      48           16         260     83      Good   65   \n",
       "2          113      35           10         269     80    Medium   59   \n",
       "3          117     100            4         466     97    Medium   55   \n",
       "4          141      64            3         340    128       Bad   38   \n",
       "..         ...     ...          ...         ...    ...       ...  ...   \n",
       "395        138     108           17         203    128      Good   33   \n",
       "396        139      23            3          37    120    Medium   55   \n",
       "397        162      26           12         368    159    Medium   40   \n",
       "398        100      79            7         284     95       Bad   50   \n",
       "399        134      37            0          27    120      Good   49   \n",
       "\n",
       "     Education Urban   US  ventas_altas  \n",
       "0           17   Yes  Yes             0  \n",
       "1           10   Yes  Yes             0  \n",
       "2           12   Yes  Yes             0  \n",
       "3           14   Yes  Yes             1  \n",
       "4           13   Yes   No             1  \n",
       "..         ...   ...  ...           ...  \n",
       "395         14   Yes  Yes             0  \n",
       "396         11    No  Yes             1  \n",
       "397         18   Yes  Yes             1  \n",
       "398         12   Yes  Yes             1  \n",
       "399         16   Yes  Yes             0  \n",
       "\n",
       "[400 rows x 11 columns]"
      ]
     },
     "execution_count": 28,
     "metadata": {},
     "output_type": "execute_result"
    }
   ],
   "source": [
    "datos['ventas_altas'] = np.where(datos.Sales > 8, 0, 1)\n",
    "datos = datos.drop(columns = 'Sales')\n",
    "datos"
   ]
  },
  {
   "cell_type": "markdown",
   "id": "cd62bdcdb8eacebf",
   "metadata": {
    "collapsed": false
   },
   "source": [
    "Para seguir la notación estándar en python vamos a crear los conjuntos de atributos, `X` e el vector de salida `y`"
   ]
  },
  {
   "cell_type": "code",
   "execution_count": 29,
   "id": "c8cc53265040760f",
   "metadata": {
    "ExecuteTime": {
     "end_time": "2024-02-10T17:14:13.128946Z",
     "start_time": "2024-02-10T17:14:13.055805Z"
    },
    "collapsed": false
   },
   "outputs": [],
   "source": [
    "X = datos.drop(columns='ventas_altas')\n",
    "y = datos.ventas_altas"
   ]
  },
  {
   "cell_type": "markdown",
   "id": "5246556b",
   "metadata": {},
   "source": [
    "Ahora vamos a utilizar la clase `DecisionTreeClassifier` del módulo `sklearn.tree` que permite entrenar árboles de decisión para tareas de clasificación. En el ejemplo que disponemos, utilizamos el atributo **Ventas_Altas**, como atributo objetivo y como predictores todas las otras variables disponibles.\n",
    "\n",
    "La clase `DecisionTreeClassifier` tiene los siguientes hiperparámetros. Estos hiperparámetros habría que ajustarlos en función del problema a tratar:\n",
    "\n",
    "- **criterion**: La función de medir la calidad de una división, los criterios soportados son **gini** para la impureza de Gini y **entropy** para la ganancia de información.\n",
    "- **splitter**:La estrategia utilizada para elegir la división en cada nodo. Las estrategias apoyadas son **best** para elegir la mejor división y **random** para elegir la mejor división aleatoria.\n",
    "- **max_depth**: La profundidad máxima del árbol. \n",
    "- **min_samples_split**: El número mínimo de instancias requeridas para dividir un nodo interno\n",
    "- **min_samples_leaf**: El número mínimo de instancias requeridas para estar en un nodo de hoja.\n",
    "- **min_weight_fraction_leaf**: La fracción mínima ponderada de la suma total de las ponderaciones (de todas las instancias de entrada) requeridas para estar en un nodo de hoja.\n",
    "- **max_features**: El número de atributos a tener en cuenta cuando se busca la mejor división:\n",
    "    - Si es **int**, entonces considera las características **max_features** en cada división.\n",
    "    - Si es **float**, entonces **max_features** es una fracción y las características `int(max_features * n_features)` son consideradas en cada división.\n",
    "    - Si es **auto**, entonces `max_features=sqrt(n_features)`.\n",
    "    - Si es **sqrt**, entonces `max_features=sqrt(n_features)`.\n",
    "    - Si es **log2**, entonces `max_features=log2(n_features)`.\n",
    "    - Si es **None**, entonces `max_features=n_features`.\n",
    "- **random_state**: Establece la semilla para repetir los experimentos.\n",
    "- **max_leaf_nodes**: Hace crecer un árbol con max_leaf_nodes en modo *best-first*. Los mejores nodos se definen como una reducción relativa de la impureza. Si es **None**, el número de nodos hoja es ilimitado.\n",
    "- **min_impurity_decrease**: Un nodo se dividirá si esta división induce una disminución de la impureza mayor o igual a este valor.\n",
    "- **ccp_alpha**: Parámetro de complejidad utilizado para la Poda de Mínima Complejidad de Costo. El subárbol con la complejidad de costo mayor que sea menor que ccp_alpha será elegido. \n",
    "\n",
    "Los hiperparámetros por defecto si no se especifican toman los siguientes valores:\n",
    "- `criterion=gini`\n",
    "- `splitter=best`\n",
    "- `max_depth=None`\n",
    "- `min_samples_split=2`\n",
    "- `min_samples_leaf=1`\n",
    "- `min_weight_fraction_leaf=0.0`\n",
    "-  `max_features=None`\n",
    "-  `random_state=None`\n",
    "-  `max_leaf_nodes=None`\n",
    "-  `min_impurity_decrease=0.0`\n",
    "-  `ccp_alpha=0`\n",
    "\n",
    "Una vez cargado el dataset, lo siguiente es dividir el conjunto de datos en las particiones de train y el test y transformar las variables categóricas."
   ]
  },
  {
   "cell_type": "code",
   "execution_count": 30,
   "id": "4a9190b997998547",
   "metadata": {
    "ExecuteTime": {
     "end_time": "2024-02-10T17:14:13.143397Z",
     "start_time": "2024-02-10T17:14:13.061508Z"
    },
    "collapsed": false
   },
   "outputs": [],
   "source": [
    "X_train, X_test, y_train, y_test = train_test_split(X, y, random_state = semilla)"
   ]
  },
  {
   "cell_type": "markdown",
   "id": "edbe17e2f20ea21e",
   "metadata": {
    "collapsed": false
   },
   "source": [
    "Antes de ajustar el modelo es necesario transformar las variables categóricas en numéricas. Para ellos vamos a utilizar el One-hot encoding.  Primero identificamos las variables numéricas y categóricas. "
   ]
  },
  {
   "cell_type": "code",
   "execution_count": 31,
   "id": "1eb22743953eed6e",
   "metadata": {
    "ExecuteTime": {
     "end_time": "2024-02-10T17:14:13.145798Z",
     "start_time": "2024-02-10T17:14:13.065507Z"
    },
    "collapsed": false
   },
   "outputs": [],
   "source": [
    "cat_cols = X_train.select_dtypes(include=['object', 'category']).columns.to_list()\n",
    "numeric_cols = X_train.select_dtypes(include=['float64', 'int']).columns.to_list()"
   ]
  },
  {
   "cell_type": "markdown",
   "id": "805932cc49dbe5d0",
   "metadata": {
    "collapsed": false
   },
   "source": [
    " Ahora podemos aplicar el one-hot-encoding solo a las columnas categóricas. Aquí veremos otra forma de hacerlo utilizando OneHotEncoder y ColumnTransformer. Con el parámetro `handle_unknown=ignore` lo que hacemos es que cuando se encuentra una categoría desconocida durante la transformación, las columnas codificadas resultantes para esta característica serán todas ceros. El parámetro `remainder='passthrough'` de la clase `ColumnTransformer` nos permite que las columnas que no se van a transformar pasen automáticamente al dataset resultante."
   ]
  },
  {
   "cell_type": "code",
   "execution_count": 32,
   "id": "eace843453d9b652",
   "metadata": {
    "ExecuteTime": {
     "end_time": "2024-02-10T17:14:13.158433Z",
     "start_time": "2024-02-10T17:14:13.070054Z"
    },
    "collapsed": false
   },
   "outputs": [],
   "source": [
    "preprocesar = ColumnTransformer(\n",
    "                    [('onehot', OneHotEncoder(handle_unknown='ignore'), cat_cols)],\n",
    "                    remainder='passthrough'\n",
    "               )"
   ]
  },
  {
   "cell_type": "markdown",
   "id": "d9713058c3465965",
   "metadata": {
    "collapsed": false
   },
   "source": [
    "Una vez que se ha definido el objeto ColumnTransformer, con el método `fit()` se aprenden las transformaciones con los datos de entrenamiento y se aplican a los dos conjuntos a través de la función  `transform()`. Ambas operaciones se pueden realizar a la vez con con `fit_transform()`."
   ]
  },
  {
   "cell_type": "code",
   "execution_count": 33,
   "id": "4ead32bbbcb6ea4b",
   "metadata": {
    "ExecuteTime": {
     "end_time": "2024-02-10T17:14:13.281236Z",
     "start_time": "2024-02-10T17:14:13.079032Z"
    },
    "collapsed": false
   },
   "outputs": [],
   "source": [
    "X_train_prep = preprocesar.fit_transform(X_train)\n",
    "X_test_prep  = preprocesar.transform(X_test)"
   ]
  },
  {
   "cell_type": "markdown",
   "id": "7dcf3702bea6f8c5",
   "metadata": {
    "collapsed": false
   },
   "source": [
    "El resultado obtenido al realizar el preprocesamiento es un `numpy array`, por lo que se pierden los nombres de las columnas. Suele ser interesante poder inspeccionar cómo queda el set de datos tras el preprocesado en formato dataframe. Por defecto, OneHotEncoder ordena las nuevas columnas de izquierda a derecha por orden alfabético. En la siguiente celda se puede ver cómo volvemos a convertir la salida del `ColumnTransformer` en dataframe y añadir el nombre de las columnas"
   ]
  },
  {
   "cell_type": "code",
   "execution_count": 34,
   "id": "f1d3a448",
   "metadata": {
    "ExecuteTime": {
     "end_time": "2024-02-10T17:14:13.283901Z",
     "start_time": "2024-02-10T17:14:13.090086Z"
    }
   },
   "outputs": [
    {
     "name": "stdout",
     "output_type": "stream",
     "text": [
      "<class 'pandas.core.frame.DataFrame'>\n",
      "RangeIndex: 300 entries, 0 to 299\n",
      "Data columns (total 14 columns):\n",
      " #   Column            Non-Null Count  Dtype  \n",
      "---  ------            --------------  -----  \n",
      " 0   CompPrice         300 non-null    float64\n",
      " 1   Income            300 non-null    float64\n",
      " 2   Advertising       300 non-null    float64\n",
      " 3   Population        300 non-null    float64\n",
      " 4   Price             300 non-null    float64\n",
      " 5   Age               300 non-null    float64\n",
      " 6   Education         300 non-null    float64\n",
      " 7   ShelveLoc_Bad     300 non-null    float64\n",
      " 8   ShelveLoc_Good    300 non-null    float64\n",
      " 9   ShelveLoc_Medium  300 non-null    float64\n",
      " 10  Urban_No          300 non-null    float64\n",
      " 11  Urban_Yes         300 non-null    float64\n",
      " 12  US_No             300 non-null    float64\n",
      " 13  US_Yes            300 non-null    float64\n",
      "dtypes: float64(14)\n",
      "memory usage: 32.9 KB\n"
     ]
    }
   ],
   "source": [
    "# Nombre de todas las columnas\n",
    "encoded_cat = preprocesar.named_transformers_['onehot'].get_feature_names_out(cat_cols)\n",
    "labels = np.concatenate([numeric_cols, encoded_cat])\n",
    "\n",
    "# Conversión a dataframe\n",
    "X_train_prep = pd.DataFrame(X_train_prep, columns=labels)\n",
    "X_test_prep  = pd.DataFrame(X_test_prep, columns=labels)\n",
    "X_train_prep.info()"
   ]
  },
  {
   "cell_type": "markdown",
   "id": "d5d2ee76",
   "metadata": {},
   "source": [
    "Una vez que el dataset está preparado ya podemos proceder con la creación del modelo, así como el ajuste del valor de poda y su evaluación. "
   ]
  },
  {
   "cell_type": "code",
   "execution_count": 35,
   "id": "60affb06c4b6d6bf",
   "metadata": {
    "ExecuteTime": {
     "end_time": "2024-02-10T17:14:13.313051Z",
     "start_time": "2024-02-10T17:14:13.094309Z"
    },
    "collapsed": false
   },
   "outputs": [
    {
     "name": "stdout",
     "output_type": "stream",
     "text": [
      "Profundidad del árbol: 5\n",
      "Número de nodos terminales: 23\n"
     ]
    }
   ],
   "source": [
    "modelo = DecisionTreeClassifier(\n",
    "            max_depth         = 5,\n",
    "            criterion         = 'gini',\n",
    "            random_state      = semilla\n",
    "          )\n",
    "\n",
    "modelo.fit(X_train_prep, y_train)\n",
    "print(f\"Profundidad del árbol: {modelo.get_depth()}\")\n",
    "print(f\"Número de nodos terminales: {modelo.get_n_leaves()}\")"
   ]
  },
  {
   "cell_type": "markdown",
   "id": "a5ec3797368875e1",
   "metadata": {
    "collapsed": false
   },
   "source": [
    "Ahora visualizamos el árbol. "
   ]
  },
  {
   "cell_type": "code",
   "execution_count": 36,
   "id": "c7fb9e381d8bda22",
   "metadata": {
    "ExecuteTime": {
     "end_time": "2024-02-10T17:14:14.848010Z",
     "start_time": "2024-02-10T17:14:13.101938Z"
    },
    "collapsed": false
   },
   "outputs": [
    {
     "data": {
      "image/png": "[encoded data removed]",
      "text/plain": [
       "<Figure size 2000x800 with 1 Axes>"
      ]
     },
     "metadata": {},
     "output_type": "display_data"
    }
   ],
   "source": [
    "fig, ax = plt.subplots(figsize=(20, 8))\n",
    "plot = plot_tree(\n",
    "            decision_tree = modelo,\n",
    "            feature_names = labels.tolist(),\n",
    "            filled        = True,\n",
    "            impurity      = False,\n",
    "            fontsize      = 7,\n",
    "            ax            = ax\n",
    "       )"
   ]
  },
  {
   "cell_type": "markdown",
   "id": "6d9735453cce3f68",
   "metadata": {
    "collapsed": false
   },
   "source": [
    "Ahora pasamos a evaluar el modelo en el conjunto de test sin realizar ninguna poda."
   ]
  },
  {
   "cell_type": "code",
   "execution_count": 37,
   "id": "823b56515a583599",
   "metadata": {
    "ExecuteTime": {
     "end_time": "2024-02-10T17:14:14.855768Z",
     "start_time": "2024-02-10T17:14:14.848721Z"
    },
    "collapsed": false
   },
   "outputs": [
    {
     "name": "stdout",
     "output_type": "stream",
     "text": [
      "Matriz de confusión\n",
      "-------------------\n",
      "[[29 21]\n",
      " [ 7 43]]\n",
      "El accuracy de test es: 72.0 %\n"
     ]
    }
   ],
   "source": [
    "predicciones_test = modelo.predict(X = X_test_prep,)\n",
    "print(\"Matriz de confusión\")\n",
    "print(\"-------------------\")\n",
    "print(confusion_matrix(\n",
    "    y_true    = y_test,\n",
    "    y_pred    = predicciones_test\n",
    "))\n",
    "# Calculamos el accuracy\n",
    "accuracy_test = accuracy_score(\n",
    "            y_true    = y_test,\n",
    "            y_pred    = predicciones_test,\n",
    "            normalize = True\n",
    "           )\n",
    "print(f\"El accuracy de test es: {100 * accuracy_test} %\")"
   ]
  },
  {
   "cell_type": "markdown",
   "id": "b6dafc2a03d982ab",
   "metadata": {
    "collapsed": false
   },
   "source": [
    "Para poder comparar y ver que nuestro modelo no ha sufrido sobreajuste (overfitting), vamos a realizar un grid para encontrar el mejor valor para realizar la poda a través del hiperparámetro **ccp_alpha**."
   ]
  },
  {
   "cell_type": "code",
   "execution_count": 38,
   "id": "4cdff781adeca333",
   "metadata": {
    "ExecuteTime": {
     "end_time": "2024-02-10T17:14:15.667043Z",
     "start_time": "2024-02-10T17:14:14.854011Z"
    },
    "collapsed": false
   },
   "outputs": [],
   "source": [
    "param_grid = {'ccp_alpha':np.linspace(0, 5, 10)}\n",
    "\n",
    "# Realizamos la búsqueda por validación cruzada\n",
    "grid = GridSearchCV(\n",
    "        # El árbol se crece al máximo posible antes de aplicar el pruning\n",
    "        estimator = DecisionTreeClassifier(\n",
    "                            max_depth         = None,\n",
    "                            min_samples_split = 2,\n",
    "                            min_samples_leaf  = 1,\n",
    "                            random_state      = semilla\n",
    "                       ),\n",
    "        param_grid = param_grid,\n",
    "        scoring    = 'accuracy',\n",
    "        cv         = 10,\n",
    "        refit      = True,\n",
    "        return_train_score = True\n",
    "      )\n",
    "\n"
   ]
  },
  {
   "cell_type": "code",
   "execution_count": 39,
   "id": "5b39453c",
   "metadata": {},
   "outputs": [
    {
     "data": {
      "text/html": [
       "<style>#sk-container-id-2 {\n",
       "  /* Definition of color scheme common for light and dark mode */\n",
       "  --sklearn-color-text: black;\n",
       "  --sklearn-color-line: gray;\n",
       "  /* Definition of color scheme for unfitted estimators */\n",
       "  --sklearn-color-unfitted-level-0: #fff5e6;\n",
       "  --sklearn-color-unfitted-level-1: #f6e4d2;\n",
       "  --sklearn-color-unfitted-level-2: #ffe0b3;\n",
       "  --sklearn-color-unfitted-level-3: chocolate;\n",
       "  /* Definition of color scheme for fitted estimators */\n",
       "  --sklearn-color-fitted-level-0: #f0f8ff;\n",
       "  --sklearn-color-fitted-level-1: #d4ebff;\n",
       "  --sklearn-color-fitted-level-2: #b3dbfd;\n",
       "  --sklearn-color-fitted-level-3: cornflowerblue;\n",
       "\n",
       "  /* Specific color for light theme */\n",
       "  --sklearn-color-text-on-default-background: var(--sg-text-color, var(--theme-code-foreground, var(--jp-content-font-color1, black)));\n",
       "  --sklearn-color-background: var(--sg-background-color, var(--theme-background, var(--jp-layout-color0, white)));\n",
       "  --sklearn-color-border-box: var(--sg-text-color, var(--theme-code-foreground, var(--jp-content-font-color1, black)));\n",
       "  --sklearn-color-icon: #696969;\n",
       "\n",
       "  @media (prefers-color-scheme: dark) {\n",
       "    /* Redefinition of color scheme for dark theme */\n",
       "    --sklearn-color-text-on-default-background: var(--sg-text-color, var(--theme-code-foreground, var(--jp-content-font-color1, white)));\n",
       "    --sklearn-color-background: var(--sg-background-color, var(--theme-background, var(--jp-layout-color0, #111)));\n",
       "    --sklearn-color-border-box: var(--sg-text-color, var(--theme-code-foreground, var(--jp-content-font-color1, white)));\n",
       "    --sklearn-color-icon: #878787;\n",
       "  }\n",
       "}\n",
       "\n",
       "#sk-container-id-2 {\n",
       "  color: var(--sklearn-color-text);\n",
       "}\n",
       "\n",
       "#sk-container-id-2 pre {\n",
       "  padding: 0;\n",
       "}\n",
       "\n",
       "#sk-container-id-2 input.sk-hidden--visually {\n",
       "  border: 0;\n",
       "  clip: rect(1px 1px 1px 1px);\n",
       "  clip: rect(1px, 1px, 1px, 1px);\n",
       "  height: 1px;\n",
       "  margin: -1px;\n",
       "  overflow: hidden;\n",
       "  padding: 0;\n",
       "  position: absolute;\n",
       "  width: 1px;\n",
       "}\n",
       "\n",
       "#sk-container-id-2 div.sk-dashed-wrapped {\n",
       "  border: 1px dashed var(--sklearn-color-line);\n",
       "  margin: 0 0.4em 0.5em 0.4em;\n",
       "  box-sizing: border-box;\n",
       "  padding-bottom: 0.4em;\n",
       "  background-color: var(--sklearn-color-background);\n",
       "}\n",
       "\n",
       "#sk-container-id-2 div.sk-container {\n",
       "  /* jupyter's `normalize.less` sets `[hidden] { display: none; }`\n",
       "     but bootstrap.min.css set `[hidden] { display: none !important; }`\n",
       "     so we also need the `!important` here to be able to override the\n",
       "     default hidden behavior on the sphinx rendered scikit-learn.org.\n",
       "     See: https://github.com/scikit-learn/scikit-learn/issues/21755 */\n",
       "  display: inline-block !important;\n",
       "  position: relative;\n",
       "}\n",
       "\n",
       "#sk-container-id-2 div.sk-text-repr-fallback {\n",
       "  display: none;\n",
       "}\n",
       "\n",
       "div.sk-parallel-item,\n",
       "div.sk-serial,\n",
       "div.sk-item {\n",
       "  /* draw centered vertical line to link estimators */\n",
       "  background-image: linear-gradient(var(--sklearn-color-text-on-default-background), var(--sklearn-color-text-on-default-background));\n",
       "  background-size: 2px 100%;\n",
       "  background-repeat: no-repeat;\n",
       "  background-position: center center;\n",
       "}\n",
       "\n",
       "/* Parallel-specific style estimator block */\n",
       "\n",
       "#sk-container-id-2 div.sk-parallel-item::after {\n",
       "  content: \"\";\n",
       "  width: 100%;\n",
       "  border-bottom: 2px solid var(--sklearn-color-text-on-default-background);\n",
       "  flex-grow: 1;\n",
       "}\n",
       "\n",
       "#sk-container-id-2 div.sk-parallel {\n",
       "  display: flex;\n",
       "  align-items: stretch;\n",
       "  justify-content: center;\n",
       "  background-color: var(--sklearn-color-background);\n",
       "  position: relative;\n",
       "}\n",
       "\n",
       "#sk-container-id-2 div.sk-parallel-item {\n",
       "  display: flex;\n",
       "  flex-direction: column;\n",
       "}\n",
       "\n",
       "#sk-container-id-2 div.sk-parallel-item:first-child::after {\n",
       "  align-self: flex-end;\n",
       "  width: 50%;\n",
       "}\n",
       "\n",
       "#sk-container-id-2 div.sk-parallel-item:last-child::after {\n",
       "  align-self: flex-start;\n",
       "  width: 50%;\n",
       "}\n",
       "\n",
       "#sk-container-id-2 div.sk-parallel-item:only-child::after {\n",
       "  width: 0;\n",
       "}\n",
       "\n",
       "/* Serial-specific style estimator block */\n",
       "\n",
       "#sk-container-id-2 div.sk-serial {\n",
       "  display: flex;\n",
       "  flex-direction: column;\n",
       "  align-items: center;\n",
       "  background-color: var(--sklearn-color-background);\n",
       "  padding-right: 1em;\n",
       "  padding-left: 1em;\n",
       "}\n",
       "\n",
       "\n",
       "/* Toggleable style: style used for estimator/Pipeline/ColumnTransformer box that is\n",
       "clickable and can be expanded/collapsed.\n",
       "- Pipeline and ColumnTransformer use this feature and define the default style\n",
       "- Estimators will overwrite some part of the style using the `sk-estimator` class\n",
       "*/\n",
       "\n",
       "/* Pipeline and ColumnTransformer style (default) */\n",
       "\n",
       "#sk-container-id-2 div.sk-toggleable {\n",
       "  /* Default theme specific background. It is overwritten whether we have a\n",
       "  specific estimator or a Pipeline/ColumnTransformer */\n",
       "  background-color: var(--sklearn-color-background);\n",
       "}\n",
       "\n",
       "/* Toggleable label */\n",
       "#sk-container-id-2 label.sk-toggleable__label {\n",
       "  cursor: pointer;\n",
       "  display: block;\n",
       "  width: 100%;\n",
       "  margin-bottom: 0;\n",
       "  padding: 0.5em;\n",
       "  box-sizing: border-box;\n",
       "  text-align: center;\n",
       "}\n",
       "\n",
       "#sk-container-id-2 label.sk-toggleable__label-arrow:before {\n",
       "  /* Arrow on the left of the label */\n",
       "  content: \"▸\";\n",
       "  float: left;\n",
       "  margin-right: 0.25em;\n",
       "  color: var(--sklearn-color-icon);\n",
       "}\n",
       "\n",
       "#sk-container-id-2 label.sk-toggleable__label-arrow:hover:before {\n",
       "  color: var(--sklearn-color-text);\n",
       "}\n",
       "\n",
       "/* Toggleable content - dropdown */\n",
       "\n",
       "#sk-container-id-2 div.sk-toggleable__content {\n",
       "  max-height: 0;\n",
       "  max-width: 0;\n",
       "  overflow: hidden;\n",
       "  text-align: left;\n",
       "  /* unfitted */\n",
       "  background-color: var(--sklearn-color-unfitted-level-0);\n",
       "}\n",
       "\n",
       "#sk-container-id-2 div.sk-toggleable__content.fitted {\n",
       "  /* fitted */\n",
       "  background-color: var(--sklearn-color-fitted-level-0);\n",
       "}\n",
       "\n",
       "#sk-container-id-2 div.sk-toggleable__content pre {\n",
       "  margin: 0.2em;\n",
       "  border-radius: 0.25em;\n",
       "  color: var(--sklearn-color-text);\n",
       "  /* unfitted */\n",
       "  background-color: var(--sklearn-color-unfitted-level-0);\n",
       "}\n",
       "\n",
       "#sk-container-id-2 div.sk-toggleable__content.fitted pre {\n",
       "  /* unfitted */\n",
       "  background-color: var(--sklearn-color-fitted-level-0);\n",
       "}\n",
       "\n",
       "#sk-container-id-2 input.sk-toggleable__control:checked~div.sk-toggleable__content {\n",
       "  /* Expand drop-down */\n",
       "  max-height: 200px;\n",
       "  max-width: 100%;\n",
       "  overflow: auto;\n",
       "}\n",
       "\n",
       "#sk-container-id-2 input.sk-toggleable__control:checked~label.sk-toggleable__label-arrow:before {\n",
       "  content: \"▾\";\n",
       "}\n",
       "\n",
       "/* Pipeline/ColumnTransformer-specific style */\n",
       "\n",
       "#sk-container-id-2 div.sk-label input.sk-toggleable__control:checked~label.sk-toggleable__label {\n",
       "  color: var(--sklearn-color-text);\n",
       "  background-color: var(--sklearn-color-unfitted-level-2);\n",
       "}\n",
       "\n",
       "#sk-container-id-2 div.sk-label.fitted input.sk-toggleable__control:checked~label.sk-toggleable__label {\n",
       "  background-color: var(--sklearn-color-fitted-level-2);\n",
       "}\n",
       "\n",
       "/* Estimator-specific style */\n",
       "\n",
       "/* Colorize estimator box */\n",
       "#sk-container-id-2 div.sk-estimator input.sk-toggleable__control:checked~label.sk-toggleable__label {\n",
       "  /* unfitted */\n",
       "  background-color: var(--sklearn-color-unfitted-level-2);\n",
       "}\n",
       "\n",
       "#sk-container-id-2 div.sk-estimator.fitted input.sk-toggleable__control:checked~label.sk-toggleable__label {\n",
       "  /* fitted */\n",
       "  background-color: var(--sklearn-color-fitted-level-2);\n",
       "}\n",
       "\n",
       "#sk-container-id-2 div.sk-label label.sk-toggleable__label,\n",
       "#sk-container-id-2 div.sk-label label {\n",
       "  /* The background is the default theme color */\n",
       "  color: var(--sklearn-color-text-on-default-background);\n",
       "}\n",
       "\n",
       "/* On hover, darken the color of the background */\n",
       "#sk-container-id-2 div.sk-label:hover label.sk-toggleable__label {\n",
       "  color: var(--sklearn-color-text);\n",
       "  background-color: var(--sklearn-color-unfitted-level-2);\n",
       "}\n",
       "\n",
       "/* Label box, darken color on hover, fitted */\n",
       "#sk-container-id-2 div.sk-label.fitted:hover label.sk-toggleable__label.fitted {\n",
       "  color: var(--sklearn-color-text);\n",
       "  background-color: var(--sklearn-color-fitted-level-2);\n",
       "}\n",
       "\n",
       "/* Estimator label */\n",
       "\n",
       "#sk-container-id-2 div.sk-label label {\n",
       "  font-family: monospace;\n",
       "  font-weight: bold;\n",
       "  display: inline-block;\n",
       "  line-height: 1.2em;\n",
       "}\n",
       "\n",
       "#sk-container-id-2 div.sk-label-container {\n",
       "  text-align: center;\n",
       "}\n",
       "\n",
       "/* Estimator-specific */\n",
       "#sk-container-id-2 div.sk-estimator {\n",
       "  font-family: monospace;\n",
       "  border: 1px dotted var(--sklearn-color-border-box);\n",
       "  border-radius: 0.25em;\n",
       "  box-sizing: border-box;\n",
       "  margin-bottom: 0.5em;\n",
       "  /* unfitted */\n",
       "  background-color: var(--sklearn-color-unfitted-level-0);\n",
       "}\n",
       "\n",
       "#sk-container-id-2 div.sk-estimator.fitted {\n",
       "  /* fitted */\n",
       "  background-color: var(--sklearn-color-fitted-level-0);\n",
       "}\n",
       "\n",
       "/* on hover */\n",
       "#sk-container-id-2 div.sk-estimator:hover {\n",
       "  /* unfitted */\n",
       "  background-color: var(--sklearn-color-unfitted-level-2);\n",
       "}\n",
       "\n",
       "#sk-container-id-2 div.sk-estimator.fitted:hover {\n",
       "  /* fitted */\n",
       "  background-color: var(--sklearn-color-fitted-level-2);\n",
       "}\n",
       "\n",
       "/* Specification for estimator info (e.g. \"i\" and \"?\") */\n",
       "\n",
       "/* Common style for \"i\" and \"?\" */\n",
       "\n",
       ".sk-estimator-doc-link,\n",
       "a:link.sk-estimator-doc-link,\n",
       "a:visited.sk-estimator-doc-link {\n",
       "  float: right;\n",
       "  font-size: smaller;\n",
       "  line-height: 1em;\n",
       "  font-family: monospace;\n",
       "  background-color: var(--sklearn-color-background);\n",
       "  border-radius: 1em;\n",
       "  height: 1em;\n",
       "  width: 1em;\n",
       "  text-decoration: none !important;\n",
       "  margin-left: 1ex;\n",
       "  /* unfitted */\n",
       "  border: var(--sklearn-color-unfitted-level-1) 1pt solid;\n",
       "  color: var(--sklearn-color-unfitted-level-1);\n",
       "}\n",
       "\n",
       ".sk-estimator-doc-link.fitted,\n",
       "a:link.sk-estimator-doc-link.fitted,\n",
       "a:visited.sk-estimator-doc-link.fitted {\n",
       "  /* fitted */\n",
       "  border: var(--sklearn-color-fitted-level-1) 1pt solid;\n",
       "  color: var(--sklearn-color-fitted-level-1);\n",
       "}\n",
       "\n",
       "/* On hover */\n",
       "div.sk-estimator:hover .sk-estimator-doc-link:hover,\n",
       ".sk-estimator-doc-link:hover,\n",
       "div.sk-label-container:hover .sk-estimator-doc-link:hover,\n",
       ".sk-estimator-doc-link:hover {\n",
       "  /* unfitted */\n",
       "  background-color: var(--sklearn-color-unfitted-level-3);\n",
       "  color: var(--sklearn-color-background);\n",
       "  text-decoration: none;\n",
       "}\n",
       "\n",
       "div.sk-estimator.fitted:hover .sk-estimator-doc-link.fitted:hover,\n",
       ".sk-estimator-doc-link.fitted:hover,\n",
       "div.sk-label-container:hover .sk-estimator-doc-link.fitted:hover,\n",
       ".sk-estimator-doc-link.fitted:hover {\n",
       "  /* fitted */\n",
       "  background-color: var(--sklearn-color-fitted-level-3);\n",
       "  color: var(--sklearn-color-background);\n",
       "  text-decoration: none;\n",
       "}\n",
       "\n",
       "/* Span, style for the box shown on hovering the info icon */\n",
       ".sk-estimator-doc-link span {\n",
       "  display: none;\n",
       "  z-index: 9999;\n",
       "  position: relative;\n",
       "  font-weight: normal;\n",
       "  right: .2ex;\n",
       "  padding: .5ex;\n",
       "  margin: .5ex;\n",
       "  width: min-content;\n",
       "  min-width: 20ex;\n",
       "  max-width: 50ex;\n",
       "  color: var(--sklearn-color-text);\n",
       "  box-shadow: 2pt 2pt 4pt #999;\n",
       "  /* unfitted */\n",
       "  background: var(--sklearn-color-unfitted-level-0);\n",
       "  border: .5pt solid var(--sklearn-color-unfitted-level-3);\n",
       "}\n",
       "\n",
       ".sk-estimator-doc-link.fitted span {\n",
       "  /* fitted */\n",
       "  background: var(--sklearn-color-fitted-level-0);\n",
       "  border: var(--sklearn-color-fitted-level-3);\n",
       "}\n",
       "\n",
       ".sk-estimator-doc-link:hover span {\n",
       "  display: block;\n",
       "}\n",
       "\n",
       "/* \"?\"-specific style due to the `<a>` HTML tag */\n",
       "\n",
       "#sk-container-id-2 a.estimator_doc_link {\n",
       "  float: right;\n",
       "  font-size: 1rem;\n",
       "  line-height: 1em;\n",
       "  font-family: monospace;\n",
       "  background-color: var(--sklearn-color-background);\n",
       "  border-radius: 1rem;\n",
       "  height: 1rem;\n",
       "  width: 1rem;\n",
       "  text-decoration: none;\n",
       "  /* unfitted */\n",
       "  color: var(--sklearn-color-unfitted-level-1);\n",
       "  border: var(--sklearn-color-unfitted-level-1) 1pt solid;\n",
       "}\n",
       "\n",
       "#sk-container-id-2 a.estimator_doc_link.fitted {\n",
       "  /* fitted */\n",
       "  border: var(--sklearn-color-fitted-level-1) 1pt solid;\n",
       "  color: var(--sklearn-color-fitted-level-1);\n",
       "}\n",
       "\n",
       "/* On hover */\n",
       "#sk-container-id-2 a.estimator_doc_link:hover {\n",
       "  /* unfitted */\n",
       "  background-color: var(--sklearn-color-unfitted-level-3);\n",
       "  color: var(--sklearn-color-background);\n",
       "  text-decoration: none;\n",
       "}\n",
       "\n",
       "#sk-container-id-2 a.estimator_doc_link.fitted:hover {\n",
       "  /* fitted */\n",
       "  background-color: var(--sklearn-color-fitted-level-3);\n",
       "}\n",
       "</style><div id=\"sk-container-id-2\" class=\"sk-top-container\"><div class=\"sk-text-repr-fallback\"><pre>GridSearchCV(cv=10, estimator=DecisionTreeClassifier(random_state=123),\n",
       "             param_grid={&#x27;ccp_alpha&#x27;: array([0.        , 0.55555556, 1.11111111, 1.66666667, 2.22222222,\n",
       "       2.77777778, 3.33333333, 3.88888889, 4.44444444, 5.        ])},\n",
       "             return_train_score=True, scoring=&#x27;accuracy&#x27;)</pre><b>In a Jupyter environment, please rerun this cell to show the HTML representation or trust the notebook. <br />On GitHub, the HTML representation is unable to render, please try loading this page with nbviewer.org.</b></div><div class=\"sk-container\" hidden><div class=\"sk-item sk-dashed-wrapped\"><div class=\"sk-label-container\"><div class=\"sk-label fitted sk-toggleable\"><input class=\"sk-toggleable__control sk-hidden--visually\" id=\"sk-estimator-id-2\" type=\"checkbox\" ><label for=\"sk-estimator-id-2\" class=\"sk-toggleable__label fitted sk-toggleable__label-arrow fitted\">&nbsp;&nbsp;GridSearchCV<a class=\"sk-estimator-doc-link fitted\" rel=\"noreferrer\" target=\"_blank\" href=\"https://scikit-learn.org/1.5/modules/generated/sklearn.model_selection.GridSearchCV.html\">?<span>Documentation for GridSearchCV</span></a><span class=\"sk-estimator-doc-link fitted\">i<span>Fitted</span></span></label><div class=\"sk-toggleable__content fitted\"><pre>GridSearchCV(cv=10, estimator=DecisionTreeClassifier(random_state=123),\n",
       "             param_grid={&#x27;ccp_alpha&#x27;: array([0.        , 0.55555556, 1.11111111, 1.66666667, 2.22222222,\n",
       "       2.77777778, 3.33333333, 3.88888889, 4.44444444, 5.        ])},\n",
       "             return_train_score=True, scoring=&#x27;accuracy&#x27;)</pre></div> </div></div><div class=\"sk-parallel\"><div class=\"sk-parallel-item\"><div class=\"sk-item\"><div class=\"sk-label-container\"><div class=\"sk-label fitted sk-toggleable\"><input class=\"sk-toggleable__control sk-hidden--visually\" id=\"sk-estimator-id-3\" type=\"checkbox\" ><label for=\"sk-estimator-id-3\" class=\"sk-toggleable__label fitted sk-toggleable__label-arrow fitted\">best_estimator_: DecisionTreeClassifier</label><div class=\"sk-toggleable__content fitted\"><pre>DecisionTreeClassifier(ccp_alpha=np.float64(0.0), random_state=123)</pre></div> </div></div><div class=\"sk-serial\"><div class=\"sk-item\"><div class=\"sk-estimator fitted sk-toggleable\"><input class=\"sk-toggleable__control sk-hidden--visually\" id=\"sk-estimator-id-4\" type=\"checkbox\" ><label for=\"sk-estimator-id-4\" class=\"sk-toggleable__label fitted sk-toggleable__label-arrow fitted\">&nbsp;DecisionTreeClassifier<a class=\"sk-estimator-doc-link fitted\" rel=\"noreferrer\" target=\"_blank\" href=\"https://scikit-learn.org/1.5/modules/generated/sklearn.tree.DecisionTreeClassifier.html\">?<span>Documentation for DecisionTreeClassifier</span></a></label><div class=\"sk-toggleable__content fitted\"><pre>DecisionTreeClassifier(ccp_alpha=np.float64(0.0), random_state=123)</pre></div> </div></div></div></div></div></div></div></div></div>"
      ],
      "text/plain": [
       "GridSearchCV(cv=10, estimator=DecisionTreeClassifier(random_state=123),\n",
       "             param_grid={'ccp_alpha': array([0.        , 0.55555556, 1.11111111, 1.66666667, 2.22222222,\n",
       "       2.77777778, 3.33333333, 3.88888889, 4.44444444, 5.        ])},\n",
       "             return_train_score=True, scoring='accuracy')"
      ]
     },
     "execution_count": 39,
     "metadata": {},
     "output_type": "execute_result"
    }
   ],
   "source": [
    "# Entrenamos el Grid\n",
    "grid.fit(X_train_prep, y_train)\n"
   ]
  },
  {
   "cell_type": "markdown",
   "id": "a988f5b13d3a4f6b",
   "metadata": {
    "collapsed": false
   },
   "source": [
    "El valor de **cc_alpha** que da el mejor árbol es"
   ]
  },
  {
   "cell_type": "code",
   "execution_count": 40,
   "id": "2f6f437a",
   "metadata": {},
   "outputs": [
    {
     "data": {
      "image/png": "[encoded data removed]",
      "text/plain": [
       "<Figure size 800x400 with 1 Axes>"
      ]
     },
     "metadata": {},
     "output_type": "display_data"
    }
   ],
   "source": [
    "# Mostramos los resultados\n",
    "fig, ax = plt.subplots(figsize=(8, 4))\n",
    "scores = pd.DataFrame(grid.cv_results_)\n",
    "scores.plot(x='param_ccp_alpha', y='mean_train_score', yerr='std_train_score', ax=ax)\n",
    "scores.plot(x='param_ccp_alpha', y='mean_test_score', yerr='std_test_score', ax=ax)\n",
    "ax.xaxis.set_major_formatter(FormatStrFormatter('%.2f'))\n",
    "ax.set_title(\"Exactitud en validacion cruzada  vs hiperparámetro ccp_alpha\");"
   ]
  },
  {
   "cell_type": "code",
   "execution_count": 41,
   "id": "da2153740ab844b3",
   "metadata": {
    "ExecuteTime": {
     "end_time": "2024-02-10T17:14:15.680487Z",
     "start_time": "2024-02-10T17:14:15.670790Z"
    },
    "collapsed": false
   },
   "outputs": [
    {
     "name": "stdout",
     "output_type": "stream",
     "text": [
      "El valor de ccp_alpha que genera el árbol más eficiente es {'ccp_alpha': np.float64(0.0)}\n"
     ]
    }
   ],
   "source": [
    "print(f\"El valor de ccp_alpha que genera el árbol más eficiente es {grid.best_params_}\")"
   ]
  },
  {
   "cell_type": "markdown",
   "id": "5ed6cbc723716103",
   "metadata": {
    "collapsed": false
   },
   "source": [
    "Ahora ya podemos quedarnos con el mejor modelo. "
   ]
  },
  {
   "cell_type": "code",
   "execution_count": 42,
   "id": "5851d1b2582bb847",
   "metadata": {
    "ExecuteTime": {
     "end_time": "2024-02-10T17:14:15.683212Z",
     "start_time": "2024-02-10T17:14:15.675087Z"
    },
    "collapsed": false
   },
   "outputs": [
    {
     "name": "stdout",
     "output_type": "stream",
     "text": [
      "Profundidad del árbol: 9\n",
      "Número de nodos terminales: 49\n"
     ]
    }
   ],
   "source": [
    "modelo_final = grid.best_estimator_\n",
    "print(f\"Profundidad del árbol: {modelo_final.get_depth()}\")\n",
    "print(f\"Número de nodos terminales: {modelo_final.get_n_leaves()}\")"
   ]
  },
  {
   "cell_type": "markdown",
   "id": "b50093ca570580a1",
   "metadata": {
    "collapsed": false
   },
   "source": [
    "Ya sólo nos queda evaluar el árbol obtenido en el conjunto de test. "
   ]
  },
  {
   "cell_type": "code",
   "execution_count": 43,
   "id": "6fd75eff",
   "metadata": {
    "ExecuteTime": {
     "end_time": "2024-02-10T17:14:15.832546Z",
     "start_time": "2024-02-10T17:14:15.681519Z"
    }
   },
   "outputs": [
    {
     "name": "stdout",
     "output_type": "stream",
     "text": [
      "El accuracy de test una vez realizada la poda es: 75.0 %\n"
     ]
    }
   ],
   "source": [
    "predicciones = modelo_final.predict(X = X_test_prep)\n",
    "\n",
    "accuracy = accuracy_score(\n",
    "            y_true    = y_test,\n",
    "            y_pred    = predicciones,\n",
    "            normalize = True\n",
    "           )\n",
    "print(f\"El accuracy de test una vez realizada la poda es: {100 * accuracy} %\")"
   ]
  },
  {
   "cell_type": "markdown",
   "id": "20137bf3",
   "metadata": {},
   "source": [
    "Gracias al proceso de poda se ha conseguido un árbol más general, consiguiendo una pequeña mejora en el accuracy, ya que hemos pasado de un 72% a un 75%."
   ]
  },
  {
   "cell_type": "markdown",
   "id": "bdfe29fb",
   "metadata": {},
   "source": [
    "### Predicción de probabilidades \n",
    "\n",
    "La mayoría de implementaciones de los modelos basados en árboles, y entre ellas la de `scikit-learn`, permiten predecir las probabilidades de pertencia a cada clase cuando se trata de problemas de clasificación. Es importante entender cómo se calculan estos valores para interpretarlos y utilizarlos correctamente.\n",
    "\n",
    "En el ejemplo anterior, el  método `.predict()`  devuelve un 1 ventas elevadas) o un0 (ventas bajas) para cada observación del conjunto de test. Sin embargo, no se dispone de ningún tipo de información sobre la seguridad con la que el modelo realiza esta asignación. Con `.predict_proba()`, en lugar de una clasificación, se obtiene la probabilidad con la que el modelo considera que cada observación puede pertenecer a cada una de las clases. Asi, se pueden realizar clasificaciones atendiendo a otros criterios y no siempre a la clase mayoritaria.\n",
    "\n",
    "Para predecir las probabilidades debemos utilizar el método `.predict_proba()`. "
   ]
  },
  {
   "cell_type": "code",
   "execution_count": 44,
   "id": "9b9539928eb7fc95",
   "metadata": {
    "ExecuteTime": {
     "end_time": "2024-02-10T17:14:15.850534Z",
     "start_time": "2024-02-10T17:14:15.687583Z"
    },
    "collapsed": false
   },
   "outputs": [
    {
     "data": {
      "text/plain": [
       "array([[1.        , 0.        ],\n",
       "       [0.        , 1.        ],\n",
       "       [0.89473684, 0.10526316],\n",
       "       [0.94444444, 0.05555556],\n",
       "       [0.89473684, 0.10526316]])"
      ]
     },
     "execution_count": 44,
     "metadata": {},
     "output_type": "execute_result"
    }
   ],
   "source": [
    "predicciones = modelo.predict_proba(X = X_test_prep)\n",
    "predicciones[:5, :]"
   ]
  },
  {
   "cell_type": "markdown",
   "id": "aaf2e3fdb2e5f49b",
   "metadata": {
    "collapsed": false
   },
   "source": [
    "Ahora podemos definir un criterio propio para la asignación de las instancias a clases a partir de las probabilidades. Por ejemplo, si queremos asignar a cada instancia a la clase con mayor probabilidad, podemos utilizar el siguiente código. "
   ]
  },
  {
   "cell_type": "code",
   "execution_count": 45,
   "id": "12040b03398eb6c3",
   "metadata": {
    "ExecuteTime": {
     "end_time": "2024-02-10T17:14:15.866488Z",
     "start_time": "2024-02-10T17:14:15.696399Z"
    },
    "collapsed": false
   },
   "outputs": [
    {
     "data": {
      "text/html": [
       "<div>\n",
       "<style scoped>\n",
       "    .dataframe tbody tr th:only-of-type {\n",
       "        vertical-align: middle;\n",
       "    }\n",
       "\n",
       "    .dataframe tbody tr th {\n",
       "        vertical-align: top;\n",
       "    }\n",
       "\n",
       "    .dataframe thead th {\n",
       "        text-align: right;\n",
       "    }\n",
       "</style>\n",
       "<table border=\"1\" class=\"dataframe\">\n",
       "  <thead>\n",
       "    <tr style=\"text-align: right;\">\n",
       "      <th></th>\n",
       "      <th>0</th>\n",
       "      <th>1</th>\n",
       "      <th>clasificacion_default_0.5</th>\n",
       "    </tr>\n",
       "  </thead>\n",
       "  <tbody>\n",
       "    <tr>\n",
       "      <th>0</th>\n",
       "      <td>1.000000</td>\n",
       "      <td>0.000000</td>\n",
       "      <td>0</td>\n",
       "    </tr>\n",
       "    <tr>\n",
       "      <th>1</th>\n",
       "      <td>0.000000</td>\n",
       "      <td>1.000000</td>\n",
       "      <td>1</td>\n",
       "    </tr>\n",
       "    <tr>\n",
       "      <th>2</th>\n",
       "      <td>0.894737</td>\n",
       "      <td>0.105263</td>\n",
       "      <td>0</td>\n",
       "    </tr>\n",
       "  </tbody>\n",
       "</table>\n",
       "</div>"
      ],
      "text/plain": [
       "          0         1  clasificacion_default_0.5\n",
       "0  1.000000  0.000000                          0\n",
       "1  0.000000  1.000000                          1\n",
       "2  0.894737  0.105263                          0"
      ]
     },
     "execution_count": 45,
     "metadata": {},
     "output_type": "execute_result"
    }
   ],
   "source": [
    "df_predicciones = pd.DataFrame(data=predicciones, columns=['0', '1'])\n",
    "df_predicciones['clasificacion_default_0.5'] = np.where(df_predicciones['0'] > df_predicciones['1'], 0, 1)\n",
    "df_predicciones.head(3)"
   ]
  },
  {
   "cell_type": "markdown",
   "id": "751b7de2c65d5f9",
   "metadata": {
    "collapsed": false
   },
   "source": [
    "Si queremos redefinir el criterio de asignación de clases, empleando un umbral de 0.7 para la clase 1 (podemos definir el umbral que queramos) podríamos hacerlo de la siguiente manera. "
   ]
  },
  {
   "cell_type": "code",
   "execution_count": 46,
   "id": "c6bfa81a",
   "metadata": {
    "ExecuteTime": {
     "end_time": "2024-02-10T17:14:15.869037Z",
     "start_time": "2024-02-10T17:14:15.704638Z"
    }
   },
   "outputs": [
    {
     "data": {
      "text/html": [
       "<div>\n",
       "<style scoped>\n",
       "    .dataframe tbody tr th:only-of-type {\n",
       "        vertical-align: middle;\n",
       "    }\n",
       "\n",
       "    .dataframe tbody tr th {\n",
       "        vertical-align: top;\n",
       "    }\n",
       "\n",
       "    .dataframe thead th {\n",
       "        text-align: right;\n",
       "    }\n",
       "</style>\n",
       "<table border=\"1\" class=\"dataframe\">\n",
       "  <thead>\n",
       "    <tr style=\"text-align: right;\">\n",
       "      <th></th>\n",
       "      <th>0</th>\n",
       "      <th>1</th>\n",
       "      <th>clasificacion_default_0.5</th>\n",
       "      <th>clasificacion_custom_0.7</th>\n",
       "    </tr>\n",
       "  </thead>\n",
       "  <tbody>\n",
       "    <tr>\n",
       "      <th>5</th>\n",
       "      <td>0.500000</td>\n",
       "      <td>0.500000</td>\n",
       "      <td>1</td>\n",
       "      <td>0</td>\n",
       "    </tr>\n",
       "    <tr>\n",
       "      <th>6</th>\n",
       "      <td>0.071429</td>\n",
       "      <td>0.928571</td>\n",
       "      <td>1</td>\n",
       "      <td>1</td>\n",
       "    </tr>\n",
       "    <tr>\n",
       "      <th>7</th>\n",
       "      <td>0.944444</td>\n",
       "      <td>0.055556</td>\n",
       "      <td>0</td>\n",
       "      <td>0</td>\n",
       "    </tr>\n",
       "    <tr>\n",
       "      <th>8</th>\n",
       "      <td>0.014493</td>\n",
       "      <td>0.985507</td>\n",
       "      <td>1</td>\n",
       "      <td>1</td>\n",
       "    </tr>\n",
       "    <tr>\n",
       "      <th>9</th>\n",
       "      <td>0.291667</td>\n",
       "      <td>0.708333</td>\n",
       "      <td>1</td>\n",
       "      <td>1</td>\n",
       "    </tr>\n",
       "  </tbody>\n",
       "</table>\n",
       "</div>"
      ],
      "text/plain": [
       "          0         1  clasificacion_default_0.5  clasificacion_custom_0.7\n",
       "5  0.500000  0.500000                          1                         0\n",
       "6  0.071429  0.928571                          1                         1\n",
       "7  0.944444  0.055556                          0                         0\n",
       "8  0.014493  0.985507                          1                         1\n",
       "9  0.291667  0.708333                          1                         1"
      ]
     },
     "execution_count": 46,
     "metadata": {},
     "output_type": "execute_result"
    }
   ],
   "source": [
    "df_predicciones['clasificacion_custom_0.7'] = np.where(df_predicciones['1'] > 0.7, 1, 0)\n",
    "df_predicciones.iloc[5:10, :]"
   ]
  },
  {
   "cell_type": "markdown",
   "id": "82ba383a",
   "metadata": {},
   "source": [
    "## Ensamble Random Forest\n",
    "\n",
    "**Random Forest** es un ensamble (combinación de modelos, en este caso árboles) que se puede utilizar tanto en la tarea de clasificación como en la de regresión. Esta técnica toma como base un árbol de decisión y forma un ensamble al crear tantos árboles como indique uno de sus parámetros. Random Forest utiliza varias submuestras del conjunto de datos  y un subconjunto de los atributos para construir cada árbol. Después utiliza el promedio de las predicciones de cada uno de los árboles para mejorar la precisión predictiva y controlar el sobreajuste. El tamaño de la submuestra se controla con el parámetro **max_samples** si `bootstrap=True` (predeterminado), de lo contrario se utiliza todo el conjunto de datos para construir cada árbol. \n",
    "\n",
    "### Random Forest para Regresión\n",
    "\n",
    "Vamos a ver un ejemplo de la aplicación de Random Forest para regresión con la base de datos **Boston**. Pero antes, debemos de comentar los hiperparámetros a configurar. Hay que tener en cuenta que se utilizan los mismos hiperparámetros que hemos visto para el árbol de regresión, pero además se incluyen los siguientes que son específicos de la configuración de Random Forest:\n",
    "- **n_estimators**: Número de árboles que componen el ensamble.\n",
    "- **bootstrapb**: Si se utiliza el bootstrap para construir cada uno de los árboles. Si se pone a False, se utiliza todo el conjunto de datos. \n",
    "- **oob_scoreb**: Si se utilizan instancias de **out-of-bag** para estimar la puntuación. Por defecto, se utiliza **r2_score**, aunque se puede configurar. Esta opción está disponible si `bootstrap=True`.\n",
    "- **n_jobs**:  Número de trabajos en paralelo. Si se pone -1 se utilizan todos los procesadores disponibles. \n",
    "- **verbose**: Controla si se muestra el ajuste y las predicciones durante el proceso de construcción del modelo. \n",
    "- **warm_start**: Si se establece en `True`, se reutiliza la solución de la llamada anterior al ajuste y se añaden más estimadores al conjunto; de lo contrario, se ajusta un ensamble completamente nuevo.\n",
    "\n",
    "De estos parámetros, las opciones por defecto son:\n",
    "- `n_estimatorsint=100`\n",
    "- `bootstrap=True`\n",
    "- `oob_score=False`\n",
    "- `n_jobs=None`\n",
    "- `verbose=0`\n",
    "- `warm_start= False`\n",
    "\n",
    "Lo primero que vamos a hacer es cargar el dataset que vamos a utilizar de ejemplo para después proseguir con la construcción del Random Forest. "
   ]
  },
  {
   "cell_type": "code",
   "execution_count": 47,
   "id": "57b56f734838e7ea",
   "metadata": {
    "ExecuteTime": {
     "end_time": "2024-02-10T17:14:15.996158Z",
     "start_time": "2024-02-10T17:14:15.708245Z"
    },
    "collapsed": false
   },
   "outputs": [
    {
     "data": {
      "text/html": [
       "<div>\n",
       "<style scoped>\n",
       "    .dataframe tbody tr th:only-of-type {\n",
       "        vertical-align: middle;\n",
       "    }\n",
       "\n",
       "    .dataframe tbody tr th {\n",
       "        vertical-align: top;\n",
       "    }\n",
       "\n",
       "    .dataframe thead th {\n",
       "        text-align: right;\n",
       "    }\n",
       "</style>\n",
       "<table border=\"1\" class=\"dataframe\">\n",
       "  <thead>\n",
       "    <tr style=\"text-align: right;\">\n",
       "      <th></th>\n",
       "      <th>CRIM</th>\n",
       "      <th>ZN</th>\n",
       "      <th>INDUS</th>\n",
       "      <th>CHAS</th>\n",
       "      <th>NOX</th>\n",
       "      <th>RM</th>\n",
       "      <th>AGE</th>\n",
       "      <th>DIS</th>\n",
       "      <th>RAD</th>\n",
       "      <th>TAX</th>\n",
       "      <th>PTRATIO</th>\n",
       "      <th>LSTAT</th>\n",
       "      <th>MEDV</th>\n",
       "    </tr>\n",
       "  </thead>\n",
       "  <tbody>\n",
       "    <tr>\n",
       "      <th>0</th>\n",
       "      <td>0.00632</td>\n",
       "      <td>18.0</td>\n",
       "      <td>2.31</td>\n",
       "      <td>0</td>\n",
       "      <td>0.538</td>\n",
       "      <td>6.575</td>\n",
       "      <td>65.2</td>\n",
       "      <td>4.0900</td>\n",
       "      <td>1</td>\n",
       "      <td>296</td>\n",
       "      <td>15.3</td>\n",
       "      <td>4.98</td>\n",
       "      <td>24.0</td>\n",
       "    </tr>\n",
       "    <tr>\n",
       "      <th>1</th>\n",
       "      <td>0.02731</td>\n",
       "      <td>0.0</td>\n",
       "      <td>7.07</td>\n",
       "      <td>0</td>\n",
       "      <td>0.469</td>\n",
       "      <td>6.421</td>\n",
       "      <td>78.9</td>\n",
       "      <td>4.9671</td>\n",
       "      <td>2</td>\n",
       "      <td>242</td>\n",
       "      <td>17.8</td>\n",
       "      <td>9.14</td>\n",
       "      <td>21.6</td>\n",
       "    </tr>\n",
       "    <tr>\n",
       "      <th>2</th>\n",
       "      <td>0.02729</td>\n",
       "      <td>0.0</td>\n",
       "      <td>7.07</td>\n",
       "      <td>0</td>\n",
       "      <td>0.469</td>\n",
       "      <td>7.185</td>\n",
       "      <td>61.1</td>\n",
       "      <td>4.9671</td>\n",
       "      <td>2</td>\n",
       "      <td>242</td>\n",
       "      <td>17.8</td>\n",
       "      <td>4.03</td>\n",
       "      <td>34.7</td>\n",
       "    </tr>\n",
       "  </tbody>\n",
       "</table>\n",
       "</div>"
      ],
      "text/plain": [
       "      CRIM    ZN  INDUS  CHAS    NOX     RM   AGE     DIS  RAD  TAX  PTRATIO  \\\n",
       "0  0.00632  18.0   2.31     0  0.538  6.575  65.2  4.0900    1  296     15.3   \n",
       "1  0.02731   0.0   7.07     0  0.469  6.421  78.9  4.9671    2  242     17.8   \n",
       "2  0.02729   0.0   7.07     0  0.469  7.185  61.1  4.9671    2  242     17.8   \n",
       "\n",
       "   LSTAT  MEDV  \n",
       "0   4.98  24.0  \n",
       "1   9.14  21.6  \n",
       "2   4.03  34.7  "
      ]
     },
     "execution_count": 47,
     "metadata": {},
     "output_type": "execute_result"
    }
   ],
   "source": [
    "# Tratamiento de datos\n",
    "# ==============================================================================\n",
    "import numpy as np\n",
    "import pandas as pd\n",
    "\n",
    "# Gráficos\n",
    "# ==============================================================================\n",
    "import matplotlib.pyplot as plt\n",
    "\n",
    "# Preprocesado y modelado\n",
    "# ==============================================================================\n",
    "from sklearn.ensemble import RandomForestRegressor\n",
    "from sklearn.metrics import mean_squared_error\n",
    "from sklearn.model_selection import cross_val_score\n",
    "from sklearn.model_selection import train_test_split\n",
    "from sklearn.model_selection import RepeatedKFold\n",
    "from sklearn.model_selection import GridSearchCV\n",
    "from sklearn.model_selection import ParameterGrid\n",
    "from sklearn.inspection import permutation_importance\n",
    "\n",
    "\n",
    "# Descarga de datos de la base de datos boston\n",
    "# ==============================================================================\n",
    "url = (\n",
    "    'https://raw.githubusercontent.com/JoaquinAmatRodrigo/Estadistica-machine-learning-python/'\n",
    "    'master/data/Boston.csv'\n",
    ")\n",
    "datos = pd.read_csv(url, sep=',')\n",
    "datos.head(3)"
   ]
  },
  {
   "cell_type": "markdown",
   "id": "c6d5b432e54b8815",
   "metadata": {
    "collapsed": false
   },
   "source": [
    "Recordad que también es conveniente examinar la estructura del dataset"
   ]
  },
  {
   "cell_type": "code",
   "execution_count": 48,
   "id": "af7dd5ca",
   "metadata": {
    "ExecuteTime": {
     "end_time": "2024-02-10T17:14:15.998965Z",
     "start_time": "2024-02-10T17:14:15.803417Z"
    }
   },
   "outputs": [
    {
     "name": "stdout",
     "output_type": "stream",
     "text": [
      "<class 'pandas.core.frame.DataFrame'>\n",
      "RangeIndex: 506 entries, 0 to 505\n",
      "Data columns (total 13 columns):\n",
      " #   Column   Non-Null Count  Dtype  \n",
      "---  ------   --------------  -----  \n",
      " 0   CRIM     506 non-null    float64\n",
      " 1   ZN       506 non-null    float64\n",
      " 2   INDUS    506 non-null    float64\n",
      " 3   CHAS     506 non-null    int64  \n",
      " 4   NOX      506 non-null    float64\n",
      " 5   RM       506 non-null    float64\n",
      " 6   AGE      506 non-null    float64\n",
      " 7   DIS      506 non-null    float64\n",
      " 8   RAD      506 non-null    int64  \n",
      " 9   TAX      506 non-null    int64  \n",
      " 10  PTRATIO  506 non-null    float64\n",
      " 11  LSTAT    506 non-null    float64\n",
      " 12  MEDV     506 non-null    float64\n",
      "dtypes: float64(10), int64(3)\n",
      "memory usage: 51.5 KB\n"
     ]
    }
   ],
   "source": [
    "datos.info()"
   ]
  },
  {
   "cell_type": "markdown",
   "id": "427ceedf",
   "metadata": {},
   "source": [
    "Vemos que todos las variables son numéricas. En nuestro problema vamos a utilizar la variable **MEDV** como variable objetivo a predecir. Como venimos haciendo hasta ahora, el primer paso es la partición del data set en los conjuntos de entrenamiento y test. "
   ]
  },
  {
   "cell_type": "code",
   "execution_count": 49,
   "id": "8d87cf2ec9afbee9",
   "metadata": {
    "ExecuteTime": {
     "end_time": "2024-02-10T17:14:16.015264Z",
     "start_time": "2024-02-10T17:14:15.807783Z"
    },
    "collapsed": false
   },
   "outputs": [],
   "source": [
    "X_train, X_test, y_train, y_test = train_test_split(\n",
    "                                        datos.drop(columns = \"MEDV\"),\n",
    "                                        datos['MEDV'],\n",
    "                                        random_state = semilla\n",
    "                                    )"
   ]
  },
  {
   "cell_type": "markdown",
   "id": "72142848b5c3f985",
   "metadata": {
    "collapsed": false
   },
   "source": [
    "Ahora procedemos la construcción del modelo con el conjunto de train. Inicialmente vamos a crear un modelo básico que intentaremos mejorar.  "
   ]
  },
  {
   "cell_type": "code",
   "execution_count": 50,
   "id": "f9129746",
   "metadata": {
    "ExecuteTime": {
     "end_time": "2024-02-10T17:14:16.045703Z",
     "start_time": "2024-02-10T17:14:15.815048Z"
    }
   },
   "outputs": [
    {
     "name": "stdout",
     "output_type": "stream",
     "text": [
      "El error (rmse) de test es: 4.1780\n"
     ]
    }
   ],
   "source": [
    "modelo = RandomForestRegressor(\n",
    "            n_estimators = 10,\n",
    "            criterion    = 'squared_error',\n",
    "            max_depth    = None,\n",
    "            max_features = 1,\n",
    "            oob_score    = False,\n",
    "            n_jobs       = -1,\n",
    "            random_state = semilla\n",
    "         )\n",
    "\n",
    "# Entrenamiento del modelo\n",
    "# ==============================================================================\n",
    "modelo.fit(X_train, y_train)\n",
    "\n",
    "# Error de test del modelo inicial\n",
    "# ==============================================================================\n",
    "predicciones = modelo.predict(X = X_test)\n",
    "\n",
    "rmse_test = root_mean_squared_error(\n",
    "        y_true  = y_test,\n",
    "        y_pred  = predicciones,\n",
    "       )\n",
    "print(f\"El error (rmse) de test es: {rmse_test:.4f}\")"
   ]
  },
  {
   "cell_type": "markdown",
   "id": "7ed8fde2",
   "metadata": {},
   "source": [
    "### Optimización de hiperparámetros - búsqueda GRID\n",
    "\n",
    "Aunque se puede realizar un análisis individual y un Grid de parámetros para cada uno de los parámetros de Random Forest, mejor realizar una búsqueda de varios parámetros de forma simultánea. Para ello es preferible recurrir a un **grid search** o **random search** para analizar varias combinaciones de hiperparámetros. En este caso vamos a realizar una búsqueda de hiperparámetros para el número de árboles, la profundidad máxima y el número de atributos/variables. Esta búsqueda de parámetros se puede hacer tanto para clasificación como para regresión, la diferencia está en cambiar el modelo que se utiliza de base y los parámetros si es que son diferentes los que se pretenden ajustar."
   ]
  },
  {
   "cell_type": "markdown",
   "id": "6141551b0331cc19",
   "metadata": {
    "collapsed": false
   },
   "source": [
    "Primero creamos el Grid con los hiperparámetros que queremos evaluar, con lo que tenemos que especificar el rango de búsqueda de cada uno de los  hiperparámetros. "
   ]
  },
  {
   "cell_type": "code",
   "execution_count": 51,
   "id": "f8d21bacbdbf41ce",
   "metadata": {
    "ExecuteTime": {
     "end_time": "2024-02-10T17:14:16.051114Z",
     "start_time": "2024-02-10T17:14:15.853708Z"
    },
    "collapsed": false
   },
   "outputs": [],
   "source": [
    "param_grid = ParameterGrid(\n",
    "                {'n_estimators': [150],\n",
    "                 'max_features': [5, 7, 9],\n",
    "                 'max_depth'   : [None, 3, 10, 20]\n",
    "                }\n",
    "             )"
   ]
  },
  {
   "cell_type": "markdown",
   "id": "9b12b0f00097ddd",
   "metadata": {
    "collapsed": false
   },
   "source": [
    "Una vez definido el GRID ahora podemos hacer un bucle para recorrer todo el grid y entrenar un Random Forest para cada combinación de hiperparámetros en el GRID. "
   ]
  },
  {
   "cell_type": "code",
   "execution_count": 52,
   "id": "de609acce50b9d70",
   "metadata": {
    "ExecuteTime": {
     "end_time": "2024-02-10T17:14:18.586022Z",
     "start_time": "2024-02-10T17:14:15.859948Z"
    },
    "collapsed": false
   },
   "outputs": [
    {
     "name": "stdout",
     "output_type": "stream",
     "text": [
      "Modelo: {'max_depth': None, 'max_features': 5, 'n_estimators': 150} ✓\n",
      "Modelo: {'max_depth': None, 'max_features': 7, 'n_estimators': 150} ✓\n",
      "Modelo: {'max_depth': None, 'max_features': 9, 'n_estimators': 150} ✓\n",
      "Modelo: {'max_depth': 3, 'max_features': 5, 'n_estimators': 150} ✓\n",
      "Modelo: {'max_depth': 3, 'max_features': 7, 'n_estimators': 150} ✓\n",
      "Modelo: {'max_depth': 3, 'max_features': 9, 'n_estimators': 150} ✓\n",
      "Modelo: {'max_depth': 10, 'max_features': 5, 'n_estimators': 150} ✓\n",
      "Modelo: {'max_depth': 10, 'max_features': 7, 'n_estimators': 150} ✓\n",
      "Modelo: {'max_depth': 10, 'max_features': 9, 'n_estimators': 150} ✓\n",
      "Modelo: {'max_depth': 20, 'max_features': 5, 'n_estimators': 150} ✓\n",
      "Modelo: {'max_depth': 20, 'max_features': 7, 'n_estimators': 150} ✓\n",
      "Modelo: {'max_depth': 20, 'max_features': 9, 'n_estimators': 150} ✓\n"
     ]
    }
   ],
   "source": [
    "resultados = {'params': [], 'oob_r2': []}\n",
    "\n",
    "for params in param_grid:\n",
    "    \n",
    "    modelo = RandomForestRegressor(\n",
    "                oob_score    = True,\n",
    "                n_jobs       = -1,\n",
    "                random_state = semilla,\n",
    "                ** params\n",
    "             )\n",
    "    \n",
    "    modelo.fit(X_train, y_train)\n",
    "    \n",
    "    resultados['params'].append(params)\n",
    "    resultados['oob_r2'].append(modelo.oob_score_)\n",
    "    print(f\"Modelo: {params} ✓\")"
   ]
  },
  {
   "cell_type": "markdown",
   "id": "d996bd0baaae2da5",
   "metadata": {
    "collapsed": false
   },
   "source": [
    "Una vez recorrido todo el GRID, procedemos a mostrar los resultados. "
   ]
  },
  {
   "cell_type": "code",
   "execution_count": 53,
   "id": "091ac176",
   "metadata": {
    "ExecuteTime": {
     "end_time": "2024-02-10T17:14:18.627011Z",
     "start_time": "2024-02-10T17:14:18.587862Z"
    }
   },
   "outputs": [
    {
     "data": {
      "text/html": [
       "<div>\n",
       "<style scoped>\n",
       "    .dataframe tbody tr th:only-of-type {\n",
       "        vertical-align: middle;\n",
       "    }\n",
       "\n",
       "    .dataframe tbody tr th {\n",
       "        vertical-align: top;\n",
       "    }\n",
       "\n",
       "    .dataframe thead th {\n",
       "        text-align: right;\n",
       "    }\n",
       "</style>\n",
       "<table border=\"1\" class=\"dataframe\">\n",
       "  <thead>\n",
       "    <tr style=\"text-align: right;\">\n",
       "      <th></th>\n",
       "      <th>oob_r2</th>\n",
       "      <th>max_depth</th>\n",
       "      <th>max_features</th>\n",
       "      <th>n_estimators</th>\n",
       "    </tr>\n",
       "  </thead>\n",
       "  <tbody>\n",
       "    <tr>\n",
       "      <th>6</th>\n",
       "      <td>0.882461</td>\n",
       "      <td>10.0</td>\n",
       "      <td>5.0</td>\n",
       "      <td>150.0</td>\n",
       "    </tr>\n",
       "    <tr>\n",
       "      <th>0</th>\n",
       "      <td>0.875289</td>\n",
       "      <td>NaN</td>\n",
       "      <td>5.0</td>\n",
       "      <td>150.0</td>\n",
       "    </tr>\n",
       "    <tr>\n",
       "      <th>9</th>\n",
       "      <td>0.874590</td>\n",
       "      <td>20.0</td>\n",
       "      <td>5.0</td>\n",
       "      <td>150.0</td>\n",
       "    </tr>\n",
       "    <tr>\n",
       "      <th>10</th>\n",
       "      <td>0.874318</td>\n",
       "      <td>20.0</td>\n",
       "      <td>7.0</td>\n",
       "      <td>150.0</td>\n",
       "    </tr>\n",
       "  </tbody>\n",
       "</table>\n",
       "</div>"
      ],
      "text/plain": [
       "      oob_r2  max_depth  max_features  n_estimators\n",
       "6   0.882461       10.0           5.0         150.0\n",
       "0   0.875289        NaN           5.0         150.0\n",
       "9   0.874590       20.0           5.0         150.0\n",
       "10  0.874318       20.0           7.0         150.0"
      ]
     },
     "execution_count": 53,
     "metadata": {},
     "output_type": "execute_result"
    }
   ],
   "source": [
    "resultados = pd.DataFrame(resultados)\n",
    "resultados = pd.concat([resultados, resultados['params'].apply(pd.Series)], axis=1)\n",
    "resultados = resultados.drop(columns = 'params')\n",
    "resultados = resultados.sort_values('oob_r2', ascending=False)\n",
    "resultados.head(4)"
   ]
  },
  {
   "cell_type": "markdown",
   "id": "bc4a190c",
   "metadata": {},
   "source": [
    "Evidentemente, también se puede realizar el Grid basado en validación cruzada, igual que se ha realizado anteriormente para buscar el mejor valor para realizar la poda."
   ]
  },
  {
   "cell_type": "markdown",
   "id": "a3f335fc",
   "metadata": {},
   "source": [
    "### Ejercicios\n",
    "\n",
    "1. Utiliza el conjunto de datos de Iris y crea un árbol para predecir la clase de las flores. Recuerda establecer la semilla y el random_state (por ejemplo 123)\n",
    "\n",
    "   1.1 Crea un árbol de clasificación utilizando un hold out (70-30). Calcula todas las métricas que conozcas, incluyendo la curva ROC y el AUC, tanto para el train como para el test.\n",
    "\n",
    "   1.2 Dibuja el árbol que se ha creado con el 70% de los datos. Calcula el mejor valor de poda. ¿Qué conclusión se obtiene?\n",
    "\n",
    "   1.3 Crea una validación cruzada de 5 fold con un árbol de clasificación, utilizando como métrica \"accuracy\".\n",
    "\n",
    "   1.4 Compara los resultados en accuracy obtenidos en el 1.1 y en el ejercicio 1.3, ¿qué se puede concluir?\n",
    "   \n",
    "   1.5 ¿Cuáles son los hiperparámetros del árbol que has considerado? Calcula un grid de parámetros para verificar si es mejor utilizar el indice de Gini o la ganancia de información o establecer un máximo de profundidad.\n",
    " \n",
    "Notas: Para el cálcula de las métricas, como ahora tenemos 3 clases, hay que incluir en precision_score, recall_score y f1_score, el parámetro average=None, para que no devuelva una media sino el valor para cada una de las clases. Estas funciones sólo funcionan para tarjet binarios sin ese parámetro.\n"
   ]
  },
  {
   "cell_type": "code",
   "execution_count": null,
   "id": "d3ed5865",
   "metadata": {},
   "outputs": [],
   "source": []
  },
  {
   "cell_type": "markdown",
   "id": "bb9c7335",
   "metadata": {},
   "source": [
    "2. Utiliza de nuevo el conjunto de datos de Iris, pero esta vez utiliza un modelo de Random Forest. Crea ensamble con un hold-out de 70-30 y calcula las métricas. Dibuja dos árboles de los que crea el modelo.\n",
    "\n",
    "   2.1 Haz un grid para averiguar los mejores parámetros, investiga y utiliza la búsqueda de parámetros aleatoria. Incluye los parámetros que creas más relevantes. ¿Cuáles son los mejores hiperparámetros? ¿Con qué modelo obtienes mejores resultados, con el árbol de decisión o con el Random Forest?\n",
    "  \n"
   ]
  },
  {
   "cell_type": "code",
   "execution_count": null,
   "id": "06d819e1",
   "metadata": {},
   "outputs": [],
   "source": []
  },
  {
   "cell_type": "markdown",
   "id": "7510c6c5",
   "metadata": {},
   "source": [
    "3. Carga el conjunto de datos de 'Concrete_Data.csv' proporcionado junto con este notebook. Antes de crear ningún modelo, analiza los datos y observa si hay que hacer alguna transformación en ellos. \n",
    "   \n",
    "    3.1 Crea un árbol de regresión para predecir la variable 'Concrete_ compressive' utiliando un hold-out 70-30. Recuerda indicar la semilla y pon profundidad máxima. Además, verifica si es necesario hacer poda y cuál sería el mejor parámetros para realizarla. Dibuja el árbol creado sin poda y con poda si esta fuera necesaria.\n",
    "\n"
   ]
  },
  {
   "cell_type": "markdown",
   "id": "c77a10c3",
   "metadata": {},
   "source": [
    "4. Utiliza de nuevo el conjunto de datos de 'Concrete_Data.csv' pero esta vez crea un modelo con el ensamble Random Forest con el mismo hold-out 70-30. ¿Cuáles son los mejores hiperparámetros? Realiza una comparativa de los resultados de Random Forest con el árbol de decisión."
   ]
  },
  {
   "cell_type": "code",
   "execution_count": null,
   "id": "d0e6d615",
   "metadata": {},
   "outputs": [],
   "source": []
  }
 ],
 "metadata": {
  "colab": {
   "provenance": []
  },
  "kernelspec": {
   "display_name": "Python 3",
   "language": "python",
   "name": "python3"
  },
  "language_info": {
   "codemirror_mode": {
    "name": "ipython",
    "version": 3
   },
   "file_extension": ".py",
   "mimetype": "text/x-python",
   "name": "python",
   "nbconvert_exporter": "python",
   "pygments_lexer": "ipython3",
   "version": "3.9.20"
  }
 },
 "nbformat": 4,
 "nbformat_minor": 5
}
