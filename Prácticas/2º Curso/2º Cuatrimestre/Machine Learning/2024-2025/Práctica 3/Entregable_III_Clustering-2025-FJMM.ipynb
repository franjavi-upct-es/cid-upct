{
  "cells": [
    {
      "cell_type": "markdown",
      "metadata": {
        "id": "rzk_cxYod6HB"
      },
      "source": [
        "# Entregable 3.1 - Clústering\n",
        "\n",
        "Francisco Javier Mercader Martínez\n",
        "\n",
        "## Machine Learning I. Grado en Ciencia de datos\n",
        "\n",
        "Los siguientes ejercicios tienen que ser entregados dentro de las dos horas de prácticas. Como realizar el entregable:\n",
        "\n",
        "\n",
        "-   La realización se debe de hacer de forma  **INDIVIDUAL**\n",
        "-   Se debe de enviar un notebook con el código y las explicaciones, comentarios, análisis y justificaciones en Markdown.\n",
        "-   Reproducibilidad:\n",
        "    -   Se debe de establecer una variable semilla con un número al inicio, esta variables será la que se utilice para el np.random_seed y para el random_state.\n",
        "    -   Las bases de datos se cargan con rutas relativas.\n",
        "-   El notebook se debe de subir a la tarea del aula virtual creada antes de la finalización de la hora de clase. (Ver tarea y fecha de cierre).\n",
        "\n",
        "**DATASET** \n",
        "El dataset \"Mall_customers.csv\"  es un conjunto de datos que recogen información de clientes sobre su gasto anual en una gran superficie. El separador entre atributos es el ','.\n"
      ]
    },
    {
      "cell_type": "code",
      "execution_count": 1,
      "metadata": {},
      "outputs": [],
      "source": [
        "import pandas as pd\n",
        "import matplotlib.pyplot as plt\n",
        "import numpy as np\n",
        "import sklearn.metrics as metrics\n",
        "from sklearn.preprocessing import StandardScaler\n",
        "from scipy.cluster import vq, hierarchy\n",
        "from sklearn.cluster import KMeans,DBSCAN\n",
        "import warnings\n",
        "warnings.filterwarnings('ignore')\n",
        "\n",
        "%matplotlib inline"
      ]
    },
    {
      "cell_type": "code",
      "execution_count": 2,
      "metadata": {},
      "outputs": [],
      "source": [
        "random_seed = 1234\n",
        "\n",
        "np.random.seed(random_seed)"
      ]
    },
    {
      "cell_type": "markdown",
      "metadata": {},
      "source": [
        "### EJERCICIO"
      ]
    },
    {
      "cell_type": "markdown",
      "metadata": {},
      "source": [
        "\n",
        "1. Carga el dataset \"Mall_customers.csv\", ¿cuántas características tiene?. Realiza el resto de apartados a partir de este conjunto de datos.\n",
        "\n",
        "    Analiza los datos y realiza las operaciones oportunas para que estén preparados para aplicar técnicas de clústering. Justifica las transformaciones realizadas."
      ]
    },
    {
      "cell_type": "code",
      "execution_count": 3,
      "metadata": {},
      "outputs": [
        {
          "data": {
            "text/html": [
              "<div>\n",
              "<style scoped>\n",
              "    .dataframe tbody tr th:only-of-type {\n",
              "        vertical-align: middle;\n",
              "    }\n",
              "\n",
              "    .dataframe tbody tr th {\n",
              "        vertical-align: top;\n",
              "    }\n",
              "\n",
              "    .dataframe thead th {\n",
              "        text-align: right;\n",
              "    }\n",
              "</style>\n",
              "<table border=\"1\" class=\"dataframe\">\n",
              "  <thead>\n",
              "    <tr style=\"text-align: right;\">\n",
              "      <th></th>\n",
              "      <th>Annual Income (k$)</th>\n",
              "      <th>Spending Score (1-100)</th>\n",
              "      <th>Gender_Male</th>\n",
              "    </tr>\n",
              "    <tr>\n",
              "      <th>Age</th>\n",
              "      <th></th>\n",
              "      <th></th>\n",
              "      <th></th>\n",
              "    </tr>\n",
              "  </thead>\n",
              "  <tbody>\n",
              "    <tr>\n",
              "      <th>19</th>\n",
              "      <td>15</td>\n",
              "      <td>39</td>\n",
              "      <td>1</td>\n",
              "    </tr>\n",
              "    <tr>\n",
              "      <th>21</th>\n",
              "      <td>15</td>\n",
              "      <td>81</td>\n",
              "      <td>1</td>\n",
              "    </tr>\n",
              "    <tr>\n",
              "      <th>20</th>\n",
              "      <td>16</td>\n",
              "      <td>6</td>\n",
              "      <td>0</td>\n",
              "    </tr>\n",
              "    <tr>\n",
              "      <th>23</th>\n",
              "      <td>16</td>\n",
              "      <td>77</td>\n",
              "      <td>0</td>\n",
              "    </tr>\n",
              "    <tr>\n",
              "      <th>31</th>\n",
              "      <td>17</td>\n",
              "      <td>40</td>\n",
              "      <td>0</td>\n",
              "    </tr>\n",
              "    <tr>\n",
              "      <th>...</th>\n",
              "      <td>...</td>\n",
              "      <td>...</td>\n",
              "      <td>...</td>\n",
              "    </tr>\n",
              "    <tr>\n",
              "      <th>35</th>\n",
              "      <td>120</td>\n",
              "      <td>79</td>\n",
              "      <td>0</td>\n",
              "    </tr>\n",
              "    <tr>\n",
              "      <th>45</th>\n",
              "      <td>126</td>\n",
              "      <td>28</td>\n",
              "      <td>0</td>\n",
              "    </tr>\n",
              "    <tr>\n",
              "      <th>32</th>\n",
              "      <td>126</td>\n",
              "      <td>74</td>\n",
              "      <td>1</td>\n",
              "    </tr>\n",
              "    <tr>\n",
              "      <th>32</th>\n",
              "      <td>137</td>\n",
              "      <td>18</td>\n",
              "      <td>1</td>\n",
              "    </tr>\n",
              "    <tr>\n",
              "      <th>30</th>\n",
              "      <td>137</td>\n",
              "      <td>83</td>\n",
              "      <td>1</td>\n",
              "    </tr>\n",
              "  </tbody>\n",
              "</table>\n",
              "<p>200 rows × 3 columns</p>\n",
              "</div>"
            ],
            "text/plain": [
              "     Annual Income (k$)  Spending Score (1-100)  Gender_Male\n",
              "Age                                                         \n",
              "19                   15                      39            1\n",
              "21                   15                      81            1\n",
              "20                   16                       6            0\n",
              "23                   16                      77            0\n",
              "31                   17                      40            0\n",
              "..                  ...                     ...          ...\n",
              "35                  120                      79            0\n",
              "45                  126                      28            0\n",
              "32                  126                      74            1\n",
              "32                  137                      18            1\n",
              "30                  137                      83            1\n",
              "\n",
              "[200 rows x 3 columns]"
            ]
          },
          "execution_count": 3,
          "metadata": {},
          "output_type": "execute_result"
        }
      ],
      "source": [
        "df = pd.read_csv('Mall_customers.csv', index_col=0)\n",
        "\n",
        "df"
      ]
    },
    {
      "cell_type": "code",
      "execution_count": 4,
      "metadata": {},
      "outputs": [
        {
          "name": "stdout",
          "output_type": "stream",
          "text": [
            "<class 'pandas.core.frame.DataFrame'>\n",
            "Int64Index: 200 entries, 19 to 30\n",
            "Data columns (total 3 columns):\n",
            " #   Column                  Non-Null Count  Dtype\n",
            "---  ------                  --------------  -----\n",
            " 0   Annual Income (k$)      200 non-null    int64\n",
            " 1   Spending Score (1-100)  200 non-null    int64\n",
            " 2   Gender_Male             200 non-null    int64\n",
            "dtypes: int64(3)\n",
            "memory usage: 6.2 KB\n"
          ]
        }
      ],
      "source": [
        "df.info()"
      ]
    },
    {
      "cell_type": "markdown",
      "metadata": {},
      "source": [
        "El dataset presenta 3 características. Vamos a comprobar cómo están distribuidos los datos, para ver si es necesario una estandarización de los mismos. Para ello podemos realizar un gráfico de barras."
      ]
    },
    {
      "cell_type": "code",
      "execution_count": 5,
      "metadata": {},
      "outputs": [
        {
          "data": {
            "text/plain": [
              "<AxesSubplot:>"
            ]
          },
          "execution_count": 5,
          "metadata": {},
          "output_type": "execute_result"
        },
        {
          "data": {
            "image/png": "[encoded data removed]",
            "text/plain": [
              "<Figure size 432x288 with 1 Axes>"
            ]
          },
          "metadata": {
            "needs_background": "light"
          },
          "output_type": "display_data"
        }
      ],
      "source": [
        "df.boxplot(grid=False, vert=False)"
      ]
    },
    {
      "cell_type": "markdown",
      "metadata": {},
      "source": [
        "Como se puede apreciar es necesario que transformar los datos para que estos estén en la misma escala y los podamos comparar."
      ]
    },
    {
      "cell_type": "code",
      "execution_count": 6,
      "metadata": {},
      "outputs": [
        {
          "data": {
            "text/plain": [
              "<AxesSubplot:>"
            ]
          },
          "execution_count": 6,
          "metadata": {},
          "output_type": "execute_result"
        },
        {
          "data": {
            "image/png": "[encoded data removed]",
            "text/plain": [
              "<Figure size 432x288 with 1 Axes>"
            ]
          },
          "metadata": {
            "needs_background": "light"
          },
          "output_type": "display_data"
        }
      ],
      "source": [
        "scaler = StandardScaler()\n",
        "scaler.fit(df)\n",
        "data_scaled = scaler.transform(df)\n",
        "\n",
        "df_scaled = pd.DataFrame(data_scaled, columns=df.columns, index=df.index)\n",
        "df_scaled.boxplot(grid=False, vert=False)"
      ]
    },
    {
      "cell_type": "markdown",
      "metadata": {},
      "source": [
        "2. Aplica el clustering jerárquico de la librería `Scipy`, muestra el dendograma. ¿Según el dendograma, cuáles podrían ser el número de clústeres óptimos? Justifica tu respuesta. ¿Qué parámetros le has puesto?"
      ]
    },
    {
      "cell_type": "code",
      "execution_count": 7,
      "metadata": {},
      "outputs": [
        {
          "data": {
            "image/png": "[encoded data removed]",
            "text/plain": [
              "<Figure size 3600x720 with 1 Axes>"
            ]
          },
          "metadata": {
            "needs_background": "light"
          },
          "output_type": "display_data"
        }
      ],
      "source": [
        "Hier_ward_scaled = hierarchy.linkage(df_scaled, method='ward', metric='euclidean')\n",
        "\n",
        "fig = plt.figure(figsize=(50, 10))\n",
        "dn = hierarchy.dendrogram(Hier_ward_scaled,labels=df_scaled.index,leaf_font_size=12)"
      ]
    },
    {
      "cell_type": "markdown",
      "metadata": {},
      "source": [
        "3. Utiliza un procedimiento, utilizando el índice silueta, para determinar el número óptimo de clústers utilizando la técnica de clústering jerárquico de la librería Sklearn, devolviendo el valor de 'k' óptimo y la asignación de cluster resultante."
      ]
    },
    {
      "cell_type": "code",
      "execution_count": 8,
      "metadata": {},
      "outputs": [
        {
          "name": "stdout",
          "output_type": "stream",
          "text": [
            "Número óptimo de clusters: 5 (silhouette = 0.5525)\n"
          ]
        }
      ],
      "source": [
        "from sklearn.metrics import silhouette_score\n",
        "from scipy.cluster.hierarchy import linkage, fcluster\n",
        "\n",
        "def encontrar_k_optimo(df, min_k=2, max_k=20, metric='euclidean', method='ward'):\n",
        "    mejores_scores = []\n",
        "    \n",
        "    # Generar el linkage\n",
        "    Z = linkage(df, method=method)\n",
        "    \n",
        "    for k in range(min_k, max_k+1):\n",
        "        etiquetas = fcluster(Z, k, criterion='maxclust')\n",
        "        score = silhouette_score(df, etiquetas, metric=metric)\n",
        "        mejores_scores.append((k, score))\n",
        "    \n",
        "    # Elegir el k con mayor score\n",
        "    mejor_k, mejor_score = max(mejores_scores, key=lambda x: x[1])\n",
        "    \n",
        "    print(f\"Número óptimo de clusters: {mejor_k} (silhouette = {mejor_score:.4f})\")\n",
        "    return mejor_k, mejores_scores\n",
        "\n",
        "k_optimo, scores = encontrar_k_optimo(df, min_k=2)"
      ]
    },
    {
      "cell_type": "markdown",
      "metadata": {},
      "source": [
        "4. Estima el número de clústeres óptimo mediante la regla del codo en la técnica de Kmeans de Sklearn. ¿Cuál es el número óptimo de clúster? Justifica la respuesta. \n",
        "\n",
        "    Ahora utiliza un procedimiento, empleando el índice de Davies-Bouldin, para determinar el número óptimo de clústers en Kmeans de Sklearn. Devuelve el valor de 'k' óptimo y la asignación de cluster resultante."
      ]
    },
    {
      "cell_type": "code",
      "execution_count": 9,
      "metadata": {},
      "outputs": [
        {
          "data": {
            "image/png": "[encoded data removed]",
            "text/plain": [
              "<Figure size 432x288 with 1 Axes>"
            ]
          },
          "metadata": {
            "needs_background": "light"
          },
          "output_type": "display_data"
        }
      ],
      "source": [
        "wss = []\n",
        "\n",
        "for k in range(2, 20):\n",
        "    clusters_kmeans = KMeans(n_clusters=k, random_state=0, n_init=10)\n",
        "    clusters_kmeans.fit(df_scaled)\n",
        "    wss.append(clusters_kmeans.inertia_)\n",
        "    \n",
        "plt.plot(range(2, 20), wss, marker='o')\n",
        "plt.xlabel('Número de clusters')\n",
        "plt.ylabel('Distancia intracluster')\n",
        "plt.title('Método del codo')\n",
        "plt.xticks(range(2, 20, 2))\n",
        "plt.grid(True)\n",
        "plt.show()"
      ]
    },
    {
      "cell_type": "markdown",
      "metadata": {},
      "source": [
        "Considero que el número óptimo de clusters deberían ser 5 o 6 ya que a partir de ahí la distancia intracluster no disminuye tanto."
      ]
    },
    {
      "cell_type": "code",
      "execution_count": 10,
      "metadata": {},
      "outputs": [
        {
          "data": {
            "text/plain": [
              "0.9556208250617397"
            ]
          },
          "execution_count": 10,
          "metadata": {},
          "output_type": "execute_result"
        }
      ],
      "source": [
        "clusters_ward = hierarchy.cut_tree(Hier_ward_scaled, n_clusters=k_optimo) # Definimos los 5 clusters que consideramos óptimos anteriormente\n",
        "\n",
        "metrics.davies_bouldin_score(df_scaled, labels = clusters_ward)"
      ]
    },
    {
      "cell_type": "markdown",
      "metadata": {},
      "source": [
        "5. Aplica la técnica de clústering DBSCAN, para ello hay que crear el procedimiento para calcular sus parámetros óptimos. Utiliza como medida el índice silueta. Devuelve los parámetros óptimos y la asignación de cluster resultante. ¿Hay algún ejemplo no asignado a algún clúster? Justifica la respuesta. Fija el parámetro `min_samples`, según se indica en los apuntes, a un valor igual a $2*n\\_variables -1$."
      ]
    },
    {
      "cell_type": "code",
      "execution_count": 11,
      "metadata": {},
      "outputs": [
        {
          "data": {
            "image/png": "[encoded data removed]",
            "text/plain": [
              "<Figure size 720x432 with 1 Axes>"
            ]
          },
          "metadata": {
            "needs_background": "light"
          },
          "output_type": "display_data"
        }
      ],
      "source": [
        "from sklearn.neighbors import NearestNeighbors\n",
        "\n",
        "# Llamamos a la función NearestNeighbors para calcular la distancia a los 4 vecinos más cercanos.\n",
        "neighbors = NearestNeighbors(n_neighbors=4).fit(df_scaled)\n",
        "\n",
        "# Extraemos las distancias y los índices de los vecinos más cercanos con la función kneighbors().\n",
        "distances, indices = neighbors.kneighbors(df_scaled)\n",
        "\n",
        "# Elimina la primera columna ya que contiene la distancia de cada punto consigo mismo\n",
        "distances = distances[:,1:].reshape(-1)\n",
        "\n",
        "# Transforma la matriz de distancia en una array de dimensión 1.\n",
        "distances = distances.reshape(-1)\n",
        "\n",
        "# Ordena las distancias en orden descendente\n",
        "distances = np.sort(distances, axis=0)\n",
        "\n",
        "# Crea un gráfico en el que el eje y represente las distancias.\n",
        "plt.figure(figsize=(10, 6))\n",
        "plt.plot(distances)\n",
        "plt.show()"
      ]
    },
    {
      "cell_type": "markdown",
      "metadata": {},
      "source": [
        "Cómo se puede apreciar en el gráfico hay dos cambios de tendencia, uno muy evidente en torno a 0.5 y otro, más suave cercano a 0.1.\n",
        "\n"
      ]
    },
    {
      "cell_type": "code",
      "execution_count": 12,
      "metadata": {},
      "outputs": [
        {
          "data": {
            "text/plain": [
              "array([-1,  0,  1,  1, -1,  1,  1, -1, -1,  1, -1, -1,  1,  1, -1,  0,  1,\n",
              "        0, -1, -1, -1,  0,  1,  0,  1,  0,  1,  0,  1,  1, -1,  1, -1,  0,\n",
              "        1,  1,  1,  1,  1,  1,  1, -1,  2,  1,  1,  1,  1,  1,  1,  1,  1,\n",
              "        2,  1,  2,  1,  2,  1,  2,  1,  2,  2,  2,  1,  1,  2,  2,  1,  1,\n",
              "        2,  1,  2,  1,  1,  1,  2,  2,  1,  2,  1,  1,  2,  2,  2,  1,  1,\n",
              "        2,  1,  1,  1,  1,  1,  2,  2,  1,  1,  2,  1,  1,  2,  2,  1,  1,\n",
              "        2,  2,  2,  1,  1,  2,  2,  2,  2,  1,  1,  2,  1,  1,  1,  1,  1,\n",
              "        1,  2,  1,  1,  3,  1,  4,  2,  3,  5, -1,  5, -1,  1,  4,  5,  4,\n",
              "        1, -1,  5,  4,  1,  3,  1,  4,  5,  3,  5,  4,  1,  3,  5,  3,  1,\n",
              "        4,  1,  4,  5,  4,  5,  4,  1,  4,  5,  4,  5,  4,  5,  4,  1, -1,\n",
              "        5, -1,  5,  3,  1,  4,  5, -1,  5,  3,  1,  4,  5,  4,  1,  3,  1,\n",
              "       -1, -1, -1,  1, -1, -1, -1, -1, -1, -1, -1, -1, -1], dtype=int64)"
            ]
          },
          "execution_count": 12,
          "metadata": {},
          "output_type": "execute_result"
        }
      ],
      "source": [
        "# min_samples = 2 * n_variables - 1 = 2 * 3 - 1 = 5\n",
        "\n",
        "clusters_dbscan = DBSCAN(eps=0.5, min_samples=5, metric='euclidean').fit(df_scaled)\n",
        "\n",
        "clusters_dbscan.labels_"
      ]
    },
    {
      "cell_type": "code",
      "execution_count": 14,
      "metadata": {},
      "outputs": [
        {
          "data": {
            "text/plain": [
              "0.3356"
            ]
          },
          "execution_count": 14,
          "metadata": {},
          "output_type": "execute_result"
        }
      ],
      "source": [
        "round(metrics.silhouette_score(df_scaled, labels=clusters_dbscan.labels_), 4)"
      ]
    },
    {
      "cell_type": "markdown",
      "metadata": {},
      "source": [
        "Como podemos apreciar, hay varios clusters marcados con la etiqueta `-1`, lo que implica que hay cierto ruido."
      ]
    },
    {
      "cell_type": "markdown",
      "metadata": {},
      "source": [
        "6. Compara los resultados de los métodos de los ejercicio 3, 4 y 5. Recuerda analizar y justificar los resultados en función de la medida de la calidad empleada. ¿Qué técnica parece que funciona mejor y por qué?"
      ]
    },
    {
      "cell_type": "markdown",
      "metadata": {},
      "source": [
        "KMeans ha funcionado relativamente mejor que DBSCAN, viendo que su silueta tiene un valor más cercano a 1.\n",
        "\n",
        "- `KMeans`: 0.5525\n",
        "- `DBSCAN`: 0.3356"
      ]
    }
  ],
  "metadata": {
    "colab": {
      "provenance": []
    },
    "kernelspec": {
      "display_name": "Entorno_virtual_24_25",
      "language": "python",
      "name": "python3"
    },
    "language_info": {
      "codemirror_mode": {
        "name": "ipython",
        "version": 3
      },
      "file_extension": ".py",
      "mimetype": "text/x-python",
      "name": "python",
      "nbconvert_exporter": "python",
      "pygments_lexer": "ipython3",
      "version": "3.9.7"
    }
  },
  "nbformat": 4,
  "nbformat_minor": 0
}
