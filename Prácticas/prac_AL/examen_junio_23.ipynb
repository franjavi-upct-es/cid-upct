{
 "cells": [
  {
   "attachments": {},
   "cell_type": "markdown",
   "metadata": {},
   "source": [
    "# Examen de prácticas. Curso 22-23. Convocatoria Junio 2023"
   ]
  },
  {
   "attachments": {},
   "cell_type": "markdown",
   "metadata": {},
   "source": [
    "## Matrices de Similitud y Aplicación en Ciencia de Datos "
   ]
  },
  {
   "attachments": {},
   "cell_type": "markdown",
   "metadata": {},
   "source": [
    "Algunos algoritmos de **Machine Learning** (por ejemplo las **Máquinas de Vector Soporte**, que se pueden usar para separar conjuntos de datos) trabajan de manera más eficaz no sobre el conjunto inicial de datos sino sobre otros datos que se obtienen a partir de los anteriores haciendo una determinada transformación (es lo que se suele llamar **kernel trick**, truco del núcleo).\n",
    "\n",
    "En este ejercicio veremos un ejemplo sencillo de en qué consiste todo esto.\n"
   ]
  },
  {
   "attachments": {},
   "cell_type": "markdown",
   "metadata": {},
   "source": [
    "Supongamos que tenemos datos almacenados en una determinada matriz $D$. Típicamente, las filas de $D$ denotan muestras (samples) de un determinado proceso o fenómeno, y las columnas guardan las características (features) de dicho fenómeno. Por ejemplo, las características podrían ser datos médicos (colesterol, azúcar, tensión arterial) de un grupo de personas. Cada fila contendría estas tres características para cada persona.\n",
    "\n",
    "Como ilustración, genera una matriz $D$ con tamaño $5$ filas y $3$ columnas formada por números aleatorios de tipo **float64**. Imprime en pantalla la matriz resultante.\n",
    "\n",
    "**Puntos = 0.5**"
   ]
  },
  {
   "cell_type": "code",
   "execution_count": 3,
   "metadata": {},
   "outputs": [
    {
     "name": "stdout",
     "output_type": "stream",
     "text": [
      "D = \n",
      "[[ 0.33368847 -2.31118679  0.34194347]\n",
      " [ 0.47100135  0.95334232  0.639313  ]\n",
      " [ 0.52410668 -0.69793707 -0.80471069]\n",
      " [ 0.71973439  0.67552741 -1.23755509]\n",
      " [-0.16104805  1.62382354 -0.77319744]]\n",
      "Tipo de datos en D = float64\n"
     ]
    }
   ],
   "source": [
    "# Completar aquí\n",
    "\n",
    "import numpy as np\n",
    "\n",
    "D = np.random.randn(5, 3)\n",
    "print(f\"D = \\n{D}\")\n",
    "print(f\"Tipo de datos en D = {D.dtype}\")\n",
    "\n",
    "# Fin Completar aquí ------------------------------------\n"
   ]
  },
  {
   "attachments": {},
   "cell_type": "markdown",
   "metadata": {},
   "source": [
    "Una forma sencilla de construir una matriz de similitud para los datos anteriores es considerando la matriz $S$ con entradas $s_{ij}$ el producto escalar de las fila i-ésima y j-ésima de $D$, es decir, $S = D D^T$, con $D^T$ la traspuesta de $D$. Este tipo de transformación se llama en Machine Learning un **Linear Kernel**. \n",
    "\n",
    "Construye la matriz $$S = D D^T,$$\n",
    "\n",
    "imprímela en pantalla y usa un operador booleano para comprobar que $S$ es simétrica.\n",
    "\n",
    "**Puntos = 0.5**"
   ]
  },
  {
   "cell_type": "code",
   "execution_count": 4,
   "metadata": {},
   "outputs": [
    {
     "name": "stdout",
     "output_type": "stream",
     "text": [
      "S = \n",
      " [[ 5.56985773 -1.82757555  1.51278573 -1.74427685 -4.07108922]\n",
      " [-1.82757555  1.53942496 -0.93297999  0.19181969  0.97789068]\n",
      " [ 1.51278573 -0.93297999  1.40936326  0.90161579 -0.59553276]\n",
      " [-1.74427685  0.19181969  0.90161579  2.50589748  1.93789992]\n",
      " [-4.07108922  0.97789068 -0.59553276  1.93789992  3.26057365]]\n",
      "¿Es S simétrica ? True\n"
     ]
    }
   ],
   "source": [
    "# Completar aquí\n",
    "\n",
    "S = D @ D.T\n",
    "\n",
    "print(f\"S = \\n {S}\")\n",
    "print(f\"¿Es S simétrica ? {np.all(S == S.T)}\")\n",
    "\n",
    "# Fin Completar aquí ------------------------------------"
   ]
  },
  {
   "attachments": {},
   "cell_type": "markdown",
   "metadata": {},
   "source": [
    "Nótese que, desde el punto de vista del Álgebra Lineal, la matriz $S$ es mucho más rica que $D$. En efecto, $S$ es simétrica (también semidefinida positiva), y ser simétrica y semidefinida positiva son grandes virtudes en Álgebra Lineal.\n",
    "\n",
    "Ya sabemos cómo a partir de la matriz inicial de datos $D$ podemos contruir una matriz de similitud $S$. Basta tomar $S = D D^T$. \n",
    "\n",
    "Imaginemos ahora que partimos de la matriz $S$. ¿Es posible recuperar la matriz inicial $D$? Es decir, ¿existe una matriz $D$ tal que $S = D D^T$? La respuesta es SI. De hecho, existen muchas matrices $D$. \n",
    "\n",
    "Veremos a continuación $2$ formas diferentes de calcular $D$.\n"
   ]
  },
  {
   "attachments": {},
   "cell_type": "markdown",
   "metadata": {},
   "source": [
    "**Primera forma: factorización en autovalores**\n",
    "\n",
    "Calculamos la factorización en valores propios de $S$, es decir, escribimos $S=Q\\Sigma Q^T$, con $Q$ ortogonal y $D$ diagonal. Como los autovalores de $S$ son no negativos, se tiene\n",
    "\n",
    "$$\n",
    "S = (Q \\sqrt{\\Sigma}) (Q \\sqrt{\\Sigma})^T\n",
    "$$\n",
    "donde $\\sqrt{\\Sigma}$ es una matriz diagonal que contine en su diagonal principal las raíces cuadradas de los autovalores de $S$. De esta forma, $D = Q \\sqrt{\\Sigma}$. \n",
    "\n",
    "Se pide:\n",
    "\n",
    "1) Calcula (e imprime por pantalla) los autovalores de $S$, redondea los autovalores a $10$ cifras decimales, y calcula la raíz cuadrada de los autovalores redondeados.\n",
    "\n",
    "2) Calcula (e imprime por pantalla) las matrices $Q$, $\\Sigma$, $\\sqrt{\\Sigma}$.\n",
    "\n",
    "3) Calcula (e imprime por pantalla) $(Q \\sqrt{\\Sigma}) (Q \\sqrt{\\Sigma})^T$ y compara con $S$.\n",
    "\n",
    "\n",
    "\n",
    "**Puntos = 4**\n"
   ]
  },
  {
   "cell_type": "code",
   "execution_count": 8,
   "metadata": {},
   "outputs": [
    {
     "name": "stdout",
     "output_type": "stream",
     "text": [
      "autovalores = [ 1.02596379e+01  3.23557046e+00  7.89908692e-01  1.65280360e-16\n",
      " -7.77332446e-17]\n",
      "autovalores_redondeados = [10.25963794  3.23557046  0.78990869  0.         -0.        ]\n",
      "raiz_cuadrada_autovalores = [ 3.20306696  1.79876915  0.88876808  0.         -0.        ]\n",
      "Q = \n",
      " [[-0.72913832  0.16528692 -0.18488543  0.39811951 -0.42104262]\n",
      " [ 0.23777296 -0.33054069 -0.87579774  0.25029669  0.11009311]\n",
      " [-0.15729137  0.59440978 -0.12495031  0.30431338  0.75891662]\n",
      " [ 0.28928407  0.6945452  -0.33091781 -0.40874781 -0.46203589]\n",
      " [ 0.55081347  0.16645441  0.27143419  0.72053523 -0.14550264]]\n",
      "Sigma = \n",
      " [[ 1.02596379e+01  0.00000000e+00  0.00000000e+00  0.00000000e+00\n",
      "   0.00000000e+00]\n",
      " [ 0.00000000e+00  3.23557046e+00  0.00000000e+00  0.00000000e+00\n",
      "   0.00000000e+00]\n",
      " [ 0.00000000e+00  0.00000000e+00  7.89908692e-01  0.00000000e+00\n",
      "   0.00000000e+00]\n",
      " [ 0.00000000e+00  0.00000000e+00  0.00000000e+00  1.65280360e-16\n",
      "   0.00000000e+00]\n",
      " [ 0.00000000e+00  0.00000000e+00  0.00000000e+00  0.00000000e+00\n",
      "  -7.77332446e-17]]\n",
      "raiz_cuadrada_Sigma = \n",
      " [[ 3.20306696  0.          0.          0.          0.        ]\n",
      " [ 0.          1.79876915  0.          0.          0.        ]\n",
      " [ 0.          0.          0.88876808  0.          0.        ]\n",
      " [ 0.          0.          0.          0.          0.        ]\n",
      " [ 0.          0.          0.          0.         -0.        ]]\n",
      "(Q raiz_cuadrada_Sigma) (Q raiz_cuadrada_Sigma) ^T = \n",
      " [[ 5.56985773 -1.82757555  1.51278573 -1.74427685 -4.07108922]\n",
      " [-1.82757555  1.53942496 -0.93297999  0.19181969  0.97789068]\n",
      " [ 1.51278573 -0.93297999  1.40936326  0.90161579 -0.59553276]\n",
      " [-1.74427685  0.19181969  0.90161579  2.50589748  1.93789992]\n",
      " [-4.07108922  0.97789068 -0.59553276  1.93789992  3.26057365]]\n"
     ]
    }
   ],
   "source": [
    "# Completar aquí\n",
    "\n",
    "from numpy.linalg import eig\n",
    "\n",
    "autovalores, autovectores = eig(S)\n",
    "autovalores_redondeados = np.round(autovalores, 10)\n",
    "raiz_cuadrada_autovalores = np.sqrt(autovalores_redondeados)\n",
    "\n",
    "print(f\"autovalores = {autovalores}\")\n",
    "\n",
    "print(f\"autovalores_redondeados = {autovalores_redondeados}\")\n",
    "\n",
    "print(f\"raiz_cuadrada_autovalores = {raiz_cuadrada_autovalores}\")\n",
    "\n",
    "\n",
    "Q = autovectores\n",
    "print(f\"Q = \\n {Q}\")\n",
    "\n",
    "Sigma = np.diag(autovalores)\n",
    "print(f\"Sigma = \\n {Sigma}\")\n",
    "\n",
    "raiz_cuadrada_Sigma = np.diag(raiz_cuadrada_autovalores)\n",
    "print(f\"raiz_cuadrada_Sigma = \\n {raiz_cuadrada_Sigma}\")\n",
    "\n",
    "print(f\"(Q raiz_cuadrada_Sigma) (Q raiz_cuadrada_Sigma) ^T = \\n {Q @ raiz_cuadrada_Sigma @ (Q @ raiz_cuadrada_Sigma).T}\")\n",
    "\n",
    "# Fin Completar aquí ------------------------------------"
   ]
  },
  {
   "attachments": {},
   "cell_type": "markdown",
   "metadata": {},
   "source": [
    "**Segunda forma: factorización Cholesky**\n",
    "\n",
    "La segunda forma consiste simplemente en calcular la factorización de Cholesky de $S$, que recordemos proporciona la descomposición $S = \\tilde{L} \\tilde{L}^T$.\n",
    "\n",
    "Calcula (e imprime por pantalla) la factorización de Cholesky de $S$, escrita en la forma anterior. Recuerda que **Python** calcula todo esto de una manera un poco diferente. También debes redondear $10$ cifras decimales para evitar problemas numéricos.\n",
    "\n",
    "**Puntos = 4 puntos**"
   ]
  },
  {
   "cell_type": "code",
   "execution_count": 9,
   "metadata": {},
   "outputs": [
    {
     "name": "stdout",
     "output_type": "stream",
     "text": [
      "L = \n",
      "  [[ 1.          0.          0.          0.          0.        ]\n",
      " [-0.32811889  1.          0.          0.          0.        ]\n",
      " [ 0.27160222 -0.4645921   1.          0.          0.        ]\n",
      " [-0.31316363 -0.40490053  1.50643249 -0.08321683  1.        ]\n",
      " [-0.7309144  -0.38085203  0.43223091  1.          0.        ]]\n",
      "Diag = \n",
      " [[5.56985773e+00 0.00000000e+00 0.00000000e+00 0.00000000e+00\n",
      "  0.00000000e+00]\n",
      " [0.00000000e+00 9.39762894e-01 0.00000000e+00 0.00000000e+00\n",
      "  0.00000000e+00]\n",
      " [0.00000000e+00 0.00000000e+00 7.95643412e-01 0.00000000e+00\n",
      "  0.00000000e+00]\n",
      " [0.00000000e+00 0.00000000e+00 0.00000000e+00 7.57832111e-16\n",
      "  0.00000000e+00]\n",
      " [0.00000000e+00 0.00000000e+00 0.00000000e+00 0.00000000e+00\n",
      "  8.26586846e-18]]\n",
      "P = \n",
      "  [0 1 2 4 3]\n",
      "diagonal de D = [5.56985773e+00 9.39762894e-01 7.95643412e-01 7.57832111e-16\n",
      " 8.26586846e-18]\n",
      "diagonal de D redondeados = [5.56985773 0.93976289 0.79564341 0.         0.        ]\n",
      "raiz_cuadrada_diag_valores_redondeados = [2.3600546  0.96941369 0.89198846 0.         0.        ]\n",
      "raiz_cuadrada_D = \n",
      " [[2.3600546  0.         0.         0.         0.        ]\n",
      " [0.         0.96941369 0.         0.         0.        ]\n",
      " [0.         0.         0.89198846 0.         0.        ]\n",
      " [0.         0.         0.         0.         0.        ]\n",
      " [0.         0.         0.         0.         0.        ]]\n",
      "L_tilde = \n",
      " [[ 2.3600546   0.          0.          0.          0.        ]\n",
      " [-0.7743785   0.96941369  0.          0.          0.        ]\n",
      " [ 0.64099607 -0.45038194  0.89198846  0.          0.        ]\n",
      " [-0.73908326 -0.39251612  1.3437204   0.          0.        ]\n",
      " [-1.7249979  -0.36920317  0.38554498  0.          0.        ]]\n",
      "L_tilde L_tilde^T = \n",
      " [[ 5.56985773 -1.82757555  1.51278573 -1.74427685 -4.07108922]\n",
      " [-1.82757555  1.53942496 -0.93297999  0.19181969  0.97789068]\n",
      " [ 1.51278573 -0.93297999  1.40936326  0.90161579 -0.59553276]\n",
      " [-1.74427685  0.19181969  0.90161579  2.50589748  1.93789992]\n",
      " [-4.07108922  0.97789068 -0.59553276  1.93789992  3.26057365]]\n"
     ]
    }
   ],
   "source": [
    "# Completar aquí\n",
    "\n",
    "from scipy.linalg import ldl\n",
    "\n",
    "L, Diag, P = ldl(S) # P es una matriz de permutación\n",
    "\n",
    "print(f\"L = \\n  {L}\")\n",
    "print(f\"Diag = \\n {Diag}\")\n",
    "print(f\"P = \\n  {P}\")\n",
    "\n",
    "diag_valores = np.diag(Diag)\n",
    "\n",
    "print(f\"diagonal de D = {diag_valores}\")\n",
    "\n",
    "diag_valores_redondeados = np.round(diag_valores, 10)\n",
    "\n",
    "print(f\"diagonal de D redondeados = {diag_valores_redondeados}\")\n",
    "\n",
    "raiz_cuadrada_diag_valores_redondeados = np.sqrt(diag_valores_redondeados)\n",
    "\n",
    "print(f\"raiz_cuadrada_diag_valores_redondeados = {raiz_cuadrada_diag_valores_redondeados}\")\n",
    "\n",
    "raiz_cuadrada_Diag =np.diag(raiz_cuadrada_diag_valores_redondeados)\n",
    "\n",
    "print(f\"raiz_cuadrada_D = \\n {raiz_cuadrada_Diag}\")\n",
    "\n",
    "\n",
    "L_tilde = np.dot(L, raiz_cuadrada_Diag)\n",
    "print(f\"L_tilde = \\n {L_tilde}\")\n",
    "\n",
    "print(f\"L_tilde L_tilde^T = \\n {np.dot(L_tilde, L_tilde.T)}\")\n",
    "\n",
    "\n",
    "# Fin Completar aquí ------------------------------------\n"
   ]
  },
  {
   "attachments": {},
   "cell_type": "markdown",
   "metadata": {},
   "source": [
    "Los kernel no lineales son más habituales en Machine Learning. Consideraremos a continuación un kernel cuadrático. En concreto, el dado por la expresión\n",
    "\n",
    "$$\n",
    "K = 3 S^2 +1, \\quad S = DD^T,\n",
    "$$\n",
    "\n",
    "donde $S^2$ significa que cada entrada de la matriz $S$ se eleva al cuadrado, y tanto el producto por $3$ como la suma de $1$ se entienden en el sentido de **broadcasting**.\n",
    "\n",
    "Calcula e imprime por pantalla $K$.\n",
    "\n",
    "**Puntos = 1 punto**"
   ]
  },
  {
   "cell_type": "code",
   "execution_count": 10,
   "metadata": {},
   "outputs": [
    {
     "name": "stdout",
     "output_type": "stream",
     "text": [
      "K = \n",
      " [[63.04663031  7.6800648   5.57704134  7.08500348 34.14753494]\n",
      " [ 7.6800648   5.73965842  2.74090333  1.07358959  2.91254037]\n",
      " [ 5.57704134  2.74090333  4.97260962  2.62582207  1.70931854]\n",
      " [ 7.08500348  1.07358959  2.62582207 13.55904438  8.51091223]\n",
      " [34.14753494  2.91254037  1.70931854  8.51091223 22.26268111]]\n"
     ]
    }
   ],
   "source": [
    "# Completar aquí\n",
    "\n",
    "K = 2 * S ** 2 + 1\n",
    "print(f\"K = \\n {K}\")\n",
    "\n",
    "# Fin Completar aquí ------------------------------------"
   ]
  }
 ],
 "metadata": {
  "kernelspec": {
   "display_name": "Python 3.9.7 ('base')",
   "language": "python",
   "name": "python3"
  },
  "language_info": {
   "codemirror_mode": {
    "name": "ipython",
    "version": 3
   },
   "file_extension": ".py",
   "mimetype": "text/x-python",
   "name": "python",
   "nbconvert_exporter": "python",
   "pygments_lexer": "ipython3",
   "version": "3.11.6"
  },
  "orig_nbformat": 4,
  "vscode": {
   "interpreter": {
    "hash": "5b7942d5250582435657b631091e80c90197a20165d810d5d60089372acdfcb0"
   }
  }
 },
 "nbformat": 4,
 "nbformat_minor": 2
}
