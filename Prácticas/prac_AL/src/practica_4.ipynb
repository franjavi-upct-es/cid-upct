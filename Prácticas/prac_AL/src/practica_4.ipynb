{
 "cells": [
  {
   "cell_type": "markdown",
   "metadata": {},
   "source": [
    "# Práctica 4. Vectores: aritmética y normas"
   ]
  },
  {
   "cell_type": "code",
   "execution_count": 1,
   "metadata": {},
   "outputs": [],
   "source": [
    "import numpy as np"
   ]
  },
  {
   "cell_type": "code",
   "execution_count": 2,
   "metadata": {},
   "outputs": [
    {
     "name": "stdout",
     "output_type": "stream",
     "text": [
      "a = [1 2 3]\n",
      "b = [1 2 3]\n"
     ]
    }
   ],
   "source": [
    "a = np.array([1,2,3])\n",
    "print(f\"a = {a}\")\n",
    "b = np.array([1,2,3])\n",
    "print(f\"b = {b}\")"
   ]
  },
  {
   "cell_type": "code",
   "execution_count": 4,
   "metadata": {},
   "outputs": [
    {
     "name": "stdout",
     "output_type": "stream",
     "text": [
      "a + b = [2 4 6]\n",
      "a - b = [0 0 0]\n"
     ]
    }
   ],
   "source": [
    "# suma y resta\n",
    "print(f\"a + b = {a+b}\")\n",
    "print(f\"a - b = {a-b}\")"
   ]
  },
  {
   "cell_type": "code",
   "execution_count": 6,
   "metadata": {},
   "outputs": [
    {
     "name": "stdout",
     "output_type": "stream",
     "text": [
      "a * b = [1 4 9]\n",
      "a / b = [1. 1. 1.]\n"
     ]
    }
   ],
   "source": [
    "# producto y división componente a componente\n",
    "print(f\"a * b = {a*b}\")\n",
    "print(f\"a / b = {a/b}\")"
   ]
  },
  {
   "cell_type": "code",
   "execution_count": 7,
   "metadata": {},
   "outputs": [
    {
     "name": "stdout",
     "output_type": "stream",
     "text": [
      "a.b = 14\n"
     ]
    }
   ],
   "source": [
    "# producto escalar\n",
    "\n",
    "print(f\"a.b = {a.dot(b)}\")"
   ]
  },
  {
   "cell_type": "code",
   "execution_count": 14,
   "metadata": {},
   "outputs": [
    {
     "name": "stdout",
     "output_type": "stream",
     "text": [
      "z1 = [1.+1.j 1.-1.j]\n",
      "z2 = [0.+0.j 0.+1.j]\n",
      "z1 + z2 = [1.+1.j 1.+0.j]\n",
      "z1 - z2 = [1.+1.j 1.-2.j]\n",
      "z1 * z2 = [0.+0.j 1.+1.j]\n",
      "z1 / z2 = [inf+infj -1. -1.j]\n"
     ]
    },
    {
     "name": "stderr",
     "output_type": "stream",
     "text": [
      "C:\\Users\\fcoja\\AppData\\Local\\Temp\\ipykernel_9440\\2107174226.py:10: RuntimeWarning: divide by zero encountered in true_divide\n",
      "  print(f\"z1 / z2 = {z1 / z2}\") # División componente a componente\n"
     ]
    }
   ],
   "source": [
    "# repasamos todo con números complejos\n",
    "z1 = np.array([1+1j, 1-1j])\n",
    "print(f\"z1 = {z1}\")\n",
    "z2 = 1j * np.arange(2,)\n",
    "print(f\"z2 = {z2}\")\n",
    "\n",
    "print(f\"z1 + z2 = {z1 + z2}\")\n",
    "print(f\"z1 - z2 = {z1 - z2}\")\n",
    "print(f\"z1 * z2 = {z1 * z2}\") # Producto componente a componente\n",
    "print(f\"z1 / z2 = {z1 / z2}\") # División componente a componente"
   ]
  },
  {
   "cell_type": "code",
   "execution_count": null,
   "metadata": {},
   "outputs": [],
   "source": []
  }
 ],
 "metadata": {
  "kernelspec": {
   "display_name": "base",
   "language": "python",
   "name": "python3"
  },
  "language_info": {
   "codemirror_mode": {
    "name": "ipython",
    "version": 3
   },
   "file_extension": ".py",
   "mimetype": "text/x-python",
   "name": "python",
   "nbconvert_exporter": "python",
   "pygments_lexer": "ipython3",
   "version": "3.9.12"
  }
 },
 "nbformat": 4,
 "nbformat_minor": 2
}
