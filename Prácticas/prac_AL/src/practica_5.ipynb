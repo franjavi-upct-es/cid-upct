{
 "cells": [
  {
   "cell_type": "code",
   "execution_count": 1,
   "metadata": {},
   "outputs": [],
   "source": [
    "import numpy as np"
   ]
  },
  {
   "cell_type": "code",
   "execution_count": 3,
   "metadata": {},
   "outputs": [
    {
     "name": "stdout",
     "output_type": "stream",
     "text": [
      "A = [[ 1  3  5]\n",
      " [ 7  9 11]]\n",
      "B = [[ 0  2  4]\n",
      " [ 6  8 10]]\n"
     ]
    }
   ],
   "source": [
    "A = np.array([\n",
    "    [1,3,5],\n",
    "    [7,9,11]\n",
    "])\n",
    "B = np.array([\n",
    "    [0,2,4],\n",
    "    [6,8,10]\n",
    "])\n",
    "print(f\"A = {A}\")\n",
    "print(f\"B = {B}\")"
   ]
  },
  {
   "cell_type": "code",
   "execution_count": 4,
   "metadata": {},
   "outputs": [
    {
     "name": "stdout",
     "output_type": "stream",
     "text": [
      "A + B = [[ 1  5  9]\n",
      " [13 17 21]]\n",
      "A - B = [[1 1 1]\n",
      " [1 1 1]]\n"
     ]
    }
   ],
   "source": [
    "# suma y resta\n",
    "print(f\"A + B = {A + B}\")\n",
    "print(f\"A - B = {A - B}\")"
   ]
  },
  {
   "cell_type": "code",
   "execution_count": 7,
   "metadata": {},
   "outputs": [
    {
     "name": "stdout",
     "output_type": "stream",
     "text": [
      "A.B = [[ 26  80]\n",
      " [ 62 224]]\n",
      "A @ B = [[ 26  80]\n",
      " [ 62 224]]\n"
     ]
    }
   ],
   "source": [
    "# producto de matrices\n",
    "print(f\"A.B = {A.dot(B.T)}\")\n",
    "print(f\"A @ B = {A @ B.T}\")"
   ]
  },
  {
   "cell_type": "code",
   "execution_count": 8,
   "metadata": {},
   "outputs": [
    {
     "name": "stdout",
     "output_type": "stream",
     "text": [
      "A * B \n",
      " = [[  0   6  20]\n",
      " [ 42  72 110]]\n"
     ]
    }
   ],
   "source": [
    "# producto de Hadamard de matrices (componente a componente)\n",
    "print(f\"A * B \\n = {A * B}\")"
   ]
  },
  {
   "cell_type": "code",
   "execution_count": null,
   "metadata": {},
   "outputs": [],
   "source": []
  }
 ],
 "metadata": {
  "kernelspec": {
   "display_name": "base",
   "language": "python",
   "name": "python3"
  },
  "language_info": {
   "codemirror_mode": {
    "name": "ipython",
    "version": 3
   },
   "file_extension": ".py",
   "mimetype": "text/x-python",
   "name": "python",
   "nbconvert_exporter": "python",
   "pygments_lexer": "ipython3",
   "version": "3.9.12"
  }
 },
 "nbformat": 4,
 "nbformat_minor": 2
}
