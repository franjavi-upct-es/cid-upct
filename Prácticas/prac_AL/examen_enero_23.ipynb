{
 "cells": [
  {
   "cell_type": "markdown",
   "metadata": {},
   "source": [
    "# Examen de prácticas. Curso 22-23. Convocatoria Enero 2023"
   ]
  },
  {
   "cell_type": "markdown",
   "metadata": {},
   "source": [
    "## Aplicación de la factorización SVD a la compresión de imágenes"
   ]
  },
  {
   "cell_type": "markdown",
   "metadata": {},
   "source": [
    "En este ejercicio veremos cómo se puede comprimir una imagen .jpeg haciendo uso de la Descomposición en Valores Singulares (SVD).\n"
   ]
  },
  {
   "attachments": {},
   "cell_type": "markdown",
   "metadata": {},
   "source": [
    "En la carpeta **data** contrarás el fichero **beltrami_adult.npy**, el cual almacena un array de numpy. Has de hacer los siguiente:\n",
    "\n",
    "1) Carga dicho fichero (recuerda que esto lo hicimos al final de la práctica dedicada a tensores) y guárdalo en una variable que llamaremos $M$.\n",
    "\n",
    "2) Cálcula la forma de dicho array\n",
    "\n",
    "3) Transforma el array que has cargado a una imagen del módulo PIL (revisa la práctica de tensores). Llama **beltrami** a la imagen resultante.\n",
    "\n",
    "4) Muestra por pantalla dicha imagen. Para ello, escribe **beltrami.show()**\n",
    "\n",
    "**Puntos = 0.5**\n",
    "\n"
   ]
  },
  {
   "cell_type": "code",
   "execution_count": 1,
   "metadata": {},
   "outputs": [
    {
     "name": "stdout",
     "output_type": "stream",
     "text": [
      "forma del array =  (228, 187)\n"
     ]
    }
   ],
   "source": [
    "# Completar aquí\n",
    "\n",
    "import numpy as np\n",
    "\n",
    "from PIL import Image\n",
    "\n",
    "M = np.load(\"../data/beltrami_adult.npy\")\n",
    "print(f\"forma del array =  {M.shape}\")\n",
    "\n",
    "beltrami = Image.fromarray(M)\n",
    "\n",
    "beltrami.show()\n",
    "\n",
    "# Fin Completar aquí ------------------------------------\n"
   ]
  },
  {
   "attachments": {},
   "cell_type": "markdown",
   "metadata": {},
   "source": [
    "Como puedes imaginar, la foto que ves en pantalla es de un matemático. En concreto, se trata del matemático italiano Eugenio Beltrami (1835 – 1900), uno de los precursores de la descomposición SVD (aunque en un contexto que nada tiene que ver con la Ciencia de Datos) ."
   ]
  },
  {
   "attachments": {},
   "cell_type": "markdown",
   "metadata": {},
   "source": [
    "Como puedes ver, Python ha almacenado dicha imagen en una matriz $M$ de tamaño $228\\times 187$. \n",
    "\n",
    "Como el número de filas es mayor que el de columnas, por razones técnicas que no interesan de momento, calcula la traspuesta de $M$ y guardarla en una matriz que llamaremos $A$.\n",
    "\n",
    "Para asegurarte, imprime la forma de la matriz $A$.\n",
    "\n",
    "Respecto de la imagen de Beltrami, esto supone girar dicha imagen. \n",
    "\n",
    "**Puntos = 0.25**\n",
    "\n"
   ]
  },
  {
   "cell_type": "code",
   "execution_count": 2,
   "metadata": {},
   "outputs": [
    {
     "name": "stdout",
     "output_type": "stream",
     "text": [
      "forma de A = (187, 228)\n"
     ]
    }
   ],
   "source": [
    "# Completar aquí\n",
    "\n",
    "A = M.T\n",
    "\n",
    "print(f\"forma de A = {A.shape}\")\n",
    "\n",
    "# Fin Completar aquí ------------------------------------"
   ]
  },
  {
   "attachments": {},
   "cell_type": "markdown",
   "metadata": {},
   "source": [
    "Vamos a utilizar la descomposición en valores singulares (SVD) para comprimir dicha imagen.\n",
    "\n",
    "Así pues, calcula la factorización SVD de la matriz anterior $A$, es decir, encuentra matrices $U$, $\\Sigma$ y $V$, de modo que $A = U\\Sigma V^T$. Calcula la forma de estas tres matrices.\n",
    "\n",
    "**Puntos = 4.25**"
   ]
  },
  {
   "cell_type": "code",
   "execution_count": 3,
   "metadata": {},
   "outputs": [
    {
     "name": "stdout",
     "output_type": "stream",
     "text": [
      "U = \n",
      " [[-0.10358145  0.02198968  0.0021542  ... -0.0759327  -0.00146994\n",
      "  -0.0177579 ]\n",
      " [-0.09844697  0.01901818  0.00894816 ...  0.2003558   0.11289407\n",
      "  -0.01032199]\n",
      " [-0.0951115   0.01812917  0.0152985  ... -0.22930472 -0.15069006\n",
      "   0.02101575]\n",
      " ...\n",
      " [-0.11506867  0.03656439 -0.054218   ... -0.17008455  0.07608643\n",
      "   0.3568638 ]\n",
      " [-0.1167452   0.03590726 -0.05989129 ...  0.11246515  0.08630929\n",
      "   0.1140729 ]\n",
      " [-0.11755426  0.03489203 -0.06180156 ...  0.08784679 -0.13992873\n",
      "  -0.44077307]]\n",
      "S = \n",
      " [[29036.01367188     0.             0.         ...     0.\n",
      "      0.             0.        ]\n",
      " [    0.          6431.21728516     0.         ...     0.\n",
      "      0.             0.        ]\n",
      " [    0.             0.          4946.71435547 ...     0.\n",
      "      0.             0.        ]\n",
      " ...\n",
      " [    0.             0.             0.         ...     0.\n",
      "      0.             0.        ]\n",
      " [    0.             0.             0.         ...     0.\n",
      "      0.             0.        ]\n",
      " [    0.             0.             0.         ...     0.\n",
      "      0.             0.        ]]\n",
      "V^T = [[-0.09526646 -0.09392002 -0.09122244 ... -0.0641524  -0.06599322\n",
      "  -0.06587459]\n",
      " [ 0.06418568  0.06293821  0.06120867 ...  0.00993338  0.0066111\n",
      "   0.00611379]\n",
      " [ 0.08559515  0.08856494  0.08521596 ... -0.06806044 -0.06754886\n",
      "  -0.06724944]\n",
      " ...\n",
      " [-0.01732773 -0.02803073  0.03730187 ...  0.20259732 -0.1061783\n",
      "   0.02467548]\n",
      " [-0.06987494  0.14505838  0.01986476 ... -0.03632142  0.06267335\n",
      "  -0.04666598]\n",
      " [ 0.00967348 -0.01453785  0.16318308 ...  0.08710834 -0.09828501\n",
      "   0.07960431]]\n",
      "shape of U = (187, 187)\n",
      "shape of Sigma = (187, 228)\n",
      "shape of V = (228, 228)\n"
     ]
    }
   ],
   "source": [
    "# Completar aquí\n",
    "\n",
    "from scipy.linalg import svd\n",
    "\n",
    "U, s, V = svd(A)\n",
    "\n",
    "# creamos una matriz de zeros de tamaño m x n \n",
    "Sigma = np.zeros((A.shape[0], A.shape[1]))\n",
    "\n",
    "# rellenamos Sigma con las valores singulares\n",
    "Sigma[:A.shape[0], :A.shape[0]] = np.diag(s)\n",
    "\n",
    "print(f\"U = \\n {U}\")\n",
    "print(f\"S = \\n {Sigma}\")\n",
    "print(f\"V^T = {V}\")\n",
    "\n",
    "print(f\"shape of U = {U.shape}\")\n",
    "print(f\"shape of Sigma = {Sigma.shape}\")\n",
    "print(f\"shape of V = {V.shape}\")\n",
    "\n",
    "# Fin Completar aquí ------------------------------------"
   ]
  },
  {
   "attachments": {},
   "cell_type": "markdown",
   "metadata": {},
   "source": [
    "Usando la técnica de **slicing** vamos a quedarnos con los primeros $r$ mayores valores singulares de $\\Sigma$. Para ello:\n",
    "\n",
    "1) Introduce una variable, llamada $r$, con valor $r = 50$.\n",
    "\n",
    "Utilizando la técnica de slicing: \n",
    "\n",
    "2) Extrae de $U$ las primeras $r$ columnas. Denota por $U_r$ la matriz resultante. Imprime la forma de $U_r$.\n",
    "\n",
    "3) Genera la matriz $\\Sigma_r$ extrayendo las primeras $r$ filas y las primeras $r$ columnas de $\\Sigma$. Imprime la forma de $\\Sigma_r$.\n",
    "\n",
    "4) Extrae de $V$ las primeras $r$ filas. Denota por $V_r$ la matriz resultante. Imprime la forma de $V_r$.\n",
    "\n",
    "\n",
    "**Puntos = 4.25**"
   ]
  },
  {
   "cell_type": "code",
   "execution_count": 4,
   "metadata": {},
   "outputs": [
    {
     "name": "stdout",
     "output_type": "stream",
     "text": [
      "shape de U_r = (187, 50)\n",
      "shape de Sigma_r = (50, 50)\n",
      "shape de U_r = (50, 228)\n"
     ]
    }
   ],
   "source": [
    "# Completar aquí\n",
    "\n",
    "r = 50\n",
    "U_r = U[:, :r]\n",
    "print(f\"shape de U_r = {U_r.shape}\")\n",
    "Sigma_r = Sigma[:r, :r]\n",
    "print(f\"shape de Sigma_r = {Sigma_r.shape}\")\n",
    "V_r = V[:r, :]\n",
    "print(f\"shape de U_r = {V_r.shape}\")\n",
    "\n",
    "# Fin Completar aquí ------------------------------------"
   ]
  },
  {
   "attachments": {},
   "cell_type": "markdown",
   "metadata": {},
   "source": [
    "Genera la matriz $A_r = U_r\\Sigma_r V_r$ e imprime su forma.\n",
    "\n",
    "**Puntos = 0.5**\n"
   ]
  },
  {
   "cell_type": "code",
   "execution_count": 5,
   "metadata": {},
   "outputs": [
    {
     "name": "stdout",
     "output_type": "stream",
     "text": [
      "forma de A_r = (187, 228)\n"
     ]
    }
   ],
   "source": [
    "# Completar aquí\n",
    "\n",
    "A_r = U_r @ Sigma_r @ V_r\n",
    "print(f\"forma de A_r = {A_r.shape}\")\n",
    "\n",
    "# Fin Completar aquí ------------------------------------"
   ]
  },
  {
   "attachments": {},
   "cell_type": "markdown",
   "metadata": {},
   "source": [
    "Calcula la traspuesta de $A_r$ y denótala por $M_r$.\n",
    "\n",
    "Transforma $M_r$ en una imagen del módulo PIL y llámala beltrami_compressed\n",
    "\n",
    "Podrás ver la imagen comprimida escribiendo **beltrami_compressed.show()**\n",
    "\n",
    "**Puntos = 0.25**"
   ]
  },
  {
   "cell_type": "code",
   "execution_count": 6,
   "metadata": {},
   "outputs": [],
   "source": [
    "# Completar aquí\n",
    "\n",
    "M_r = A_r.T\n",
    "\n",
    "beltrami_compressed = Image.fromarray(M_r)\n",
    "\n",
    "beltrami_compressed.show()\n",
    "\n",
    "# Fin Completar aquí ------------------------------------"
   ]
  },
  {
   "attachments": {},
   "cell_type": "markdown",
   "metadata": {},
   "source": [
    "Verás que apenas se nota diferencia con la imagen inicial. Si quieres apreciar claramente el efecto de la compresión, pon $r=10$ y ejecuta de nuevo todo el código.\n",
    "\n",
    "Esto es todo. Pero, volvamos a la parte de **compresión de imágenes** que aparece en el título de esta práctica.\n",
    "\n",
    "Cuando una imagen aparece guardada en una matriz, como la matriz $A$ de partida, se dice que **no está comprimida**. Para almacenar dicha matriz hemos de guardar $m\\times n$ datos. En el caso de $A$, esto nos da $187\\times 228 = 42636$ datos. Se dice que la imagen está **comprimida** si está almacenada en formato SVD. En nuestro ejemplo, $A_r = U_r\\Sigma_r V_r^T$, necesitamos guardar $m\\times r + r + r\\times n $ datos, que para $r = 50$ nos da $20800$. Podemos interpretar estos datos de una manera muy sencilla: **la imagen comprimida necesita almacenar aproximadamente la mitad de datos que sin comprimir.**\n",
    "\n",
    "Espero que este ejercicio haya servido para empezar a  apreciar el destacadísimo papel de la SVD en Ciencia de Datos.   "
   ]
  }
 ],
 "metadata": {
  "kernelspec": {
   "display_name": "Python 3.9.7 ('base')",
   "language": "python",
   "name": "python3"
  },
  "language_info": {
   "codemirror_mode": {
    "name": "ipython",
    "version": 3
   },
   "file_extension": ".py",
   "mimetype": "text/x-python",
   "name": "python",
   "nbconvert_exporter": "python",
   "pygments_lexer": "ipython3",
   "version": "3.9.7"
  },
  "orig_nbformat": 4,
  "vscode": {
   "interpreter": {
    "hash": "5b7942d5250582435657b631091e80c90197a20165d810d5d60089372acdfcb0"
   }
  }
 },
 "nbformat": 4,
 "nbformat_minor": 2
}
