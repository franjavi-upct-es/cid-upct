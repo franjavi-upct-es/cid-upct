{
 "cells": [
  {
   "attachments": {},
   "cell_type": "markdown",
   "metadata": {},
   "source": [
    "# Examen de prácticas. Curso 22-23. Convocatoria Mayo 2023"
   ]
  },
  {
   "attachments": {},
   "cell_type": "markdown",
   "metadata": {},
   "source": [
    "## Pseudo-inversa de Moore-Penrose de una matriz y aplicación a sistemas lineales "
   ]
  },
  {
   "attachments": {},
   "cell_type": "markdown",
   "metadata": {},
   "source": [
    "Algunos problemas de **Machine Learning**, por ejemplo la aproximación por mínimos cuadrados, conducen a la resolución de sistemas lineales del tipo\n",
    "$$\n",
    "Ax = b\n",
    "$$\n",
    "que no tienen solución. \n",
    "\n",
    "En este ejercicio veremos cómo la Descomposición en Valores Singulares (SVD) ayuda a paliar esta situación y a encontrar un vector $x_{-}$ que minimiza la distancia entre $Ax$ y $b$, y por tanto, en algún sentido, reemplaza esa solución que no existe.\n"
   ]
  },
  {
   "attachments": {},
   "cell_type": "markdown",
   "metadata": {},
   "source": [
    "Introduce la matriz $A$ y el vector $b$ siguientes. Asegúrate de que el tipo de datos en la matriz y el vector es **float64**.\n",
    "\n",
    "$$\n",
    "A=\\begin{bmatrix}\n",
    "1&1&1\\\\\n",
    "-1&0&1\\\\\n",
    "1&0&1\\\\\n",
    "1&1&1\n",
    "\\end{bmatrix},\n",
    "\\qquad \n",
    "b = \\begin{bmatrix}\n",
    "1\\\\\n",
    "1\\\\\n",
    "1\\\\\n",
    "-1\n",
    "\\end{bmatrix}.\n",
    "$$\n",
    "Imprime ambos por pantalla. También el tipo de datos.\n",
    "\n",
    "**Puntos = 0.5**\n",
    "\n"
   ]
  },
  {
   "cell_type": "code",
   "execution_count": 1,
   "metadata": {},
   "outputs": [
    {
     "name": "stdout",
     "output_type": "stream",
     "text": [
      "A = \n",
      " [[ 1.  1.  1.]\n",
      " [-1.  0.  1.]\n",
      " [ 1.  0.  1.]\n",
      " [ 1.  1.  1.]]\n",
      "b = \n",
      " [[ 1.]\n",
      " [ 1.]\n",
      " [ 1.]\n",
      " [-1.]]\n",
      "tipo de datos en A = float64\n",
      "tipo de datos en b = float64\n"
     ]
    }
   ],
   "source": [
    "# Completar aquí\n",
    "\n",
    "import numpy as np\n",
    "\n",
    "A = np.array([\n",
    "    [1., 1., 1.], \n",
    "    [-1., 0., 1.],\n",
    "    [1., 0., 1.],\n",
    "    [1., 1., 1.]\n",
    "])\n",
    "print(f\"A = \\n {A}\")\n",
    "\n",
    "b = np.array([\n",
    "    [1.],\n",
    "    [1.],\n",
    "    [1.],\n",
    "    [-1.]\n",
    "])\n",
    "print(f\"b = \\n {b}\")\n",
    "\n",
    "print(f\"tipo de datos en A = {A.dtype}\")\n",
    "print(f\"tipo de datos en b = {b.dtype}\")\n",
    "\n",
    "# Fin Completar aquí ------------------------------------\n"
   ]
  },
  {
   "attachments": {},
   "cell_type": "markdown",
   "metadata": {},
   "source": [
    "Introduce la matriz ampliada $(A\\vert b)$, y calcula el rango de $A$ y de $(A\\vert b).$\n",
    "\n",
    "**Puntos = 0.5**"
   ]
  },
  {
   "cell_type": "code",
   "execution_count": 2,
   "metadata": {},
   "outputs": [
    {
     "name": "stdout",
     "output_type": "stream",
     "text": [
      "Ab = \n",
      " [[ 1.  1.  1.  1.]\n",
      " [-1.  0.  1.  1.]\n",
      " [ 1.  0.  1.  1.]\n",
      " [ 1.  1.  1. -1.]]\n",
      "rango de A = 3\n",
      "rango de la matriz ampliada = 4\n"
     ]
    }
   ],
   "source": [
    "# Completar aquí\n",
    "\n",
    "Ab = np.array([\n",
    "    [1., 1., 1., 1.], \n",
    "    [-1., 0., 1., 1.],\n",
    "    [1., 0., 1., 1.],\n",
    "    [1., 1., 1., -1.]\n",
    "])\n",
    "\n",
    "print(f\"Ab = \\n {Ab}\")\n",
    "print(f\"rango de A = {np.linalg.matrix_rank(A)}\")\n",
    "print(f\"rango de la matriz ampliada = {np.linalg.matrix_rank(Ab)}\")\n",
    "\n",
    "# Fin Completar aquí ------------------------------------"
   ]
  },
  {
   "attachments": {},
   "cell_type": "markdown",
   "metadata": {},
   "source": [
    "Como los rangos son distintos, el sistema $Ax=b$ no tiene solución.\n",
    "\n",
    "Aun así, vamos a calcular un vector $x_{-}$ que, de alguna manera, minimice la distancia entre $Ax_{-}$ y $b$.\n",
    "\n",
    "Si usamos la factorización SVD de la matriz $A$, el sistema original $Ax=b$ se reescribe como \n",
    "$$\n",
    "U S V^T x =b\n",
    "$$\n",
    "Así pues, calcula la factorización SVD de la matriz anterior $A$, es decir, encuentra matrices $U$, $S$ y $V$, de modo que $$A = U S V^T.$$ \n",
    "\n",
    "Has de imprimir por pantalla el producto $U S V^T$ para asegurarte que, salvo errores de redondeo y representación, se cumple que $A = U S V^T.$\n",
    "\n",
    "Imprime también las dimensiones de las matrices $U$, $S$ y $V^T$.\n",
    "\n",
    "**Puntos = 4**\n"
   ]
  },
  {
   "cell_type": "code",
   "execution_count": 3,
   "metadata": {},
   "outputs": [
    {
     "name": "stdout",
     "output_type": "stream",
     "text": [
      "U S V^T = \n",
      " [[ 1.00000000e+00  1.00000000e+00  1.00000000e+00]\n",
      " [-1.00000000e+00 -3.25386711e-16  1.00000000e+00]\n",
      " [ 1.00000000e+00  8.16592684e-17  1.00000000e+00]\n",
      " [ 1.00000000e+00  1.00000000e+00  1.00000000e+00]]\n",
      "tamaño de U = (4, 4)\n",
      "tamaño de  S = (4, 3)\n",
      "tamaño V^T = (3, 3)\n"
     ]
    }
   ],
   "source": [
    "# Completar aquí\n",
    "\n",
    "from scipy.linalg import svd\n",
    "\n",
    "U, s, V_T = svd(A)\n",
    "\n",
    "# creamos una matriz de zeros de tamaño m x n \n",
    "S = np.zeros((A.shape[0], A.shape[1]))\n",
    "\n",
    "# rellenamos S con las valores singulares\n",
    "S[:A.shape[1], :A.shape[1]] = np.diag(s)\n",
    "\n",
    "print(f\"U S V^T = \\n {U.dot(S.dot(V_T))}\")\n",
    "\n",
    "print(f\"tamaño de U = {U.shape}\")\n",
    "print(f\"tamaño de  S = {S.shape}\")\n",
    "print(f\"tamaño V^T = {V_T.shape}\")\n",
    "\n",
    "\n",
    "# Fin Completar aquí ------------------------------------"
   ]
  },
  {
   "attachments": {},
   "cell_type": "markdown",
   "metadata": {},
   "source": [
    "Si $A$ fuera invertible, su inversa $A^{-1}$ sería\n",
    "$$\n",
    "A^{-1} = V S^{-1} U^T,\n",
    "$$\n",
    "pero como no lo es, se introduce la llamada **pseudo-inversa de Moore-Penrose de $A$** como la matriz siguiente:\n",
    "$$\n",
    "A_{-} = V S_{-} U^T\n",
    "$$\n",
    "donde $S_{-}$ es una matriz, en nuestro caso de tamaño $3\\times 4$, que contiene en su diagonal principal los inversos de los valores singulares no nulos de $A$ y cero para aquellos valores singulares nulos. Nótese que si todos los valores singulares fuesen no nulos, entonces $S^{-1} = S_{-}$.\n",
    "\n",
    "Se pide:\n",
    "\n",
    "1) Introduce de manera manual $S_{-}$ e imprime por pantalla $S_{-}$ y el producto $S S_{-}$.\n",
    "\n",
    "2) Calcula la pseudo-inversa de Moore-Penrose $A_{-}$  e imprímela por pantalla. \n",
    "\n",
    "**Puntos = 3**"
   ]
  },
  {
   "cell_type": "code",
   "execution_count": 4,
   "metadata": {},
   "outputs": [
    {
     "name": "stdout",
     "output_type": "stream",
     "text": [
      "S_ = \n",
      " [[0.3660254  0.         0.         0.        ]\n",
      " [0.         0.70710678 0.         0.        ]\n",
      " [0.         0.         1.3660254  0.        ]]\n",
      "S * S_ = \n",
      " [[1. 0. 0. 0.]\n",
      " [0. 1. 0. 0.]\n",
      " [0. 0. 1. 0.]\n",
      " [0. 0. 0. 0.]]\n",
      "A_ = \n",
      " [[ 3.50902299e-10 -5.00000001e-01  4.99999999e-01  3.50902222e-10]\n",
      " [ 4.99999999e-01 -1.64145610e-17 -9.99999996e-01  4.99999999e-01]\n",
      " [ 3.50902444e-10  5.00000001e-01  4.99999999e-01  3.50902422e-10]]\n"
     ]
    }
   ],
   "source": [
    "# Completar aquí\n",
    "\n",
    "S_ = np.array([\n",
    "    [1 / (2.73205081), 0. ,0., 0.],\n",
    "    [0., 1 / (1.41421356), 0., 0.],\n",
    "    [0., 0., 1 / (0.73205081), 0.]\n",
    "]) \n",
    "\n",
    "print(f\"S_ = \\n {S_}\")\n",
    "print(f\"S * S_ = \\n {S.dot(S_)}\")\n",
    "\n",
    "\n",
    "V = V_T.T\n",
    "U_T = U.T\n",
    "\n",
    "A_ = V @ S_ @ U_T\n",
    "\n",
    "print(f\"A_ = \\n {A_}\")\n",
    "\n",
    "# Fin Completar aquí ------------------------------------\n"
   ]
  },
  {
   "attachments": {},
   "cell_type": "markdown",
   "metadata": {},
   "source": [
    "La pseudo-inversa de Moore-Penrose está implementada en el método **pinv()** que se encuentra en el submódulo de Álgebra Lineal de NumPy. Acude a la API [numpy.linalg.pinv](https://numpy.org/doc/stable/reference/generated/numpy.linalg.pinv.html) y calcula la pseudo-inversa de $A$ haciendo uso de dicho método. \n",
    "\n",
    "Comprueba también, haciendo uso de un operador booleano, que una vez redondeadas a $8$ cifras decimales, con el método **np.round()** (véase [np.round](https://numpy.org/devdocs/reference/generated/numpy.round.html)), las dos pseudo-inversas que has calculado coinciden.\n",
    "\n",
    "**Puntos = 1**"
   ]
  },
  {
   "cell_type": "code",
   "execution_count": 5,
   "metadata": {},
   "outputs": [
    {
     "name": "stdout",
     "output_type": "stream",
     "text": [
      "A_ con pinv = \n",
      " [[-9.69672317e-17 -5.00000000e-01  5.00000000e-01 -1.78855769e-16]\n",
      " [ 5.00000000e-01 -1.64145597e-17 -1.00000000e+00  5.00000000e-01]\n",
      " [ 5.09267711e-17  5.00000000e-01  5.00000000e-01  2.45493846e-17]]\n"
     ]
    },
    {
     "data": {
      "text/plain": [
       "array([[ True,  True,  True,  True],\n",
       "       [ True,  True,  True,  True],\n",
       "       [ True,  True,  True,  True]])"
      ]
     },
     "execution_count": 5,
     "metadata": {},
     "output_type": "execute_result"
    }
   ],
   "source": [
    "# Completar aquí\n",
    "\n",
    "print(f\"A_ con pinv = \\n {np.linalg.pinv(A)}\")\n",
    "\n",
    "np.round(A_, 8) == np.round(np.linalg.pinv(A), 8)\n",
    "\n",
    "# Fin Completar aquí ------------------------------------"
   ]
  },
  {
   "attachments": {},
   "cell_type": "markdown",
   "metadata": {},
   "source": [
    "Finalmente, calcularemos $x_{-}$ y la distancia entre $Ax_{-}$ y $b$.\n",
    "\n",
    "\n",
    "2) $x_{-} = A_{-} b$\n",
    "\n",
    "3) El error entre $Ax_{-}$ y $b$, medido en la norma euclídea, es decir, error = $\\Vert A x_{-} - b\\Vert_2$. \n",
    "\n",
    "**Puntos = 1**\n"
   ]
  },
  {
   "cell_type": "code",
   "execution_count": 6,
   "metadata": {},
   "outputs": [
    {
     "name": "stdout",
     "output_type": "stream",
     "text": [
      "x_ = [[-2.24262486e-09]\n",
      " [-9.99999996e-01]\n",
      " [ 9.99999999e-01]]\n",
      "error = 1.4142135623730951\n"
     ]
    }
   ],
   "source": [
    "# Completar aquí\n",
    "\n",
    "x_ = A_ @ b\n",
    "\n",
    "print(f\"x_ = {x_}\")\n",
    "\n",
    "error = np.linalg.norm(A @ x_ - b, 2) \n",
    "print(f\"error = {error}\")\n",
    "\n",
    "# Fin Completar aquí ------------------------------------"
   ]
  }
 ],
 "metadata": {
  "kernelspec": {
   "display_name": "Python 3.9.7 ('base')",
   "language": "python",
   "name": "python3"
  },
  "language_info": {
   "codemirror_mode": {
    "name": "ipython",
    "version": 3
   },
   "file_extension": ".py",
   "mimetype": "text/x-python",
   "name": "python",
   "nbconvert_exporter": "python",
   "pygments_lexer": "ipython3",
   "version": "3.11.6"
  },
  "orig_nbformat": 4,
  "vscode": {
   "interpreter": {
    "hash": "5b7942d5250582435657b631091e80c90197a20165d810d5d60089372acdfcb0"
   }
  }
 },
 "nbformat": 4,
 "nbformat_minor": 2
}
