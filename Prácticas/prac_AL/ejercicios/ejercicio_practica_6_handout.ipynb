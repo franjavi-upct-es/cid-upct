{
 "cells": [
  {
   "cell_type": "markdown",
   "metadata": {},
   "source": [
    "# Práctica 6: Ejercicio para entregar. \n",
    "## Matrices spase. Manipulación de matrices desde ficheros de datos\n"
   ]
  },
  {
   "cell_type": "markdown",
   "metadata": {},
   "source": [
    "Introduce una matriz aleatoria y sparse $A$ de $10$ filas y $5$ columnas y cuya sparsity sea $0.8$."
   ]
  },
  {
   "cell_type": "code",
   "execution_count": 1,
   "metadata": {},
   "outputs": [],
   "source": [
    "import numpy as np\n",
    "from scipy.sparse import csr_matrix"
   ]
  },
  {
   "cell_type": "code",
   "execution_count": 2,
   "metadata": {},
   "outputs": [
    {
     "name": "stdout",
     "output_type": "stream",
     "text": [
      "A = \n",
      "   (6, 2)\t0.20459302126073198\n",
      "  (4, 0)\t0.731258606915815\n",
      "  (9, 3)\t0.6853838513903816\n",
      "  (0, 2)\t0.9673178148047746\n",
      "  (8, 0)\t0.0799334544620165\n",
      "  (6, 3)\t0.5157584470998967\n",
      "  (3, 3)\t0.5645058926464396\n",
      "  (1, 3)\t0.5513248334516061\n",
      "  (2, 0)\t0.757711159261564\n",
      "  (2, 1)\t0.4093190080954622\n"
     ]
    }
   ],
   "source": [
    "# Completar aquí\n",
    "from scipy import sparse\n",
    "\n",
    "A = sparse.random(10, 5, density=1-0.8)\n",
    "print(f\"A = \\n {A}\")\n",
    "# --------------------\n"
   ]
  },
  {
   "cell_type": "markdown",
   "metadata": {},
   "source": [
    "Introduce otra matriz aleatoria y sparse $B$ de $5$ filas y $10$ columnas y cuya sparsity sea $0.7$."
   ]
  },
  {
   "cell_type": "code",
   "execution_count": 3,
   "metadata": {},
   "outputs": [
    {
     "name": "stdout",
     "output_type": "stream",
     "text": [
      "B = \n",
      "   (4, 4)\t0.3636523604088996\n",
      "  (4, 7)\t0.391602520147287\n",
      "  (1, 1)\t0.5148887037999272\n",
      "  (1, 6)\t0.035919541898413954\n",
      "  (1, 2)\t0.6002353992007844\n",
      "  (1, 3)\t0.1742919230556702\n",
      "  (3, 7)\t0.32262999099237955\n",
      "  (0, 6)\t0.5527823569397844\n",
      "  (2, 2)\t0.8023093222894613\n",
      "  (4, 6)\t0.675574333342399\n",
      "  (3, 3)\t0.5339744699134866\n",
      "  (4, 9)\t0.23607423305941366\n",
      "  (3, 5)\t0.3352383938687117\n",
      "  (3, 2)\t0.9133246278345839\n",
      "  (1, 8)\t0.19354218927125044\n"
     ]
    }
   ],
   "source": [
    "# Completar aquí\n",
    "B = sparse.random(5, 10, density=1-0.7)\n",
    "print(f\"B = \\n {B}\")\n",
    "# --------------------\n"
   ]
  },
  {
   "cell_type": "markdown",
   "metadata": {},
   "source": [
    "Calcula el producto usual (dot product) de $A$ y $B$. Sea $C$ la matriz resultante."
   ]
  },
  {
   "cell_type": "code",
   "execution_count": 4,
   "metadata": {},
   "outputs": [
    {
     "name": "stdout",
     "output_type": "stream",
     "text": [
      "C = \n",
      "   (0, 2)\t0.7760881004345414\n",
      "  (1, 7)\t0.17787392605036684\n",
      "  (1, 5)\t0.18482525166625138\n",
      "  (1, 3)\t0.29439338569246265\n",
      "  (1, 2)\t0.5035385483281521\n",
      "  (2, 8)\t0.07922049693713243\n",
      "  (2, 3)\t0.07134099706419754\n",
      "  (2, 2)\t0.24568775822464883\n",
      "  (2, 1)\t0.21075373351894444\n",
      "  (2, 6)\t0.43355191175728586\n",
      "  (3, 7)\t0.18212653105966597\n",
      "  (3, 5)\t0.18924404878021578\n",
      "  (3, 3)\t0.30143173478892216\n",
      "  (3, 2)\t0.515577134311739\n",
      "  (4, 6)\t0.4042268562634275\n",
      "  (6, 7)\t0.16639914314208334\n",
      "  (6, 5)\t0.17290203342999028\n",
      "  (6, 3)\t0.2754018433935704\n",
      "  (6, 2)\t0.6352017799829073\n",
      "  (8, 6)\t0.044185803355852406\n",
      "  (9, 7)\t0.22112538580040123\n",
      "  (9, 5)\t0.22976698152366332\n",
      "  (9, 3)\t0.3659774787334429\n",
      "  (9, 2)\t0.625977950994954\n"
     ]
    }
   ],
   "source": [
    "# Completar aquí\n",
    "C = A.dot(B) \n",
    "print(f\"C = \\n {C}\")\n",
    "\n",
    "# --------------------\n"
   ]
  },
  {
   "cell_type": "markdown",
   "metadata": {},
   "source": [
    "1) Graba la matriz $C$ en tu carpeta **data**, en formato .npz y con el nombre C.npz\n",
    "\n",
    "2) Transforma la matriz $C$ anterior de formato sparse a dense y llama $D$ a la nueva matriz\n",
    "\n",
    "3) Calcula la sparsity de la matriz $D$\n",
    "\n"
   ]
  },
  {
   "cell_type": "code",
   "execution_count": 5,
   "metadata": {},
   "outputs": [
    {
     "name": "stdout",
     "output_type": "stream",
     "text": [
      "D = \n",
      " [[0.         0.         0.7760881  0.         0.         0.\n",
      "  0.         0.         0.         0.        ]\n",
      " [0.         0.         0.50353855 0.29439339 0.         0.18482525\n",
      "  0.         0.17787393 0.         0.        ]\n",
      " [0.         0.21075373 0.24568776 0.071341   0.         0.\n",
      "  0.43355191 0.         0.0792205  0.        ]\n",
      " [0.         0.         0.51557713 0.30143173 0.         0.18924405\n",
      "  0.         0.18212653 0.         0.        ]\n",
      " [0.         0.         0.         0.         0.         0.\n",
      "  0.40422686 0.         0.         0.        ]\n",
      " [0.         0.         0.         0.         0.         0.\n",
      "  0.         0.         0.         0.        ]\n",
      " [0.         0.         0.63520178 0.27540184 0.         0.17290203\n",
      "  0.         0.16639914 0.         0.        ]\n",
      " [0.         0.         0.         0.         0.         0.\n",
      "  0.         0.         0.         0.        ]\n",
      " [0.         0.         0.         0.         0.         0.\n",
      "  0.0441858  0.         0.         0.        ]\n",
      " [0.         0.         0.62597795 0.36597748 0.         0.22976698\n",
      "  0.         0.22112539 0.         0.        ]]\n",
      "Sparcity(D) = 0.76\n"
     ]
    }
   ],
   "source": [
    "# Completar aquí\n",
    "# Apartado 1\n",
    "sparse.save_npz('../data/C.npz', C)\n",
    "\n",
    "# Apartado 2\n",
    "D = C.todense()\n",
    "print(f\"D = \\n {D}\")\n",
    "\n",
    "# Apartadp 3\n",
    "def sparsity(A):\n",
    "    sparsi = 1.0 - np.count_nonzero(A) / A.size\n",
    "    return sparsi\n",
    "\n",
    "print(f\"Sparcity(D) = {sparsity(D)}\")\n",
    "# --------------------\n"
   ]
  },
  {
   "cell_type": "markdown",
   "metadata": {},
   "source": [
    "Carga la matriz C.npz, llama $CC$ a la matriz que has cargado e imprímela por pantalla\n"
   ]
  },
  {
   "cell_type": "code",
   "execution_count": 6,
   "metadata": {},
   "outputs": [
    {
     "name": "stdout",
     "output_type": "stream",
     "text": [
      "  (0, 2)\t0.7760881004345414\n",
      "  (1, 7)\t0.17787392605036684\n",
      "  (1, 5)\t0.18482525166625138\n",
      "  (1, 3)\t0.29439338569246265\n",
      "  (1, 2)\t0.5035385483281521\n",
      "  (2, 8)\t0.07922049693713243\n",
      "  (2, 3)\t0.07134099706419754\n",
      "  (2, 2)\t0.24568775822464883\n",
      "  (2, 1)\t0.21075373351894444\n",
      "  (2, 6)\t0.43355191175728586\n",
      "  (3, 7)\t0.18212653105966597\n",
      "  (3, 5)\t0.18924404878021578\n",
      "  (3, 3)\t0.30143173478892216\n",
      "  (3, 2)\t0.515577134311739\n",
      "  (4, 6)\t0.4042268562634275\n",
      "  (6, 7)\t0.16639914314208334\n",
      "  (6, 5)\t0.17290203342999028\n",
      "  (6, 3)\t0.2754018433935704\n",
      "  (6, 2)\t0.6352017799829073\n",
      "  (8, 6)\t0.044185803355852406\n",
      "  (9, 7)\t0.22112538580040123\n",
      "  (9, 5)\t0.22976698152366332\n",
      "  (9, 3)\t0.3659774787334429\n",
      "  (9, 2)\t0.625977950994954\n"
     ]
    }
   ],
   "source": [
    "# Completar aquí\n",
    "CC = sparse.load_npz(\"../data/C.npz\")\n",
    "print(CC)\n",
    "# --------------------\n"
   ]
  }
 ],
 "metadata": {
  "kernelspec": {
   "display_name": "Python 3 (ipykernel)",
   "language": "python",
   "name": "python3"
  },
  "language_info": {
   "codemirror_mode": {
    "name": "ipython",
    "version": 3
   },
   "file_extension": ".py",
   "mimetype": "text/x-python",
   "name": "python",
   "nbconvert_exporter": "python",
   "pygments_lexer": "ipython3",
   "version": "3.10.8"
  },
  "vscode": {
   "interpreter": {
    "hash": "c9e6f42c9bf154cf9b9e87541e517fa2c69e39349a7d6df0c90be082366bd360"
   }
  }
 },
 "nbformat": 4,
 "nbformat_minor": 4
}
