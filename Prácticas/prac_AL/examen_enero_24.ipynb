{
 "cells": [
  {
   "cell_type": "markdown",
   "metadata": {},
   "source": [
    "# Examen de prácticas. Convocatoria Enero 2024\n",
    "\n",
    "Francisco Javier Mercader Martínez"
   ]
  },
  {
   "cell_type": "markdown",
   "metadata": {},
   "source": [
    "## Descomposición polar de una matriz\n",
    "\n",
    "Como bien sabemos, todo número complejo $z$ se puede expresar en la forma $z=re^{j\\theta}$, donde $r\\ge0$ y $e^{j\\theta}$ es un punto del círculo de la unidad. De manera similar, toda matriz cuadrada $A$ admite una factorización de la forma $$A=QS$$ donde $Q$ es una matriz ortogonal (análogo al $e^{j\\theta}$), y $S$ es una matriz simétrica y semidefinida positiva (análogo a $r$).\n",
    "\n",
    "Esta factorización se llama **descomposición polar**. Se utilzia frecuentemente en Mecánica de Sólidos, donde la matriz $A$ representa la deformación de un sólido, la cual se descompone en una rotación ($Q$) y unos estiramiento (o alargamientos) ($S$). También tiene aplicaciones en una parte de la Ciencia de Datos llamada Geometric Deep Learning.\n",
    "\n",
    "La factorización polar se puede calcular muy fácilmente a partir de la factorización SVD. En efecto, se tiene que: $$A=U\\Sigma V^\\intercal=(UV^\\intercal)(V\\Sigma V^\\intercal)=(Q)(S),$$es decir $Q=UV^\\intercal$ y $S=V\\Sigma V^\\intercal$.\n",
    "\n",
    "En este ejercicio calcularemos la factorización polar de una matriz dada usando estas ideas."
   ]
  },
  {
   "cell_type": "markdown",
   "metadata": {},
   "source": [
    "Introduce una matriz aleatoria de tamaño $3\\times3$ y llámala $A$. Imprime la matriz $A$ y el tipo de datos que contiene."
   ]
  },
  {
   "cell_type": "code",
   "execution_count": 15,
   "metadata": {},
   "outputs": [],
   "source": [
    "import numpy as np"
   ]
  },
  {
   "cell_type": "code",
   "execution_count": 16,
   "metadata": {},
   "outputs": [
    {
     "name": "stdout",
     "output_type": "stream",
     "text": [
      "A = \n",
      " [[-0.03776647  0.77495791  1.50822007]\n",
      " [-0.26858041 -0.78602587  1.12848732]\n",
      " [-0.14770274 -1.1515381  -0.80360214]]\n",
      "Tipo de datos de A: float64\n"
     ]
    }
   ],
   "source": [
    "A = np.random.randn(3, 3)\n",
    "print(f\"A = \\n {A}\")\n",
    "print(f\"Tipo de datos de A: {A.dtype}\")"
   ]
  },
  {
   "cell_type": "markdown",
   "metadata": {},
   "source": [
    "Calcula la factorización SVD de $A$. Imprime las matrices $U,\\,\\Sigma$ y $V^\\intercal$"
   ]
  },
  {
   "cell_type": "code",
   "execution_count": 17,
   "metadata": {},
   "outputs": [
    {
     "name": "stdout",
     "output_type": "stream",
     "text": [
      "U = \n",
      " [[-0.77151858  0.01421749 -0.63604791]\n",
      " [-0.28919207  0.88265819  0.37051649]\n",
      " [ 0.56668071  0.46980037 -0.67687561]]\n",
      "S = \n",
      " [[2.19812398 0.         0.        ]\n",
      " [0.         1.41471688 0.        ]\n",
      " [0.         0.         0.0250833 ]]\n",
      "V^T = [[ 0.01051286 -0.46545892 -0.88500705]\n",
      " [-0.21699921 -0.86502625  0.45237255]\n",
      " [ 0.97611517 -0.1872901   0.11009811]]\n"
     ]
    }
   ],
   "source": [
    "from scipy.linalg import svd\n",
    "\n",
    "U, s, V = svd(A)\n",
    "\n",
    "# creamos una matriz de zeros de tamaño m x n \n",
    "Sigma = np.zeros((A.shape[0], A.shape[1]))\n",
    "\n",
    "# rellenamos Sigma con las valores singulares\n",
    "Sigma[:A.shape[0], :A.shape[0]] = np.diag(s)\n",
    "\n",
    "print(f\"U = \\n {U}\")\n",
    "print(f\"S = \\n {Sigma}\")\n",
    "print(f\"V^T = {V}\")"
   ]
  },
  {
   "cell_type": "markdown",
   "metadata": {},
   "source": [
    "Calcula la descomposición polar de $A$ según se ha explicado anteriormente. Has de imprimir las matrices $Q$ y $S$ y comprobar que, salvo errores de redondeo/representación, se cumple que $A=QS$ "
   ]
  },
  {
   "cell_type": "code",
   "execution_count": 18,
   "metadata": {},
   "outputs": [
    {
     "name": "stdout",
     "output_type": "stream",
     "text": [
      "Q = \n",
      " [[-0.63205206  0.46593718  0.61920331]\n",
      " [ 0.16709041 -0.69830955  0.69602053]\n",
      " [-0.75669742 -0.54338414 -0.36351435]]\n",
      "S = \n",
      " [[ 0.09075945  0.25021479 -0.15663053]\n",
      " [ 0.25021479  1.53569861  0.35136699]\n",
      " [-0.15663053  0.35136699  2.01146611]]\n",
      "A = Q · S: True\n"
     ]
    }
   ],
   "source": [
    "Q = U.dot(V)\n",
    "\n",
    "# Como la matriz V que obtenemos ya es la traspuesta, para calcular S, debemos\n",
    "# multiplicar V.T * Sigma * V \n",
    "\n",
    "S = V.T.dot(Sigma.dot(V))\n",
    "\n",
    "print(f\"Q = \\n {Q}\")\n",
    "print(f\"S = \\n {S}\")\n",
    "\n",
    "print(f'A = Q · S: {np.all(np.round(A) == np.round(Q.dot(S)))}')"
   ]
  },
  {
   "cell_type": "markdown",
   "metadata": {},
   "source": [
    "Se puede demostrar que la matriz $Q$ de la descomposición polar es la matriz ortogonal más próxima a $A$ para la norma de Frobenius, es decir, dada $A$ la solución del problema $$\\text{Minimizar }\\|A-Z\\|$$entre todas las matrices ortogonales, $Z$, tiene como solución $Z=Q$.\n",
    "\n",
    "A continuación haremos una pequña comprobación de este hecho. Se pide:\n",
    "\n",
    "1. Introduce **en formato sparse** la siguiente matriz $$Z=\\begin{bmatrix}0.8 & 0.6 & 0\\\\ -0.6 & 0.8 & 0\\\\ 0 & 0 & 1\\end{bmatrix}$$ e imprímela tanto en formato sparse como dense."
   ]
  },
  {
   "cell_type": "code",
   "execution_count": 19,
   "metadata": {},
   "outputs": [
    {
     "name": "stdout",
     "output_type": "stream",
     "text": [
      "Z en formato sparse: \n",
      "   (0, 0)\t0.8\n",
      "  (0, 1)\t0.6\n",
      "  (1, 0)\t-0.6\n",
      "  (1, 1)\t0.8\n",
      "  (2, 2)\t1.0\n",
      "Z en formato dense: \n",
      " [[ 0.8  0.6  0. ]\n",
      " [-0.6  0.8  0. ]\n",
      " [ 0.   0.   1. ]]\n"
     ]
    }
   ],
   "source": [
    "from scipy.sparse import csr_matrix\n",
    "\n",
    "Z_sparse = csr_matrix([\n",
    "    [0.8, 0.6, 0],\n",
    "    [-0.6, 0.8, 0],\n",
    "    [0, 0, 1]\n",
    "])\n",
    "Z_dense = Z_sparse.todense()\n",
    "\n",
    "print(f\"Z en formato sparse: \\n {Z_sparse}\")\n",
    "print(f\"Z en formato dense: \\n {Z_dense}\")\n",
    "\n"
   ]
  },
  {
   "cell_type": "markdown",
   "metadata": {},
   "source": [
    "2. Comprueba que $Z$ es ortogonal. Justifica la respuesta haciendo uso de la inversa de $Z$"
   ]
  },
  {
   "cell_type": "code",
   "execution_count": 20,
   "metadata": {},
   "outputs": [
    {
     "name": "stdout",
     "output_type": "stream",
     "text": [
      "Z es ortogonal: True\n"
     ]
    }
   ],
   "source": [
    "Z_inv = np.linalg.inv(Z_dense)\n",
    "\n",
    "# Z es ortogonal si Z^-1 = Z^T\n",
    "\n",
    "print(f\"Z es ortogonal: {np.all(np.round(Z_inv) == np.round(Z_dense.T))}\")"
   ]
  },
  {
   "cell_type": "markdown",
   "metadata": {},
   "source": [
    "Comprueba que, para la norma de Frobenius, se cumple que $$\\|A-Q\\|<\\|A-Z\\|$$"
   ]
  },
  {
   "cell_type": "code",
   "execution_count": 21,
   "metadata": {},
   "outputs": [
    {
     "name": "stdout",
     "output_type": "stream",
     "text": [
      "||A - Q|| < ||A - Z||: True\n"
     ]
    }
   ],
   "source": [
    "# La norma de Frobenius es la normal infinito\n",
    "norma_AQ = np.linalg.norm(A - Q, ord=np.inf)\n",
    "\n",
    "norma_AZ = np.linalg.norm(A - Z_dense, ord=np.inf)\n",
    "\n",
    "print(f'||A - Q|| < ||A - Z||: {norma_AQ < norma_AZ}')"
   ]
  }
 ],
 "metadata": {
  "kernelspec": {
   "display_name": "Python 3",
   "language": "python",
   "name": "python3"
  },
  "language_info": {
   "codemirror_mode": {
    "name": "ipython",
    "version": 3
   },
   "file_extension": ".py",
   "mimetype": "text/x-python",
   "name": "python",
   "nbconvert_exporter": "python",
   "pygments_lexer": "ipython3",
   "version": "3.11.6"
  }
 },
 "nbformat": 4,
 "nbformat_minor": 2
}
