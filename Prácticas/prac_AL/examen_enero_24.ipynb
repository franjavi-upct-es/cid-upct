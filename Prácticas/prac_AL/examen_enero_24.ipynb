{
 "cells": [
  {
   "cell_type": "markdown",
   "metadata": {},
   "source": [
    "# Examen de prácticas. Convocatoria Enero 2024\n",
    "\n",
    "Francisco Javier Mercader Martínez"
   ]
  },
  {
   "cell_type": "markdown",
   "metadata": {},
   "source": [
    "## Descomposición polar de una matriz\n",
    "\n",
    "Como bien sabemos, todo número complejo $z$ se puede expresar en la forma $z=re^{j\\theta}$, donde $r\\ge0$ y $e^{j\\theta}$ es un punto del círculo de la unidad. De manera similar, toda matriz cuadrada $A$ admite una factorización de la forma $$A=QS$$ donde $Q$ es una matriz ortogonal (análogo al $e^{j\\theta}$), y $S$ es una matriz simétrica y semidefinida positiva (análogo a $r$).\n",
    "\n",
    "Esta factorización se llama **descomposición polar**. Se utilzia frecuentemente en Mecánica de Sólidos, donde la matriz $A$ representa la deformación de un sólido, la cual se descompone en una rotación ($Q$) y unos estiramiento (o alargamientos) ($S$). También tiene aplicaciones en una parte de la Ciencia de Datos llamada Geometric Deep Learning.\n",
    "\n",
    "La factorización polar se puede calcular muy fácilmente a partir de la factorización SVD. En efecto, se tiene que: $$A=U\\Sigma V^\\intercal=(UV^\\intercal)(V\\Sigma V^\\intercal)=(Q)(S),$$es decir $Q=UV^\\intercal$ y $S=V\\Sigma V^\\intercal$.\n",
    "\n",
    "En este ejercicio calcularemos la factorización polar de una matriz dada usando estas ideas."
   ]
  },
  {
   "cell_type": "markdown",
   "metadata": {},
   "source": [
    "Introduce una matriz aleatoria de tamaño $3\\times3$ y llámala $A$. Imprime la matriz $A$ y el tipo de datos que contiene."
   ]
  },
  {
   "cell_type": "code",
   "execution_count": 50,
   "metadata": {},
   "outputs": [],
   "source": [
    "import numpy as np"
   ]
  },
  {
   "cell_type": "code",
   "execution_count": 51,
   "metadata": {},
   "outputs": [
    {
     "name": "stdout",
     "output_type": "stream",
     "text": [
      "A = \n",
      " [[ 0.75912448  1.33334534 -1.51171182]\n",
      " [-0.47544692  0.45912062  1.00234749]\n",
      " [-2.83662965 -0.54552372 -0.44123745]]\n",
      "Tipo de datos de A: float64\n"
     ]
    }
   ],
   "source": [
    "A = np.random.randn(3, 3)\n",
    "print(f\"A = \\n {A}\")\n",
    "print(f\"Tipo de datos de A: {A.dtype}\")"
   ]
  },
  {
   "cell_type": "markdown",
   "metadata": {},
   "source": [
    "Calcula la factorización SVD de $A$. Imprime las matrices $U,\\,\\Sigma$ y $V^\\intercal$"
   ]
  },
  {
   "cell_type": "code",
   "execution_count": 52,
   "metadata": {},
   "outputs": [
    {
     "name": "stdout",
     "output_type": "stream",
     "text": [
      "U = \n",
      " [[-0.42591175 -0.83950484 -0.3373882 ]\n",
      " [ 0.13634739  0.30908791 -0.94120883]\n",
      " [ 0.89443198 -0.4468739  -0.01717987]]\n",
      "S = \n",
      " [[3.11333721 0.         0.        ]\n",
      " [0.         1.98150664 0.        ]\n",
      " [0.         0.         1.00020581]]\n",
      "V^T = [[-0.93960855 -0.31902147  0.12393981]\n",
      " [ 0.24394175 -0.37025408  0.89632825]\n",
      " [ 0.24005874 -0.87243178 -0.42571656]]\n"
     ]
    }
   ],
   "source": [
    "from scipy.linalg import svd\n",
    "\n",
    "U, s, V = svd(A)\n",
    "\n",
    "# creamos una matriz de zeros de tamaño m x n \n",
    "Sigma = np.zeros((A.shape[0], A.shape[1]))\n",
    "\n",
    "# rellenamos Sigma con las valores singulares\n",
    "Sigma[:A.shape[0], :A.shape[0]] = np.diag(s)\n",
    "\n",
    "print(f\"U = \\n {U}\")\n",
    "print(f\"S = \\n {Sigma}\")\n",
    "print(f\"V^T = {V}\")"
   ]
  },
  {
   "cell_type": "markdown",
   "metadata": {},
   "source": [
    "Calcula la descomposición polar de $A$ según se ha explicado anteriormente. Has de imprimir las matrices $Q$ y $S$ y comprobar que, salvo errores de redondeo/representación, se cumple que $A=QS$ "
   ]
  },
  {
   "cell_type": "code",
   "execution_count": 53,
   "metadata": {},
   "outputs": [
    {
     "name": "stdout",
     "output_type": "stream",
     "text": [
      "Q = \n",
      " [[ 0.11440706  0.74105328 -0.66162759]\n",
      " [-0.27865913  0.66320169  0.69463127]\n",
      " [-0.95355132 -0.10489785 -0.28237622]]\n",
      "S = \n",
      " [[ 2.92420877  0.54479083 -0.03152124]\n",
      " [ 0.54479083  1.34979377 -0.40921559]\n",
      " [-0.03152124 -0.40921559  1.82104712]]\n",
      "A = Q · S: True\n"
     ]
    }
   ],
   "source": [
    "Q = U.dot(V)\n",
    "\n",
    "# Como la matriz V que obtenemos ya es la traspuesta, para calcular S, debemos\n",
    "# multiplicar V.T * Sigma * V \n",
    "\n",
    "S = V.T.dot(Sigma.dot(V))\n",
    "\n",
    "print(f\"Q = \\n {Q}\")\n",
    "print(f\"S = \\n {S}\")\n",
    "\n",
    "print(f'A = Q · S: {np.all(np.round(A) == np.round(Q.dot(S)))}')"
   ]
  },
  {
   "cell_type": "markdown",
   "metadata": {},
   "source": [
    "Se puede demostrar que la matriz $Q$ de la descomposición polar es la matriz ortogonal más próxima a $A$ para la norma de Frobenius, es decir, dada $A$ la solución del problema $$\\text{Minimizar }\\|A-Z\\|$$entre todas las matrices ortogonales, $Z$, tiene como solución $Z=Q$.\n",
    "\n",
    "A continuación haremos una pequña comprobación de este hecho. Se pide:\n",
    "\n",
    "1. Introduce **en formato sparse** la siguiente matriz $$Z=\\begin{bmatrix}0.8 & 0.6 & 0\\\\ -0.6 & 0.8 & 0\\\\ 0 & 0 & 1\\end{bmatrix}$$ e imprímela tanto en formato sparse como dense."
   ]
  },
  {
   "cell_type": "code",
   "execution_count": 54,
   "metadata": {},
   "outputs": [
    {
     "name": "stdout",
     "output_type": "stream",
     "text": [
      "Z en formato sparse: \n",
      "   (0, 0)\t0.8\n",
      "  (0, 1)\t0.6\n",
      "  (1, 0)\t-0.6\n",
      "  (1, 1)\t0.8\n",
      "  (2, 2)\t1.0\n",
      "Z en formato dense: \n",
      " [[ 0.8  0.6  0. ]\n",
      " [-0.6  0.8  0. ]\n",
      " [ 0.   0.   1. ]]\n",
      "Z es ortogonal: True\n"
     ]
    }
   ],
   "source": [
    "from scipy.sparse import csr_matrix\n",
    "\n",
    "Z = np.array([\n",
    "    [0.8, 0.6, 0],\n",
    "    [-0.6, 0.8, 0],\n",
    "    [0, 0, 1]\n",
    "])\n",
    "\n",
    "Z_sparse = csr_matrix(Z)\n",
    "Z_dense = Z_sparse.todense()\n",
    "\n",
    "print(f\"Z en formato sparse: \\n {Z_sparse}\")\n",
    "print(f\"Z en formato dense: \\n {Z_dense}\")\n",
    "\n"
   ]
  },
  {
   "cell_type": "markdown",
   "metadata": {},
   "source": [
    "2. Comprueba que $Z$ es ortogonal. Justifica la respuesta haciendo uso de la inversa de $Z$"
   ]
  },
  {
   "cell_type": "code",
   "execution_count": 57,
   "metadata": {},
   "outputs": [
    {
     "name": "stdout",
     "output_type": "stream",
     "text": [
      "Z es ortogonal: True\n"
     ]
    }
   ],
   "source": [
    "Z_inv = np.linalg.inv(Z)\n",
    "\n",
    "# Z es ortogonal si Z^-1 = Z^T\n",
    "\n",
    "print(f\"Z es ortogonal: {np.all(np.round(Z_inv) == np.round(Z.T))}\")"
   ]
  },
  {
   "cell_type": "markdown",
   "metadata": {},
   "source": [
    "Comprueba que, para la norma de Frobenius, se cumple que $$\\|A-Q\\|<\\|A-Z\\|$$"
   ]
  },
  {
   "cell_type": "code",
   "execution_count": 58,
   "metadata": {},
   "outputs": [
    {
     "name": "stdout",
     "output_type": "stream",
     "text": [
      "||A - Q|| < ||A - Z||: True\n"
     ]
    }
   ],
   "source": [
    "# La norma de Frobenius es la normal infinito\n",
    "norma_AQ = np.linalg.norm(A - Q, ord=np.inf)\n",
    "\n",
    "norma_AZ = np.linalg.norm(A - Z, ord=np.inf)\n",
    "\n",
    "print(f'||A - Q|| < ||A - Z||: {norma_AQ < norma_AZ}')"
   ]
  }
 ],
 "metadata": {
  "kernelspec": {
   "display_name": "Python 3",
   "language": "python",
   "name": "python3"
  },
  "language_info": {
   "codemirror_mode": {
    "name": "ipython",
    "version": 3
   },
   "file_extension": ".py",
   "mimetype": "text/x-python",
   "name": "python",
   "nbconvert_exporter": "python",
   "pygments_lexer": "ipython3",
   "version": "3.11.6"
  }
 },
 "nbformat": 4,
 "nbformat_minor": 2
}
