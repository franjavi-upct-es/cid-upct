{
 "cells": [
  {
   "cell_type": "markdown",
   "metadata": {},
   "source": [
    "# Práctica 6. Matrices sparse. Manipulación de matrices desde ficheros de datos"
   ]
  },
  {
   "cell_type": "markdown",
   "metadata": {},
   "source": [
    "##  [Matrices sparse](https://docs.scipy.org/doc/scipy/reference/sparse.html)\n",
    "\n"
   ]
  },
  {
   "cell_type": "code",
   "execution_count": 1,
   "metadata": {},
   "outputs": [],
   "source": [
    "import numpy as np\n",
    "from scipy.sparse import csr_matrix"
   ]
  },
  {
   "cell_type": "code",
   "execution_count": 4,
   "metadata": {},
   "outputs": [
    {
     "name": "stdout",
     "output_type": "stream",
     "text": [
      "A = \n",
      " [[1 0 0 1 0 0]\n",
      " [0 0 2 0 0 1]\n",
      " [0 0 0 2 0 0]]\n",
      "A en formato sparse = \n",
      "   (0, 0)\t1\n",
      "  (0, 3)\t1\n",
      "  (1, 2)\t2\n",
      "  (1, 5)\t1\n",
      "  (2, 3)\t2\n"
     ]
    }
   ],
   "source": [
    "A = np.array([\n",
    "    [1, 0, 0, 1, 0, 0],\n",
    "    [0, 0, 2, 0, 0, 1],\n",
    "    [0, 0, 0, 2, 0, 0]\n",
    "])\n",
    "print(f\"A = \\n {A}\")\n",
    "# Transfomación de A en formato sparse comprimido por filas\n",
    "S = csr_matrix(A)\n",
    "print(f\"A en formato sparse = \\n {S}\")"
   ]
  },
  {
   "cell_type": "code",
   "execution_count": 6,
   "metadata": {},
   "outputs": [
    {
     "name": "stdout",
     "output_type": "stream",
     "text": [
      "Matriz en formate sparse = \n",
      "   (0, 0)\t1\n",
      "  (0, 3)\t1\n",
      "  (1, 2)\t2\n",
      "  (1, 5)\t1\n",
      "  (2, 3)\t1\n",
      "mtx en formato dense = \n",
      " [[1 0 0 1 0 0]\n",
      " [0 0 2 0 0 1]\n",
      " [0 0 0 1 0 0]]\n"
     ]
    }
   ],
   "source": [
    "# Introducimos matrices en formato csr\n",
    "row = np.array([0, 0, 1, 1, 2])\n",
    "col = np.array([0, 3, 2, 5, 3])\n",
    "data = np.array([1, 1, 2, 1, 1])\n",
    "mtx = csr_matrix((data, (row, col)), shape=(3, 6))\n",
    "print(f\"Matriz en formate sparse = \\n {mtx}\")\n",
    "# Transformamos a formato dense\n",
    "B = mtx.todense()\n",
    "print(f\"mtx en formato dense = \\n {B}\")\n"
   ]
  },
  {
   "cell_type": "code",
   "execution_count": 12,
   "metadata": {},
   "outputs": [
    {
     "name": "stdout",
     "output_type": "stream",
     "text": [
      "Datos no nulos de la matriz mtx = [1 1 2 1 1]\n",
      "Indices de las columnas de mtx = [0 3 2 5 3]\n",
      "Punteros para los indices de datos y columnas = [0 2 4 5]\n"
     ]
    }
   ],
   "source": [
    "# Forma estandar de introducir una matriz sparse\n",
    "print(f\"Datos no nulos de la matriz mtx = {mtx.data}\")\n",
    "print(f\"Indices de las columnas de mtx = {mtx.indices}\")\n",
    "print(f\"Punteros para los indices de datos y columnas = {mtx.indptr}\")\n",
    "data = np.array([1, 1, 2, 1, 1])\n",
    "ind_col = np.array([0, 3, 2, 5, 3])\n",
    "puntero = np.array([0, 2, ])"
   ]
  },
  {
   "cell_type": "code",
   "execution_count": 15,
   "metadata": {},
   "outputs": [
    {
     "data": {
      "text/plain": [
       "<function __main__.sparcity(A)>"
      ]
     },
     "execution_count": 15,
     "metadata": {},
     "output_type": "execute_result"
    }
   ],
   "source": [
    "#Midiendo la dispersión de una matriz\n",
    "def sparcity(A):\n",
    "    spar = 1.0 - np.count_nonzero(A) / A.size\n",
    "    return spar\n"
   ]
  },
  {
   "cell_type": "code",
   "execution_count": null,
   "metadata": {},
   "outputs": [],
   "source": []
  }
 ],
 "metadata": {
  "kernelspec": {
   "display_name": "Python 3.9.12 ('base')",
   "language": "python",
   "name": "python3"
  },
  "language_info": {
   "codemirror_mode": {
    "name": "ipython",
    "version": 3
   },
   "file_extension": ".py",
   "mimetype": "text/x-python",
   "name": "python",
   "nbconvert_exporter": "python",
   "pygments_lexer": "ipython3",
   "version": "3.9.12"
  },
  "orig_nbformat": 4,
  "vscode": {
   "interpreter": {
    "hash": "92ad534bca2326751c2f5722ba22922b33dc52d08b3797a5404dfb2c21ce7615"
   }
  }
 },
 "nbformat": 4,
 "nbformat_minor": 2
}
