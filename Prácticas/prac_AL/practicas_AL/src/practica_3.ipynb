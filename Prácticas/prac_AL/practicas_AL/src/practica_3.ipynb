{
 "cells": [
  {
   "cell_type": "markdown",
   "metadata": {},
   "source": [
    "# Práctica 3: Más cosas sobre NumPy arrays: index, slice, reshape, broadcasting"
   ]
  },
  {
   "cell_type": "markdown",
   "metadata": {},
   "source": [
    "## Array index"
   ]
  },
  {
   "cell_type": "code",
   "execution_count": 1,
   "metadata": {},
   "outputs": [],
   "source": [
    "import numpy as np "
   ]
  },
  {
   "cell_type": "code",
   "execution_count": 2,
   "metadata": {},
   "outputs": [
    {
     "name": "stdout",
     "output_type": "stream",
     "text": [
      "data = [11 22 33 44 55]\n",
      "11\n",
      "55\n",
      "55\n"
     ]
    }
   ],
   "source": [
    "data = np.array([11, 22, 33, 44, 55])\n",
    "print(f\"data = {data}\")\n",
    "print(data[0])\n",
    "print(data[4])\n",
    "print(data[-1])"
   ]
  },
  {
   "cell_type": "code",
   "execution_count": 3,
   "metadata": {},
   "outputs": [
    {
     "name": "stdout",
     "output_type": "stream",
     "text": [
      "data = \n",
      " [[11 22]\n",
      " [33 44]\n",
      " [55 66]]\n",
      "11\n",
      "[22 44 66]\n",
      "[11 22]\n"
     ]
    }
   ],
   "source": [
    "# 2d-array\n",
    "data = np.array([\n",
    "    [11, 22], \n",
    "    [33, 44],\n",
    "    [55, 66]\n",
    "])\n",
    "print(f\"data = \\n {data}\")\n",
    "print(data[0, 0])\n",
    "print(data[:, 1]) # : -> from : to \n",
    "print(data[0, :]) # selecciona todos los datos de la fila indicada"
   ]
  },
  {
   "cell_type": "markdown",
   "metadata": {},
   "source": [
    "## Array sciling"
   ]
  },
  {
   "cell_type": "code",
   "execution_count": 4,
   "metadata": {},
   "outputs": [
    {
     "name": "stdout",
     "output_type": "stream",
     "text": [
      "[22 33 44]\n",
      "[55 66]\n"
     ]
    }
   ],
   "source": [
    "data = np.array([11, 22, 33, 44, 55, 66])\n",
    "print(data[1:4])\n",
    "print(data[-2:]) #empieza en la posción indicada desde el final de la lista"
   ]
  },
  {
   "cell_type": "code",
   "execution_count": 5,
   "metadata": {},
   "outputs": [
    {
     "name": "stdout",
     "output_type": "stream",
     "text": [
      "data = \n",
      " [[11 22 33]\n",
      " [44 55 66]\n",
      " [77 88 99]]\n",
      "features X = \n",
      " [[11 22]\n",
      " [44 55]\n",
      " [77 88]]\n",
      "labels = [33 66 99]\n"
     ]
    }
   ],
   "source": [
    "data = np.array([\n",
    "    [11, 22, 33],\n",
    "    [44, 55, 66],\n",
    "    [77, 88, 99]\n",
    "])\n",
    "print(f\"data = \\n {data}\")\n",
    "x, y = data[:, :-1], data[:, -1]\n",
    "print(f\"features X = \\n {x}\")\n",
    "print(f\"labels = {y}\")\n",
    "#todos los datos se dividen en columnas X (features) y datos Y (labels)"
   ]
  },
  {
   "cell_type": "code",
   "execution_count": 6,
   "metadata": {},
   "outputs": [
    {
     "name": "stdout",
     "output_type": "stream",
     "text": [
      "training dataset = \n",
      " [[11 22 33]\n",
      " [44 55 66]]\n",
      "test dataset = [[77 88 99]]\n"
     ]
    }
   ],
   "source": [
    "split = 2\n",
    "train, test = data[:split,:], data[split:, :]\n",
    "print(f\"training dataset = \\n {train}\")\n",
    "print(f\"test dataset = {test}\")"
   ]
  },
  {
   "cell_type": "markdown",
   "metadata": {},
   "source": [
    "## Reshape"
   ]
  },
  {
   "cell_type": "code",
   "execution_count": null,
   "metadata": {},
   "outputs": [],
   "source": []
  }
 ],
 "metadata": {
  "kernelspec": {
   "display_name": "Python 3.9.12 ('base')",
   "language": "python",
   "name": "python3"
  },
  "language_info": {
   "codemirror_mode": {
    "name": "ipython",
    "version": 3
   },
   "file_extension": ".py",
   "mimetype": "text/x-python",
   "name": "python",
   "nbconvert_exporter": "python",
   "pygments_lexer": "ipython3",
   "version": "3.9.12"
  },
  "orig_nbformat": 4,
  "vscode": {
   "interpreter": {
    "hash": "92ad534bca2326751c2f5722ba22922b33dc52d08b3797a5404dfb2c21ce7615"
   }
  }
 },
 "nbformat": 4,
 "nbformat_minor": 2
}
