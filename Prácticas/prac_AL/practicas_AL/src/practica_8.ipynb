{
 "cells": [
  {
   "cell_type": "markdown",
   "metadata": {},
   "source": [
    "# Práctica 8: Factorizaciones LU y Cholesky. Resolución de sistemas lienales mediante métodos directos"
   ]
  },
  {
   "cell_type": "markdown",
   "metadata": {},
   "source": [
    "## Factorizaciones LU y Cholesky"
   ]
  },
  {
   "cell_type": "code",
   "execution_count": 2,
   "metadata": {},
   "outputs": [],
   "source": [
    "import numpy as np\n",
    "from scipy.linalg import lu\n"
   ]
  },
  {
   "cell_type": "code",
   "execution_count": 4,
   "metadata": {},
   "outputs": [
    {
     "name": "stdout",
     "output_type": "stream",
     "text": [
      "A = \n",
      " [[ 4 -3 -5]\n",
      " [-2 -4  5]\n",
      " [ 8  8  2]]\n",
      "P = \n",
      " [[0. 1. 0.]\n",
      " [0. 0. 1.]\n",
      " [1. 0. 0.]]\n",
      "L = \n",
      " [[ 1.          0.          0.        ]\n",
      " [ 0.5         1.          0.        ]\n",
      " [-0.25        0.28571429  1.        ]]\n",
      "U = \n",
      " [[ 8.          8.          2.        ]\n",
      " [ 0.         -7.         -6.        ]\n",
      " [ 0.          0.          7.21428571]]\n"
     ]
    }
   ],
   "source": [
    "A = np.array([\n",
    "    [4, -3, -5],\n",
    "    [-2, -4, 5],\n",
    "    [8, 8, 2]\n",
    "])\n",
    "print(f\"A = \\n {A}\")\n",
    "# Calculamos la factorización PLU (matriz de permutación)\n",
    "\n",
    "P, L, U = lu(A)\n",
    "print(f\"P = \\n {P}\")\n",
    "print(f\"L = \\n {L}\")\n",
    "print(f\"U = \\n {U}\")"
   ]
  },
  {
   "cell_type": "code",
   "execution_count": 13,
   "metadata": {},
   "outputs": [
    {
     "name": "stdout",
     "output_type": "stream",
     "text": [
      "PLU = \n",
      " [[ 8.  8.  2.]\n",
      " [ 4. -3. -5.]\n",
      " [-2. -4.  5.]]\n"
     ]
    },
    {
     "data": {
      "text/plain": [
       "array([[ True, False, False],\n",
       "       [False,  True, False],\n",
       "       [False, False,  True]])"
      ]
     },
     "execution_count": 13,
     "metadata": {},
     "output_type": "execute_result"
    }
   ],
   "source": [
    "# Comprobación\n",
    "PLU = np.dot(L, U)\n",
    "print(f\"PLU = \\n {PLU}\")\n",
    "\n",
    "PLU == np.dot(L, U)\n",
    "\n",
    "A == A.T"
   ]
  },
  {
   "cell_type": "code",
   "execution_count": 16,
   "metadata": {},
   "outputs": [
    {
     "name": "stdout",
     "output_type": "stream",
     "text": [
      "T = \n",
      " [[ 2 -1  0]\n",
      " [-1  2 -1]\n",
      " [ 0 -1  2]]\n",
      "L = \n",
      "  [[ 1.          0.          0.        ]\n",
      " [-0.5         1.          0.        ]\n",
      " [ 0.         -0.66666667  1.        ]]\n",
      "D = \n",
      " [[2.         0.         0.        ]\n",
      " [0.         1.5        0.        ]\n",
      " [0.         0.         1.33333333]]\n",
      "P = \n",
      "  [0 1 2]\n"
     ]
    }
   ],
   "source": [
    "# Factorización Cholesky para matrices simétricas y definidas positivas \n",
    "T = np.array([\n",
    "    [2, -1, 0],\n",
    "    [-1, 2, -1],\n",
    "    [0, -1, 2]    \n",
    "])\n",
    "\n",
    "print(f\"T = \\n {T}\")\n",
    "\n",
    "from scipy.linalg import ldl\n",
    "\n",
    "L, D, P = ldl(T) # P es una matriz de permutación\n",
    "\n",
    "print(f\"L = \\n  {L}\")\n",
    "print(f\"D = \\n {D}\")\n",
    "print(f\"P = \\n  {P}\")\n",
    "\n",
    "LD = np.dot(L, D)\n",
    "print(f\"LD = \\n {LD}\")\n",
    "\n",
    "print(f\"LDL^T = \\n {np.dot(LD, L.T)}\")"
   ]
  },
  {
   "cell_type": "markdown",
   "metadata": {},
   "source": [
    "## Métodos directos para la resolución de sistemas lineales $Ax = b$"
   ]
  },
  {
   "cell_type": "code",
   "execution_count": 17,
   "metadata": {},
   "outputs": [],
   "source": [
    "from scipy.linalg import solve"
   ]
  },
  {
   "cell_type": "code",
   "execution_count": 18,
   "metadata": {},
   "outputs": [
    {
     "name": "stdout",
     "output_type": "stream",
     "text": [
      "x = [-0.44306931  0.3019802  -0.93564356]\n"
     ]
    }
   ],
   "source": [
    "# A es la matriz del principio\n",
    "b = np.array([2, -5, -3])\n",
    "\n",
    "x = solve(A, b)\n",
    "print(f\"x = {x}\")"
   ]
  }
 ],
 "metadata": {
  "kernelspec": {
   "display_name": "Python 3.9.12 ('base')",
   "language": "python",
   "name": "python3"
  },
  "language_info": {
   "codemirror_mode": {
    "name": "ipython",
    "version": 3
   },
   "file_extension": ".py",
   "mimetype": "text/x-python",
   "name": "python",
   "nbconvert_exporter": "python",
   "pygments_lexer": "ipython3",
   "version": "3.9.12"
  },
  "orig_nbformat": 4,
  "vscode": {
   "interpreter": {
    "hash": "92ad534bca2326751c2f5722ba22922b33dc52d08b3797a5404dfb2c21ce7615"
   }
  }
 },
 "nbformat": 4,
 "nbformat_minor": 2
}
