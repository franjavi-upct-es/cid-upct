{
 "cells": [
  {
   "cell_type": "markdown",
   "metadata": {},
   "source": [
    "# Práctica 10: Factorización QR. Aplicación al cálculo de valores y vectores propios"
   ]
  },
  {
   "cell_type": "code",
   "execution_count": 171,
   "metadata": {},
   "outputs": [],
   "source": [
    "import numpy as np"
   ]
  },
  {
   "cell_type": "markdown",
   "metadata": {},
   "source": [
    "## Factorización QR"
   ]
  },
  {
   "cell_type": "code",
   "execution_count": 172,
   "metadata": {},
   "outputs": [
    {
     "name": "stdout",
     "output_type": "stream",
     "text": [
      "A = \n",
      " [[ 0.63544686 -0.77827159 -1.11306111]\n",
      " [-1.19184696  0.95797135 -1.63111002]\n",
      " [ 0.33819971  0.88283047 -0.66243503]\n",
      " [ 1.1502787  -0.19730051  1.5334664 ]]\n"
     ]
    }
   ],
   "source": [
    "A = np.random.randn(4, 3) #Imprime una matriz de números aleatorios\n",
    "print(f\"A = \\n {A}\")"
   ]
  },
  {
   "cell_type": "code",
   "execution_count": 173,
   "metadata": {},
   "outputs": [
    {
     "name": "stdout",
     "output_type": "stream",
     "text": [
      "Q = \n",
      "  [[-0.3518437   0.37533304  0.83507092]\n",
      " [ 0.6599196  -0.30620097  0.26828531]\n",
      " [-0.18725946 -0.82848794  0.37916116]\n",
      " [-0.63690347 -0.28102278 -0.29481582]]\n",
      "R = \n",
      " [[-1.80604873  0.86635704 -1.53740078]\n",
      " [ 0.         -1.26141126  0.19955931]\n",
      " [ 0.          0.         -2.07034761]]\n"
     ]
    }
   ],
   "source": [
    "# Calculamos la factorización QR de A\n",
    "Q, R = np.linalg.qr(A) #La función ya viene implementada en Python\n",
    "print(f\"Q = \\n  {Q}\") \n",
    "print(f\"R = \\n {R}\") \n"
   ]
  },
  {
   "cell_type": "code",
   "execution_count": 174,
   "metadata": {},
   "outputs": [
    {
     "data": {
      "text/plain": [
       "True"
      ]
     },
     "execution_count": 174,
     "metadata": {},
     "output_type": "execute_result"
    }
   ],
   "source": [
    "# Comprobamos que A es igual a Q·R\n",
    "np.allclose(A, np.dot(Q, R)) #allclose aproxima los valores de redondeo "
   ]
  },
  {
   "cell_type": "markdown",
   "metadata": {},
   "source": [
    "## Algoritmo QR para el cálculo de valores y vectores propios"
   ]
  },
  {
   "cell_type": "code",
   "execution_count": 175,
   "metadata": {},
   "outputs": [],
   "source": [
    "from numpy.linalg import eig"
   ]
  },
  {
   "cell_type": "code",
   "execution_count": 176,
   "metadata": {},
   "outputs": [
    {
     "name": "stdout",
     "output_type": "stream",
     "text": [
      "Autovalores \n",
      " [ 1.61168440e+01 -1.11684397e+00 -3.38433605e-16]\n",
      "Autovectores = \n",
      " [[-0.23197069 -0.78583024  0.40824829]\n",
      " [-0.52532209 -0.08675134 -0.81649658]\n",
      " [-0.8186735   0.61232756  0.40824829]]\n"
     ]
    }
   ],
   "source": [
    "A = np.array([\n",
    "    [1, 2, 3],\n",
    "    [4, 5, 6],\n",
    "    [7, 8, 9]\n",
    "])\n",
    "\n",
    "autovalores, autovectores = eig(A)\n",
    "print(f\"Autovalores \\n {autovalores}\")\n",
    "print(f\"Autovectores = \\n {autovectores}\")"
   ]
  },
  {
   "cell_type": "code",
   "execution_count": 177,
   "metadata": {},
   "outputs": [
    {
     "name": "stdout",
     "output_type": "stream",
     "text": [
      "[-4.44089210e-16 -8.88178420e-16 -1.77635684e-15]\n",
      "[-1.38164941e-16  2.76329881e-16 -1.38164941e-16]\n"
     ]
    }
   ],
   "source": [
    "# Comprobación\n",
    "B = A.dot(autovectores[:, 2])\n",
    "print(B)\n",
    "C = autovectores[:, 2] * autovalores[2]\n",
    "print(C)\n",
    "\n"
   ]
  },
  {
   "cell_type": "markdown",
   "metadata": {},
   "source": [
    "Comprobamos la factorización de A en valores propios, es decir, \n",
    "$$\n",
    "A = P D P^{-1}\n",
    "$$"
   ]
  },
  {
   "cell_type": "code",
   "execution_count": 178,
   "metadata": {},
   "outputs": [
    {
     "name": "stdout",
     "output_type": "stream",
     "text": [
      "PDP^-1 = \n",
      " [[1. 2. 3.]\n",
      " [4. 5. 6.]\n",
      " [7. 8. 9.]]\n"
     ]
    }
   ],
   "source": [
    "D = np.diag(autovalores)\n",
    "P = autovectores\n",
    "from numpy.linalg import inv\n",
    "inv_P = inv(P)\n",
    "print(f\"PDP^{-1} = \\n {P.dot(D).dot(inv_P)}\")"
   ]
  },
  {
   "cell_type": "markdown",
   "metadata": {},
   "source": [
    "## Algoritmo QR para el cálculo de valores y vectores propios"
   ]
  },
  {
   "cell_type": "code",
   "execution_count": 179,
   "metadata": {},
   "outputs": [],
   "source": [
    "from numpy.linalg import qr"
   ]
  },
  {
   "cell_type": "code",
   "execution_count": 180,
   "metadata": {},
   "outputs": [
    {
     "name": "stdout",
     "output_type": "stream",
     "text": [
      "Iteración 1:\n",
      "A = \n",
      " [[3. 2.]\n",
      " [2. 0.]]\n",
      "Q = \n",
      " [[ 0. -1.]\n",
      " [-1.  0.]]\n",
      "Iteración 5:\n",
      "A = \n",
      " [[ 3.99998093  0.00976559]\n",
      " [ 0.00976559 -0.99998093]]\n",
      "Q = \n",
      " [[-0.99995232 -0.00976531]\n",
      " [-0.00976531  0.99995232]]\n",
      "Iteración 10:\n",
      "A = \n",
      " [[ 4.00000000e+00  9.53674316e-06]\n",
      " [ 9.53674316e-06 -1.00000000e+00]]\n",
      "Q = \n",
      " [[-1.00000000e+00 -9.53674316e-06]\n",
      " [-9.53674316e-06  1.00000000e+00]]\n",
      "Iteración 20:\n",
      "A = \n",
      " [[ 4.00000000e+00  9.09484252e-12]\n",
      " [ 9.09494702e-12 -1.00000000e+00]]\n",
      "Q = \n",
      " [[-1.00000000e+00 -9.09494702e-12]\n",
      " [-9.09494702e-12  1.00000000e+00]]\n",
      "Iteración 40:\n",
      "A = \n",
      " [[ 4.00000000e+00 -1.04494923e-16]\n",
      " [ 8.27180613e-24 -1.00000000e+00]]\n",
      "Q = \n",
      " [[-1.00000000e+00 -8.27180613e-24]\n",
      " [-8.27180613e-24  1.00000000e+00]]\n"
     ]
    }
   ],
   "source": [
    "A = np.array([\n",
    "    [0, 2],\n",
    "    [2, 3]\n",
    "])\n",
    "# Q, R = qr(A)\n",
    "p = [1, 5, 10, 20, 40]\n",
    "for i in range(40):\n",
    "    Q, R = qr(A)\n",
    "    A = R.dot(Q)\n",
    "    if i+1 in p:\n",
    "        print(f\"Iteración {i+1}:\")\n",
    "        print(f\"A = \\n {A}\")\n",
    "        print(f\"Q = \\n {Q}\")"
   ]
  },
  {
   "cell_type": "code",
   "execution_count": 183,
   "metadata": {},
   "outputs": [
    {
     "name": "stdout",
     "output_type": "stream",
     "text": [
      "Autovalores = [ 4. -1.]\n",
      "Autovectores = \n",
      " [[1.00000000e+00 2.08989846e-17]\n",
      " [0.00000000e+00 1.00000000e+00]]\n"
     ]
    }
   ],
   "source": [
    "autovalores1, autovectores1 = eig(A)\n",
    "print(f\"Autovalores = {autovalores1}\")\n",
    "print(f\"Autovectores = \\n {autovectores1}\")"
   ]
  }
 ],
 "metadata": {
  "kernelspec": {
   "display_name": "Python 3.9.12 ('base')",
   "language": "python",
   "name": "python3"
  },
  "language_info": {
   "codemirror_mode": {
    "name": "ipython",
    "version": 3
   },
   "file_extension": ".py",
   "mimetype": "text/x-python",
   "name": "python",
   "nbconvert_exporter": "python",
   "pygments_lexer": "ipython3",
   "version": "3.9.12 (main, Apr  4 2022, 05:22:27) [MSC v.1916 64 bit (AMD64)]"
  },
  "orig_nbformat": 4,
  "vscode": {
   "interpreter": {
    "hash": "92ad534bca2326751c2f5722ba22922b33dc52d08b3797a5404dfb2c21ce7615"
   }
  }
 },
 "nbformat": 4,
 "nbformat_minor": 2
}
