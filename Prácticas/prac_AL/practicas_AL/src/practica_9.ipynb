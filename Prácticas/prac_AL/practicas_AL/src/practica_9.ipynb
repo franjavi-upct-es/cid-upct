{
 "cells": [
  {
   "cell_type": "markdown",
   "metadata": {},
   "source": [
    "# Práctica 9: Métodos iterativos para sistemas lineales"
   ]
  },
  {
   "cell_type": "code",
   "execution_count": 20,
   "metadata": {},
   "outputs": [],
   "source": [
    "import numpy as np"
   ]
  },
  {
   "cell_type": "markdown",
   "metadata": {},
   "source": [
    "## El método de Jacobi"
   ]
  },
  {
   "cell_type": "code",
   "execution_count": 29,
   "metadata": {},
   "outputs": [
    {
     "ename": "ModuleNotFoundError",
     "evalue": "No module named 'my_iterative_methods'",
     "output_type": "error",
     "traceback": [
      "\u001b[1;31m---------------------------------------------------------------------------\u001b[0m",
      "\u001b[1;31mModuleNotFoundError\u001b[0m                       Traceback (most recent call last)",
      "\u001b[1;32md:\\practicas_AL\\src\\practica_9.ipynb Celda 4\u001b[0m in \u001b[0;36m<cell line: 1>\u001b[1;34m()\u001b[0m\n\u001b[1;32m----> <a href='vscode-notebook-cell:/d%3A/practicas_AL/src/practica_9.ipynb#W3sZmlsZQ%3D%3D?line=0'>1</a>\u001b[0m \u001b[39mfrom\u001b[39;00m \u001b[39mmy_iterative_methods\u001b[39;00m \u001b[39mimport\u001b[39;00m jacobi\n",
      "\u001b[1;31mModuleNotFoundError\u001b[0m: No module named 'my_iterative_methods'"
     ]
    }
   ],
   "source": [
    "from my_iterative_methods import jacobi\n",
    "        "
   ]
  },
  {
   "cell_type": "code",
   "execution_count": 25,
   "metadata": {},
   "outputs": [
    {
     "name": "stdout",
     "output_type": "stream",
     "text": [
      "x = [ 2.08880309 -1.55341055 -0.64993565]\n"
     ]
    }
   ],
   "source": [
    "A = np.array([\n",
    "    [8, 3, -3],\n",
    "    [-2, -8, 5],\n",
    "    [3, 5, 10]\n",
    "])\n",
    "b = np.array([14, 5, -8])\n",
    "\n",
    "x = jacobi(A, b)\n",
    "print(f\"x = {x}\")"
   ]
  }
 ],
 "metadata": {
  "kernelspec": {
   "display_name": "Python 3.9.12 ('base')",
   "language": "python",
   "name": "python3"
  },
  "language_info": {
   "codemirror_mode": {
    "name": "ipython",
    "version": 3
   },
   "file_extension": ".py",
   "mimetype": "text/x-python",
   "name": "python",
   "nbconvert_exporter": "python",
   "pygments_lexer": "ipython3",
   "version": "3.9.12 (main, Apr  4 2022, 05:22:27) [MSC v.1916 64 bit (AMD64)]"
  },
  "orig_nbformat": 4,
  "vscode": {
   "interpreter": {
    "hash": "92ad534bca2326751c2f5722ba22922b33dc52d08b3797a5404dfb2c21ce7615"
   }
  }
 },
 "nbformat": 4,
 "nbformat_minor": 2
}
