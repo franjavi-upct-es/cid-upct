{
 "cells": [
  {
   "cell_type": "markdown",
   "metadata": {},
   "source": [
    "# Práctica 11. Factorización SVD (Singular Value Decomposition)."
   ]
  },
  {
   "cell_type": "markdown",
   "metadata": {},
   "source": [
    "## Factorización SVD\n",
    "\n",
    "Dada una matriz $A$ de tamaño $m\\times n$,  la factorización \n",
    "$SVD$ expresa $A$ en la forma $A = U\\Sigma V^T$, donde $\\Sigma$ es una matriz diagonal de tamaño $m\\times n$ que contiene los valores singulares de $A$ (es decir, la raíz cuadrada de los autovalores de $AA^T$), $U$ es de tamaño $m\\times m$ y almacena en sus columnas los llamados \"left-singular vectors\" de $A$, y $V$ es de tamaño $n\\times n$ y almacena los \"right-singular vectors\" de $A$.\n",
    "\n",
    "Más información en [numpy.linalg.svd() API](https://docs.scipy.org/doc/numpy-1.13.0/reference/generated/numpy.linalg.svd.html)"
   ]
  },
  {
   "cell_type": "code",
   "execution_count": 1,
   "metadata": {},
   "outputs": [],
   "source": [
    "import numpy as np"
   ]
  },
  {
   "cell_type": "code",
   "execution_count": 2,
   "metadata": {},
   "outputs": [
    {
     "name": "stdout",
     "output_type": "stream",
     "text": [
      "A = \n",
      " [[ 0  1 -1]\n",
      " [ 1  1  0]]\n",
      "U = \n",
      " [[ 0.70710678 -0.70710678]\n",
      " [ 0.70710678  0.70710678]]\n",
      "s = \n",
      " [1.73205081 1.        ]\n",
      "V^T = \n",
      " [[ 4.08248290e-01  8.16496581e-01 -4.08248290e-01]\n",
      " [ 7.07106781e-01  2.26762120e-16  7.07106781e-01]\n",
      " [-5.77350269e-01  5.77350269e-01  5.77350269e-01]]\n",
      "S = \n",
      " [[1.73205081 0.         0.        ]\n",
      " [0.         1.         0.        ]]\n"
     ]
    }
   ],
   "source": [
    "# Veamos un ejemplo concreto\n",
    "\n",
    "from scipy.linalg import svd\n",
    "#from scipy.linalg import diag\n",
    "\n",
    "A = np.array([\n",
    "    [0, 1, -1],\n",
    "    [1, 1, 0]\n",
    "])\n",
    "\n",
    "print(f\"A = \\n {A}\")\n",
    "\n",
    "U, s, V = svd(A)\n",
    "\n",
    "print(f\"U = \\n {U}\")\n",
    "print(f\"s = \\n {s}\")\n",
    "print(f\"V^T = \\n {V}\")\n",
    "\n",
    "# s contiene los valores singulares almacenados en un vector\n",
    "# recuperamos la matriz S:\n",
    "S = np.zeros((2, 3), dtype=float)\n",
    "S[:2, :2] = np.diag(s)\n",
    "print(f\"S = \\n {S}\")"
   ]
  },
  {
   "cell_type": "code",
   "execution_count": 3,
   "metadata": {},
   "outputs": [
    {
     "data": {
      "text/plain": [
       "True"
      ]
     },
     "execution_count": 3,
     "metadata": {},
     "output_type": "execute_result"
    }
   ],
   "source": [
    "# Comprobamos que A = USV^T\n",
    "\n",
    "np.allclose(A, np.dot(U, np.dot(S, V)))"
   ]
  },
  {
   "cell_type": "markdown",
   "metadata": {},
   "source": [
    "## Una aplicación de la SVD: reducción de la dimensión\n",
    "\n",
    "En varios problemas interesantes en **Machine Learning (ML)** nos encontramos con enormes matrices que acumulan muchas características (features, en inglés) - columnas de la matriz- y un número menor de observaciones (labels, en inglés) -filas de la matriz-. La idea consiste en extraer las características más relevantes para el modelo de predicción, reduciendo así el tamaño de la matriz de datos lo que acelera el proceso de aprendizaje del modelo usado en ML. \n",
    "\n",
    "Esta idea es recurrente en varias situaciones. Una de sus variantes más conocidas y útiles es el llamado **Análisis de Componentes Principales (PCA, por sus siglas en inglés)** que tanto se usa en Estadística.\n",
    "\n",
    "Veamos ahora un ejemplo ilustrativo.\n"
   ]
  },
  {
   "cell_type": "code",
   "execution_count": 4,
   "metadata": {},
   "outputs": [
    {
     "name": "stdout",
     "output_type": "stream",
     "text": [
      "A = \n",
      " [[ 1  2  3  4  5  6  7  8  9 10]\n",
      " [11 12 13 14 15 16 17 18 19 20]\n",
      " [21 22 23 24 25 26 27 28 29 30]]\n",
      "U = \n",
      " [[-0.19101157 -0.89266338  0.40824829]\n",
      " [-0.51371859 -0.26348917 -0.81649658]\n",
      " [-0.8364256   0.36568503  0.40824829]]\n",
      "S = \n",
      " [[9.69657342e+01 0.00000000e+00 0.00000000e+00 0.00000000e+00\n",
      "  0.00000000e+00 0.00000000e+00 0.00000000e+00 0.00000000e+00\n",
      "  0.00000000e+00 0.00000000e+00]\n",
      " [0.00000000e+00 7.25578339e+00 0.00000000e+00 0.00000000e+00\n",
      "  0.00000000e+00 0.00000000e+00 0.00000000e+00 0.00000000e+00\n",
      "  0.00000000e+00 0.00000000e+00]\n",
      " [0.00000000e+00 0.00000000e+00 1.48879510e-15 0.00000000e+00\n",
      "  0.00000000e+00 0.00000000e+00 0.00000000e+00 0.00000000e+00\n",
      "  0.00000000e+00 0.00000000e+00]]\n",
      "V^T = [[-0.24139304 -0.25728686 -0.27318068 -0.2890745  -0.30496832 -0.32086214\n",
      "  -0.33675595 -0.35264977 -0.36854359 -0.38443741]\n",
      " [ 0.53589546  0.42695236  0.31800926  0.20906617  0.10012307 -0.00882003\n",
      "  -0.11776313 -0.22670623 -0.33564933 -0.44459242]\n",
      " [ 0.09975293 -0.01037753  0.23987452  0.05273845  0.0996209  -0.46517509\n",
      "  -0.52300449 -0.23591804  0.593137    0.14935136]\n",
      " [-0.259848   -0.19489762 -0.10988774  0.9273013  -0.07153728 -0.05251768\n",
      "  -0.04829915 -0.05415057 -0.07582496 -0.0603383 ]\n",
      " [-0.26312174 -0.0585767  -0.12150761 -0.05740164  0.9302533  -0.0441965\n",
      "  -0.05005435 -0.07728074 -0.13808364 -0.12003039]\n",
      " [-0.34412869 -0.09157816  0.43274424 -0.05958094 -0.05492318  0.70339002\n",
      "  -0.33412339 -0.23272698  0.08693936 -0.10601229]\n",
      " [-0.3607094   0.01575684  0.51799467 -0.04727562 -0.05090152 -0.33292338\n",
      "   0.61579275 -0.27850803  0.07385978 -0.15308609]\n",
      " [-0.33345757  0.21857007  0.28415895 -0.02511566 -0.05422893 -0.22221261\n",
      "  -0.27509879  0.75032187 -0.10121342 -0.24172391]\n",
      " [-0.23733137  0.57140887 -0.45105898  0.01252895 -0.06910398  0.11951822\n",
      "   0.08414965 -0.10361154  0.46917172 -0.39567153]\n",
      " [-0.30296011  0.57190501 -0.00875539  0.01380706 -0.05685882 -0.08131326\n",
      "  -0.14406831 -0.23288126 -0.36263916  0.60376424]]\n",
      "valores singulares = [9.69657342e+01 7.25578339e+00 1.48879510e-15]\n"
     ]
    }
   ],
   "source": [
    "# definimos una matriz\n",
    "A = np.array([\n",
    "[1,2,3,4,5,6,7,8,9,10],\n",
    "[11,12,13,14,15,16,17,18,19,20],\n",
    "[21,22,23,24,25,26,27,28,29,30]\n",
    "])\n",
    "print(f\"A = \\n {A}\")\n",
    "\n",
    "# calculamos la factorización SVD de A\n",
    "U, s, V = svd(A)\n",
    "\n",
    "# creamos una matriz de zeros de tamaño m x n \n",
    "Sigma = np.zeros((A.shape[0], A.shape[1]))\n",
    "\n",
    "# rellenamos Sigma con las valores singulares\n",
    "Sigma[:A.shape[0], :A.shape[0]] = np.diag(s)\n",
    "\n",
    "print(f\"U = \\n {U}\")\n",
    "print(f\"S = \\n {Sigma}\")\n",
    "print(f\"V^T = {V}\")\n",
    "\n",
    "print(f\"valores singulares = {s}\")\n",
    "\n",
    "# observamos que únicamente los dos primeros valores singulares son relevantes\n",
    "# lo que sugiere reducir a dimensión 2\n"
   ]
  },
  {
   "cell_type": "code",
   "execution_count": 5,
   "metadata": {},
   "outputs": [
    {
     "name": "stdout",
     "output_type": "stream",
     "text": [
      "S = \n",
      " [[96.96573419  0.        ]\n",
      " [ 0.          7.25578339]\n",
      " [ 0.          0.        ]]\n",
      "V =  \n",
      " [[-0.24139304 -0.25728686 -0.27318068 -0.2890745  -0.30496832 -0.32086214\n",
      "  -0.33675595 -0.35264977 -0.36854359 -0.38443741]\n",
      " [ 0.53589546  0.42695236  0.31800926  0.20906617  0.10012307 -0.00882003\n",
      "  -0.11776313 -0.22670623 -0.33564933 -0.44459242]]\n",
      "B = \n",
      " [[ 1.  2.  3.  4.  5.  6.  7.  8.  9. 10.]\n",
      " [11. 12. 13. 14. 15. 16. 17. 18. 19. 20.]\n",
      " [21. 22. 23. 24. 25. 26. 27. 28. 29. 30.]]\n",
      "T = \n",
      " [[-18.52157747  -6.47697214]\n",
      " [-49.81310011  -1.91182038]\n",
      " [-81.10462276   2.65333138]]\n",
      "tamaño de T = (3, 2)\n"
     ]
    }
   ],
   "source": [
    "# seleccionamos dos elementos\n",
    "n_elements = 2\n",
    "Sigma = Sigma[:, :n_elements] # Sigma es ahora una matriz 3x2\n",
    "print(f\"S = \\n {Sigma}\")\n",
    "\n",
    "V = V[:n_elements, :]  # V es ahora de tamaño 2x10\n",
    "print(f\"V =  \\n {V}\")\n",
    "\n",
    "# reconstruimos una vez hemos reducido la dimensión\n",
    "B = U.dot(Sigma.dot(V))\n",
    "print(f\"B = \\n {B}\")\n",
    "\n",
    "# la información importante de los datos de la matriz original A \n",
    "# está contenida en la siguiente matriz\n",
    "T = U.dot(Sigma)\n",
    "print(f\"T = \\n {T}\")\n",
    "\n",
    "# cuya dimensión es\n",
    "print(f\"tamaño de T = {T.shape}\")\n",
    "\n",
    "# Por tanto, en la práctica se trabaja con la matriz T en lugar de la \n",
    "# original matriz de datos A.\n",
    "\n"
   ]
  },
  {
   "cell_type": "code",
   "execution_count": 6,
   "metadata": {},
   "outputs": [
    {
     "name": "stdout",
     "output_type": "stream",
     "text": [
      "[[-18.52157747  -6.47697214]\n",
      " [-49.81310011  -1.91182038]\n",
      " [-81.10462276   2.65333138]]\n"
     ]
    }
   ],
   "source": [
    "# como V es ortogonal y A = TV^T, también podemos calcular T como\n",
    "T = A.dot(V.T)\n",
    "print(T)"
   ]
  },
  {
   "cell_type": "markdown",
   "metadata": {},
   "source": [
    "La importancia de este procedimiento es tal que la librería **scikit-learn** \n",
    "de  Python para **Machine Learning** tiene implementada esta rutina directamente \n",
    "en la clase **TruncatedSVD**\n",
    "\n",
    "Más información en [sklearn.decomposition.TruncatedSVD API.](http://scikit-learn.org/stable/modules/generated/sklearn.decomposition.TruncatedSVD.html)\n"
   ]
  }
 ],
 "metadata": {
  "kernelspec": {
   "display_name": "Python 3.9.12 ('base')",
   "language": "python",
   "name": "python3"
  },
  "language_info": {
   "codemirror_mode": {
    "name": "ipython",
    "version": 3
   },
   "file_extension": ".py",
   "mimetype": "text/x-python",
   "name": "python",
   "nbconvert_exporter": "python",
   "pygments_lexer": "ipython3",
   "version": "3.9.12 (main, Apr  4 2022, 05:22:27) [MSC v.1916 64 bit (AMD64)]"
  },
  "orig_nbformat": 4,
  "vscode": {
   "interpreter": {
    "hash": "92ad534bca2326751c2f5722ba22922b33dc52d08b3797a5404dfb2c21ce7615"
   }
  }
 },
 "nbformat": 4,
 "nbformat_minor": 2
}
