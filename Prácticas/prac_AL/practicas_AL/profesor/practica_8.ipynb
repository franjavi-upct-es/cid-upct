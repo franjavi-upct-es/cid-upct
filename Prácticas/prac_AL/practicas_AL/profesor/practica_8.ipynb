{
 "cells": [
  {
   "cell_type": "markdown",
   "metadata": {},
   "source": [
    "# Práctica 8. Factorizaciones LU, PLU y Choleski. Métodos directos de resolución de sistemas lineales"
   ]
  },
  {
   "cell_type": "markdown",
   "metadata": {},
   "source": [
    "## Factorizaciones LU y PLU\n",
    "\n",
    "Mediante la factorización $LU$ factorizamos una matriz $A$ en la forma $A=LU$, donde $L$ es una matriz triangular inferior y $U$ es triangular superior.\n",
    "\n",
    "La factorización $PLU$, también llamada factorización $LU$ con pivoteo, es una ligera variante de la factorización $LU$, donde ahora la matriz $P$ es una matriz de permutación que permite ordenar las filas de $A$ para facilitar su factorización $LU$.\n",
    "  \n",
    "\n",
    "Más información en la [API del módulo de Álgebra Lineal de scipy](https://docs.scipy.org/doc/scipy/reference/linalg.html)\n",
    "\n",
    " \n",
    "\n"
   ]
  },
  {
   "cell_type": "code",
   "execution_count": 1,
   "metadata": {},
   "outputs": [],
   "source": [
    "import numpy as np"
   ]
  },
  {
   "cell_type": "markdown",
   "metadata": {},
   "source": [
    "Veamos un ejemplo concreto:"
   ]
  },
  {
   "cell_type": "code",
   "execution_count": 2,
   "metadata": {},
   "outputs": [
    {
     "name": "stdout",
     "output_type": "stream",
     "text": [
      "A = \n",
      " [[ 4  3 -5]\n",
      " [-2 -4  5]\n",
      " [ 8  8  0]]\n",
      "P = \n",
      "  [[0. 0. 1.]\n",
      " [0. 1. 0.]\n",
      " [1. 0. 0.]]\n",
      "L = \n",
      " [[ 1.    0.    0.  ]\n",
      " [-0.25  1.    0.  ]\n",
      " [ 0.5   0.5   1.  ]]\n",
      "U = \n",
      "  [[ 8.   8.   0. ]\n",
      " [ 0.  -2.   5. ]\n",
      " [ 0.   0.  -7.5]]\n",
      "LU = \n",
      " [[ 8.  8.  0.]\n",
      " [-2. -4.  5.]\n",
      " [ 4.  3. -5.]]\n",
      "PLU = \n",
      " [[ 4.  3. -5.]\n",
      " [-2. -4.  5.]\n",
      " [ 8.  8.  0.]]\n"
     ]
    }
   ],
   "source": [
    "A = np.array(\n",
    "    [[4, 3, -5],\n",
    "    [-2, -4, 5],\n",
    "    [8, 8, 0]]\n",
    "    )\n",
    "\n",
    "print(f\"A = \\n {A}\")\n",
    "\n",
    "from scipy.linalg import lu\n",
    "\n",
    "P, L, U = lu(A)\n",
    "\n",
    "print(f\"P = \\n  {P}\")\n",
    "print(f\"L = \\n {L}\")\n",
    "print(f\"U = \\n  {U}\")\n",
    "\n",
    "LU = np.dot(L, U)\n",
    "print(f\"LU = \\n {LU}\")\n",
    "\n",
    "print(f\"PLU = \\n {np.dot(P, LU)}\")\n"
   ]
  },
  {
   "cell_type": "code",
   "execution_count": 3,
   "metadata": {},
   "outputs": [
    {
     "name": "stdout",
     "output_type": "stream",
     "text": [
      "[[ 8.  8.  0.]\n",
      " [-2. -4.  5.]\n",
      " [ 4.  3. -5.]]\n"
     ]
    }
   ],
   "source": [
    "# veamos el efecto de la matriz de permutación \n",
    "# (también llamada de pivoteo) P\n",
    "\n",
    "print(np.dot(P, A))"
   ]
  },
  {
   "cell_type": "markdown",
   "metadata": {},
   "source": [
    "## Factorización de Choleski\n",
    "\n",
    "La factorización Choleski (también llamada factorización de Bunch-Kaufman) permite descomponer una matriz cuadrada $A$ en la forma $A = L D L^T$, donde $L$ es una matriz triangular inferior y $D$ es diagonal.\n",
    "\n",
    "La factorización Choleski es especialmente eficaz (desde un punto de vista computacional) para el caso en que $A$ es simétrica y definida positiva."
   ]
  },
  {
   "cell_type": "markdown",
   "metadata": {},
   "source": [
    "Veamos un ejemplo concreto para las llamadas matrices de Toeplitz, las cuales aparecen habitualmente en varios campos de la Ingeniería"
   ]
  },
  {
   "cell_type": "code",
   "execution_count": 4,
   "metadata": {},
   "outputs": [
    {
     "name": "stdout",
     "output_type": "stream",
     "text": [
      "T = \n",
      " [[ 2 -1  0]\n",
      " [-1  2 -1]\n",
      " [ 0 -1  2]]\n",
      "L = \n",
      "  [[ 1.          0.          0.        ]\n",
      " [-0.5         1.          0.        ]\n",
      " [ 0.         -0.66666667  1.        ]]\n",
      "D = \n",
      " [[2.         0.         0.        ]\n",
      " [0.         1.5        0.        ]\n",
      " [0.         0.         1.33333333]]\n",
      "P = \n",
      "  [0 1 2]\n",
      "LD = \n",
      " [[ 2.          0.          0.        ]\n",
      " [-1.          1.5         0.        ]\n",
      " [ 0.         -1.          1.33333333]]\n",
      "LDL^T = \n",
      " [[ 2. -1.  0.]\n",
      " [-1.  2. -1.]\n",
      " [ 0. -1.  2.]]\n"
     ]
    }
   ],
   "source": [
    "\n",
    "T = np.array([\n",
    "    [2, -1, 0],\n",
    "    [-1, 2, -1],\n",
    "    [0, -1, 2]    \n",
    "])\n",
    "\n",
    "print(f\"T = \\n {T}\")\n",
    "\n",
    "from scipy.linalg import ldl\n",
    "\n",
    "L, D, P = ldl(T) # P es una matriz de permutación\n",
    "\n",
    "print(f\"L = \\n  {L}\")\n",
    "print(f\"D = \\n {D}\")\n",
    "print(f\"P = \\n  {P}\")\n",
    "\n",
    "LD = np.dot(L, D)\n",
    "print(f\"LD = \\n {LD}\")\n",
    "\n",
    "print(f\"LDL^T = \\n {np.dot(LD, L.T)}\")\n",
    "\n"
   ]
  },
  {
   "cell_type": "markdown",
   "metadata": {},
   "source": [
    "## Métodos directos de resolución de sistemas lineales\n",
    "\n",
    "Abordamos a continuación la resolución de sistemas lineales de la forma \n",
    "$Ax = b$, donde $A$ es una matriz cuadrada de orden $n$ y $b$ es un vector \n",
    "columna de $n$ componentes. La incógnita es $x$.\n",
    "\n",
    "Para ello, utilizarmos el método [solve()](https://docs.scipy.org/doc/scipy/reference/generated/scipy.linalg.solve.html#scipy.linalg.solve), el cual usa las factorizaciones $LU$ y Choleski.\n",
    "Todo ello aparece implementado en la librería [LAPACK](https://netlib.org/lapack/lug/)\n",
    "\n",
    "Veamos un par de ejemplos"
   ]
  },
  {
   "cell_type": "markdown",
   "metadata": {},
   "source": []
  },
  {
   "cell_type": "code",
   "execution_count": 5,
   "metadata": {},
   "outputs": [
    {
     "name": "stdout",
     "output_type": "stream",
     "text": [
      "x = [ 2.20833333 -2.58333333 -0.18333333]\n"
     ]
    }
   ],
   "source": [
    "import numpy as np\n",
    "from scipy.linalg import solve\n",
    "\n",
    "A = np.array([\n",
    "    [4, 3, -5],\n",
    "    [-2, -4, 5],\n",
    "    [8, 8, 0]\n",
    "    ])\n",
    "b = np.array([2, 5, -3])\n",
    "\n",
    "x = solve(A, b)\n",
    "print(f\"x = {x}\")"
   ]
  },
  {
   "cell_type": "markdown",
   "metadata": {},
   "source": [
    "En el caso de que la matriz del sistema sea de una forma especial, por ejemplo \n",
    "simétrica y definida positiva, podemos indicar a *solve* que use una \n",
    "factorización adecuada al tipo de matriz."
   ]
  },
  {
   "cell_type": "code",
   "execution_count": 6,
   "metadata": {},
   "outputs": [
    {
     "name": "stdout",
     "output_type": "stream",
     "text": [
      "x = [-0.5 -1.  -1.5 -1.  -0.5]\n"
     ]
    }
   ],
   "source": [
    "import numpy as np\n",
    "from scipy.linalg import solve\n",
    "\n",
    "T = np.array([\n",
    "    [2, -1, 0, 0, 0],\n",
    "    [-1, 2, -1, 0, 0],\n",
    "    [0, -1, 2, -1, 0],\n",
    "    [0, 0, -1, 2, -1],\n",
    "    [0, 0, 0, -1, 2]    \n",
    "])\n",
    "\n",
    "y = np.array([0, 0, -1, 0, 0])\n",
    "\n",
    "# indicamos que la matriz es simétrica y definida positiva\n",
    "x = solve(T, y, sym_pos='True') \n",
    "print(f\"x = {x}\")"
   ]
  }
 ],
 "metadata": {
  "kernelspec": {
   "display_name": "Python 3.9.12 ('base')",
   "language": "python",
   "name": "python3"
  },
  "language_info": {
   "codemirror_mode": {
    "name": "ipython",
    "version": 3
   },
   "file_extension": ".py",
   "mimetype": "text/x-python",
   "name": "python",
   "nbconvert_exporter": "python",
   "pygments_lexer": "ipython3",
   "version": "3.9.12 (main, Apr  4 2022, 05:22:27) [MSC v.1916 64 bit (AMD64)]"
  },
  "orig_nbformat": 4,
  "vscode": {
   "interpreter": {
    "hash": "92ad534bca2326751c2f5722ba22922b33dc52d08b3797a5404dfb2c21ce7615"
   }
  }
 },
 "nbformat": 4,
 "nbformat_minor": 2
}
