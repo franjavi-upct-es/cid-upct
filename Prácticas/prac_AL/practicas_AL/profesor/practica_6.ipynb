{
 "cells": [
  {
   "cell_type": "markdown",
   "metadata": {},
   "source": [
    "# Práctica 6. Matrices sparse. Manipulación de matrices desde ficheros de datos"
   ]
  },
  {
   "cell_type": "markdown",
   "metadata": {},
   "source": [
    "##  [Matrices sparse](https://docs.scipy.org/doc/scipy/reference/sparse.html)\n",
    "\n"
   ]
  },
  {
   "cell_type": "code",
   "execution_count": 39,
   "metadata": {},
   "outputs": [],
   "source": [
    "import numpy as np\n",
    "from scipy.sparse import csr_matrix"
   ]
  },
  {
   "cell_type": "markdown",
   "metadata": {},
   "source": [
    "Veamos cómo se introduce una matriz sparse y cómo se pasa a dense y viceversa"
   ]
  },
  {
   "cell_type": "code",
   "execution_count": 40,
   "metadata": {},
   "outputs": [
    {
     "name": "stdout",
     "output_type": "stream",
     "text": [
      "A = [[1 0 0 1 0 0]\n",
      " [0 0 2 0 0 1]\n",
      " [0 0 0 2 0 0]]\n",
      "A en formato sparse =\n",
      "   (0, 0)\t1\n",
      "  (0, 3)\t1\n",
      "  (1, 2)\t2\n",
      "  (1, 5)\t1\n",
      "  (2, 3)\t2\n",
      "S en formato dense = \n",
      " [[1 0 0 1 0 0]\n",
      " [0 0 2 0 0 1]\n",
      " [0 0 0 2 0 0]]\n"
     ]
    }
   ],
   "source": [
    "A = np.array([\n",
    "[1, 0, 0, 1, 0, 0],\n",
    "[0, 0, 2, 0, 0, 1],\n",
    "[0, 0, 0, 2, 0, 0]])\n",
    "print(f\"A = {A}\")\n",
    "\n",
    "S = csr_matrix(A) # convertimos A a formato sparse (clase compressed sparse row)\n",
    "print(f\"A en formato sparse =\\n {S}\")\n",
    "\n",
    "B = S.todense() # recuperamos el formato dense\n",
    "print(f\"S en formato dense = \\n {B}\")\n"
   ]
  },
  {
   "cell_type": "markdown",
   "metadata": {},
   "source": []
  },
  {
   "cell_type": "markdown",
   "metadata": {},
   "source": [
    "La forma de almacenar datos en formato CSR es la siguiente:\n",
    "\n",
    "**data** = vector con datos no nulos\n",
    "\n",
    "**indices** = vector con numeración de columnas no nulas\n",
    "\n",
    "**indptr** = puntero para datos y filas. \n",
    "\n",
    "En concreto: para la fila i, [indptr[i]:indptr[i+1]] devuelve los índices \n",
    "\n",
    "de elementos para tomar de los datos e índices correspondientes a la fila i "
   ]
  },
  {
   "cell_type": "code",
   "execution_count": 41,
   "metadata": {},
   "outputs": [
    {
     "name": "stdout",
     "output_type": "stream",
     "text": [
      "sparse matrix in csr format =   (0, 0)\t1\n",
      "  (0, 3)\t1\n",
      "  (1, 2)\t2\n",
      "  (1, 5)\t1\n",
      "  (2, 3)\t2\n",
      "misma matriz en formato dense = [[1 0 0 1 0 0]\n",
      " [0 0 2 0 0 1]\n",
      " [0 0 0 2 0 0]]\n",
      "datos no nulos de la matriz =[1 1 2 1 2]\n",
      "índices de columnas = [0 3 2 5 3]\n",
      "punteros para los índices de datos y filas = [0 2 4 5]\n"
     ]
    }
   ],
   "source": [
    "row = np.array([0, 0, 1, 1, 2])\n",
    "col = np.array([0, 3, 2, 5, 3])\n",
    "data = np.array([1, 1, 2, 1, 2])\n",
    "\n",
    "mtx = csr_matrix((data, (row, col)), shape=(3, 6))\n",
    "\n",
    "print(f\"sparse matrix in csr format = {mtx}\") \n",
    "\n",
    "print(f\"misma matriz en formato dense = {mtx.todense()}\")\n",
    "\n",
    "print(f\"datos no nulos de la matriz ={mtx.data}\")\n",
    "\n",
    "print(f\"índices de columnas = {mtx.indices}\")\n",
    "\n",
    "print(f\"punteros para los índices de datos y filas = {mtx.indptr}\")"
   ]
  },
  {
   "cell_type": "markdown",
   "metadata": {},
   "source": [
    "En el ejemplo anterior, la salida de **indptr** significa:\n",
    "\n",
    "fila 0: [0:2[ tomamos los elementos 0 y 1 de data y los colocamos en las\n",
    "\n",
    "columnas 0 y 3.\n",
    "\n",
    "fila 1: [2:4[ tomamos los elementos 2 y 3 de data y los colocamos en las\n",
    "\n",
    "columnas 2 y 5.\n",
    "\n",
    "fila 2: [4:5[ tomamos el elemento 4 de data y lo colocamos en la \n",
    "\n",
    "columna 3"
   ]
  },
  {
   "cell_type": "markdown",
   "metadata": {},
   "source": [
    "Tenemos otros formatos de almacenar matrices sparse.\n",
    "\n",
    "Véase la [API sparse matrices](https://docs.scipy.org/doc/scipy/reference/sparse.html)\n",
    "\n",
    "Por ejemplo la clase csc_matrix (compressed sparse column)"
   ]
  },
  {
   "cell_type": "code",
   "execution_count": 42,
   "metadata": {},
   "outputs": [
    {
     "name": "stdout",
     "output_type": "stream",
     "text": [
      "A = [[1 0 0 1 0 0]\n",
      " [0 0 2 0 0 1]\n",
      " [0 0 0 2 0 0]]\n",
      "A en formato sparse =\n",
      "   (0, 0)\t1\n",
      "  (1, 2)\t2\n",
      "  (0, 3)\t1\n",
      "  (2, 3)\t2\n",
      "  (1, 5)\t1\n"
     ]
    }
   ],
   "source": [
    "from scipy.sparse import csc_matrix\n",
    "\n",
    "A = np.array([\n",
    "[1, 0, 0, 1, 0, 0],\n",
    "[0, 0, 2, 0, 0, 1],\n",
    "[0, 0, 0, 2, 0, 0]])\n",
    "print(f\"A = {A}\")\n",
    "\n",
    "SC = csc_matrix(A) # convertimos A a formato sparse (clase compressed column matrix)\n",
    "print(f\"A en formato sparse =\\n {SC}\")"
   ]
  },
  {
   "cell_type": "markdown",
   "metadata": {},
   "source": [
    "Aunque a la vista csr y csc parecen iguales, cada una de estas clases (y otras) tienen sus ventajas e inconvenientes según el tipo de operaciones a realizar.\n",
    "\n",
    "Véanse las recomendaciones en la [API sparse matrices](https://docs.scipy.org/doc/scipy/reference/sparse.html)"
   ]
  },
  {
   "cell_type": "markdown",
   "metadata": {},
   "source": [
    "La sparsity de una matriz se mide mediante la fórmula\n",
    "\n",
    "$$\\text{sparsity}(A) = 1-\\frac{\\text{entradas no nulas de A}}\n",
    "{\\text{entradas totales de A}} $$"
   ]
  },
  {
   "cell_type": "code",
   "execution_count": 43,
   "metadata": {},
   "outputs": [
    {
     "name": "stdout",
     "output_type": "stream",
     "text": [
      "sparsity(A) = 0.7222222222222222\n"
     ]
    }
   ],
   "source": [
    "def sparsity(A):\n",
    "    sparsi = 1.0 - np.count_nonzero(A) / A.size\n",
    "    return sparsi\n",
    "\n",
    "print(f\"sparsity(A) = {sparsity(A)}\")"
   ]
  },
  {
   "cell_type": "markdown",
   "metadata": {},
   "source": [
    "Veamos algunas funciones para almacenar matrices **sparse**"
   ]
  },
  {
   "cell_type": "code",
   "execution_count": 44,
   "metadata": {},
   "outputs": [
    {
     "name": "stdout",
     "output_type": "stream",
     "text": [
      "matriz de tamaño 10x5 con unos en la diagonal =\n",
      "   (0, 0)\t1.0\n",
      "  (1, 1)\t1.0\n",
      "  (2, 2)\t1.0\n",
      "  (3, 3)\t1.0\n",
      "  (4, 4)\t1.0\n",
      "matriz identidad de tamaño 5 =\n",
      "   (0, 0)\t1.0\n",
      "  (1, 1)\t1.0\n",
      "  (2, 2)\t1.0\n",
      "  (3, 3)\t1.0\n",
      "  (4, 4)\t1.0\n",
      "elementos no nulos de A =\n",
      " (array([0, 1, 2, 3, 4], dtype=int32), array([0, 1, 2, 3, 4], dtype=int32), array([1., 1., 1., 1., 1.]))\n",
      "matriz sparse de tamaño 10x20 con entradas aleatorias = \n",
      "   (6, 10)\t0.6497051850349712\n",
      "  (3, 1)\t0.020536755308929178\n",
      "  (9, 3)\t0.17031316136551156\n",
      "  (4, 16)\t0.9101037863677078\n",
      "  (1, 0)\t0.5261392855806858\n",
      "  (7, 14)\t0.544807412857838\n",
      "  (9, 15)\t0.7352346043779051\n",
      "  (0, 11)\t0.08026381116426307\n",
      "  (5, 2)\t0.4404551238922423\n",
      "  (0, 4)\t0.06687894697300201\n",
      "  (9, 18)\t0.5162201170358043\n",
      "  (7, 5)\t0.032611985617193695\n",
      "  (8, 7)\t0.19125649088426666\n",
      "  (8, 14)\t0.6580095969488852\n",
      "  (9, 10)\t0.7257359083608668\n",
      "  (9, 16)\t0.8865193970422489\n",
      "  (2, 7)\t0.4004968052282448\n",
      "  (7, 11)\t0.9530960377170153\n",
      "  (6, 14)\t0.19899291453143686\n",
      "  (8, 9)\t0.36645594778839297\n",
      "  (4, 15)\t0.7321836972980751\n",
      "  (2, 9)\t0.2132520616402489\n",
      "  (0, 15)\t0.3705745275450931\n",
      "  (8, 6)\t0.7040538820026485\n",
      "  (3, 16)\t0.588657249627827\n",
      "  :\t:\n",
      "  (3, 0)\t0.4646748827851883\n",
      "  (4, 5)\t0.9389489220888801\n",
      "  (8, 19)\t0.5803345097059877\n",
      "  (2, 11)\t0.7436041583846447\n",
      "  (6, 3)\t0.8298060428705507\n",
      "  (4, 19)\t0.5032467036048932\n",
      "  (5, 12)\t0.8860159429102296\n",
      "  (4, 12)\t0.2762129703204743\n",
      "  (5, 4)\t0.13958239490595958\n",
      "  (0, 10)\t0.19131162792933132\n",
      "  (5, 16)\t0.9284667227472722\n",
      "  (3, 2)\t0.9809091876494005\n",
      "  (7, 10)\t0.5944630772466218\n",
      "  (0, 0)\t0.7745936014149467\n",
      "  (3, 13)\t0.07756231869260055\n",
      "  (3, 19)\t0.9865882144626369\n",
      "  (0, 12)\t0.6744120736974626\n",
      "  (7, 15)\t0.5655012606374983\n",
      "  (1, 6)\t0.756216809079485\n",
      "  (3, 12)\t0.6748180979304911\n",
      "  (0, 16)\t0.2312801457921706\n",
      "  (3, 15)\t0.0839801328432005\n",
      "  (9, 6)\t0.4739991001627719\n",
      "  (0, 6)\t0.019751244649584443\n",
      "  (6, 13)\t0.5096231348408488\n"
     ]
    }
   ],
   "source": [
    "from scipy import sparse\n",
    "\n",
    "A = sparse.eye(10,5)\n",
    "print(f\"matriz de tamaño 10x5 con unos en la diagonal =\\n {A}\")\n",
    "\n",
    "B = sparse.identity(5)\n",
    "print(f\"matriz identidad de tamaño 5 =\\n {B}\")\n",
    "\n",
    "print(f\"elementos no nulos de A =\\n {sparse.find(A)}\")\n",
    "\n",
    "C = sparse.random(10, 20, density=0.5) # density = 1 - sparsity\n",
    "print(f\"matriz sparse de tamaño 10x20 con entradas aleatorias = \\n {C}\")\n",
    "\n"
   ]
  },
  {
   "cell_type": "markdown",
   "metadata": {},
   "source": [
    "## Manipulación de matrices desde ficheros de datos"
   ]
  },
  {
   "cell_type": "markdown",
   "metadata": {},
   "source": [
    "Guardamos matrices en ficheros .npz \n",
    "\n",
    ".npz es un formato de fichero de datos de numpy que permite almacenar \n",
    "\n",
    "matrices de datos usando compresión gzip. "
   ]
  },
  {
   "cell_type": "code",
   "execution_count": 45,
   "metadata": {},
   "outputs": [],
   "source": [
    "sparse.save_npz('../data/random_sparse_matrix.npz', C)"
   ]
  },
  {
   "cell_type": "markdown",
   "metadata": {},
   "source": [
    "Cargamos matrices desde ficheros .npz"
   ]
  },
  {
   "cell_type": "code",
   "execution_count": 46,
   "metadata": {},
   "outputs": [
    {
     "name": "stdout",
     "output_type": "stream",
     "text": [
      "  (6, 10)\t0.6497051850349712\n",
      "  (3, 1)\t0.020536755308929178\n",
      "  (9, 3)\t0.17031316136551156\n",
      "  (4, 16)\t0.9101037863677078\n",
      "  (1, 0)\t0.5261392855806858\n",
      "  (7, 14)\t0.544807412857838\n",
      "  (9, 15)\t0.7352346043779051\n",
      "  (0, 11)\t0.08026381116426307\n",
      "  (5, 2)\t0.4404551238922423\n",
      "  (0, 4)\t0.06687894697300201\n",
      "  (9, 18)\t0.5162201170358043\n",
      "  (7, 5)\t0.032611985617193695\n",
      "  (8, 7)\t0.19125649088426666\n",
      "  (8, 14)\t0.6580095969488852\n",
      "  (9, 10)\t0.7257359083608668\n",
      "  (9, 16)\t0.8865193970422489\n",
      "  (2, 7)\t0.4004968052282448\n",
      "  (7, 11)\t0.9530960377170153\n",
      "  (6, 14)\t0.19899291453143686\n",
      "  (8, 9)\t0.36645594778839297\n",
      "  (4, 15)\t0.7321836972980751\n",
      "  (2, 9)\t0.2132520616402489\n",
      "  (0, 15)\t0.3705745275450931\n",
      "  (8, 6)\t0.7040538820026485\n",
      "  (3, 16)\t0.588657249627827\n",
      "  :\t:\n",
      "  (3, 0)\t0.4646748827851883\n",
      "  (4, 5)\t0.9389489220888801\n",
      "  (8, 19)\t0.5803345097059877\n",
      "  (2, 11)\t0.7436041583846447\n",
      "  (6, 3)\t0.8298060428705507\n",
      "  (4, 19)\t0.5032467036048932\n",
      "  (5, 12)\t0.8860159429102296\n",
      "  (4, 12)\t0.2762129703204743\n",
      "  (5, 4)\t0.13958239490595958\n",
      "  (0, 10)\t0.19131162792933132\n",
      "  (5, 16)\t0.9284667227472722\n",
      "  (3, 2)\t0.9809091876494005\n",
      "  (7, 10)\t0.5944630772466218\n",
      "  (0, 0)\t0.7745936014149467\n",
      "  (3, 13)\t0.07756231869260055\n",
      "  (3, 19)\t0.9865882144626369\n",
      "  (0, 12)\t0.6744120736974626\n",
      "  (7, 15)\t0.5655012606374983\n",
      "  (1, 6)\t0.756216809079485\n",
      "  (3, 12)\t0.6748180979304911\n",
      "  (0, 16)\t0.2312801457921706\n",
      "  (3, 15)\t0.0839801328432005\n",
      "  (9, 6)\t0.4739991001627719\n",
      "  (0, 6)\t0.019751244649584443\n",
      "  (6, 13)\t0.5096231348408488\n"
     ]
    }
   ],
   "source": [
    "D = sparse.load_npz(\"../data/random_sparse_matrix.npz\")\n",
    "print(D)"
   ]
  }
 ],
 "metadata": {
  "kernelspec": {
   "display_name": "Python 3.9.12 ('base')",
   "language": "python",
   "name": "python3"
  },
  "language_info": {
   "codemirror_mode": {
    "name": "ipython",
    "version": 3
   },
   "file_extension": ".py",
   "mimetype": "text/x-python",
   "name": "python",
   "nbconvert_exporter": "python",
   "pygments_lexer": "ipython3",
   "version": "3.9.12"
  },
  "orig_nbformat": 4,
  "vscode": {
   "interpreter": {
    "hash": "92ad534bca2326751c2f5722ba22922b33dc52d08b3797a5404dfb2c21ce7615"
   }
  }
 },
 "nbformat": 4,
 "nbformat_minor": 2
}
