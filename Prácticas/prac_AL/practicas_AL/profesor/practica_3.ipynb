{
 "cells": [
  {
   "cell_type": "markdown",
   "metadata": {},
   "source": [
    "# Práctica 3. Más sobre NumPy arrays: index, slice, reshape, broadcasting, etc."
   ]
  },
  {
   "cell_type": "code",
   "execution_count": 1,
   "metadata": {},
   "outputs": [],
   "source": [
    "import numpy as np"
   ]
  },
  {
   "cell_type": "markdown",
   "metadata": {},
   "source": [
    "## [Array Indexing](https://docs.scipy.org/doc/numpy-1.13.0/user/basics.indexing.html)"
   ]
  },
  {
   "cell_type": "code",
   "execution_count": 2,
   "metadata": {},
   "outputs": [
    {
     "name": "stdout",
     "output_type": "stream",
     "text": [
      "11\n",
      "55\n",
      "55\n",
      "11\n"
     ]
    }
   ],
   "source": [
    "# índices en 1d-arrays\n",
    "data = np.array([11, 22, 33, 44, 55])\n",
    "# numeramos las componentes del array empezando desde **cero** \n",
    "# accedemos a los elementos con corchetes sobre el array\n",
    "print(data[0])\n",
    "print(data[4])\n",
    "\n",
    "# print(data[5]) ## error pues no tenemos ningún elemento\n",
    "\n",
    "# también podemos usar índices negativos:\n",
    "# -1 es el último elemento del arrary, -2 el penúltimo, etc.\n",
    "print(data[-1])\n",
    "print(data[-5])\n"
   ]
  },
  {
   "cell_type": "code",
   "execution_count": 3,
   "metadata": {},
   "outputs": [
    {
     "name": "stdout",
     "output_type": "stream",
     "text": [
      "[[11 22]\n",
      " [33 44]\n",
      " [55 66]]\n",
      "11\n",
      "[11 22]\n",
      "[22 44 66]\n"
     ]
    }
   ],
   "source": [
    "# índices en 2d-arrays\n",
    "data = np.array(\n",
    "    [[11, 22],\n",
    "    [33, 44],\n",
    "    [55, 66]]\n",
    "    )\n",
    "print(data)\n",
    "# usamos el criterio usual de filas, columnas, pero empezando en cero\n",
    "print(data[0, 0])  # dato en posisión [0, 0]\n",
    "print(data[0, :])  # fila 0, todos los datos\n",
    "print(data[:, 1])  # todos los datos de la columna 1\n",
    " "
   ]
  },
  {
   "cell_type": "markdown",
   "metadata": {},
   "source": [
    "## [Array Slicing](https://docs.scipy.org/doc/numpy-1.13.0/user/basics.indexing.html)"
   ]
  },
  {
   "cell_type": "code",
   "execution_count": 4,
   "metadata": {},
   "outputs": [
    {
     "name": "stdout",
     "output_type": "stream",
     "text": [
      "[11 22 33 44 55]\n",
      "[22 33 44]\n",
      "[44 55]\n"
     ]
    }
   ],
   "source": [
    "# cortar (slice) 1d-arrays\n",
    "data = np.array([11, 22, 33, 44, 55])\n",
    "print(data)\n",
    "# data[from:to] el corte va desde el dato *from* y acaba justo antes de *to*\n",
    "print(data[1:4])\n",
    "# también con índices negativos\n",
    "print(data[-2: ]) # desde -2 hasta el final"
   ]
  },
  {
   "cell_type": "markdown",
   "metadata": {},
   "source": [
    "En Machine Learning es habitual separar todos  los datos en las llamadas\n",
    "**features** (características, denotadas por X) y **labels** (etiquetas, y). \n",
    "Por ejemplo, las features pueden ser imágenes (números que asignan a cada pixel \n",
    "un tono de  color) y los labels la etiqueta de las imágenes (coche, moto, etc.).\n",
    "Todos los datos aparecen dentro de una matriz y hay que cortar (slice) los datos.\n",
    "Veamos cómo hacer esto."
   ]
  },
  {
   "cell_type": "code",
   "execution_count": 5,
   "metadata": {},
   "outputs": [
    {
     "name": "stdout",
     "output_type": "stream",
     "text": [
      "[[11 22 33]\n",
      " [44 55 66]\n",
      " [77 88 99]]\n",
      "X =\n",
      " [[11 22]\n",
      " [44 55]\n",
      " [77 88]]\n",
      "y =\n",
      " [33 66 99]\n"
     ]
    }
   ],
   "source": [
    "# cortar (slice) 2d-arrays\n",
    "data = np.array([\n",
    "    [11, 22, 33],\n",
    "    [44, 55, 66],\n",
    "    [77, 88, 99]]\n",
    "    )\n",
    "print(data)\n",
    "\n",
    "# las features X serán todas las filas y columnas excepto la última columna\n",
    "# las labels serán todas las filas y la última columna\n",
    "\n",
    "X, y = data[:, :-1], data[:, -1]\n",
    "print(f\"X =\\n {X}\")\n",
    "print(f\"y =\\n {y}\")\n"
   ]
  },
  {
   "cell_type": "markdown",
   "metadata": {},
   "source": [
    "También es habitual en Machine Learning separar los datos en dos subconjuntos:\n",
    "uno lo usaremos para entrenar un modelo **training dataset** y el otro para \n",
    "chequear la bondad del modelo **test dataset**.\n",
    "Veamos un ejemplo."
   ]
  },
  {
   "cell_type": "code",
   "execution_count": 6,
   "metadata": {},
   "outputs": [
    {
     "name": "stdout",
     "output_type": "stream",
     "text": [
      "[[11 22 33]\n",
      " [44 55 66]\n",
      " [77 88 99]]\n",
      "train dataset =\n",
      " [[11 22 33]\n",
      " [44 55 66]]\n",
      "test dataset =\n",
      " [[77 88 99]]\n"
     ]
    }
   ],
   "source": [
    "data = np.array([\n",
    "    [11, 22, 33],\n",
    "    [44, 55, 66],\n",
    "    [77, 88, 99]]\n",
    "    )\n",
    "print(data)\n",
    "# training dataset serán todas las filas desde el principio hasta split\n",
    "# test dataset serán todas las filas empezado desde split y hasta el final\n",
    "split = 2\n",
    "train, test = data[:split, :], data[split:, :]\n",
    "print(f\"train dataset =\\n {train}\")\n",
    "print(f\"test dataset =\\n {test}\")"
   ]
  },
  {
   "cell_type": "markdown",
   "metadata": {},
   "source": [
    "## [Array Reshape](https://docs.scipy.org/doc/numpy/reference/generated/numpy.reshape.html)"
   ]
  },
  {
   "cell_type": "markdown",
   "metadata": {},
   "source": [
    "Después de cortar (slice) los datos es habitual tener que cambiar la forma de \n",
    "dichos datos para que se adapten a los requerimientos de algunas librerías de \n",
    "tratamiento de datos de Python (scikit-learn, keras, etc.).\n",
    "Por ejemplo, estructurar los datos de un 1d-array como un 2d-array.\n",
    "Veamos algunos ejemplos."
   ]
  },
  {
   "cell_type": "code",
   "execution_count": 7,
   "metadata": {},
   "outputs": [
    {
     "name": "stdout",
     "output_type": "stream",
     "text": [
      "[11 22 33 44 55]\n",
      "(5,)\n",
      "[[11 22]\n",
      " [33 44]\n",
      " [55 66]]\n",
      "(3, 2)\n",
      "número de las filas = 3\n",
      "número de columnas = 2\n"
     ]
    }
   ],
   "source": [
    "# Empezemos viendo algunas data shape (formas de datos)\n",
    "\n",
    "data = np.array([11, 22, 33, 44, 55])\n",
    "print(data)\n",
    "print(data.shape) # devuelve una tupla con el número de elmentos del 1d-array\n",
    "\n",
    "# introducimos una lista\n",
    "data = [\n",
    "    [11, 22], \n",
    "    [33, 44],\n",
    "    [55, 66]\n",
    "    ]\n",
    "# convertimos la lista en un 2d-array\n",
    "data = np.array(data)\n",
    "print(data)\n",
    "print(data.shape) # nos devuelve una tupla con el número de filas y de columnas\n",
    "\n",
    "print(f\"número de las filas = {data.shape[0]}\")\n",
    "print(f\"número de columnas = {data.shape[1]}\")\n",
    "\n",
    "# fila = dimensión 0, columna = dimensión 1"
   ]
  },
  {
   "cell_type": "code",
   "execution_count": 8,
   "metadata": {},
   "outputs": [
    {
     "name": "stdout",
     "output_type": "stream",
     "text": [
      "[11 22 33 44 55]\n",
      "(5,)\n",
      "[[11]\n",
      " [22]\n",
      " [33]\n",
      " [44]\n",
      " [55]]\n",
      "(5, 1)\n"
     ]
    }
   ],
   "source": [
    "# convertimos un 1d-array (vector fila) en un 2d-array (vector columna)\n",
    "data = np.array([11, 22, 33, 44, 55])\n",
    "print(data)\n",
    "print(data.shape)\n",
    "# reshape\n",
    "data = data.reshape((data.shape[0], 1))\n",
    "print(data)\n",
    "print(data.shape)"
   ]
  },
  {
   "cell_type": "code",
   "execution_count": 9,
   "metadata": {},
   "outputs": [
    {
     "name": "stdout",
     "output_type": "stream",
     "text": [
      "[[11 22  3]\n",
      " [33 44 46]\n",
      " [55 66 76]]\n",
      "(3, 3)\n",
      "[[[11]\n",
      "  [22]\n",
      "  [ 3]]\n",
      "\n",
      " [[33]\n",
      "  [44]\n",
      "  [46]]\n",
      "\n",
      " [[55]\n",
      "  [66]\n",
      "  [76]]]\n",
      "(3, 3, 1)\n"
     ]
    }
   ],
   "source": [
    "# convertimos un 2d-array en un 3d-array\n",
    "# un ejemplo de la utilidad de convertir un 2d-array en un 3d-array podría ser\n",
    "# el siguiente: los datos representan la feature \"fuerza\". Cada fila contiene \n",
    "# un dato medido (sample) de la fuera (vector de 3 componentes). Reagrupamos \n",
    "# los datos guardándolos en un archivador (3d-array) que, de momento, sólo \n",
    "# contiene una carpeta (2d-array) donde guardamos los datos de la fuerza (1d-array) \n",
    "\n",
    "# lista de datos\n",
    "data = [[11, 22, 3],\n",
    "[33, 44, 46],\n",
    "[55, 66, 76]]\n",
    "# convertimos la lista en array\n",
    "data = np.array(data)\n",
    "print(data)\n",
    "print(data.shape)\n",
    "# convertimos el 2d-array en un 3d-array\n",
    "data = data.reshape((data.shape[0], data.shape[1], 1))\n",
    "print(data)\n",
    "print(data.shape)"
   ]
  },
  {
   "cell_type": "markdown",
   "metadata": {},
   "source": [
    "## [Array Broadcasting](https://docs.scipy.org/doc/numpy-1.13.0/user/basics.broadcasting.html)"
   ]
  },
  {
   "cell_type": "markdown",
   "metadata": {},
   "source": [
    "Podemos sumar dos vectores de la misma dimensión, pero no sumar una matriz a un \n",
    "vector. Sin embargo, en Ciencia de Datos, a menudo tenemos que sumar a una \n",
    "matriz un vector.\n",
    "\n",
    "Por ejemplo, si A = (A_i,j) es una matriz y b = (b_j) un vector, entonces\n",
    " C = A + b, representa la matriz de entradas C_i,j = A_i,j + b_j, donde el \n",
    " vector b se añade a cada fila de la matriz A. Esto elimina la necesidad de \n",
    " definir una matriz donde el vector b se copia en cada fila de la nueva matriz.\n",
    " Este copiado implícito del vector b en varias localizaciones se llama\n",
    " **broadcasting** (algo sí como difusión, en español, y hace referencia a que el array de menor dimensión se \"difunde\" en el de mayor dimensión). Veamos algunos ejemplos. "
   ]
  },
  {
   "cell_type": "code",
   "execution_count": 10,
   "metadata": {},
   "outputs": [
    {
     "name": "stdout",
     "output_type": "stream",
     "text": [
      "[1 2 3]\n",
      "2\n",
      "[3 4 5]\n"
     ]
    }
   ],
   "source": [
    "# broadcast escalar en un 1d-array\n",
    "a = np.array([1, 2, 3])\n",
    "print(a)\n",
    "b = 2\n",
    "print(b)\n",
    "# broadcast\n",
    "c = a + b\n",
    "print(c)"
   ]
  },
  {
   "cell_type": "code",
   "execution_count": 11,
   "metadata": {},
   "outputs": [
    {
     "name": "stdout",
     "output_type": "stream",
     "text": [
      "[[1 2 3]\n",
      " [1 1 1]]\n",
      "2\n",
      "[[3 4 5]\n",
      " [3 3 3]]\n"
     ]
    }
   ],
   "source": [
    "# igual pero en un 2d-array\n",
    "A = np.array([\n",
    "    [1, 2, 3],\n",
    "    [1, 1, 1]]\n",
    "    )\n",
    "print(A)\n",
    "\n",
    "b = 2\n",
    "print(b)\n",
    "# broadcast\n",
    "C = A + b\n",
    "print(C)"
   ]
  },
  {
   "cell_type": "code",
   "execution_count": 12,
   "metadata": {},
   "outputs": [
    {
     "name": "stdout",
     "output_type": "stream",
     "text": [
      "[[1 2 3]\n",
      " [1 1 1]]\n",
      "[1 2 3]\n",
      "[[2 4 6]\n",
      " [2 3 4]]\n"
     ]
    }
   ],
   "source": [
    "# broadcast 1d array en 2d-array\n",
    "\n",
    "A = np.array([ \n",
    "    [1, 2, 3], \n",
    "    [1, 1, 1]]\n",
    "    )\n",
    "print(A)\n",
    "\n",
    "b = np.array([1, 2, 3])\n",
    "print(b)\n",
    "# broadcast\n",
    "C = A + b\n",
    "print(C)"
   ]
  },
  {
   "cell_type": "code",
   "execution_count": 13,
   "metadata": {},
   "outputs": [
    {
     "name": "stdout",
     "output_type": "stream",
     "text": [
      "(2, 3)\n",
      "(2,)\n"
     ]
    },
    {
     "ename": "ValueError",
     "evalue": "operands could not be broadcast together with shapes (2,3) (2,) ",
     "output_type": "error",
     "traceback": [
      "\u001b[0;31m---------------------------------------------------------------------------\u001b[0m",
      "\u001b[0;31mValueError\u001b[0m                                Traceback (most recent call last)",
      "\u001b[0;32m<ipython-input-13-41f9dd90912f>\u001b[0m in \u001b[0;36m<module>\u001b[0;34m\u001b[0m\n\u001b[1;32m      8\u001b[0m \u001b[0mprint\u001b[0m\u001b[0;34m(\u001b[0m\u001b[0mb\u001b[0m\u001b[0;34m.\u001b[0m\u001b[0mshape\u001b[0m\u001b[0;34m)\u001b[0m\u001b[0;34m\u001b[0m\u001b[0;34m\u001b[0m\u001b[0m\n\u001b[1;32m      9\u001b[0m \u001b[0;31m# attempt broadcast. Error: el 1d-array tiene 2 elementos y la matriz 3 columnas\u001b[0m\u001b[0;34m\u001b[0m\u001b[0;34m\u001b[0m\u001b[0;34m\u001b[0m\u001b[0m\n\u001b[0;32m---> 10\u001b[0;31m \u001b[0mC\u001b[0m \u001b[0;34m=\u001b[0m \u001b[0mA\u001b[0m \u001b[0;34m+\u001b[0m \u001b[0mb\u001b[0m\u001b[0;34m\u001b[0m\u001b[0;34m\u001b[0m\u001b[0m\n\u001b[0m\u001b[1;32m     11\u001b[0m \u001b[0mprint\u001b[0m\u001b[0;34m(\u001b[0m\u001b[0mC\u001b[0m\u001b[0;34m)\u001b[0m\u001b[0;34m\u001b[0m\u001b[0;34m\u001b[0m\u001b[0m\n",
      "\u001b[0;31mValueError\u001b[0m: operands could not be broadcast together with shapes (2,3) (2,) "
     ]
    }
   ],
   "source": [
    "# limitaciones del broadcasting\n",
    "A = np.array([\n",
    "[1, 2, 3],\n",
    "[1, 2, 3]])\n",
    "print(A.shape)\n",
    "# define one-dimensional array\n",
    "b = np.array([1, 2])\n",
    "print(b.shape)\n",
    "# attempt broadcast. Error: el 1d-array tiene 2 elementos y la matriz 3 columnas\n",
    "C = A + b\n",
    "print(C)"
   ]
  }
 ],
 "metadata": {
  "kernelspec": {
   "display_name": "Python 3.9.12 ('base')",
   "language": "python",
   "name": "python3"
  },
  "language_info": {
   "codemirror_mode": {
    "name": "ipython",
    "version": 3
   },
   "file_extension": ".py",
   "mimetype": "text/x-python",
   "name": "python",
   "nbconvert_exporter": "python",
   "pygments_lexer": "ipython3",
   "version": "3.9.12 (main, Apr  4 2022, 05:22:27) [MSC v.1916 64 bit (AMD64)]"
  },
  "orig_nbformat": 4,
  "vscode": {
   "interpreter": {
    "hash": "92ad534bca2326751c2f5722ba22922b33dc52d08b3797a5404dfb2c21ce7615"
   }
  }
 },
 "nbformat": 4,
 "nbformat_minor": 2
}
