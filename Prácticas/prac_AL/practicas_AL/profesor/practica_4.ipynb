{
 "cells": [
  {
   "cell_type": "markdown",
   "metadata": {},
   "source": [
    "# Práctica 4. Vectores: aritmética y normas "
   ]
  },
  {
   "cell_type": "code",
   "execution_count": 1,
   "metadata": {},
   "outputs": [],
   "source": [
    "import numpy as np"
   ]
  },
  {
   "cell_type": "markdown",
   "metadata": {},
   "source": [
    "## Aritmética básica de vectores"
   ]
  },
  {
   "cell_type": "code",
   "execution_count": 2,
   "metadata": {},
   "outputs": [
    {
     "name": "stdout",
     "output_type": "stream",
     "text": [
      "[1 2 3]\n",
      "[1 2 3]\n",
      "a + b  = [2 4 6]\n",
      "a - b  = [0 0 0]\n"
     ]
    }
   ],
   "source": [
    "# definimos dos vectores\n",
    "a = np.array([1, 2, 3])\n",
    "print(a)\n",
    "\n",
    "b = np.array([1, 2, 3])\n",
    "print(b)\n",
    "\n",
    "# suma y resta\n",
    "print(f\"a + b  = {a + b}\")\n",
    "print(f\"a - b  = {a - b}\")\n"
   ]
  },
  {
   "cell_type": "code",
   "execution_count": 3,
   "metadata": {},
   "outputs": [
    {
     "name": "stdout",
     "output_type": "stream",
     "text": [
      "a * b = [1 4 9]\n",
      "a / b = [1. 1. 1.]\n"
     ]
    }
   ],
   "source": [
    "# multiplicación y división (componente a componente)\n",
    "print(f\"a * b = {a * b}\")\n",
    "print(f\"a / b = {a / b}\")"
   ]
  },
  {
   "cell_type": "code",
   "execution_count": 4,
   "metadata": {},
   "outputs": [
    {
     "name": "stdout",
     "output_type": "stream",
     "text": [
      "s * a = [0.5 1.  1.5]\n"
     ]
    }
   ],
   "source": [
    "# producto de un escalar por un vector\n",
    "s = 0.5\n",
    "\n",
    "print(f\"s * a = {s * a}\")"
   ]
  },
  {
   "cell_type": "code",
   "execution_count": 5,
   "metadata": {},
   "outputs": [
    {
     "name": "stdout",
     "output_type": "stream",
     "text": [
      "a.b = 14\n"
     ]
    }
   ],
   "source": [
    "# producto escalar de dos vectores (dot product en inglés)\n",
    "\n",
    "print(f\"a.b = {a.dot(b)}\")"
   ]
  },
  {
   "cell_type": "code",
   "execution_count": 6,
   "metadata": {},
   "outputs": [
    {
     "name": "stdout",
     "output_type": "stream",
     "text": [
      "z1 = [1.+1.j 1.-1.j]\n",
      "z2 = [0.+0.j 0.+1.j]\n",
      "z1 + z2  = [1.+1.j 1.+0.j]\n",
      "z1 - z2  = [1.+1.j 1.-2.j]\n",
      "z1 * z2  = [0.+0.j 1.+1.j]\n",
      "z1 / z2  = [inf+infj -1. -1.j]\n",
      "s * z1 =  [-2.+2.j  2.+2.j]\n",
      "z1 . z2  = (1+1j)\n"
     ]
    },
    {
     "name": "stderr",
     "output_type": "stream",
     "text": [
      "C:\\Users\\fcoja\\AppData\\Local\\Temp\\ipykernel_21864\\978379099.py:11: RuntimeWarning: divide by zero encountered in true_divide\n",
      "  print(f\"z1 / z2  = {z1 / z2}\")\n"
     ]
    }
   ],
   "source": [
    "# Repasamos todo con vectores de números complejos\n",
    "\n",
    "z1 = np.array([1 + 1j, 1 -1j])\n",
    "print(f\"z1 = {z1}\")\n",
    "z2 = 1j * np.arange(2)\n",
    "print(f\"z2 = {z2}\") \n",
    "\n",
    "print(f\"z1 + z2  = {z1 + z2}\")\n",
    "print(f\"z1 - z2  = {z1 - z2}\")\n",
    "print(f\"z1 * z2  = {z1 * z2}\")\n",
    "print(f\"z1 / z2  = {z1 / z2}\")\n",
    "s = 2j\n",
    "print(f\"s * z1 =  {s * z1}\")\n",
    "print(f\"z1 . z2  = {z1.dot(z2)}\")"
   ]
  },
  {
   "cell_type": "markdown",
   "metadata": {},
   "source": [
    "## [Normas de vectores](https://docs.scipy.org/doc/numpy-1.13.0/reference/generated/numpy.linalg.norm.html)"
   ]
  },
  {
   "cell_type": "markdown",
   "metadata": {},
   "source": [
    "Tradicionalmente, norma de un vector $v = [v_1, \\cdots, v_n]$ nos da una idea de la longitud de dicho \n",
    "vector. La norma euclídea, $\\Vert v\\Vert_2 = (\\sum_{j=1}^nv_j^2)^{1/2}$ es \n",
    "ampliamente usada en Física con este propósito.\n",
    "\n",
    "En Machine Learning, la norma euclídea también se usa a menudo para regularizar \n",
    "las llamadas **loss functions** (funciones de pérdida). Pero no es la única que \n",
    "se utiliza. De forma general, dados $v = [v_1, \\cdots, v_n]\\in\\mathbb{R}^n$ y \n",
    "$1\\leq p < \\infty$, se define la norma $\\Vert v\\Vert_p = (\\sum_{j=1}^nv_j^p)^{1/p}$.\n",
    "Finalmente, $\\Vert v\\Vert_\\infty = \\max\\left\\{\\vert v_j\\vert, 1\\leq j\\leq n\\right\\}$.\n",
    "\n",
    "Los casos más habituales son $p=1, 2, \\infty$. Veamos cómo calcular estas normas.\n",
    "El método norm() se encuentra en el submódulo linalg de numpy.\n"
   ]
  },
  {
   "cell_type": "code",
   "execution_count": 7,
   "metadata": {},
   "outputs": [
    {
     "name": "stdout",
     "output_type": "stream",
     "text": [
      "[1 2 3]\n",
      "norma 2 de v = 3.0\n",
      "norma 1 de v = 5.0\n",
      "norma infinito de v = 2.0\n"
     ]
    }
   ],
   "source": [
    "v = np.array([1, 2, 2])\n",
    "print(a)\n",
    "\n",
    "l2 = np.linalg.norm(v, 2) # norma 2\n",
    "print(f\"norma 2 de v = {l2}\")\n",
    "\n",
    "l1 = np.linalg.norm(v, 1) # norma 1\n",
    "print(f\"norma 1 de v = {l1}\")\n",
    "\n",
    "lmax = np.linalg.norm(v, np.inf) # norma del máximo o norma infinito\n",
    "print(f\"norma infinito de v = {lmax}\")"
   ]
  }
 ],
 "metadata": {
  "kernelspec": {
   "display_name": "Python 3.9.12 ('base')",
   "language": "python",
   "name": "python3"
  },
  "language_info": {
   "codemirror_mode": {
    "name": "ipython",
    "version": 3
   },
   "file_extension": ".py",
   "mimetype": "text/x-python",
   "name": "python",
   "nbconvert_exporter": "python",
   "pygments_lexer": "ipython3",
   "version": "3.9.12 (main, Apr  4 2022, 05:22:27) [MSC v.1916 64 bit (AMD64)]"
  },
  "orig_nbformat": 4,
  "vscode": {
   "interpreter": {
    "hash": "92ad534bca2326751c2f5722ba22922b33dc52d08b3797a5404dfb2c21ce7615"
   }
  }
 },
 "nbformat": 4,
 "nbformat_minor": 2
}
