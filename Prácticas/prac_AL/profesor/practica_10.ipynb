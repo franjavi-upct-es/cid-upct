{
 "cells": [
  {
   "cell_type": "markdown",
   "metadata": {},
   "source": [
    "# Práctica 10. Factorización QR. Cálculo de autovalores y autovectores"
   ]
  },
  {
   "cell_type": "code",
   "execution_count": 2,
   "metadata": {},
   "outputs": [],
   "source": [
    "import numpy as np"
   ]
  },
  {
   "cell_type": "markdown",
   "metadata": {},
   "source": [
    "## Factorización QR\n",
    "\n",
    "Dada una matriz $A$ de tamaño $m\\times n$, con $m\\geq n$, la factorización \n",
    "$QR$ expresa $A$ en la forma $A = QR$, donde $Q$ es una matriz ortogonal \n",
    "de tamaño $m\\times m$ (sus columnas son vectores ortonormales; \n",
    "se cumple $Q^{-1} = Q^T$)  y $R$ es una matriz triangular superior de \n",
    "tamaño $m\\times n$.\n",
    "\n",
    "Más información en [numpy.linalg.qr() API.](https://docs.scipy.org/doc/numpy-1.13.0/reference/generated/numpy.linalg.qr.html)"
   ]
  },
  {
   "cell_type": "code",
   "execution_count": 3,
   "metadata": {},
   "outputs": [
    {
     "name": "stdout",
     "output_type": "stream",
     "text": [
      "A = [[-0.37771645  0.17867731  0.84476089]\n",
      " [-1.02001871 -0.26860257 -0.1750103 ]\n",
      " [-0.35300527  1.42150948 -2.04161073]\n",
      " [ 0.68452971 -0.65106404 -0.85245058]]\n",
      "Q =  [[-0.28340503  0.01410828  0.45719824]\n",
      " [-0.76533186 -0.46381376 -0.44619173]\n",
      " [-0.26486395  0.85148277 -0.43302679]\n",
      " [ 0.51361058 -0.24424341 -0.63590133]]\n",
      "R = [[ 1.33277962 -0.55596793 -0.00254708]\n",
      " [ 0.          1.49651133 -1.43710062]\n",
      " [ 0.          0.          1.89045795]]\n"
     ]
    }
   ],
   "source": [
    "# Veamos un ejemplo concreto\n",
    "\n",
    "A = np.random.randn(4, 3)\n",
    "\n",
    "print(f\"A = {A}\")\n",
    "\n",
    "Q, R = np.linalg.qr(A)\n",
    "\n",
    "print(f\"Q =  {Q}\")\n",
    "print(f\"R = {R}\")"
   ]
  },
  {
   "cell_type": "code",
   "execution_count": 4,
   "metadata": {},
   "outputs": [
    {
     "data": {
      "text/plain": [
       "True"
      ]
     },
     "execution_count": 4,
     "metadata": {},
     "output_type": "execute_result"
    }
   ],
   "source": [
    "# Comprobamos que A = QR\n",
    "\n",
    "np.allclose(A, np.dot(Q, R))"
   ]
  },
  {
   "cell_type": "code",
   "execution_count": 5,
   "metadata": {},
   "outputs": [
    {
     "name": "stdout",
     "output_type": "stream",
     "text": [
      "Q =  [[-0.28340503  0.01410828  0.45719824  0.84288333]\n",
      " [-0.76533186 -0.46381376 -0.44619173 -0.00754222]\n",
      " [-0.26486395  0.85148277 -0.43302679  0.13157498]\n",
      " [ 0.51361058 -0.24424341 -0.63590133  0.52170761]]\n",
      "R = [[ 1.33277962 -0.55596793 -0.00254708]\n",
      " [ 0.          1.49651133 -1.43710062]\n",
      " [ 0.          0.          1.89045795]\n",
      " [ 0.          0.          0.        ]]\n"
     ]
    }
   ],
   "source": [
    "# Veamos distintas formas de la factorización QR\n",
    "# mode : {‘reduced’, ‘complete’, ‘r’, ‘raw’, ‘full’, ‘economic’}\n",
    "\n",
    "\n",
    "Q, R = np.linalg.qr(A, mode='complete')\n",
    "\n",
    "print(f\"Q =  {Q}\")\n",
    "print(f\"R = {R}\")"
   ]
  },
  {
   "cell_type": "markdown",
   "metadata": {},
   "source": [
    "## Cálculo de autovalores y autovectores\n",
    "\n",
    "Dada una matriz cuadrada $A$ buscamos vectores no nulos $v$ y escalares \n",
    "$\\lambda$  que cumplan $Av = \\lambda v$. Los escalares $\\lambda$ son \n",
    "los autovaloes y los vectores asociados $v$ los autovectores. \n",
    "\n",
    "En algunos casos importantes, por ejemplo cuando $A$ es simétrica, obtenemos la \n",
    "factorización $A = Q \\Lambda Q^{-1}$, donde $Q$ almacena en sus columnas los \n",
    "autovectores y $\\Lambda$ es una matriz diagonal que contiene los autovalores de \n",
    "$A$ en su diagonal.\n",
    "\n",
    "Más información sobre su implementación en Python en \n",
    "[numpy.linalg.eig() API](https://docs.scipy.org/doc/numpy-1.13.0/reference/generated/numpy.linalg.eig.html)\n"
   ]
  },
  {
   "cell_type": "code",
   "execution_count": 6,
   "metadata": {},
   "outputs": [
    {
     "name": "stdout",
     "output_type": "stream",
     "text": [
      "A = [[1 2 3]\n",
      " [4 5 6]\n",
      " [7 8 9]]\n",
      "autovalores = [ 1.61168440e+01 -1.11684397e+00 -9.75918483e-16]\n",
      "autovectores = \n",
      " [[-0.23197069 -0.78583024  0.40824829]\n",
      " [-0.52532209 -0.08675134 -0.81649658]\n",
      " [-0.8186735   0.61232756  0.40824829]]\n"
     ]
    }
   ],
   "source": [
    "# Veamos cómo se calculan los autovalores y autovectores\n",
    "\n",
    "from numpy.linalg import eig\n",
    "\n",
    "A = np.array([\n",
    "[1, 2, 3],\n",
    "[4, 5, 6],\n",
    "[7, 8, 9]])\n",
    "print(f\"A = {A}\")\n",
    "\n",
    "autovalores, autovectores = eig(A) # autovalores y  autovectores unitarios\n",
    "\n",
    "print(f\"autovalores = {autovalores}\")\n",
    "print(f\"autovectores = \\n {autovectores}\")\n"
   ]
  },
  {
   "cell_type": "code",
   "execution_count": 7,
   "metadata": {},
   "outputs": [
    {
     "name": "stdout",
     "output_type": "stream",
     "text": [
      "[ -3.73863537  -8.46653421 -13.19443305]\n",
      "[ -3.73863537  -8.46653421 -13.19443305]\n",
      "[ 0.87764976  0.09688771 -0.68387434]\n",
      "[ 0.87764976  0.09688771 -0.68387434]\n",
      "[-4.4408921e-16 -4.4408921e-16 -8.8817842e-16]\n",
      "[-3.98417052e-16  7.96834105e-16 -3.98417052e-16]\n"
     ]
    }
   ],
   "source": [
    "# En efecto, para el primer autovalor tenemos:\n",
    "B = A.dot(autovectores[:, 0])\n",
    "print(B)\n",
    "C = autovectores[:, 0] * autovalores[0]\n",
    "print(C)\n",
    "\n",
    "# y lo mismo para los otros dos:\n",
    "B = A.dot(autovectores[:, 1])\n",
    "print(B)\n",
    "C = autovectores[:, 1] * autovalores[1]\n",
    "print(C)\n",
    "\n",
    "B = A.dot(autovectores[:, 2])\n",
    "print(B)\n",
    "C = autovectores[:, 2] * autovalores[2]\n",
    "print(C)\n",
    "\n"
   ]
  },
  {
   "cell_type": "code",
   "execution_count": 8,
   "metadata": {},
   "outputs": [
    {
     "name": "stdout",
     "output_type": "stream",
     "text": [
      "Q = \n",
      " [[-0.23197069 -0.78583024  0.40824829]\n",
      " [-0.52532209 -0.08675134 -0.81649658]\n",
      " [-0.8186735   0.61232756  0.40824829]]\n",
      "L = \n",
      " [[ 1.61168440e+01  0.00000000e+00  0.00000000e+00]\n",
      " [ 0.00000000e+00 -1.11684397e+00  0.00000000e+00]\n",
      " [ 0.00000000e+00  0.00000000e+00 -9.75918483e-16]]\n",
      "inversa de Q = \n",
      " [[-0.48295226 -0.59340999 -0.70386772]\n",
      " [-0.91788599 -0.24901003  0.41986593]\n",
      " [ 0.40824829 -0.81649658  0.40824829]]\n",
      "Q L inv(Q) = \n",
      " [[1. 2. 3.]\n",
      " [4. 5. 6.]\n",
      " [7. 8. 9.]]\n"
     ]
    }
   ],
   "source": [
    "# En este caso, la matriz A es diagonalizable (autovalores reales y distintos)\n",
    "# Por tanto, A admite la factorización anterior\n",
    "from numpy.linalg import inv\n",
    "\n",
    "Q = autovectores\n",
    "print(f\"Q = \\n {Q}\")\n",
    "\n",
    "L = np.diag(autovalores)\n",
    "print(f\"L = \\n {L}\")\n",
    "\n",
    "inv_Q = inv(Q)\n",
    "print(f\"inversa de Q = \\n {inv_Q}\")\n",
    "\n",
    "\n",
    "\n",
    "print(f\"Q L inv(Q) = \\n {Q.dot(L).dot(inv_Q)}\")"
   ]
  },
  {
   "cell_type": "markdown",
   "metadata": {},
   "source": [
    "### Método de factorización $QR$ para el cálculo de autovalores"
   ]
  },
  {
   "cell_type": "code",
   "execution_count": 9,
   "metadata": {},
   "outputs": [
    {
     "name": "stdout",
     "output_type": "stream",
     "text": [
      "Q = \n",
      " [[ 0. -1.]\n",
      " [-1.  0.]]\n",
      "R = \n",
      " [[-2. -3.]\n",
      " [ 0. -2.]]\n",
      "QR = \n",
      " [[0. 2.]\n",
      " [2. 3.]]\n",
      "Iteración 1:\n",
      "A = [[3. 2.]\n",
      " [2. 0.]]\n",
      "Q = [[ 0. -1.]\n",
      " [-1.  0.]]\n",
      "Iteración 5:\n",
      "A = [[ 3.99998093  0.00976559]\n",
      " [ 0.00976559 -0.99998093]]\n",
      "Q = [[-0.99995232 -0.00976531]\n",
      " [-0.00976531  0.99995232]]\n",
      "Iteración 10:\n",
      "A = [[ 4.00000000e+00  9.53674316e-06]\n",
      " [ 9.53674316e-06 -1.00000000e+00]]\n",
      "Q = [[-1.00000000e+00 -9.53674316e-06]\n",
      " [-9.53674316e-06  1.00000000e+00]]\n",
      "Iteración 20:\n",
      "A = [[ 4.00000000e+00  9.09482285e-12]\n",
      " [ 9.09494702e-12 -1.00000000e+00]]\n",
      "Q = [[-1.00000000e+00 -9.09494702e-12]\n",
      " [-9.09494702e-12  1.00000000e+00]]\n",
      "Iteración 40:\n",
      "A = [[ 4.00000000e+00 -1.24167008e-16]\n",
      " [ 8.27180613e-24 -1.00000000e+00]]\n",
      "Q = [[-1.00000000e+00 -8.27180613e-24]\n",
      " [-8.27180613e-24  1.00000000e+00]]\n"
     ]
    }
   ],
   "source": [
    "\n",
    "from numpy.linalg import qr\n",
    "\n",
    "A = np.array([[0, 2], \n",
    "              [2, 3]])\n",
    "\n",
    "Q, R = qr(A)\n",
    "\n",
    "print('Q = \\n', Q)\n",
    "print('R = \\n', R)\n",
    "\n",
    "B = np.dot(Q, R)\n",
    "print('QR = \\n', B)\n",
    "\n",
    "\n",
    "p = [1, 5, 10, 20, 40]\n",
    "for i in range(40):\n",
    "    Q, R = qr(A)\n",
    "    A = np.dot(R, Q)\n",
    "    if i+1 in p:\n",
    "        print(f'Iteración {i+1}:')\n",
    "        print(f\"A = {A}\")\n",
    "        print(f\"Q = {Q}\")\n",
    "# los autovalores quedan almacenados en la diagonal de A\n",
    "# los autovectores en las columnas de Q"
   ]
  },
  {
   "cell_type": "code",
   "execution_count": 10,
   "metadata": {},
   "outputs": [
    {
     "name": "stdout",
     "output_type": "stream",
     "text": [
      "autovalores = [ 4. -1.]\n",
      "autovectores = \n",
      " [[1.00000000e+00 2.48334016e-17]\n",
      " [0.00000000e+00 1.00000000e+00]]\n"
     ]
    }
   ],
   "source": [
    "# En efecto:\n",
    "\n",
    "autovalores, autovectores = eig(A) # autovalores y  autovectores unitarios\n",
    "\n",
    "print(f\"autovalores = {autovalores}\")\n",
    "print(f\"autovectores = \\n {autovectores}\")"
   ]
  }
 ],
 "metadata": {
  "interpreter": {
   "hash": "c9e6f42c9bf154cf9b9e87541e517fa2c69e39349a7d6df0c90be082366bd360"
  },
  "kernelspec": {
   "display_name": "Python 3.8.5 ('base')",
   "language": "python",
   "name": "python3"
  },
  "language_info": {
   "codemirror_mode": {
    "name": "ipython",
    "version": 3
   },
   "file_extension": ".py",
   "mimetype": "text/x-python",
   "name": "python",
   "nbconvert_exporter": "python",
   "pygments_lexer": "ipython3",
   "version": "3.8.5"
  },
  "orig_nbformat": 4
 },
 "nbformat": 4,
 "nbformat_minor": 2
}
