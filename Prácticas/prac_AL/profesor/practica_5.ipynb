{
 "cells": [
  {
   "cell_type": "markdown",
   "metadata": {},
   "source": [
    "# Práctica 5. Matrices: aritmética y norma "
   ]
  },
  {
   "cell_type": "code",
   "execution_count": 17,
   "metadata": {},
   "outputs": [],
   "source": [
    "import numpy as np"
   ]
  },
  {
   "cell_type": "markdown",
   "metadata": {},
   "source": [
    "## Aritmética básica de matrices"
   ]
  },
  {
   "cell_type": "code",
   "execution_count": 18,
   "metadata": {},
   "outputs": [
    {
     "name": "stdout",
     "output_type": "stream",
     "text": [
      "A =  [[ 1  3  5]\n",
      " [ 7  9 11]]\n",
      "B = [[ 0  2  4]\n",
      " [ 6  8 10]]\n"
     ]
    }
   ],
   "source": [
    "# Introducimos dos matrices como 2d numpy array\n",
    "\n",
    "A = np.array([\n",
    "    [1, 3, 5],\n",
    "    [7, 9, 11]]\n",
    "    )\n",
    "print(f\"A =  {A}\")\n",
    "B = np.array([\n",
    "    [0, 2, 4],\n",
    "    [6, 8, 10]]\n",
    "    )\n",
    "print(f\"B = {B}\")"
   ]
  },
  {
   "cell_type": "code",
   "execution_count": 19,
   "metadata": {},
   "outputs": [
    {
     "name": "stdout",
     "output_type": "stream",
     "text": [
      "A + B = \n",
      " [[ 1  5  9]\n",
      " [13 17 21]]\n",
      "A - B = \n",
      " [[1 1 1]\n",
      " [1 1 1]]\n"
     ]
    }
   ],
   "source": [
    "# suma y resta de matrices\n",
    "C = A + B\n",
    "print(f\"A + B = \\n {C}\")\n",
    "D = A - B\n",
    "print(f\"A - B = \\n {D}\")"
   ]
  },
  {
   "cell_type": "code",
   "execution_count": 20,
   "metadata": {},
   "outputs": [
    {
     "name": "stdout",
     "output_type": "stream",
     "text": [
      "A*B = \n",
      " [[ 7 10]\n",
      " [15 22]\n",
      " [23 34]]\n",
      "A*B = \n",
      " [[ 7 10]\n",
      " [15 22]\n",
      " [23 34]]\n"
     ]
    }
   ],
   "source": [
    "# producto de matrices con .dot. También se puede hacer con el operador @\n",
    "A = np.array([ \n",
    "    [1, 2],\n",
    "    [3, 4],\n",
    "    [5, 6]]\n",
    ")\n",
    "B = np.array([\n",
    "    [1, 2],\n",
    "    [3, 4]]\n",
    ")\n",
    "C = A.dot(B)\n",
    "print(f\"A*B = \\n {C}\")\n",
    "D = A @ B\n",
    "print(f\"A*B = \\n {D}\")\n"
   ]
  },
  {
   "cell_type": "code",
   "execution_count": 21,
   "metadata": {},
   "outputs": [
    {
     "name": "stdout",
     "output_type": "stream",
     "text": [
      "A*b = [1.5 3.5 5.5]\n",
      "A*b = [1.5 3.5 5.5]\n"
     ]
    }
   ],
   "source": [
    "# Producto matriz-vector (igual que producto de matrices)\n",
    "# ojo con las dimensiones!!\n",
    "A = np.array([ \n",
    "    [1, 2],\n",
    "    [3, 4],\n",
    "    [5, 6]]\n",
    ")\n",
    "b = np.array([0.5, 0.5])\n",
    "print(f\"A*b = {A.dot(b)}\")\n",
    "print(f\"A*b = {A @ b}\")"
   ]
  },
  {
   "cell_type": "code",
   "execution_count": 22,
   "metadata": {},
   "outputs": [
    {
     "name": "stdout",
     "output_type": "stream",
     "text": [
      "Ab = \n",
      " [[0.5 1. ]\n",
      " [1.5 2. ]\n",
      " [2.5 3. ]]\n"
     ]
    }
   ],
   "source": [
    "# Producto matriz-escalar con operador *\n",
    "A = np.array([ \n",
    "    [1, 2],\n",
    "    [3, 4],\n",
    "    [5, 6]]\n",
    ")\n",
    "b = 0.5\n",
    "print(f\"Ab = \\n {A * b}\")"
   ]
  },
  {
   "cell_type": "code",
   "execution_count": 23,
   "metadata": {},
   "outputs": [
    {
     "name": "stdout",
     "output_type": "stream",
     "text": [
      "(Producto de Hadamard) A ◦ B = \n",
      " [[  1   6  20]\n",
      " [ 42  72 110]]\n",
      "A / B = \n",
      " [[1.         1.5        1.25      ]\n",
      " [1.16666667 1.125      1.1       ]]\n"
     ]
    }
   ],
   "source": [
    "# Producto (Hadamard) y división de matrices componente a componente\n",
    "A = np.array([\n",
    "    [1, 3, 5],\n",
    "    [7, 9, 11]]\n",
    "    )\n",
    "B = np.array([\n",
    "    [1, 2, 4],\n",
    "    [6, 8, 10]]\n",
    "    )\n",
    "print(f\"(Producto de Hadamard) A ◦ B = \\n {A * B}\")\n",
    "print(f\"A / B = \\n {A / B}\")"
   ]
  },
  {
   "cell_type": "markdown",
   "metadata": {},
   "source": [
    "## Algunos tipos de matrices:\n",
    "##    a) Simétricas\n",
    "##    b) Triangulares superior e inferior\n",
    "##    c) Diagonales"
   ]
  },
  {
   "cell_type": "code",
   "execution_count": 24,
   "metadata": {},
   "outputs": [
    {
     "name": "stdout",
     "output_type": "stream",
     "text": [
      "A = [[ 2 -1  0]\n",
      " [-1  2 -1]\n",
      " [ 0 -1  2]]\n",
      "A^T = [[ 2 -1  0]\n",
      " [-1  2 -1]\n",
      " [ 0 -1  2]]\n"
     ]
    },
    {
     "data": {
      "text/plain": [
       "array([[ True,  True,  True],\n",
       "       [ True,  True,  True],\n",
       "       [ True,  True,  True]])"
      ]
     },
     "execution_count": 24,
     "metadata": {},
     "output_type": "execute_result"
    }
   ],
   "source": [
    "A = np.array([\n",
    "    [2, -1, 0],\n",
    "    [-1, 2, -1],\n",
    "    [0, -1, 2]]\n",
    ")\n",
    "print(f\"A = {A}\")\n",
    "# calculamos la traspuesta de A\n",
    "B = A.T\n",
    "print(f\"A^T = {B}\")\n",
    "# preguntamos si A coincide con su traspuesta\n",
    "A == B"
   ]
  },
  {
   "cell_type": "markdown",
   "metadata": {},
   "source": [
    "Calculamos las partes triangular inferior y superior de A.\n"
   ]
  },
  {
   "cell_type": "code",
   "execution_count": 25,
   "metadata": {},
   "outputs": [
    {
     "name": "stdout",
     "output_type": "stream",
     "text": [
      "triangular inferior de A = [[ 2  0  0]\n",
      " [-1  2  0]\n",
      " [ 0 -1  2]]\n",
      "triangular superior de A = [[ 2 -1  0]\n",
      " [ 0  2 -1]\n",
      " [ 0  0  2]]\n"
     ]
    }
   ],
   "source": [
    "\n",
    "A = np.array([\n",
    "    [2, -1, 0],\n",
    "    [-1, 2, -1],\n",
    "    [0, -1, 2]]\n",
    ")\n",
    "# triangular inferior\n",
    "L = np.tril(A)\n",
    "print(f\"triangular inferior de A = {L}\")\n",
    "\n",
    "# triangular superior\n",
    "U = np.triu(A)\n",
    "print(f\"triangular superior de A = {U}\")\n",
    "\n"
   ]
  },
  {
   "cell_type": "markdown",
   "metadata": {},
   "source": [
    "extraemos la diagonal de A para generar una matriz diagonal"
   ]
  },
  {
   "cell_type": "code",
   "execution_count": 26,
   "metadata": {},
   "outputs": [
    {
     "name": "stdout",
     "output_type": "stream",
     "text": [
      "diagonal = [2 2 2]\n",
      "D = [[2 0 0]\n",
      " [0 2 0]\n",
      " [0 0 2]]\n"
     ]
    }
   ],
   "source": [
    "d = np.diag(A) # vector que contiene la diagonal de A\n",
    "print(f\"diagonal = {d}\")\n",
    "D = np.diag(d) # matriz con la diagonal de A\n",
    "print(f\"D = {D}\")"
   ]
  },
  {
   "cell_type": "markdown",
   "metadata": {},
   "source": [
    "Matriz identidad"
   ]
  },
  {
   "cell_type": "code",
   "execution_count": 27,
   "metadata": {},
   "outputs": [
    {
     "name": "stdout",
     "output_type": "stream",
     "text": [
      "I_3 = [[1. 0. 0.]\n",
      " [0. 1. 0.]\n",
      " [0. 0. 1.]]\n"
     ]
    }
   ],
   "source": [
    "I = np.identity(3)\n",
    "print(f\"I_3 = {I}\")"
   ]
  },
  {
   "cell_type": "markdown",
   "metadata": {},
   "source": [
    "## Inversa, traza, determinante y rango"
   ]
  },
  {
   "cell_type": "code",
   "execution_count": 28,
   "metadata": {},
   "outputs": [
    {
     "name": "stdout",
     "output_type": "stream",
     "text": [
      "inversa de A: \n",
      " [[0.75 0.5  0.25]\n",
      " [0.5  1.   0.5 ]\n",
      " [0.25 0.5  0.75]]\n",
      "comprobación: \n",
      " [[ 1.00000000e+00  0.00000000e+00  0.00000000e+00]\n",
      " [ 2.77555756e-17  1.00000000e+00  0.00000000e+00]\n",
      " [-5.55111512e-17 -1.11022302e-16  1.00000000e+00]]\n",
      "traza de A = 6\n",
      "determinante de A = 4.0\n",
      "rango de A = 3\n"
     ]
    }
   ],
   "source": [
    "A = np.array([\n",
    "    [2, -1, 0],\n",
    "    [-1, 2, -1],\n",
    "    [0, -1, 2]]\n",
    ")\n",
    "B = np.linalg.inv(A) # inversa\n",
    "print(f\"inversa de A: \\n {B}\")\n",
    "print(f\"comprobación: \\n {A @ B}\")\n",
    "\n",
    "# traza de A\n",
    "print(f\"traza de A = {np.trace(A)}\")\n",
    "\n",
    "# determinante de A (está en el submódulo de álgebra lineal)\n",
    "print(f\"determinante de A = {np.linalg.det(A)}\")\n",
    "\n",
    "# rango de A\n",
    "print(f\"rango de A = {np.linalg.matrix_rank(A)}\")"
   ]
  },
  {
   "cell_type": "markdown",
   "metadata": {},
   "source": [
    "## [Normas de matrices](https://numpy.org/doc/stable/reference/generated/numpy.linalg.norm.html)"
   ]
  },
  {
   "cell_type": "markdown",
   "metadata": {},
   "source": [
    "Se pueden definir varias normas para matrices. Quizás, la más habitual es la \n",
    "llamada norma de Frobenius, la cual se define como\n",
    "$\\Vert A\\Vert_F = \\left(\\sum_{i,j}a_{ij}^2 \\right)^{1/2} $,\n",
    "siendo $A=(a_{ij})$"
   ]
  },
  {
   "cell_type": "code",
   "execution_count": 29,
   "metadata": {},
   "outputs": [
    {
     "name": "stdout",
     "output_type": "stream",
     "text": [
      "A = \n",
      " [[ 2 -1  0]\n",
      " [-1  2 -1]\n",
      " [ 0 -1  2]]\n",
      "norma de Frobenius de A = 4.0\n"
     ]
    }
   ],
   "source": [
    "A = np.array([\n",
    "    [2, -1, 0],\n",
    "    [-1, 2, -1],\n",
    "    [0, -1, 2]]\n",
    ")\n",
    "\n",
    "print(f\"A = \\n {A}\")\n",
    "\n",
    "fro_A = np.linalg.norm(A, \"fro\") # norma de Frobenius\n",
    "print(f\"norma de Frobenius de A = {fro_A}\")"
   ]
  },
  {
   "cell_type": "markdown",
   "metadata": {},
   "source": [
    "### [Número de condicionamiento de una matriz](https://numpy.org/doc/stable/reference/generated/numpy.linalg.cond.html)"
   ]
  },
  {
   "cell_type": "markdown",
   "metadata": {},
   "source": [
    "Para una matriz invertible $A$, el número de condicionamiento de $A$ se define \n",
    "como $c(A) = \\Vert A\\Vert\\Vert A^{-1}\\Vert$. Este número juega un papel esencial \n",
    "en el análisis de errores en la resolución de sistemas lineales de ecuaciones."
   ]
  },
  {
   "cell_type": "code",
   "execution_count": 30,
   "metadata": {},
   "outputs": [
    {
     "name": "stdout",
     "output_type": "stream",
     "text": [
      "A = \n",
      " [[ 2 -1  0]\n",
      " [-1  2 -1]\n",
      " [ 0 -1  2]]\n",
      "número de condicionamiento de A = 7.211102550927978\n"
     ]
    },
    {
     "data": {
      "text/plain": [
       "7.211102550927978"
      ]
     },
     "execution_count": 30,
     "metadata": {},
     "output_type": "execute_result"
    }
   ],
   "source": [
    "# cálculo del número de condicionamiento\n",
    "A = np.array([\n",
    "    [2, -1, 0],\n",
    "    [-1, 2, -1],\n",
    "    [0, -1, 2]]\n",
    ")\n",
    "\n",
    "print(f\"A = \\n {A}\")\n",
    "\n",
    "print(f\"número de condicionamiento de A = {np.linalg.cond(A, 'fro')}\")\n",
    "# Nótese que hemos de especificar la norma usada para calcular el \n",
    "# número de condicionamiento\n"
   ]
  },
  {
   "cell_type": "code",
   "execution_count": 31,
   "metadata": {},
   "outputs": [
    {
     "data": {
      "text/plain": [
       "7.211102550927978"
      ]
     },
     "execution_count": 31,
     "metadata": {},
     "output_type": "execute_result"
    }
   ],
   "source": [
    "# En efecto: un cálculo directo muestra\n",
    "np.linalg.norm(A, \"fro\") * np.linalg.norm(np.linalg.inv(A), \"fro\")"
   ]
  }
 ],
 "metadata": {
  "interpreter": {
   "hash": "c9e6f42c9bf154cf9b9e87541e517fa2c69e39349a7d6df0c90be082366bd360"
  },
  "kernelspec": {
   "display_name": "Python 3.8.5 ('base')",
   "language": "python",
   "name": "python3"
  },
  "language_info": {
   "codemirror_mode": {
    "name": "ipython",
    "version": 3
   },
   "file_extension": ".py",
   "mimetype": "text/x-python",
   "name": "python",
   "nbconvert_exporter": "python",
   "pygments_lexer": "ipython3",
   "version": "3.8.5"
  },
  "orig_nbformat": 4
 },
 "nbformat": 4,
 "nbformat_minor": 2
}
