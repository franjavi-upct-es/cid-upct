{
 "cells": [
  {
   "cell_type": "markdown",
   "metadata": {},
   "source": [
    "# Práctica 6. Matrices sparse. Manipulación de matrices desde ficheros de datos"
   ]
  },
  {
   "cell_type": "markdown",
   "metadata": {},
   "source": [
    "##  [Matrices sparse](https://docs.scipy.org/doc/scipy/reference/sparse.html)\n",
    "\n"
   ]
  },
  {
   "cell_type": "code",
   "execution_count": 1,
   "metadata": {},
   "outputs": [],
   "source": [
    "import numpy as np\n",
    "from scipy.sparse import csr_matrix"
   ]
  },
  {
   "cell_type": "markdown",
   "metadata": {},
   "source": [
    "Veamos cómo se introduce una matriz sparse y cómo se pasa a dense y viceversa"
   ]
  },
  {
   "cell_type": "code",
   "execution_count": 2,
   "metadata": {},
   "outputs": [
    {
     "name": "stdout",
     "output_type": "stream",
     "text": [
      "A = [[1 0 0 1 0 0]\n",
      " [0 0 2 0 0 1]\n",
      " [0 0 0 2 0 0]]\n",
      "A en formato sparse =\n",
      "   (0, 0)\t1\n",
      "  (0, 3)\t1\n",
      "  (1, 2)\t2\n",
      "  (1, 5)\t1\n",
      "  (2, 3)\t2\n",
      "S en formato dense = \n",
      " [[1 0 0 1 0 0]\n",
      " [0 0 2 0 0 1]\n",
      " [0 0 0 2 0 0]]\n"
     ]
    }
   ],
   "source": [
    "A = np.array([\n",
    "[1, 0, 0, 1, 0, 0],\n",
    "[0, 0, 2, 0, 0, 1],\n",
    "[0, 0, 0, 2, 0, 0]])\n",
    "print(f\"A = {A}\")\n",
    "\n",
    "S = csr_matrix(A) # convertimos A a formato sparse (clase compressed sparse row)\n",
    "print(f\"A en formato sparse =\\n {S}\")\n",
    "\n",
    "B = S.todense() # recuperamos el formato dense\n",
    "print(f\"S en formato dense = \\n {B}\")\n"
   ]
  },
  {
   "cell_type": "markdown",
   "metadata": {},
   "source": []
  },
  {
   "cell_type": "markdown",
   "metadata": {},
   "source": [
    "La forma de almacenar datos en formato CSR es la siguiente:\n",
    "\n",
    "**data** = vector con datos no nulos\n",
    "\n",
    "**indices** = vector con numeración de columnas no nulas\n",
    "\n",
    "**indptr** = puntero para datos y filas. \n",
    "\n",
    "En concreto: para la fila i, [indptr[i]:indptr[i+1]] devuelve los índices \n",
    "\n",
    "de elementos para tomar de los datos e índices correspondientes a la fila i "
   ]
  },
  {
   "cell_type": "code",
   "execution_count": 3,
   "metadata": {},
   "outputs": [
    {
     "name": "stdout",
     "output_type": "stream",
     "text": [
      "sparse matrix in csr format =   (0, 0)\t1\n",
      "  (0, 3)\t1\n",
      "  (1, 2)\t2\n",
      "  (1, 5)\t1\n",
      "  (2, 3)\t2\n",
      "misma matriz en formato dense = [[1 0 0 1 0 0]\n",
      " [0 0 2 0 0 1]\n",
      " [0 0 0 2 0 0]]\n",
      "datos no nulos de la matriz =[1 1 2 1 2]\n",
      "índices de columnas = [0 3 2 5 3]\n",
      "punteros para los índices de datos y filas = [0 2 4 5]\n"
     ]
    }
   ],
   "source": [
    "row = np.array([0, 0, 1, 1, 2])\n",
    "col = np.array([0, 3, 2, 5, 3])\n",
    "data = np.array([1, 1, 2, 1, 2])\n",
    "\n",
    "mtx = csr_matrix((data, (row, col)), shape=(3, 6))\n",
    "\n",
    "print(f\"sparse matrix in csr format = {mtx}\") \n",
    "\n",
    "print(f\"misma matriz en formato dense = {mtx.todense()}\")\n",
    "\n",
    "print(f\"datos no nulos de la matriz ={mtx.data}\")\n",
    "\n",
    "print(f\"índices de columnas = {mtx.indices}\")\n",
    "\n",
    "print(f\"punteros para los índices de datos y filas = {mtx.indptr}\")"
   ]
  },
  {
   "cell_type": "markdown",
   "metadata": {},
   "source": [
    "En el ejemplo anterior, la salida de **indptr** significa:\n",
    "\n",
    "fila 0: [0:2[ tomamos los elementos 0 y 1 de data y los colocamos en las\n",
    "\n",
    "columnas 0 y 3.\n",
    "\n",
    "fila 1: [2:4[ tomamos los elementos 2 y 3 de data y los colocamos en las\n",
    "\n",
    "columnas 2 y 5.\n",
    "\n",
    "fila 2: [4:5[ tomamos el elemento 4 de data y lo colocamos en la \n",
    "\n",
    "columna 3"
   ]
  },
  {
   "cell_type": "markdown",
   "metadata": {},
   "source": [
    "Tenemos otros formatos de almacenar matrices sparse.\n",
    "\n",
    "Véase la [API sparse matrices](https://docs.scipy.org/doc/scipy/reference/sparse.html)\n",
    "\n",
    "Por ejemplo la clase csc_matrix (compressed sparse column)"
   ]
  },
  {
   "cell_type": "code",
   "execution_count": 4,
   "metadata": {},
   "outputs": [
    {
     "name": "stdout",
     "output_type": "stream",
     "text": [
      "A = [[1 0 0 1 0 0]\n",
      " [0 0 2 0 0 1]\n",
      " [0 0 0 2 0 0]]\n",
      "A en formato sparse =\n",
      "   (0, 0)\t1\n",
      "  (1, 2)\t2\n",
      "  (0, 3)\t1\n",
      "  (2, 3)\t2\n",
      "  (1, 5)\t1\n"
     ]
    }
   ],
   "source": [
    "from scipy.sparse import csc_matrix\n",
    "\n",
    "A = np.array([\n",
    "[1, 0, 0, 1, 0, 0],\n",
    "[0, 0, 2, 0, 0, 1],\n",
    "[0, 0, 0, 2, 0, 0]])\n",
    "print(f\"A = {A}\")\n",
    "\n",
    "SC = csc_matrix(A) # convertimos A a formato sparse (clase compressed column matrix)\n",
    "print(f\"A en formato sparse =\\n {SC}\")"
   ]
  },
  {
   "cell_type": "markdown",
   "metadata": {},
   "source": [
    "Aunque a la vista csr y csc parecen iguales, cada una de estas clases (y otras) tienen sus ventajas e inconvenientes según el tipo de operaciones a realizar.\n",
    "\n",
    "Véanse las recomendaciones en la [API sparse matrices](https://docs.scipy.org/doc/scipy/reference/sparse.html)"
   ]
  },
  {
   "cell_type": "markdown",
   "metadata": {},
   "source": [
    "La sparsity de una matriz se mide mediante la fórmula\n",
    "\n",
    "$$\\text{sparsity}(A) = 1-\\frac{\\text{entradas no nulas de A}}\n",
    "{\\text{entradas totales de A}} $$"
   ]
  },
  {
   "cell_type": "code",
   "execution_count": 5,
   "metadata": {},
   "outputs": [
    {
     "name": "stdout",
     "output_type": "stream",
     "text": [
      "sparsity(A) = 0.7222222222222222\n"
     ]
    }
   ],
   "source": [
    "def sparsity(A):\n",
    "    sparsi = 1.0 - np.count_nonzero(A) / A.size\n",
    "    return sparsi\n",
    "\n",
    "print(f\"sparsity(A) = {sparsity(A)}\")"
   ]
  },
  {
   "cell_type": "markdown",
   "metadata": {},
   "source": [
    "Veamos algunas funciones para almacenar matrices **sparse**"
   ]
  },
  {
   "cell_type": "code",
   "execution_count": 6,
   "metadata": {},
   "outputs": [
    {
     "name": "stdout",
     "output_type": "stream",
     "text": [
      "matriz de tamaño 10x5 con unos en la diagonal =\n",
      "   (0, 0)\t1.0\n",
      "  (1, 1)\t1.0\n",
      "  (2, 2)\t1.0\n",
      "  (3, 3)\t1.0\n",
      "  (4, 4)\t1.0\n",
      "matriz identidad de tamaño 5 =\n",
      "   (0, 0)\t1.0\n",
      "  (1, 1)\t1.0\n",
      "  (2, 2)\t1.0\n",
      "  (3, 3)\t1.0\n",
      "  (4, 4)\t1.0\n",
      "elementos no nulos de A =\n",
      " (array([0, 1, 2, 3, 4]), array([0, 1, 2, 3, 4]), array([1., 1., 1., 1., 1.]))\n",
      "matriz sparse de tamaño 10x20 con entradas aleatorias = \n",
      "   (6, 4)\t0.3353360823259467\n",
      "  (5, 11)\t0.08433815451972138\n",
      "  (8, 11)\t0.41849502752251067\n",
      "  (6, 6)\t0.8558356810096571\n",
      "  (3, 4)\t0.686669504285415\n",
      "  (5, 15)\t0.5232840898160459\n",
      "  (8, 9)\t0.6434275540790972\n",
      "  (6, 2)\t0.39460427715105006\n",
      "  (6, 1)\t0.47739065733798614\n",
      "  (7, 9)\t0.32477084812696444\n",
      "  (7, 7)\t0.36933020334089606\n",
      "  (8, 7)\t0.28331954291657857\n",
      "  (0, 12)\t0.475109135646711\n",
      "  (3, 10)\t0.23759517192309698\n",
      "  (5, 0)\t0.04090654955589068\n",
      "  (0, 3)\t0.31564037953668245\n",
      "  (6, 8)\t0.20456220711980855\n",
      "  (3, 11)\t0.16229446107595735\n",
      "  (1, 10)\t0.485208205216618\n",
      "  (4, 10)\t0.6444315047439684\n",
      "  (2, 16)\t0.37649962512379387\n",
      "  (5, 13)\t0.3221096925417172\n",
      "  (2, 6)\t0.7857920748906556\n",
      "  (3, 6)\t0.07434095273677854\n",
      "  (0, 4)\t0.1211132870901449\n",
      "  :\t:\n",
      "  (4, 18)\t0.7336074987904208\n",
      "  (9, 10)\t0.6270553833465033\n",
      "  (1, 1)\t0.5133232933014458\n",
      "  (2, 2)\t0.6387126398149424\n",
      "  (0, 19)\t0.28921277698934433\n",
      "  (7, 14)\t0.7222366715399847\n",
      "  (9, 17)\t0.7945336994445469\n",
      "  (8, 16)\t0.7266282567578901\n",
      "  (4, 11)\t0.7378118813702605\n",
      "  (4, 7)\t0.28108067883358057\n",
      "  (7, 5)\t0.20989995679820628\n",
      "  (7, 15)\t0.04515310436335607\n",
      "  (2, 5)\t0.8125749413669542\n",
      "  (8, 0)\t0.02453384643954004\n",
      "  (8, 5)\t0.877399849263622\n",
      "  (3, 13)\t0.6327212074905092\n",
      "  (1, 12)\t0.26068745154009376\n",
      "  (3, 9)\t0.6560122978868272\n",
      "  (1, 19)\t0.3052722477594624\n",
      "  (6, 16)\t0.17512313788922995\n",
      "  (2, 17)\t0.5704966010520438\n",
      "  (0, 10)\t0.6188159367607631\n",
      "  (4, 12)\t0.11637158458256858\n",
      "  (1, 14)\t0.8769976456139451\n",
      "  (4, 9)\t0.7775686411358493\n"
     ]
    }
   ],
   "source": [
    "from scipy import sparse\n",
    "\n",
    "A = sparse.eye(10,5)\n",
    "print(f\"matriz de tamaño 10x5 con unos en la diagonal =\\n {A}\")\n",
    "\n",
    "B = sparse.identity(5)\n",
    "print(f\"matriz identidad de tamaño 5 =\\n {B}\")\n",
    "\n",
    "print(f\"elementos no nulos de A =\\n {sparse.find(A)}\")\n",
    "\n",
    "C = sparse.random(10, 20, density=0.5) # density = 1 - sparsity\n",
    "print(f\"matriz sparse de tamaño 10x20 con entradas aleatorias = \\n {C}\")\n",
    "\n"
   ]
  },
  {
   "cell_type": "markdown",
   "metadata": {},
   "source": [
    "## Manipulación de matrices desde ficheros de datos"
   ]
  },
  {
   "cell_type": "markdown",
   "metadata": {},
   "source": [
    "Guardamos matrices en ficheros .npz \n",
    "\n",
    ".npz es un formato de fichero de datos de numpy que permite almacenar \n",
    "\n",
    "matrices de datos usando compresión gzip. "
   ]
  },
  {
   "cell_type": "code",
   "execution_count": 7,
   "metadata": {},
   "outputs": [],
   "source": [
    "sparse.save_npz('../data/random_sparse_matrix.npz', C)"
   ]
  },
  {
   "cell_type": "markdown",
   "metadata": {},
   "source": [
    "Cargamos matrices desde ficheros .npz"
   ]
  },
  {
   "cell_type": "code",
   "execution_count": 8,
   "metadata": {},
   "outputs": [
    {
     "name": "stdout",
     "output_type": "stream",
     "text": [
      "  (6, 4)\t0.3353360823259467\n",
      "  (5, 11)\t0.08433815451972138\n",
      "  (8, 11)\t0.41849502752251067\n",
      "  (6, 6)\t0.8558356810096571\n",
      "  (3, 4)\t0.686669504285415\n",
      "  (5, 15)\t0.5232840898160459\n",
      "  (8, 9)\t0.6434275540790972\n",
      "  (6, 2)\t0.39460427715105006\n",
      "  (6, 1)\t0.47739065733798614\n",
      "  (7, 9)\t0.32477084812696444\n",
      "  (7, 7)\t0.36933020334089606\n",
      "  (8, 7)\t0.28331954291657857\n",
      "  (0, 12)\t0.475109135646711\n",
      "  (3, 10)\t0.23759517192309698\n",
      "  (5, 0)\t0.04090654955589068\n",
      "  (0, 3)\t0.31564037953668245\n",
      "  (6, 8)\t0.20456220711980855\n",
      "  (3, 11)\t0.16229446107595735\n",
      "  (1, 10)\t0.485208205216618\n",
      "  (4, 10)\t0.6444315047439684\n",
      "  (2, 16)\t0.37649962512379387\n",
      "  (5, 13)\t0.3221096925417172\n",
      "  (2, 6)\t0.7857920748906556\n",
      "  (3, 6)\t0.07434095273677854\n",
      "  (0, 4)\t0.1211132870901449\n",
      "  :\t:\n",
      "  (4, 18)\t0.7336074987904208\n",
      "  (9, 10)\t0.6270553833465033\n",
      "  (1, 1)\t0.5133232933014458\n",
      "  (2, 2)\t0.6387126398149424\n",
      "  (0, 19)\t0.28921277698934433\n",
      "  (7, 14)\t0.7222366715399847\n",
      "  (9, 17)\t0.7945336994445469\n",
      "  (8, 16)\t0.7266282567578901\n",
      "  (4, 11)\t0.7378118813702605\n",
      "  (4, 7)\t0.28108067883358057\n",
      "  (7, 5)\t0.20989995679820628\n",
      "  (7, 15)\t0.04515310436335607\n",
      "  (2, 5)\t0.8125749413669542\n",
      "  (8, 0)\t0.02453384643954004\n",
      "  (8, 5)\t0.877399849263622\n",
      "  (3, 13)\t0.6327212074905092\n",
      "  (1, 12)\t0.26068745154009376\n",
      "  (3, 9)\t0.6560122978868272\n",
      "  (1, 19)\t0.3052722477594624\n",
      "  (6, 16)\t0.17512313788922995\n",
      "  (2, 17)\t0.5704966010520438\n",
      "  (0, 10)\t0.6188159367607631\n",
      "  (4, 12)\t0.11637158458256858\n",
      "  (1, 14)\t0.8769976456139451\n",
      "  (4, 9)\t0.7775686411358493\n"
     ]
    }
   ],
   "source": [
    "D = sparse.load_npz(\"../data/random_sparse_matrix.npz\")\n",
    "print(D)"
   ]
  }
 ],
 "metadata": {
  "interpreter": {
   "hash": "c9e6f42c9bf154cf9b9e87541e517fa2c69e39349a7d6df0c90be082366bd360"
  },
  "kernelspec": {
   "display_name": "Python 3.8.5 ('base')",
   "language": "python",
   "name": "python3"
  },
  "language_info": {
   "codemirror_mode": {
    "name": "ipython",
    "version": 3
   },
   "file_extension": ".py",
   "mimetype": "text/x-python",
   "name": "python",
   "nbconvert_exporter": "python",
   "pygments_lexer": "ipython3",
   "version": "3.9.18"
  },
  "orig_nbformat": 4
 },
 "nbformat": 4,
 "nbformat_minor": 2
}
