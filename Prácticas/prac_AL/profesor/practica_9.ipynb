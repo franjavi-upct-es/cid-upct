{
 "cells": [
  {
   "cell_type": "markdown",
   "metadata": {},
   "source": [
    "# Práctica 9. Métodos iterativos de resolución de sistemas lineales"
   ]
  },
  {
   "cell_type": "code",
   "execution_count": 81,
   "metadata": {},
   "outputs": [],
   "source": [
    "import numpy as np"
   ]
  },
  {
   "cell_type": "markdown",
   "metadata": {},
   "source": [
    "## Método de Jacobi"
   ]
  },
  {
   "cell_type": "code",
   "execution_count": 82,
   "metadata": {},
   "outputs": [],
   "source": [
    "def jacobi(A, b, tolerance=1e-10, max_iterations=10000):\n",
    "    \n",
    "    x = np.zeros_like(b, dtype=np.double)\n",
    "    \n",
    "    T = A - np.diag(np.diagonal(A))\n",
    "    \n",
    "    for k in range(max_iterations):\n",
    "        \n",
    "        x_old  = x.copy()\n",
    "        \n",
    "        x[:] = (b - np.dot(T, x)) / np.diagonal(A)\n",
    "\n",
    "        num_error = np.linalg.norm(x - x_old, ord=np.inf)\n",
    "        den_error = np.linalg.norm(x, ord=np.inf)        \n",
    "        error =  num_error / den_error \n",
    "        \n",
    "        if error < tolerance:\n",
    "            break\n",
    "            \n",
    "    return x\n"
   ]
  },
  {
   "cell_type": "markdown",
   "metadata": {},
   "source": [
    "Aplicamos el método de Jacobi al sistema\n",
    "\n",
    "$$\n",
    "    \\left\\{\\begin{array}{ll}\n",
    "    8 x_1 + 3x_2 -3x_3 & = 14 \\\\\n",
    "    -2x_1 -8x_2 + 5x_3 & = 5\\\\\n",
    "    3x_1 + 5x_2 +10 x_3 & = -8\n",
    "    \\end{array}\n",
    "    \\right.\n",
    "$$ \n"
   ]
  },
  {
   "cell_type": "code",
   "execution_count": 83,
   "metadata": {},
   "outputs": [
    {
     "name": "stdout",
     "output_type": "stream",
     "text": [
      "x = [ 2.08880309 -1.55341055 -0.64993565]\n"
     ]
    }
   ],
   "source": [
    "A = np.array([\n",
    "    [8, 3, -3],\n",
    "    [-2, -8, 5],\n",
    "    [3, 5, 10]\n",
    "])\n",
    "\n",
    "b = np.array([14, 5, -8])\n",
    "\n",
    "x = jacobi(A, b)\n",
    "\n",
    "print(f\"x = {x}\")"
   ]
  },
  {
   "cell_type": "markdown",
   "metadata": {},
   "source": [
    "## Método de Gauss-Seidel\n",
    "\n"
   ]
  },
  {
   "cell_type": "code",
   "execution_count": 84,
   "metadata": {},
   "outputs": [],
   "source": [
    "def gauss_seidel(A, b, tolerance=1e-10, max_iterations=10000):\n",
    "    \n",
    "    x = np.zeros_like(b, dtype=np.double)\n",
    "    \n",
    "    #Iteraciones\n",
    "    for k in range(max_iterations):\n",
    "        \n",
    "        x_old  = x.copy()\n",
    "        \n",
    "        # bucle sobre las filas\n",
    "        for i in range(A.shape[0]):\n",
    "            x[i] = (\n",
    "                b[i] - np.dot(A[i,:i], x[:i]) \n",
    "                - np.dot(A[i,(i+1):], x_old[(i+1):])\n",
    "                ) / A[i ,i]\n",
    "            \n",
    "        # condición de parada\n",
    "\n",
    "        num_error = np.linalg.norm(x - x_old, ord=np.inf)\n",
    "        den_error = np.linalg.norm(x, ord=np.inf)\n",
    "        error =  num_error / den_error \n",
    "        \n",
    "        if  error < tolerance:\n",
    "            break\n",
    "            \n",
    "    return x\n"
   ]
  },
  {
   "cell_type": "markdown",
   "metadata": {},
   "source": [
    "Aplicamos el método de Gauss-Seidel al mismo sistema\n",
    "\n",
    "$$\n",
    "    \\left\\{\\begin{array}{ll}\n",
    "    8 x_1 + 3x_2 -3x_3 & = 14 \\\\\n",
    "    -2x_1 -8x_2 + 5x_3 & = 5\\\\\n",
    "    3x_1 + 5x_2 +10 x_3 & = -8\n",
    "    \\end{array}\n",
    "    \\right.\n",
    "$$ \n"
   ]
  },
  {
   "cell_type": "code",
   "execution_count": 85,
   "metadata": {},
   "outputs": [
    {
     "name": "stdout",
     "output_type": "stream",
     "text": [
      "x = [ 2.08880309 -1.55341055 -0.64993565]\n"
     ]
    }
   ],
   "source": [
    "A = np.array([\n",
    "    [8, 3, -3],\n",
    "    [-2, -8, 5],\n",
    "    [3, 5, 10]\n",
    "])\n",
    "\n",
    "b = np.array([14, 5, -8])\n",
    "\n",
    "x = gauss_seidel(A, b)\n",
    "\n",
    "print(f\"x = {x}\")"
   ]
  },
  {
   "cell_type": "markdown",
   "metadata": {},
   "source": [
    "Repasemos de nuevo el método de Gauss-Seidel para este caso concreto"
   ]
  },
  {
   "cell_type": "code",
   "execution_count": 86,
   "metadata": {},
   "outputs": [
    {
     "name": "stdout",
     "output_type": "stream",
     "text": [
      "matriz diagonalmente dominante\n"
     ]
    }
   ],
   "source": [
    "# Introducimos la matriz del sistema y vemos que es diagonal dominante\n",
    "import numpy as np\n",
    "\n",
    "A = [[8, 3, -3], [-2, -8, 5], [3, 5, 10]]\n",
    "\n",
    "# calculamos el valor absoluto de los elementos de la diagonal principal\n",
    "diag = np.diag(np.abs(A)) \n",
    "\n",
    "# sumamos el valor absoluto de los elementos de la fila menos los de la diagonal\n",
    "off_diag = np.sum(np.abs(A), axis=1) - diag \n",
    "\n",
    "if np.all(diag > off_diag):\n",
    "    print('matriz diagonalmente dominante')\n",
    "else:\n",
    "    print('matriz NO diagonalmente dominante')"
   ]
  },
  {
   "cell_type": "code",
   "execution_count": 87,
   "metadata": {},
   "outputs": [
    {
     "name": "stdout",
     "output_type": "stream",
     "text": [
      "Resultados de las iterationes\n",
      " k,    x1,    x2,    x3 \n",
      "1, 1.7500, -1.0625, -0.7937\n",
      "2, 1.8508, -1.5838, -0.5633\n",
      "3, 2.1327, -1.5103, -0.6847\n",
      "4, 2.0596, -1.5678, -0.6340\n",
      "5, 2.1002, -1.5463, -0.6569\n",
      "6, 2.0835, -1.5565, -0.6468\n",
      "7, 2.0911, -1.5520, -0.6513\n",
      "Convergencia!\n"
     ]
    }
   ],
   "source": [
    "# initial guess\n",
    "x1 = 0\n",
    "x2 = 0\n",
    "x3 = 0\n",
    "epsilon = 0.01 # tolerancia para el criterio de parada (threshold)\n",
    "converged = False\n",
    "\n",
    "x_old = np.array([x1, x2, x3])\n",
    "\n",
    "print('Resultados de las iterationes')\n",
    "print(' k,    x1,    x2,    x3 ')\n",
    "for k in range(1, 50):\n",
    "    x1 = (14-3*x2+3*x3)/8\n",
    "    x2 = (5+2*x1-5*x3)/(-8)\n",
    "    x3 = (-8-3*x1-5*x2)/(10)\n",
    "    x = np.array([x1, x2, x3])\n",
    "    # test para el criterio de parada\n",
    "    dx = np.sqrt(np.dot(x-x_old, x-x_old))\n",
    "    \n",
    "    print(\"%d, %.4f, %.4f, %.4f\"%(k, x1, x2, x3))\n",
    "    if dx < epsilon:\n",
    "        converged = True\n",
    "        print('Convergencia!')\n",
    "        break\n",
    "        \n",
    "    # actualizamos el valor de x\n",
    "    x_old = x\n",
    "\n",
    "if not converged:\n",
    "    print('No converge, aumenta el número de iteraciones')"
   ]
  }
 ],
 "metadata": {
  "interpreter": {
   "hash": "c9e6f42c9bf154cf9b9e87541e517fa2c69e39349a7d6df0c90be082366bd360"
  },
  "kernelspec": {
   "display_name": "Python 3.8.5 ('base')",
   "language": "python",
   "name": "python3"
  },
  "language_info": {
   "codemirror_mode": {
    "name": "ipython",
    "version": 3
   },
   "file_extension": ".py",
   "mimetype": "text/x-python",
   "name": "python",
   "nbconvert_exporter": "python",
   "pygments_lexer": "ipython3",
   "version": "3.8.5"
  },
  "orig_nbformat": 4
 },
 "nbformat": 4,
 "nbformat_minor": 2
}
