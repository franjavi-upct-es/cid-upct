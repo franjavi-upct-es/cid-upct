{
 "cells": [
  {
   "cell_type": "markdown",
   "metadata": {},
   "source": [
    "# Práctica 2: Introducción a N-dimensional arrays en Python "
   ]
  },
  {
   "cell_type": "markdown",
   "metadata": {},
   "source": [
    "## Introducción a NumPy N-dimensional arrays (ndarray para abreviar)\n",
    "\n",
    "[The N-dimensional array](https://docs.scipy.org/doc/numpy-1.13.0/reference/arrays.ndarray.html)"
   ]
  },
  {
   "cell_type": "markdown",
   "metadata": {},
   "source": [
    "**ndarray** es la forma más usual para almacenar datos y trabajar con ellos\n",
    " en el módulo numpy de Python.\n",
    "\n",
    " Para fijar ideas, podemos imaginar que un **ndarray** es simplemente un vector \n",
    " o una matriz.\n",
    "\n",
    " Veamos cómo se crea un **ndarray**"
   ]
  },
  {
   "cell_type": "code",
   "execution_count": 12,
   "metadata": {},
   "outputs": [],
   "source": [
    "# importamos el módulo numpy the Python\n",
    "\n",
    "import numpy as np"
   ]
  },
  {
   "cell_type": "code",
   "execution_count": 13,
   "metadata": {},
   "outputs": [
    {
     "name": "stdout",
     "output_type": "stream",
     "text": [
      "[1 4 3]\n",
      "<class 'numpy.ndarray'>\n",
      "(3,)\n",
      "3\n",
      "int64\n"
     ]
    }
   ],
   "source": [
    "# definimos un vector de 3 componentes (1d-array)\n",
    "x = np.array([1, 4, 3])\n",
    "print(x)\n",
    "print(type(x)) # tipo de dato\n",
    "\n",
    "# veamos algunos atributos (características) del array\n",
    "print(x.shape) # forma o dimensión del array\n",
    "print(x.size)  # tamaño del array\n",
    "print(x.dtype) # tipo de datos que contiene\n"
   ]
  },
  {
   "cell_type": "code",
   "execution_count": 14,
   "metadata": {},
   "outputs": [
    {
     "name": "stdout",
     "output_type": "stream",
     "text": [
      "[[1 4 3]\n",
      " [9 2 7]]\n",
      "<class 'numpy.ndarray'>\n",
      "(2, 3)\n",
      "6\n",
      "int64\n"
     ]
    }
   ],
   "source": [
    "# definimos un matriz (2d-array)\n",
    "y = np.array([[1, 4, 3], [9, 2, 7]])\n",
    "print(y)\n",
    "print(type(y)) # tipo de dato\n",
    "\n",
    "# veamos algunos **atributos** (características) del array\n",
    "print(y.shape) # forma o dimensión del array\n",
    "print(y.size)  # tamaño del array\n",
    "print(y.dtype) # tipo de datos que contiene\n"
   ]
  },
  {
   "cell_type": "markdown",
   "metadata": {},
   "source": [
    "Algunas funciones usuales para crear un ndarray son:"
   ]
  },
  {
   "cell_type": "code",
   "execution_count": 15,
   "metadata": {},
   "outputs": [
    {
     "name": "stdout",
     "output_type": "stream",
     "text": [
      "[[0. 0. 0.]\n",
      " [0. 0. 0.]\n",
      " [0. 0. 0.]]\n"
     ]
    }
   ],
   "source": [
    "# array de ceros de tamaño especificado\n",
    "a = np.zeros([3,3])\n",
    "print(a)"
   ]
  },
  {
   "cell_type": "code",
   "execution_count": 16,
   "metadata": {},
   "outputs": [
    {
     "name": "stdout",
     "output_type": "stream",
     "text": [
      "[1. 1. 1. 1. 1.]\n"
     ]
    }
   ],
   "source": [
    "# array de unos de tamaño especificado\n",
    "b = np.ones([5])\n",
    "print(b)\n"
   ]
  },
  {
   "cell_type": "code",
   "execution_count": 17,
   "metadata": {},
   "outputs": [
    {
     "name": "stdout",
     "output_type": "stream",
     "text": [
      "[1.  1.5 2.  2.5 3.  3.5 4.  4.5]\n"
     ]
    }
   ],
   "source": [
    "# array donde se especifica el inicio, el final (no incluido) y el paso\n",
    "c = np.arange(1, 5, 0.5)\n",
    "print(c)"
   ]
  },
  {
   "cell_type": "code",
   "execution_count": 25,
   "metadata": {},
   "outputs": [
    {
     "name": "stdout",
     "output_type": "stream",
     "text": [
      "[0.+0.j 0.+1.j 0.+2.j 0.+3.j 0.+4.j]\n",
      "[2.+0.j 2.+0.j 2.+0.j 2.+0.j]\n"
     ]
    }
   ],
   "source": [
    "# para el caso de que el array contenga números complejos\n",
    "array_complex = 1j * np.arange(5)\n",
    "print(array_complex)\n",
    "\n",
    "# otro ejemplo\n",
    "z = np.ones(4, dtype=complex)*2 \n",
    "print(z)"
   ]
  },
  {
   "cell_type": "code",
   "execution_count": 18,
   "metadata": {},
   "outputs": [
    {
     "name": "stdout",
     "output_type": "stream",
     "text": [
      "[0.         0.11111111 0.22222222 0.33333333 0.44444444 0.55555556\n",
      " 0.66666667 0.77777778 0.88888889 1.        ]\n"
     ]
    }
   ],
   "source": [
    "# array donde se especifica el inicio, final (incluido) y el número de \n",
    "# elementos equiespaciados\n",
    "d = np.linspace(0, 1, 10)\n",
    "print(d)"
   ]
  },
  {
   "cell_type": "markdown",
   "metadata": {},
   "source": [
    "Combinando ndarrays: Apilamiento (**stack**) horizontal y vertical.\n",
    "\n",
    "En muchas ocasiones es necesario apilar datos de forma horizontal o vertical."
   ]
  },
  {
   "cell_type": "code",
   "execution_count": 21,
   "metadata": {},
   "outputs": [
    {
     "name": "stdout",
     "output_type": "stream",
     "text": [
      "[1 2 3]\n",
      "[4 5 6]\n",
      "[[1 2 3]\n",
      " [4 5 6]]\n",
      "(2, 3)\n"
     ]
    }
   ],
   "source": [
    "# creamos un primer array\n",
    "a1 = np.array([1, 2, 3])\n",
    "print(a1)\n",
    "# creamos un segundo array\n",
    "a2 = np.array([4, 5, 6])\n",
    "print(a2)\n",
    "# vertical stack (apilamiento vertical)\n",
    "a3 = np.vstack((a1, a2))\n",
    "print(a3)\n",
    "print(a3.shape)"
   ]
  },
  {
   "cell_type": "code",
   "execution_count": 22,
   "metadata": {},
   "outputs": [
    {
     "name": "stdout",
     "output_type": "stream",
     "text": [
      "[1 2 3 4 5 6]\n",
      "(6,)\n"
     ]
    }
   ],
   "source": [
    "# horizontal stack (apilamiento horizontal)\n",
    "a4 = np.hstack((a1, a2))\n",
    "print(a4)\n",
    "print(a4.shape)"
   ]
  },
  {
   "cell_type": "markdown",
   "metadata": {},
   "source": [
    "En ocasiones, los datos a estudiar aparecen en otra estructura de datos, por \n",
    "ejemplo en el tipo **lista** . Las listas son colecciones indexadas de datos.\n",
    "Se escriben entre corchetes con sus elementos separados por comas. \n",
    "\n",
    "Para **transformar una lista en un ndarray** :"
   ]
  },
  {
   "cell_type": "code",
   "execution_count": null,
   "metadata": {},
   "outputs": [
    {
     "name": "stdout",
     "output_type": "stream",
     "text": [
      "[1, 2, 3]\n",
      "<class 'list'>\n",
      "[1 2 3]\n",
      "<class 'numpy.ndarray'>\n"
     ]
    }
   ],
   "source": [
    "lista = [1, 2, 3] # esto es una lista en Python\n",
    "print(lista)\n",
    "print(type(lista))\n",
    "\n",
    "vector = np.array(lista) # convertimos la lista en un 1d-array (vector)\n",
    "print(vector)\n",
    "print(type(vector))"
   ]
  },
  {
   "cell_type": "code",
   "execution_count": null,
   "metadata": {},
   "outputs": [
    {
     "name": "stdout",
     "output_type": "stream",
     "text": [
      "[[11, 22], [33, 44], [55, 66]]\n",
      "<class 'list'>\n",
      "[[11 22]\n",
      " [33 44]\n",
      " [55 66]]\n",
      "<class 'numpy.ndarray'>\n",
      "(3, 2)\n"
     ]
    }
   ],
   "source": [
    "# Otra lista (de lista) de datos\n",
    "data = [[11, 22],\n",
    "[33, 44],\n",
    "[55, 66]]\n",
    "print(data)\n",
    "print(type(data))\n",
    "\n",
    "# convertimos la lista en un 2d-array (matriz)\n",
    "data = np.array(data)\n",
    "print(data)\n",
    "print(type(data))\n",
    "print(data.shape)"
   ]
  },
  {
   "cell_type": "markdown",
   "metadata": {},
   "source": [
    "Otro tipo de datos son las **tuplas**. Muy similares a las listas, pero una vez \n",
    "creada una tupla, sus elem,entos no se pueden cambiar. Las tuplas son inmutables.\n",
    "Se escriben entre paréntesis con sus elementos separados por comas \n",
    "\n",
    "Para **transformar tuplas en ndarrays** : "
   ]
  },
  {
   "cell_type": "code",
   "execution_count": 26,
   "metadata": {},
   "outputs": [
    {
     "name": "stdout",
     "output_type": "stream",
     "text": [
      "(1, 2, 3)\n",
      "<class 'tuple'>\n",
      "[1 2 3]\n",
      "<class 'numpy.ndarray'>\n"
     ]
    }
   ],
   "source": [
    "tupla = (1, 2, 3) # esto es una tupla en Python\n",
    "print(tupla)\n",
    "print(type(tupla))\n",
    "\n",
    "vector = np.array(tupla) # convertimos la tupla en un 1d-array (vector)\n",
    "print(vector)\n",
    "print(type(vector))"
   ]
  }
 ],
 "metadata": {
  "interpreter": {
   "hash": "c9e6f42c9bf154cf9b9e87541e517fa2c69e39349a7d6df0c90be082366bd360"
  },
  "kernelspec": {
   "display_name": "Python 3.8.5 ('base')",
   "language": "python",
   "name": "python3"
  },
  "language_info": {
   "codemirror_mode": {
    "name": "ipython",
    "version": 3
   },
   "file_extension": ".py",
   "mimetype": "text/x-python",
   "name": "python",
   "nbconvert_exporter": "python",
   "pygments_lexer": "ipython3",
   "version": "3.8.5"
  },
  "orig_nbformat": 4
 },
 "nbformat": 4,
 "nbformat_minor": 2
}
