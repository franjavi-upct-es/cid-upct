{
 "cells": [
  {
   "cell_type": "markdown",
   "metadata": {},
   "source": [
    "# Práctica 1: Números reales y complejos en Python "
   ]
  },
  {
   "cell_type": "markdown",
   "metadata": {},
   "source": [
    "## Números reales"
   ]
  },
  {
   "cell_type": "markdown",
   "metadata": {},
   "source": [
    "Otenemos información sobre la representación en Python de números en punto flotante"
   ]
  },
  {
   "cell_type": "code",
   "execution_count": 1,
   "metadata": {},
   "outputs": [
    {
     "data": {
      "text/plain": [
       "sys.float_info(max=1.7976931348623157e+308, max_exp=1024, max_10_exp=308, min=2.2250738585072014e-308, min_exp=-1021, min_10_exp=-307, dig=15, mant_dig=53, epsilon=2.220446049250313e-16, radix=2, rounds=1)"
      ]
     },
     "execution_count": 1,
     "metadata": {},
     "output_type": "execute_result"
    }
   ],
   "source": [
    "import sys\n",
    "\n",
    "sys.float_info"
   ]
  },
  {
   "cell_type": "markdown",
   "metadata": {},
   "source": [
    "Números en el módulo NumPy"
   ]
  },
  {
   "cell_type": "code",
   "execution_count": 2,
   "metadata": {},
   "outputs": [],
   "source": [
    "import numpy as np"
   ]
  },
  {
   "cell_type": "markdown",
   "metadata": {},
   "source": [
    "Calculamos la distancia entre el número $10^9$ y el número más próximo a él"
   ]
  },
  {
   "cell_type": "code",
   "execution_count": 3,
   "metadata": {},
   "outputs": [
    {
     "data": {
      "text/plain": [
       "1.1920928955078125e-07"
      ]
     },
     "execution_count": 3,
     "metadata": {},
     "output_type": "execute_result"
    }
   ],
   "source": [
    "np.spacing(1e9)"
   ]
  },
  {
   "cell_type": "markdown",
   "metadata": {},
   "source": [
    "En efecto:"
   ]
  },
  {
   "cell_type": "code",
   "execution_count": 4,
   "metadata": {},
   "outputs": [
    {
     "data": {
      "text/plain": [
       "True"
      ]
     },
     "execution_count": 4,
     "metadata": {},
     "output_type": "execute_result"
    }
   ],
   "source": [
    "1e9 == (1e9 + np.spacing(1e9)/3)"
   ]
  },
  {
   "cell_type": "markdown",
   "metadata": {},
   "source": [
    "Los números no están equiespaciados en un ordenador. En efecto:"
   ]
  },
  {
   "cell_type": "code",
   "execution_count": 5,
   "metadata": {},
   "outputs": [
    {
     "data": {
      "text/plain": [
       "4.440892098500626e-16"
      ]
     },
     "execution_count": 5,
     "metadata": {},
     "output_type": "execute_result"
    }
   ],
   "source": [
    "np.spacing(2)"
   ]
  },
  {
   "cell_type": "markdown",
   "metadata": {},
   "source": [
    "**Error de redondeo (round-off-error):**\n",
    "\n",
    "es la diferencia entre la aproximación de un número (tal y como se guarda en\n",
    "\n",
    "un ordenador) y el verdadero valor del número. "
   ]
  },
  {
   "cell_type": "code",
   "execution_count": 6,
   "metadata": {},
   "outputs": [
    {
     "data": {
      "text/plain": [
       "False"
      ]
     },
     "execution_count": 6,
     "metadata": {},
     "output_type": "execute_result"
    }
   ],
   "source": [
    "4.9 - 4.845 == 0.055"
   ]
  },
  {
   "cell_type": "code",
   "execution_count": 7,
   "metadata": {},
   "outputs": [
    {
     "data": {
      "text/plain": [
       "0.055000000000000604"
      ]
     },
     "execution_count": 7,
     "metadata": {},
     "output_type": "execute_result"
    }
   ],
   "source": [
    "4.9 - 4.845"
   ]
  },
  {
   "cell_type": "markdown",
   "metadata": {},
   "source": [
    "otro ejemplo de errores de redondeo en aritmética y cómo solucionarlo"
   ]
  },
  {
   "cell_type": "code",
   "execution_count": 8,
   "metadata": {},
   "outputs": [
    {
     "data": {
      "text/plain": [
       "False"
      ]
     },
     "execution_count": 8,
     "metadata": {},
     "output_type": "execute_result"
    }
   ],
   "source": [
    "0.1 + 0.2 + 0.3 == 0.6\n"
   ]
  },
  {
   "cell_type": "code",
   "execution_count": 9,
   "metadata": {},
   "outputs": [
    {
     "data": {
      "text/plain": [
       "0.6000000000000001"
      ]
     },
     "execution_count": 9,
     "metadata": {},
     "output_type": "execute_result"
    }
   ],
   "source": [
    "0.1 + 0.2 + 0.3"
   ]
  },
  {
   "cell_type": "code",
   "execution_count": 10,
   "metadata": {},
   "outputs": [
    {
     "data": {
      "text/plain": [
       "True"
      ]
     },
     "execution_count": 10,
     "metadata": {},
     "output_type": "execute_result"
    }
   ],
   "source": [
    "round(0.1 + 0.2 + 0.3, 5)  == round(0.6, 5)"
   ]
  },
  {
   "cell_type": "markdown",
   "metadata": {},
   "source": [
    "Acumulación de errores de redondeo"
   ]
  },
  {
   "cell_type": "code",
   "execution_count": 11,
   "metadata": {},
   "outputs": [],
   "source": [
    "def add_and_subtract(iterations):\n",
    "    result = 1\n",
    "    \n",
    "    for i in range(iterations):\n",
    "        result += 1/3\n",
    "\n",
    "    for i in range(iterations):\n",
    "        result -= 1/3\n",
    "    return result"
   ]
  },
  {
   "cell_type": "code",
   "execution_count": 12,
   "metadata": {},
   "outputs": [
    {
     "data": {
      "text/plain": [
       "1.0000000000000002"
      ]
     },
     "execution_count": 12,
     "metadata": {},
     "output_type": "execute_result"
    }
   ],
   "source": [
    "# Si lo hacemos 100 veces\n",
    "add_and_subtract(100)"
   ]
  },
  {
   "cell_type": "code",
   "execution_count": 13,
   "metadata": {},
   "outputs": [
    {
     "data": {
      "text/plain": [
       "1.0000000000000064"
      ]
     },
     "execution_count": 13,
     "metadata": {},
     "output_type": "execute_result"
    }
   ],
   "source": [
    "# 1000 veces\n",
    "add_and_subtract(1000)"
   ]
  },
  {
   "cell_type": "markdown",
   "metadata": {},
   "source": [
    "## Números complejos"
   ]
  },
  {
   "cell_type": "markdown",
   "metadata": {},
   "source": []
  },
  {
   "cell_type": "markdown",
   "metadata": {},
   "source": []
  },
  {
   "cell_type": "markdown",
   "metadata": {},
   "source": [
    "En Python podemos trabajar con números complejos usando los módulos \n",
    "[cmath](https://docs.python.org/3/library/cmath.html) y [numpy](https://numpy.org/)"
   ]
  },
  {
   "cell_type": "markdown",
   "metadata": {},
   "source": [
    "### Números complejos con cmath"
   ]
  },
  {
   "cell_type": "code",
   "execution_count": 14,
   "metadata": {},
   "outputs": [],
   "source": [
    "# importamos \"cmath\" para operaciones con números complejos\n",
    "import cmath"
   ]
  },
  {
   "cell_type": "markdown",
   "metadata": {},
   "source": [
    "### Formas cartesiana, binómica y polar de un número complejo"
   ]
  },
  {
   "cell_type": "code",
   "execution_count": 15,
   "metadata": {},
   "outputs": [],
   "source": [
    "# Inicializamos dos números reales\n",
    "x = 1.0\n",
    "y = 1.0"
   ]
  },
  {
   "cell_type": "code",
   "execution_count": 16,
   "metadata": {},
   "outputs": [
    {
     "name": "stdout",
     "output_type": "stream",
     "text": [
      "<class 'complex'>\n"
     ]
    }
   ],
   "source": [
    "# los convertimos a forma binómica\n",
    "z = complex(x,y)\n",
    "print(type(z))\n"
   ]
  },
  {
   "cell_type": "code",
   "execution_count": 17,
   "metadata": {},
   "outputs": [
    {
     "name": "stdout",
     "output_type": "stream",
     "text": [
      "parte real de z = 1.0\n",
      "parte imaginaria de z = 1.0\n"
     ]
    }
   ],
   "source": [
    "# accedemos a las partes real y compleja de z\n",
    "print(f\"parte real de z = {z.real}\")\n",
    "print(f\"parte imaginaria de z = {z.imag}\")"
   ]
  },
  {
   "cell_type": "code",
   "execution_count": 18,
   "metadata": {},
   "outputs": [
    {
     "name": "stdout",
     "output_type": "stream",
     "text": [
      "El módulo y argumento son :  (1.4142135623730951, 0.7853981633974483)\n"
     ]
    }
   ],
   "source": [
    "# lo convertimos a forma polar (argumentos en radianes)\n",
    "w = cmath.polar(z)\n",
    "print (f\"El módulo y argumento son :  {w}\")\n"
   ]
  },
  {
   "cell_type": "code",
   "execution_count": 19,
   "metadata": {},
   "outputs": [
    {
     "name": "stdout",
     "output_type": "stream",
     "text": [
      "módulo de z = 1.4142135623730951\n",
      "la fase o argumento de w = 0.7853981633974483\n"
     ]
    }
   ],
   "source": [
    "# también los podemos calcular así\n",
    "\n",
    "print(f\"módulo de z = {abs(z)}\")\n",
    "print(f\"la fase o argumento de w = {cmath.phase(z)}\")\n"
   ]
  },
  {
   "cell_type": "code",
   "execution_count": 20,
   "metadata": {},
   "outputs": [
    {
     "name": "stdout",
     "output_type": "stream",
     "text": [
      "la fase o argumento de u = 3.141592653589793\n"
     ]
    }
   ],
   "source": [
    "# la fase la calcula en radianes, en el rango (-pi, pi]\n",
    "u = -1 + 0j\n",
    "print(f\"la fase o argumento de u = {cmath.phase(u)}\")\n"
   ]
  },
  {
   "cell_type": "code",
   "execution_count": 21,
   "metadata": {},
   "outputs": [
    {
     "name": "stdout",
     "output_type": "stream",
     "text": [
      "Argumento (en grados): 45.0\n"
     ]
    }
   ],
   "source": [
    "# si queremos el ángulo en grados\n",
    "\n",
    "import numpy as np\n",
    "\n",
    "print('Argumento (en grados):', np.rad2deg(w[1]))\n",
    "\n",
    "#  para pasar de grados a radianes: np.deg2rad"
   ]
  },
  {
   "cell_type": "markdown",
   "metadata": {},
   "source": []
  },
  {
   "cell_type": "code",
   "execution_count": 22,
   "metadata": {},
   "outputs": [
    {
     "name": "stdout",
     "output_type": "stream",
     "text": [
      "forma binómica de w = (1.0000000000000002+1.0000000000000002j)\n"
     ]
    }
   ],
   "source": [
    "# para volver a la forma binómica\n",
    "\n",
    "print(\n",
    "    f\"forma binómica de w = {cmath.rect(1.4142135623730951, 0.7853981633974483)}\"\n",
    "    )"
   ]
  },
  {
   "cell_type": "markdown",
   "metadata": {},
   "source": [
    "### Operaciones con números complejos: suma, producto, etc."
   ]
  },
  {
   "cell_type": "code",
   "execution_count": 23,
   "metadata": {},
   "outputs": [
    {
     "name": "stdout",
     "output_type": "stream",
     "text": [
      "c1+c2 = (1-0.5j)\n",
      "c1-c2 = (1-1.5j)\n",
      "c1*c2 = (0.5+0.5j)\n",
      "c1/c2 = (-2-2j)\n",
      "inverso de c1 = (0.5+0.5j)\n",
      "conjugado de c1 = (1+1j)\n",
      "potencia 4 de c2 = (0.0625+0j) \n"
     ]
    }
   ],
   "source": [
    "c1 = 1 - 1j\n",
    "c2 = 0 + 0.5j\n",
    "\n",
    "print(f\"c1+c2 = {c1 + c2}\")\n",
    "print(f\"c1-c2 = {c1 - c2}\")\n",
    "print(f\"c1*c2 = {c1 * c2}\")\n",
    "print(f\"c1/c2 = {c1 / c2}\")\n",
    "print(f\"inverso de c1 = {1 / c1}\")\n",
    "print(f\"conjugado de c1 = {c1.conjugate()}\")\n",
    "print(f\"potencia 4 de c2 = {c2 ** 4} \")\n",
    "\n"
   ]
  },
  {
   "cell_type": "markdown",
   "metadata": {},
   "source": [
    "### La función exponencial compleja \n",
    "\n",
    "$e^{z}=e^{\\text{Re} z}\\left( \\cos(\\text{Im} z) +  \\sin(\\text{Im} z)\\right) j$"
   ]
  },
  {
   "cell_type": "code",
   "execution_count": 24,
   "metadata": {},
   "outputs": [
    {
     "name": "stdout",
     "output_type": "stream",
     "text": [
      "(-1+1.2246467991473532e-16j)\n"
     ]
    }
   ],
   "source": [
    "z = complex(0, cmath.pi)\n",
    "print(cmath.exp(z))"
   ]
  },
  {
   "cell_type": "markdown",
   "metadata": {},
   "source": []
  },
  {
   "cell_type": "markdown",
   "metadata": {},
   "source": [
    "Más información sobre el módulo \n",
    "[cmath](https://docs.python.org/3/library/cmath.html)\n",
    " "
   ]
  },
  {
   "cell_type": "markdown",
   "metadata": {},
   "source": [
    "### Números complejos con [numpy](https://numpy.org/doc/stable/reference/generated/numpy.real.html)\n",
    "\n",
    "Cuando las entradas de vectores o matrices sean números complejos debemos usar \n",
    "el módulo numpy. \n",
    "\n",
    "Veamos cómo se trabaja en este módulo con los numeros complejos"
   ]
  },
  {
   "cell_type": "markdown",
   "metadata": {},
   "source": []
  },
  {
   "cell_type": "code",
   "execution_count": 25,
   "metadata": {},
   "outputs": [],
   "source": [
    "# importamos el módulo numpy\n",
    "\n",
    "import numpy as np"
   ]
  },
  {
   "cell_type": "markdown",
   "metadata": {},
   "source": [
    "### Operaciones con números complejos en numpy"
   ]
  },
  {
   "cell_type": "code",
   "execution_count": 26,
   "metadata": {},
   "outputs": [
    {
     "name": "stdout",
     "output_type": "stream",
     "text": [
      "z = 3.141592653589793j\n",
      "parte real = 1.0\n",
      "parte imaginaria = 1.0\n",
      "módulo =  1.4142135623730951\n",
      "fase (argumento) (en radianes) =  0.7853981633974483\n",
      "fase (argumento) (en grados) =  45.0\n",
      "conjugado =  (1-1j)\n"
     ]
    }
   ],
   "source": [
    "x = 1.0\n",
    "y = 1.0\n",
    "\n",
    "c = complex(x, y)\n",
    "\n",
    "print(f\"z = {z}\")\n",
    "print(f\"parte real = {c.real}\")\n",
    "print(f\"parte imaginaria = {c.imag}\")\n",
    "print('módulo = ', np.abs(c))\n",
    "print('fase (argumento) (en radianes) = ', np.angle(c))\n",
    "print('fase (argumento) (en grados) = ', np.rad2deg(np.angle(c)))\n",
    "print(\"conjugado = \",np.conj(c))"
   ]
  },
  {
   "cell_type": "markdown",
   "metadata": {},
   "source": [
    "Las operaciones suma, resta, producto, división, potencia e inverso se hace \n",
    "como antes."
   ]
  }
 ],
 "metadata": {
  "interpreter": {
   "hash": "c9e6f42c9bf154cf9b9e87541e517fa2c69e39349a7d6df0c90be082366bd360"
  },
  "kernelspec": {
   "display_name": "Python 3.8.5 ('base')",
   "language": "python",
   "name": "python3"
  },
  "language_info": {
   "codemirror_mode": {
    "name": "ipython",
    "version": 3
   },
   "file_extension": ".py",
   "mimetype": "text/x-python",
   "name": "python",
   "nbconvert_exporter": "python",
   "pygments_lexer": "ipython3",
   "version": "3.9.12"
  },
  "orig_nbformat": 4
 },
 "nbformat": 4,
 "nbformat_minor": 2
}
